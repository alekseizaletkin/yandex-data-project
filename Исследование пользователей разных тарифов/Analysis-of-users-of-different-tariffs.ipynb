{
 "cells": [
  {
   "cell_type": "markdown",
   "id": "8002ae63",
   "metadata": {},
   "source": [
    "# Исследование пользователей разных тарифов "
   ]
  },
  {
   "cell_type": "markdown",
   "id": "b09607fb",
   "metadata": {},
   "source": [
    "***Цель исследования*** - выявить тариф, который лучше продается и приносит большую прибыль"
   ]
  },
  {
   "cell_type": "markdown",
   "id": "c00a492d",
   "metadata": {},
   "source": [
    "***Описание проекта***\n",
    "\n",
    "Входные данные - данные 500 пользователей: кто они, откуда, каким тарифом пользуются, сколько звонков и сообщений каждый отправил за 2018 год\n",
    "\n",
    "Клиентам предлагается два тарифа: \n",
    "\n",
    "***Тариф «Смарт»***\n",
    "\n",
    "- Ежемесячная плата: 550 рублей\n",
    "- Включено 500 минут разговора, 50 сообщений и 15 Гб интернет-трафика\n",
    "- Стоимость услуг сверх тарифного пакета:\n",
    "минута разговора: 3 рубля, сообщение: 3 рубля, 1 Гб интернет-трафика: 200 рублей\n",
    "\n",
    "***Тариф «Ультра»***\n",
    "- Ежемесячная плата: 1950 рублей\n",
    "- Включено 3000 минут разговора, 1000 сообщений и 30 Гб интернет-трафика\n",
    "- Стоимость услуг сверх тарифного пакета:\n",
    "минута разговора: 1 рубль, сообщение: 1 рубль, 1 Гб интернет-трафика: 150 рублей\n",
    "\n",
    "Нужно проанализировать поведение клиентов и сделать вывод — какой тариф лучше для корректировки рекламного бюджета. "
   ]
  },
  {
   "cell_type": "markdown",
   "id": "71fdea2a",
   "metadata": {},
   "source": [
    "***Ход исследования***\n",
    "\n",
    "Необходимо произвести обзор данных, их обработку. Затем проанализировать данные и выдвинуть гипотезы. После этого проверить их. "
   ]
  },
  {
   "cell_type": "markdown",
   "id": "e6e87e9b",
   "metadata": {},
   "source": [
    "## Обзор данных"
   ]
  },
  {
   "cell_type": "markdown",
   "id": "87dbb493",
   "metadata": {},
   "source": [
    "Импортируем необходимые библиотеки для работы с проектом:"
   ]
  },
  {
   "cell_type": "code",
   "execution_count": 1,
   "id": "ebd9a73e",
   "metadata": {},
   "outputs": [],
   "source": [
    "# импортируем библиотеку pandas\n",
    "import pandas as pd\n",
    "\n",
    "# импортируем библиотеку numpy\n",
    "import numpy as np\n",
    "\n",
    "# импортируем библиотеку matplotlib\n",
    "import matplotlib.pyplot as plt\n",
    "\n",
    "# импортируем библиотеку seaborn\n",
    "import seaborn as sns\n",
    "\n",
    "# импортируем библиотеку stats\n",
    "from scipy import stats as st\n",
    "\n",
    "# просим pandas отображать до 50 столбцов в таблице\n",
    "pd.options.display.max_columns = 50"
   ]
  },
  {
   "cell_type": "markdown",
   "id": "aa6aeb9e",
   "metadata": {},
   "source": [
    "Для анализа данных нам предоставлено 5 таблиц с данными. Разберем их по очереди:"
   ]
  },
  {
   "cell_type": "markdown",
   "id": "054ee3e7",
   "metadata": {},
   "source": [
    "#### Таблица calls"
   ]
  },
  {
   "cell_type": "markdown",
   "id": "99e0825a",
   "metadata": {},
   "source": [
    "Таблица с данными о звонках находится в папке /datasets/calls.csv. Прочитаем ее с помощью библиотеки pandas для работы с данными:"
   ]
  },
  {
   "cell_type": "code",
   "execution_count": 2,
   "id": "057edc32",
   "metadata": {},
   "outputs": [
    {
     "data": {
      "text/html": [
       "<div>\n",
       "<style scoped>\n",
       "    .dataframe tbody tr th:only-of-type {\n",
       "        vertical-align: middle;\n",
       "    }\n",
       "\n",
       "    .dataframe tbody tr th {\n",
       "        vertical-align: top;\n",
       "    }\n",
       "\n",
       "    .dataframe thead th {\n",
       "        text-align: right;\n",
       "    }\n",
       "</style>\n",
       "<table border=\"1\" class=\"dataframe\">\n",
       "  <thead>\n",
       "    <tr style=\"text-align: right;\">\n",
       "      <th></th>\n",
       "      <th>id</th>\n",
       "      <th>call_date</th>\n",
       "      <th>duration</th>\n",
       "      <th>user_id</th>\n",
       "    </tr>\n",
       "  </thead>\n",
       "  <tbody>\n",
       "    <tr>\n",
       "      <th>0</th>\n",
       "      <td>1000_0</td>\n",
       "      <td>2018-07-25</td>\n",
       "      <td>0.00</td>\n",
       "      <td>1000</td>\n",
       "    </tr>\n",
       "    <tr>\n",
       "      <th>1</th>\n",
       "      <td>1000_1</td>\n",
       "      <td>2018-08-17</td>\n",
       "      <td>0.00</td>\n",
       "      <td>1000</td>\n",
       "    </tr>\n",
       "    <tr>\n",
       "      <th>2</th>\n",
       "      <td>1000_2</td>\n",
       "      <td>2018-06-11</td>\n",
       "      <td>2.85</td>\n",
       "      <td>1000</td>\n",
       "    </tr>\n",
       "    <tr>\n",
       "      <th>3</th>\n",
       "      <td>1000_3</td>\n",
       "      <td>2018-09-21</td>\n",
       "      <td>13.80</td>\n",
       "      <td>1000</td>\n",
       "    </tr>\n",
       "    <tr>\n",
       "      <th>4</th>\n",
       "      <td>1000_4</td>\n",
       "      <td>2018-12-15</td>\n",
       "      <td>5.18</td>\n",
       "      <td>1000</td>\n",
       "    </tr>\n",
       "    <tr>\n",
       "      <th>5</th>\n",
       "      <td>1000_5</td>\n",
       "      <td>2018-11-02</td>\n",
       "      <td>0.00</td>\n",
       "      <td>1000</td>\n",
       "    </tr>\n",
       "    <tr>\n",
       "      <th>6</th>\n",
       "      <td>1000_6</td>\n",
       "      <td>2018-10-18</td>\n",
       "      <td>0.00</td>\n",
       "      <td>1000</td>\n",
       "    </tr>\n",
       "    <tr>\n",
       "      <th>7</th>\n",
       "      <td>1000_7</td>\n",
       "      <td>2018-08-22</td>\n",
       "      <td>18.31</td>\n",
       "      <td>1000</td>\n",
       "    </tr>\n",
       "    <tr>\n",
       "      <th>8</th>\n",
       "      <td>1000_8</td>\n",
       "      <td>2018-09-15</td>\n",
       "      <td>18.44</td>\n",
       "      <td>1000</td>\n",
       "    </tr>\n",
       "    <tr>\n",
       "      <th>9</th>\n",
       "      <td>1000_9</td>\n",
       "      <td>2018-08-15</td>\n",
       "      <td>0.00</td>\n",
       "      <td>1000</td>\n",
       "    </tr>\n",
       "  </tbody>\n",
       "</table>\n",
       "</div>"
      ],
      "text/plain": [
       "       id   call_date  duration  user_id\n",
       "0  1000_0  2018-07-25      0.00     1000\n",
       "1  1000_1  2018-08-17      0.00     1000\n",
       "2  1000_2  2018-06-11      2.85     1000\n",
       "3  1000_3  2018-09-21     13.80     1000\n",
       "4  1000_4  2018-12-15      5.18     1000\n",
       "5  1000_5  2018-11-02      0.00     1000\n",
       "6  1000_6  2018-10-18      0.00     1000\n",
       "7  1000_7  2018-08-22     18.31     1000\n",
       "8  1000_8  2018-09-15     18.44     1000\n",
       "9  1000_9  2018-08-15      0.00     1000"
      ]
     },
     "execution_count": 2,
     "metadata": {},
     "output_type": "execute_result"
    }
   ],
   "source": [
    "# создаем переменную calls и помещаем в нее таблицу\n",
    "calls = pd.read_csv('/datasets/calls.csv')\n",
    "# выводим на экран первые 10 срок таблицы\n",
    "calls.head(10)"
   ]
  },
  {
   "cell_type": "code",
   "execution_count": 3,
   "id": "e3006216",
   "metadata": {},
   "outputs": [
    {
     "name": "stdout",
     "output_type": "stream",
     "text": [
      "<class 'pandas.core.frame.DataFrame'>\n",
      "RangeIndex: 202607 entries, 0 to 202606\n",
      "Data columns (total 4 columns):\n",
      " #   Column     Non-Null Count   Dtype  \n",
      "---  ------     --------------   -----  \n",
      " 0   id         202607 non-null  object \n",
      " 1   call_date  202607 non-null  object \n",
      " 2   duration   202607 non-null  float64\n",
      " 3   user_id    202607 non-null  int64  \n",
      "dtypes: float64(1), int64(1), object(2)\n",
      "memory usage: 6.2+ MB\n"
     ]
    }
   ],
   "source": [
    "# выводим общие данные о таблице\n",
    "calls.info()"
   ]
  },
  {
   "cell_type": "markdown",
   "id": "4cb0fb33",
   "metadata": {},
   "source": [
    "В таблице 4 столбца с данными. Типы данных object, float и int. \n",
    "\n",
    "Согласно документации:\n",
    "- id — уникальный номер звонка\n",
    "- call_date — дата звонка\n",
    "- duration — длительность звонка в минутах\n",
    "- user_id — идентификатор пользователя, сделавшего звонок\n",
    "\n",
    "Также согласно документации:\n",
    "«Мегалайн» всегда округляет секунды до минут. Каждый звонок округляется отдельно: даже если он длился всего 1 секунду, будет засчитан как 1 минута.\n",
    "\n",
    "Это значит, что при дальнейшей обработке данных необходимо будет округлить значения до целочисленных причем в большую сторону при любом количестве секунд. \n",
    "\n",
    "Пропусков в данных нет, но есть нулевые значения в столбце с длительностью звонка. Согласно документации эти данные корректны, значит сам звонок был пропущен. "
   ]
  },
  {
   "cell_type": "markdown",
   "id": "e7983c81",
   "metadata": {},
   "source": [
    "#### Таблица internet"
   ]
  },
  {
   "cell_type": "markdown",
   "id": "78db4695",
   "metadata": {},
   "source": [
    "Таблица с данными о интернет-сессиях находится в папке /datasets/internet.csv. Прочитаем ее с помощью библиотеки pandas для работы с данными:"
   ]
  },
  {
   "cell_type": "code",
   "execution_count": 4,
   "id": "be44226a",
   "metadata": {},
   "outputs": [
    {
     "data": {
      "text/html": [
       "<div>\n",
       "<style scoped>\n",
       "    .dataframe tbody tr th:only-of-type {\n",
       "        vertical-align: middle;\n",
       "    }\n",
       "\n",
       "    .dataframe tbody tr th {\n",
       "        vertical-align: top;\n",
       "    }\n",
       "\n",
       "    .dataframe thead th {\n",
       "        text-align: right;\n",
       "    }\n",
       "</style>\n",
       "<table border=\"1\" class=\"dataframe\">\n",
       "  <thead>\n",
       "    <tr style=\"text-align: right;\">\n",
       "      <th></th>\n",
       "      <th>Unnamed: 0</th>\n",
       "      <th>id</th>\n",
       "      <th>mb_used</th>\n",
       "      <th>session_date</th>\n",
       "      <th>user_id</th>\n",
       "    </tr>\n",
       "  </thead>\n",
       "  <tbody>\n",
       "    <tr>\n",
       "      <th>0</th>\n",
       "      <td>0</td>\n",
       "      <td>1000_0</td>\n",
       "      <td>112.95</td>\n",
       "      <td>2018-11-25</td>\n",
       "      <td>1000</td>\n",
       "    </tr>\n",
       "    <tr>\n",
       "      <th>1</th>\n",
       "      <td>1</td>\n",
       "      <td>1000_1</td>\n",
       "      <td>1052.81</td>\n",
       "      <td>2018-09-07</td>\n",
       "      <td>1000</td>\n",
       "    </tr>\n",
       "    <tr>\n",
       "      <th>2</th>\n",
       "      <td>2</td>\n",
       "      <td>1000_2</td>\n",
       "      <td>1197.26</td>\n",
       "      <td>2018-06-25</td>\n",
       "      <td>1000</td>\n",
       "    </tr>\n",
       "    <tr>\n",
       "      <th>3</th>\n",
       "      <td>3</td>\n",
       "      <td>1000_3</td>\n",
       "      <td>550.27</td>\n",
       "      <td>2018-08-22</td>\n",
       "      <td>1000</td>\n",
       "    </tr>\n",
       "    <tr>\n",
       "      <th>4</th>\n",
       "      <td>4</td>\n",
       "      <td>1000_4</td>\n",
       "      <td>302.56</td>\n",
       "      <td>2018-09-24</td>\n",
       "      <td>1000</td>\n",
       "    </tr>\n",
       "    <tr>\n",
       "      <th>5</th>\n",
       "      <td>5</td>\n",
       "      <td>1000_5</td>\n",
       "      <td>399.97</td>\n",
       "      <td>2018-10-02</td>\n",
       "      <td>1000</td>\n",
       "    </tr>\n",
       "    <tr>\n",
       "      <th>6</th>\n",
       "      <td>6</td>\n",
       "      <td>1000_6</td>\n",
       "      <td>540.08</td>\n",
       "      <td>2018-09-07</td>\n",
       "      <td>1000</td>\n",
       "    </tr>\n",
       "    <tr>\n",
       "      <th>7</th>\n",
       "      <td>7</td>\n",
       "      <td>1000_7</td>\n",
       "      <td>415.70</td>\n",
       "      <td>2018-07-11</td>\n",
       "      <td>1000</td>\n",
       "    </tr>\n",
       "    <tr>\n",
       "      <th>8</th>\n",
       "      <td>8</td>\n",
       "      <td>1000_8</td>\n",
       "      <td>505.40</td>\n",
       "      <td>2018-10-08</td>\n",
       "      <td>1000</td>\n",
       "    </tr>\n",
       "    <tr>\n",
       "      <th>9</th>\n",
       "      <td>9</td>\n",
       "      <td>1000_9</td>\n",
       "      <td>345.54</td>\n",
       "      <td>2018-09-03</td>\n",
       "      <td>1000</td>\n",
       "    </tr>\n",
       "  </tbody>\n",
       "</table>\n",
       "</div>"
      ],
      "text/plain": [
       "   Unnamed: 0      id  mb_used session_date  user_id\n",
       "0           0  1000_0   112.95   2018-11-25     1000\n",
       "1           1  1000_1  1052.81   2018-09-07     1000\n",
       "2           2  1000_2  1197.26   2018-06-25     1000\n",
       "3           3  1000_3   550.27   2018-08-22     1000\n",
       "4           4  1000_4   302.56   2018-09-24     1000\n",
       "5           5  1000_5   399.97   2018-10-02     1000\n",
       "6           6  1000_6   540.08   2018-09-07     1000\n",
       "7           7  1000_7   415.70   2018-07-11     1000\n",
       "8           8  1000_8   505.40   2018-10-08     1000\n",
       "9           9  1000_9   345.54   2018-09-03     1000"
      ]
     },
     "execution_count": 4,
     "metadata": {},
     "output_type": "execute_result"
    }
   ],
   "source": [
    "# создаем переменную internet и созраняем в нее таблицу с данными об интернет-сессиях\n",
    "internet = pd.read_csv('/datasets/internet.csv')\n",
    "# выведим первые 10 строк таблицы\n",
    "internet.head(10)"
   ]
  },
  {
   "cell_type": "code",
   "execution_count": 5,
   "id": "aad0f6c4",
   "metadata": {},
   "outputs": [
    {
     "name": "stdout",
     "output_type": "stream",
     "text": [
      "<class 'pandas.core.frame.DataFrame'>\n",
      "RangeIndex: 149396 entries, 0 to 149395\n",
      "Data columns (total 5 columns):\n",
      " #   Column        Non-Null Count   Dtype  \n",
      "---  ------        --------------   -----  \n",
      " 0   Unnamed: 0    149396 non-null  int64  \n",
      " 1   id            149396 non-null  object \n",
      " 2   mb_used       149396 non-null  float64\n",
      " 3   session_date  149396 non-null  object \n",
      " 4   user_id       149396 non-null  int64  \n",
      "dtypes: float64(1), int64(2), object(2)\n",
      "memory usage: 5.7+ MB\n"
     ]
    }
   ],
   "source": [
    "# выводим информацию о таблице\n",
    "internet.info()"
   ]
  },
  {
   "cell_type": "markdown",
   "id": "303099fa",
   "metadata": {},
   "source": [
    "В таблице 5 столбцов. Типы данных object, int и float. \n",
    "\n",
    "Согласно документации:\n",
    "- id — уникальный номер сессии\n",
    "- mb_used — объём потраченного за сессию интернет-трафика (в мегабайтах)\n",
    "- session_date — дата интернет-сессии\n",
    "- user_id — идентификатор пользователя\n",
    "\n",
    "В документации нет данных о информации в столбце Unnamed:0. Необходимо проверить какие данные он содержит, и насколько они нам будут полезны в дальнейшей работе. \n",
    "Пропусков в данных нет. \n",
    "\n",
    "Также согласно документации нам известно:\n",
    "Для веб-трафика отдельные сессии не считаются. Вместо этого общая сумма за месяц округляется в бо́льшую сторону. Если абонент использует 1025 мегабайт в этом месяце, с него возьмут плату за 2 гигабайта.\n",
    "\n",
    "Это значит, что для проведения анализа данных данного столбца мы также можем привести значения к целочисленным и привести к гигабайтам. "
   ]
  },
  {
   "cell_type": "markdown",
   "id": "545b44e3",
   "metadata": {},
   "source": [
    "#### Таблица messages"
   ]
  },
  {
   "cell_type": "markdown",
   "id": "1522c736",
   "metadata": {},
   "source": [
    "Таблица с данными о сообщениях находится в папке /datasets/messages.csv. Прочитаем ее с помощью библиотеки pandas для работы с данными:"
   ]
  },
  {
   "cell_type": "code",
   "execution_count": 6,
   "id": "91374445",
   "metadata": {},
   "outputs": [
    {
     "data": {
      "text/html": [
       "<div>\n",
       "<style scoped>\n",
       "    .dataframe tbody tr th:only-of-type {\n",
       "        vertical-align: middle;\n",
       "    }\n",
       "\n",
       "    .dataframe tbody tr th {\n",
       "        vertical-align: top;\n",
       "    }\n",
       "\n",
       "    .dataframe thead th {\n",
       "        text-align: right;\n",
       "    }\n",
       "</style>\n",
       "<table border=\"1\" class=\"dataframe\">\n",
       "  <thead>\n",
       "    <tr style=\"text-align: right;\">\n",
       "      <th></th>\n",
       "      <th>id</th>\n",
       "      <th>message_date</th>\n",
       "      <th>user_id</th>\n",
       "    </tr>\n",
       "  </thead>\n",
       "  <tbody>\n",
       "    <tr>\n",
       "      <th>0</th>\n",
       "      <td>1000_0</td>\n",
       "      <td>2018-06-27</td>\n",
       "      <td>1000</td>\n",
       "    </tr>\n",
       "    <tr>\n",
       "      <th>1</th>\n",
       "      <td>1000_1</td>\n",
       "      <td>2018-10-08</td>\n",
       "      <td>1000</td>\n",
       "    </tr>\n",
       "    <tr>\n",
       "      <th>2</th>\n",
       "      <td>1000_2</td>\n",
       "      <td>2018-08-04</td>\n",
       "      <td>1000</td>\n",
       "    </tr>\n",
       "    <tr>\n",
       "      <th>3</th>\n",
       "      <td>1000_3</td>\n",
       "      <td>2018-06-16</td>\n",
       "      <td>1000</td>\n",
       "    </tr>\n",
       "    <tr>\n",
       "      <th>4</th>\n",
       "      <td>1000_4</td>\n",
       "      <td>2018-12-05</td>\n",
       "      <td>1000</td>\n",
       "    </tr>\n",
       "    <tr>\n",
       "      <th>5</th>\n",
       "      <td>1000_5</td>\n",
       "      <td>2018-06-20</td>\n",
       "      <td>1000</td>\n",
       "    </tr>\n",
       "    <tr>\n",
       "      <th>6</th>\n",
       "      <td>1000_6</td>\n",
       "      <td>2018-11-19</td>\n",
       "      <td>1000</td>\n",
       "    </tr>\n",
       "    <tr>\n",
       "      <th>7</th>\n",
       "      <td>1000_7</td>\n",
       "      <td>2018-10-29</td>\n",
       "      <td>1000</td>\n",
       "    </tr>\n",
       "    <tr>\n",
       "      <th>8</th>\n",
       "      <td>1000_8</td>\n",
       "      <td>2018-06-25</td>\n",
       "      <td>1000</td>\n",
       "    </tr>\n",
       "    <tr>\n",
       "      <th>9</th>\n",
       "      <td>1000_9</td>\n",
       "      <td>2018-12-18</td>\n",
       "      <td>1000</td>\n",
       "    </tr>\n",
       "  </tbody>\n",
       "</table>\n",
       "</div>"
      ],
      "text/plain": [
       "       id message_date  user_id\n",
       "0  1000_0   2018-06-27     1000\n",
       "1  1000_1   2018-10-08     1000\n",
       "2  1000_2   2018-08-04     1000\n",
       "3  1000_3   2018-06-16     1000\n",
       "4  1000_4   2018-12-05     1000\n",
       "5  1000_5   2018-06-20     1000\n",
       "6  1000_6   2018-11-19     1000\n",
       "7  1000_7   2018-10-29     1000\n",
       "8  1000_8   2018-06-25     1000\n",
       "9  1000_9   2018-12-18     1000"
      ]
     },
     "execution_count": 6,
     "metadata": {},
     "output_type": "execute_result"
    }
   ],
   "source": [
    "# создаем переменную messages и сохраняем в нее таблицу с данными\n",
    "messages = pd.read_csv('/datasets/messages.csv')\n",
    "# выводим первые 10 строк таблицы\n",
    "messages.head(10)"
   ]
  },
  {
   "cell_type": "code",
   "execution_count": 7,
   "id": "09754c77",
   "metadata": {},
   "outputs": [
    {
     "name": "stdout",
     "output_type": "stream",
     "text": [
      "<class 'pandas.core.frame.DataFrame'>\n",
      "RangeIndex: 123036 entries, 0 to 123035\n",
      "Data columns (total 3 columns):\n",
      " #   Column        Non-Null Count   Dtype \n",
      "---  ------        --------------   ----- \n",
      " 0   id            123036 non-null  object\n",
      " 1   message_date  123036 non-null  object\n",
      " 2   user_id       123036 non-null  int64 \n",
      "dtypes: int64(1), object(2)\n",
      "memory usage: 2.8+ MB\n"
     ]
    }
   ],
   "source": [
    "# выводим общую информацию о таблице\n",
    "messages.info()"
   ]
  },
  {
   "cell_type": "markdown",
   "id": "0a6a1440",
   "metadata": {},
   "source": [
    "В таблице три столбца с данными о сообщениях. Типы данных с столбцах object и int.\n",
    "\n",
    "Согласно документации к данным:\n",
    "- id — уникальный номер сообщения\n",
    "- message_date — дата сообщения\n",
    "- user_id — идентификатор пользователя, отправившего сообщение\n",
    "\n",
    "Пропущенных значений нет. Вероятно потребуется обработка типов данных в столбцах, так как дата имеет тип данных object "
   ]
  },
  {
   "cell_type": "markdown",
   "id": "6fb8a903",
   "metadata": {},
   "source": [
    "#### Таблица tariffs"
   ]
  },
  {
   "cell_type": "markdown",
   "id": "f513f5fd",
   "metadata": {},
   "source": [
    "Таблица с данными о тарифах находится в папке /datasets/tariffs.csv. Прочитаем ее с помощью библиотеки pandas для работы с данными:"
   ]
  },
  {
   "cell_type": "code",
   "execution_count": 8,
   "id": "a0a139f6",
   "metadata": {},
   "outputs": [
    {
     "data": {
      "text/html": [
       "<div>\n",
       "<style scoped>\n",
       "    .dataframe tbody tr th:only-of-type {\n",
       "        vertical-align: middle;\n",
       "    }\n",
       "\n",
       "    .dataframe tbody tr th {\n",
       "        vertical-align: top;\n",
       "    }\n",
       "\n",
       "    .dataframe thead th {\n",
       "        text-align: right;\n",
       "    }\n",
       "</style>\n",
       "<table border=\"1\" class=\"dataframe\">\n",
       "  <thead>\n",
       "    <tr style=\"text-align: right;\">\n",
       "      <th></th>\n",
       "      <th>messages_included</th>\n",
       "      <th>mb_per_month_included</th>\n",
       "      <th>minutes_included</th>\n",
       "      <th>rub_monthly_fee</th>\n",
       "      <th>rub_per_gb</th>\n",
       "      <th>rub_per_message</th>\n",
       "      <th>rub_per_minute</th>\n",
       "      <th>tariff_name</th>\n",
       "    </tr>\n",
       "  </thead>\n",
       "  <tbody>\n",
       "    <tr>\n",
       "      <th>0</th>\n",
       "      <td>50</td>\n",
       "      <td>15360</td>\n",
       "      <td>500</td>\n",
       "      <td>550</td>\n",
       "      <td>200</td>\n",
       "      <td>3</td>\n",
       "      <td>3</td>\n",
       "      <td>smart</td>\n",
       "    </tr>\n",
       "    <tr>\n",
       "      <th>1</th>\n",
       "      <td>1000</td>\n",
       "      <td>30720</td>\n",
       "      <td>3000</td>\n",
       "      <td>1950</td>\n",
       "      <td>150</td>\n",
       "      <td>1</td>\n",
       "      <td>1</td>\n",
       "      <td>ultra</td>\n",
       "    </tr>\n",
       "  </tbody>\n",
       "</table>\n",
       "</div>"
      ],
      "text/plain": [
       "   messages_included  mb_per_month_included  minutes_included  \\\n",
       "0                 50                  15360               500   \n",
       "1               1000                  30720              3000   \n",
       "\n",
       "   rub_monthly_fee  rub_per_gb  rub_per_message  rub_per_minute tariff_name  \n",
       "0              550         200                3               3       smart  \n",
       "1             1950         150                1               1       ultra  "
      ]
     },
     "execution_count": 8,
     "metadata": {},
     "output_type": "execute_result"
    }
   ],
   "source": [
    "# создаем переменную tariffs и сохраняем в нее таблицу с данными\n",
    "tariffs = pd.read_csv('/datasets/tariffs.csv')\n",
    "# выводим таблицу\n",
    "tariffs"
   ]
  },
  {
   "cell_type": "code",
   "execution_count": 9,
   "id": "c94ea4d8",
   "metadata": {},
   "outputs": [
    {
     "name": "stdout",
     "output_type": "stream",
     "text": [
      "<class 'pandas.core.frame.DataFrame'>\n",
      "RangeIndex: 2 entries, 0 to 1\n",
      "Data columns (total 8 columns):\n",
      " #   Column                 Non-Null Count  Dtype \n",
      "---  ------                 --------------  ----- \n",
      " 0   messages_included      2 non-null      int64 \n",
      " 1   mb_per_month_included  2 non-null      int64 \n",
      " 2   minutes_included       2 non-null      int64 \n",
      " 3   rub_monthly_fee        2 non-null      int64 \n",
      " 4   rub_per_gb             2 non-null      int64 \n",
      " 5   rub_per_message        2 non-null      int64 \n",
      " 6   rub_per_minute         2 non-null      int64 \n",
      " 7   tariff_name            2 non-null      object\n",
      "dtypes: int64(7), object(1)\n",
      "memory usage: 256.0+ bytes\n"
     ]
    }
   ],
   "source": [
    "# выводим информацию о таблице\n",
    "tariffs.info()"
   ]
  },
  {
   "cell_type": "markdown",
   "id": "a028d608",
   "metadata": {},
   "source": [
    "В таблице 8 столбцов и 2 строки. Указаны данные по тарифам. Типы данных int и object.\n",
    "\n",
    "Согласно документации к данным:\n",
    "- tariff_name — название тарифа\n",
    "- rub_monthly_fee — ежемесячная абонентская плата в рублях\n",
    "- minutes_included — количество минут разговора в месяц, включённых в абонентскую плату\n",
    "- messages_included — количество сообщений в месяц, включённых в абонентскую плату\n",
    "- mb_per_month_included — объём интернет-трафика, включённого в абонентскую плату (в мегабайтах)\n",
    "- rub_per_minute — стоимость минуты разговора сверх тарифного пакета (например, если в тарифе 100 минут разговора в месяц, то со 101 минуты будет взиматься плата)\n",
    "- rub_per_message — стоимость отправки сообщения сверх тарифного пакета\n",
    "- rub_per_gb — стоимость дополнительного гигабайта интернет-трафика сверх тарифного пакета (1 гигабайт = 1024 мегабайта)\n",
    "\n",
    "\n",
    "Пропущенных значений нет, заполнять не требуется. Данные в таблице соответствуют данных по документации к проекту. "
   ]
  },
  {
   "cell_type": "markdown",
   "id": "a367b00d",
   "metadata": {},
   "source": [
    "#### Таблица users"
   ]
  },
  {
   "cell_type": "markdown",
   "id": "6a7081f0",
   "metadata": {},
   "source": [
    "Таблица с данными о пользователях находится в папке /datasets/users.csv. Прочитаем ее с помощью библиотеки pandas для работы с данными:"
   ]
  },
  {
   "cell_type": "code",
   "execution_count": 10,
   "id": "56b53168",
   "metadata": {},
   "outputs": [
    {
     "data": {
      "text/html": [
       "<div>\n",
       "<style scoped>\n",
       "    .dataframe tbody tr th:only-of-type {\n",
       "        vertical-align: middle;\n",
       "    }\n",
       "\n",
       "    .dataframe tbody tr th {\n",
       "        vertical-align: top;\n",
       "    }\n",
       "\n",
       "    .dataframe thead th {\n",
       "        text-align: right;\n",
       "    }\n",
       "</style>\n",
       "<table border=\"1\" class=\"dataframe\">\n",
       "  <thead>\n",
       "    <tr style=\"text-align: right;\">\n",
       "      <th></th>\n",
       "      <th>user_id</th>\n",
       "      <th>age</th>\n",
       "      <th>churn_date</th>\n",
       "      <th>city</th>\n",
       "      <th>first_name</th>\n",
       "      <th>last_name</th>\n",
       "      <th>reg_date</th>\n",
       "      <th>tariff</th>\n",
       "    </tr>\n",
       "  </thead>\n",
       "  <tbody>\n",
       "    <tr>\n",
       "      <th>0</th>\n",
       "      <td>1000</td>\n",
       "      <td>52</td>\n",
       "      <td>NaN</td>\n",
       "      <td>Краснодар</td>\n",
       "      <td>Рафаил</td>\n",
       "      <td>Верещагин</td>\n",
       "      <td>2018-05-25</td>\n",
       "      <td>ultra</td>\n",
       "    </tr>\n",
       "    <tr>\n",
       "      <th>1</th>\n",
       "      <td>1001</td>\n",
       "      <td>41</td>\n",
       "      <td>NaN</td>\n",
       "      <td>Москва</td>\n",
       "      <td>Иван</td>\n",
       "      <td>Ежов</td>\n",
       "      <td>2018-11-01</td>\n",
       "      <td>smart</td>\n",
       "    </tr>\n",
       "    <tr>\n",
       "      <th>2</th>\n",
       "      <td>1002</td>\n",
       "      <td>59</td>\n",
       "      <td>NaN</td>\n",
       "      <td>Стерлитамак</td>\n",
       "      <td>Евгений</td>\n",
       "      <td>Абрамович</td>\n",
       "      <td>2018-06-17</td>\n",
       "      <td>smart</td>\n",
       "    </tr>\n",
       "    <tr>\n",
       "      <th>3</th>\n",
       "      <td>1003</td>\n",
       "      <td>23</td>\n",
       "      <td>NaN</td>\n",
       "      <td>Москва</td>\n",
       "      <td>Белла</td>\n",
       "      <td>Белякова</td>\n",
       "      <td>2018-08-17</td>\n",
       "      <td>ultra</td>\n",
       "    </tr>\n",
       "    <tr>\n",
       "      <th>4</th>\n",
       "      <td>1004</td>\n",
       "      <td>68</td>\n",
       "      <td>NaN</td>\n",
       "      <td>Новокузнецк</td>\n",
       "      <td>Татьяна</td>\n",
       "      <td>Авдеенко</td>\n",
       "      <td>2018-05-14</td>\n",
       "      <td>ultra</td>\n",
       "    </tr>\n",
       "    <tr>\n",
       "      <th>5</th>\n",
       "      <td>1005</td>\n",
       "      <td>67</td>\n",
       "      <td>NaN</td>\n",
       "      <td>Набережные Челны</td>\n",
       "      <td>Афанасий</td>\n",
       "      <td>Горлов</td>\n",
       "      <td>2018-01-25</td>\n",
       "      <td>smart</td>\n",
       "    </tr>\n",
       "    <tr>\n",
       "      <th>6</th>\n",
       "      <td>1006</td>\n",
       "      <td>21</td>\n",
       "      <td>NaN</td>\n",
       "      <td>Ульяновск</td>\n",
       "      <td>Леонид</td>\n",
       "      <td>Ермолаев</td>\n",
       "      <td>2018-02-26</td>\n",
       "      <td>smart</td>\n",
       "    </tr>\n",
       "    <tr>\n",
       "      <th>7</th>\n",
       "      <td>1007</td>\n",
       "      <td>65</td>\n",
       "      <td>NaN</td>\n",
       "      <td>Москва</td>\n",
       "      <td>Юна</td>\n",
       "      <td>Березина</td>\n",
       "      <td>2018-04-19</td>\n",
       "      <td>smart</td>\n",
       "    </tr>\n",
       "    <tr>\n",
       "      <th>8</th>\n",
       "      <td>1008</td>\n",
       "      <td>63</td>\n",
       "      <td>NaN</td>\n",
       "      <td>Челябинск</td>\n",
       "      <td>Рустэм</td>\n",
       "      <td>Пономарёв</td>\n",
       "      <td>2018-12-19</td>\n",
       "      <td>smart</td>\n",
       "    </tr>\n",
       "    <tr>\n",
       "      <th>9</th>\n",
       "      <td>1009</td>\n",
       "      <td>24</td>\n",
       "      <td>NaN</td>\n",
       "      <td>Пермь</td>\n",
       "      <td>Василиса</td>\n",
       "      <td>Блинова</td>\n",
       "      <td>2018-03-22</td>\n",
       "      <td>smart</td>\n",
       "    </tr>\n",
       "  </tbody>\n",
       "</table>\n",
       "</div>"
      ],
      "text/plain": [
       "   user_id  age churn_date              city first_name  last_name  \\\n",
       "0     1000   52        NaN         Краснодар     Рафаил  Верещагин   \n",
       "1     1001   41        NaN            Москва       Иван       Ежов   \n",
       "2     1002   59        NaN       Стерлитамак    Евгений  Абрамович   \n",
       "3     1003   23        NaN            Москва      Белла   Белякова   \n",
       "4     1004   68        NaN       Новокузнецк    Татьяна   Авдеенко   \n",
       "5     1005   67        NaN  Набережные Челны   Афанасий     Горлов   \n",
       "6     1006   21        NaN         Ульяновск     Леонид   Ермолаев   \n",
       "7     1007   65        NaN            Москва        Юна   Березина   \n",
       "8     1008   63        NaN         Челябинск     Рустэм  Пономарёв   \n",
       "9     1009   24        NaN             Пермь   Василиса    Блинова   \n",
       "\n",
       "     reg_date tariff  \n",
       "0  2018-05-25  ultra  \n",
       "1  2018-11-01  smart  \n",
       "2  2018-06-17  smart  \n",
       "3  2018-08-17  ultra  \n",
       "4  2018-05-14  ultra  \n",
       "5  2018-01-25  smart  \n",
       "6  2018-02-26  smart  \n",
       "7  2018-04-19  smart  \n",
       "8  2018-12-19  smart  \n",
       "9  2018-03-22  smart  "
      ]
     },
     "execution_count": 10,
     "metadata": {},
     "output_type": "execute_result"
    }
   ],
   "source": [
    "# создаем переменную users и сохраняем в нее таблицу с данными\n",
    "users = pd.read_csv('/datasets/users.csv')\n",
    "# выводим первые 10 строк таблицы\n",
    "users.head(10)"
   ]
  },
  {
   "cell_type": "code",
   "execution_count": 11,
   "id": "2f647bdb",
   "metadata": {},
   "outputs": [
    {
     "name": "stdout",
     "output_type": "stream",
     "text": [
      "<class 'pandas.core.frame.DataFrame'>\n",
      "RangeIndex: 500 entries, 0 to 499\n",
      "Data columns (total 8 columns):\n",
      " #   Column      Non-Null Count  Dtype \n",
      "---  ------      --------------  ----- \n",
      " 0   user_id     500 non-null    int64 \n",
      " 1   age         500 non-null    int64 \n",
      " 2   churn_date  38 non-null     object\n",
      " 3   city        500 non-null    object\n",
      " 4   first_name  500 non-null    object\n",
      " 5   last_name   500 non-null    object\n",
      " 6   reg_date    500 non-null    object\n",
      " 7   tariff      500 non-null    object\n",
      "dtypes: int64(2), object(6)\n",
      "memory usage: 31.4+ KB\n"
     ]
    }
   ],
   "source": [
    "# выводим информацию о таблице\n",
    "users.info()"
   ]
  },
  {
   "cell_type": "markdown",
   "id": "2cdbbedb",
   "metadata": {},
   "source": [
    "В таблице 8 столбцов с данными. Типы object и int. \n",
    "\n",
    "Согласно документации к данным:\n",
    "- user_id — уникальный идентификатор пользователя\n",
    "- first_name — имя пользователя\n",
    "- last_name — фамилия пользователя\n",
    "- age — возраст пользователя (годы)\n",
    "- reg_date — дата подключения тарифа (день, месяц, год)\n",
    "- churn_date — дата прекращения пользования тарифом (если значение пропущено, то тариф ещё действовал на момент выгрузки данных)\n",
    "- city — город проживания пользователя\n",
    "- tariff — название тарифного плана\n",
    "\n",
    "У нас есть пропуски в столбце churn_date. Из заполнять не требуется, так как, согласно документации, это обозначает, что у клиента тариф еще актуален на текущий момент. \n",
    "\n",
    "Необходимо вновь проверить типы данных в столбце с датой. "
   ]
  },
  {
   "cell_type": "markdown",
   "id": "a1c92555",
   "metadata": {},
   "source": [
    "### Вывод"
   ]
  },
  {
   "cell_type": "markdown",
   "id": "1c5e0ba5",
   "metadata": {},
   "source": [
    "Мы открыли 5 файлов с данными и проверили значения в них. На последующих этапах работы:\n",
    "- необходимо перевести данные о длительности звонков к целочисленным значениям и округлить их в большую сторону до минут вне зависимости от общего количество секунд\n",
    "- необходимо перевести данные об объеме потраченного за сессию трафика в гигабайты, при этом произвести округление до целочисленных значений в большую сторону\n",
    "- обработать значения даты во всех таблицах, привести к типу датавремя, а не object, как есть сейчас\n",
    "- проверить данные в лишнем столбце (Unnamed: 0) в таблице internet и удалить его если его данные не влияют на проведение дальнейшего анализа\n",
    "- проверить данные на аномалии и явные\\не явные дубликаты"
   ]
  },
  {
   "cell_type": "markdown",
   "id": "6657ad3c",
   "metadata": {},
   "source": [
    "## Предобработка данных"
   ]
  },
  {
   "cell_type": "markdown",
   "id": "62a5bc0f",
   "metadata": {},
   "source": [
    "### Приведение данных к нужным типам"
   ]
  },
  {
   "cell_type": "markdown",
   "id": "371c9c98",
   "metadata": {},
   "source": [
    "Исходя из того, что мы выделили при обзоре обработаем по очереди все таблицы с данными:"
   ]
  },
  {
   "cell_type": "markdown",
   "id": "5100b370",
   "metadata": {},
   "source": [
    "#### Таблица calls"
   ]
  },
  {
   "cell_type": "markdown",
   "id": "b185447f",
   "metadata": {},
   "source": [
    "В столбце с длительностью звонков приведем значения к целочисленным и округлим до минут строго в большую сторону:"
   ]
  },
  {
   "cell_type": "code",
   "execution_count": 12,
   "id": "244d50f9",
   "metadata": {},
   "outputs": [],
   "source": [
    "# округляем в большую сторону значения столбца duration и приводим к целочисленным\n",
    "calls['duration'] = np.ceil(calls['duration']).astype('int')"
   ]
  },
  {
   "cell_type": "markdown",
   "id": "5e830dc4",
   "metadata": {},
   "source": [
    "Необходимо изменить тип данных в столбце с датой звонка к формату datetime:"
   ]
  },
  {
   "cell_type": "code",
   "execution_count": 13,
   "id": "24b4190b",
   "metadata": {},
   "outputs": [],
   "source": [
    "# приводим значения столбца call_date к формату datetime\n",
    "calls['call_date'] = pd.to_datetime(calls['call_date'], format='%Y-%m-%d')"
   ]
  },
  {
   "cell_type": "markdown",
   "id": "5d697569",
   "metadata": {},
   "source": [
    "Для дальнейшего анализа нам необходимо будет создать отдельный столбец выделив данные по месяцам. Согласно документации в таблице находятся данные только за 2018 год. Однако есть вероятность, что есть данные по другим года, попавшие в выгрузку случайно. Поэтому выделим год из столбца с датой звонка и проверим все уникальные значения данного столбца:"
   ]
  },
  {
   "cell_type": "code",
   "execution_count": 14,
   "id": "68cfcba8",
   "metadata": {},
   "outputs": [
    {
     "data": {
      "text/plain": [
       "Int64Index([2018], dtype='int64', name='call_date')"
      ]
     },
     "execution_count": 14,
     "metadata": {},
     "output_type": "execute_result"
    }
   ],
   "source": [
    "# выделяем год из данных столбца call_date, сохраняем данные в переменную year\n",
    "year_call = pd.DatetimeIndex(calls['call_date']).year\n",
    "# проверяем уникальные значения year\n",
    "year_call.unique()"
   ]
  },
  {
   "cell_type": "markdown",
   "id": "170d507d",
   "metadata": {},
   "source": [
    "Отлично. Значение года у нас одно - 2018. Значит можно вытащить данные по месяца, не прибегая к дополнительным манипуляциям:"
   ]
  },
  {
   "cell_type": "code",
   "execution_count": 15,
   "id": "06713bd5",
   "metadata": {},
   "outputs": [
    {
     "data": {
      "text/html": [
       "<div>\n",
       "<style scoped>\n",
       "    .dataframe tbody tr th:only-of-type {\n",
       "        vertical-align: middle;\n",
       "    }\n",
       "\n",
       "    .dataframe tbody tr th {\n",
       "        vertical-align: top;\n",
       "    }\n",
       "\n",
       "    .dataframe thead th {\n",
       "        text-align: right;\n",
       "    }\n",
       "</style>\n",
       "<table border=\"1\" class=\"dataframe\">\n",
       "  <thead>\n",
       "    <tr style=\"text-align: right;\">\n",
       "      <th></th>\n",
       "      <th>id</th>\n",
       "      <th>call_date</th>\n",
       "      <th>duration</th>\n",
       "      <th>user_id</th>\n",
       "      <th>month</th>\n",
       "    </tr>\n",
       "  </thead>\n",
       "  <tbody>\n",
       "    <tr>\n",
       "      <th>0</th>\n",
       "      <td>1000_0</td>\n",
       "      <td>2018-07-25</td>\n",
       "      <td>0</td>\n",
       "      <td>1000</td>\n",
       "      <td>7</td>\n",
       "    </tr>\n",
       "    <tr>\n",
       "      <th>1</th>\n",
       "      <td>1000_1</td>\n",
       "      <td>2018-08-17</td>\n",
       "      <td>0</td>\n",
       "      <td>1000</td>\n",
       "      <td>8</td>\n",
       "    </tr>\n",
       "    <tr>\n",
       "      <th>2</th>\n",
       "      <td>1000_2</td>\n",
       "      <td>2018-06-11</td>\n",
       "      <td>3</td>\n",
       "      <td>1000</td>\n",
       "      <td>6</td>\n",
       "    </tr>\n",
       "    <tr>\n",
       "      <th>3</th>\n",
       "      <td>1000_3</td>\n",
       "      <td>2018-09-21</td>\n",
       "      <td>14</td>\n",
       "      <td>1000</td>\n",
       "      <td>9</td>\n",
       "    </tr>\n",
       "    <tr>\n",
       "      <th>4</th>\n",
       "      <td>1000_4</td>\n",
       "      <td>2018-12-15</td>\n",
       "      <td>6</td>\n",
       "      <td>1000</td>\n",
       "      <td>12</td>\n",
       "    </tr>\n",
       "  </tbody>\n",
       "</table>\n",
       "</div>"
      ],
      "text/plain": [
       "       id  call_date  duration  user_id  month\n",
       "0  1000_0 2018-07-25         0     1000      7\n",
       "1  1000_1 2018-08-17         0     1000      8\n",
       "2  1000_2 2018-06-11         3     1000      6\n",
       "3  1000_3 2018-09-21        14     1000      9\n",
       "4  1000_4 2018-12-15         6     1000     12"
      ]
     },
     "execution_count": 15,
     "metadata": {},
     "output_type": "execute_result"
    }
   ],
   "source": [
    "# создаем столбец month в таблице calls, добавляем в него данные о месяце, в котором был совершен звонок\n",
    "calls['month'] = pd.DatetimeIndex(calls['call_date']).month\n",
    "# проверяем какие данные мы получили\n",
    "calls.head()"
   ]
  },
  {
   "cell_type": "markdown",
   "id": "59300efb",
   "metadata": {},
   "source": [
    "Проверим данные по длительности звонков:"
   ]
  },
  {
   "cell_type": "code",
   "execution_count": 16,
   "id": "c7601c7d",
   "metadata": {},
   "outputs": [
    {
     "data": {
      "text/plain": [
       "count    202607.000000\n",
       "mean          7.158198\n",
       "std           5.959173\n",
       "min           0.000000\n",
       "25%           2.000000\n",
       "50%           6.000000\n",
       "75%          11.000000\n",
       "max          38.000000\n",
       "Name: duration, dtype: float64"
      ]
     },
     "execution_count": 16,
     "metadata": {},
     "output_type": "execute_result"
    }
   ],
   "source": [
    "# выводим описание данных по длительности звонков\n",
    "calls['duration'].describe()"
   ]
  },
  {
   "cell_type": "markdown",
   "id": "13afb4e5",
   "metadata": {},
   "source": [
    "Согласно документации к данным, нулевые значения корректны. Они отражают пропущенные звонки, удалять их не требуется.\n",
    "Остальные данные в целом являются корректными. Максимальное значение звонка - 38 минут - более чем приемлемое. \n",
    "\n",
    "Проверим количество явных дубликатов в данных:"
   ]
  },
  {
   "cell_type": "code",
   "execution_count": 17,
   "id": "deffcca8",
   "metadata": {},
   "outputs": [
    {
     "data": {
      "text/plain": [
       "0"
      ]
     },
     "execution_count": 17,
     "metadata": {},
     "output_type": "execute_result"
    }
   ],
   "source": [
    "# проверяем количество явных дубликатов\n",
    "calls.duplicated().sum()"
   ]
  },
  {
   "cell_type": "markdown",
   "id": "81f06b7e",
   "metadata": {},
   "source": [
    "Дубликатов нет, проверяем данные:"
   ]
  },
  {
   "cell_type": "code",
   "execution_count": 18,
   "id": "6ec56fca",
   "metadata": {},
   "outputs": [
    {
     "name": "stdout",
     "output_type": "stream",
     "text": [
      "<class 'pandas.core.frame.DataFrame'>\n",
      "RangeIndex: 202607 entries, 0 to 202606\n",
      "Data columns (total 5 columns):\n",
      " #   Column     Non-Null Count   Dtype         \n",
      "---  ------     --------------   -----         \n",
      " 0   id         202607 non-null  object        \n",
      " 1   call_date  202607 non-null  datetime64[ns]\n",
      " 2   duration   202607 non-null  int64         \n",
      " 3   user_id    202607 non-null  int64         \n",
      " 4   month      202607 non-null  int64         \n",
      "dtypes: datetime64[ns](1), int64(3), object(1)\n",
      "memory usage: 7.7+ MB\n"
     ]
    }
   ],
   "source": [
    "# выводим общую информацию о таблице\n",
    "calls.info()"
   ]
  },
  {
   "cell_type": "markdown",
   "id": "93a3d32d",
   "metadata": {},
   "source": [
    "Отлично. Все данные приведены к нужным типам. Можем переходить к обработке следующей таблицы:"
   ]
  },
  {
   "cell_type": "markdown",
   "id": "ca02c934",
   "metadata": {},
   "source": [
    "#### Таблица internet"
   ]
  },
  {
   "cell_type": "markdown",
   "id": "c69aa579",
   "metadata": {},
   "source": [
    "При выгрузке данной таблицы обратили внимание, что есть лишний столбец, не указанный в документации, с названием Unnamed: 0. \n",
    "Проверим какие уникальные данные содержит столбец:"
   ]
  },
  {
   "cell_type": "code",
   "execution_count": 19,
   "id": "4af5d8d4",
   "metadata": {},
   "outputs": [
    {
     "data": {
      "text/plain": [
       "array([     0,      1,      2, ..., 149393, 149394, 149395])"
      ]
     },
     "execution_count": 19,
     "metadata": {},
     "output_type": "execute_result"
    }
   ],
   "source": [
    "# выводим уникальные значения столбца Unnamed: 0\n",
    "internet['Unnamed: 0'].unique()"
   ]
  },
  {
   "cell_type": "markdown",
   "id": "eee8bb1d",
   "metadata": {},
   "source": [
    "Судя по всему этот столбец просто дублирует индексы строк. В целом для дальнейшего анализа он нам не потребуется. Удалим его:"
   ]
  },
  {
   "cell_type": "code",
   "execution_count": 20,
   "id": "20e496ec",
   "metadata": {},
   "outputs": [
    {
     "data": {
      "text/html": [
       "<div>\n",
       "<style scoped>\n",
       "    .dataframe tbody tr th:only-of-type {\n",
       "        vertical-align: middle;\n",
       "    }\n",
       "\n",
       "    .dataframe tbody tr th {\n",
       "        vertical-align: top;\n",
       "    }\n",
       "\n",
       "    .dataframe thead th {\n",
       "        text-align: right;\n",
       "    }\n",
       "</style>\n",
       "<table border=\"1\" class=\"dataframe\">\n",
       "  <thead>\n",
       "    <tr style=\"text-align: right;\">\n",
       "      <th></th>\n",
       "      <th>id</th>\n",
       "      <th>mb_used</th>\n",
       "      <th>session_date</th>\n",
       "      <th>user_id</th>\n",
       "    </tr>\n",
       "  </thead>\n",
       "  <tbody>\n",
       "    <tr>\n",
       "      <th>0</th>\n",
       "      <td>1000_0</td>\n",
       "      <td>112.95</td>\n",
       "      <td>2018-11-25</td>\n",
       "      <td>1000</td>\n",
       "    </tr>\n",
       "    <tr>\n",
       "      <th>1</th>\n",
       "      <td>1000_1</td>\n",
       "      <td>1052.81</td>\n",
       "      <td>2018-09-07</td>\n",
       "      <td>1000</td>\n",
       "    </tr>\n",
       "    <tr>\n",
       "      <th>2</th>\n",
       "      <td>1000_2</td>\n",
       "      <td>1197.26</td>\n",
       "      <td>2018-06-25</td>\n",
       "      <td>1000</td>\n",
       "    </tr>\n",
       "    <tr>\n",
       "      <th>3</th>\n",
       "      <td>1000_3</td>\n",
       "      <td>550.27</td>\n",
       "      <td>2018-08-22</td>\n",
       "      <td>1000</td>\n",
       "    </tr>\n",
       "    <tr>\n",
       "      <th>4</th>\n",
       "      <td>1000_4</td>\n",
       "      <td>302.56</td>\n",
       "      <td>2018-09-24</td>\n",
       "      <td>1000</td>\n",
       "    </tr>\n",
       "  </tbody>\n",
       "</table>\n",
       "</div>"
      ],
      "text/plain": [
       "       id  mb_used session_date  user_id\n",
       "0  1000_0   112.95   2018-11-25     1000\n",
       "1  1000_1  1052.81   2018-09-07     1000\n",
       "2  1000_2  1197.26   2018-06-25     1000\n",
       "3  1000_3   550.27   2018-08-22     1000\n",
       "4  1000_4   302.56   2018-09-24     1000"
      ]
     },
     "execution_count": 20,
     "metadata": {},
     "output_type": "execute_result"
    }
   ],
   "source": [
    "# удаляем лишний столбец из таблицы\n",
    "del internet['Unnamed: 0']\n",
    "# выводим первые 5 строк таблицы для проверки данных\n",
    "internet.head()"
   ]
  },
  {
   "cell_type": "markdown",
   "id": "3effd465",
   "metadata": {},
   "source": [
    "Столбец успешно удален. Новый столбец с данными по потраченным гигабайтам добавлен!\n",
    "\n",
    "Далее необходимо перевести дату в удобный для анализа формат:"
   ]
  },
  {
   "cell_type": "code",
   "execution_count": 21,
   "id": "0a372e46",
   "metadata": {},
   "outputs": [],
   "source": [
    "# переводим дату в столбце \tsession_date в формат datetime\n",
    "internet['session_date'] = pd.to_datetime(internet['session_date'], format='%Y-%m-%d')"
   ]
  },
  {
   "cell_type": "markdown",
   "id": "49af16cd",
   "metadata": {},
   "source": [
    "Тут нам также для дальнейшего анализа потребуется выделить данные по месяцам. Поэтому проверим все ли данные содержат только 2018 год, или требуется учитывать год тоже:"
   ]
  },
  {
   "cell_type": "code",
   "execution_count": 22,
   "id": "b9ed89fa",
   "metadata": {},
   "outputs": [
    {
     "data": {
      "text/plain": [
       "Int64Index([2018], dtype='int64', name='session_date')"
      ]
     },
     "execution_count": 22,
     "metadata": {},
     "output_type": "execute_result"
    }
   ],
   "source": [
    "# выделяем данные по году, когда была сессия и добавляем в year_int\n",
    "year_int = pd.DatetimeIndex(internet['session_date']).year\n",
    "# выводим уникальные значения столбца year_int\n",
    "year_int.unique()"
   ]
  },
  {
   "cell_type": "markdown",
   "id": "2e8d86a5",
   "metadata": {},
   "source": [
    "Супер. Данные представлены только за 2018 год, поэтому можно просто выделить месяц:"
   ]
  },
  {
   "cell_type": "code",
   "execution_count": 23,
   "id": "34abc3a9",
   "metadata": {},
   "outputs": [
    {
     "data": {
      "text/html": [
       "<div>\n",
       "<style scoped>\n",
       "    .dataframe tbody tr th:only-of-type {\n",
       "        vertical-align: middle;\n",
       "    }\n",
       "\n",
       "    .dataframe tbody tr th {\n",
       "        vertical-align: top;\n",
       "    }\n",
       "\n",
       "    .dataframe thead th {\n",
       "        text-align: right;\n",
       "    }\n",
       "</style>\n",
       "<table border=\"1\" class=\"dataframe\">\n",
       "  <thead>\n",
       "    <tr style=\"text-align: right;\">\n",
       "      <th></th>\n",
       "      <th>id</th>\n",
       "      <th>mb_used</th>\n",
       "      <th>session_date</th>\n",
       "      <th>user_id</th>\n",
       "      <th>month</th>\n",
       "    </tr>\n",
       "  </thead>\n",
       "  <tbody>\n",
       "    <tr>\n",
       "      <th>0</th>\n",
       "      <td>1000_0</td>\n",
       "      <td>112.95</td>\n",
       "      <td>2018-11-25</td>\n",
       "      <td>1000</td>\n",
       "      <td>11</td>\n",
       "    </tr>\n",
       "    <tr>\n",
       "      <th>1</th>\n",
       "      <td>1000_1</td>\n",
       "      <td>1052.81</td>\n",
       "      <td>2018-09-07</td>\n",
       "      <td>1000</td>\n",
       "      <td>9</td>\n",
       "    </tr>\n",
       "    <tr>\n",
       "      <th>2</th>\n",
       "      <td>1000_2</td>\n",
       "      <td>1197.26</td>\n",
       "      <td>2018-06-25</td>\n",
       "      <td>1000</td>\n",
       "      <td>6</td>\n",
       "    </tr>\n",
       "    <tr>\n",
       "      <th>3</th>\n",
       "      <td>1000_3</td>\n",
       "      <td>550.27</td>\n",
       "      <td>2018-08-22</td>\n",
       "      <td>1000</td>\n",
       "      <td>8</td>\n",
       "    </tr>\n",
       "    <tr>\n",
       "      <th>4</th>\n",
       "      <td>1000_4</td>\n",
       "      <td>302.56</td>\n",
       "      <td>2018-09-24</td>\n",
       "      <td>1000</td>\n",
       "      <td>9</td>\n",
       "    </tr>\n",
       "  </tbody>\n",
       "</table>\n",
       "</div>"
      ],
      "text/plain": [
       "       id  mb_used session_date  user_id  month\n",
       "0  1000_0   112.95   2018-11-25     1000     11\n",
       "1  1000_1  1052.81   2018-09-07     1000      9\n",
       "2  1000_2  1197.26   2018-06-25     1000      6\n",
       "3  1000_3   550.27   2018-08-22     1000      8\n",
       "4  1000_4   302.56   2018-09-24     1000      9"
      ]
     },
     "execution_count": 23,
     "metadata": {},
     "output_type": "execute_result"
    }
   ],
   "source": [
    "# создаем отдельный столбец и добавляем в него месяц из столбца session_date\n",
    "internet['month'] = pd.DatetimeIndex(internet['session_date']).month\n",
    "# выводим первые 5 строк для проверки\n",
    "internet.head()"
   ]
  },
  {
   "cell_type": "markdown",
   "id": "331fdd13",
   "metadata": {},
   "source": [
    "Данные успешно выделены. Проверим данные в целом по столбцу mb_used: "
   ]
  },
  {
   "cell_type": "code",
   "execution_count": 24,
   "id": "be77a786",
   "metadata": {},
   "outputs": [
    {
     "data": {
      "text/plain": [
       "count    149396.000000\n",
       "mean        370.192426\n",
       "std         278.300951\n",
       "min           0.000000\n",
       "25%         138.187500\n",
       "50%         348.015000\n",
       "75%         559.552500\n",
       "max        1724.830000\n",
       "Name: mb_used, dtype: float64"
      ]
     },
     "execution_count": 24,
     "metadata": {},
     "output_type": "execute_result"
    }
   ],
   "source": [
    "# выводим описание данных столбца gb_used\n",
    "internet['mb_used'].describe()"
   ]
  },
  {
   "cell_type": "markdown",
   "id": "b42c5bd1",
   "metadata": {},
   "source": [
    "В этой таблице есть нулевые значения по потраченным мегабайтам. По документации у нас нет данных как по звонкам, что нулевые значения не стоит удалять. Проверим какую долю составляют такие значения, и можем ли мы их удалить:"
   ]
  },
  {
   "cell_type": "code",
   "execution_count": 25,
   "id": "84f6c5f1",
   "metadata": {},
   "outputs": [
    {
     "name": "stdout",
     "output_type": "stream",
     "text": [
      "13.19%\n"
     ]
    }
   ],
   "source": [
    "# вычисляем долю нулевых значений в столбце потраченных гигабайтов, от общего количества данных\n",
    "share_internet_mb0 = len(internet[internet['mb_used']<1])/len(internet['mb_used'])\n",
    "# выводим данные в виде процента\n",
    "print(f'{share_internet_mb0:.2%}')"
   ]
  },
  {
   "cell_type": "markdown",
   "id": "d35dbdcc",
   "metadata": {},
   "source": [
    "13% - это слишком много, чтобы принимать решение об удалении данных. \n",
    "\n",
    "Думаю, что такие данные могут быть связаны, например, с тем, что пользователь открыл браузер, но далее переходить никуда не стал. В этом случае система могла зафиксировать начало сессии. Однако по факту гигабайты потрачены не были. \n",
    "Оставим такие значения.\n",
    "\n",
    "Проверим данные на наличие дубликатов:"
   ]
  },
  {
   "cell_type": "code",
   "execution_count": 26,
   "id": "ca118bbf",
   "metadata": {},
   "outputs": [
    {
     "data": {
      "text/plain": [
       "0"
      ]
     },
     "execution_count": 26,
     "metadata": {},
     "output_type": "execute_result"
    }
   ],
   "source": [
    "# проверяем наличие явных дубликатов\n",
    "internet.duplicated().sum()"
   ]
  },
  {
   "cell_type": "markdown",
   "id": "5c4d2359",
   "metadata": {},
   "source": [
    "Дубликатов нет. Выведем общую информацию по таблице после всех преобразований:"
   ]
  },
  {
   "cell_type": "code",
   "execution_count": 27,
   "id": "e54aaedc",
   "metadata": {},
   "outputs": [
    {
     "name": "stdout",
     "output_type": "stream",
     "text": [
      "<class 'pandas.core.frame.DataFrame'>\n",
      "RangeIndex: 149396 entries, 0 to 149395\n",
      "Data columns (total 5 columns):\n",
      " #   Column        Non-Null Count   Dtype         \n",
      "---  ------        --------------   -----         \n",
      " 0   id            149396 non-null  object        \n",
      " 1   mb_used       149396 non-null  float64       \n",
      " 2   session_date  149396 non-null  datetime64[ns]\n",
      " 3   user_id       149396 non-null  int64         \n",
      " 4   month         149396 non-null  int64         \n",
      "dtypes: datetime64[ns](1), float64(1), int64(2), object(1)\n",
      "memory usage: 5.7+ MB\n"
     ]
    }
   ],
   "source": [
    "# выведем общую информацию о таблице, после всех преобразований\n",
    "internet.info()"
   ]
  },
  {
   "cell_type": "markdown",
   "id": "7f802e41",
   "metadata": {},
   "source": [
    "Данные приведены к корректному виду. Можем переходить к обработке следующих таблиц. "
   ]
  },
  {
   "cell_type": "markdown",
   "id": "7a15deb2",
   "metadata": {},
   "source": [
    "#### Таблица messages"
   ]
  },
  {
   "cell_type": "markdown",
   "id": "2edf6489",
   "metadata": {},
   "source": [
    "В таблице с сообщения необходимо произвести преобразование даты в нужный формат:"
   ]
  },
  {
   "cell_type": "code",
   "execution_count": 28,
   "id": "ad7a6c33",
   "metadata": {},
   "outputs": [],
   "source": [
    "# приводим данные в столбце message_date к формату datetime\n",
    "messages['message_date'] = pd.to_datetime(messages['message_date'], format='%Y-%m-%d')"
   ]
  },
  {
   "cell_type": "markdown",
   "id": "dce90faa",
   "metadata": {},
   "source": [
    "Как и в прошлый таблицах для дальнейших расчетов нам необходимо добавить столбец с месяцем. Если в таблице представлены данные за разные года, то необходимо учесть это. \n",
    "Проверим какие года есть в таблице:"
   ]
  },
  {
   "cell_type": "code",
   "execution_count": 29,
   "id": "f13153c8",
   "metadata": {},
   "outputs": [
    {
     "data": {
      "text/plain": [
       "Int64Index([2018], dtype='int64', name='message_date')"
      ]
     },
     "execution_count": 29,
     "metadata": {},
     "output_type": "execute_result"
    }
   ],
   "source": [
    "# выделяем данные по году, когда было отправлено сообщение и добавляем в year_mes\n",
    "year_mes = pd.DatetimeIndex(messages['message_date']).year\n",
    "# выводим уникальные значения столбца year_int\n",
    "year_mes.unique()"
   ]
  },
  {
   "cell_type": "markdown",
   "id": "55853f9f",
   "metadata": {},
   "source": [
    "Отлично. В этой таблице данные также указаны только за 2018 год, поэтому год можно не учитывать:"
   ]
  },
  {
   "cell_type": "code",
   "execution_count": 30,
   "id": "afae73c1",
   "metadata": {},
   "outputs": [
    {
     "data": {
      "text/html": [
       "<div>\n",
       "<style scoped>\n",
       "    .dataframe tbody tr th:only-of-type {\n",
       "        vertical-align: middle;\n",
       "    }\n",
       "\n",
       "    .dataframe tbody tr th {\n",
       "        vertical-align: top;\n",
       "    }\n",
       "\n",
       "    .dataframe thead th {\n",
       "        text-align: right;\n",
       "    }\n",
       "</style>\n",
       "<table border=\"1\" class=\"dataframe\">\n",
       "  <thead>\n",
       "    <tr style=\"text-align: right;\">\n",
       "      <th></th>\n",
       "      <th>id</th>\n",
       "      <th>message_date</th>\n",
       "      <th>user_id</th>\n",
       "      <th>month</th>\n",
       "    </tr>\n",
       "  </thead>\n",
       "  <tbody>\n",
       "    <tr>\n",
       "      <th>0</th>\n",
       "      <td>1000_0</td>\n",
       "      <td>2018-06-27</td>\n",
       "      <td>1000</td>\n",
       "      <td>6</td>\n",
       "    </tr>\n",
       "    <tr>\n",
       "      <th>1</th>\n",
       "      <td>1000_1</td>\n",
       "      <td>2018-10-08</td>\n",
       "      <td>1000</td>\n",
       "      <td>10</td>\n",
       "    </tr>\n",
       "    <tr>\n",
       "      <th>2</th>\n",
       "      <td>1000_2</td>\n",
       "      <td>2018-08-04</td>\n",
       "      <td>1000</td>\n",
       "      <td>8</td>\n",
       "    </tr>\n",
       "    <tr>\n",
       "      <th>3</th>\n",
       "      <td>1000_3</td>\n",
       "      <td>2018-06-16</td>\n",
       "      <td>1000</td>\n",
       "      <td>6</td>\n",
       "    </tr>\n",
       "    <tr>\n",
       "      <th>4</th>\n",
       "      <td>1000_4</td>\n",
       "      <td>2018-12-05</td>\n",
       "      <td>1000</td>\n",
       "      <td>12</td>\n",
       "    </tr>\n",
       "  </tbody>\n",
       "</table>\n",
       "</div>"
      ],
      "text/plain": [
       "       id message_date  user_id  month\n",
       "0  1000_0   2018-06-27     1000      6\n",
       "1  1000_1   2018-10-08     1000     10\n",
       "2  1000_2   2018-08-04     1000      8\n",
       "3  1000_3   2018-06-16     1000      6\n",
       "4  1000_4   2018-12-05     1000     12"
      ]
     },
     "execution_count": 30,
     "metadata": {},
     "output_type": "execute_result"
    }
   ],
   "source": [
    "# создаем отдельный столбец и добавляем в него месяц из столбца message_date\n",
    "messages['month'] = pd.DatetimeIndex(messages['message_date']).month\n",
    "# выводим первые 5 строк для проверки\n",
    "messages.head()"
   ]
  },
  {
   "cell_type": "markdown",
   "id": "fc961119",
   "metadata": {},
   "source": [
    "Проверим таблицу на наличие явных дубликатов:"
   ]
  },
  {
   "cell_type": "code",
   "execution_count": 31,
   "id": "c63b147f",
   "metadata": {},
   "outputs": [
    {
     "data": {
      "text/plain": [
       "0"
      ]
     },
     "execution_count": 31,
     "metadata": {},
     "output_type": "execute_result"
    }
   ],
   "source": [
    "# проверяем наличие явных дубликатов\n",
    "messages.duplicated().sum()"
   ]
  },
  {
   "cell_type": "markdown",
   "id": "632536c0",
   "metadata": {},
   "source": [
    "Дубликатов нет. Выведем еще раз общую информацию о таблице после обработки столбцов:"
   ]
  },
  {
   "cell_type": "code",
   "execution_count": 32,
   "id": "a9172767",
   "metadata": {},
   "outputs": [
    {
     "name": "stdout",
     "output_type": "stream",
     "text": [
      "<class 'pandas.core.frame.DataFrame'>\n",
      "RangeIndex: 123036 entries, 0 to 123035\n",
      "Data columns (total 4 columns):\n",
      " #   Column        Non-Null Count   Dtype         \n",
      "---  ------        --------------   -----         \n",
      " 0   id            123036 non-null  object        \n",
      " 1   message_date  123036 non-null  datetime64[ns]\n",
      " 2   user_id       123036 non-null  int64         \n",
      " 3   month         123036 non-null  int64         \n",
      "dtypes: datetime64[ns](1), int64(2), object(1)\n",
      "memory usage: 3.8+ MB\n"
     ]
    }
   ],
   "source": [
    "# выводим общую информацию о таблице\n",
    "messages.info()"
   ]
  },
  {
   "cell_type": "markdown",
   "id": "0fdd3abe",
   "metadata": {},
   "source": [
    "Данные приведены в нужные форматы. Можем переходить к следующей таблице. "
   ]
  },
  {
   "cell_type": "markdown",
   "id": "b2ad53ba",
   "metadata": {},
   "source": [
    "#### Таблица tariffs"
   ]
  },
  {
   "cell_type": "markdown",
   "id": "35f449f1",
   "metadata": {},
   "source": [
    "Для удобства дальнейшей обработки данных добавим столбец с данными по включенному в пакет услуг объему интернета в гагабайтах:"
   ]
  },
  {
   "cell_type": "code",
   "execution_count": 33,
   "id": "8db42bd8",
   "metadata": {},
   "outputs": [
    {
     "data": {
      "text/html": [
       "<div>\n",
       "<style scoped>\n",
       "    .dataframe tbody tr th:only-of-type {\n",
       "        vertical-align: middle;\n",
       "    }\n",
       "\n",
       "    .dataframe tbody tr th {\n",
       "        vertical-align: top;\n",
       "    }\n",
       "\n",
       "    .dataframe thead th {\n",
       "        text-align: right;\n",
       "    }\n",
       "</style>\n",
       "<table border=\"1\" class=\"dataframe\">\n",
       "  <thead>\n",
       "    <tr style=\"text-align: right;\">\n",
       "      <th></th>\n",
       "      <th>messages_included</th>\n",
       "      <th>mb_per_month_included</th>\n",
       "      <th>minutes_included</th>\n",
       "      <th>rub_monthly_fee</th>\n",
       "      <th>rub_per_gb</th>\n",
       "      <th>rub_per_message</th>\n",
       "      <th>rub_per_minute</th>\n",
       "      <th>tariff_name</th>\n",
       "      <th>gb_per_month_included</th>\n",
       "    </tr>\n",
       "  </thead>\n",
       "  <tbody>\n",
       "    <tr>\n",
       "      <th>0</th>\n",
       "      <td>50</td>\n",
       "      <td>15360</td>\n",
       "      <td>500</td>\n",
       "      <td>550</td>\n",
       "      <td>200</td>\n",
       "      <td>3</td>\n",
       "      <td>3</td>\n",
       "      <td>smart</td>\n",
       "      <td>15</td>\n",
       "    </tr>\n",
       "    <tr>\n",
       "      <th>1</th>\n",
       "      <td>1000</td>\n",
       "      <td>30720</td>\n",
       "      <td>3000</td>\n",
       "      <td>1950</td>\n",
       "      <td>150</td>\n",
       "      <td>1</td>\n",
       "      <td>1</td>\n",
       "      <td>ultra</td>\n",
       "      <td>30</td>\n",
       "    </tr>\n",
       "  </tbody>\n",
       "</table>\n",
       "</div>"
      ],
      "text/plain": [
       "   messages_included  mb_per_month_included  minutes_included  \\\n",
       "0                 50                  15360               500   \n",
       "1               1000                  30720              3000   \n",
       "\n",
       "   rub_monthly_fee  rub_per_gb  rub_per_message  rub_per_minute tariff_name  \\\n",
       "0              550         200                3               3       smart   \n",
       "1             1950         150                1               1       ultra   \n",
       "\n",
       "   gb_per_month_included  \n",
       "0                     15  \n",
       "1                     30  "
      ]
     },
     "execution_count": 33,
     "metadata": {},
     "output_type": "execute_result"
    }
   ],
   "source": [
    "# добавляем столбец gb_per_month_included, добавляем в него данный столбца mb_per_month_included переведенные в гигабайты\n",
    "# округляем их в большую сторону и приводим к целочисленным значениям\n",
    "tariffs['gb_per_month_included'] = np.ceil(tariffs['mb_per_month_included']/1024).astype(int)\n",
    "# выводим таблицу с тарифами\n",
    "tariffs"
   ]
  },
  {
   "cell_type": "markdown",
   "id": "509ac335",
   "metadata": {},
   "source": [
    "Для дальнейшего удобства объединения таблиц в одну переименуем столбец tariff_name в tariff^"
   ]
  },
  {
   "cell_type": "code",
   "execution_count": 34,
   "id": "627fdf4e",
   "metadata": {},
   "outputs": [],
   "source": [
    "# переименовываем столбец tariff_name в tariff\n",
    "tariffs = tariffs.rename(columns={'tariff_name':'tariff'})"
   ]
  },
  {
   "cell_type": "markdown",
   "id": "ea17b3a9",
   "metadata": {},
   "source": [
    "С остальными данными дополнительных действий не требуется. "
   ]
  },
  {
   "cell_type": "markdown",
   "id": "e7971aa5",
   "metadata": {},
   "source": [
    "#### Таблица users"
   ]
  },
  {
   "cell_type": "markdown",
   "id": "fdc77c59",
   "metadata": {},
   "source": [
    "Как и в прошлых таблицах переводим данные столбцов с датой регистрации в формат datetime:"
   ]
  },
  {
   "cell_type": "code",
   "execution_count": 35,
   "id": "37ca87e1",
   "metadata": {},
   "outputs": [],
   "source": [
    "# переводим данные столбца reg_date в формат datetime\n",
    "users['reg_date'] = pd.to_datetime(users['reg_date'], format='%Y-%m-%d')\n",
    "# переводим данные столбца churn_date в формат datetime\n",
    "users['churn_date'] = pd.to_datetime(users['churn_date'], format='%Y-%m-%d')"
   ]
  },
  {
   "cell_type": "markdown",
   "id": "7ec2b15f",
   "metadata": {},
   "source": [
    "Проверим столбцы city и age на наличие неявных дубликатов и аномальных значений:"
   ]
  },
  {
   "cell_type": "code",
   "execution_count": 36,
   "id": "42e52400",
   "metadata": {},
   "outputs": [
    {
     "data": {
      "text/plain": [
       "array(['Архангельск', 'Астрахань', 'Балашиха', 'Барнаул', 'Белгород',\n",
       "       'Брянск', 'Владивосток', 'Владикавказ', 'Владимир', 'Волгоград',\n",
       "       'Волжский', 'Вологда', 'Воронеж', 'Грозный', 'Екатеринбург',\n",
       "       'Иваново', 'Ижевск', 'Иркутск', 'Казань', 'Калининград', 'Калуга',\n",
       "       'Кемерово', 'Киров', 'Кострома', 'Краснодар', 'Красноярск',\n",
       "       'Курган', 'Курск', 'Липецк', 'Магнитогорск', 'Махачкала', 'Москва',\n",
       "       'Мурманск', 'Набережные Челны', 'Нижневартовск', 'Нижний Новгород',\n",
       "       'Нижний Тагил', 'Новокузнецк', 'Новороссийск', 'Новосибирск',\n",
       "       'Омск', 'Оренбург', 'Орёл', 'Пенза', 'Пермь', 'Петрозаводск',\n",
       "       'Подольск', 'Ростов-на-Дону', 'Рязань', 'Самара',\n",
       "       'Санкт-Петербург', 'Саранск', 'Саратов', 'Севастополь', 'Смоленск',\n",
       "       'Сочи', 'Ставрополь', 'Стерлитамак', 'Сургут', 'Тамбов', 'Тверь',\n",
       "       'Тольятти', 'Томск', 'Тула', 'Тюмень', 'Улан-Удэ', 'Ульяновск',\n",
       "       'Уфа', 'Хабаровск', 'Химки', 'Чебоксары', 'Челябинск', 'Череповец',\n",
       "       'Чита', 'Якутск', 'Ярославль'], dtype=object)"
      ]
     },
     "execution_count": 36,
     "metadata": {},
     "output_type": "execute_result"
    }
   ],
   "source": [
    "# выводим уникальные столбцы столбца city, сортируем в алфавитном порядке\n",
    "users['city'].sort_values().unique()"
   ]
  },
  {
   "cell_type": "code",
   "execution_count": 37,
   "id": "2e692a42",
   "metadata": {},
   "outputs": [
    {
     "data": {
      "text/plain": [
       "array([18, 19, 20, 21, 22, 23, 24, 25, 26, 27, 28, 29, 30, 31, 32, 33, 34,\n",
       "       35, 36, 37, 38, 39, 40, 41, 42, 43, 44, 45, 46, 47, 48, 49, 50, 51,\n",
       "       52, 53, 54, 55, 56, 57, 58, 59, 60, 61, 62, 63, 64, 65, 66, 67, 68,\n",
       "       69, 70, 71, 72, 73, 74, 75])"
      ]
     },
     "execution_count": 37,
     "metadata": {},
     "output_type": "execute_result"
    }
   ],
   "source": [
    "# выводим уникальные значения столбца age, сортируем по возрастанию\n",
    "users['age'].sort_values().unique()"
   ]
  },
  {
   "cell_type": "markdown",
   "id": "996b8aff",
   "metadata": {},
   "source": [
    "Повторов в данных или аномальных значений нет. Все в целом корректно. Проверим таблицу на наличие явных строк-дубликатов:"
   ]
  },
  {
   "cell_type": "code",
   "execution_count": 38,
   "id": "018e5862",
   "metadata": {},
   "outputs": [
    {
     "data": {
      "text/plain": [
       "0"
      ]
     },
     "execution_count": 38,
     "metadata": {},
     "output_type": "execute_result"
    }
   ],
   "source": [
    "# проверяем наличие явных дубликатов\n",
    "users.duplicated().sum()"
   ]
  },
  {
   "cell_type": "markdown",
   "id": "e5c82d98",
   "metadata": {},
   "source": [
    "Дубликатов нет, можем переходить к расчетам. "
   ]
  },
  {
   "cell_type": "markdown",
   "id": "ac00a336",
   "metadata": {},
   "source": [
    "### Предварительные расчеты и объединение таблиц"
   ]
  },
  {
   "cell_type": "markdown",
   "id": "b4b086d8",
   "metadata": {},
   "source": [
    "Перед переходом к анализу самих данных произвем ряд рассчетов. Сгруппируем пользователей по количеству и длительности звонков за месяц:"
   ]
  },
  {
   "cell_type": "code",
   "execution_count": 39,
   "id": "5da20562",
   "metadata": {},
   "outputs": [
    {
     "data": {
      "text/html": [
       "<div>\n",
       "<style scoped>\n",
       "    .dataframe tbody tr th:only-of-type {\n",
       "        vertical-align: middle;\n",
       "    }\n",
       "\n",
       "    .dataframe tbody tr th {\n",
       "        vertical-align: top;\n",
       "    }\n",
       "\n",
       "    .dataframe thead th {\n",
       "        text-align: right;\n",
       "    }\n",
       "</style>\n",
       "<table border=\"1\" class=\"dataframe\">\n",
       "  <thead>\n",
       "    <tr style=\"text-align: right;\">\n",
       "      <th></th>\n",
       "      <th>user_id</th>\n",
       "      <th>month</th>\n",
       "      <th>calls_count</th>\n",
       "      <th>duration</th>\n",
       "    </tr>\n",
       "  </thead>\n",
       "  <tbody>\n",
       "    <tr>\n",
       "      <th>0</th>\n",
       "      <td>1000</td>\n",
       "      <td>5</td>\n",
       "      <td>22</td>\n",
       "      <td>159</td>\n",
       "    </tr>\n",
       "    <tr>\n",
       "      <th>1</th>\n",
       "      <td>1000</td>\n",
       "      <td>6</td>\n",
       "      <td>43</td>\n",
       "      <td>172</td>\n",
       "    </tr>\n",
       "    <tr>\n",
       "      <th>2</th>\n",
       "      <td>1000</td>\n",
       "      <td>7</td>\n",
       "      <td>47</td>\n",
       "      <td>340</td>\n",
       "    </tr>\n",
       "    <tr>\n",
       "      <th>3</th>\n",
       "      <td>1000</td>\n",
       "      <td>8</td>\n",
       "      <td>52</td>\n",
       "      <td>408</td>\n",
       "    </tr>\n",
       "    <tr>\n",
       "      <th>4</th>\n",
       "      <td>1000</td>\n",
       "      <td>9</td>\n",
       "      <td>58</td>\n",
       "      <td>466</td>\n",
       "    </tr>\n",
       "  </tbody>\n",
       "</table>\n",
       "</div>"
      ],
      "text/plain": [
       "   user_id  month  calls_count  duration\n",
       "0     1000      5           22       159\n",
       "1     1000      6           43       172\n",
       "2     1000      7           47       340\n",
       "3     1000      8           52       408\n",
       "4     1000      9           58       466"
      ]
     },
     "execution_count": 39,
     "metadata": {},
     "output_type": "execute_result"
    }
   ],
   "source": [
    "# группируем таблицу catts по id пользователя и месяцу, считаем количество id и суммируем данные по количеству потраченных мин\n",
    "group_calls = calls.groupby(['user_id','month']).agg({'id': 'count', 'duration': 'sum'}).reset_index()\n",
    "# переименовывает столбец id в calls_count\n",
    "group_calls = group_calls.rename(columns={'id':'calls_count'})\n",
    "# выводим первые 5 строк новой таблицы\n",
    "group_calls.head()"
   ]
  },
  {
   "cell_type": "markdown",
   "id": "de999be1",
   "metadata": {},
   "source": [
    "Таким же образом поступаем с данными о сообщениях. Группируем их по количество отправленных смс каждым из пользователей в месяц:"
   ]
  },
  {
   "cell_type": "code",
   "execution_count": 40,
   "id": "2f0072ed",
   "metadata": {},
   "outputs": [
    {
     "data": {
      "text/html": [
       "<div>\n",
       "<style scoped>\n",
       "    .dataframe tbody tr th:only-of-type {\n",
       "        vertical-align: middle;\n",
       "    }\n",
       "\n",
       "    .dataframe tbody tr th {\n",
       "        vertical-align: top;\n",
       "    }\n",
       "\n",
       "    .dataframe thead th {\n",
       "        text-align: right;\n",
       "    }\n",
       "</style>\n",
       "<table border=\"1\" class=\"dataframe\">\n",
       "  <thead>\n",
       "    <tr style=\"text-align: right;\">\n",
       "      <th></th>\n",
       "      <th>user_id</th>\n",
       "      <th>month</th>\n",
       "      <th>mess_count</th>\n",
       "    </tr>\n",
       "  </thead>\n",
       "  <tbody>\n",
       "    <tr>\n",
       "      <th>0</th>\n",
       "      <td>1000</td>\n",
       "      <td>5</td>\n",
       "      <td>22</td>\n",
       "    </tr>\n",
       "    <tr>\n",
       "      <th>1</th>\n",
       "      <td>1000</td>\n",
       "      <td>6</td>\n",
       "      <td>60</td>\n",
       "    </tr>\n",
       "    <tr>\n",
       "      <th>2</th>\n",
       "      <td>1000</td>\n",
       "      <td>7</td>\n",
       "      <td>75</td>\n",
       "    </tr>\n",
       "    <tr>\n",
       "      <th>3</th>\n",
       "      <td>1000</td>\n",
       "      <td>8</td>\n",
       "      <td>81</td>\n",
       "    </tr>\n",
       "    <tr>\n",
       "      <th>4</th>\n",
       "      <td>1000</td>\n",
       "      <td>9</td>\n",
       "      <td>57</td>\n",
       "    </tr>\n",
       "  </tbody>\n",
       "</table>\n",
       "</div>"
      ],
      "text/plain": [
       "   user_id  month  mess_count\n",
       "0     1000      5          22\n",
       "1     1000      6          60\n",
       "2     1000      7          75\n",
       "3     1000      8          81\n",
       "4     1000      9          57"
      ]
     },
     "execution_count": 40,
     "metadata": {},
     "output_type": "execute_result"
    }
   ],
   "source": [
    "# группируем данные в таблице messages по id пользователю и месяцу, считаем количество отправленнх смс\n",
    "group_mess = messages.groupby(['user_id','month']).agg({'id': 'count'}).reset_index()\n",
    "# переименуем столбец id в mess_count\n",
    "group_mess = group_mess.rename(columns={'id':'mess_count'})\n",
    "# выводим первые 5 строк новой таблицы\n",
    "group_mess.head()"
   ]
  },
  {
   "cell_type": "markdown",
   "id": "990ef345",
   "metadata": {},
   "source": [
    "Производим манипуляции с таблицей с данными по интернет-сессиям. Считаем сколько тратит мегабайт каждый из пользователей в месяц:"
   ]
  },
  {
   "cell_type": "code",
   "execution_count": 41,
   "id": "03b979d8",
   "metadata": {},
   "outputs": [],
   "source": [
    "# группируем данные в таблице internet по id подльзователя и месяцу, суммируем количество потраченных гигов в месяц\n",
    "group_internet = internet.groupby(['user_id','month']).agg({'mb_used': 'sum'}).reset_index()"
   ]
  },
  {
   "cell_type": "markdown",
   "id": "bb80173c",
   "metadata": {},
   "source": [
    "Данные в таблице по интернет-сессиям данные по потраченному трафику представлены в мегабайтах. Согласно документации, данные округляются до гигабайтов в большую сторону. \n",
    "Приведем данные в таблице к удобному для анализу виду:"
   ]
  },
  {
   "cell_type": "code",
   "execution_count": 42,
   "id": "fb76cea5",
   "metadata": {},
   "outputs": [
    {
     "data": {
      "text/html": [
       "<div>\n",
       "<style scoped>\n",
       "    .dataframe tbody tr th:only-of-type {\n",
       "        vertical-align: middle;\n",
       "    }\n",
       "\n",
       "    .dataframe tbody tr th {\n",
       "        vertical-align: top;\n",
       "    }\n",
       "\n",
       "    .dataframe thead th {\n",
       "        text-align: right;\n",
       "    }\n",
       "</style>\n",
       "<table border=\"1\" class=\"dataframe\">\n",
       "  <thead>\n",
       "    <tr style=\"text-align: right;\">\n",
       "      <th></th>\n",
       "      <th>user_id</th>\n",
       "      <th>month</th>\n",
       "      <th>mb_used</th>\n",
       "      <th>gb_used</th>\n",
       "    </tr>\n",
       "  </thead>\n",
       "  <tbody>\n",
       "    <tr>\n",
       "      <th>0</th>\n",
       "      <td>1000</td>\n",
       "      <td>5</td>\n",
       "      <td>2253.49</td>\n",
       "      <td>3</td>\n",
       "    </tr>\n",
       "    <tr>\n",
       "      <th>1</th>\n",
       "      <td>1000</td>\n",
       "      <td>6</td>\n",
       "      <td>23233.77</td>\n",
       "      <td>23</td>\n",
       "    </tr>\n",
       "    <tr>\n",
       "      <th>2</th>\n",
       "      <td>1000</td>\n",
       "      <td>7</td>\n",
       "      <td>14003.64</td>\n",
       "      <td>14</td>\n",
       "    </tr>\n",
       "    <tr>\n",
       "      <th>3</th>\n",
       "      <td>1000</td>\n",
       "      <td>8</td>\n",
       "      <td>14055.93</td>\n",
       "      <td>14</td>\n",
       "    </tr>\n",
       "    <tr>\n",
       "      <th>4</th>\n",
       "      <td>1000</td>\n",
       "      <td>9</td>\n",
       "      <td>14568.91</td>\n",
       "      <td>15</td>\n",
       "    </tr>\n",
       "  </tbody>\n",
       "</table>\n",
       "</div>"
      ],
      "text/plain": [
       "   user_id  month   mb_used  gb_used\n",
       "0     1000      5   2253.49        3\n",
       "1     1000      6  23233.77       23\n",
       "2     1000      7  14003.64       14\n",
       "3     1000      8  14055.93       14\n",
       "4     1000      9  14568.91       15"
      ]
     },
     "execution_count": 42,
     "metadata": {},
     "output_type": "execute_result"
    }
   ],
   "source": [
    "# создаем отдельный столбец с потраченными гигабайтами, добавляем в него данные из столбца mb_used переведенные в нужные единицы\n",
    "group_internet['gb_used'] = group_internet['mb_used']/1024\n",
    "# приведем данные к целочисленным, округляем в большую сторону\n",
    "group_internet['gb_used'] = np.ceil(group_internet['gb_used']).astype('int')\n",
    "# выводим первые 5 строк новой таблицы\n",
    "group_internet.head()"
   ]
  },
  {
   "cell_type": "markdown",
   "id": "8c8cab92",
   "metadata": {},
   "source": [
    "Сведем все данные в одну таблицу для дальнейшего анализа:"
   ]
  },
  {
   "cell_type": "code",
   "execution_count": 43,
   "id": "ecd65f08",
   "metadata": {},
   "outputs": [
    {
     "data": {
      "text/html": [
       "<div>\n",
       "<style scoped>\n",
       "    .dataframe tbody tr th:only-of-type {\n",
       "        vertical-align: middle;\n",
       "    }\n",
       "\n",
       "    .dataframe tbody tr th {\n",
       "        vertical-align: top;\n",
       "    }\n",
       "\n",
       "    .dataframe thead th {\n",
       "        text-align: right;\n",
       "    }\n",
       "</style>\n",
       "<table border=\"1\" class=\"dataframe\">\n",
       "  <thead>\n",
       "    <tr style=\"text-align: right;\">\n",
       "      <th></th>\n",
       "      <th>user_id</th>\n",
       "      <th>month</th>\n",
       "      <th>calls_count</th>\n",
       "      <th>duration</th>\n",
       "      <th>mess_count</th>\n",
       "      <th>gb_used</th>\n",
       "      <th>tariff</th>\n",
       "      <th>city</th>\n",
       "      <th>messages_included</th>\n",
       "      <th>mb_per_month_included</th>\n",
       "      <th>minutes_included</th>\n",
       "      <th>rub_monthly_fee</th>\n",
       "      <th>rub_per_gb</th>\n",
       "      <th>rub_per_message</th>\n",
       "      <th>rub_per_minute</th>\n",
       "      <th>gb_per_month_included</th>\n",
       "    </tr>\n",
       "  </thead>\n",
       "  <tbody>\n",
       "    <tr>\n",
       "      <th>0</th>\n",
       "      <td>1000</td>\n",
       "      <td>5</td>\n",
       "      <td>22.0</td>\n",
       "      <td>159.0</td>\n",
       "      <td>22.0</td>\n",
       "      <td>3.0</td>\n",
       "      <td>ultra</td>\n",
       "      <td>Краснодар</td>\n",
       "      <td>1000</td>\n",
       "      <td>30720</td>\n",
       "      <td>3000</td>\n",
       "      <td>1950</td>\n",
       "      <td>150</td>\n",
       "      <td>1</td>\n",
       "      <td>1</td>\n",
       "      <td>30</td>\n",
       "    </tr>\n",
       "    <tr>\n",
       "      <th>1</th>\n",
       "      <td>1000</td>\n",
       "      <td>6</td>\n",
       "      <td>43.0</td>\n",
       "      <td>172.0</td>\n",
       "      <td>60.0</td>\n",
       "      <td>23.0</td>\n",
       "      <td>ultra</td>\n",
       "      <td>Краснодар</td>\n",
       "      <td>1000</td>\n",
       "      <td>30720</td>\n",
       "      <td>3000</td>\n",
       "      <td>1950</td>\n",
       "      <td>150</td>\n",
       "      <td>1</td>\n",
       "      <td>1</td>\n",
       "      <td>30</td>\n",
       "    </tr>\n",
       "    <tr>\n",
       "      <th>2</th>\n",
       "      <td>1000</td>\n",
       "      <td>7</td>\n",
       "      <td>47.0</td>\n",
       "      <td>340.0</td>\n",
       "      <td>75.0</td>\n",
       "      <td>14.0</td>\n",
       "      <td>ultra</td>\n",
       "      <td>Краснодар</td>\n",
       "      <td>1000</td>\n",
       "      <td>30720</td>\n",
       "      <td>3000</td>\n",
       "      <td>1950</td>\n",
       "      <td>150</td>\n",
       "      <td>1</td>\n",
       "      <td>1</td>\n",
       "      <td>30</td>\n",
       "    </tr>\n",
       "    <tr>\n",
       "      <th>3</th>\n",
       "      <td>1000</td>\n",
       "      <td>8</td>\n",
       "      <td>52.0</td>\n",
       "      <td>408.0</td>\n",
       "      <td>81.0</td>\n",
       "      <td>14.0</td>\n",
       "      <td>ultra</td>\n",
       "      <td>Краснодар</td>\n",
       "      <td>1000</td>\n",
       "      <td>30720</td>\n",
       "      <td>3000</td>\n",
       "      <td>1950</td>\n",
       "      <td>150</td>\n",
       "      <td>1</td>\n",
       "      <td>1</td>\n",
       "      <td>30</td>\n",
       "    </tr>\n",
       "    <tr>\n",
       "      <th>4</th>\n",
       "      <td>1000</td>\n",
       "      <td>9</td>\n",
       "      <td>58.0</td>\n",
       "      <td>466.0</td>\n",
       "      <td>57.0</td>\n",
       "      <td>15.0</td>\n",
       "      <td>ultra</td>\n",
       "      <td>Краснодар</td>\n",
       "      <td>1000</td>\n",
       "      <td>30720</td>\n",
       "      <td>3000</td>\n",
       "      <td>1950</td>\n",
       "      <td>150</td>\n",
       "      <td>1</td>\n",
       "      <td>1</td>\n",
       "      <td>30</td>\n",
       "    </tr>\n",
       "  </tbody>\n",
       "</table>\n",
       "</div>"
      ],
      "text/plain": [
       "   user_id  month  calls_count  duration  mess_count  gb_used tariff  \\\n",
       "0     1000      5         22.0     159.0        22.0      3.0  ultra   \n",
       "1     1000      6         43.0     172.0        60.0     23.0  ultra   \n",
       "2     1000      7         47.0     340.0        75.0     14.0  ultra   \n",
       "3     1000      8         52.0     408.0        81.0     14.0  ultra   \n",
       "4     1000      9         58.0     466.0        57.0     15.0  ultra   \n",
       "\n",
       "        city  messages_included  mb_per_month_included  minutes_included  \\\n",
       "0  Краснодар               1000                  30720              3000   \n",
       "1  Краснодар               1000                  30720              3000   \n",
       "2  Краснодар               1000                  30720              3000   \n",
       "3  Краснодар               1000                  30720              3000   \n",
       "4  Краснодар               1000                  30720              3000   \n",
       "\n",
       "   rub_monthly_fee  rub_per_gb  rub_per_message  rub_per_minute  \\\n",
       "0             1950         150                1               1   \n",
       "1             1950         150                1               1   \n",
       "2             1950         150                1               1   \n",
       "3             1950         150                1               1   \n",
       "4             1950         150                1               1   \n",
       "\n",
       "   gb_per_month_included  \n",
       "0                     30  \n",
       "1                     30  \n",
       "2                     30  \n",
       "3                     30  \n",
       "4                     30  "
      ]
     },
     "execution_count": 43,
     "metadata": {},
     "output_type": "execute_result"
    }
   ],
   "source": [
    "# объединяем таблицы group_calls и group_mess по user_id и month, добавдяем новую таблицу в data\n",
    "data = group_calls.merge(group_mess, how='outer', on=['user_id', 'month'])\n",
    "# объединяем таблицы data и group_internet по user_id и month\n",
    "data = data.merge(group_internet[['user_id', 'month','gb_used']] , how='outer', on=['user_id', 'month'])\n",
    "# объединяем таблицы data и users по user_id\n",
    "data = data.merge(users[['user_id', 'tariff', 'city']] , how='left', on='user_id')\n",
    "# объединяем таблицы data и tariffs\n",
    "data = data.merge(tariffs, how='left', on='tariff')\n",
    "# выводим первые 5 строк таблицы data\n",
    "data.head()"
   ]
  },
  {
   "cell_type": "markdown",
   "id": "d059c49e",
   "metadata": {},
   "source": [
    "Все таблицы успешно сведены, проверим общую информацию о новой таблице:"
   ]
  },
  {
   "cell_type": "code",
   "execution_count": 44,
   "id": "6ef47738",
   "metadata": {},
   "outputs": [
    {
     "name": "stdout",
     "output_type": "stream",
     "text": [
      "<class 'pandas.core.frame.DataFrame'>\n",
      "Int64Index: 3214 entries, 0 to 3213\n",
      "Data columns (total 16 columns):\n",
      " #   Column                 Non-Null Count  Dtype  \n",
      "---  ------                 --------------  -----  \n",
      " 0   user_id                3214 non-null   int64  \n",
      " 1   month                  3214 non-null   int64  \n",
      " 2   calls_count            3174 non-null   float64\n",
      " 3   duration               3174 non-null   float64\n",
      " 4   mess_count             2717 non-null   float64\n",
      " 5   gb_used                3203 non-null   float64\n",
      " 6   tariff                 3214 non-null   object \n",
      " 7   city                   3214 non-null   object \n",
      " 8   messages_included      3214 non-null   int64  \n",
      " 9   mb_per_month_included  3214 non-null   int64  \n",
      " 10  minutes_included       3214 non-null   int64  \n",
      " 11  rub_monthly_fee        3214 non-null   int64  \n",
      " 12  rub_per_gb             3214 non-null   int64  \n",
      " 13  rub_per_message        3214 non-null   int64  \n",
      " 14  rub_per_minute         3214 non-null   int64  \n",
      " 15  gb_per_month_included  3214 non-null   int64  \n",
      "dtypes: float64(4), int64(10), object(2)\n",
      "memory usage: 426.9+ KB\n"
     ]
    }
   ],
   "source": [
    "# выводим общую информацию о сводной таблице data\n",
    "data.info()"
   ]
  },
  {
   "cell_type": "markdown",
   "id": "49e26eef",
   "metadata": {},
   "source": [
    "В столбцах calls_count, duration, mess_count и gb_used появились пропущенные значения при объединении, тип данных сменился на float. Для дальнейшего удобства работы необходимо убрать пропуски в таблице и заменить типы данных на int. "
   ]
  },
  {
   "cell_type": "code",
   "execution_count": 45,
   "id": "de9a2221",
   "metadata": {},
   "outputs": [
    {
     "name": "stdout",
     "output_type": "stream",
     "text": [
      "<class 'pandas.core.frame.DataFrame'>\n",
      "Int64Index: 3214 entries, 0 to 3213\n",
      "Data columns (total 16 columns):\n",
      " #   Column                 Non-Null Count  Dtype \n",
      "---  ------                 --------------  ----- \n",
      " 0   user_id                3214 non-null   int64 \n",
      " 1   month                  3214 non-null   int64 \n",
      " 2   calls_count            3214 non-null   int64 \n",
      " 3   duration               3214 non-null   int64 \n",
      " 4   mess_count             3214 non-null   int64 \n",
      " 5   gb_used                3214 non-null   int64 \n",
      " 6   tariff                 3214 non-null   object\n",
      " 7   city                   3214 non-null   object\n",
      " 8   messages_included      3214 non-null   int64 \n",
      " 9   mb_per_month_included  3214 non-null   int64 \n",
      " 10  minutes_included       3214 non-null   int64 \n",
      " 11  rub_monthly_fee        3214 non-null   int64 \n",
      " 12  rub_per_gb             3214 non-null   int64 \n",
      " 13  rub_per_message        3214 non-null   int64 \n",
      " 14  rub_per_minute         3214 non-null   int64 \n",
      " 15  gb_per_month_included  3214 non-null   int64 \n",
      "dtypes: int64(14), object(2)\n",
      "memory usage: 426.9+ KB\n"
     ]
    }
   ],
   "source": [
    "# выводим столбцы, пропущенные значения которых необходимо заменить на ноль\n",
    "columns = ['calls_count','duration','mess_count', 'gb_used']\n",
    "\n",
    "# создаем цикл, которых проходится по каждому из столбцов, заменяет пропуски на ноль и приводят значения столбцов к целым\n",
    "for column in columns:\n",
    "    data[column] = data[column].fillna('0')\n",
    "    data[column] = data[column].astype(int)\n",
    "\n",
    "# выводим общую информацию о таблице    \n",
    "data.info()    "
   ]
  },
  {
   "cell_type": "markdown",
   "id": "7bcd15e1",
   "metadata": {},
   "source": [
    "Мы успешно привели данные к нужным значениям, объединили таблицы и привели данные в конечной таблице к целочисленным значениям."
   ]
  },
  {
   "cell_type": "markdown",
   "id": "ce9a1f90",
   "metadata": {},
   "source": [
    "### Расчет выручки с каждого клиента за месяц"
   ]
  },
  {
   "cell_type": "markdown",
   "id": "ff001a42",
   "metadata": {},
   "source": [
    "Для расчета выручки по каждому клиенту за месяц напишем функцию для ее расчета:"
   ]
  },
  {
   "cell_type": "code",
   "execution_count": 46,
   "id": "fb0f41be",
   "metadata": {},
   "outputs": [],
   "source": [
    "def income_calculator(rub_monthly_fee):\n",
    "    '''\n",
    "    Функция возвращает значение стоимости тарифа и добавляет стоимость услуг вне его, если требуется:\n",
    "    - если общая длительность всех звонков совершенных за месяц пользователем больше, количества минут включенных в тариф,то\n",
    "    возвращаем стоимость тарифа + количество дополнительных минут, умноженных на стоимость одной минуты\n",
    "    - если количество сообщений за месяц отправленных пользователей больше, количества сообщений включенных в тариф,то\n",
    "    возвращаем стоимость тарифа + количество дополнительных сообщений, умноженных на стоимость одно сообщения\n",
    "    - если общее количество использованных гигабайт за месяц пользователем больше, количества гигабайт включенных в тариф,то\n",
    "    возвращаем стоимость тарифа + количество дополнительных гигабайтов, умноженных на стоимость одного гигабайта\n",
    "    '''\n",
    "    var = rub_monthly_fee['rub_monthly_fee']\n",
    "    if rub_monthly_fee['duration'] > rub_monthly_fee['minutes_included']:\n",
    "        var += (rub_monthly_fee['duration'] - rub_monthly_fee['minutes_included'])*rub_monthly_fee['rub_per_minute'] \n",
    "    if rub_monthly_fee['mess_count'] > rub_monthly_fee['messages_included']:\n",
    "        var += (rub_monthly_fee['mess_count'] - rub_monthly_fee['messages_included'])*rub_monthly_fee['rub_per_message']\n",
    "    if rub_monthly_fee['gb_used'] > rub_monthly_fee['gb_per_month_included']:\n",
    "        var += (rub_monthly_fee['gb_used']- rub_monthly_fee['gb_per_month_included'])*rub_monthly_fee['rub_per_gb'] \n",
    "    return var"
   ]
  },
  {
   "cell_type": "markdown",
   "id": "1febb2d8",
   "metadata": {},
   "source": [
    "Применим функцию к таблице data и запишем результат ее работы в новый столбец с прибылью:"
   ]
  },
  {
   "cell_type": "code",
   "execution_count": 47,
   "id": "5c5aa2a7",
   "metadata": {},
   "outputs": [
    {
     "data": {
      "text/html": [
       "<div>\n",
       "<style scoped>\n",
       "    .dataframe tbody tr th:only-of-type {\n",
       "        vertical-align: middle;\n",
       "    }\n",
       "\n",
       "    .dataframe tbody tr th {\n",
       "        vertical-align: top;\n",
       "    }\n",
       "\n",
       "    .dataframe thead th {\n",
       "        text-align: right;\n",
       "    }\n",
       "</style>\n",
       "<table border=\"1\" class=\"dataframe\">\n",
       "  <thead>\n",
       "    <tr style=\"text-align: right;\">\n",
       "      <th></th>\n",
       "      <th>user_id</th>\n",
       "      <th>month</th>\n",
       "      <th>calls_count</th>\n",
       "      <th>duration</th>\n",
       "      <th>mess_count</th>\n",
       "      <th>gb_used</th>\n",
       "      <th>tariff</th>\n",
       "      <th>city</th>\n",
       "      <th>messages_included</th>\n",
       "      <th>mb_per_month_included</th>\n",
       "      <th>minutes_included</th>\n",
       "      <th>rub_monthly_fee</th>\n",
       "      <th>rub_per_gb</th>\n",
       "      <th>rub_per_message</th>\n",
       "      <th>rub_per_minute</th>\n",
       "      <th>gb_per_month_included</th>\n",
       "      <th>income</th>\n",
       "    </tr>\n",
       "  </thead>\n",
       "  <tbody>\n",
       "    <tr>\n",
       "      <th>3209</th>\n",
       "      <td>1489</td>\n",
       "      <td>9</td>\n",
       "      <td>0</td>\n",
       "      <td>0</td>\n",
       "      <td>32</td>\n",
       "      <td>17</td>\n",
       "      <td>smart</td>\n",
       "      <td>Санкт-Петербург</td>\n",
       "      <td>50</td>\n",
       "      <td>15360</td>\n",
       "      <td>500</td>\n",
       "      <td>550</td>\n",
       "      <td>200</td>\n",
       "      <td>3</td>\n",
       "      <td>3</td>\n",
       "      <td>15</td>\n",
       "      <td>950</td>\n",
       "    </tr>\n",
       "    <tr>\n",
       "      <th>3210</th>\n",
       "      <td>1489</td>\n",
       "      <td>10</td>\n",
       "      <td>0</td>\n",
       "      <td>0</td>\n",
       "      <td>21</td>\n",
       "      <td>20</td>\n",
       "      <td>smart</td>\n",
       "      <td>Санкт-Петербург</td>\n",
       "      <td>50</td>\n",
       "      <td>15360</td>\n",
       "      <td>500</td>\n",
       "      <td>550</td>\n",
       "      <td>200</td>\n",
       "      <td>3</td>\n",
       "      <td>3</td>\n",
       "      <td>15</td>\n",
       "      <td>1550</td>\n",
       "    </tr>\n",
       "    <tr>\n",
       "      <th>3211</th>\n",
       "      <td>1489</td>\n",
       "      <td>11</td>\n",
       "      <td>0</td>\n",
       "      <td>0</td>\n",
       "      <td>20</td>\n",
       "      <td>18</td>\n",
       "      <td>smart</td>\n",
       "      <td>Санкт-Петербург</td>\n",
       "      <td>50</td>\n",
       "      <td>15360</td>\n",
       "      <td>500</td>\n",
       "      <td>550</td>\n",
       "      <td>200</td>\n",
       "      <td>3</td>\n",
       "      <td>3</td>\n",
       "      <td>15</td>\n",
       "      <td>1150</td>\n",
       "    </tr>\n",
       "    <tr>\n",
       "      <th>3212</th>\n",
       "      <td>1489</td>\n",
       "      <td>12</td>\n",
       "      <td>0</td>\n",
       "      <td>0</td>\n",
       "      <td>35</td>\n",
       "      <td>17</td>\n",
       "      <td>smart</td>\n",
       "      <td>Санкт-Петербург</td>\n",
       "      <td>50</td>\n",
       "      <td>15360</td>\n",
       "      <td>500</td>\n",
       "      <td>550</td>\n",
       "      <td>200</td>\n",
       "      <td>3</td>\n",
       "      <td>3</td>\n",
       "      <td>15</td>\n",
       "      <td>950</td>\n",
       "    </tr>\n",
       "    <tr>\n",
       "      <th>3213</th>\n",
       "      <td>1476</td>\n",
       "      <td>4</td>\n",
       "      <td>0</td>\n",
       "      <td>0</td>\n",
       "      <td>0</td>\n",
       "      <td>1</td>\n",
       "      <td>ultra</td>\n",
       "      <td>Москва</td>\n",
       "      <td>1000</td>\n",
       "      <td>30720</td>\n",
       "      <td>3000</td>\n",
       "      <td>1950</td>\n",
       "      <td>150</td>\n",
       "      <td>1</td>\n",
       "      <td>1</td>\n",
       "      <td>30</td>\n",
       "      <td>1950</td>\n",
       "    </tr>\n",
       "  </tbody>\n",
       "</table>\n",
       "</div>"
      ],
      "text/plain": [
       "      user_id  month  calls_count  duration  mess_count  gb_used tariff  \\\n",
       "3209     1489      9            0         0          32       17  smart   \n",
       "3210     1489     10            0         0          21       20  smart   \n",
       "3211     1489     11            0         0          20       18  smart   \n",
       "3212     1489     12            0         0          35       17  smart   \n",
       "3213     1476      4            0         0           0        1  ultra   \n",
       "\n",
       "                 city  messages_included  mb_per_month_included  \\\n",
       "3209  Санкт-Петербург                 50                  15360   \n",
       "3210  Санкт-Петербург                 50                  15360   \n",
       "3211  Санкт-Петербург                 50                  15360   \n",
       "3212  Санкт-Петербург                 50                  15360   \n",
       "3213           Москва               1000                  30720   \n",
       "\n",
       "      minutes_included  rub_monthly_fee  rub_per_gb  rub_per_message  \\\n",
       "3209               500              550         200                3   \n",
       "3210               500              550         200                3   \n",
       "3211               500              550         200                3   \n",
       "3212               500              550         200                3   \n",
       "3213              3000             1950         150                1   \n",
       "\n",
       "      rub_per_minute  gb_per_month_included  income  \n",
       "3209               3                     15     950  \n",
       "3210               3                     15    1550  \n",
       "3211               3                     15    1150  \n",
       "3212               3                     15     950  \n",
       "3213               1                     30    1950  "
      ]
     },
     "execution_count": 47,
     "metadata": {},
     "output_type": "execute_result"
    }
   ],
   "source": [
    "# применяем функцию к строкам таблицы data, результат добавляем в столбец income\n",
    "data['income'] = data.apply(income_calculator, axis=1)\n",
    "# выводим последние 5 строк таблицы\n",
    "data.tail()"
   ]
  },
  {
   "cell_type": "markdown",
   "id": "7531ae86",
   "metadata": {},
   "source": [
    "Расчеты успешно произведены. "
   ]
  },
  {
   "cell_type": "markdown",
   "id": "3df356c4",
   "metadata": {},
   "source": [
    "### Вывод"
   ]
  },
  {
   "cell_type": "markdown",
   "id": "d4b68f3a",
   "metadata": {},
   "source": [
    "В процессе предобработки данных мы привели данные к нужным видам:\n",
    "- скорректировали формат даты\n",
    "- вывели данные о месяце в отдельный столбец\n",
    "- привели мегабайты к гигабайтам и округлили значение в большую сторону (согласно документации)\n",
    "- округлили данные о звонках до минут в большую сторону (согласно документации)\n",
    "- проверили данных на явные и неявные дубликаты и пропуски\n",
    "\n",
    "Затем произвели предварительные расчеты сведя данные во всех таблицах по месяцам и user_id. Рассчитали соответственно сколько каждый из пользователей совершает звонков в месяц, сколько тратит минут на разговор, количество потраченного трафика за месяц в гигабайтах и и рассчитали количество сообщений для каждого пользователя в месяц. \n",
    "\n",
    "Эти данные мы объединили в одну таблицу, обработали пропуски, после этого посчитали общую выручку за каждый месяц за каждого пользователя. \n",
    "Теперь мы готовы переходить к анализу этих данных."
   ]
  },
  {
   "cell_type": "markdown",
   "id": "1b29c1bd",
   "metadata": {},
   "source": [
    "## Анализ данных о пользователях разных тарифов"
   ]
  },
  {
   "cell_type": "markdown",
   "id": "78b09e53",
   "metadata": {},
   "source": [
    "Для анализа данных о пользователях разных тарифов сформируем данные о тарифах в отдельные таблицы:"
   ]
  },
  {
   "cell_type": "code",
   "execution_count": 48,
   "id": "df7bb2cf",
   "metadata": {},
   "outputs": [],
   "source": [
    "# создаем переменную smart, добавляем в нее строки data, где в столбце tariff указан smart\n",
    "smart = data[data['tariff'] == 'smart']\n",
    "# создаем переменную ultra, добавляем в нее строки data, где в столбце tariff указан ultra\n",
    "ultra = data[data['tariff'] == 'ultra']"
   ]
  },
  {
   "cell_type": "markdown",
   "id": "fb022386",
   "metadata": {},
   "source": [
    "Получим описание данных о звонках. Для этого сгруппируем данные по тарифам по данным о длительности звонков:"
   ]
  },
  {
   "cell_type": "code",
   "execution_count": 49,
   "id": "78812947",
   "metadata": {},
   "outputs": [
    {
     "data": {
      "text/html": [
       "<div>\n",
       "<style scoped>\n",
       "    .dataframe tbody tr th:only-of-type {\n",
       "        vertical-align: middle;\n",
       "    }\n",
       "\n",
       "    .dataframe tbody tr th {\n",
       "        vertical-align: top;\n",
       "    }\n",
       "\n",
       "    .dataframe thead th {\n",
       "        text-align: right;\n",
       "    }\n",
       "</style>\n",
       "<table border=\"1\" class=\"dataframe\">\n",
       "  <thead>\n",
       "    <tr style=\"text-align: right;\">\n",
       "      <th></th>\n",
       "      <th>count</th>\n",
       "      <th>mean</th>\n",
       "      <th>std</th>\n",
       "      <th>min</th>\n",
       "      <th>25%</th>\n",
       "      <th>50%</th>\n",
       "      <th>75%</th>\n",
       "      <th>max</th>\n",
       "      <th>var</th>\n",
       "    </tr>\n",
       "    <tr>\n",
       "      <th>tariff</th>\n",
       "      <th></th>\n",
       "      <th></th>\n",
       "      <th></th>\n",
       "      <th></th>\n",
       "      <th></th>\n",
       "      <th></th>\n",
       "      <th></th>\n",
       "      <th></th>\n",
       "      <th></th>\n",
       "    </tr>\n",
       "  </thead>\n",
       "  <tbody>\n",
       "    <tr>\n",
       "      <th>smart</th>\n",
       "      <td>2229.0</td>\n",
       "      <td>417.934948</td>\n",
       "      <td>190.313730</td>\n",
       "      <td>0.0</td>\n",
       "      <td>282.0</td>\n",
       "      <td>422.0</td>\n",
       "      <td>545.0</td>\n",
       "      <td>1435.0</td>\n",
       "      <td>36203.066652</td>\n",
       "    </tr>\n",
       "    <tr>\n",
       "      <th>ultra</th>\n",
       "      <td>985.0</td>\n",
       "      <td>526.623350</td>\n",
       "      <td>317.606098</td>\n",
       "      <td>0.0</td>\n",
       "      <td>284.0</td>\n",
       "      <td>518.0</td>\n",
       "      <td>752.0</td>\n",
       "      <td>1673.0</td>\n",
       "      <td>100771.223617</td>\n",
       "    </tr>\n",
       "  </tbody>\n",
       "</table>\n",
       "</div>"
      ],
      "text/plain": [
       "         count        mean         std  min    25%    50%    75%     max  \\\n",
       "tariff                                                                     \n",
       "smart   2229.0  417.934948  190.313730  0.0  282.0  422.0  545.0  1435.0   \n",
       "ultra    985.0  526.623350  317.606098  0.0  284.0  518.0  752.0  1673.0   \n",
       "\n",
       "                  var  \n",
       "tariff                 \n",
       "smart    36203.066652  \n",
       "ultra   100771.223617  "
      ]
     },
     "execution_count": 49,
     "metadata": {},
     "output_type": "execute_result"
    }
   ],
   "source": [
    "# группируем данные по тарифам по длительности звонков и сохраняем их описание в переменную data_tariffs_duration\n",
    "data_tariffs_duration = data.groupby('tariff')['duration'].describe()\n",
    "# добавляем в data_tariffs_duration столбец var, в котором рассчитана дисперсия по длительности звонков по каждому из тарифов\n",
    "data_tariffs_duration['var'] = [np.var(smart['duration']), np.var(ultra['duration'])]\n",
    "# выводим талицу на экран\n",
    "data_tariffs_duration"
   ]
  },
  {
   "cell_type": "markdown",
   "id": "5eec3c63",
   "metadata": {},
   "source": [
    "Построим гистограмму распределения количества потраченных минут по пользователям каждого из тарифов:"
   ]
  },
  {
   "cell_type": "code",
   "execution_count": 50,
   "id": "c9498f98",
   "metadata": {},
   "outputs": [
    {
     "data": {
      "image/png": "[encoded data removed]",
      "text/plain": [
       "<Figure size 960x400 with 1 Axes>"
      ]
     },
     "metadata": {
      "needs_background": "light"
     },
     "output_type": "display_data"
    }
   ],
   "source": [
    "# строим гистограмму по распределению продолжительности звонков в месяц для пользователей разных тарифов\n",
    "plt.figure(figsize=(12, 5), dpi= 80)\n",
    "sns.kdeplot(smart['duration'], shade=True, color=\"g\", label=\"smart\", alpha=.7)\n",
    "sns.kdeplot(ultra['duration'], shade=True, color=\"dodgerblue\", label=\"ultra\", alpha=.7)\n",
    "plt.title('Распределение продолжительностей звонков пользователей в зависимости от тарифа', fontsize=10)\n",
    "plt.legend()\n",
    "plt.show()"
   ]
  },
  {
   "cell_type": "markdown",
   "id": "7b0ae776",
   "metadata": {},
   "source": [
    "Согласно документации в тариф \"Смарт\" входит 500 минут, а в тариф \"Ультра\" - 3000 минут разговора. \n",
    "\n",
    "По средним и медианным значениям количества потраченных минут видно, что пользователи обоих тарифов в среднем укладываются в обозначенные ограничения тарифа. \n",
    "\n",
    "У пользователей тарифа \"Ультра\" больший разброс данных и больше дисперсия соответственно. Они обычно не платят за дополнительные минуты, им достаточно тех, что входят в тариф. Более того этих минут так много, что большинство пользователей их не расходует полностью. \n",
    "\n",
    "В среднем, конечно, пользователи тарифа \"Смарт\" укладываются в ограничения тарифа. Однако судя по диаграмме достаточно много пользователей в выборке, которые доплачивали за дополнительные минуты разговора, т.е. тратили средства сверх тарифа. "
   ]
  },
  {
   "cell_type": "markdown",
   "id": "3ce2cc6d",
   "metadata": {},
   "source": [
    "Рассмотрим данные по отправке сообщений пользователями разных тарифов:"
   ]
  },
  {
   "cell_type": "code",
   "execution_count": 51,
   "id": "bc316b12",
   "metadata": {},
   "outputs": [
    {
     "data": {
      "text/html": [
       "<div>\n",
       "<style scoped>\n",
       "    .dataframe tbody tr th:only-of-type {\n",
       "        vertical-align: middle;\n",
       "    }\n",
       "\n",
       "    .dataframe tbody tr th {\n",
       "        vertical-align: top;\n",
       "    }\n",
       "\n",
       "    .dataframe thead th {\n",
       "        text-align: right;\n",
       "    }\n",
       "</style>\n",
       "<table border=\"1\" class=\"dataframe\">\n",
       "  <thead>\n",
       "    <tr style=\"text-align: right;\">\n",
       "      <th></th>\n",
       "      <th>count</th>\n",
       "      <th>mean</th>\n",
       "      <th>std</th>\n",
       "      <th>min</th>\n",
       "      <th>25%</th>\n",
       "      <th>50%</th>\n",
       "      <th>75%</th>\n",
       "      <th>max</th>\n",
       "      <th>var</th>\n",
       "    </tr>\n",
       "    <tr>\n",
       "      <th>tariff</th>\n",
       "      <th></th>\n",
       "      <th></th>\n",
       "      <th></th>\n",
       "      <th></th>\n",
       "      <th></th>\n",
       "      <th></th>\n",
       "      <th></th>\n",
       "      <th></th>\n",
       "      <th></th>\n",
       "    </tr>\n",
       "  </thead>\n",
       "  <tbody>\n",
       "    <tr>\n",
       "      <th>smart</th>\n",
       "      <td>2229.0</td>\n",
       "      <td>33.384029</td>\n",
       "      <td>28.227876</td>\n",
       "      <td>0.0</td>\n",
       "      <td>10.0</td>\n",
       "      <td>28.0</td>\n",
       "      <td>51.0</td>\n",
       "      <td>143.0</td>\n",
       "      <td>796.455483</td>\n",
       "    </tr>\n",
       "    <tr>\n",
       "      <th>ultra</th>\n",
       "      <td>985.0</td>\n",
       "      <td>49.363452</td>\n",
       "      <td>47.804457</td>\n",
       "      <td>0.0</td>\n",
       "      <td>6.0</td>\n",
       "      <td>38.0</td>\n",
       "      <td>79.0</td>\n",
       "      <td>224.0</td>\n",
       "      <td>2282.946075</td>\n",
       "    </tr>\n",
       "  </tbody>\n",
       "</table>\n",
       "</div>"
      ],
      "text/plain": [
       "         count       mean        std  min   25%   50%   75%    max  \\\n",
       "tariff                                                               \n",
       "smart   2229.0  33.384029  28.227876  0.0  10.0  28.0  51.0  143.0   \n",
       "ultra    985.0  49.363452  47.804457  0.0   6.0  38.0  79.0  224.0   \n",
       "\n",
       "                var  \n",
       "tariff               \n",
       "smart    796.455483  \n",
       "ultra   2282.946075  "
      ]
     },
     "execution_count": 51,
     "metadata": {},
     "output_type": "execute_result"
    }
   ],
   "source": [
    "# группируем данные по количеству сообщений в зависимости от тарифа, сохраняем описание этих данных \n",
    "# в переменную data_tariffs_mess_count\n",
    "data_tariffs_mess_count = data.groupby('tariff')['mess_count'].describe()\n",
    "# создаем столбец var и добавляем в него данные о дисперсии по каждому из тарифов\n",
    "data_tariffs_mess_count['var'] = [np.var(smart['mess_count']), np.var(ultra['mess_count'])]\n",
    "# выводим  таблицу на экран\n",
    "data_tariffs_mess_count"
   ]
  },
  {
   "cell_type": "markdown",
   "id": "73b2ef36",
   "metadata": {},
   "source": [
    "Построим диаграмму распределения количества сообщений отправленных за месяц пользователями каждого из тарифов:"
   ]
  },
  {
   "cell_type": "code",
   "execution_count": 52,
   "id": "615b596a",
   "metadata": {},
   "outputs": [
    {
     "data": {
      "image/png": "[encoded data removed]",
      "text/plain": [
       "<Figure size 960x400 with 1 Axes>"
      ]
     },
     "metadata": {
      "needs_background": "light"
     },
     "output_type": "display_data"
    }
   ],
   "source": [
    "# строим гистограмму по распределению количества отправленных сообщений в месяц для пользователей разных тарифов\n",
    "plt.figure(figsize=(12, 5), dpi= 80)\n",
    "sns.kdeplot(smart['mess_count'], shade=True, color=\"g\", label=\"smart\", alpha=.7)\n",
    "sns.kdeplot(ultra['mess_count'], shade=True, color=\"dodgerblue\", label=\"ultra\", alpha=.7)\n",
    "plt.title('Распределение количества сообщений, которые отправляют пользователи, в зависимости от тарифа', fontsize=10)\n",
    "plt.legend()\n",
    "plt.show()"
   ]
  },
  {
   "cell_type": "markdown",
   "id": "064b767c",
   "metadata": {},
   "source": [
    "Согласно документации в тариф \"Смарт\" входит 50 сообщений в месяц, в тариф \"Ультра\" - 1000 сообщений в месяц. \n",
    "\n",
    "Тут видим в целом такую же ситуацию, как с потраченными в месяц минутами:\n",
    "- у пользователей тарифа \"Ультра\" больший разброс данных, дисперсия. Однако они не выходят за рамки пакета услуг предоставляемых по тарифу\n",
    "- пользователи тарифа \"Смарт\" в среднем тоже укладываются в пакет сообщений, который доступен им в рамках тарифа. Однако есть достаточное количество пользователей, которые как мы видим из диаграммы, переплачивают за дополнительные сообщения"
   ]
  },
  {
   "cell_type": "markdown",
   "id": "385bfcc5",
   "metadata": {},
   "source": [
    "Теперь посмотрим на данные по использованным гигабайтам интернета в месяц по каждому из тарифов:"
   ]
  },
  {
   "cell_type": "code",
   "execution_count": 53,
   "id": "ac6580d0",
   "metadata": {},
   "outputs": [
    {
     "data": {
      "text/html": [
       "<div>\n",
       "<style scoped>\n",
       "    .dataframe tbody tr th:only-of-type {\n",
       "        vertical-align: middle;\n",
       "    }\n",
       "\n",
       "    .dataframe tbody tr th {\n",
       "        vertical-align: top;\n",
       "    }\n",
       "\n",
       "    .dataframe thead th {\n",
       "        text-align: right;\n",
       "    }\n",
       "</style>\n",
       "<table border=\"1\" class=\"dataframe\">\n",
       "  <thead>\n",
       "    <tr style=\"text-align: right;\">\n",
       "      <th></th>\n",
       "      <th>count</th>\n",
       "      <th>mean</th>\n",
       "      <th>std</th>\n",
       "      <th>min</th>\n",
       "      <th>25%</th>\n",
       "      <th>50%</th>\n",
       "      <th>75%</th>\n",
       "      <th>max</th>\n",
       "      <th>var</th>\n",
       "    </tr>\n",
       "    <tr>\n",
       "      <th>tariff</th>\n",
       "      <th></th>\n",
       "      <th></th>\n",
       "      <th></th>\n",
       "      <th></th>\n",
       "      <th></th>\n",
       "      <th></th>\n",
       "      <th></th>\n",
       "      <th></th>\n",
       "      <th></th>\n",
       "    </tr>\n",
       "  </thead>\n",
       "  <tbody>\n",
       "    <tr>\n",
       "      <th>smart</th>\n",
       "      <td>2229.0</td>\n",
       "      <td>16.328847</td>\n",
       "      <td>5.747061</td>\n",
       "      <td>0.0</td>\n",
       "      <td>13.0</td>\n",
       "      <td>17.0</td>\n",
       "      <td>20.0</td>\n",
       "      <td>38.0</td>\n",
       "      <td>33.013887</td>\n",
       "    </tr>\n",
       "    <tr>\n",
       "      <th>ultra</th>\n",
       "      <td>985.0</td>\n",
       "      <td>19.494416</td>\n",
       "      <td>9.853511</td>\n",
       "      <td>0.0</td>\n",
       "      <td>12.0</td>\n",
       "      <td>19.0</td>\n",
       "      <td>27.0</td>\n",
       "      <td>49.0</td>\n",
       "      <td>96.993116</td>\n",
       "    </tr>\n",
       "  </tbody>\n",
       "</table>\n",
       "</div>"
      ],
      "text/plain": [
       "         count       mean       std  min   25%   50%   75%   max        var\n",
       "tariff                                                                     \n",
       "smart   2229.0  16.328847  5.747061  0.0  13.0  17.0  20.0  38.0  33.013887\n",
       "ultra    985.0  19.494416  9.853511  0.0  12.0  19.0  27.0  49.0  96.993116"
      ]
     },
     "execution_count": 53,
     "metadata": {},
     "output_type": "execute_result"
    }
   ],
   "source": [
    "# группируем данные по тарифу исходя из потраченных гигов в месяц, сохраняем описание этих данных в data_tariffs_gb_used\n",
    "data_tariffs_gb_used = data.groupby('tariff')['gb_used'].describe()\n",
    "# создаем столбец var и добавляем в него данные о дисперсии по каждому из тарифов\n",
    "data_tariffs_gb_used['var'] = [np.var(smart['gb_used']), np.var(ultra['gb_used'])]\n",
    "# выводим таблицу на экран\n",
    "data_tariffs_gb_used"
   ]
  },
  {
   "cell_type": "code",
   "execution_count": 54,
   "id": "ad9587e0",
   "metadata": {},
   "outputs": [
    {
     "data": {
      "image/png": "[encoded data removed]",
      "text/plain": [
       "<Figure size 960x400 with 1 Axes>"
      ]
     },
     "metadata": {
      "needs_background": "light"
     },
     "output_type": "display_data"
    }
   ],
   "source": [
    "# строим гистограмму по распределению количества потраченных гигабайт в месяц для пользователей разных тарифов\n",
    "plt.figure(figsize=(12, 5), dpi= 80)\n",
    "sns.kdeplot(smart['gb_used'], shade=True, color=\"g\", label=\"smart\", alpha=.7)\n",
    "sns.kdeplot(ultra['gb_used'], shade=True, color=\"dodgerblue\", label=\"ultra\", alpha=.7)\n",
    "plt.title('Распределение количества гигабайтов, потраченных пользователями, в зависимости от тарифа', fontsize=10)\n",
    "plt.legend()\n",
    "plt.show()"
   ]
  },
  {
   "cell_type": "markdown",
   "id": "76aa2bf0",
   "metadata": {},
   "source": [
    "Согласно документации в тариф \"Смарт\" входит 15 ГБ трафика, в тариф \"Ультра\" - 30 ГБ трафика. \n",
    "\n",
    "Исходя из диаграммы видно, что пользователи обоих тарифов частенько доплачивают за дополнительный трафик. Однако пользователи тарифа \"Смарт\" в среднем используют больше, чем есть в пакете услуг тарифа и соответственно доплачивают гораздо чаще, чем пользователи тарифа \"Ультра\"."
   ]
  },
  {
   "cell_type": "markdown",
   "id": "81aa3054",
   "metadata": {},
   "source": [
    "### Вывод"
   ]
  },
  {
   "cell_type": "markdown",
   "id": "d4f34111",
   "metadata": {},
   "source": [
    "Пользователи разных тарифов ведут себя по-разному. \n",
    "\n",
    "Пользователи тарифа \"Смарт\" в среднем укладываются в количество минут и сообщений, предоставленных им в рамках тарифного плана. Однако достаточно большая часть пользователей переплачивает за дополнительные минуты или сообщения сверх плана. \n",
    "\n",
    "Пользователи тарифа \"Ультра\" имеют больший разброс данных об использовании минут, сообщений и гигабайт. Однако за минуты и сообщения они не переплачивают. Более того большинство пользователей не использует все минуты и сообщения, которые им были предоставлены в рамках тарифа. \n",
    "\n",
    "В плане использования гигабайт интернета пользователи обоих тарифов частенько доплачивают за дополнительный трафик. Однако пользователи тарифа \"Смарт\" делают этого гораздо-гораздо чаще. "
   ]
  },
  {
   "cell_type": "markdown",
   "id": "e3c42d4a",
   "metadata": {},
   "source": [
    "## Проверка гипотезы"
   ]
  },
  {
   "cell_type": "markdown",
   "id": "d526f2b5",
   "metadata": {},
   "source": [
    "Итак, попробуем проверить гипотезы:\n",
    "\n",
    "Пусть гипотеза: НО - средняя выручка пользователей тарифов \"Смарт\" и \"Ультра\" равны\n",
    "\n",
    "Альтернативная ей: Н1 - средние значения выручка пользователей тарифов \"Смарт\" и \"Ультра\" не равны\n",
    "\n",
    "Возьмем критический уровень статистической значимости не более 5%."
   ]
  },
  {
   "cell_type": "code",
   "execution_count": 55,
   "id": "06b26ad5",
   "metadata": {},
   "outputs": [
    {
     "name": "stdout",
     "output_type": "stream",
     "text": [
      "p-значение:  1.4229814360764067e-160\n",
      "Отвергаем нулевую гипотезу\n"
     ]
    }
   ],
   "source": [
    "# т-тест для проверки гипотезы о том, что выручка для пользователей тарифов \"Смарт\" и \"Ультра\" равна\n",
    "sample_1 = smart['income']\n",
    "sample_2 = ultra['income']\n",
    "results = st.ttest_ind(sample_1, sample_2)\n",
    "alpha = 0.05\n",
    "\n",
    "print('p-значение: ', results.pvalue)\n",
    "if results.pvalue < alpha:\n",
    "    print('Отвергаем нулевую гипотезу')\n",
    "else:\n",
    "    print('Не получилось отвергнуть нулевую гипотезу')"
   ]
  },
  {
   "cell_type": "markdown",
   "id": "18c19270",
   "metadata": {},
   "source": [
    "Проверка показала, что выручка по пользователям тарифов \"Смарт\" и \"Ультра\" не равна. Проверим за пользователей какого тарифа выручка за год и в среднем за месяц получилась больше:"
   ]
  },
  {
   "cell_type": "code",
   "execution_count": 56,
   "id": "dc3754bf",
   "metadata": {},
   "outputs": [
    {
     "data": {
      "text/html": [
       "<div>\n",
       "<style scoped>\n",
       "    .dataframe tbody tr th:only-of-type {\n",
       "        vertical-align: middle;\n",
       "    }\n",
       "\n",
       "    .dataframe tbody tr th {\n",
       "        vertical-align: top;\n",
       "    }\n",
       "\n",
       "    .dataframe thead tr th {\n",
       "        text-align: left;\n",
       "    }\n",
       "\n",
       "    .dataframe thead tr:last-of-type th {\n",
       "        text-align: right;\n",
       "    }\n",
       "</style>\n",
       "<table border=\"1\" class=\"dataframe\">\n",
       "  <thead>\n",
       "    <tr>\n",
       "      <th></th>\n",
       "      <th>sum</th>\n",
       "      <th>mean</th>\n",
       "    </tr>\n",
       "    <tr>\n",
       "      <th></th>\n",
       "      <th>income</th>\n",
       "      <th>income</th>\n",
       "    </tr>\n",
       "    <tr>\n",
       "      <th>tariff</th>\n",
       "      <th></th>\n",
       "      <th></th>\n",
       "    </tr>\n",
       "  </thead>\n",
       "  <tbody>\n",
       "    <tr>\n",
       "      <th>smart</th>\n",
       "      <td>2875351</td>\n",
       "      <td>1289.973531</td>\n",
       "    </tr>\n",
       "    <tr>\n",
       "      <th>ultra</th>\n",
       "      <td>2039100</td>\n",
       "      <td>2070.152284</td>\n",
       "    </tr>\n",
       "  </tbody>\n",
       "</table>\n",
       "</div>"
      ],
      "text/plain": [
       "            sum         mean\n",
       "         income       income\n",
       "tariff                      \n",
       "smart   2875351  1289.973531\n",
       "ultra   2039100  2070.152284"
      ]
     },
     "execution_count": 56,
     "metadata": {},
     "output_type": "execute_result"
    }
   ],
   "source": [
    "# создаем сводную таблицу по тарифам, суммируем общую выручку и вычисляем среднюю вырочку за месяц\n",
    "income_tariff = data.pivot_table(index='tariff', values='income', aggfunc=['sum', 'mean'])\n",
    "income_tariff"
   ]
  },
  {
   "cell_type": "markdown",
   "id": "8d0730e4",
   "metadata": {},
   "source": [
    "В среднем за месяц за пользователей тарифа \"Смарт\" выручка получается меньше. Однако если смотреть данные за весь год, то благодаря использованию дополнительных минут, сообщений и гигабайт пользователи тарифа \"Смарт\" принесли больше выручки, чем пользователи тарифа \"Ультра\"\n",
    "\n",
    "Проверим информацию по городам:\n",
    "\n",
    "Пусть: HO - средняя выручка пользователей из Москвы такая же, как выручка с пользователей других регионов. \n",
    "\n",
    "Альтернативная гипотеза: Н1 - средняя выручка пользователей из Москвы отличается от пользователей из других регионов"
   ]
  },
  {
   "cell_type": "code",
   "execution_count": 57,
   "id": "2e85af82",
   "metadata": {},
   "outputs": [
    {
     "name": "stdout",
     "output_type": "stream",
     "text": [
      "p-значение:  0.5440152911670224\n",
      "Опровергнуть нулевую гипотезу нельзя\n"
     ]
    }
   ],
   "source": [
    "# т-тест для проверки гипотезы о том, что выручка для пользователей из Москвы и других регионов равна\n",
    "sample_1 = data[data['city'] == 'Москва']['income']\n",
    "sample_2 = data[data['city'] != 'Москва']['income']\n",
    "results = st.ttest_ind(sample_1, sample_2)\n",
    "alpha = 0.05\n",
    "\n",
    "print('p-значение: ', results.pvalue)\n",
    "if results.pvalue < alpha:\n",
    "    print('Отвергаем нулевую гипотезу')\n",
    "else:\n",
    "    print('Опровергнуть нулевую гипотезу нельзя')"
   ]
  },
  {
   "cell_type": "markdown",
   "id": "3973d982",
   "metadata": {},
   "source": [
    "Значит выручка для пользователей из столицы и регионов примерно равна. Проверим это. Рассчитаем общую выручку за год и среднюю за месяц:"
   ]
  },
  {
   "cell_type": "code",
   "execution_count": 58,
   "id": "872db355",
   "metadata": {},
   "outputs": [
    {
     "data": {
      "text/html": [
       "<div>\n",
       "<style scoped>\n",
       "    .dataframe tbody tr th:only-of-type {\n",
       "        vertical-align: middle;\n",
       "    }\n",
       "\n",
       "    .dataframe tbody tr th {\n",
       "        vertical-align: top;\n",
       "    }\n",
       "\n",
       "    .dataframe thead tr th {\n",
       "        text-align: left;\n",
       "    }\n",
       "\n",
       "    .dataframe thead tr:last-of-type th {\n",
       "        text-align: right;\n",
       "    }\n",
       "</style>\n",
       "<table border=\"1\" class=\"dataframe\">\n",
       "  <thead>\n",
       "    <tr>\n",
       "      <th></th>\n",
       "      <th>sum</th>\n",
       "      <th>mean</th>\n",
       "    </tr>\n",
       "    <tr>\n",
       "      <th></th>\n",
       "      <th>income</th>\n",
       "      <th>income</th>\n",
       "    </tr>\n",
       "    <tr>\n",
       "      <th>city_category</th>\n",
       "      <th></th>\n",
       "      <th></th>\n",
       "    </tr>\n",
       "  </thead>\n",
       "  <tbody>\n",
       "    <tr>\n",
       "      <th>Другой</th>\n",
       "      <td>3969409</td>\n",
       "      <td>1524.936227</td>\n",
       "    </tr>\n",
       "    <tr>\n",
       "      <th>Москва</th>\n",
       "      <td>945042</td>\n",
       "      <td>1546.713584</td>\n",
       "    </tr>\n",
       "  </tbody>\n",
       "</table>\n",
       "</div>"
      ],
      "text/plain": [
       "                   sum         mean\n",
       "                income       income\n",
       "city_category                      \n",
       "Другой         3969409  1524.936227\n",
       "Москва          945042  1546.713584"
      ]
     },
     "execution_count": 58,
     "metadata": {},
     "output_type": "execute_result"
    }
   ],
   "source": [
    "# создаем столбец с категорией города, добавляем значение \"Другие\"\n",
    "data['city_category'] = 'Другой'\n",
    "# в столбце меняем значение тех строк, которые не соответствуют условию \"не Москва\", то есть являются Москвой\n",
    "data['city_category'] = data['city_category'].where(data['city']!='Москва', 'Москва')\n",
    "# делаем сводную таблицу по Москве и другим городам, рассчитываем суммарную выручку за год и среднюю выручку в месяц\n",
    "data.pivot_table(index='city_category', values='income', aggfunc=['sum', 'mean'])"
   ]
  },
  {
   "cell_type": "markdown",
   "id": "87d10d4d",
   "metadata": {},
   "source": [
    "Суммарно выручка по пользователям из других городов получилась больше, но в среднем за месяц выручка по пользователям из Москвы и других городов почти одинакова."
   ]
  },
  {
   "cell_type": "markdown",
   "id": "ffaf9d6e",
   "metadata": {},
   "source": [
    "## Общий вывод"
   ]
  },
  {
   "cell_type": "markdown",
   "id": "2dc4918a",
   "metadata": {},
   "source": [
    "Для проведения исследования мы привели данные к нужным типам: скорректировали даты, удалили лишний столбец, которого не было в документации, выделили месяц в отдельный столбец. \n",
    "Далее мы группировали данные по количеству и длительности звонков, количеству сообщений и потраченных гигабайт для каждого из пользователей по месяцам. Затем свели все данные в одну таблицу. При группировке были обнаружены два пользователя, об использовании услуг по тарифам, у которых у нас не было данных. Мы вынуждены были удалить 2 строки сводной таблицы. \n",
    "По каждому пользователю в месяц мы рассчитали выручку исходя из стоимости тарифа + дополнительных услуг сверх тарифа. \n",
    "\n",
    "\n",
    "После обработки данных мы выявили особенности пользователей разных тарифов:\n",
    "- пользователи тарифа \"Смарт\" в среднем укладываются в лимиты по количеству минут и сообщений, но чаще чем пользователи тарифа \"Ультра\" покупают дополнительные услуги. При использовании интернета они в среднем тратят больше, чем заложено в их тарифном плане, и даже больше, чем пользователи тарифа \"Ультра\"\n",
    "- пользователи тарифа \"Ультра\" весьма распределены по тому сколько они тратят минут и сообщений. Однако они всегда укладываются в тариф. Превышение у них есть только по использованию интернета. Они могут доплачивать за дополнительные гигабайты сверх лимита в их тарифе\n",
    "\n",
    "Мы отвергли гипотезу о том, что пользователи тарифов \"Смарт\" и \"Ультра\" имеют одинаковую выручку. \n",
    "\n",
    "\n",
    "***Наиболее выгоден с точки зрения получения максимальной выручки тариф \"Смарт\", так как его пользователи тратят больше, часто используя дополнительные минуты, сообщения и гигабайты***\n",
    "\n",
    "\n",
    "Мы не смогли отвергнуть гипотезу о том, что пользователи из Москвы и регионов имеют одинаковую выручку. При расчетах вышло, что суммарная выручка за год по регионам больше, чем в столице. Однако в среднем за месяц пользователи тратят примерно одинаково."
   ]
  }
 ],
 "metadata": {
  "ExecuteTimeLog": [
   {
    "duration": 512,
    "start_time": "2022-03-28T17:52:55.267Z"
   },
   {
    "duration": 199,
    "start_time": "2022-03-28T17:53:46.394Z"
   },
   {
    "duration": 12,
    "start_time": "2022-03-28T17:54:44.558Z"
   },
   {
    "duration": 33,
    "start_time": "2022-03-28T17:54:49.656Z"
   },
   {
    "duration": 167,
    "start_time": "2022-03-28T17:56:09.424Z"
   },
   {
    "duration": 227,
    "start_time": "2022-03-28T17:56:22.588Z"
   },
   {
    "duration": 172,
    "start_time": "2022-03-28T17:56:34.578Z"
   },
   {
    "duration": 28,
    "start_time": "2022-03-28T17:57:00.487Z"
   },
   {
    "duration": 106,
    "start_time": "2022-03-28T17:57:57.675Z"
   },
   {
    "duration": 24,
    "start_time": "2022-03-28T17:58:17.369Z"
   },
   {
    "duration": 25,
    "start_time": "2022-03-28T18:00:22.451Z"
   },
   {
    "duration": 14,
    "start_time": "2022-03-28T18:01:03.261Z"
   },
   {
    "duration": 19,
    "start_time": "2022-03-28T18:01:15.495Z"
   },
   {
    "duration": 14,
    "start_time": "2022-03-28T18:01:27.754Z"
   },
   {
    "duration": 34,
    "start_time": "2022-03-28T18:02:17.362Z"
   },
   {
    "duration": 16,
    "start_time": "2022-03-28T18:02:41.636Z"
   },
   {
    "duration": 73,
    "start_time": "2022-03-29T08:18:01.763Z"
   },
   {
    "duration": 498,
    "start_time": "2022-03-29T08:18:07.019Z"
   },
   {
    "duration": 204,
    "start_time": "2022-03-29T08:18:07.519Z"
   },
   {
    "duration": 46,
    "start_time": "2022-03-29T08:18:07.725Z"
   },
   {
    "duration": 185,
    "start_time": "2022-03-29T08:18:07.775Z"
   },
   {
    "duration": 30,
    "start_time": "2022-03-29T08:18:07.963Z"
   },
   {
    "duration": 133,
    "start_time": "2022-03-29T08:18:07.995Z"
   },
   {
    "duration": 37,
    "start_time": "2022-03-29T08:18:08.131Z"
   },
   {
    "duration": 21,
    "start_time": "2022-03-29T08:18:08.171Z"
   },
   {
    "duration": 17,
    "start_time": "2022-03-29T08:18:08.194Z"
   },
   {
    "duration": 62,
    "start_time": "2022-03-29T08:18:08.214Z"
   },
   {
    "duration": 30,
    "start_time": "2022-03-29T08:18:08.279Z"
   },
   {
    "duration": 45,
    "start_time": "2022-03-29T14:28:52.783Z"
   },
   {
    "duration": 372,
    "start_time": "2022-03-29T14:28:58.997Z"
   },
   {
    "duration": 159,
    "start_time": "2022-03-29T14:28:59.371Z"
   },
   {
    "duration": 33,
    "start_time": "2022-03-29T14:28:59.533Z"
   },
   {
    "duration": 134,
    "start_time": "2022-03-29T14:28:59.569Z"
   },
   {
    "duration": 21,
    "start_time": "2022-03-29T14:28:59.706Z"
   },
   {
    "duration": 106,
    "start_time": "2022-03-29T14:28:59.729Z"
   },
   {
    "duration": 27,
    "start_time": "2022-03-29T14:28:59.837Z"
   },
   {
    "duration": 37,
    "start_time": "2022-03-29T14:28:59.866Z"
   },
   {
    "duration": 24,
    "start_time": "2022-03-29T14:28:59.905Z"
   },
   {
    "duration": 49,
    "start_time": "2022-03-29T14:28:59.932Z"
   },
   {
    "duration": 12,
    "start_time": "2022-03-29T14:28:59.982Z"
   },
   {
    "duration": 471,
    "start_time": "2022-03-30T17:16:08.382Z"
   },
   {
    "duration": 198,
    "start_time": "2022-03-30T17:16:08.856Z"
   },
   {
    "duration": 28,
    "start_time": "2022-03-30T17:16:09.056Z"
   },
   {
    "duration": 165,
    "start_time": "2022-03-30T17:16:09.086Z"
   },
   {
    "duration": 24,
    "start_time": "2022-03-30T17:16:09.252Z"
   },
   {
    "duration": 111,
    "start_time": "2022-03-30T17:16:09.278Z"
   },
   {
    "duration": 26,
    "start_time": "2022-03-30T17:16:09.390Z"
   },
   {
    "duration": 18,
    "start_time": "2022-03-30T17:16:09.418Z"
   },
   {
    "duration": 13,
    "start_time": "2022-03-30T17:16:09.438Z"
   },
   {
    "duration": 31,
    "start_time": "2022-03-30T17:16:09.453Z"
   },
   {
    "duration": 26,
    "start_time": "2022-03-30T17:16:09.486Z"
   },
   {
    "duration": 2260,
    "start_time": "2022-03-30T17:53:37.038Z"
   },
   {
    "duration": 40,
    "start_time": "2022-03-30T17:54:05.321Z"
   },
   {
    "duration": 36,
    "start_time": "2022-03-30T17:58:38.629Z"
   },
   {
    "duration": 6,
    "start_time": "2022-03-30T18:02:05.211Z"
   },
   {
    "duration": 450,
    "start_time": "2022-03-30T18:02:10.471Z"
   },
   {
    "duration": 179,
    "start_time": "2022-03-30T18:02:10.923Z"
   },
   {
    "duration": 29,
    "start_time": "2022-03-30T18:02:11.104Z"
   },
   {
    "duration": 179,
    "start_time": "2022-03-30T18:02:11.136Z"
   },
   {
    "duration": 26,
    "start_time": "2022-03-30T18:02:11.318Z"
   },
   {
    "duration": 115,
    "start_time": "2022-03-30T18:02:11.345Z"
   },
   {
    "duration": 21,
    "start_time": "2022-03-30T18:02:11.461Z"
   },
   {
    "duration": 25,
    "start_time": "2022-03-30T18:02:11.484Z"
   },
   {
    "duration": 11,
    "start_time": "2022-03-30T18:02:11.511Z"
   },
   {
    "duration": 29,
    "start_time": "2022-03-30T18:02:11.525Z"
   },
   {
    "duration": 14,
    "start_time": "2022-03-30T18:02:11.555Z"
   },
   {
    "duration": 7,
    "start_time": "2022-03-30T18:02:11.570Z"
   },
   {
    "duration": 39,
    "start_time": "2022-03-30T18:02:11.600Z"
   },
   {
    "duration": 37,
    "start_time": "2022-03-30T18:02:11.641Z"
   },
   {
    "duration": 12,
    "start_time": "2022-03-30T18:02:24.651Z"
   },
   {
    "duration": 459,
    "start_time": "2022-03-30T18:02:42.565Z"
   },
   {
    "duration": 189,
    "start_time": "2022-03-30T18:02:43.026Z"
   },
   {
    "duration": 29,
    "start_time": "2022-03-30T18:02:43.217Z"
   },
   {
    "duration": 162,
    "start_time": "2022-03-30T18:02:43.249Z"
   },
   {
    "duration": 25,
    "start_time": "2022-03-30T18:02:43.413Z"
   },
   {
    "duration": 109,
    "start_time": "2022-03-30T18:02:43.440Z"
   },
   {
    "duration": 22,
    "start_time": "2022-03-30T18:02:43.551Z"
   },
   {
    "duration": 33,
    "start_time": "2022-03-30T18:02:43.575Z"
   },
   {
    "duration": 12,
    "start_time": "2022-03-30T18:02:43.610Z"
   },
   {
    "duration": 26,
    "start_time": "2022-03-30T18:02:43.625Z"
   },
   {
    "duration": 13,
    "start_time": "2022-03-30T18:02:43.652Z"
   },
   {
    "duration": 17,
    "start_time": "2022-03-30T18:02:43.667Z"
   },
   {
    "duration": 40,
    "start_time": "2022-03-30T18:02:43.702Z"
   },
   {
    "duration": 57,
    "start_time": "2022-03-30T18:02:43.744Z"
   },
   {
    "duration": 44,
    "start_time": "2022-03-30T18:03:01.376Z"
   },
   {
    "duration": 29,
    "start_time": "2022-03-30T18:03:18.904Z"
   },
   {
    "duration": 32,
    "start_time": "2022-03-30T18:04:02.234Z"
   },
   {
    "duration": 6,
    "start_time": "2022-03-30T18:04:52.180Z"
   },
   {
    "duration": 22,
    "start_time": "2022-03-30T18:05:10.648Z"
   },
   {
    "duration": 21,
    "start_time": "2022-03-30T18:05:32.183Z"
   },
   {
    "duration": 640,
    "start_time": "2022-03-30T18:06:14.020Z"
   },
   {
    "duration": 15,
    "start_time": "2022-03-30T18:08:19.222Z"
   },
   {
    "duration": 390,
    "start_time": "2022-03-30T18:08:55.440Z"
   },
   {
    "duration": 174,
    "start_time": "2022-03-30T18:08:55.832Z"
   },
   {
    "duration": 29,
    "start_time": "2022-03-30T18:08:56.008Z"
   },
   {
    "duration": 161,
    "start_time": "2022-03-30T18:08:56.040Z"
   },
   {
    "duration": 24,
    "start_time": "2022-03-30T18:08:56.203Z"
   },
   {
    "duration": 107,
    "start_time": "2022-03-30T18:08:56.229Z"
   },
   {
    "duration": 21,
    "start_time": "2022-03-30T18:08:56.337Z"
   },
   {
    "duration": 16,
    "start_time": "2022-03-30T18:08:56.360Z"
   },
   {
    "duration": 31,
    "start_time": "2022-03-30T18:08:56.377Z"
   },
   {
    "duration": 28,
    "start_time": "2022-03-30T18:08:56.410Z"
   },
   {
    "duration": 12,
    "start_time": "2022-03-30T18:08:56.440Z"
   },
   {
    "duration": 10,
    "start_time": "2022-03-30T18:08:56.454Z"
   },
   {
    "duration": 56,
    "start_time": "2022-03-30T18:08:56.465Z"
   },
   {
    "duration": 30,
    "start_time": "2022-03-30T18:08:56.523Z"
   },
   {
    "duration": 14,
    "start_time": "2022-03-30T18:08:56.555Z"
   },
   {
    "duration": 28,
    "start_time": "2022-03-30T18:19:28.772Z"
   },
   {
    "duration": 445,
    "start_time": "2022-03-30T18:29:02.992Z"
   },
   {
    "duration": 186,
    "start_time": "2022-03-30T18:29:03.439Z"
   },
   {
    "duration": 28,
    "start_time": "2022-03-30T18:29:03.627Z"
   },
   {
    "duration": 154,
    "start_time": "2022-03-30T18:29:03.658Z"
   },
   {
    "duration": 24,
    "start_time": "2022-03-30T18:29:03.814Z"
   },
   {
    "duration": 109,
    "start_time": "2022-03-30T18:29:03.839Z"
   },
   {
    "duration": 21,
    "start_time": "2022-03-30T18:29:03.950Z"
   },
   {
    "duration": 39,
    "start_time": "2022-03-30T18:29:03.973Z"
   },
   {
    "duration": 12,
    "start_time": "2022-03-30T18:29:04.014Z"
   },
   {
    "duration": 35,
    "start_time": "2022-03-30T18:29:04.029Z"
   },
   {
    "duration": 13,
    "start_time": "2022-03-30T18:29:04.065Z"
   },
   {
    "duration": 19,
    "start_time": "2022-03-30T18:29:04.080Z"
   },
   {
    "duration": 39,
    "start_time": "2022-03-30T18:29:04.101Z"
   },
   {
    "duration": 27,
    "start_time": "2022-03-30T18:29:04.143Z"
   },
   {
    "duration": 48,
    "start_time": "2022-03-30T18:29:04.173Z"
   },
   {
    "duration": 16,
    "start_time": "2022-03-30T18:29:04.224Z"
   },
   {
    "duration": 48,
    "start_time": "2022-03-30T18:50:39.874Z"
   },
   {
    "duration": 450,
    "start_time": "2022-03-30T18:50:45.823Z"
   },
   {
    "duration": 184,
    "start_time": "2022-03-30T18:50:46.275Z"
   },
   {
    "duration": 28,
    "start_time": "2022-03-30T18:50:46.461Z"
   },
   {
    "duration": 156,
    "start_time": "2022-03-30T18:50:46.492Z"
   },
   {
    "duration": 24,
    "start_time": "2022-03-30T18:50:46.650Z"
   },
   {
    "duration": 104,
    "start_time": "2022-03-30T18:50:46.675Z"
   },
   {
    "duration": 22,
    "start_time": "2022-03-30T18:50:46.780Z"
   },
   {
    "duration": 32,
    "start_time": "2022-03-30T18:50:46.804Z"
   },
   {
    "duration": 12,
    "start_time": "2022-03-30T18:50:46.837Z"
   },
   {
    "duration": 39,
    "start_time": "2022-03-30T18:50:46.852Z"
   },
   {
    "duration": 12,
    "start_time": "2022-03-30T18:50:46.892Z"
   },
   {
    "duration": 8,
    "start_time": "2022-03-30T18:50:46.905Z"
   },
   {
    "duration": 52,
    "start_time": "2022-03-30T18:50:46.914Z"
   },
   {
    "duration": 27,
    "start_time": "2022-03-30T18:50:46.968Z"
   },
   {
    "duration": 58,
    "start_time": "2022-03-30T18:50:46.996Z"
   },
   {
    "duration": 15,
    "start_time": "2022-03-30T18:50:47.056Z"
   },
   {
    "duration": 133,
    "start_time": "2022-03-30T18:50:47.073Z"
   },
   {
    "duration": 450,
    "start_time": "2022-03-30T18:52:32.511Z"
   },
   {
    "duration": 189,
    "start_time": "2022-03-30T18:52:32.963Z"
   },
   {
    "duration": 30,
    "start_time": "2022-03-30T18:52:33.154Z"
   },
   {
    "duration": 159,
    "start_time": "2022-03-30T18:52:33.187Z"
   },
   {
    "duration": 24,
    "start_time": "2022-03-30T18:52:33.347Z"
   },
   {
    "duration": 103,
    "start_time": "2022-03-30T18:52:33.373Z"
   },
   {
    "duration": 22,
    "start_time": "2022-03-30T18:52:33.478Z"
   },
   {
    "duration": 30,
    "start_time": "2022-03-30T18:52:33.502Z"
   },
   {
    "duration": 12,
    "start_time": "2022-03-30T18:52:33.534Z"
   },
   {
    "duration": 40,
    "start_time": "2022-03-30T18:52:33.548Z"
   },
   {
    "duration": 11,
    "start_time": "2022-03-30T18:52:33.590Z"
   },
   {
    "duration": 11,
    "start_time": "2022-03-30T18:52:33.602Z"
   },
   {
    "duration": 44,
    "start_time": "2022-03-30T18:52:33.615Z"
   },
   {
    "duration": 27,
    "start_time": "2022-03-30T18:52:33.661Z"
   },
   {
    "duration": 43,
    "start_time": "2022-03-30T18:52:33.690Z"
   },
   {
    "duration": 15,
    "start_time": "2022-03-30T18:52:33.735Z"
   },
   {
    "duration": 132,
    "start_time": "2022-03-30T18:52:33.752Z"
   },
   {
    "duration": 50,
    "start_time": "2022-03-31T06:14:06.167Z"
   },
   {
    "duration": 447,
    "start_time": "2022-03-31T06:14:12.618Z"
   },
   {
    "duration": 189,
    "start_time": "2022-03-31T06:14:13.067Z"
   },
   {
    "duration": 26,
    "start_time": "2022-03-31T06:14:13.258Z"
   },
   {
    "duration": 167,
    "start_time": "2022-03-31T06:14:13.286Z"
   },
   {
    "duration": 23,
    "start_time": "2022-03-31T06:14:13.454Z"
   },
   {
    "duration": 104,
    "start_time": "2022-03-31T06:14:13.479Z"
   },
   {
    "duration": 32,
    "start_time": "2022-03-31T06:14:13.585Z"
   },
   {
    "duration": 15,
    "start_time": "2022-03-31T06:14:13.620Z"
   },
   {
    "duration": 9,
    "start_time": "2022-03-31T06:14:13.637Z"
   },
   {
    "duration": 25,
    "start_time": "2022-03-31T06:14:13.649Z"
   },
   {
    "duration": 11,
    "start_time": "2022-03-31T06:14:13.676Z"
   },
   {
    "duration": 9,
    "start_time": "2022-03-31T06:14:13.710Z"
   },
   {
    "duration": 41,
    "start_time": "2022-03-31T06:14:13.721Z"
   },
   {
    "duration": 51,
    "start_time": "2022-03-31T06:14:13.764Z"
   },
   {
    "duration": 34,
    "start_time": "2022-03-31T06:14:13.817Z"
   },
   {
    "duration": 14,
    "start_time": "2022-03-31T06:14:13.853Z"
   },
   {
    "duration": 152,
    "start_time": "2022-03-31T06:14:13.869Z"
   },
   {
    "duration": 16,
    "start_time": "2022-03-31T06:14:14.024Z"
   },
   {
    "duration": 11,
    "start_time": "2022-03-31T06:15:22.649Z"
   },
   {
    "duration": 67,
    "start_time": "2022-03-31T06:23:56.077Z"
   },
   {
    "duration": 6,
    "start_time": "2022-03-31T06:24:06.812Z"
   },
   {
    "duration": 8,
    "start_time": "2022-03-31T06:25:08.379Z"
   },
   {
    "duration": 14,
    "start_time": "2022-03-31T06:25:38.937Z"
   },
   {
    "duration": 8,
    "start_time": "2022-03-31T06:26:50.101Z"
   },
   {
    "duration": 9,
    "start_time": "2022-03-31T06:26:59.501Z"
   },
   {
    "duration": 5,
    "start_time": "2022-03-31T06:27:20.400Z"
   },
   {
    "duration": 423,
    "start_time": "2022-03-31T06:27:35.693Z"
   },
   {
    "duration": 181,
    "start_time": "2022-03-31T06:27:36.118Z"
   },
   {
    "duration": 25,
    "start_time": "2022-03-31T06:27:36.300Z"
   },
   {
    "duration": 139,
    "start_time": "2022-03-31T06:27:36.327Z"
   },
   {
    "duration": 20,
    "start_time": "2022-03-31T06:27:36.468Z"
   },
   {
    "duration": 92,
    "start_time": "2022-03-31T06:27:36.490Z"
   },
   {
    "duration": 25,
    "start_time": "2022-03-31T06:27:36.584Z"
   },
   {
    "duration": 15,
    "start_time": "2022-03-31T06:27:36.610Z"
   },
   {
    "duration": 10,
    "start_time": "2022-03-31T06:27:36.626Z"
   },
   {
    "duration": 24,
    "start_time": "2022-03-31T06:27:36.638Z"
   },
   {
    "duration": 9,
    "start_time": "2022-03-31T06:27:36.664Z"
   },
   {
    "duration": 9,
    "start_time": "2022-03-31T06:27:36.674Z"
   },
   {
    "duration": 48,
    "start_time": "2022-03-31T06:27:36.685Z"
   },
   {
    "duration": 26,
    "start_time": "2022-03-31T06:27:36.735Z"
   },
   {
    "duration": 47,
    "start_time": "2022-03-31T06:27:36.762Z"
   },
   {
    "duration": 14,
    "start_time": "2022-03-31T06:27:36.811Z"
   },
   {
    "duration": 114,
    "start_time": "2022-03-31T06:27:36.827Z"
   },
   {
    "duration": 14,
    "start_time": "2022-03-31T06:27:36.942Z"
   },
   {
    "duration": 10,
    "start_time": "2022-03-31T06:27:36.957Z"
   },
   {
    "duration": 8,
    "start_time": "2022-03-31T06:27:36.968Z"
   },
   {
    "duration": 9,
    "start_time": "2022-03-31T06:27:58.570Z"
   },
   {
    "duration": 406,
    "start_time": "2022-03-31T06:28:09.836Z"
   },
   {
    "duration": 172,
    "start_time": "2022-03-31T06:28:10.244Z"
   },
   {
    "duration": 28,
    "start_time": "2022-03-31T06:28:10.418Z"
   },
   {
    "duration": 147,
    "start_time": "2022-03-31T06:28:10.448Z"
   },
   {
    "duration": 25,
    "start_time": "2022-03-31T06:28:10.597Z"
   },
   {
    "duration": 92,
    "start_time": "2022-03-31T06:28:10.624Z"
   },
   {
    "duration": 19,
    "start_time": "2022-03-31T06:28:10.717Z"
   },
   {
    "duration": 14,
    "start_time": "2022-03-31T06:28:10.738Z"
   },
   {
    "duration": 10,
    "start_time": "2022-03-31T06:28:10.754Z"
   },
   {
    "duration": 25,
    "start_time": "2022-03-31T06:28:10.766Z"
   },
   {
    "duration": 10,
    "start_time": "2022-03-31T06:28:10.809Z"
   },
   {
    "duration": 14,
    "start_time": "2022-03-31T06:28:10.821Z"
   },
   {
    "duration": 41,
    "start_time": "2022-03-31T06:28:10.837Z"
   },
   {
    "duration": 34,
    "start_time": "2022-03-31T06:28:10.880Z"
   },
   {
    "duration": 29,
    "start_time": "2022-03-31T06:28:10.915Z"
   },
   {
    "duration": 15,
    "start_time": "2022-03-31T06:28:10.946Z"
   },
   {
    "duration": 131,
    "start_time": "2022-03-31T06:28:10.962Z"
   },
   {
    "duration": 22,
    "start_time": "2022-03-31T06:28:11.094Z"
   },
   {
    "duration": 10,
    "start_time": "2022-03-31T06:28:11.118Z"
   },
   {
    "duration": 9,
    "start_time": "2022-03-31T06:28:11.129Z"
   },
   {
    "duration": 26,
    "start_time": "2022-03-31T06:30:18.290Z"
   },
   {
    "duration": 390,
    "start_time": "2022-03-31T06:30:47.673Z"
   },
   {
    "duration": 176,
    "start_time": "2022-03-31T06:30:48.065Z"
   },
   {
    "duration": 25,
    "start_time": "2022-03-31T06:30:48.243Z"
   },
   {
    "duration": 146,
    "start_time": "2022-03-31T06:30:48.270Z"
   },
   {
    "duration": 21,
    "start_time": "2022-03-31T06:30:48.418Z"
   },
   {
    "duration": 98,
    "start_time": "2022-03-31T06:30:48.440Z"
   },
   {
    "duration": 18,
    "start_time": "2022-03-31T06:30:48.540Z"
   },
   {
    "duration": 14,
    "start_time": "2022-03-31T06:30:48.559Z"
   },
   {
    "duration": 9,
    "start_time": "2022-03-31T06:30:48.575Z"
   },
   {
    "duration": 24,
    "start_time": "2022-03-31T06:30:48.608Z"
   },
   {
    "duration": 11,
    "start_time": "2022-03-31T06:30:48.634Z"
   },
   {
    "duration": 19,
    "start_time": "2022-03-31T06:30:48.646Z"
   },
   {
    "duration": 41,
    "start_time": "2022-03-31T06:30:48.667Z"
   },
   {
    "duration": 46,
    "start_time": "2022-03-31T06:30:48.710Z"
   },
   {
    "duration": 52,
    "start_time": "2022-03-31T06:30:48.758Z"
   },
   {
    "duration": 14,
    "start_time": "2022-03-31T06:30:48.812Z"
   },
   {
    "duration": 112,
    "start_time": "2022-03-31T06:30:48.828Z"
   },
   {
    "duration": 14,
    "start_time": "2022-03-31T06:30:48.941Z"
   },
   {
    "duration": 9,
    "start_time": "2022-03-31T06:30:48.957Z"
   },
   {
    "duration": 16,
    "start_time": "2022-03-31T06:30:48.968Z"
   },
   {
    "duration": 41,
    "start_time": "2022-03-31T06:30:48.986Z"
   },
   {
    "duration": 63,
    "start_time": "2022-03-31T06:30:49.028Z"
   },
   {
    "duration": 20,
    "start_time": "2022-03-31T06:32:40.771Z"
   },
   {
    "duration": 19,
    "start_time": "2022-03-31T06:33:41.579Z"
   },
   {
    "duration": 24,
    "start_time": "2022-03-31T06:33:53.063Z"
   },
   {
    "duration": 10,
    "start_time": "2022-03-31T06:34:22.707Z"
   },
   {
    "duration": 19,
    "start_time": "2022-03-31T06:34:28.393Z"
   },
   {
    "duration": 18,
    "start_time": "2022-03-31T06:38:05.880Z"
   },
   {
    "duration": 19,
    "start_time": "2022-03-31T06:38:18.599Z"
   },
   {
    "duration": 22,
    "start_time": "2022-03-31T06:39:46.263Z"
   },
   {
    "duration": 12,
    "start_time": "2022-03-31T06:40:28.686Z"
   },
   {
    "duration": 7,
    "start_time": "2022-03-31T06:42:29.004Z"
   },
   {
    "duration": 1341,
    "start_time": "2022-03-31T06:44:03.886Z"
   },
   {
    "duration": 14,
    "start_time": "2022-03-31T06:44:14.027Z"
   },
   {
    "duration": 17,
    "start_time": "2022-03-31T06:50:45.307Z"
   },
   {
    "duration": 8,
    "start_time": "2022-03-31T07:48:00.955Z"
   },
   {
    "duration": 11,
    "start_time": "2022-03-31T08:01:12.650Z"
   },
   {
    "duration": 12,
    "start_time": "2022-03-31T08:13:18.016Z"
   },
   {
    "duration": 45,
    "start_time": "2022-03-31T08:21:16.110Z"
   },
   {
    "duration": 19,
    "start_time": "2022-03-31T08:51:54.707Z"
   },
   {
    "duration": 17,
    "start_time": "2022-03-31T08:53:45.373Z"
   },
   {
    "duration": 19,
    "start_time": "2022-03-31T08:53:47.932Z"
   },
   {
    "duration": 45,
    "start_time": "2022-03-31T08:53:55.174Z"
   },
   {
    "duration": 15,
    "start_time": "2022-03-31T08:54:05.801Z"
   },
   {
    "duration": 69,
    "start_time": "2022-03-31T12:27:34.778Z"
   },
   {
    "duration": 514,
    "start_time": "2022-03-31T12:27:41.339Z"
   },
   {
    "duration": 186,
    "start_time": "2022-03-31T12:27:41.856Z"
   },
   {
    "duration": 39,
    "start_time": "2022-03-31T12:27:42.045Z"
   },
   {
    "duration": 171,
    "start_time": "2022-03-31T12:27:42.087Z"
   },
   {
    "duration": 31,
    "start_time": "2022-03-31T12:27:42.261Z"
   },
   {
    "duration": 119,
    "start_time": "2022-03-31T12:27:42.295Z"
   },
   {
    "duration": 24,
    "start_time": "2022-03-31T12:27:42.416Z"
   },
   {
    "duration": 36,
    "start_time": "2022-03-31T12:27:42.443Z"
   },
   {
    "duration": 14,
    "start_time": "2022-03-31T12:27:42.482Z"
   },
   {
    "duration": 29,
    "start_time": "2022-03-31T12:27:42.502Z"
   },
   {
    "duration": 40,
    "start_time": "2022-03-31T12:27:42.533Z"
   },
   {
    "duration": 8,
    "start_time": "2022-03-31T12:27:42.576Z"
   },
   {
    "duration": 50,
    "start_time": "2022-03-31T12:27:42.586Z"
   },
   {
    "duration": 56,
    "start_time": "2022-03-31T12:27:42.638Z"
   },
   {
    "duration": 40,
    "start_time": "2022-03-31T12:27:42.696Z"
   },
   {
    "duration": 41,
    "start_time": "2022-03-31T12:27:42.738Z"
   },
   {
    "duration": 140,
    "start_time": "2022-03-31T12:27:42.781Z"
   },
   {
    "duration": 27,
    "start_time": "2022-03-31T12:27:42.923Z"
   },
   {
    "duration": 25,
    "start_time": "2022-03-31T12:27:42.952Z"
   },
   {
    "duration": 14,
    "start_time": "2022-03-31T12:27:42.979Z"
   },
   {
    "duration": 15,
    "start_time": "2022-03-31T12:27:42.996Z"
   },
   {
    "duration": 75,
    "start_time": "2022-03-31T12:27:43.013Z"
   },
   {
    "duration": 29,
    "start_time": "2022-03-31T12:27:43.090Z"
   },
   {
    "duration": 62,
    "start_time": "2022-03-31T12:27:43.122Z"
   },
   {
    "duration": 14,
    "start_time": "2022-03-31T12:27:43.187Z"
   },
   {
    "duration": 16,
    "start_time": "2022-03-31T12:27:43.203Z"
   },
   {
    "duration": 101,
    "start_time": "2022-03-31T12:27:43.222Z"
   },
   {
    "duration": 44,
    "start_time": "2022-03-31T12:27:43.329Z"
   },
   {
    "duration": 26,
    "start_time": "2022-03-31T12:27:43.375Z"
   },
   {
    "duration": 23,
    "start_time": "2022-03-31T12:27:43.403Z"
   },
   {
    "duration": 55,
    "start_time": "2022-03-31T12:27:43.428Z"
   },
   {
    "duration": 55,
    "start_time": "2022-03-31T12:27:43.486Z"
   },
   {
    "duration": 38,
    "start_time": "2022-03-31T12:27:43.543Z"
   },
   {
    "duration": 6,
    "start_time": "2022-03-31T12:27:43.583Z"
   },
   {
    "duration": 6,
    "start_time": "2022-03-31T12:28:22.500Z"
   },
   {
    "duration": 9,
    "start_time": "2022-03-31T12:30:15.413Z"
   },
   {
    "duration": 95,
    "start_time": "2022-03-31T12:31:37.666Z"
   },
   {
    "duration": 11,
    "start_time": "2022-03-31T12:31:48.134Z"
   },
   {
    "duration": 10,
    "start_time": "2022-03-31T12:37:12.491Z"
   },
   {
    "duration": 7,
    "start_time": "2022-03-31T12:37:36.198Z"
   },
   {
    "duration": 8,
    "start_time": "2022-03-31T12:41:20.225Z"
   },
   {
    "duration": 1580,
    "start_time": "2022-03-31T12:55:57.529Z"
   },
   {
    "duration": 13,
    "start_time": "2022-03-31T12:56:05.708Z"
   },
   {
    "duration": 13,
    "start_time": "2022-03-31T12:57:00.445Z"
   },
   {
    "duration": 6,
    "start_time": "2022-03-31T13:13:01.514Z"
   },
   {
    "duration": 63,
    "start_time": "2022-03-31T13:13:20.173Z"
   },
   {
    "duration": 49,
    "start_time": "2022-03-31T13:13:31.554Z"
   },
   {
    "duration": 18,
    "start_time": "2022-03-31T13:19:50.527Z"
   },
   {
    "duration": 43,
    "start_time": "2022-03-31T13:21:37.928Z"
   },
   {
    "duration": 16,
    "start_time": "2022-03-31T13:25:19.437Z"
   },
   {
    "duration": 495,
    "start_time": "2022-03-31T13:25:44.678Z"
   },
   {
    "duration": 212,
    "start_time": "2022-03-31T13:25:45.176Z"
   },
   {
    "duration": 35,
    "start_time": "2022-03-31T13:25:45.390Z"
   },
   {
    "duration": 184,
    "start_time": "2022-03-31T13:25:45.428Z"
   },
   {
    "duration": 30,
    "start_time": "2022-03-31T13:25:45.614Z"
   },
   {
    "duration": 125,
    "start_time": "2022-03-31T13:25:45.646Z"
   },
   {
    "duration": 25,
    "start_time": "2022-03-31T13:25:45.773Z"
   },
   {
    "duration": 18,
    "start_time": "2022-03-31T13:25:45.801Z"
   },
   {
    "duration": 15,
    "start_time": "2022-03-31T13:25:45.821Z"
   },
   {
    "duration": 54,
    "start_time": "2022-03-31T13:25:45.841Z"
   },
   {
    "duration": 15,
    "start_time": "2022-03-31T13:25:45.897Z"
   },
   {
    "duration": 10,
    "start_time": "2022-03-31T13:25:45.914Z"
   },
   {
    "duration": 74,
    "start_time": "2022-03-31T13:25:45.926Z"
   },
   {
    "duration": 35,
    "start_time": "2022-03-31T13:25:46.002Z"
   },
   {
    "duration": 62,
    "start_time": "2022-03-31T13:25:46.039Z"
   },
   {
    "duration": 17,
    "start_time": "2022-03-31T13:25:46.103Z"
   },
   {
    "duration": 150,
    "start_time": "2022-03-31T13:25:46.122Z"
   },
   {
    "duration": 25,
    "start_time": "2022-03-31T13:25:46.274Z"
   },
   {
    "duration": 11,
    "start_time": "2022-03-31T13:25:46.302Z"
   },
   {
    "duration": 13,
    "start_time": "2022-03-31T13:25:46.315Z"
   },
   {
    "duration": 46,
    "start_time": "2022-03-31T13:25:46.330Z"
   },
   {
    "duration": 32,
    "start_time": "2022-03-31T13:25:46.379Z"
   },
   {
    "duration": 56,
    "start_time": "2022-03-31T13:25:46.413Z"
   },
   {
    "duration": 34,
    "start_time": "2022-03-31T13:25:46.471Z"
   },
   {
    "duration": 13,
    "start_time": "2022-03-31T13:25:46.507Z"
   },
   {
    "duration": 47,
    "start_time": "2022-03-31T13:25:46.522Z"
   },
   {
    "duration": 66,
    "start_time": "2022-03-31T13:25:46.571Z"
   },
   {
    "duration": 44,
    "start_time": "2022-03-31T13:25:46.641Z"
   },
   {
    "duration": 26,
    "start_time": "2022-03-31T13:25:46.687Z"
   },
   {
    "duration": 22,
    "start_time": "2022-03-31T13:25:46.715Z"
   },
   {
    "duration": 52,
    "start_time": "2022-03-31T13:25:46.739Z"
   },
   {
    "duration": 80,
    "start_time": "2022-03-31T13:25:46.794Z"
   },
   {
    "duration": 23,
    "start_time": "2022-03-31T13:25:46.877Z"
   },
   {
    "duration": 15,
    "start_time": "2022-03-31T13:25:46.902Z"
   },
   {
    "duration": 7,
    "start_time": "2022-03-31T13:25:46.920Z"
   },
   {
    "duration": 7,
    "start_time": "2022-03-31T13:25:46.968Z"
   },
   {
    "duration": 8,
    "start_time": "2022-03-31T13:25:46.978Z"
   },
   {
    "duration": 133,
    "start_time": "2022-03-31T13:25:46.990Z"
   },
   {
    "duration": 50,
    "start_time": "2022-03-31T13:27:34.225Z"
   },
   {
    "duration": 45,
    "start_time": "2022-03-31T13:27:47.291Z"
   },
   {
    "duration": 45,
    "start_time": "2022-03-31T13:37:26.637Z"
   },
   {
    "duration": 23,
    "start_time": "2022-03-31T13:42:55.892Z"
   },
   {
    "duration": 28,
    "start_time": "2022-03-31T14:04:20.759Z"
   },
   {
    "duration": 27,
    "start_time": "2022-03-31T14:19:50.794Z"
   },
   {
    "duration": 29,
    "start_time": "2022-03-31T14:20:23.809Z"
   },
   {
    "duration": 131,
    "start_time": "2022-03-31T15:12:09.155Z"
   },
   {
    "duration": 27,
    "start_time": "2022-03-31T15:12:33.042Z"
   },
   {
    "duration": 50,
    "start_time": "2022-03-31T15:17:42.173Z"
   },
   {
    "duration": 50,
    "start_time": "2022-03-31T15:25:20.183Z"
   },
   {
    "duration": 34,
    "start_time": "2022-03-31T15:26:22.236Z"
   },
   {
    "duration": 51,
    "start_time": "2022-03-31T15:28:33.121Z"
   },
   {
    "duration": 10,
    "start_time": "2022-03-31T17:21:23.079Z"
   },
   {
    "duration": 672,
    "start_time": "2022-03-31T17:23:18.776Z"
   },
   {
    "duration": 312,
    "start_time": "2022-03-31T17:23:19.452Z"
   },
   {
    "duration": 39,
    "start_time": "2022-03-31T17:23:19.768Z"
   },
   {
    "duration": 179,
    "start_time": "2022-03-31T17:23:19.810Z"
   },
   {
    "duration": 31,
    "start_time": "2022-03-31T17:23:19.992Z"
   },
   {
    "duration": 123,
    "start_time": "2022-03-31T17:23:20.026Z"
   },
   {
    "duration": 33,
    "start_time": "2022-03-31T17:23:20.151Z"
   },
   {
    "duration": 20,
    "start_time": "2022-03-31T17:23:20.187Z"
   },
   {
    "duration": 14,
    "start_time": "2022-03-31T17:23:20.209Z"
   },
   {
    "duration": 51,
    "start_time": "2022-03-31T17:23:20.230Z"
   },
   {
    "duration": 15,
    "start_time": "2022-03-31T17:23:20.283Z"
   },
   {
    "duration": 12,
    "start_time": "2022-03-31T17:23:20.301Z"
   },
   {
    "duration": 86,
    "start_time": "2022-03-31T17:23:20.316Z"
   },
   {
    "duration": 34,
    "start_time": "2022-03-31T17:23:20.405Z"
   },
   {
    "duration": 61,
    "start_time": "2022-03-31T17:23:20.441Z"
   },
   {
    "duration": 17,
    "start_time": "2022-03-31T17:23:20.504Z"
   },
   {
    "duration": 196,
    "start_time": "2022-03-31T17:23:20.523Z"
   },
   {
    "duration": 50,
    "start_time": "2022-03-31T17:23:20.722Z"
   },
   {
    "duration": 14,
    "start_time": "2022-03-31T17:23:20.775Z"
   },
   {
    "duration": 18,
    "start_time": "2022-03-31T17:23:20.791Z"
   },
   {
    "duration": 18,
    "start_time": "2022-03-31T17:23:20.812Z"
   },
   {
    "duration": 50,
    "start_time": "2022-03-31T17:23:20.867Z"
   },
   {
    "duration": 50,
    "start_time": "2022-03-31T17:23:20.920Z"
   },
   {
    "duration": 32,
    "start_time": "2022-03-31T17:23:20.972Z"
   },
   {
    "duration": 13,
    "start_time": "2022-03-31T17:23:21.006Z"
   },
   {
    "duration": 13,
    "start_time": "2022-03-31T17:23:21.020Z"
   },
   {
    "duration": 119,
    "start_time": "2022-03-31T17:23:21.036Z"
   },
   {
    "duration": 34,
    "start_time": "2022-03-31T17:23:21.173Z"
   },
   {
    "duration": 57,
    "start_time": "2022-03-31T17:23:21.210Z"
   },
   {
    "duration": 27,
    "start_time": "2022-03-31T17:23:21.271Z"
   },
   {
    "duration": 28,
    "start_time": "2022-03-31T17:23:21.300Z"
   },
   {
    "duration": 106,
    "start_time": "2022-03-31T17:23:21.330Z"
   },
   {
    "duration": 38,
    "start_time": "2022-03-31T17:23:21.438Z"
   },
   {
    "duration": 14,
    "start_time": "2022-03-31T17:23:21.478Z"
   },
   {
    "duration": 7,
    "start_time": "2022-03-31T17:23:21.495Z"
   },
   {
    "duration": 9,
    "start_time": "2022-03-31T17:23:21.504Z"
   },
   {
    "duration": 52,
    "start_time": "2022-03-31T17:23:21.515Z"
   },
   {
    "duration": 11,
    "start_time": "2022-03-31T17:23:21.569Z"
   },
   {
    "duration": 47,
    "start_time": "2022-03-31T17:23:21.582Z"
   },
   {
    "duration": 59,
    "start_time": "2022-03-31T17:23:21.631Z"
   },
   {
    "duration": 30,
    "start_time": "2022-03-31T17:23:21.692Z"
   },
   {
    "duration": 82,
    "start_time": "2022-03-31T17:23:21.725Z"
   },
   {
    "duration": 475,
    "start_time": "2022-03-31T17:44:39.382Z"
   },
   {
    "duration": 203,
    "start_time": "2022-03-31T17:44:39.860Z"
   },
   {
    "duration": 35,
    "start_time": "2022-03-31T17:44:40.068Z"
   },
   {
    "duration": 179,
    "start_time": "2022-03-31T17:44:40.107Z"
   },
   {
    "duration": 29,
    "start_time": "2022-03-31T17:44:40.289Z"
   },
   {
    "duration": 128,
    "start_time": "2022-03-31T17:44:40.320Z"
   },
   {
    "duration": 28,
    "start_time": "2022-03-31T17:44:40.450Z"
   },
   {
    "duration": 29,
    "start_time": "2022-03-31T17:44:40.480Z"
   },
   {
    "duration": 15,
    "start_time": "2022-03-31T17:44:40.511Z"
   },
   {
    "duration": 40,
    "start_time": "2022-03-31T17:44:40.531Z"
   },
   {
    "duration": 15,
    "start_time": "2022-03-31T17:44:40.573Z"
   },
   {
    "duration": 9,
    "start_time": "2022-03-31T17:44:40.590Z"
   },
   {
    "duration": 77,
    "start_time": "2022-03-31T17:44:40.600Z"
   },
   {
    "duration": 35,
    "start_time": "2022-03-31T17:44:40.680Z"
   },
   {
    "duration": 60,
    "start_time": "2022-03-31T17:44:40.717Z"
   },
   {
    "duration": 16,
    "start_time": "2022-03-31T17:44:40.780Z"
   },
   {
    "duration": 153,
    "start_time": "2022-03-31T17:44:40.799Z"
   },
   {
    "duration": 29,
    "start_time": "2022-03-31T17:44:40.954Z"
   },
   {
    "duration": 11,
    "start_time": "2022-03-31T17:44:40.985Z"
   },
   {
    "duration": 15,
    "start_time": "2022-03-31T17:44:40.998Z"
   },
   {
    "duration": 13,
    "start_time": "2022-03-31T17:44:41.015Z"
   },
   {
    "duration": 34,
    "start_time": "2022-03-31T17:44:41.068Z"
   },
   {
    "duration": 27,
    "start_time": "2022-03-31T17:44:41.105Z"
   },
   {
    "duration": 57,
    "start_time": "2022-03-31T17:44:41.135Z"
   },
   {
    "duration": 13,
    "start_time": "2022-03-31T17:44:41.195Z"
   },
   {
    "duration": 15,
    "start_time": "2022-03-31T17:44:41.210Z"
   },
   {
    "duration": 92,
    "start_time": "2022-03-31T17:44:41.228Z"
   },
   {
    "duration": 22,
    "start_time": "2022-03-31T17:44:41.325Z"
   },
   {
    "duration": 27,
    "start_time": "2022-03-31T17:44:41.368Z"
   },
   {
    "duration": 23,
    "start_time": "2022-03-31T17:44:41.397Z"
   },
   {
    "duration": 56,
    "start_time": "2022-03-31T17:44:41.423Z"
   },
   {
    "duration": 61,
    "start_time": "2022-03-31T17:44:41.482Z"
   },
   {
    "duration": 35,
    "start_time": "2022-03-31T17:44:41.545Z"
   },
   {
    "duration": 14,
    "start_time": "2022-03-31T17:44:41.582Z"
   },
   {
    "duration": 12,
    "start_time": "2022-03-31T17:44:41.598Z"
   },
   {
    "duration": 10,
    "start_time": "2022-03-31T17:44:41.612Z"
   },
   {
    "duration": 44,
    "start_time": "2022-03-31T17:44:41.624Z"
   },
   {
    "duration": 10,
    "start_time": "2022-03-31T17:44:41.671Z"
   },
   {
    "duration": 48,
    "start_time": "2022-03-31T17:44:41.684Z"
   },
   {
    "duration": 60,
    "start_time": "2022-03-31T17:44:41.735Z"
   },
   {
    "duration": 31,
    "start_time": "2022-03-31T17:44:41.798Z"
   },
   {
    "duration": 84,
    "start_time": "2022-03-31T17:44:41.831Z"
   },
   {
    "duration": 39,
    "start_time": "2022-03-31T17:45:03.865Z"
   },
   {
    "duration": 19,
    "start_time": "2022-03-31T17:57:41.079Z"
   },
   {
    "duration": 671,
    "start_time": "2022-03-31T17:59:14.310Z"
   },
   {
    "duration": 304,
    "start_time": "2022-03-31T17:59:14.984Z"
   },
   {
    "duration": 35,
    "start_time": "2022-03-31T17:59:15.290Z"
   },
   {
    "duration": 185,
    "start_time": "2022-03-31T17:59:15.328Z"
   },
   {
    "duration": 28,
    "start_time": "2022-03-31T17:59:15.515Z"
   },
   {
    "duration": 130,
    "start_time": "2022-03-31T17:59:15.547Z"
   },
   {
    "duration": 26,
    "start_time": "2022-03-31T17:59:15.680Z"
   },
   {
    "duration": 19,
    "start_time": "2022-03-31T17:59:15.708Z"
   },
   {
    "duration": 43,
    "start_time": "2022-03-31T17:59:15.729Z"
   },
   {
    "duration": 42,
    "start_time": "2022-03-31T17:59:15.777Z"
   },
   {
    "duration": 20,
    "start_time": "2022-03-31T17:59:15.822Z"
   },
   {
    "duration": 25,
    "start_time": "2022-03-31T17:59:15.845Z"
   },
   {
    "duration": 49,
    "start_time": "2022-03-31T17:59:15.872Z"
   },
   {
    "duration": 55,
    "start_time": "2022-03-31T17:59:15.924Z"
   },
   {
    "duration": 39,
    "start_time": "2022-03-31T17:59:15.981Z"
   },
   {
    "duration": 17,
    "start_time": "2022-03-31T17:59:16.022Z"
   },
   {
    "duration": 141,
    "start_time": "2022-03-31T17:59:16.067Z"
   },
   {
    "duration": 26,
    "start_time": "2022-03-31T17:59:16.210Z"
   },
   {
    "duration": 30,
    "start_time": "2022-03-31T17:59:16.238Z"
   },
   {
    "duration": 18,
    "start_time": "2022-03-31T17:59:16.270Z"
   },
   {
    "duration": 17,
    "start_time": "2022-03-31T17:59:16.291Z"
   },
   {
    "duration": 71,
    "start_time": "2022-03-31T17:59:16.311Z"
   },
   {
    "duration": 27,
    "start_time": "2022-03-31T17:59:16.384Z"
   },
   {
    "duration": 55,
    "start_time": "2022-03-31T17:59:16.414Z"
   },
   {
    "duration": 18,
    "start_time": "2022-03-31T17:59:16.472Z"
   },
   {
    "duration": 20,
    "start_time": "2022-03-31T17:59:16.493Z"
   },
   {
    "duration": 119,
    "start_time": "2022-03-31T17:59:16.516Z"
   },
   {
    "duration": 40,
    "start_time": "2022-03-31T17:59:16.643Z"
   },
   {
    "duration": 27,
    "start_time": "2022-03-31T17:59:16.685Z"
   },
   {
    "duration": 23,
    "start_time": "2022-03-31T17:59:16.715Z"
   },
   {
    "duration": 53,
    "start_time": "2022-03-31T17:59:16.741Z"
   },
   {
    "duration": 84,
    "start_time": "2022-03-31T17:59:16.796Z"
   },
   {
    "duration": 20,
    "start_time": "2022-03-31T17:59:16.882Z"
   },
   {
    "duration": 14,
    "start_time": "2022-03-31T17:59:16.904Z"
   },
   {
    "duration": 15,
    "start_time": "2022-03-31T17:59:16.920Z"
   },
   {
    "duration": 35,
    "start_time": "2022-03-31T17:59:16.937Z"
   },
   {
    "duration": 11,
    "start_time": "2022-03-31T17:59:16.974Z"
   },
   {
    "duration": 16,
    "start_time": "2022-03-31T17:59:16.987Z"
   },
   {
    "duration": 66,
    "start_time": "2022-03-31T17:59:17.005Z"
   },
   {
    "duration": 30,
    "start_time": "2022-03-31T17:59:17.073Z"
   },
   {
    "duration": 29,
    "start_time": "2022-03-31T17:59:17.105Z"
   },
   {
    "duration": 71,
    "start_time": "2022-03-31T17:59:17.136Z"
   },
   {
    "duration": 19,
    "start_time": "2022-03-31T17:59:17.209Z"
   },
   {
    "duration": 14,
    "start_time": "2022-03-31T18:00:36.449Z"
   },
   {
    "duration": 7,
    "start_time": "2022-03-31T18:01:45.744Z"
   },
   {
    "duration": 13,
    "start_time": "2022-03-31T18:02:11.910Z"
   },
   {
    "duration": 6,
    "start_time": "2022-03-31T18:03:25.856Z"
   },
   {
    "duration": 180,
    "start_time": "2022-03-31T18:04:09.071Z"
   },
   {
    "duration": 59,
    "start_time": "2022-03-31T18:04:20.730Z"
   },
   {
    "duration": 10,
    "start_time": "2022-03-31T18:09:44.909Z"
   },
   {
    "duration": 24,
    "start_time": "2022-03-31T18:10:34.049Z"
   },
   {
    "duration": 516,
    "start_time": "2022-03-31T18:11:11.282Z"
   },
   {
    "duration": 205,
    "start_time": "2022-03-31T18:11:11.801Z"
   },
   {
    "duration": 34,
    "start_time": "2022-03-31T18:11:12.009Z"
   },
   {
    "duration": 186,
    "start_time": "2022-03-31T18:11:12.046Z"
   },
   {
    "duration": 46,
    "start_time": "2022-03-31T18:11:12.234Z"
   },
   {
    "duration": 158,
    "start_time": "2022-03-31T18:11:12.282Z"
   },
   {
    "duration": 45,
    "start_time": "2022-03-31T18:11:12.442Z"
   },
   {
    "duration": 24,
    "start_time": "2022-03-31T18:11:12.490Z"
   },
   {
    "duration": 18,
    "start_time": "2022-03-31T18:11:12.516Z"
   },
   {
    "duration": 67,
    "start_time": "2022-03-31T18:11:12.540Z"
   },
   {
    "duration": 19,
    "start_time": "2022-03-31T18:11:12.610Z"
   },
   {
    "duration": 13,
    "start_time": "2022-03-31T18:11:12.631Z"
   },
   {
    "duration": 78,
    "start_time": "2022-03-31T18:11:12.646Z"
   },
   {
    "duration": 56,
    "start_time": "2022-03-31T18:11:12.727Z"
   },
   {
    "duration": 40,
    "start_time": "2022-03-31T18:11:12.786Z"
   },
   {
    "duration": 41,
    "start_time": "2022-03-31T18:11:12.828Z"
   },
   {
    "duration": 143,
    "start_time": "2022-03-31T18:11:12.871Z"
   },
   {
    "duration": 25,
    "start_time": "2022-03-31T18:11:13.017Z"
   },
   {
    "duration": 31,
    "start_time": "2022-03-31T18:11:13.044Z"
   },
   {
    "duration": 16,
    "start_time": "2022-03-31T18:11:13.077Z"
   },
   {
    "duration": 14,
    "start_time": "2022-03-31T18:11:13.095Z"
   },
   {
    "duration": 65,
    "start_time": "2022-03-31T18:11:13.111Z"
   },
   {
    "duration": 29,
    "start_time": "2022-03-31T18:11:13.179Z"
   },
   {
    "duration": 34,
    "start_time": "2022-03-31T18:11:13.210Z"
   },
   {
    "duration": 14,
    "start_time": "2022-03-31T18:11:13.267Z"
   },
   {
    "duration": 15,
    "start_time": "2022-03-31T18:11:13.284Z"
   },
   {
    "duration": 102,
    "start_time": "2022-03-31T18:11:13.301Z"
   },
   {
    "duration": 23,
    "start_time": "2022-03-31T18:11:13.408Z"
   },
   {
    "duration": 46,
    "start_time": "2022-03-31T18:11:13.433Z"
   },
   {
    "duration": 24,
    "start_time": "2022-03-31T18:11:13.482Z"
   },
   {
    "duration": 58,
    "start_time": "2022-03-31T18:11:13.508Z"
   },
   {
    "duration": 62,
    "start_time": "2022-03-31T18:11:13.569Z"
   },
   {
    "duration": 41,
    "start_time": "2022-03-31T18:11:13.633Z"
   },
   {
    "duration": 14,
    "start_time": "2022-03-31T18:11:13.676Z"
   },
   {
    "duration": 10,
    "start_time": "2022-03-31T18:11:13.692Z"
   },
   {
    "duration": 10,
    "start_time": "2022-03-31T18:11:13.704Z"
   },
   {
    "duration": 7,
    "start_time": "2022-03-31T18:11:13.717Z"
   },
   {
    "duration": 12,
    "start_time": "2022-03-31T18:11:13.769Z"
   },
   {
    "duration": 47,
    "start_time": "2022-03-31T18:11:13.783Z"
   },
   {
    "duration": 61,
    "start_time": "2022-03-31T18:11:13.832Z"
   },
   {
    "duration": 27,
    "start_time": "2022-03-31T18:11:13.895Z"
   },
   {
    "duration": 73,
    "start_time": "2022-03-31T18:11:13.924Z"
   },
   {
    "duration": 19,
    "start_time": "2022-03-31T18:11:13.999Z"
   },
   {
    "duration": 21,
    "start_time": "2022-03-31T18:11:14.021Z"
   },
   {
    "duration": 18,
    "start_time": "2022-03-31T18:12:42.065Z"
   },
   {
    "duration": 6,
    "start_time": "2022-03-31T18:13:38.151Z"
   },
   {
    "duration": 91,
    "start_time": "2022-03-31T18:13:58.502Z"
   },
   {
    "duration": 18,
    "start_time": "2022-03-31T18:14:27.711Z"
   },
   {
    "duration": 12,
    "start_time": "2022-03-31T18:15:38.832Z"
   },
   {
    "duration": 33,
    "start_time": "2022-03-31T18:18:31.768Z"
   },
   {
    "duration": 16,
    "start_time": "2022-03-31T18:18:37.448Z"
   },
   {
    "duration": 43,
    "start_time": "2022-03-31T18:19:32.271Z"
   },
   {
    "duration": 20,
    "start_time": "2022-03-31T18:19:33.693Z"
   },
   {
    "duration": 36,
    "start_time": "2022-03-31T18:19:59.762Z"
   },
   {
    "duration": 6,
    "start_time": "2022-03-31T18:20:14.825Z"
   },
   {
    "duration": 19,
    "start_time": "2022-03-31T18:20:27.179Z"
   },
   {
    "duration": 19,
    "start_time": "2022-03-31T18:23:49.468Z"
   },
   {
    "duration": 7,
    "start_time": "2022-03-31T18:38:27.014Z"
   },
   {
    "duration": 30,
    "start_time": "2022-03-31T18:50:01.948Z"
   },
   {
    "duration": 26,
    "start_time": "2022-03-31T19:04:20.002Z"
   },
   {
    "duration": 22,
    "start_time": "2022-03-31T19:04:47.645Z"
   },
   {
    "duration": 21,
    "start_time": "2022-03-31T19:05:05.193Z"
   },
   {
    "duration": 8,
    "start_time": "2022-03-31T19:05:18.306Z"
   },
   {
    "duration": 650,
    "start_time": "2022-03-31T19:05:50.924Z"
   },
   {
    "duration": 278,
    "start_time": "2022-03-31T19:05:51.577Z"
   },
   {
    "duration": 54,
    "start_time": "2022-03-31T19:05:51.858Z"
   },
   {
    "duration": 179,
    "start_time": "2022-03-31T19:05:51.915Z"
   },
   {
    "duration": 28,
    "start_time": "2022-03-31T19:05:52.096Z"
   },
   {
    "duration": 129,
    "start_time": "2022-03-31T19:05:52.127Z"
   },
   {
    "duration": 27,
    "start_time": "2022-03-31T19:05:52.259Z"
   },
   {
    "duration": 26,
    "start_time": "2022-03-31T19:05:52.289Z"
   },
   {
    "duration": 13,
    "start_time": "2022-03-31T19:05:52.317Z"
   },
   {
    "duration": 44,
    "start_time": "2022-03-31T19:05:52.335Z"
   },
   {
    "duration": 15,
    "start_time": "2022-03-31T19:05:52.381Z"
   },
   {
    "duration": 13,
    "start_time": "2022-03-31T19:05:52.400Z"
   },
   {
    "duration": 72,
    "start_time": "2022-03-31T19:05:52.416Z"
   },
   {
    "duration": 37,
    "start_time": "2022-03-31T19:05:52.490Z"
   },
   {
    "duration": 64,
    "start_time": "2022-03-31T19:05:52.530Z"
   },
   {
    "duration": 18,
    "start_time": "2022-03-31T19:05:52.596Z"
   },
   {
    "duration": 189,
    "start_time": "2022-03-31T19:05:52.615Z"
   },
   {
    "duration": 26,
    "start_time": "2022-03-31T19:05:52.806Z"
   },
   {
    "duration": 18,
    "start_time": "2022-03-31T19:05:52.835Z"
   },
   {
    "duration": 13,
    "start_time": "2022-03-31T19:05:52.856Z"
   },
   {
    "duration": 13,
    "start_time": "2022-03-31T19:05:52.871Z"
   },
   {
    "duration": 33,
    "start_time": "2022-03-31T19:05:52.886Z"
   },
   {
    "duration": 29,
    "start_time": "2022-03-31T19:05:52.921Z"
   },
   {
    "duration": 46,
    "start_time": "2022-03-31T19:05:52.952Z"
   },
   {
    "duration": 15,
    "start_time": "2022-03-31T19:05:53.001Z"
   },
   {
    "duration": 16,
    "start_time": "2022-03-31T19:05:53.018Z"
   },
   {
    "duration": 86,
    "start_time": "2022-03-31T19:05:53.036Z"
   },
   {
    "duration": 24,
    "start_time": "2022-03-31T19:05:53.127Z"
   },
   {
    "duration": 36,
    "start_time": "2022-03-31T19:05:53.153Z"
   },
   {
    "duration": 24,
    "start_time": "2022-03-31T19:05:53.191Z"
   },
   {
    "duration": 60,
    "start_time": "2022-03-31T19:05:53.217Z"
   },
   {
    "duration": 124,
    "start_time": "2022-03-31T19:05:53.279Z"
   },
   {
    "duration": 21,
    "start_time": "2022-03-31T19:05:53.405Z"
   },
   {
    "duration": 13,
    "start_time": "2022-03-31T19:05:53.468Z"
   },
   {
    "duration": 8,
    "start_time": "2022-03-31T19:05:53.483Z"
   },
   {
    "duration": 9,
    "start_time": "2022-03-31T19:05:53.494Z"
   },
   {
    "duration": 8,
    "start_time": "2022-03-31T19:05:53.506Z"
   },
   {
    "duration": 52,
    "start_time": "2022-03-31T19:05:53.517Z"
   },
   {
    "duration": 123,
    "start_time": "2022-03-31T19:05:53.572Z"
   },
   {
    "duration": 95,
    "start_time": "2022-03-31T19:05:53.698Z"
   },
   {
    "duration": 36,
    "start_time": "2022-03-31T19:05:53.796Z"
   },
   {
    "duration": 57,
    "start_time": "2022-03-31T19:05:53.867Z"
   },
   {
    "duration": 48,
    "start_time": "2022-03-31T19:05:53.926Z"
   },
   {
    "duration": 13,
    "start_time": "2022-03-31T19:05:53.977Z"
   },
   {
    "duration": 6,
    "start_time": "2022-03-31T19:05:53.993Z"
   },
   {
    "duration": 27,
    "start_time": "2022-03-31T19:05:54.001Z"
   },
   {
    "duration": 409,
    "start_time": "2022-04-01T06:09:08.435Z"
   },
   {
    "duration": 171,
    "start_time": "2022-04-01T06:09:08.846Z"
   },
   {
    "duration": 27,
    "start_time": "2022-04-01T06:09:09.019Z"
   },
   {
    "duration": 147,
    "start_time": "2022-04-01T06:09:09.048Z"
   },
   {
    "duration": 22,
    "start_time": "2022-04-01T06:09:09.200Z"
   },
   {
    "duration": 95,
    "start_time": "2022-04-01T06:09:09.223Z"
   },
   {
    "duration": 19,
    "start_time": "2022-04-01T06:09:09.320Z"
   },
   {
    "duration": 19,
    "start_time": "2022-04-01T06:09:09.341Z"
   },
   {
    "duration": 10,
    "start_time": "2022-04-01T06:09:09.362Z"
   },
   {
    "duration": 34,
    "start_time": "2022-04-01T06:09:09.376Z"
   },
   {
    "duration": 10,
    "start_time": "2022-04-01T06:09:09.412Z"
   },
   {
    "duration": 8,
    "start_time": "2022-04-01T06:09:09.423Z"
   },
   {
    "duration": 37,
    "start_time": "2022-04-01T06:09:09.433Z"
   },
   {
    "duration": 47,
    "start_time": "2022-04-01T06:09:09.472Z"
   },
   {
    "duration": 31,
    "start_time": "2022-04-01T06:09:09.520Z"
   },
   {
    "duration": 16,
    "start_time": "2022-04-01T06:09:09.553Z"
   },
   {
    "duration": 143,
    "start_time": "2022-04-01T06:09:09.570Z"
   },
   {
    "duration": 21,
    "start_time": "2022-04-01T06:09:09.714Z"
   },
   {
    "duration": 10,
    "start_time": "2022-04-01T06:09:09.737Z"
   },
   {
    "duration": 11,
    "start_time": "2022-04-01T06:09:09.748Z"
   },
   {
    "duration": 10,
    "start_time": "2022-04-01T06:09:09.760Z"
   },
   {
    "duration": 55,
    "start_time": "2022-04-01T06:09:09.771Z"
   },
   {
    "duration": 20,
    "start_time": "2022-04-01T06:09:09.828Z"
   },
   {
    "duration": 26,
    "start_time": "2022-04-01T06:09:09.850Z"
   },
   {
    "duration": 11,
    "start_time": "2022-04-01T06:09:09.900Z"
   },
   {
    "duration": 13,
    "start_time": "2022-04-01T06:09:09.913Z"
   },
   {
    "duration": 49,
    "start_time": "2022-04-01T06:09:09.927Z"
   },
   {
    "duration": 18,
    "start_time": "2022-04-01T06:09:10.000Z"
   },
   {
    "duration": 19,
    "start_time": "2022-04-01T06:09:10.020Z"
   },
   {
    "duration": 18,
    "start_time": "2022-04-01T06:09:10.041Z"
   },
   {
    "duration": 50,
    "start_time": "2022-04-01T06:09:10.061Z"
   },
   {
    "duration": 52,
    "start_time": "2022-04-01T06:09:10.113Z"
   },
   {
    "duration": 35,
    "start_time": "2022-04-01T06:09:10.166Z"
   },
   {
    "duration": 10,
    "start_time": "2022-04-01T06:09:10.203Z"
   },
   {
    "duration": 5,
    "start_time": "2022-04-01T06:09:10.214Z"
   },
   {
    "duration": 8,
    "start_time": "2022-04-01T06:09:10.220Z"
   },
   {
    "duration": 9,
    "start_time": "2022-04-01T06:09:10.230Z"
   },
   {
    "duration": 6,
    "start_time": "2022-04-01T06:09:10.241Z"
   },
   {
    "duration": 9,
    "start_time": "2022-04-01T06:09:10.249Z"
   },
   {
    "duration": 66,
    "start_time": "2022-04-01T06:09:10.259Z"
   },
   {
    "duration": 22,
    "start_time": "2022-04-01T06:09:10.327Z"
   },
   {
    "duration": 21,
    "start_time": "2022-04-01T06:09:10.351Z"
   },
   {
    "duration": 60,
    "start_time": "2022-04-01T06:09:10.374Z"
   },
   {
    "duration": 14,
    "start_time": "2022-04-01T06:09:10.435Z"
   },
   {
    "duration": 7,
    "start_time": "2022-04-01T06:09:10.450Z"
   },
   {
    "duration": 4,
    "start_time": "2022-04-01T06:09:10.459Z"
   },
   {
    "duration": 48,
    "start_time": "2022-04-01T06:09:10.465Z"
   },
   {
    "duration": 558,
    "start_time": "2022-04-01T06:13:19.766Z"
   },
   {
    "duration": 170,
    "start_time": "2022-04-01T06:13:20.327Z"
   },
   {
    "duration": 26,
    "start_time": "2022-04-01T06:13:20.501Z"
   },
   {
    "duration": 148,
    "start_time": "2022-04-01T06:13:20.529Z"
   },
   {
    "duration": 28,
    "start_time": "2022-04-01T06:13:20.679Z"
   },
   {
    "duration": 90,
    "start_time": "2022-04-01T06:13:20.709Z"
   },
   {
    "duration": 18,
    "start_time": "2022-04-01T06:13:20.800Z"
   },
   {
    "duration": 19,
    "start_time": "2022-04-01T06:13:20.820Z"
   },
   {
    "duration": 9,
    "start_time": "2022-04-01T06:13:20.840Z"
   },
   {
    "duration": 44,
    "start_time": "2022-04-01T06:13:20.853Z"
   },
   {
    "duration": 9,
    "start_time": "2022-04-01T06:13:20.898Z"
   },
   {
    "duration": 7,
    "start_time": "2022-04-01T06:13:20.909Z"
   },
   {
    "duration": 34,
    "start_time": "2022-04-01T06:13:20.918Z"
   },
   {
    "duration": 49,
    "start_time": "2022-04-01T06:13:20.954Z"
   },
   {
    "duration": 31,
    "start_time": "2022-04-01T06:13:21.005Z"
   },
   {
    "duration": 14,
    "start_time": "2022-04-01T06:13:21.037Z"
   },
   {
    "duration": 133,
    "start_time": "2022-04-01T06:13:21.053Z"
   },
   {
    "duration": 22,
    "start_time": "2022-04-01T06:13:21.187Z"
   },
   {
    "duration": 9,
    "start_time": "2022-04-01T06:13:21.211Z"
   },
   {
    "duration": 10,
    "start_time": "2022-04-01T06:13:21.221Z"
   },
   {
    "duration": 9,
    "start_time": "2022-04-01T06:13:21.233Z"
   },
   {
    "duration": 58,
    "start_time": "2022-04-01T06:13:21.243Z"
   },
   {
    "duration": 20,
    "start_time": "2022-04-01T06:13:21.303Z"
   },
   {
    "duration": 23,
    "start_time": "2022-04-01T06:13:21.325Z"
   },
   {
    "duration": 10,
    "start_time": "2022-04-01T06:13:21.350Z"
   },
   {
    "duration": 41,
    "start_time": "2022-04-01T06:13:21.362Z"
   },
   {
    "duration": 50,
    "start_time": "2022-04-01T06:13:21.405Z"
   },
   {
    "duration": 16,
    "start_time": "2022-04-01T06:13:21.459Z"
   },
   {
    "duration": 35,
    "start_time": "2022-04-01T06:13:21.477Z"
   },
   {
    "duration": 17,
    "start_time": "2022-04-01T06:13:21.514Z"
   },
   {
    "duration": 21,
    "start_time": "2022-04-01T06:13:21.533Z"
   },
   {
    "duration": 72,
    "start_time": "2022-04-01T06:13:21.555Z"
   },
   {
    "duration": 15,
    "start_time": "2022-04-01T06:13:21.629Z"
   },
   {
    "duration": 9,
    "start_time": "2022-04-01T06:13:21.646Z"
   },
   {
    "duration": 4,
    "start_time": "2022-04-01T06:13:21.657Z"
   },
   {
    "duration": 10,
    "start_time": "2022-04-01T06:13:21.662Z"
   },
   {
    "duration": 30,
    "start_time": "2022-04-01T06:13:21.673Z"
   },
   {
    "duration": 4,
    "start_time": "2022-04-01T06:13:21.706Z"
   },
   {
    "duration": 8,
    "start_time": "2022-04-01T06:13:21.712Z"
   },
   {
    "duration": 34,
    "start_time": "2022-04-01T06:13:21.722Z"
   },
   {
    "duration": 52,
    "start_time": "2022-04-01T06:13:21.758Z"
   },
   {
    "duration": 20,
    "start_time": "2022-04-01T06:13:21.812Z"
   },
   {
    "duration": 34,
    "start_time": "2022-04-01T06:13:21.834Z"
   },
   {
    "duration": 35,
    "start_time": "2022-04-01T06:13:21.869Z"
   },
   {
    "duration": 7,
    "start_time": "2022-04-01T06:13:21.905Z"
   },
   {
    "duration": 4,
    "start_time": "2022-04-01T06:13:21.914Z"
   },
   {
    "duration": 17,
    "start_time": "2022-04-01T06:13:21.920Z"
   },
   {
    "duration": 397,
    "start_time": "2022-04-01T06:20:35.810Z"
   },
   {
    "duration": 164,
    "start_time": "2022-04-01T06:20:36.209Z"
   },
   {
    "duration": 29,
    "start_time": "2022-04-01T06:20:36.375Z"
   },
   {
    "duration": 138,
    "start_time": "2022-04-01T06:20:36.406Z"
   },
   {
    "duration": 21,
    "start_time": "2022-04-01T06:20:36.546Z"
   },
   {
    "duration": 87,
    "start_time": "2022-04-01T06:20:36.569Z"
   },
   {
    "duration": 17,
    "start_time": "2022-04-01T06:20:36.658Z"
   },
   {
    "duration": 26,
    "start_time": "2022-04-01T06:20:36.677Z"
   },
   {
    "duration": 9,
    "start_time": "2022-04-01T06:20:36.705Z"
   },
   {
    "duration": 43,
    "start_time": "2022-04-01T06:20:36.718Z"
   },
   {
    "duration": 10,
    "start_time": "2022-04-01T06:20:36.763Z"
   },
   {
    "duration": 11,
    "start_time": "2022-04-01T06:20:36.775Z"
   },
   {
    "duration": 36,
    "start_time": "2022-04-01T06:20:36.788Z"
   },
   {
    "duration": 26,
    "start_time": "2022-04-01T06:20:36.826Z"
   },
   {
    "duration": 48,
    "start_time": "2022-04-01T06:20:36.854Z"
   },
   {
    "duration": 13,
    "start_time": "2022-04-01T06:20:36.904Z"
   },
   {
    "duration": 109,
    "start_time": "2022-04-01T06:20:36.919Z"
   },
   {
    "duration": 18,
    "start_time": "2022-04-01T06:20:37.030Z"
   },
   {
    "duration": 6,
    "start_time": "2022-04-01T06:20:37.050Z"
   },
   {
    "duration": 14,
    "start_time": "2022-04-01T06:20:37.057Z"
   },
   {
    "duration": 28,
    "start_time": "2022-04-01T06:20:37.073Z"
   },
   {
    "duration": 22,
    "start_time": "2022-04-01T06:20:37.103Z"
   },
   {
    "duration": 20,
    "start_time": "2022-04-01T06:20:37.127Z"
   },
   {
    "duration": 24,
    "start_time": "2022-04-01T06:20:37.148Z"
   },
   {
    "duration": 36,
    "start_time": "2022-04-01T06:20:37.174Z"
   },
   {
    "duration": 12,
    "start_time": "2022-04-01T06:20:37.211Z"
   },
   {
    "duration": 47,
    "start_time": "2022-04-01T06:20:37.224Z"
   },
   {
    "duration": 36,
    "start_time": "2022-04-01T06:20:37.275Z"
   },
   {
    "duration": 18,
    "start_time": "2022-04-01T06:20:37.313Z"
   },
   {
    "duration": 18,
    "start_time": "2022-04-01T06:20:37.332Z"
   },
   {
    "duration": 21,
    "start_time": "2022-04-01T06:20:37.351Z"
   },
   {
    "duration": 71,
    "start_time": "2022-04-01T06:20:37.374Z"
   },
   {
    "duration": 15,
    "start_time": "2022-04-01T06:20:37.446Z"
   },
   {
    "duration": 8,
    "start_time": "2022-04-01T06:20:37.463Z"
   },
   {
    "duration": 30,
    "start_time": "2022-04-01T06:20:37.473Z"
   },
   {
    "duration": 7,
    "start_time": "2022-04-01T06:20:37.504Z"
   },
   {
    "duration": 7,
    "start_time": "2022-04-01T06:20:37.512Z"
   },
   {
    "duration": 7,
    "start_time": "2022-04-01T06:20:37.520Z"
   },
   {
    "duration": 7,
    "start_time": "2022-04-01T06:20:37.528Z"
   },
   {
    "duration": 34,
    "start_time": "2022-04-01T06:20:37.537Z"
   },
   {
    "duration": 48,
    "start_time": "2022-04-01T06:20:37.572Z"
   },
   {
    "duration": 19,
    "start_time": "2022-04-01T06:20:37.622Z"
   },
   {
    "duration": 35,
    "start_time": "2022-04-01T06:20:37.643Z"
   },
   {
    "duration": 12,
    "start_time": "2022-04-01T06:20:37.701Z"
   },
   {
    "duration": 10,
    "start_time": "2022-04-01T06:20:37.715Z"
   },
   {
    "duration": 6,
    "start_time": "2022-04-01T06:20:37.726Z"
   },
   {
    "duration": 4,
    "start_time": "2022-04-01T06:20:37.734Z"
   },
   {
    "duration": 17,
    "start_time": "2022-04-01T06:20:37.740Z"
   },
   {
    "duration": 423,
    "start_time": "2022-04-01T06:20:54.059Z"
   },
   {
    "duration": 162,
    "start_time": "2022-04-01T06:20:54.484Z"
   },
   {
    "duration": 24,
    "start_time": "2022-04-01T06:20:54.648Z"
   },
   {
    "duration": 136,
    "start_time": "2022-04-01T06:20:54.674Z"
   },
   {
    "duration": 23,
    "start_time": "2022-04-01T06:20:54.811Z"
   },
   {
    "duration": 102,
    "start_time": "2022-04-01T06:20:54.835Z"
   },
   {
    "duration": 17,
    "start_time": "2022-04-01T06:20:54.939Z"
   },
   {
    "duration": 19,
    "start_time": "2022-04-01T06:20:54.958Z"
   },
   {
    "duration": 9,
    "start_time": "2022-04-01T06:20:54.978Z"
   },
   {
    "duration": 33,
    "start_time": "2022-04-01T06:20:55.000Z"
   },
   {
    "duration": 8,
    "start_time": "2022-04-01T06:20:55.035Z"
   },
   {
    "duration": 10,
    "start_time": "2022-04-01T06:20:55.045Z"
   },
   {
    "duration": 33,
    "start_time": "2022-04-01T06:20:55.056Z"
   },
   {
    "duration": 24,
    "start_time": "2022-04-01T06:20:55.091Z"
   },
   {
    "duration": 28,
    "start_time": "2022-04-01T06:20:55.117Z"
   },
   {
    "duration": 13,
    "start_time": "2022-04-01T06:20:55.146Z"
   },
   {
    "duration": 124,
    "start_time": "2022-04-01T06:20:55.160Z"
   },
   {
    "duration": 23,
    "start_time": "2022-04-01T06:20:55.286Z"
   },
   {
    "duration": 8,
    "start_time": "2022-04-01T06:20:55.311Z"
   },
   {
    "duration": 8,
    "start_time": "2022-04-01T06:20:55.321Z"
   },
   {
    "duration": 8,
    "start_time": "2022-04-01T06:20:55.331Z"
   },
   {
    "duration": 26,
    "start_time": "2022-04-01T06:20:55.341Z"
   },
   {
    "duration": 47,
    "start_time": "2022-04-01T06:20:55.369Z"
   },
   {
    "duration": 23,
    "start_time": "2022-04-01T06:20:55.418Z"
   },
   {
    "duration": 9,
    "start_time": "2022-04-01T06:20:55.443Z"
   },
   {
    "duration": 12,
    "start_time": "2022-04-01T06:20:55.453Z"
   },
   {
    "duration": 68,
    "start_time": "2022-04-01T06:20:55.466Z"
   },
   {
    "duration": 15,
    "start_time": "2022-04-01T06:20:55.537Z"
   },
   {
    "duration": 18,
    "start_time": "2022-04-01T06:20:55.553Z"
   },
   {
    "duration": 36,
    "start_time": "2022-04-01T06:20:55.572Z"
   },
   {
    "duration": 19,
    "start_time": "2022-04-01T06:20:55.610Z"
   },
   {
    "duration": 45,
    "start_time": "2022-04-01T06:20:55.631Z"
   },
   {
    "duration": 32,
    "start_time": "2022-04-01T06:20:55.677Z"
   },
   {
    "duration": 9,
    "start_time": "2022-04-01T06:20:55.710Z"
   },
   {
    "duration": 4,
    "start_time": "2022-04-01T06:20:55.720Z"
   },
   {
    "duration": 8,
    "start_time": "2022-04-01T06:20:55.726Z"
   },
   {
    "duration": 8,
    "start_time": "2022-04-01T06:20:55.735Z"
   },
   {
    "duration": 4,
    "start_time": "2022-04-01T06:20:55.744Z"
   },
   {
    "duration": 10,
    "start_time": "2022-04-01T06:20:55.749Z"
   },
   {
    "duration": 59,
    "start_time": "2022-04-01T06:20:55.761Z"
   },
   {
    "duration": 20,
    "start_time": "2022-04-01T06:20:55.821Z"
   },
   {
    "duration": 19,
    "start_time": "2022-04-01T06:20:55.843Z"
   },
   {
    "duration": 52,
    "start_time": "2022-04-01T06:20:55.863Z"
   },
   {
    "duration": 12,
    "start_time": "2022-04-01T06:20:55.916Z"
   },
   {
    "duration": 12,
    "start_time": "2022-04-01T06:20:55.929Z"
   },
   {
    "duration": 6,
    "start_time": "2022-04-01T06:20:55.942Z"
   },
   {
    "duration": 6,
    "start_time": "2022-04-01T06:20:55.949Z"
   },
   {
    "duration": 17,
    "start_time": "2022-04-01T06:20:55.956Z"
   },
   {
    "duration": 429,
    "start_time": "2022-04-01T06:21:25.464Z"
   },
   {
    "duration": 161,
    "start_time": "2022-04-01T06:21:25.895Z"
   },
   {
    "duration": 23,
    "start_time": "2022-04-01T06:21:26.058Z"
   },
   {
    "duration": 139,
    "start_time": "2022-04-01T06:21:26.083Z"
   },
   {
    "duration": 19,
    "start_time": "2022-04-01T06:21:26.224Z"
   },
   {
    "duration": 87,
    "start_time": "2022-04-01T06:21:26.244Z"
   },
   {
    "duration": 17,
    "start_time": "2022-04-01T06:21:26.333Z"
   },
   {
    "duration": 18,
    "start_time": "2022-04-01T06:21:26.351Z"
   },
   {
    "duration": 8,
    "start_time": "2022-04-01T06:21:26.371Z"
   },
   {
    "duration": 32,
    "start_time": "2022-04-01T06:21:26.382Z"
   },
   {
    "duration": 8,
    "start_time": "2022-04-01T06:21:26.416Z"
   },
   {
    "duration": 11,
    "start_time": "2022-04-01T06:21:26.426Z"
   },
   {
    "duration": 32,
    "start_time": "2022-04-01T06:21:26.438Z"
   },
   {
    "duration": 33,
    "start_time": "2022-04-01T06:21:26.471Z"
   },
   {
    "duration": 28,
    "start_time": "2022-04-01T06:21:26.505Z"
   },
   {
    "duration": 13,
    "start_time": "2022-04-01T06:21:26.535Z"
   },
   {
    "duration": 115,
    "start_time": "2022-04-01T06:21:26.549Z"
   },
   {
    "duration": 18,
    "start_time": "2022-04-01T06:21:26.665Z"
   },
   {
    "duration": 18,
    "start_time": "2022-04-01T06:21:26.684Z"
   },
   {
    "duration": 12,
    "start_time": "2022-04-01T06:21:26.703Z"
   },
   {
    "duration": 9,
    "start_time": "2022-04-01T06:21:26.716Z"
   },
   {
    "duration": 25,
    "start_time": "2022-04-01T06:21:26.727Z"
   },
   {
    "duration": 21,
    "start_time": "2022-04-01T06:21:26.753Z"
   },
   {
    "duration": 50,
    "start_time": "2022-04-01T06:21:26.775Z"
   },
   {
    "duration": 10,
    "start_time": "2022-04-01T06:21:26.827Z"
   },
   {
    "duration": 11,
    "start_time": "2022-04-01T06:21:26.838Z"
   },
   {
    "duration": 70,
    "start_time": "2022-04-01T06:21:26.851Z"
   },
   {
    "duration": 15,
    "start_time": "2022-04-01T06:21:26.925Z"
   },
   {
    "duration": 18,
    "start_time": "2022-04-01T06:21:26.942Z"
   },
   {
    "duration": 16,
    "start_time": "2022-04-01T06:21:26.961Z"
   },
   {
    "duration": 20,
    "start_time": "2022-04-01T06:21:27.001Z"
   },
   {
    "duration": 43,
    "start_time": "2022-04-01T06:21:27.022Z"
   },
   {
    "duration": 14,
    "start_time": "2022-04-01T06:21:27.066Z"
   },
   {
    "duration": 9,
    "start_time": "2022-04-01T06:21:27.101Z"
   },
   {
    "duration": 7,
    "start_time": "2022-04-01T06:21:27.111Z"
   },
   {
    "duration": 7,
    "start_time": "2022-04-01T06:21:27.119Z"
   },
   {
    "duration": 6,
    "start_time": "2022-04-01T06:21:27.127Z"
   },
   {
    "duration": 5,
    "start_time": "2022-04-01T06:21:27.135Z"
   },
   {
    "duration": 6,
    "start_time": "2022-04-01T06:21:27.141Z"
   },
   {
    "duration": 59,
    "start_time": "2022-04-01T06:21:27.149Z"
   },
   {
    "duration": 20,
    "start_time": "2022-04-01T06:21:27.210Z"
   },
   {
    "duration": 50,
    "start_time": "2022-04-01T06:21:27.231Z"
   },
   {
    "duration": 31,
    "start_time": "2022-04-01T06:21:27.282Z"
   },
   {
    "duration": 12,
    "start_time": "2022-04-01T06:21:27.315Z"
   },
   {
    "duration": 10,
    "start_time": "2022-04-01T06:21:27.329Z"
   },
   {
    "duration": 6,
    "start_time": "2022-04-01T06:21:27.340Z"
   },
   {
    "duration": 5,
    "start_time": "2022-04-01T06:21:27.347Z"
   },
   {
    "duration": 21,
    "start_time": "2022-04-01T06:21:27.353Z"
   },
   {
    "duration": 2,
    "start_time": "2022-04-01T06:23:01.615Z"
   },
   {
    "duration": 585,
    "start_time": "2022-04-01T06:23:01.619Z"
   },
   {
    "duration": 25,
    "start_time": "2022-04-01T06:23:02.205Z"
   },
   {
    "duration": 130,
    "start_time": "2022-04-01T06:23:02.232Z"
   },
   {
    "duration": 20,
    "start_time": "2022-04-01T06:23:02.364Z"
   },
   {
    "duration": 95,
    "start_time": "2022-04-01T06:23:02.385Z"
   },
   {
    "duration": 27,
    "start_time": "2022-04-01T06:23:02.482Z"
   },
   {
    "duration": 20,
    "start_time": "2022-04-01T06:23:02.510Z"
   },
   {
    "duration": 9,
    "start_time": "2022-04-01T06:23:02.531Z"
   },
   {
    "duration": 71,
    "start_time": "2022-04-01T06:23:02.541Z"
   },
   {
    "duration": 10,
    "start_time": "2022-04-01T06:23:02.613Z"
   },
   {
    "duration": 25,
    "start_time": "2022-04-01T06:23:02.625Z"
   },
   {
    "duration": 34,
    "start_time": "2022-04-01T06:23:02.652Z"
   },
   {
    "duration": 24,
    "start_time": "2022-04-01T06:23:02.687Z"
   },
   {
    "duration": 27,
    "start_time": "2022-04-01T06:23:02.713Z"
   },
   {
    "duration": 12,
    "start_time": "2022-04-01T06:23:02.742Z"
   },
   {
    "duration": 119,
    "start_time": "2022-04-01T06:23:02.755Z"
   },
   {
    "duration": 30,
    "start_time": "2022-04-01T06:23:02.875Z"
   },
   {
    "duration": 5,
    "start_time": "2022-04-01T06:23:02.907Z"
   },
   {
    "duration": 8,
    "start_time": "2022-04-01T06:23:02.914Z"
   },
   {
    "duration": 9,
    "start_time": "2022-04-01T06:23:02.924Z"
   },
   {
    "duration": 22,
    "start_time": "2022-04-01T06:23:02.935Z"
   },
   {
    "duration": 52,
    "start_time": "2022-04-01T06:23:02.959Z"
   },
   {
    "duration": 22,
    "start_time": "2022-04-01T06:23:03.012Z"
   },
   {
    "duration": 9,
    "start_time": "2022-04-01T06:23:03.036Z"
   },
   {
    "duration": 10,
    "start_time": "2022-04-01T06:23:03.047Z"
   },
   {
    "duration": 75,
    "start_time": "2022-04-01T06:23:03.059Z"
   },
   {
    "duration": 16,
    "start_time": "2022-04-01T06:23:03.136Z"
   },
   {
    "duration": 19,
    "start_time": "2022-04-01T06:23:03.154Z"
   },
   {
    "duration": 37,
    "start_time": "2022-04-01T06:23:03.174Z"
   },
   {
    "duration": 19,
    "start_time": "2022-04-01T06:23:03.212Z"
   },
   {
    "duration": 42,
    "start_time": "2022-04-01T06:23:03.232Z"
   },
   {
    "duration": 34,
    "start_time": "2022-04-01T06:23:03.276Z"
   },
   {
    "duration": 9,
    "start_time": "2022-04-01T06:23:03.316Z"
   },
   {
    "duration": 7,
    "start_time": "2022-04-01T06:23:03.326Z"
   },
   {
    "duration": 8,
    "start_time": "2022-04-01T06:23:03.335Z"
   },
   {
    "duration": 7,
    "start_time": "2022-04-01T06:23:03.344Z"
   },
   {
    "duration": 10,
    "start_time": "2022-04-01T06:23:03.352Z"
   },
   {
    "duration": 7,
    "start_time": "2022-04-01T06:23:03.363Z"
   },
   {
    "duration": 58,
    "start_time": "2022-04-01T06:23:03.371Z"
   },
   {
    "duration": 22,
    "start_time": "2022-04-01T06:23:03.430Z"
   },
   {
    "duration": 20,
    "start_time": "2022-04-01T06:23:03.453Z"
   },
   {
    "duration": 58,
    "start_time": "2022-04-01T06:23:03.474Z"
   },
   {
    "duration": 14,
    "start_time": "2022-04-01T06:23:03.534Z"
   },
   {
    "duration": 11,
    "start_time": "2022-04-01T06:23:03.550Z"
   },
   {
    "duration": 6,
    "start_time": "2022-04-01T06:23:03.563Z"
   },
   {
    "duration": 32,
    "start_time": "2022-04-01T06:23:03.571Z"
   },
   {
    "duration": 21,
    "start_time": "2022-04-01T06:23:03.605Z"
   },
   {
    "duration": 13,
    "start_time": "2022-04-01T06:26:54.701Z"
   },
   {
    "duration": 437,
    "start_time": "2022-04-01T06:29:35.696Z"
   },
   {
    "duration": 171,
    "start_time": "2022-04-01T06:29:36.135Z"
   },
   {
    "duration": 26,
    "start_time": "2022-04-01T06:29:36.308Z"
   },
   {
    "duration": 134,
    "start_time": "2022-04-01T06:29:36.337Z"
   },
   {
    "duration": 29,
    "start_time": "2022-04-01T06:29:36.473Z"
   },
   {
    "duration": 88,
    "start_time": "2022-04-01T06:29:36.504Z"
   },
   {
    "duration": 19,
    "start_time": "2022-04-01T06:29:36.593Z"
   },
   {
    "duration": 20,
    "start_time": "2022-04-01T06:29:36.613Z"
   },
   {
    "duration": 9,
    "start_time": "2022-04-01T06:29:36.635Z"
   },
   {
    "duration": 44,
    "start_time": "2022-04-01T06:29:36.648Z"
   },
   {
    "duration": 10,
    "start_time": "2022-04-01T06:29:36.693Z"
   },
   {
    "duration": 9,
    "start_time": "2022-04-01T06:29:36.704Z"
   },
   {
    "duration": 34,
    "start_time": "2022-04-01T06:29:36.714Z"
   },
   {
    "duration": 24,
    "start_time": "2022-04-01T06:29:36.749Z"
   },
   {
    "duration": 45,
    "start_time": "2022-04-01T06:29:36.775Z"
   },
   {
    "duration": 13,
    "start_time": "2022-04-01T06:29:36.821Z"
   },
   {
    "duration": 115,
    "start_time": "2022-04-01T06:29:36.836Z"
   },
   {
    "duration": 18,
    "start_time": "2022-04-01T06:29:36.953Z"
   },
   {
    "duration": 15,
    "start_time": "2022-04-01T06:29:36.973Z"
   },
   {
    "duration": 13,
    "start_time": "2022-04-01T06:29:36.990Z"
   },
   {
    "duration": 12,
    "start_time": "2022-04-01T06:29:37.005Z"
   },
   {
    "duration": 24,
    "start_time": "2022-04-01T06:29:37.018Z"
   },
   {
    "duration": 22,
    "start_time": "2022-04-01T06:29:37.044Z"
   },
   {
    "duration": 53,
    "start_time": "2022-04-01T06:29:37.067Z"
   },
   {
    "duration": 9,
    "start_time": "2022-04-01T06:29:37.122Z"
   },
   {
    "duration": 12,
    "start_time": "2022-04-01T06:29:37.133Z"
   },
   {
    "duration": 75,
    "start_time": "2022-04-01T06:29:37.146Z"
   },
   {
    "duration": 17,
    "start_time": "2022-04-01T06:29:37.225Z"
   },
   {
    "duration": 19,
    "start_time": "2022-04-01T06:29:37.243Z"
   },
   {
    "duration": 37,
    "start_time": "2022-04-01T06:29:37.264Z"
   },
   {
    "duration": 20,
    "start_time": "2022-04-01T06:29:37.303Z"
   },
   {
    "duration": 46,
    "start_time": "2022-04-01T06:29:37.325Z"
   },
   {
    "duration": 31,
    "start_time": "2022-04-01T06:29:37.373Z"
   },
   {
    "duration": 9,
    "start_time": "2022-04-01T06:29:37.405Z"
   },
   {
    "duration": 4,
    "start_time": "2022-04-01T06:29:37.416Z"
   },
   {
    "duration": 8,
    "start_time": "2022-04-01T06:29:37.422Z"
   },
   {
    "duration": 11,
    "start_time": "2022-04-01T06:29:37.432Z"
   },
   {
    "duration": 4,
    "start_time": "2022-04-01T06:29:37.445Z"
   },
   {
    "duration": 7,
    "start_time": "2022-04-01T06:29:37.450Z"
   },
   {
    "duration": 67,
    "start_time": "2022-04-01T06:29:37.458Z"
   },
   {
    "duration": 22,
    "start_time": "2022-04-01T06:29:37.527Z"
   },
   {
    "duration": 20,
    "start_time": "2022-04-01T06:29:37.550Z"
   },
   {
    "duration": 53,
    "start_time": "2022-04-01T06:29:37.571Z"
   },
   {
    "duration": 14,
    "start_time": "2022-04-01T06:29:37.626Z"
   },
   {
    "duration": 7,
    "start_time": "2022-04-01T06:29:37.642Z"
   },
   {
    "duration": 4,
    "start_time": "2022-04-01T06:29:37.651Z"
   },
   {
    "duration": 51,
    "start_time": "2022-04-01T06:29:37.657Z"
   },
   {
    "duration": 4,
    "start_time": "2022-04-01T06:41:54.900Z"
   },
   {
    "duration": 3422,
    "start_time": "2022-04-01T06:44:13.213Z"
   },
   {
    "duration": 404,
    "start_time": "2022-04-01T06:45:09.739Z"
   },
   {
    "duration": 174,
    "start_time": "2022-04-01T06:45:10.145Z"
   },
   {
    "duration": 27,
    "start_time": "2022-04-01T06:45:10.321Z"
   },
   {
    "duration": 161,
    "start_time": "2022-04-01T06:45:10.350Z"
   },
   {
    "duration": 23,
    "start_time": "2022-04-01T06:45:10.512Z"
   },
   {
    "duration": 100,
    "start_time": "2022-04-01T06:45:10.536Z"
   },
   {
    "duration": 19,
    "start_time": "2022-04-01T06:45:10.637Z"
   },
   {
    "duration": 21,
    "start_time": "2022-04-01T06:45:10.658Z"
   },
   {
    "duration": 20,
    "start_time": "2022-04-01T06:45:10.681Z"
   },
   {
    "duration": 43,
    "start_time": "2022-04-01T06:45:10.706Z"
   },
   {
    "duration": 11,
    "start_time": "2022-04-01T06:45:10.751Z"
   },
   {
    "duration": 7,
    "start_time": "2022-04-01T06:45:10.764Z"
   },
   {
    "duration": 35,
    "start_time": "2022-04-01T06:45:10.773Z"
   },
   {
    "duration": 26,
    "start_time": "2022-04-01T06:45:10.809Z"
   },
   {
    "duration": 30,
    "start_time": "2022-04-01T06:45:10.837Z"
   },
   {
    "duration": 36,
    "start_time": "2022-04-01T06:45:10.869Z"
   },
   {
    "duration": 115,
    "start_time": "2022-04-01T06:45:10.907Z"
   },
   {
    "duration": 19,
    "start_time": "2022-04-01T06:45:11.024Z"
   },
   {
    "duration": 9,
    "start_time": "2022-04-01T06:45:11.045Z"
   },
   {
    "duration": 10,
    "start_time": "2022-04-01T06:45:11.056Z"
   },
   {
    "duration": 35,
    "start_time": "2022-04-01T06:45:11.068Z"
   },
   {
    "duration": 26,
    "start_time": "2022-04-01T06:45:11.105Z"
   },
   {
    "duration": 21,
    "start_time": "2022-04-01T06:45:11.133Z"
   },
   {
    "duration": 46,
    "start_time": "2022-04-01T06:45:11.156Z"
   },
   {
    "duration": 11,
    "start_time": "2022-04-01T06:45:11.204Z"
   },
   {
    "duration": 12,
    "start_time": "2022-04-01T06:45:11.217Z"
   },
   {
    "duration": 71,
    "start_time": "2022-04-01T06:45:11.231Z"
   },
   {
    "duration": 16,
    "start_time": "2022-04-01T06:45:11.306Z"
   },
   {
    "duration": 20,
    "start_time": "2022-04-01T06:45:11.324Z"
   },
   {
    "duration": 18,
    "start_time": "2022-04-01T06:45:11.346Z"
   },
   {
    "duration": 45,
    "start_time": "2022-04-01T06:45:11.366Z"
   },
   {
    "duration": 50,
    "start_time": "2022-04-01T06:45:11.413Z"
   },
   {
    "duration": 37,
    "start_time": "2022-04-01T06:45:11.465Z"
   },
   {
    "duration": 11,
    "start_time": "2022-04-01T06:45:11.504Z"
   },
   {
    "duration": 8,
    "start_time": "2022-04-01T06:45:11.517Z"
   },
   {
    "duration": 7,
    "start_time": "2022-04-01T06:45:11.527Z"
   },
   {
    "duration": 6,
    "start_time": "2022-04-01T06:45:11.536Z"
   },
   {
    "duration": 5,
    "start_time": "2022-04-01T06:45:11.544Z"
   },
   {
    "duration": 6,
    "start_time": "2022-04-01T06:45:11.550Z"
   },
   {
    "duration": 64,
    "start_time": "2022-04-01T06:45:11.558Z"
   },
   {
    "duration": 22,
    "start_time": "2022-04-01T06:45:11.624Z"
   },
   {
    "duration": 20,
    "start_time": "2022-04-01T06:45:11.648Z"
   },
   {
    "duration": 59,
    "start_time": "2022-04-01T06:45:11.670Z"
   },
   {
    "duration": 14,
    "start_time": "2022-04-01T06:45:11.731Z"
   },
   {
    "duration": 7,
    "start_time": "2022-04-01T06:45:11.746Z"
   },
   {
    "duration": 4,
    "start_time": "2022-04-01T06:45:11.755Z"
   },
   {
    "duration": 43,
    "start_time": "2022-04-01T06:45:11.760Z"
   },
   {
    "duration": 4,
    "start_time": "2022-04-01T06:45:11.804Z"
   },
   {
    "duration": 3437,
    "start_time": "2022-04-01T06:45:11.809Z"
   },
   {
    "duration": 11,
    "start_time": "2022-04-01T06:48:31.746Z"
   },
   {
    "duration": 10,
    "start_time": "2022-04-01T06:48:39.173Z"
   },
   {
    "duration": 15,
    "start_time": "2022-04-01T06:50:15.060Z"
   },
   {
    "duration": 792,
    "start_time": "2022-04-01T06:50:28.517Z"
   },
   {
    "duration": 442,
    "start_time": "2022-04-01T06:50:57.672Z"
   },
   {
    "duration": 172,
    "start_time": "2022-04-01T06:50:58.116Z"
   },
   {
    "duration": 25,
    "start_time": "2022-04-01T06:50:58.289Z"
   },
   {
    "duration": 141,
    "start_time": "2022-04-01T06:50:58.317Z"
   },
   {
    "duration": 21,
    "start_time": "2022-04-01T06:50:58.459Z"
   },
   {
    "duration": 96,
    "start_time": "2022-04-01T06:50:58.482Z"
   },
   {
    "duration": 22,
    "start_time": "2022-04-01T06:50:58.579Z"
   },
   {
    "duration": 20,
    "start_time": "2022-04-01T06:50:58.603Z"
   },
   {
    "duration": 10,
    "start_time": "2022-04-01T06:50:58.625Z"
   },
   {
    "duration": 33,
    "start_time": "2022-04-01T06:50:58.638Z"
   },
   {
    "duration": 9,
    "start_time": "2022-04-01T06:50:58.673Z"
   },
   {
    "duration": 7,
    "start_time": "2022-04-01T06:50:58.684Z"
   },
   {
    "duration": 38,
    "start_time": "2022-04-01T06:50:58.693Z"
   },
   {
    "duration": 25,
    "start_time": "2022-04-01T06:50:58.733Z"
   },
   {
    "duration": 44,
    "start_time": "2022-04-01T06:50:58.760Z"
   },
   {
    "duration": 13,
    "start_time": "2022-04-01T06:50:58.806Z"
   },
   {
    "duration": 112,
    "start_time": "2022-04-01T06:50:58.820Z"
   },
   {
    "duration": 18,
    "start_time": "2022-04-01T06:50:58.933Z"
   },
   {
    "duration": 8,
    "start_time": "2022-04-01T06:50:58.953Z"
   },
   {
    "duration": 8,
    "start_time": "2022-04-01T06:50:58.963Z"
   },
   {
    "duration": 29,
    "start_time": "2022-04-01T06:50:58.973Z"
   },
   {
    "duration": 23,
    "start_time": "2022-04-01T06:50:59.003Z"
   },
   {
    "duration": 20,
    "start_time": "2022-04-01T06:50:59.027Z"
   },
   {
    "duration": 24,
    "start_time": "2022-04-01T06:50:59.049Z"
   },
   {
    "duration": 35,
    "start_time": "2022-04-01T06:50:59.074Z"
   },
   {
    "duration": 10,
    "start_time": "2022-04-01T06:50:59.111Z"
   },
   {
    "duration": 41,
    "start_time": "2022-04-01T06:50:59.123Z"
   },
   {
    "duration": 39,
    "start_time": "2022-04-01T06:50:59.168Z"
   },
   {
    "duration": 18,
    "start_time": "2022-04-01T06:50:59.208Z"
   },
   {
    "duration": 17,
    "start_time": "2022-04-01T06:50:59.227Z"
   },
   {
    "duration": 19,
    "start_time": "2022-04-01T06:50:59.245Z"
   },
   {
    "duration": 66,
    "start_time": "2022-04-01T06:50:59.265Z"
   },
   {
    "duration": 15,
    "start_time": "2022-04-01T06:50:59.333Z"
   },
   {
    "duration": 13,
    "start_time": "2022-04-01T06:50:59.349Z"
   },
   {
    "duration": 6,
    "start_time": "2022-04-01T06:50:59.364Z"
   },
   {
    "duration": 30,
    "start_time": "2022-04-01T06:50:59.371Z"
   },
   {
    "duration": 6,
    "start_time": "2022-04-01T06:50:59.403Z"
   },
   {
    "duration": 5,
    "start_time": "2022-04-01T06:50:59.411Z"
   },
   {
    "duration": 11,
    "start_time": "2022-04-01T06:50:59.418Z"
   },
   {
    "duration": 36,
    "start_time": "2022-04-01T06:50:59.431Z"
   },
   {
    "duration": 45,
    "start_time": "2022-04-01T06:50:59.469Z"
   },
   {
    "duration": 22,
    "start_time": "2022-04-01T06:50:59.516Z"
   },
   {
    "duration": 36,
    "start_time": "2022-04-01T06:50:59.539Z"
   },
   {
    "duration": 13,
    "start_time": "2022-04-01T06:50:59.602Z"
   },
   {
    "duration": 6,
    "start_time": "2022-04-01T06:50:59.617Z"
   },
   {
    "duration": 4,
    "start_time": "2022-04-01T06:50:59.625Z"
   },
   {
    "duration": 26,
    "start_time": "2022-04-01T06:50:59.631Z"
   },
   {
    "duration": 3,
    "start_time": "2022-04-01T06:50:59.659Z"
   },
   {
    "duration": 973,
    "start_time": "2022-04-01T06:50:59.664Z"
   },
   {
    "duration": 4,
    "start_time": "2022-04-01T06:58:19.509Z"
   },
   {
    "duration": 776,
    "start_time": "2022-04-01T06:58:20.391Z"
   },
   {
    "duration": 4,
    "start_time": "2022-04-01T06:58:48.768Z"
   },
   {
    "duration": 808,
    "start_time": "2022-04-01T06:58:49.693Z"
   },
   {
    "duration": 4,
    "start_time": "2022-04-01T07:07:10.471Z"
   },
   {
    "duration": 834,
    "start_time": "2022-04-01T07:07:11.375Z"
   },
   {
    "duration": 4,
    "start_time": "2022-04-01T07:15:02.621Z"
   },
   {
    "duration": 826,
    "start_time": "2022-04-01T07:15:03.595Z"
   },
   {
    "duration": 845,
    "start_time": "2022-04-01T07:15:59.257Z"
   },
   {
    "duration": 3,
    "start_time": "2022-04-01T07:18:21.742Z"
   },
   {
    "duration": 983,
    "start_time": "2022-04-01T07:18:22.633Z"
   },
   {
    "duration": 1253,
    "start_time": "2022-04-01T07:18:33.074Z"
   },
   {
    "duration": 433,
    "start_time": "2022-04-01T07:18:43.068Z"
   },
   {
    "duration": 165,
    "start_time": "2022-04-01T07:18:43.503Z"
   },
   {
    "duration": 33,
    "start_time": "2022-04-01T07:18:43.670Z"
   },
   {
    "duration": 140,
    "start_time": "2022-04-01T07:18:43.706Z"
   },
   {
    "duration": 22,
    "start_time": "2022-04-01T07:18:43.847Z"
   },
   {
    "duration": 92,
    "start_time": "2022-04-01T07:18:43.870Z"
   },
   {
    "duration": 18,
    "start_time": "2022-04-01T07:18:43.964Z"
   },
   {
    "duration": 22,
    "start_time": "2022-04-01T07:18:43.984Z"
   },
   {
    "duration": 9,
    "start_time": "2022-04-01T07:18:44.007Z"
   },
   {
    "duration": 35,
    "start_time": "2022-04-01T07:18:44.020Z"
   },
   {
    "duration": 10,
    "start_time": "2022-04-01T07:18:44.056Z"
   },
   {
    "duration": 11,
    "start_time": "2022-04-01T07:18:44.068Z"
   },
   {
    "duration": 34,
    "start_time": "2022-04-01T07:18:44.080Z"
   },
   {
    "duration": 24,
    "start_time": "2022-04-01T07:18:44.116Z"
   },
   {
    "duration": 29,
    "start_time": "2022-04-01T07:18:44.141Z"
   },
   {
    "duration": 34,
    "start_time": "2022-04-01T07:18:44.171Z"
   },
   {
    "duration": 101,
    "start_time": "2022-04-01T07:18:44.207Z"
   },
   {
    "duration": 20,
    "start_time": "2022-04-01T07:18:44.309Z"
   },
   {
    "duration": 10,
    "start_time": "2022-04-01T07:18:44.330Z"
   },
   {
    "duration": 10,
    "start_time": "2022-04-01T07:18:44.341Z"
   },
   {
    "duration": 9,
    "start_time": "2022-04-01T07:18:44.352Z"
   },
   {
    "duration": 53,
    "start_time": "2022-04-01T07:18:44.363Z"
   },
   {
    "duration": 21,
    "start_time": "2022-04-01T07:18:44.417Z"
   },
   {
    "duration": 26,
    "start_time": "2022-04-01T07:18:44.439Z"
   },
   {
    "duration": 34,
    "start_time": "2022-04-01T07:18:44.467Z"
   },
   {
    "duration": 12,
    "start_time": "2022-04-01T07:18:44.503Z"
   },
   {
    "duration": 49,
    "start_time": "2022-04-01T07:18:44.516Z"
   },
   {
    "duration": 37,
    "start_time": "2022-04-01T07:18:44.568Z"
   },
   {
    "duration": 19,
    "start_time": "2022-04-01T07:18:44.607Z"
   },
   {
    "duration": 17,
    "start_time": "2022-04-01T07:18:44.627Z"
   },
   {
    "duration": 21,
    "start_time": "2022-04-01T07:18:44.645Z"
   },
   {
    "duration": 70,
    "start_time": "2022-04-01T07:18:44.668Z"
   },
   {
    "duration": 16,
    "start_time": "2022-04-01T07:18:44.739Z"
   },
   {
    "duration": 9,
    "start_time": "2022-04-01T07:18:44.757Z"
   },
   {
    "duration": 3,
    "start_time": "2022-04-01T07:18:44.768Z"
   },
   {
    "duration": 31,
    "start_time": "2022-04-01T07:18:44.773Z"
   },
   {
    "duration": 8,
    "start_time": "2022-04-01T07:18:44.806Z"
   },
   {
    "duration": 5,
    "start_time": "2022-04-01T07:18:44.816Z"
   },
   {
    "duration": 11,
    "start_time": "2022-04-01T07:18:44.822Z"
   },
   {
    "duration": 32,
    "start_time": "2022-04-01T07:18:44.834Z"
   },
   {
    "duration": 49,
    "start_time": "2022-04-01T07:18:44.868Z"
   },
   {
    "duration": 18,
    "start_time": "2022-04-01T07:18:44.919Z"
   },
   {
    "duration": 31,
    "start_time": "2022-04-01T07:18:44.939Z"
   },
   {
    "duration": 32,
    "start_time": "2022-04-01T07:18:44.972Z"
   },
   {
    "duration": 6,
    "start_time": "2022-04-01T07:18:45.005Z"
   },
   {
    "duration": 5,
    "start_time": "2022-04-01T07:18:45.012Z"
   },
   {
    "duration": 16,
    "start_time": "2022-04-01T07:18:45.018Z"
   },
   {
    "duration": 3,
    "start_time": "2022-04-01T07:18:45.036Z"
   },
   {
    "duration": 1003,
    "start_time": "2022-04-01T07:18:45.041Z"
   },
   {
    "duration": 11,
    "start_time": "2022-04-01T07:23:39.755Z"
   },
   {
    "duration": 424,
    "start_time": "2022-04-01T07:23:53.568Z"
   },
   {
    "duration": 158,
    "start_time": "2022-04-01T07:23:53.994Z"
   },
   {
    "duration": 25,
    "start_time": "2022-04-01T07:23:54.154Z"
   },
   {
    "duration": 146,
    "start_time": "2022-04-01T07:23:54.181Z"
   },
   {
    "duration": 21,
    "start_time": "2022-04-01T07:23:54.329Z"
   },
   {
    "duration": 96,
    "start_time": "2022-04-01T07:23:54.352Z"
   },
   {
    "duration": 20,
    "start_time": "2022-04-01T07:23:54.451Z"
   },
   {
    "duration": 29,
    "start_time": "2022-04-01T07:23:54.473Z"
   },
   {
    "duration": 11,
    "start_time": "2022-04-01T07:23:54.504Z"
   },
   {
    "duration": 34,
    "start_time": "2022-04-01T07:23:54.520Z"
   },
   {
    "duration": 10,
    "start_time": "2022-04-01T07:23:54.557Z"
   },
   {
    "duration": 7,
    "start_time": "2022-04-01T07:23:54.569Z"
   },
   {
    "duration": 46,
    "start_time": "2022-04-01T07:23:54.578Z"
   },
   {
    "duration": 25,
    "start_time": "2022-04-01T07:23:54.626Z"
   },
   {
    "duration": 29,
    "start_time": "2022-04-01T07:23:54.653Z"
   },
   {
    "duration": 15,
    "start_time": "2022-04-01T07:23:54.701Z"
   },
   {
    "duration": 110,
    "start_time": "2022-04-01T07:23:54.718Z"
   },
   {
    "duration": 19,
    "start_time": "2022-04-01T07:23:54.830Z"
   },
   {
    "duration": 9,
    "start_time": "2022-04-01T07:23:54.851Z"
   },
   {
    "duration": 10,
    "start_time": "2022-04-01T07:23:54.862Z"
   },
   {
    "duration": 34,
    "start_time": "2022-04-01T07:23:54.874Z"
   },
   {
    "duration": 24,
    "start_time": "2022-04-01T07:23:54.910Z"
   },
   {
    "duration": 21,
    "start_time": "2022-04-01T07:23:54.935Z"
   },
   {
    "duration": 48,
    "start_time": "2022-04-01T07:23:54.958Z"
   },
   {
    "duration": 11,
    "start_time": "2022-04-01T07:23:55.008Z"
   },
   {
    "duration": 10,
    "start_time": "2022-04-01T07:23:55.021Z"
   },
   {
    "duration": 42,
    "start_time": "2022-04-01T07:23:55.033Z"
   },
   {
    "duration": 15,
    "start_time": "2022-04-01T07:23:55.101Z"
   },
   {
    "duration": 17,
    "start_time": "2022-04-01T07:23:55.118Z"
   },
   {
    "duration": 15,
    "start_time": "2022-04-01T07:23:55.137Z"
   },
   {
    "duration": 18,
    "start_time": "2022-04-01T07:23:55.153Z"
   },
   {
    "duration": 71,
    "start_time": "2022-04-01T07:23:55.173Z"
   },
   {
    "duration": 14,
    "start_time": "2022-04-01T07:23:55.246Z"
   },
   {
    "duration": 11,
    "start_time": "2022-04-01T07:23:55.262Z"
   },
   {
    "duration": 27,
    "start_time": "2022-04-01T07:23:55.275Z"
   },
   {
    "duration": 6,
    "start_time": "2022-04-01T07:23:55.303Z"
   },
   {
    "duration": 12,
    "start_time": "2022-04-01T07:23:55.310Z"
   },
   {
    "duration": 9,
    "start_time": "2022-04-01T07:23:55.324Z"
   },
   {
    "duration": 7,
    "start_time": "2022-04-01T07:23:55.334Z"
   },
   {
    "duration": 32,
    "start_time": "2022-04-01T07:23:55.343Z"
   },
   {
    "duration": 42,
    "start_time": "2022-04-01T07:23:55.377Z"
   },
   {
    "duration": 20,
    "start_time": "2022-04-01T07:23:55.421Z"
   },
   {
    "duration": 33,
    "start_time": "2022-04-01T07:23:55.443Z"
   },
   {
    "duration": 34,
    "start_time": "2022-04-01T07:23:55.478Z"
   },
   {
    "duration": 6,
    "start_time": "2022-04-01T07:23:55.514Z"
   },
   {
    "duration": 4,
    "start_time": "2022-04-01T07:23:55.521Z"
   },
   {
    "duration": 17,
    "start_time": "2022-04-01T07:23:55.526Z"
   },
   {
    "duration": 3,
    "start_time": "2022-04-01T07:23:55.544Z"
   },
   {
    "duration": 15,
    "start_time": "2022-04-01T07:23:55.549Z"
   },
   {
    "duration": 4,
    "start_time": "2022-04-01T07:24:39.056Z"
   },
   {
    "duration": 1087,
    "start_time": "2022-04-01T07:24:39.817Z"
   },
   {
    "duration": 4,
    "start_time": "2022-04-01T07:40:02.825Z"
   },
   {
    "duration": 948,
    "start_time": "2022-04-01T07:40:03.721Z"
   },
   {
    "duration": 5,
    "start_time": "2022-04-01T07:44:18.103Z"
   },
   {
    "duration": 796,
    "start_time": "2022-04-01T07:44:19.269Z"
   },
   {
    "duration": 3,
    "start_time": "2022-04-01T07:49:14.305Z"
   },
   {
    "duration": 831,
    "start_time": "2022-04-01T07:49:15.340Z"
   },
   {
    "duration": 4,
    "start_time": "2022-04-01T07:50:11.283Z"
   },
   {
    "duration": 986,
    "start_time": "2022-04-01T07:50:11.289Z"
   },
   {
    "duration": 200,
    "start_time": "2022-04-01T07:59:41.694Z"
   },
   {
    "duration": 4,
    "start_time": "2022-04-01T07:59:52.429Z"
   },
   {
    "duration": 772,
    "start_time": "2022-04-01T07:59:53.873Z"
   },
   {
    "duration": 4,
    "start_time": "2022-04-01T08:00:55.428Z"
   },
   {
    "duration": 795,
    "start_time": "2022-04-01T08:00:56.126Z"
   },
   {
    "duration": 439,
    "start_time": "2022-04-01T08:01:25.311Z"
   },
   {
    "duration": 149,
    "start_time": "2022-04-01T08:01:25.752Z"
   },
   {
    "duration": 25,
    "start_time": "2022-04-01T08:01:25.903Z"
   },
   {
    "duration": 137,
    "start_time": "2022-04-01T08:01:25.930Z"
   },
   {
    "duration": 20,
    "start_time": "2022-04-01T08:01:26.069Z"
   },
   {
    "duration": 87,
    "start_time": "2022-04-01T08:01:26.091Z"
   },
   {
    "duration": 23,
    "start_time": "2022-04-01T08:01:26.180Z"
   },
   {
    "duration": 20,
    "start_time": "2022-04-01T08:01:26.205Z"
   },
   {
    "duration": 9,
    "start_time": "2022-04-01T08:01:26.227Z"
   },
   {
    "duration": 32,
    "start_time": "2022-04-01T08:01:26.240Z"
   },
   {
    "duration": 9,
    "start_time": "2022-04-01T08:01:26.273Z"
   },
   {
    "duration": 8,
    "start_time": "2022-04-01T08:01:26.283Z"
   },
   {
    "duration": 36,
    "start_time": "2022-04-01T08:01:26.292Z"
   },
   {
    "duration": 21,
    "start_time": "2022-04-01T08:01:26.330Z"
   },
   {
    "duration": 26,
    "start_time": "2022-04-01T08:01:26.353Z"
   },
   {
    "duration": 32,
    "start_time": "2022-04-01T08:01:26.380Z"
   },
   {
    "duration": 113,
    "start_time": "2022-04-01T08:01:26.413Z"
   },
   {
    "duration": 17,
    "start_time": "2022-04-01T08:01:26.527Z"
   },
   {
    "duration": 8,
    "start_time": "2022-04-01T08:01:26.545Z"
   },
   {
    "duration": 9,
    "start_time": "2022-04-01T08:01:26.554Z"
   },
   {
    "duration": 8,
    "start_time": "2022-04-01T08:01:26.564Z"
   },
   {
    "duration": 50,
    "start_time": "2022-04-01T08:01:26.574Z"
   },
   {
    "duration": 20,
    "start_time": "2022-04-01T08:01:26.626Z"
   },
   {
    "duration": 25,
    "start_time": "2022-04-01T08:01:26.648Z"
   },
   {
    "duration": 30,
    "start_time": "2022-04-01T08:01:26.674Z"
   },
   {
    "duration": 11,
    "start_time": "2022-04-01T08:01:26.706Z"
   },
   {
    "duration": 42,
    "start_time": "2022-04-01T08:01:26.718Z"
   },
   {
    "duration": 39,
    "start_time": "2022-04-01T08:01:26.763Z"
   },
   {
    "duration": 18,
    "start_time": "2022-04-01T08:01:26.804Z"
   },
   {
    "duration": 16,
    "start_time": "2022-04-01T08:01:26.823Z"
   },
   {
    "duration": 19,
    "start_time": "2022-04-01T08:01:26.840Z"
   },
   {
    "duration": 71,
    "start_time": "2022-04-01T08:01:26.860Z"
   },
   {
    "duration": 15,
    "start_time": "2022-04-01T08:01:26.933Z"
   },
   {
    "duration": 8,
    "start_time": "2022-04-01T08:01:26.949Z"
   },
   {
    "duration": 5,
    "start_time": "2022-04-01T08:01:26.958Z"
   },
   {
    "duration": 6,
    "start_time": "2022-04-01T08:01:26.965Z"
   },
   {
    "duration": 29,
    "start_time": "2022-04-01T08:01:26.973Z"
   },
   {
    "duration": 5,
    "start_time": "2022-04-01T08:01:27.003Z"
   },
   {
    "duration": 11,
    "start_time": "2022-04-01T08:01:27.009Z"
   },
   {
    "duration": 32,
    "start_time": "2022-04-01T08:01:27.022Z"
   },
   {
    "duration": 21,
    "start_time": "2022-04-01T08:01:27.056Z"
   },
   {
    "duration": 38,
    "start_time": "2022-04-01T08:01:27.079Z"
   },
   {
    "duration": 32,
    "start_time": "2022-04-01T08:01:27.119Z"
   },
   {
    "duration": 11,
    "start_time": "2022-04-01T08:01:27.152Z"
   },
   {
    "duration": 6,
    "start_time": "2022-04-01T08:01:27.165Z"
   },
   {
    "duration": 5,
    "start_time": "2022-04-01T08:01:27.200Z"
   },
   {
    "duration": 16,
    "start_time": "2022-04-01T08:01:27.206Z"
   },
   {
    "duration": 3,
    "start_time": "2022-04-01T08:01:27.224Z"
   },
   {
    "duration": 899,
    "start_time": "2022-04-01T08:01:27.228Z"
   },
   {
    "duration": 4,
    "start_time": "2022-04-01T08:05:15.875Z"
   },
   {
    "duration": 1564,
    "start_time": "2022-04-01T08:05:16.814Z"
   },
   {
    "duration": 4,
    "start_time": "2022-04-01T08:07:13.986Z"
   },
   {
    "duration": 779,
    "start_time": "2022-04-01T08:07:15.108Z"
   },
   {
    "duration": 4,
    "start_time": "2022-04-01T08:08:22.593Z"
   },
   {
    "duration": 940,
    "start_time": "2022-04-01T08:08:23.410Z"
   },
   {
    "duration": 415,
    "start_time": "2022-04-01T08:08:35.558Z"
   },
   {
    "duration": 164,
    "start_time": "2022-04-01T08:08:35.974Z"
   },
   {
    "duration": 25,
    "start_time": "2022-04-01T08:08:36.140Z"
   },
   {
    "duration": 136,
    "start_time": "2022-04-01T08:08:36.167Z"
   },
   {
    "duration": 20,
    "start_time": "2022-04-01T08:08:36.305Z"
   },
   {
    "duration": 94,
    "start_time": "2022-04-01T08:08:36.327Z"
   },
   {
    "duration": 20,
    "start_time": "2022-04-01T08:08:36.423Z"
   },
   {
    "duration": 21,
    "start_time": "2022-04-01T08:08:36.445Z"
   },
   {
    "duration": 10,
    "start_time": "2022-04-01T08:08:36.467Z"
   },
   {
    "duration": 34,
    "start_time": "2022-04-01T08:08:36.480Z"
   },
   {
    "duration": 10,
    "start_time": "2022-04-01T08:08:36.516Z"
   },
   {
    "duration": 9,
    "start_time": "2022-04-01T08:08:36.527Z"
   },
   {
    "duration": 34,
    "start_time": "2022-04-01T08:08:36.538Z"
   },
   {
    "duration": 41,
    "start_time": "2022-04-01T08:08:36.574Z"
   },
   {
    "duration": 28,
    "start_time": "2022-04-01T08:08:36.617Z"
   },
   {
    "duration": 13,
    "start_time": "2022-04-01T08:08:36.647Z"
   },
   {
    "duration": 127,
    "start_time": "2022-04-01T08:08:36.662Z"
   },
   {
    "duration": 25,
    "start_time": "2022-04-01T08:08:36.791Z"
   },
   {
    "duration": 9,
    "start_time": "2022-04-01T08:08:36.817Z"
   },
   {
    "duration": 19,
    "start_time": "2022-04-01T08:08:36.828Z"
   },
   {
    "duration": 9,
    "start_time": "2022-04-01T08:08:36.848Z"
   },
   {
    "duration": 27,
    "start_time": "2022-04-01T08:08:36.859Z"
   },
   {
    "duration": 21,
    "start_time": "2022-04-01T08:08:36.900Z"
   },
   {
    "duration": 25,
    "start_time": "2022-04-01T08:08:36.923Z"
   },
   {
    "duration": 9,
    "start_time": "2022-04-01T08:08:36.950Z"
   },
   {
    "duration": 40,
    "start_time": "2022-04-01T08:08:36.961Z"
   },
   {
    "duration": 46,
    "start_time": "2022-04-01T08:08:37.003Z"
   },
   {
    "duration": 16,
    "start_time": "2022-04-01T08:08:37.053Z"
   },
   {
    "duration": 40,
    "start_time": "2022-04-01T08:08:37.071Z"
   },
   {
    "duration": 17,
    "start_time": "2022-04-01T08:08:37.113Z"
   },
   {
    "duration": 21,
    "start_time": "2022-04-01T08:08:37.131Z"
   },
   {
    "duration": 82,
    "start_time": "2022-04-01T08:08:37.154Z"
   },
   {
    "duration": 18,
    "start_time": "2022-04-01T08:08:37.237Z"
   },
   {
    "duration": 10,
    "start_time": "2022-04-01T08:08:37.257Z"
   },
   {
    "duration": 11,
    "start_time": "2022-04-01T08:08:37.269Z"
   },
   {
    "duration": 20,
    "start_time": "2022-04-01T08:08:37.281Z"
   },
   {
    "duration": 9,
    "start_time": "2022-04-01T08:08:37.303Z"
   },
   {
    "duration": 6,
    "start_time": "2022-04-01T08:08:37.313Z"
   },
   {
    "duration": 7,
    "start_time": "2022-04-01T08:08:37.321Z"
   },
   {
    "duration": 35,
    "start_time": "2022-04-01T08:08:37.329Z"
   },
   {
    "duration": 51,
    "start_time": "2022-04-01T08:08:37.365Z"
   },
   {
    "duration": 20,
    "start_time": "2022-04-01T08:08:37.418Z"
   },
   {
    "duration": 32,
    "start_time": "2022-04-01T08:08:37.440Z"
   },
   {
    "duration": 36,
    "start_time": "2022-04-01T08:08:37.474Z"
   },
   {
    "duration": 7,
    "start_time": "2022-04-01T08:08:37.511Z"
   },
   {
    "duration": 4,
    "start_time": "2022-04-01T08:08:37.519Z"
   },
   {
    "duration": 18,
    "start_time": "2022-04-01T08:08:37.525Z"
   },
   {
    "duration": 4,
    "start_time": "2022-04-01T08:08:37.544Z"
   },
   {
    "duration": 981,
    "start_time": "2022-04-01T08:08:37.550Z"
   },
   {
    "duration": 4,
    "start_time": "2022-04-01T08:08:52.457Z"
   },
   {
    "duration": 855,
    "start_time": "2022-04-01T08:08:53.142Z"
   },
   {
    "duration": 3,
    "start_time": "2022-04-01T08:27:22.721Z"
   },
   {
    "duration": 1169,
    "start_time": "2022-04-01T08:27:23.735Z"
   },
   {
    "duration": 4,
    "start_time": "2022-04-01T08:28:15.298Z"
   },
   {
    "duration": 1015,
    "start_time": "2022-04-01T08:28:16.035Z"
   },
   {
    "duration": 4,
    "start_time": "2022-04-01T08:28:52.024Z"
   },
   {
    "duration": 1074,
    "start_time": "2022-04-01T08:28:52.862Z"
   },
   {
    "duration": 4,
    "start_time": "2022-04-01T08:31:16.959Z"
   },
   {
    "duration": 840,
    "start_time": "2022-04-01T08:31:17.695Z"
   },
   {
    "duration": 14,
    "start_time": "2022-04-01T08:36:54.661Z"
   },
   {
    "duration": 5,
    "start_time": "2022-04-01T09:27:07.309Z"
   },
   {
    "duration": 828,
    "start_time": "2022-04-01T09:27:07.780Z"
   },
   {
    "duration": 4,
    "start_time": "2022-04-01T09:27:56.139Z"
   },
   {
    "duration": 1078,
    "start_time": "2022-04-01T09:27:56.899Z"
   },
   {
    "duration": 920,
    "start_time": "2022-04-01T09:28:25.346Z"
   },
   {
    "duration": 838,
    "start_time": "2022-04-01T09:29:22.462Z"
   },
   {
    "duration": 4,
    "start_time": "2022-04-01T09:32:26.955Z"
   },
   {
    "duration": 946,
    "start_time": "2022-04-01T09:32:27.572Z"
   },
   {
    "duration": 4,
    "start_time": "2022-04-01T09:33:19.563Z"
   },
   {
    "duration": 976,
    "start_time": "2022-04-01T09:33:20.130Z"
   },
   {
    "duration": 421,
    "start_time": "2022-04-01T09:33:28.962Z"
   },
   {
    "duration": 164,
    "start_time": "2022-04-01T09:33:29.385Z"
   },
   {
    "duration": 24,
    "start_time": "2022-04-01T09:33:29.550Z"
   },
   {
    "duration": 136,
    "start_time": "2022-04-01T09:33:29.575Z"
   },
   {
    "duration": 21,
    "start_time": "2022-04-01T09:33:29.713Z"
   },
   {
    "duration": 91,
    "start_time": "2022-04-01T09:33:29.735Z"
   },
   {
    "duration": 19,
    "start_time": "2022-04-01T09:33:29.827Z"
   },
   {
    "duration": 20,
    "start_time": "2022-04-01T09:33:29.848Z"
   },
   {
    "duration": 10,
    "start_time": "2022-04-01T09:33:29.870Z"
   },
   {
    "duration": 34,
    "start_time": "2022-04-01T09:33:29.900Z"
   },
   {
    "duration": 10,
    "start_time": "2022-04-01T09:33:29.935Z"
   },
   {
    "duration": 8,
    "start_time": "2022-04-01T09:33:29.947Z"
   },
   {
    "duration": 35,
    "start_time": "2022-04-01T09:33:29.957Z"
   },
   {
    "duration": 25,
    "start_time": "2022-04-01T09:33:29.993Z"
   },
   {
    "duration": 30,
    "start_time": "2022-04-01T09:33:30.020Z"
   },
   {
    "duration": 15,
    "start_time": "2022-04-01T09:33:30.052Z"
   },
   {
    "duration": 137,
    "start_time": "2022-04-01T09:33:30.068Z"
   },
   {
    "duration": 19,
    "start_time": "2022-04-01T09:33:30.207Z"
   },
   {
    "duration": 10,
    "start_time": "2022-04-01T09:33:30.227Z"
   },
   {
    "duration": 15,
    "start_time": "2022-04-01T09:33:30.239Z"
   },
   {
    "duration": 10,
    "start_time": "2022-04-01T09:33:30.256Z"
   },
   {
    "duration": 55,
    "start_time": "2022-04-01T09:33:30.267Z"
   },
   {
    "duration": 22,
    "start_time": "2022-04-01T09:33:30.323Z"
   },
   {
    "duration": 26,
    "start_time": "2022-04-01T09:33:30.347Z"
   },
   {
    "duration": 30,
    "start_time": "2022-04-01T09:33:30.375Z"
   },
   {
    "duration": 13,
    "start_time": "2022-04-01T09:33:30.407Z"
   },
   {
    "duration": 49,
    "start_time": "2022-04-01T09:33:30.422Z"
   },
   {
    "duration": 37,
    "start_time": "2022-04-01T09:33:30.474Z"
   },
   {
    "duration": 22,
    "start_time": "2022-04-01T09:33:30.513Z"
   },
   {
    "duration": 18,
    "start_time": "2022-04-01T09:33:30.536Z"
   },
   {
    "duration": 21,
    "start_time": "2022-04-01T09:33:30.556Z"
   },
   {
    "duration": 74,
    "start_time": "2022-04-01T09:33:30.578Z"
   },
   {
    "duration": 15,
    "start_time": "2022-04-01T09:33:30.654Z"
   },
   {
    "duration": 32,
    "start_time": "2022-04-01T09:33:30.670Z"
   },
   {
    "duration": 17,
    "start_time": "2022-04-01T09:33:30.704Z"
   },
   {
    "duration": 19,
    "start_time": "2022-04-01T09:33:30.723Z"
   },
   {
    "duration": 26,
    "start_time": "2022-04-01T09:33:30.744Z"
   },
   {
    "duration": 12,
    "start_time": "2022-04-01T09:33:30.771Z"
   },
   {
    "duration": 21,
    "start_time": "2022-04-01T09:33:30.784Z"
   },
   {
    "duration": 47,
    "start_time": "2022-04-01T09:33:30.807Z"
   },
   {
    "duration": 24,
    "start_time": "2022-04-01T09:33:30.855Z"
   },
   {
    "duration": 29,
    "start_time": "2022-04-01T09:33:30.881Z"
   },
   {
    "duration": 35,
    "start_time": "2022-04-01T09:33:30.911Z"
   },
   {
    "duration": 15,
    "start_time": "2022-04-01T09:33:30.948Z"
   },
   {
    "duration": 12,
    "start_time": "2022-04-01T09:33:30.965Z"
   },
   {
    "duration": 5,
    "start_time": "2022-04-01T09:33:31.002Z"
   },
   {
    "duration": 24,
    "start_time": "2022-04-01T09:33:31.009Z"
   },
   {
    "duration": 5,
    "start_time": "2022-04-01T09:33:31.034Z"
   },
   {
    "duration": 934,
    "start_time": "2022-04-01T09:33:31.041Z"
   },
   {
    "duration": 4,
    "start_time": "2022-04-01T09:54:31.240Z"
   },
   {
    "duration": 845,
    "start_time": "2022-04-01T09:54:32.136Z"
   },
   {
    "duration": 4,
    "start_time": "2022-04-01T10:57:59.354Z"
   },
   {
    "duration": 3434,
    "start_time": "2022-04-01T10:58:00.003Z"
   },
   {
    "duration": 388,
    "start_time": "2022-04-01T10:58:36.726Z"
   },
   {
    "duration": 155,
    "start_time": "2022-04-01T10:58:37.116Z"
   },
   {
    "duration": 29,
    "start_time": "2022-04-01T10:58:37.273Z"
   },
   {
    "duration": 137,
    "start_time": "2022-04-01T10:58:37.304Z"
   },
   {
    "duration": 18,
    "start_time": "2022-04-01T10:58:37.443Z"
   },
   {
    "duration": 85,
    "start_time": "2022-04-01T10:58:37.463Z"
   },
   {
    "duration": 17,
    "start_time": "2022-04-01T10:58:37.550Z"
   },
   {
    "duration": 19,
    "start_time": "2022-04-01T10:58:37.569Z"
   },
   {
    "duration": 14,
    "start_time": "2022-04-01T10:58:37.589Z"
   },
   {
    "duration": 34,
    "start_time": "2022-04-01T10:58:37.606Z"
   },
   {
    "duration": 10,
    "start_time": "2022-04-01T10:58:37.641Z"
   },
   {
    "duration": 7,
    "start_time": "2022-04-01T10:58:37.653Z"
   },
   {
    "duration": 40,
    "start_time": "2022-04-01T10:58:37.662Z"
   },
   {
    "duration": 27,
    "start_time": "2022-04-01T10:58:37.704Z"
   },
   {
    "duration": 30,
    "start_time": "2022-04-01T10:58:37.733Z"
   },
   {
    "duration": 12,
    "start_time": "2022-04-01T10:58:37.765Z"
   },
   {
    "duration": 123,
    "start_time": "2022-04-01T10:58:37.779Z"
   },
   {
    "duration": 18,
    "start_time": "2022-04-01T10:58:37.903Z"
   },
   {
    "duration": 10,
    "start_time": "2022-04-01T10:58:37.922Z"
   },
   {
    "duration": 10,
    "start_time": "2022-04-01T10:58:37.933Z"
   },
   {
    "duration": 9,
    "start_time": "2022-04-01T10:58:37.945Z"
   },
   {
    "duration": 51,
    "start_time": "2022-04-01T10:58:37.956Z"
   },
   {
    "duration": 19,
    "start_time": "2022-04-01T10:58:38.009Z"
   },
   {
    "duration": 23,
    "start_time": "2022-04-01T10:58:38.029Z"
   },
   {
    "duration": 9,
    "start_time": "2022-04-01T10:58:38.053Z"
   },
   {
    "duration": 11,
    "start_time": "2022-04-01T10:58:38.064Z"
   },
   {
    "duration": 42,
    "start_time": "2022-04-01T10:58:38.101Z"
   },
   {
    "duration": 17,
    "start_time": "2022-04-01T10:58:38.146Z"
   },
   {
    "duration": 40,
    "start_time": "2022-04-01T10:58:38.164Z"
   },
   {
    "duration": 17,
    "start_time": "2022-04-01T10:58:38.205Z"
   },
   {
    "duration": 20,
    "start_time": "2022-04-01T10:58:38.224Z"
   },
   {
    "duration": 63,
    "start_time": "2022-04-01T10:58:38.245Z"
   },
   {
    "duration": 14,
    "start_time": "2022-04-01T10:58:38.309Z"
   },
   {
    "duration": 9,
    "start_time": "2022-04-01T10:58:38.324Z"
   },
   {
    "duration": 5,
    "start_time": "2022-04-01T10:58:38.334Z"
   },
   {
    "duration": 6,
    "start_time": "2022-04-01T10:58:38.341Z"
   },
   {
    "duration": 7,
    "start_time": "2022-04-01T10:58:38.348Z"
   },
   {
    "duration": 4,
    "start_time": "2022-04-01T10:58:38.356Z"
   },
   {
    "duration": 10,
    "start_time": "2022-04-01T10:58:38.362Z"
   },
   {
    "duration": 32,
    "start_time": "2022-04-01T10:58:38.401Z"
   },
   {
    "duration": 21,
    "start_time": "2022-04-01T10:58:38.434Z"
   },
   {
    "duration": 19,
    "start_time": "2022-04-01T10:58:38.457Z"
   },
   {
    "duration": 54,
    "start_time": "2022-04-01T10:58:38.477Z"
   },
   {
    "duration": 12,
    "start_time": "2022-04-01T10:58:38.532Z"
   },
   {
    "duration": 6,
    "start_time": "2022-04-01T10:58:38.545Z"
   },
   {
    "duration": 4,
    "start_time": "2022-04-01T10:58:38.552Z"
   },
   {
    "duration": 17,
    "start_time": "2022-04-01T10:58:38.557Z"
   },
   {
    "duration": 29,
    "start_time": "2022-04-01T10:58:38.575Z"
   },
   {
    "duration": 118,
    "start_time": "2022-04-01T10:58:38.606Z"
   },
   {
    "duration": 109,
    "start_time": "2022-04-01T13:32:22.410Z"
   },
   {
    "duration": 9,
    "start_time": "2022-04-01T13:43:21.898Z"
   },
   {
    "duration": 12,
    "start_time": "2022-04-01T13:43:59.273Z"
   },
   {
    "duration": 4,
    "start_time": "2022-04-01T13:44:25.408Z"
   },
   {
    "duration": 18,
    "start_time": "2022-04-01T13:44:53.326Z"
   },
   {
    "duration": 11,
    "start_time": "2022-04-01T13:47:30.335Z"
   },
   {
    "duration": 8,
    "start_time": "2022-04-01T13:47:56.518Z"
   },
   {
    "duration": 11,
    "start_time": "2022-04-01T13:48:34.813Z"
   },
   {
    "duration": 18,
    "start_time": "2022-04-01T13:49:50.054Z"
   },
   {
    "duration": 24,
    "start_time": "2022-04-01T13:53:22.790Z"
   },
   {
    "duration": 26,
    "start_time": "2022-04-01T13:54:19.955Z"
   },
   {
    "duration": 23,
    "start_time": "2022-04-01T13:54:42.797Z"
   },
   {
    "duration": 16,
    "start_time": "2022-04-01T13:55:06.332Z"
   },
   {
    "duration": 18,
    "start_time": "2022-04-01T13:56:03.326Z"
   },
   {
    "duration": 11,
    "start_time": "2022-04-01T13:59:09.767Z"
   },
   {
    "duration": 19,
    "start_time": "2022-04-01T13:59:22.080Z"
   },
   {
    "duration": 14,
    "start_time": "2022-04-01T14:00:35.170Z"
   },
   {
    "duration": 19,
    "start_time": "2022-04-01T14:00:41.815Z"
   },
   {
    "duration": 14,
    "start_time": "2022-04-01T14:41:12.499Z"
   },
   {
    "duration": 16,
    "start_time": "2022-04-01T14:41:19.877Z"
   },
   {
    "duration": 6,
    "start_time": "2022-04-01T14:44:21.083Z"
   },
   {
    "duration": 199,
    "start_time": "2022-04-01T14:46:59.370Z"
   },
   {
    "duration": 11,
    "start_time": "2022-04-01T14:47:07.716Z"
   },
   {
    "duration": 27,
    "start_time": "2022-04-01T14:47:20.393Z"
   },
   {
    "duration": 20,
    "start_time": "2022-04-01T15:03:36.524Z"
   },
   {
    "duration": 21,
    "start_time": "2022-04-01T15:05:23.610Z"
   },
   {
    "duration": 705,
    "start_time": "2022-04-01T15:35:29.138Z"
   },
   {
    "duration": 135,
    "start_time": "2022-04-01T15:36:00.033Z"
   },
   {
    "duration": 819,
    "start_time": "2022-04-01T15:38:00.030Z"
   },
   {
    "duration": 208,
    "start_time": "2022-04-01T15:38:00.851Z"
   },
   {
    "duration": 30,
    "start_time": "2022-04-01T15:38:01.061Z"
   },
   {
    "duration": 207,
    "start_time": "2022-04-01T15:38:01.107Z"
   },
   {
    "duration": 30,
    "start_time": "2022-04-01T15:38:01.317Z"
   },
   {
    "duration": 111,
    "start_time": "2022-04-01T15:38:01.349Z"
   },
   {
    "duration": 20,
    "start_time": "2022-04-01T15:38:01.462Z"
   },
   {
    "duration": 30,
    "start_time": "2022-04-01T15:38:01.484Z"
   },
   {
    "duration": 15,
    "start_time": "2022-04-01T15:38:01.517Z"
   },
   {
    "duration": 37,
    "start_time": "2022-04-01T15:38:01.536Z"
   },
   {
    "duration": 11,
    "start_time": "2022-04-01T15:38:01.575Z"
   },
   {
    "duration": 11,
    "start_time": "2022-04-01T15:38:01.588Z"
   },
   {
    "duration": 49,
    "start_time": "2022-04-01T15:38:01.601Z"
   },
   {
    "duration": 25,
    "start_time": "2022-04-01T15:38:01.652Z"
   },
   {
    "duration": 51,
    "start_time": "2022-04-01T15:38:01.679Z"
   },
   {
    "duration": 16,
    "start_time": "2022-04-01T15:38:01.732Z"
   },
   {
    "duration": 132,
    "start_time": "2022-04-01T15:38:01.751Z"
   },
   {
    "duration": 24,
    "start_time": "2022-04-01T15:38:01.890Z"
   },
   {
    "duration": 23,
    "start_time": "2022-04-01T15:38:01.916Z"
   },
   {
    "duration": 36,
    "start_time": "2022-04-01T15:38:01.941Z"
   },
   {
    "duration": 11,
    "start_time": "2022-04-01T15:38:01.979Z"
   },
   {
    "duration": 32,
    "start_time": "2022-04-01T15:38:01.992Z"
   },
   {
    "duration": 21,
    "start_time": "2022-04-01T15:38:02.026Z"
   },
   {
    "duration": 236,
    "start_time": "2022-04-01T15:38:02.050Z"
   },
   {
    "duration": 16,
    "start_time": "2022-04-01T15:38:02.288Z"
   },
   {
    "duration": 22,
    "start_time": "2022-04-01T15:38:02.306Z"
   },
   {
    "duration": 49,
    "start_time": "2022-04-01T15:38:02.330Z"
   },
   {
    "duration": 39,
    "start_time": "2022-04-01T15:38:02.383Z"
   },
   {
    "duration": 18,
    "start_time": "2022-04-01T15:38:02.425Z"
   },
   {
    "duration": 18,
    "start_time": "2022-04-01T15:38:02.445Z"
   },
   {
    "duration": 52,
    "start_time": "2022-04-01T15:38:02.465Z"
   },
   {
    "duration": 49,
    "start_time": "2022-04-01T15:38:02.519Z"
   },
   {
    "duration": 14,
    "start_time": "2022-04-01T15:38:02.570Z"
   },
   {
    "duration": 29,
    "start_time": "2022-04-01T15:38:02.586Z"
   },
   {
    "duration": 6,
    "start_time": "2022-04-01T15:38:02.616Z"
   },
   {
    "duration": 10,
    "start_time": "2022-04-01T15:38:02.623Z"
   },
   {
    "duration": 9,
    "start_time": "2022-04-01T15:38:02.634Z"
   },
   {
    "duration": 7,
    "start_time": "2022-04-01T15:38:02.644Z"
   },
   {
    "duration": 8,
    "start_time": "2022-04-01T15:38:02.652Z"
   },
   {
    "duration": 60,
    "start_time": "2022-04-01T15:38:02.662Z"
   },
   {
    "duration": 23,
    "start_time": "2022-04-01T15:38:02.724Z"
   },
   {
    "duration": 23,
    "start_time": "2022-04-01T15:38:02.749Z"
   },
   {
    "duration": 59,
    "start_time": "2022-04-01T15:38:02.774Z"
   },
   {
    "duration": 12,
    "start_time": "2022-04-01T15:38:02.835Z"
   },
   {
    "duration": 7,
    "start_time": "2022-04-01T15:38:02.849Z"
   },
   {
    "duration": 5,
    "start_time": "2022-04-01T15:38:02.857Z"
   },
   {
    "duration": 51,
    "start_time": "2022-04-01T15:38:02.864Z"
   },
   {
    "duration": 5,
    "start_time": "2022-04-01T15:38:02.917Z"
   },
   {
    "duration": 141,
    "start_time": "2022-04-01T15:38:02.924Z"
   },
   {
    "duration": 6,
    "start_time": "2022-04-01T15:38:03.067Z"
   },
   {
    "duration": 32,
    "start_time": "2022-04-01T15:38:03.075Z"
   },
   {
    "duration": 236,
    "start_time": "2022-04-01T15:38:03.109Z"
   },
   {
    "duration": 30,
    "start_time": "2022-04-01T15:38:03.347Z"
   },
   {
    "duration": 44,
    "start_time": "2022-04-01T15:38:03.378Z"
   },
   {
    "duration": 70,
    "start_time": "2022-04-01T15:42:47.122Z"
   },
   {
    "duration": 13,
    "start_time": "2022-04-01T15:43:29.464Z"
   },
   {
    "duration": 12,
    "start_time": "2022-04-01T15:46:45.821Z"
   },
   {
    "duration": 1204,
    "start_time": "2022-04-01T15:46:52.686Z"
   },
   {
    "duration": 154,
    "start_time": "2022-04-01T15:46:53.892Z"
   },
   {
    "duration": 24,
    "start_time": "2022-04-01T15:46:54.048Z"
   },
   {
    "duration": 138,
    "start_time": "2022-04-01T15:46:54.074Z"
   },
   {
    "duration": 19,
    "start_time": "2022-04-01T15:46:54.214Z"
   },
   {
    "duration": 87,
    "start_time": "2022-04-01T15:46:54.235Z"
   },
   {
    "duration": 17,
    "start_time": "2022-04-01T15:46:54.324Z"
   },
   {
    "duration": 21,
    "start_time": "2022-04-01T15:46:54.343Z"
   },
   {
    "duration": 9,
    "start_time": "2022-04-01T15:46:54.366Z"
   },
   {
    "duration": 36,
    "start_time": "2022-04-01T15:46:54.378Z"
   },
   {
    "duration": 9,
    "start_time": "2022-04-01T15:46:54.416Z"
   },
   {
    "duration": 7,
    "start_time": "2022-04-01T15:46:54.427Z"
   },
   {
    "duration": 33,
    "start_time": "2022-04-01T15:46:54.435Z"
   },
   {
    "duration": 41,
    "start_time": "2022-04-01T15:46:54.470Z"
   },
   {
    "duration": 30,
    "start_time": "2022-04-01T15:46:54.512Z"
   },
   {
    "duration": 13,
    "start_time": "2022-04-01T15:46:54.543Z"
   },
   {
    "duration": 131,
    "start_time": "2022-04-01T15:46:54.557Z"
   },
   {
    "duration": 22,
    "start_time": "2022-04-01T15:46:54.690Z"
   },
   {
    "duration": 7,
    "start_time": "2022-04-01T15:46:54.713Z"
   },
   {
    "duration": 10,
    "start_time": "2022-04-01T15:46:54.721Z"
   },
   {
    "duration": 8,
    "start_time": "2022-04-01T15:46:54.732Z"
   },
   {
    "duration": 32,
    "start_time": "2022-04-01T15:46:54.741Z"
   },
   {
    "duration": 40,
    "start_time": "2022-04-01T15:46:54.774Z"
   },
   {
    "duration": 25,
    "start_time": "2022-04-01T15:46:54.816Z"
   },
   {
    "duration": 10,
    "start_time": "2022-04-01T15:46:54.843Z"
   },
   {
    "duration": 47,
    "start_time": "2022-04-01T15:46:54.855Z"
   },
   {
    "duration": 46,
    "start_time": "2022-04-01T15:46:54.904Z"
   },
   {
    "duration": 15,
    "start_time": "2022-04-01T15:46:54.954Z"
   },
   {
    "duration": 38,
    "start_time": "2022-04-01T15:46:54.971Z"
   },
   {
    "duration": 20,
    "start_time": "2022-04-01T15:46:55.011Z"
   },
   {
    "duration": 25,
    "start_time": "2022-04-01T15:46:55.033Z"
   },
   {
    "duration": 96,
    "start_time": "2022-04-01T15:46:55.060Z"
   },
   {
    "duration": 20,
    "start_time": "2022-04-01T15:46:55.158Z"
   },
   {
    "duration": 22,
    "start_time": "2022-04-01T15:46:55.180Z"
   },
   {
    "duration": 4,
    "start_time": "2022-04-01T15:46:55.203Z"
   },
   {
    "duration": 6,
    "start_time": "2022-04-01T15:46:55.209Z"
   },
   {
    "duration": 9,
    "start_time": "2022-04-01T15:46:55.217Z"
   },
   {
    "duration": 5,
    "start_time": "2022-04-01T15:46:55.228Z"
   },
   {
    "duration": 9,
    "start_time": "2022-04-01T15:46:55.234Z"
   },
   {
    "duration": 57,
    "start_time": "2022-04-01T15:46:55.245Z"
   },
   {
    "duration": 21,
    "start_time": "2022-04-01T15:46:55.304Z"
   },
   {
    "duration": 20,
    "start_time": "2022-04-01T15:46:55.327Z"
   },
   {
    "duration": 63,
    "start_time": "2022-04-01T15:46:55.349Z"
   },
   {
    "duration": 13,
    "start_time": "2022-04-01T15:46:55.414Z"
   },
   {
    "duration": 7,
    "start_time": "2022-04-01T15:46:55.429Z"
   },
   {
    "duration": 4,
    "start_time": "2022-04-01T15:46:55.437Z"
   },
   {
    "duration": 15,
    "start_time": "2022-04-01T15:46:55.443Z"
   },
   {
    "duration": 5,
    "start_time": "2022-04-01T15:46:55.459Z"
   },
   {
    "duration": 140,
    "start_time": "2022-04-01T15:46:55.466Z"
   },
   {
    "duration": 7,
    "start_time": "2022-04-01T15:46:55.607Z"
   },
   {
    "duration": 19,
    "start_time": "2022-04-01T15:46:55.615Z"
   },
   {
    "duration": 269,
    "start_time": "2022-04-01T15:46:55.635Z"
   },
   {
    "duration": 26,
    "start_time": "2022-04-01T15:46:55.906Z"
   },
   {
    "duration": 17,
    "start_time": "2022-04-01T15:46:55.934Z"
   },
   {
    "duration": 194,
    "start_time": "2022-04-01T15:47:58.216Z"
   },
   {
    "duration": 213,
    "start_time": "2022-04-01T15:48:15.403Z"
   },
   {
    "duration": 179,
    "start_time": "2022-04-01T15:48:24.096Z"
   },
   {
    "duration": 191,
    "start_time": "2022-04-01T15:48:35.501Z"
   },
   {
    "duration": 208,
    "start_time": "2022-04-01T15:51:19.507Z"
   },
   {
    "duration": 202,
    "start_time": "2022-04-01T15:53:04.334Z"
   },
   {
    "duration": 195,
    "start_time": "2022-04-01T15:55:14.251Z"
   },
   {
    "duration": 250,
    "start_time": "2022-04-01T15:55:32.765Z"
   },
   {
    "duration": 7,
    "start_time": "2022-04-01T16:52:58.279Z"
   },
   {
    "duration": 97,
    "start_time": "2022-04-01T16:53:47.437Z"
   },
   {
    "duration": 200,
    "start_time": "2022-04-01T16:53:58.340Z"
   },
   {
    "duration": 187,
    "start_time": "2022-04-01T19:04:25.975Z"
   },
   {
    "duration": 45,
    "start_time": "2022-04-02T18:12:13.232Z"
   },
   {
    "duration": 1238,
    "start_time": "2022-04-02T18:12:22.595Z"
   },
   {
    "duration": 151,
    "start_time": "2022-04-02T18:12:23.835Z"
   },
   {
    "duration": 26,
    "start_time": "2022-04-02T18:12:23.987Z"
   },
   {
    "duration": 143,
    "start_time": "2022-04-02T18:12:24.015Z"
   },
   {
    "duration": 21,
    "start_time": "2022-04-02T18:12:24.159Z"
   },
   {
    "duration": 95,
    "start_time": "2022-04-02T18:12:24.181Z"
   },
   {
    "duration": 19,
    "start_time": "2022-04-02T18:12:24.277Z"
   },
   {
    "duration": 15,
    "start_time": "2022-04-02T18:12:24.298Z"
   },
   {
    "duration": 26,
    "start_time": "2022-04-02T18:12:24.315Z"
   },
   {
    "duration": 28,
    "start_time": "2022-04-02T18:12:24.345Z"
   },
   {
    "duration": 10,
    "start_time": "2022-04-02T18:12:24.374Z"
   },
   {
    "duration": 7,
    "start_time": "2022-04-02T18:12:24.386Z"
   },
   {
    "duration": 48,
    "start_time": "2022-04-02T18:12:24.395Z"
   },
   {
    "duration": 24,
    "start_time": "2022-04-02T18:12:24.445Z"
   },
   {
    "duration": 27,
    "start_time": "2022-04-02T18:12:24.470Z"
   },
   {
    "duration": 35,
    "start_time": "2022-04-02T18:12:24.499Z"
   },
   {
    "duration": 105,
    "start_time": "2022-04-02T18:12:24.536Z"
   },
   {
    "duration": 18,
    "start_time": "2022-04-02T18:12:24.642Z"
   },
   {
    "duration": 7,
    "start_time": "2022-04-02T18:12:24.661Z"
   },
   {
    "duration": 20,
    "start_time": "2022-04-02T18:12:24.669Z"
   },
   {
    "duration": 9,
    "start_time": "2022-04-02T18:12:24.690Z"
   },
   {
    "duration": 45,
    "start_time": "2022-04-02T18:12:24.700Z"
   },
   {
    "duration": 22,
    "start_time": "2022-04-02T18:12:24.747Z"
   },
   {
    "duration": 23,
    "start_time": "2022-04-02T18:12:24.770Z"
   },
   {
    "duration": 9,
    "start_time": "2022-04-02T18:12:24.795Z"
   },
   {
    "duration": 36,
    "start_time": "2022-04-02T18:12:24.806Z"
   },
   {
    "duration": 42,
    "start_time": "2022-04-02T18:12:24.844Z"
   },
   {
    "duration": 15,
    "start_time": "2022-04-02T18:12:24.890Z"
   },
   {
    "duration": 38,
    "start_time": "2022-04-02T18:12:24.906Z"
   },
   {
    "duration": 16,
    "start_time": "2022-04-02T18:12:24.945Z"
   },
   {
    "duration": 20,
    "start_time": "2022-04-02T18:12:24.962Z"
   },
   {
    "duration": 72,
    "start_time": "2022-04-02T18:12:24.983Z"
   },
   {
    "duration": 14,
    "start_time": "2022-04-02T18:12:25.056Z"
   },
   {
    "duration": 9,
    "start_time": "2022-04-02T18:12:25.071Z"
   },
   {
    "duration": 8,
    "start_time": "2022-04-02T18:12:25.082Z"
   },
   {
    "duration": 8,
    "start_time": "2022-04-02T18:12:25.091Z"
   },
   {
    "duration": 12,
    "start_time": "2022-04-02T18:12:25.100Z"
   },
   {
    "duration": 22,
    "start_time": "2022-04-02T18:12:25.114Z"
   },
   {
    "duration": 9,
    "start_time": "2022-04-02T18:12:25.137Z"
   },
   {
    "duration": 33,
    "start_time": "2022-04-02T18:12:25.148Z"
   },
   {
    "duration": 21,
    "start_time": "2022-04-02T18:12:25.183Z"
   },
   {
    "duration": 20,
    "start_time": "2022-04-02T18:12:25.232Z"
   },
   {
    "duration": 32,
    "start_time": "2022-04-02T18:12:25.254Z"
   },
   {
    "duration": 11,
    "start_time": "2022-04-02T18:12:25.288Z"
   },
   {
    "duration": 32,
    "start_time": "2022-04-02T18:12:25.301Z"
   },
   {
    "duration": 3,
    "start_time": "2022-04-02T18:12:25.335Z"
   },
   {
    "duration": 22,
    "start_time": "2022-04-02T18:12:25.340Z"
   },
   {
    "duration": 4,
    "start_time": "2022-04-02T18:12:25.364Z"
   },
   {
    "duration": 121,
    "start_time": "2022-04-02T18:12:25.370Z"
   },
   {
    "duration": 5,
    "start_time": "2022-04-02T18:12:25.492Z"
   },
   {
    "duration": 34,
    "start_time": "2022-04-02T18:12:25.499Z"
   },
   {
    "duration": 204,
    "start_time": "2022-04-02T18:12:25.534Z"
   },
   {
    "duration": 20,
    "start_time": "2022-04-02T18:12:25.740Z"
   },
   {
    "duration": 208,
    "start_time": "2022-04-02T18:12:25.761Z"
   },
   {
    "duration": 19,
    "start_time": "2022-04-02T18:12:25.971Z"
   },
   {
    "duration": 204,
    "start_time": "2022-04-02T18:12:25.991Z"
   },
   {
    "duration": 102,
    "start_time": "2022-04-02T18:12:26.196Z"
   },
   {
    "duration": 1159,
    "start_time": "2022-04-02T18:13:19.351Z"
   },
   {
    "duration": 149,
    "start_time": "2022-04-02T18:13:20.512Z"
   },
   {
    "duration": 25,
    "start_time": "2022-04-02T18:13:20.663Z"
   },
   {
    "duration": 142,
    "start_time": "2022-04-02T18:13:20.690Z"
   },
   {
    "duration": 21,
    "start_time": "2022-04-02T18:13:20.834Z"
   },
   {
    "duration": 94,
    "start_time": "2022-04-02T18:13:20.857Z"
   },
   {
    "duration": 18,
    "start_time": "2022-04-02T18:13:20.953Z"
   },
   {
    "duration": 14,
    "start_time": "2022-04-02T18:13:20.972Z"
   },
   {
    "duration": 9,
    "start_time": "2022-04-02T18:13:20.988Z"
   },
   {
    "duration": 40,
    "start_time": "2022-04-02T18:13:21.000Z"
   },
   {
    "duration": 11,
    "start_time": "2022-04-02T18:13:21.041Z"
   },
   {
    "duration": 6,
    "start_time": "2022-04-02T18:13:21.054Z"
   },
   {
    "duration": 33,
    "start_time": "2022-04-02T18:13:21.062Z"
   },
   {
    "duration": 50,
    "start_time": "2022-04-02T18:13:21.097Z"
   },
   {
    "duration": 28,
    "start_time": "2022-04-02T18:13:21.149Z"
   },
   {
    "duration": 14,
    "start_time": "2022-04-02T18:13:21.179Z"
   },
   {
    "duration": 121,
    "start_time": "2022-04-02T18:13:21.194Z"
   },
   {
    "duration": 24,
    "start_time": "2022-04-02T18:13:21.317Z"
   },
   {
    "duration": 7,
    "start_time": "2022-04-02T18:13:21.342Z"
   },
   {
    "duration": 10,
    "start_time": "2022-04-02T18:13:21.350Z"
   },
   {
    "duration": 8,
    "start_time": "2022-04-02T18:13:21.362Z"
   },
   {
    "duration": 23,
    "start_time": "2022-04-02T18:13:21.372Z"
   },
   {
    "duration": 52,
    "start_time": "2022-04-02T18:13:21.397Z"
   },
   {
    "duration": 23,
    "start_time": "2022-04-02T18:13:21.450Z"
   },
   {
    "duration": 11,
    "start_time": "2022-04-02T18:13:21.474Z"
   },
   {
    "duration": 11,
    "start_time": "2022-04-02T18:13:21.486Z"
   },
   {
    "duration": 69,
    "start_time": "2022-04-02T18:13:21.499Z"
   },
   {
    "duration": 16,
    "start_time": "2022-04-02T18:13:21.571Z"
   },
   {
    "duration": 17,
    "start_time": "2022-04-02T18:13:21.589Z"
   },
   {
    "duration": 38,
    "start_time": "2022-04-02T18:13:21.607Z"
   },
   {
    "duration": 21,
    "start_time": "2022-04-02T18:13:21.646Z"
   },
   {
    "duration": 73,
    "start_time": "2022-04-02T18:13:21.669Z"
   },
   {
    "duration": 16,
    "start_time": "2022-04-02T18:13:21.744Z"
   },
   {
    "duration": 10,
    "start_time": "2022-04-02T18:13:21.762Z"
   },
   {
    "duration": 4,
    "start_time": "2022-04-02T18:13:21.774Z"
   },
   {
    "duration": 8,
    "start_time": "2022-04-02T18:13:21.779Z"
   },
   {
    "duration": 9,
    "start_time": "2022-04-02T18:13:21.789Z"
   },
   {
    "duration": 35,
    "start_time": "2022-04-02T18:13:21.800Z"
   },
   {
    "duration": 8,
    "start_time": "2022-04-02T18:13:21.837Z"
   },
   {
    "duration": 34,
    "start_time": "2022-04-02T18:13:21.846Z"
   },
   {
    "duration": 52,
    "start_time": "2022-04-02T18:13:21.882Z"
   },
   {
    "duration": 20,
    "start_time": "2022-04-02T18:13:21.936Z"
   },
   {
    "duration": 34,
    "start_time": "2022-04-02T18:13:21.958Z"
   },
   {
    "duration": 39,
    "start_time": "2022-04-02T18:13:21.994Z"
   },
   {
    "duration": 8,
    "start_time": "2022-04-02T18:13:22.035Z"
   },
   {
    "duration": 5,
    "start_time": "2022-04-02T18:13:22.045Z"
   },
   {
    "duration": 18,
    "start_time": "2022-04-02T18:13:22.051Z"
   },
   {
    "duration": 5,
    "start_time": "2022-04-02T18:13:22.071Z"
   },
   {
    "duration": 132,
    "start_time": "2022-04-02T18:13:22.078Z"
   },
   {
    "duration": 6,
    "start_time": "2022-04-02T18:13:22.213Z"
   },
   {
    "duration": 19,
    "start_time": "2022-04-02T18:13:22.232Z"
   },
   {
    "duration": 217,
    "start_time": "2022-04-02T18:13:22.253Z"
   },
   {
    "duration": 20,
    "start_time": "2022-04-02T18:13:22.472Z"
   },
   {
    "duration": 220,
    "start_time": "2022-04-02T18:13:22.494Z"
   },
   {
    "duration": 29,
    "start_time": "2022-04-02T18:13:22.716Z"
   },
   {
    "duration": 202,
    "start_time": "2022-04-02T18:13:22.747Z"
   },
   {
    "duration": 6,
    "start_time": "2022-04-02T18:13:22.951Z"
   },
   {
    "duration": 8,
    "start_time": "2022-04-02T18:18:14.097Z"
   },
   {
    "duration": 1193,
    "start_time": "2022-04-02T18:19:13.136Z"
   },
   {
    "duration": 157,
    "start_time": "2022-04-02T18:19:14.333Z"
   },
   {
    "duration": 25,
    "start_time": "2022-04-02T18:19:14.492Z"
   },
   {
    "duration": 146,
    "start_time": "2022-04-02T18:19:14.519Z"
   },
   {
    "duration": 21,
    "start_time": "2022-04-02T18:19:14.667Z"
   },
   {
    "duration": 109,
    "start_time": "2022-04-02T18:19:14.690Z"
   },
   {
    "duration": 19,
    "start_time": "2022-04-02T18:19:14.800Z"
   },
   {
    "duration": 20,
    "start_time": "2022-04-02T18:19:14.833Z"
   },
   {
    "duration": 13,
    "start_time": "2022-04-02T18:19:14.855Z"
   },
   {
    "duration": 29,
    "start_time": "2022-04-02T18:19:14.871Z"
   },
   {
    "duration": 11,
    "start_time": "2022-04-02T18:19:14.902Z"
   },
   {
    "duration": 11,
    "start_time": "2022-04-02T18:19:14.915Z"
   },
   {
    "duration": 36,
    "start_time": "2022-04-02T18:19:14.928Z"
   },
   {
    "duration": 25,
    "start_time": "2022-04-02T18:19:14.966Z"
   },
   {
    "duration": 50,
    "start_time": "2022-04-02T18:19:14.992Z"
   },
   {
    "duration": 13,
    "start_time": "2022-04-02T18:19:15.044Z"
   },
   {
    "duration": 121,
    "start_time": "2022-04-02T18:19:15.059Z"
   },
   {
    "duration": 18,
    "start_time": "2022-04-02T18:19:15.182Z"
   },
   {
    "duration": 8,
    "start_time": "2022-04-02T18:19:15.201Z"
   },
   {
    "duration": 27,
    "start_time": "2022-04-02T18:19:15.210Z"
   },
   {
    "duration": 10,
    "start_time": "2022-04-02T18:19:15.238Z"
   },
   {
    "duration": 27,
    "start_time": "2022-04-02T18:19:15.250Z"
   },
   {
    "duration": 19,
    "start_time": "2022-04-02T18:19:15.279Z"
   },
   {
    "duration": 52,
    "start_time": "2022-04-02T18:19:15.300Z"
   },
   {
    "duration": 10,
    "start_time": "2022-04-02T18:19:15.354Z"
   },
   {
    "duration": 13,
    "start_time": "2022-04-02T18:19:15.365Z"
   },
   {
    "duration": 69,
    "start_time": "2022-04-02T18:19:15.379Z"
   },
   {
    "duration": 15,
    "start_time": "2022-04-02T18:19:15.452Z"
   },
   {
    "duration": 19,
    "start_time": "2022-04-02T18:19:15.468Z"
   },
   {
    "duration": 17,
    "start_time": "2022-04-02T18:19:15.489Z"
   },
   {
    "duration": 21,
    "start_time": "2022-04-02T18:19:15.532Z"
   },
   {
    "duration": 52,
    "start_time": "2022-04-02T18:19:15.554Z"
   },
   {
    "duration": 35,
    "start_time": "2022-04-02T18:19:15.608Z"
   },
   {
    "duration": 9,
    "start_time": "2022-04-02T18:19:15.645Z"
   },
   {
    "duration": 6,
    "start_time": "2022-04-02T18:19:15.656Z"
   },
   {
    "duration": 7,
    "start_time": "2022-04-02T18:19:15.663Z"
   },
   {
    "duration": 7,
    "start_time": "2022-04-02T18:19:15.671Z"
   },
   {
    "duration": 5,
    "start_time": "2022-04-02T18:19:15.680Z"
   },
   {
    "duration": 9,
    "start_time": "2022-04-02T18:19:15.687Z"
   },
   {
    "duration": 67,
    "start_time": "2022-04-02T18:19:15.698Z"
   },
   {
    "duration": 23,
    "start_time": "2022-04-02T18:19:15.767Z"
   },
   {
    "duration": 22,
    "start_time": "2022-04-02T18:19:15.792Z"
   },
   {
    "duration": 34,
    "start_time": "2022-04-02T18:19:15.834Z"
   },
   {
    "duration": 13,
    "start_time": "2022-04-02T18:19:15.869Z"
   },
   {
    "duration": 7,
    "start_time": "2022-04-02T18:19:15.883Z"
   },
   {
    "duration": 6,
    "start_time": "2022-04-02T18:19:15.891Z"
   },
   {
    "duration": 50,
    "start_time": "2022-04-02T18:19:15.898Z"
   },
   {
    "duration": 5,
    "start_time": "2022-04-02T18:19:15.949Z"
   },
   {
    "duration": 113,
    "start_time": "2022-04-02T18:19:15.956Z"
   },
   {
    "duration": 6,
    "start_time": "2022-04-02T18:19:16.072Z"
   },
   {
    "duration": 20,
    "start_time": "2022-04-02T18:19:16.080Z"
   },
   {
    "duration": 225,
    "start_time": "2022-04-02T18:19:16.102Z"
   },
   {
    "duration": 19,
    "start_time": "2022-04-02T18:19:16.333Z"
   },
   {
    "duration": 210,
    "start_time": "2022-04-02T18:19:16.354Z"
   },
   {
    "duration": 21,
    "start_time": "2022-04-02T18:19:16.566Z"
   },
   {
    "duration": 211,
    "start_time": "2022-04-02T18:19:16.589Z"
   },
   {
    "duration": 6,
    "start_time": "2022-04-02T18:19:16.802Z"
   },
   {
    "duration": 27,
    "start_time": "2022-04-02T18:19:16.810Z"
   },
   {
    "duration": 11,
    "start_time": "2022-04-02T18:24:02.425Z"
   },
   {
    "duration": 101,
    "start_time": "2022-04-02T18:28:47.568Z"
   },
   {
    "duration": 13,
    "start_time": "2022-04-02T18:28:51.150Z"
   },
   {
    "duration": 11,
    "start_time": "2022-04-02T18:30:24.385Z"
   },
   {
    "duration": 8,
    "start_time": "2022-04-02T18:30:25.955Z"
   },
   {
    "duration": 5,
    "start_time": "2022-04-02T18:30:38.866Z"
   },
   {
    "duration": 1220,
    "start_time": "2022-04-02T18:34:03.607Z"
   },
   {
    "duration": 170,
    "start_time": "2022-04-02T18:34:04.829Z"
   },
   {
    "duration": 32,
    "start_time": "2022-04-02T18:34:05.001Z"
   },
   {
    "duration": 149,
    "start_time": "2022-04-02T18:34:05.035Z"
   },
   {
    "duration": 22,
    "start_time": "2022-04-02T18:34:05.186Z"
   },
   {
    "duration": 102,
    "start_time": "2022-04-02T18:34:05.210Z"
   },
   {
    "duration": 26,
    "start_time": "2022-04-02T18:34:05.314Z"
   },
   {
    "duration": 15,
    "start_time": "2022-04-02T18:34:05.342Z"
   },
   {
    "duration": 11,
    "start_time": "2022-04-02T18:34:05.359Z"
   },
   {
    "duration": 33,
    "start_time": "2022-04-02T18:34:05.372Z"
   },
   {
    "duration": 12,
    "start_time": "2022-04-02T18:34:05.407Z"
   },
   {
    "duration": 6,
    "start_time": "2022-04-02T18:34:05.432Z"
   },
   {
    "duration": 37,
    "start_time": "2022-04-02T18:34:05.439Z"
   },
   {
    "duration": 28,
    "start_time": "2022-04-02T18:34:05.479Z"
   },
   {
    "duration": 30,
    "start_time": "2022-04-02T18:34:05.533Z"
   },
   {
    "duration": 14,
    "start_time": "2022-04-02T18:34:05.564Z"
   },
   {
    "duration": 170,
    "start_time": "2022-04-02T18:34:05.580Z"
   },
   {
    "duration": 31,
    "start_time": "2022-04-02T18:34:05.752Z"
   },
   {
    "duration": 7,
    "start_time": "2022-04-02T18:34:05.785Z"
   },
   {
    "duration": 13,
    "start_time": "2022-04-02T18:34:05.794Z"
   },
   {
    "duration": 11,
    "start_time": "2022-04-02T18:34:05.833Z"
   },
   {
    "duration": 24,
    "start_time": "2022-04-02T18:34:05.846Z"
   },
   {
    "duration": 25,
    "start_time": "2022-04-02T18:34:05.872Z"
   },
   {
    "duration": 55,
    "start_time": "2022-04-02T18:34:05.899Z"
   },
   {
    "duration": 14,
    "start_time": "2022-04-02T18:34:05.957Z"
   },
   {
    "duration": 14,
    "start_time": "2022-04-02T18:34:05.973Z"
   },
   {
    "duration": 105,
    "start_time": "2022-04-02T18:34:05.989Z"
   },
   {
    "duration": 35,
    "start_time": "2022-04-02T18:34:06.099Z"
   },
   {
    "duration": 31,
    "start_time": "2022-04-02T18:34:06.136Z"
   },
   {
    "duration": 22,
    "start_time": "2022-04-02T18:34:06.169Z"
   },
   {
    "duration": 47,
    "start_time": "2022-04-02T18:34:06.193Z"
   },
   {
    "duration": 74,
    "start_time": "2022-04-02T18:34:06.243Z"
   },
   {
    "duration": 30,
    "start_time": "2022-04-02T18:34:06.320Z"
   },
   {
    "duration": 10,
    "start_time": "2022-04-02T18:34:06.352Z"
   },
   {
    "duration": 8,
    "start_time": "2022-04-02T18:34:06.364Z"
   },
   {
    "duration": 7,
    "start_time": "2022-04-02T18:34:06.374Z"
   },
   {
    "duration": 10,
    "start_time": "2022-04-02T18:34:06.383Z"
   },
   {
    "duration": 39,
    "start_time": "2022-04-02T18:34:06.395Z"
   },
   {
    "duration": 9,
    "start_time": "2022-04-02T18:34:06.437Z"
   },
   {
    "duration": 55,
    "start_time": "2022-04-02T18:34:06.448Z"
   },
   {
    "duration": 55,
    "start_time": "2022-04-02T18:34:06.506Z"
   },
   {
    "duration": 31,
    "start_time": "2022-04-02T18:34:06.563Z"
   },
   {
    "duration": 58,
    "start_time": "2022-04-02T18:34:06.596Z"
   },
   {
    "duration": 12,
    "start_time": "2022-04-02T18:34:06.655Z"
   },
   {
    "duration": 12,
    "start_time": "2022-04-02T18:34:06.669Z"
   },
   {
    "duration": 5,
    "start_time": "2022-04-02T18:34:06.683Z"
   },
   {
    "duration": 45,
    "start_time": "2022-04-02T18:34:06.689Z"
   },
   {
    "duration": 5,
    "start_time": "2022-04-02T18:34:06.736Z"
   },
   {
    "duration": 200,
    "start_time": "2022-04-02T18:34:06.743Z"
   },
   {
    "duration": 7,
    "start_time": "2022-04-02T18:34:06.945Z"
   },
   {
    "duration": 26,
    "start_time": "2022-04-02T18:34:06.954Z"
   },
   {
    "duration": 338,
    "start_time": "2022-04-02T18:34:06.982Z"
   },
   {
    "duration": 30,
    "start_time": "2022-04-02T18:34:07.322Z"
   },
   {
    "duration": 322,
    "start_time": "2022-04-02T18:34:07.354Z"
   },
   {
    "duration": 20,
    "start_time": "2022-04-02T18:34:07.678Z"
   },
   {
    "duration": 316,
    "start_time": "2022-04-02T18:34:07.700Z"
   },
   {
    "duration": 6,
    "start_time": "2022-04-02T18:34:08.017Z"
   },
   {
    "duration": 9,
    "start_time": "2022-04-02T18:34:08.032Z"
   },
   {
    "duration": 8,
    "start_time": "2022-04-02T18:43:48.868Z"
   },
   {
    "duration": 8,
    "start_time": "2022-04-02T18:43:50.979Z"
   },
   {
    "duration": 5,
    "start_time": "2022-04-02T18:44:10.142Z"
   },
   {
    "duration": 8,
    "start_time": "2022-04-02T18:44:11.820Z"
   },
   {
    "duration": 5,
    "start_time": "2022-04-02T18:49:42.069Z"
   },
   {
    "duration": 4,
    "start_time": "2022-04-02T19:10:12.056Z"
   },
   {
    "duration": 10,
    "start_time": "2022-04-02T19:10:26.531Z"
   },
   {
    "duration": 4,
    "start_time": "2022-04-02T19:10:51.203Z"
   },
   {
    "duration": 5,
    "start_time": "2022-04-02T19:11:58.605Z"
   },
   {
    "duration": 93,
    "start_time": "2022-04-02T19:14:29.589Z"
   },
   {
    "duration": 20,
    "start_time": "2022-04-02T19:14:36.407Z"
   },
   {
    "duration": 8,
    "start_time": "2022-04-02T19:24:31.180Z"
   },
   {
    "duration": 17,
    "start_time": "2022-04-02T19:29:25.915Z"
   },
   {
    "duration": 12,
    "start_time": "2022-04-02T19:34:41.416Z"
   },
   {
    "duration": 5,
    "start_time": "2022-04-02T19:34:53.924Z"
   },
   {
    "duration": 17,
    "start_time": "2022-04-02T19:35:07.074Z"
   },
   {
    "duration": 20,
    "start_time": "2022-04-02T19:36:25.903Z"
   },
   {
    "duration": 1197,
    "start_time": "2022-04-02T20:00:47.224Z"
   },
   {
    "duration": 162,
    "start_time": "2022-04-02T20:00:48.423Z"
   },
   {
    "duration": 25,
    "start_time": "2022-04-02T20:00:48.587Z"
   },
   {
    "duration": 147,
    "start_time": "2022-04-02T20:00:48.614Z"
   },
   {
    "duration": 21,
    "start_time": "2022-04-02T20:00:48.762Z"
   },
   {
    "duration": 100,
    "start_time": "2022-04-02T20:00:48.785Z"
   },
   {
    "duration": 18,
    "start_time": "2022-04-02T20:00:48.887Z"
   },
   {
    "duration": 27,
    "start_time": "2022-04-02T20:00:48.907Z"
   },
   {
    "duration": 11,
    "start_time": "2022-04-02T20:00:48.935Z"
   },
   {
    "duration": 31,
    "start_time": "2022-04-02T20:00:48.949Z"
   },
   {
    "duration": 11,
    "start_time": "2022-04-02T20:00:48.981Z"
   },
   {
    "duration": 8,
    "start_time": "2022-04-02T20:00:48.993Z"
   },
   {
    "duration": 47,
    "start_time": "2022-04-02T20:00:49.002Z"
   },
   {
    "duration": 24,
    "start_time": "2022-04-02T20:00:49.051Z"
   },
   {
    "duration": 29,
    "start_time": "2022-04-02T20:00:49.077Z"
   },
   {
    "duration": 34,
    "start_time": "2022-04-02T20:00:49.108Z"
   },
   {
    "duration": 121,
    "start_time": "2022-04-02T20:00:49.144Z"
   },
   {
    "duration": 19,
    "start_time": "2022-04-02T20:00:49.267Z"
   },
   {
    "duration": 7,
    "start_time": "2022-04-02T20:00:49.288Z"
   },
   {
    "duration": 10,
    "start_time": "2022-04-02T20:00:49.297Z"
   },
   {
    "duration": 32,
    "start_time": "2022-04-02T20:00:49.309Z"
   },
   {
    "duration": 23,
    "start_time": "2022-04-02T20:00:49.342Z"
   },
   {
    "duration": 21,
    "start_time": "2022-04-02T20:00:49.368Z"
   },
   {
    "duration": 56,
    "start_time": "2022-04-02T20:00:49.391Z"
   },
   {
    "duration": 12,
    "start_time": "2022-04-02T20:00:49.449Z"
   },
   {
    "duration": 13,
    "start_time": "2022-04-02T20:00:49.463Z"
   },
   {
    "duration": 75,
    "start_time": "2022-04-02T20:00:49.478Z"
   },
   {
    "duration": 17,
    "start_time": "2022-04-02T20:00:49.557Z"
   },
   {
    "duration": 19,
    "start_time": "2022-04-02T20:00:49.575Z"
   },
   {
    "duration": 41,
    "start_time": "2022-04-02T20:00:49.596Z"
   },
   {
    "duration": 20,
    "start_time": "2022-04-02T20:00:49.639Z"
   },
   {
    "duration": 51,
    "start_time": "2022-04-02T20:00:49.661Z"
   },
   {
    "duration": 33,
    "start_time": "2022-04-02T20:00:49.713Z"
   },
   {
    "duration": 10,
    "start_time": "2022-04-02T20:00:49.748Z"
   },
   {
    "duration": 5,
    "start_time": "2022-04-02T20:00:49.760Z"
   },
   {
    "duration": 9,
    "start_time": "2022-04-02T20:00:49.767Z"
   },
   {
    "duration": 6,
    "start_time": "2022-04-02T20:00:49.778Z"
   },
   {
    "duration": 4,
    "start_time": "2022-04-02T20:00:49.786Z"
   },
   {
    "duration": 42,
    "start_time": "2022-04-02T20:00:49.792Z"
   },
   {
    "duration": 35,
    "start_time": "2022-04-02T20:00:49.835Z"
   },
   {
    "duration": 22,
    "start_time": "2022-04-02T20:00:49.871Z"
   },
   {
    "duration": 41,
    "start_time": "2022-04-02T20:00:49.895Z"
   },
   {
    "duration": 32,
    "start_time": "2022-04-02T20:00:49.938Z"
   },
   {
    "duration": 13,
    "start_time": "2022-04-02T20:00:49.972Z"
   },
   {
    "duration": 6,
    "start_time": "2022-04-02T20:00:49.987Z"
   },
   {
    "duration": 5,
    "start_time": "2022-04-02T20:00:49.995Z"
   },
   {
    "duration": 20,
    "start_time": "2022-04-02T20:00:50.034Z"
   },
   {
    "duration": 5,
    "start_time": "2022-04-02T20:00:50.056Z"
   },
   {
    "duration": 123,
    "start_time": "2022-04-02T20:00:50.063Z"
   },
   {
    "duration": 7,
    "start_time": "2022-04-02T20:00:50.188Z"
   },
   {
    "duration": 22,
    "start_time": "2022-04-02T20:00:50.196Z"
   },
   {
    "duration": 204,
    "start_time": "2022-04-02T20:00:50.234Z"
   },
   {
    "duration": 20,
    "start_time": "2022-04-02T20:00:50.439Z"
   },
   {
    "duration": 221,
    "start_time": "2022-04-02T20:00:50.461Z"
   },
   {
    "duration": 19,
    "start_time": "2022-04-02T20:00:50.684Z"
   },
   {
    "duration": 202,
    "start_time": "2022-04-02T20:00:50.705Z"
   },
   {
    "duration": 6,
    "start_time": "2022-04-02T20:00:50.909Z"
   },
   {
    "duration": 33,
    "start_time": "2022-04-02T20:00:50.916Z"
   },
   {
    "duration": 7,
    "start_time": "2022-04-02T20:00:50.951Z"
   },
   {
    "duration": 23,
    "start_time": "2022-04-02T20:00:50.959Z"
   },
   {
    "duration": 1284,
    "start_time": "2022-04-03T09:57:31.542Z"
   },
   {
    "duration": 148,
    "start_time": "2022-04-03T09:57:32.828Z"
   },
   {
    "duration": 26,
    "start_time": "2022-04-03T09:57:32.978Z"
   },
   {
    "duration": 149,
    "start_time": "2022-04-03T09:57:33.006Z"
   },
   {
    "duration": 21,
    "start_time": "2022-04-03T09:57:33.157Z"
   },
   {
    "duration": 96,
    "start_time": "2022-04-03T09:57:33.179Z"
   },
   {
    "duration": 21,
    "start_time": "2022-04-03T09:57:33.277Z"
   },
   {
    "duration": 15,
    "start_time": "2022-04-03T09:57:33.300Z"
   },
   {
    "duration": 23,
    "start_time": "2022-04-03T09:57:33.317Z"
   },
   {
    "duration": 29,
    "start_time": "2022-04-03T09:57:33.343Z"
   },
   {
    "duration": 11,
    "start_time": "2022-04-03T09:57:33.374Z"
   },
   {
    "duration": 10,
    "start_time": "2022-04-03T09:57:33.387Z"
   },
   {
    "duration": 72,
    "start_time": "2022-04-03T09:57:33.399Z"
   },
   {
    "duration": 32,
    "start_time": "2022-04-03T09:57:33.473Z"
   },
   {
    "duration": 54,
    "start_time": "2022-04-03T09:57:33.507Z"
   },
   {
    "duration": 17,
    "start_time": "2022-04-03T09:57:33.563Z"
   },
   {
    "duration": 147,
    "start_time": "2022-04-03T09:57:33.582Z"
   },
   {
    "duration": 18,
    "start_time": "2022-04-03T09:57:33.733Z"
   },
   {
    "duration": 7,
    "start_time": "2022-04-03T09:57:33.752Z"
   },
   {
    "duration": 13,
    "start_time": "2022-04-03T09:57:33.760Z"
   },
   {
    "duration": 11,
    "start_time": "2022-04-03T09:57:33.775Z"
   },
   {
    "duration": 51,
    "start_time": "2022-04-03T09:57:33.788Z"
   },
   {
    "duration": 21,
    "start_time": "2022-04-03T09:57:33.841Z"
   },
   {
    "duration": 24,
    "start_time": "2022-04-03T09:57:33.864Z"
   },
   {
    "duration": 10,
    "start_time": "2022-04-03T09:57:33.890Z"
   },
   {
    "duration": 40,
    "start_time": "2022-04-03T09:57:33.902Z"
   },
   {
    "duration": 47,
    "start_time": "2022-04-03T09:57:33.944Z"
   },
   {
    "duration": 39,
    "start_time": "2022-04-03T09:57:33.995Z"
   },
   {
    "duration": 18,
    "start_time": "2022-04-03T09:57:34.035Z"
   },
   {
    "duration": 16,
    "start_time": "2022-04-03T09:57:34.055Z"
   },
   {
    "duration": 20,
    "start_time": "2022-04-03T09:57:34.072Z"
   },
   {
    "duration": 75,
    "start_time": "2022-04-03T09:57:34.093Z"
   },
   {
    "duration": 16,
    "start_time": "2022-04-03T09:57:34.170Z"
   },
   {
    "duration": 9,
    "start_time": "2022-04-03T09:57:34.188Z"
   },
   {
    "duration": 35,
    "start_time": "2022-04-03T09:57:34.199Z"
   },
   {
    "duration": 8,
    "start_time": "2022-04-03T09:57:34.236Z"
   },
   {
    "duration": 9,
    "start_time": "2022-04-03T09:57:34.245Z"
   },
   {
    "duration": 6,
    "start_time": "2022-04-03T09:57:34.256Z"
   },
   {
    "duration": 10,
    "start_time": "2022-04-03T09:57:34.264Z"
   },
   {
    "duration": 72,
    "start_time": "2022-04-03T09:57:34.276Z"
   },
   {
    "duration": 35,
    "start_time": "2022-04-03T09:57:34.350Z"
   },
   {
    "duration": 28,
    "start_time": "2022-04-03T09:57:34.387Z"
   },
   {
    "duration": 52,
    "start_time": "2022-04-03T09:57:34.434Z"
   },
   {
    "duration": 19,
    "start_time": "2022-04-03T09:57:34.488Z"
   },
   {
    "duration": 26,
    "start_time": "2022-04-03T09:57:34.509Z"
   },
   {
    "duration": 6,
    "start_time": "2022-04-03T09:57:34.537Z"
   },
   {
    "duration": 27,
    "start_time": "2022-04-03T09:57:34.545Z"
   },
   {
    "duration": 7,
    "start_time": "2022-04-03T09:57:34.574Z"
   },
   {
    "duration": 209,
    "start_time": "2022-04-03T09:57:34.584Z"
   },
   {
    "duration": 8,
    "start_time": "2022-04-03T09:57:34.795Z"
   },
   {
    "duration": 45,
    "start_time": "2022-04-03T09:57:34.804Z"
   },
   {
    "duration": 327,
    "start_time": "2022-04-03T09:57:34.851Z"
   },
   {
    "duration": 30,
    "start_time": "2022-04-03T09:57:35.181Z"
   },
   {
    "duration": 338,
    "start_time": "2022-04-03T09:57:35.213Z"
   },
   {
    "duration": 28,
    "start_time": "2022-04-03T09:57:35.554Z"
   },
   {
    "duration": 322,
    "start_time": "2022-04-03T09:57:35.585Z"
   },
   {
    "duration": 7,
    "start_time": "2022-04-03T09:57:35.910Z"
   },
   {
    "duration": 39,
    "start_time": "2022-04-03T09:57:35.919Z"
   },
   {
    "duration": 10,
    "start_time": "2022-04-03T09:57:35.961Z"
   },
   {
    "duration": 35,
    "start_time": "2022-04-03T09:57:35.974Z"
   },
   {
    "duration": 177,
    "start_time": "2022-04-03T10:10:52.222Z"
   },
   {
    "duration": 112,
    "start_time": "2022-04-03T10:16:19.151Z"
   },
   {
    "duration": 23,
    "start_time": "2022-04-03T10:24:06.590Z"
   },
   {
    "duration": 22,
    "start_time": "2022-04-03T10:27:56.604Z"
   },
   {
    "duration": 18,
    "start_time": "2022-04-03T10:49:56.118Z"
   },
   {
    "duration": 4,
    "start_time": "2022-04-03T10:53:59.657Z"
   },
   {
    "duration": 1194,
    "start_time": "2022-04-03T10:56:01.628Z"
   },
   {
    "duration": 154,
    "start_time": "2022-04-03T10:56:02.824Z"
   },
   {
    "duration": 25,
    "start_time": "2022-04-03T10:56:02.980Z"
   },
   {
    "duration": 147,
    "start_time": "2022-04-03T10:56:03.008Z"
   },
   {
    "duration": 22,
    "start_time": "2022-04-03T10:56:03.158Z"
   },
   {
    "duration": 104,
    "start_time": "2022-04-03T10:56:03.182Z"
   },
   {
    "duration": 25,
    "start_time": "2022-04-03T10:56:03.288Z"
   },
   {
    "duration": 24,
    "start_time": "2022-04-03T10:56:03.314Z"
   },
   {
    "duration": 9,
    "start_time": "2022-04-03T10:56:03.340Z"
   },
   {
    "duration": 36,
    "start_time": "2022-04-03T10:56:03.352Z"
   },
   {
    "duration": 10,
    "start_time": "2022-04-03T10:56:03.390Z"
   },
   {
    "duration": 11,
    "start_time": "2022-04-03T10:56:03.401Z"
   },
   {
    "duration": 38,
    "start_time": "2022-04-03T10:56:03.414Z"
   },
   {
    "duration": 25,
    "start_time": "2022-04-03T10:56:03.453Z"
   },
   {
    "duration": 28,
    "start_time": "2022-04-03T10:56:03.479Z"
   },
   {
    "duration": 35,
    "start_time": "2022-04-03T10:56:03.508Z"
   },
   {
    "duration": 115,
    "start_time": "2022-04-03T10:56:03.544Z"
   },
   {
    "duration": 18,
    "start_time": "2022-04-03T10:56:03.661Z"
   },
   {
    "duration": 7,
    "start_time": "2022-04-03T10:56:03.681Z"
   },
   {
    "duration": 10,
    "start_time": "2022-04-03T10:56:03.689Z"
   },
   {
    "duration": 34,
    "start_time": "2022-04-03T10:56:03.700Z"
   },
   {
    "duration": 23,
    "start_time": "2022-04-03T10:56:03.736Z"
   },
   {
    "duration": 20,
    "start_time": "2022-04-03T10:56:03.761Z"
   },
   {
    "duration": 24,
    "start_time": "2022-04-03T10:56:03.782Z"
   },
   {
    "duration": 34,
    "start_time": "2022-04-03T10:56:03.808Z"
   },
   {
    "duration": 12,
    "start_time": "2022-04-03T10:56:03.843Z"
   },
   {
    "duration": 47,
    "start_time": "2022-04-03T10:56:03.857Z"
   },
   {
    "duration": 15,
    "start_time": "2022-04-03T10:56:03.933Z"
   },
   {
    "duration": 20,
    "start_time": "2022-04-03T10:56:03.950Z"
   },
   {
    "duration": 18,
    "start_time": "2022-04-03T10:56:03.972Z"
   },
   {
    "duration": 49,
    "start_time": "2022-04-03T10:56:03.992Z"
   },
   {
    "duration": 51,
    "start_time": "2022-04-03T10:56:04.043Z"
   },
   {
    "duration": 16,
    "start_time": "2022-04-03T10:56:04.096Z"
   },
   {
    "duration": 28,
    "start_time": "2022-04-03T10:56:04.113Z"
   },
   {
    "duration": 4,
    "start_time": "2022-04-03T10:56:04.143Z"
   },
   {
    "duration": 7,
    "start_time": "2022-04-03T10:56:04.149Z"
   },
   {
    "duration": 8,
    "start_time": "2022-04-03T10:56:04.158Z"
   },
   {
    "duration": 6,
    "start_time": "2022-04-03T10:56:04.168Z"
   },
   {
    "duration": 8,
    "start_time": "2022-04-03T10:56:04.175Z"
   },
   {
    "duration": 79,
    "start_time": "2022-04-03T10:56:04.185Z"
   },
   {
    "duration": 24,
    "start_time": "2022-04-03T10:56:04.266Z"
   },
   {
    "duration": 42,
    "start_time": "2022-04-03T10:56:04.292Z"
   },
   {
    "duration": 34,
    "start_time": "2022-04-03T10:56:04.336Z"
   },
   {
    "duration": 13,
    "start_time": "2022-04-03T10:56:04.372Z"
   },
   {
    "duration": 8,
    "start_time": "2022-04-03T10:56:04.387Z"
   },
   {
    "duration": 38,
    "start_time": "2022-04-03T10:56:04.396Z"
   },
   {
    "duration": 20,
    "start_time": "2022-04-03T10:56:04.436Z"
   },
   {
    "duration": 5,
    "start_time": "2022-04-03T10:56:04.458Z"
   },
   {
    "duration": 123,
    "start_time": "2022-04-03T10:56:04.464Z"
   },
   {
    "duration": 5,
    "start_time": "2022-04-03T10:56:04.589Z"
   },
   {
    "duration": 21,
    "start_time": "2022-04-03T10:56:04.596Z"
   },
   {
    "duration": 202,
    "start_time": "2022-04-03T10:56:04.633Z"
   },
   {
    "duration": 20,
    "start_time": "2022-04-03T10:56:04.837Z"
   },
   {
    "duration": 219,
    "start_time": "2022-04-03T10:56:04.858Z"
   },
   {
    "duration": 20,
    "start_time": "2022-04-03T10:56:05.079Z"
   },
   {
    "duration": 204,
    "start_time": "2022-04-03T10:56:05.101Z"
   },
   {
    "duration": 5,
    "start_time": "2022-04-03T10:56:05.307Z"
   },
   {
    "duration": 33,
    "start_time": "2022-04-03T10:56:05.314Z"
   },
   {
    "duration": 8,
    "start_time": "2022-04-03T10:56:05.349Z"
   },
   {
    "duration": 22,
    "start_time": "2022-04-03T10:56:05.358Z"
   },
   {
    "duration": 7,
    "start_time": "2022-04-03T10:56:40.071Z"
   },
   {
    "duration": 120,
    "start_time": "2022-04-03T11:14:25.830Z"
   },
   {
    "duration": 101,
    "start_time": "2022-04-03T11:14:39.320Z"
   },
   {
    "duration": 4,
    "start_time": "2022-04-03T11:14:45.886Z"
   },
   {
    "duration": 115,
    "start_time": "2022-04-03T11:15:05.088Z"
   },
   {
    "duration": 4,
    "start_time": "2022-04-03T11:15:24.866Z"
   },
   {
    "duration": 124,
    "start_time": "2022-04-03T11:15:25.488Z"
   },
   {
    "duration": 6,
    "start_time": "2022-04-03T11:16:46.914Z"
   },
   {
    "duration": 118,
    "start_time": "2022-04-03T11:19:52.506Z"
   },
   {
    "duration": 4,
    "start_time": "2022-04-03T11:19:56.944Z"
   },
   {
    "duration": 134,
    "start_time": "2022-04-03T11:19:57.705Z"
   },
   {
    "duration": 7,
    "start_time": "2022-04-03T11:20:00.002Z"
   },
   {
    "duration": 1196,
    "start_time": "2022-04-03T11:20:50.321Z"
   },
   {
    "duration": 157,
    "start_time": "2022-04-03T11:20:51.519Z"
   },
   {
    "duration": 26,
    "start_time": "2022-04-03T11:20:51.678Z"
   },
   {
    "duration": 207,
    "start_time": "2022-04-03T11:20:51.706Z"
   },
   {
    "duration": 29,
    "start_time": "2022-04-03T11:20:51.915Z"
   },
   {
    "duration": 95,
    "start_time": "2022-04-03T11:20:51.946Z"
   },
   {
    "duration": 19,
    "start_time": "2022-04-03T11:20:52.043Z"
   },
   {
    "duration": 15,
    "start_time": "2022-04-03T11:20:52.064Z"
   },
   {
    "duration": 11,
    "start_time": "2022-04-03T11:20:52.080Z"
   },
   {
    "duration": 40,
    "start_time": "2022-04-03T11:20:52.095Z"
   },
   {
    "duration": 10,
    "start_time": "2022-04-03T11:20:52.137Z"
   },
   {
    "duration": 8,
    "start_time": "2022-04-03T11:20:52.148Z"
   },
   {
    "duration": 35,
    "start_time": "2022-04-03T11:20:52.158Z"
   },
   {
    "duration": 50,
    "start_time": "2022-04-03T11:20:52.194Z"
   },
   {
    "duration": 29,
    "start_time": "2022-04-03T11:20:52.246Z"
   },
   {
    "duration": 14,
    "start_time": "2022-04-03T11:20:52.276Z"
   },
   {
    "duration": 132,
    "start_time": "2022-04-03T11:20:52.292Z"
   },
   {
    "duration": 23,
    "start_time": "2022-04-03T11:20:52.426Z"
   },
   {
    "duration": 7,
    "start_time": "2022-04-03T11:20:52.450Z"
   },
   {
    "duration": 10,
    "start_time": "2022-04-03T11:20:52.459Z"
   },
   {
    "duration": 9,
    "start_time": "2022-04-03T11:20:52.471Z"
   },
   {
    "duration": 52,
    "start_time": "2022-04-03T11:20:52.482Z"
   },
   {
    "duration": 21,
    "start_time": "2022-04-03T11:20:52.535Z"
   },
   {
    "duration": 25,
    "start_time": "2022-04-03T11:20:52.557Z"
   },
   {
    "duration": 11,
    "start_time": "2022-04-03T11:20:52.583Z"
   },
   {
    "duration": 44,
    "start_time": "2022-04-03T11:20:52.596Z"
   },
   {
    "duration": 46,
    "start_time": "2022-04-03T11:20:52.642Z"
   },
   {
    "duration": 16,
    "start_time": "2022-04-03T11:20:52.693Z"
   },
   {
    "duration": 40,
    "start_time": "2022-04-03T11:20:52.710Z"
   },
   {
    "duration": 16,
    "start_time": "2022-04-03T11:20:52.752Z"
   },
   {
    "duration": 19,
    "start_time": "2022-04-03T11:20:52.770Z"
   },
   {
    "duration": 74,
    "start_time": "2022-04-03T11:20:52.791Z"
   },
   {
    "duration": 15,
    "start_time": "2022-04-03T11:20:52.867Z"
   },
   {
    "duration": 10,
    "start_time": "2022-04-03T11:20:52.884Z"
   },
   {
    "duration": 8,
    "start_time": "2022-04-03T11:20:52.896Z"
   },
   {
    "duration": 27,
    "start_time": "2022-04-03T11:20:52.906Z"
   },
   {
    "duration": 7,
    "start_time": "2022-04-03T11:20:52.935Z"
   },
   {
    "duration": 6,
    "start_time": "2022-04-03T11:20:52.944Z"
   },
   {
    "duration": 8,
    "start_time": "2022-04-03T11:20:52.951Z"
   },
   {
    "duration": 35,
    "start_time": "2022-04-03T11:20:52.961Z"
   },
   {
    "duration": 23,
    "start_time": "2022-04-03T11:20:53.032Z"
   },
   {
    "duration": 20,
    "start_time": "2022-04-03T11:20:53.057Z"
   },
   {
    "duration": 55,
    "start_time": "2022-04-03T11:20:53.078Z"
   },
   {
    "duration": 14,
    "start_time": "2022-04-03T11:20:53.135Z"
   },
   {
    "duration": 7,
    "start_time": "2022-04-03T11:20:53.151Z"
   },
   {
    "duration": 4,
    "start_time": "2022-04-03T11:20:53.160Z"
   },
   {
    "duration": 20,
    "start_time": "2022-04-03T11:20:53.166Z"
   },
   {
    "duration": 5,
    "start_time": "2022-04-03T11:20:53.187Z"
   },
   {
    "duration": 140,
    "start_time": "2022-04-03T11:20:53.193Z"
   },
   {
    "duration": 4,
    "start_time": "2022-04-03T11:20:53.334Z"
   },
   {
    "duration": 129,
    "start_time": "2022-04-03T11:20:53.340Z"
   },
   {
    "duration": 6,
    "start_time": "2022-04-03T11:20:53.470Z"
   },
   {
    "duration": 7,
    "start_time": "2022-04-03T11:20:53.477Z"
   },
   {
    "duration": 19,
    "start_time": "2022-04-03T11:20:53.486Z"
   },
   {
    "duration": 222,
    "start_time": "2022-04-03T11:20:53.506Z"
   },
   {
    "duration": 21,
    "start_time": "2022-04-03T11:20:53.729Z"
   },
   {
    "duration": 210,
    "start_time": "2022-04-03T11:20:53.752Z"
   },
   {
    "duration": 20,
    "start_time": "2022-04-03T11:20:53.963Z"
   },
   {
    "duration": 207,
    "start_time": "2022-04-03T11:20:53.985Z"
   },
   {
    "duration": 5,
    "start_time": "2022-04-03T11:20:54.194Z"
   },
   {
    "duration": 34,
    "start_time": "2022-04-03T11:20:54.201Z"
   },
   {
    "duration": 8,
    "start_time": "2022-04-03T11:20:54.237Z"
   },
   {
    "duration": 23,
    "start_time": "2022-04-03T11:20:54.246Z"
   },
   {
    "duration": 5,
    "start_time": "2022-04-03T11:21:53.711Z"
   },
   {
    "duration": 117,
    "start_time": "2022-04-03T11:22:12.608Z"
   },
   {
    "duration": 4,
    "start_time": "2022-04-03T11:22:48.858Z"
   },
   {
    "duration": 4,
    "start_time": "2022-04-03T11:28:22.830Z"
   },
   {
    "duration": 30,
    "start_time": "2022-04-03T11:28:23.618Z"
   },
   {
    "duration": 4,
    "start_time": "2022-04-03T11:28:54.272Z"
   },
   {
    "duration": 33,
    "start_time": "2022-04-03T11:28:55.032Z"
   },
   {
    "duration": 4,
    "start_time": "2022-04-03T11:29:10.503Z"
   },
   {
    "duration": 39,
    "start_time": "2022-04-03T11:29:11.064Z"
   },
   {
    "duration": 4,
    "start_time": "2022-04-03T11:29:41.481Z"
   },
   {
    "duration": 217,
    "start_time": "2022-04-03T11:29:41.776Z"
   },
   {
    "duration": 1297,
    "start_time": "2022-04-03T11:29:54.945Z"
   },
   {
    "duration": 223,
    "start_time": "2022-04-03T11:29:56.244Z"
   },
   {
    "duration": 41,
    "start_time": "2022-04-03T11:29:56.469Z"
   },
   {
    "duration": 183,
    "start_time": "2022-04-03T11:29:56.513Z"
   },
   {
    "duration": 21,
    "start_time": "2022-04-03T11:29:56.697Z"
   },
   {
    "duration": 109,
    "start_time": "2022-04-03T11:29:56.733Z"
   },
   {
    "duration": 31,
    "start_time": "2022-04-03T11:29:56.844Z"
   },
   {
    "duration": 15,
    "start_time": "2022-04-03T11:29:56.877Z"
   },
   {
    "duration": 10,
    "start_time": "2022-04-03T11:29:56.894Z"
   },
   {
    "duration": 55,
    "start_time": "2022-04-03T11:29:56.907Z"
   },
   {
    "duration": 11,
    "start_time": "2022-04-03T11:29:56.964Z"
   },
   {
    "duration": 10,
    "start_time": "2022-04-03T11:29:56.976Z"
   },
   {
    "duration": 45,
    "start_time": "2022-04-03T11:29:56.988Z"
   },
   {
    "duration": 29,
    "start_time": "2022-04-03T11:29:57.035Z"
   },
   {
    "duration": 29,
    "start_time": "2022-04-03T11:29:57.066Z"
   },
   {
    "duration": 39,
    "start_time": "2022-04-03T11:29:57.097Z"
   },
   {
    "duration": 126,
    "start_time": "2022-04-03T11:29:57.138Z"
   },
   {
    "duration": 22,
    "start_time": "2022-04-03T11:29:57.266Z"
   },
   {
    "duration": 7,
    "start_time": "2022-04-03T11:29:57.290Z"
   },
   {
    "duration": 10,
    "start_time": "2022-04-03T11:29:57.298Z"
   },
   {
    "duration": 14,
    "start_time": "2022-04-03T11:29:57.334Z"
   },
   {
    "duration": 24,
    "start_time": "2022-04-03T11:29:57.350Z"
   },
   {
    "duration": 20,
    "start_time": "2022-04-03T11:29:57.376Z"
   },
   {
    "duration": 48,
    "start_time": "2022-04-03T11:29:57.397Z"
   },
   {
    "duration": 11,
    "start_time": "2022-04-03T11:29:57.447Z"
   },
   {
    "duration": 13,
    "start_time": "2022-04-03T11:29:57.459Z"
   },
   {
    "duration": 79,
    "start_time": "2022-04-03T11:29:57.474Z"
   },
   {
    "duration": 18,
    "start_time": "2022-04-03T11:29:57.557Z"
   },
   {
    "duration": 20,
    "start_time": "2022-04-03T11:29:57.577Z"
   },
   {
    "duration": 43,
    "start_time": "2022-04-03T11:29:57.599Z"
   },
   {
    "duration": 21,
    "start_time": "2022-04-03T11:29:57.644Z"
   },
   {
    "duration": 70,
    "start_time": "2022-04-03T11:29:57.667Z"
   },
   {
    "duration": 16,
    "start_time": "2022-04-03T11:29:57.739Z"
   },
   {
    "duration": 10,
    "start_time": "2022-04-03T11:29:57.757Z"
   },
   {
    "duration": 7,
    "start_time": "2022-04-03T11:29:57.769Z"
   },
   {
    "duration": 11,
    "start_time": "2022-04-03T11:29:57.778Z"
   },
   {
    "duration": 8,
    "start_time": "2022-04-03T11:29:57.791Z"
   },
   {
    "duration": 6,
    "start_time": "2022-04-03T11:29:57.834Z"
   },
   {
    "duration": 18,
    "start_time": "2022-04-03T11:29:57.842Z"
   },
   {
    "duration": 35,
    "start_time": "2022-04-03T11:29:57.862Z"
   },
   {
    "duration": 44,
    "start_time": "2022-04-03T11:29:57.899Z"
   },
   {
    "duration": 21,
    "start_time": "2022-04-03T11:29:57.945Z"
   },
   {
    "duration": 70,
    "start_time": "2022-04-03T11:29:57.967Z"
   },
   {
    "duration": 19,
    "start_time": "2022-04-03T11:29:58.039Z"
   },
   {
    "duration": 8,
    "start_time": "2022-04-03T11:29:58.060Z"
   },
   {
    "duration": 14,
    "start_time": "2022-04-03T11:29:58.070Z"
   },
   {
    "duration": 50,
    "start_time": "2022-04-03T11:29:58.086Z"
   },
   {
    "duration": 6,
    "start_time": "2022-04-03T11:29:58.137Z"
   },
   {
    "duration": 120,
    "start_time": "2022-04-03T11:29:58.146Z"
   },
   {
    "duration": 4,
    "start_time": "2022-04-03T11:29:58.268Z"
   },
   {
    "duration": 132,
    "start_time": "2022-04-03T11:29:58.274Z"
   },
   {
    "duration": 0,
    "start_time": "2022-04-03T11:29:58.407Z"
   },
   {
    "duration": 0,
    "start_time": "2022-04-03T11:29:58.409Z"
   },
   {
    "duration": 0,
    "start_time": "2022-04-03T11:29:58.410Z"
   },
   {
    "duration": 0,
    "start_time": "2022-04-03T11:29:58.411Z"
   },
   {
    "duration": 0,
    "start_time": "2022-04-03T11:29:58.412Z"
   },
   {
    "duration": 0,
    "start_time": "2022-04-03T11:29:58.413Z"
   },
   {
    "duration": 0,
    "start_time": "2022-04-03T11:29:58.433Z"
   },
   {
    "duration": 0,
    "start_time": "2022-04-03T11:29:58.435Z"
   },
   {
    "duration": 0,
    "start_time": "2022-04-03T11:29:58.436Z"
   },
   {
    "duration": 0,
    "start_time": "2022-04-03T11:29:58.437Z"
   },
   {
    "duration": 0,
    "start_time": "2022-04-03T11:29:58.438Z"
   },
   {
    "duration": 0,
    "start_time": "2022-04-03T11:29:58.440Z"
   },
   {
    "duration": 0,
    "start_time": "2022-04-03T11:29:58.441Z"
   },
   {
    "duration": 0,
    "start_time": "2022-04-03T11:29:58.443Z"
   },
   {
    "duration": 4,
    "start_time": "2022-04-03T11:32:32.916Z"
   },
   {
    "duration": 5,
    "start_time": "2022-04-03T11:33:01.775Z"
   },
   {
    "duration": 29,
    "start_time": "2022-04-03T11:33:02.192Z"
   },
   {
    "duration": 4,
    "start_time": "2022-04-03T11:34:24.088Z"
   },
   {
    "duration": 29,
    "start_time": "2022-04-03T11:34:24.707Z"
   },
   {
    "duration": 4,
    "start_time": "2022-04-03T11:34:48.986Z"
   },
   {
    "duration": 30,
    "start_time": "2022-04-03T11:34:49.977Z"
   },
   {
    "duration": 4,
    "start_time": "2022-04-03T11:35:21.480Z"
   },
   {
    "duration": 128,
    "start_time": "2022-04-03T11:35:22.032Z"
   },
   {
    "duration": 1134,
    "start_time": "2022-04-03T11:35:31.362Z"
   },
   {
    "duration": 159,
    "start_time": "2022-04-03T11:35:32.498Z"
   },
   {
    "duration": 25,
    "start_time": "2022-04-03T11:35:32.659Z"
   },
   {
    "duration": 170,
    "start_time": "2022-04-03T11:35:32.686Z"
   },
   {
    "duration": 22,
    "start_time": "2022-04-03T11:35:32.857Z"
   },
   {
    "duration": 100,
    "start_time": "2022-04-03T11:35:32.881Z"
   },
   {
    "duration": 19,
    "start_time": "2022-04-03T11:35:32.983Z"
   },
   {
    "duration": 14,
    "start_time": "2022-04-03T11:35:33.004Z"
   },
   {
    "duration": 21,
    "start_time": "2022-04-03T11:35:33.020Z"
   },
   {
    "duration": 24,
    "start_time": "2022-04-03T11:35:33.043Z"
   },
   {
    "duration": 10,
    "start_time": "2022-04-03T11:35:33.069Z"
   },
   {
    "duration": 7,
    "start_time": "2022-04-03T11:35:33.081Z"
   },
   {
    "duration": 68,
    "start_time": "2022-04-03T11:35:33.089Z"
   },
   {
    "duration": 25,
    "start_time": "2022-04-03T11:35:33.159Z"
   },
   {
    "duration": 30,
    "start_time": "2022-04-03T11:35:33.186Z"
   },
   {
    "duration": 28,
    "start_time": "2022-04-03T11:35:33.217Z"
   },
   {
    "duration": 122,
    "start_time": "2022-04-03T11:35:33.247Z"
   },
   {
    "duration": 19,
    "start_time": "2022-04-03T11:35:33.371Z"
   },
   {
    "duration": 8,
    "start_time": "2022-04-03T11:35:33.391Z"
   },
   {
    "duration": 33,
    "start_time": "2022-04-03T11:35:33.400Z"
   },
   {
    "duration": 9,
    "start_time": "2022-04-03T11:35:33.435Z"
   },
   {
    "duration": 23,
    "start_time": "2022-04-03T11:35:33.446Z"
   },
   {
    "duration": 19,
    "start_time": "2022-04-03T11:35:33.471Z"
   },
   {
    "duration": 47,
    "start_time": "2022-04-03T11:35:33.492Z"
   },
   {
    "duration": 11,
    "start_time": "2022-04-03T11:35:33.541Z"
   },
   {
    "duration": 12,
    "start_time": "2022-04-03T11:35:33.553Z"
   },
   {
    "duration": 67,
    "start_time": "2022-04-03T11:35:33.567Z"
   },
   {
    "duration": 18,
    "start_time": "2022-04-03T11:35:33.638Z"
   },
   {
    "duration": 20,
    "start_time": "2022-04-03T11:35:33.657Z"
   },
   {
    "duration": 17,
    "start_time": "2022-04-03T11:35:33.678Z"
   },
   {
    "duration": 49,
    "start_time": "2022-04-03T11:35:33.696Z"
   },
   {
    "duration": 48,
    "start_time": "2022-04-03T11:35:33.747Z"
   },
   {
    "duration": 15,
    "start_time": "2022-04-03T11:35:33.796Z"
   },
   {
    "duration": 11,
    "start_time": "2022-04-03T11:35:33.833Z"
   },
   {
    "duration": 11,
    "start_time": "2022-04-03T11:35:33.845Z"
   },
   {
    "duration": 8,
    "start_time": "2022-04-03T11:35:33.858Z"
   },
   {
    "duration": 10,
    "start_time": "2022-04-03T11:35:33.868Z"
   },
   {
    "duration": 6,
    "start_time": "2022-04-03T11:35:33.879Z"
   },
   {
    "duration": 7,
    "start_time": "2022-04-03T11:35:33.887Z"
   },
   {
    "duration": 54,
    "start_time": "2022-04-03T11:35:33.896Z"
   },
   {
    "duration": 23,
    "start_time": "2022-04-03T11:35:33.951Z"
   },
   {
    "duration": 21,
    "start_time": "2022-04-03T11:35:33.976Z"
   },
   {
    "duration": 62,
    "start_time": "2022-04-03T11:35:33.998Z"
   },
   {
    "duration": 13,
    "start_time": "2022-04-03T11:35:34.061Z"
   },
   {
    "duration": 7,
    "start_time": "2022-04-03T11:35:34.075Z"
   },
   {
    "duration": 5,
    "start_time": "2022-04-03T11:35:34.083Z"
   },
   {
    "duration": 44,
    "start_time": "2022-04-03T11:35:34.090Z"
   },
   {
    "duration": 5,
    "start_time": "2022-04-03T11:35:34.136Z"
   },
   {
    "duration": 114,
    "start_time": "2022-04-03T11:35:34.142Z"
   },
   {
    "duration": 4,
    "start_time": "2022-04-03T11:35:34.258Z"
   },
   {
    "duration": 133,
    "start_time": "2022-04-03T11:35:34.263Z"
   },
   {
    "duration": 3,
    "start_time": "2022-04-03T11:35:34.398Z"
   },
   {
    "duration": 224,
    "start_time": "2022-04-03T11:35:34.402Z"
   },
   {
    "duration": 7,
    "start_time": "2022-04-03T11:35:34.628Z"
   },
   {
    "duration": 6,
    "start_time": "2022-04-03T11:35:34.636Z"
   },
   {
    "duration": 21,
    "start_time": "2022-04-03T11:35:34.643Z"
   },
   {
    "duration": 224,
    "start_time": "2022-04-03T11:35:34.665Z"
   },
   {
    "duration": 22,
    "start_time": "2022-04-03T11:35:34.891Z"
   },
   {
    "duration": 232,
    "start_time": "2022-04-03T11:35:34.914Z"
   },
   {
    "duration": 21,
    "start_time": "2022-04-03T11:35:35.148Z"
   },
   {
    "duration": 201,
    "start_time": "2022-04-03T11:35:35.170Z"
   },
   {
    "duration": 5,
    "start_time": "2022-04-03T11:35:35.373Z"
   },
   {
    "duration": 24,
    "start_time": "2022-04-03T11:35:35.380Z"
   },
   {
    "duration": 8,
    "start_time": "2022-04-03T11:35:35.406Z"
   },
   {
    "duration": 23,
    "start_time": "2022-04-03T11:35:35.433Z"
   },
   {
    "duration": 1220,
    "start_time": "2022-04-03T11:36:08.017Z"
   },
   {
    "duration": 162,
    "start_time": "2022-04-03T11:36:09.240Z"
   },
   {
    "duration": 29,
    "start_time": "2022-04-03T11:36:09.404Z"
   },
   {
    "duration": 142,
    "start_time": "2022-04-03T11:36:09.435Z"
   },
   {
    "duration": 24,
    "start_time": "2022-04-03T11:36:09.579Z"
   },
   {
    "duration": 102,
    "start_time": "2022-04-03T11:36:09.605Z"
   },
   {
    "duration": 28,
    "start_time": "2022-04-03T11:36:09.709Z"
   },
   {
    "duration": 15,
    "start_time": "2022-04-03T11:36:09.739Z"
   },
   {
    "duration": 10,
    "start_time": "2022-04-03T11:36:09.756Z"
   },
   {
    "duration": 33,
    "start_time": "2022-04-03T11:36:09.769Z"
   },
   {
    "duration": 10,
    "start_time": "2022-04-03T11:36:09.804Z"
   },
   {
    "duration": 10,
    "start_time": "2022-04-03T11:36:09.815Z"
   },
   {
    "duration": 44,
    "start_time": "2022-04-03T11:36:09.826Z"
   },
   {
    "duration": 26,
    "start_time": "2022-04-03T11:36:09.872Z"
   },
   {
    "duration": 45,
    "start_time": "2022-04-03T11:36:09.899Z"
   },
   {
    "duration": 13,
    "start_time": "2022-04-03T11:36:09.946Z"
   },
   {
    "duration": 122,
    "start_time": "2022-04-03T11:36:09.961Z"
   },
   {
    "duration": 18,
    "start_time": "2022-04-03T11:36:10.085Z"
   },
   {
    "duration": 7,
    "start_time": "2022-04-03T11:36:10.105Z"
   },
   {
    "duration": 22,
    "start_time": "2022-04-03T11:36:10.113Z"
   },
   {
    "duration": 10,
    "start_time": "2022-04-03T11:36:10.137Z"
   },
   {
    "duration": 26,
    "start_time": "2022-04-03T11:36:10.148Z"
   },
   {
    "duration": 21,
    "start_time": "2022-04-03T11:36:10.176Z"
   },
   {
    "duration": 48,
    "start_time": "2022-04-03T11:36:10.199Z"
   },
   {
    "duration": 10,
    "start_time": "2022-04-03T11:36:10.249Z"
   },
   {
    "duration": 12,
    "start_time": "2022-04-03T11:36:10.261Z"
   },
   {
    "duration": 81,
    "start_time": "2022-04-03T11:36:10.275Z"
   },
   {
    "duration": 17,
    "start_time": "2022-04-03T11:36:10.360Z"
   },
   {
    "duration": 18,
    "start_time": "2022-04-03T11:36:10.379Z"
   },
   {
    "duration": 37,
    "start_time": "2022-04-03T11:36:10.399Z"
   },
   {
    "duration": 20,
    "start_time": "2022-04-03T11:36:10.437Z"
   },
   {
    "duration": 48,
    "start_time": "2022-04-03T11:36:10.459Z"
   },
   {
    "duration": 36,
    "start_time": "2022-04-03T11:36:10.509Z"
   },
   {
    "duration": 9,
    "start_time": "2022-04-03T11:36:10.547Z"
   },
   {
    "duration": 5,
    "start_time": "2022-04-03T11:36:10.557Z"
   },
   {
    "duration": 8,
    "start_time": "2022-04-03T11:36:10.563Z"
   },
   {
    "duration": 8,
    "start_time": "2022-04-03T11:36:10.572Z"
   },
   {
    "duration": 6,
    "start_time": "2022-04-03T11:36:10.582Z"
   },
   {
    "duration": 7,
    "start_time": "2022-04-03T11:36:10.590Z"
   },
   {
    "duration": 64,
    "start_time": "2022-04-03T11:36:10.598Z"
   },
   {
    "duration": 22,
    "start_time": "2022-04-03T11:36:10.664Z"
   },
   {
    "duration": 46,
    "start_time": "2022-04-03T11:36:10.687Z"
   },
   {
    "duration": 34,
    "start_time": "2022-04-03T11:36:10.735Z"
   },
   {
    "duration": 15,
    "start_time": "2022-04-03T11:36:10.771Z"
   },
   {
    "duration": 9,
    "start_time": "2022-04-03T11:36:10.788Z"
   },
   {
    "duration": 5,
    "start_time": "2022-04-03T11:36:10.799Z"
   },
   {
    "duration": 21,
    "start_time": "2022-04-03T11:36:10.833Z"
   },
   {
    "duration": 6,
    "start_time": "2022-04-03T11:36:10.856Z"
   },
   {
    "duration": 127,
    "start_time": "2022-04-03T11:36:10.864Z"
   },
   {
    "duration": 4,
    "start_time": "2022-04-03T11:36:10.992Z"
   },
   {
    "duration": 136,
    "start_time": "2022-04-03T11:36:10.997Z"
   },
   {
    "duration": 4,
    "start_time": "2022-04-03T11:36:11.135Z"
   },
   {
    "duration": 243,
    "start_time": "2022-04-03T11:36:11.140Z"
   },
   {
    "duration": 6,
    "start_time": "2022-04-03T11:36:11.385Z"
   },
   {
    "duration": 7,
    "start_time": "2022-04-03T11:36:11.392Z"
   },
   {
    "duration": 41,
    "start_time": "2022-04-03T11:36:11.401Z"
   },
   {
    "duration": 218,
    "start_time": "2022-04-03T11:36:11.444Z"
   },
   {
    "duration": 22,
    "start_time": "2022-04-03T11:36:11.664Z"
   },
   {
    "duration": 222,
    "start_time": "2022-04-03T11:36:11.688Z"
   },
   {
    "duration": 30,
    "start_time": "2022-04-03T11:36:11.912Z"
   },
   {
    "duration": 206,
    "start_time": "2022-04-03T11:36:11.943Z"
   },
   {
    "duration": 6,
    "start_time": "2022-04-03T11:36:12.152Z"
   },
   {
    "duration": 25,
    "start_time": "2022-04-03T11:36:12.160Z"
   },
   {
    "duration": 8,
    "start_time": "2022-04-03T11:36:12.186Z"
   },
   {
    "duration": 47,
    "start_time": "2022-04-03T11:36:12.196Z"
   },
   {
    "duration": 7,
    "start_time": "2022-04-03T11:39:25.279Z"
   },
   {
    "duration": 13,
    "start_time": "2022-04-03T11:39:55.414Z"
   },
   {
    "duration": 1159,
    "start_time": "2022-04-03T11:41:33.973Z"
   },
   {
    "duration": 153,
    "start_time": "2022-04-03T11:41:35.134Z"
   },
   {
    "duration": 26,
    "start_time": "2022-04-03T11:41:35.288Z"
   },
   {
    "duration": 145,
    "start_time": "2022-04-03T11:41:35.316Z"
   },
   {
    "duration": 21,
    "start_time": "2022-04-03T11:41:35.463Z"
   },
   {
    "duration": 99,
    "start_time": "2022-04-03T11:41:35.486Z"
   },
   {
    "duration": 20,
    "start_time": "2022-04-03T11:41:35.586Z"
   },
   {
    "duration": 31,
    "start_time": "2022-04-03T11:41:35.608Z"
   },
   {
    "duration": 11,
    "start_time": "2022-04-03T11:41:35.640Z"
   },
   {
    "duration": 29,
    "start_time": "2022-04-03T11:41:35.653Z"
   },
   {
    "duration": 10,
    "start_time": "2022-04-03T11:41:35.684Z"
   },
   {
    "duration": 8,
    "start_time": "2022-04-03T11:41:35.695Z"
   },
   {
    "duration": 46,
    "start_time": "2022-04-03T11:41:35.705Z"
   },
   {
    "duration": 24,
    "start_time": "2022-04-03T11:41:35.753Z"
   },
   {
    "duration": 29,
    "start_time": "2022-04-03T11:41:35.778Z"
   },
   {
    "duration": 36,
    "start_time": "2022-04-03T11:41:35.809Z"
   },
   {
    "duration": 118,
    "start_time": "2022-04-03T11:41:35.847Z"
   },
   {
    "duration": 19,
    "start_time": "2022-04-03T11:41:35.966Z"
   },
   {
    "duration": 7,
    "start_time": "2022-04-03T11:41:35.987Z"
   },
   {
    "duration": 11,
    "start_time": "2022-04-03T11:41:35.995Z"
   },
   {
    "duration": 32,
    "start_time": "2022-04-03T11:41:36.008Z"
   },
   {
    "duration": 24,
    "start_time": "2022-04-03T11:41:36.042Z"
   },
   {
    "duration": 20,
    "start_time": "2022-04-03T11:41:36.068Z"
   },
   {
    "duration": 48,
    "start_time": "2022-04-03T11:41:36.089Z"
   },
   {
    "duration": 11,
    "start_time": "2022-04-03T11:41:36.138Z"
   },
   {
    "duration": 13,
    "start_time": "2022-04-03T11:41:36.150Z"
   },
   {
    "duration": 70,
    "start_time": "2022-04-03T11:41:36.164Z"
   },
   {
    "duration": 18,
    "start_time": "2022-04-03T11:41:36.238Z"
   },
   {
    "duration": 18,
    "start_time": "2022-04-03T11:41:36.258Z"
   },
   {
    "duration": 18,
    "start_time": "2022-04-03T11:41:36.277Z"
   },
   {
    "duration": 49,
    "start_time": "2022-04-03T11:41:36.296Z"
   },
   {
    "duration": 51,
    "start_time": "2022-04-03T11:41:36.347Z"
   },
   {
    "duration": 34,
    "start_time": "2022-04-03T11:41:36.400Z"
   },
   {
    "duration": 10,
    "start_time": "2022-04-03T11:41:36.435Z"
   },
   {
    "duration": 6,
    "start_time": "2022-04-03T11:41:36.446Z"
   },
   {
    "duration": 10,
    "start_time": "2022-04-03T11:41:36.454Z"
   },
   {
    "duration": 23,
    "start_time": "2022-04-03T11:41:36.465Z"
   },
   {
    "duration": 5,
    "start_time": "2022-04-03T11:41:36.490Z"
   },
   {
    "duration": 7,
    "start_time": "2022-04-03T11:41:36.497Z"
   },
   {
    "duration": 48,
    "start_time": "2022-04-03T11:41:36.505Z"
   },
   {
    "duration": 22,
    "start_time": "2022-04-03T11:41:36.555Z"
   },
   {
    "duration": 21,
    "start_time": "2022-04-03T11:41:36.578Z"
   },
   {
    "duration": 58,
    "start_time": "2022-04-03T11:41:36.601Z"
   },
   {
    "duration": 12,
    "start_time": "2022-04-03T11:41:36.661Z"
   },
   {
    "duration": 7,
    "start_time": "2022-04-03T11:41:36.674Z"
   },
   {
    "duration": 4,
    "start_time": "2022-04-03T11:41:36.682Z"
   },
   {
    "duration": 16,
    "start_time": "2022-04-03T11:41:36.688Z"
   },
   {
    "duration": 30,
    "start_time": "2022-04-03T11:41:36.705Z"
   },
   {
    "duration": 110,
    "start_time": "2022-04-03T11:41:36.736Z"
   },
   {
    "duration": 4,
    "start_time": "2022-04-03T11:41:36.847Z"
   },
   {
    "duration": 129,
    "start_time": "2022-04-03T11:41:36.853Z"
   },
   {
    "duration": 4,
    "start_time": "2022-04-03T11:41:36.983Z"
   },
   {
    "duration": 230,
    "start_time": "2022-04-03T11:41:36.989Z"
   },
   {
    "duration": 12,
    "start_time": "2022-04-03T11:41:37.221Z"
   },
   {
    "duration": 5,
    "start_time": "2022-04-03T11:41:37.235Z"
   },
   {
    "duration": 18,
    "start_time": "2022-04-03T11:41:37.242Z"
   },
   {
    "duration": 223,
    "start_time": "2022-04-03T11:41:37.262Z"
   },
   {
    "duration": 19,
    "start_time": "2022-04-03T11:41:37.487Z"
   },
   {
    "duration": 213,
    "start_time": "2022-04-03T11:41:37.507Z"
   },
   {
    "duration": 28,
    "start_time": "2022-04-03T11:41:37.721Z"
   },
   {
    "duration": 197,
    "start_time": "2022-04-03T11:41:37.750Z"
   },
   {
    "duration": 5,
    "start_time": "2022-04-03T11:41:37.949Z"
   },
   {
    "duration": 20,
    "start_time": "2022-04-03T11:41:37.956Z"
   },
   {
    "duration": 7,
    "start_time": "2022-04-03T11:41:37.978Z"
   },
   {
    "duration": 47,
    "start_time": "2022-04-03T11:41:37.986Z"
   },
   {
    "duration": 1136,
    "start_time": "2022-04-03T12:12:47.497Z"
   },
   {
    "duration": 155,
    "start_time": "2022-04-03T12:12:48.635Z"
   },
   {
    "duration": 26,
    "start_time": "2022-04-03T12:12:48.791Z"
   },
   {
    "duration": 134,
    "start_time": "2022-04-03T12:12:48.833Z"
   },
   {
    "duration": 21,
    "start_time": "2022-04-03T12:12:48.968Z"
   },
   {
    "duration": 98,
    "start_time": "2022-04-03T12:12:48.991Z"
   },
   {
    "duration": 20,
    "start_time": "2022-04-03T12:12:49.090Z"
   },
   {
    "duration": 28,
    "start_time": "2022-04-03T12:12:49.112Z"
   },
   {
    "duration": 10,
    "start_time": "2022-04-03T12:12:49.143Z"
   },
   {
    "duration": 29,
    "start_time": "2022-04-03T12:12:49.157Z"
   },
   {
    "duration": 10,
    "start_time": "2022-04-03T12:12:49.187Z"
   },
   {
    "duration": 7,
    "start_time": "2022-04-03T12:12:49.199Z"
   },
   {
    "duration": 51,
    "start_time": "2022-04-03T12:12:49.208Z"
   },
   {
    "duration": 26,
    "start_time": "2022-04-03T12:12:49.261Z"
   },
   {
    "duration": 50,
    "start_time": "2022-04-03T12:12:49.288Z"
   },
   {
    "duration": 14,
    "start_time": "2022-04-03T12:12:49.340Z"
   },
   {
    "duration": 117,
    "start_time": "2022-04-03T12:12:49.355Z"
   },
   {
    "duration": 17,
    "start_time": "2022-04-03T12:12:49.474Z"
   },
   {
    "duration": 7,
    "start_time": "2022-04-03T12:12:49.493Z"
   },
   {
    "duration": 9,
    "start_time": "2022-04-03T12:12:49.502Z"
   },
   {
    "duration": 27,
    "start_time": "2022-04-03T12:12:49.513Z"
   },
   {
    "duration": 23,
    "start_time": "2022-04-03T12:12:49.542Z"
   },
   {
    "duration": 20,
    "start_time": "2022-04-03T12:12:49.566Z"
   },
   {
    "duration": 53,
    "start_time": "2022-04-03T12:12:49.587Z"
   },
   {
    "duration": 10,
    "start_time": "2022-04-03T12:12:49.642Z"
   },
   {
    "duration": 13,
    "start_time": "2022-04-03T12:12:49.653Z"
   },
   {
    "duration": 69,
    "start_time": "2022-04-03T12:12:49.667Z"
   },
   {
    "duration": 16,
    "start_time": "2022-04-03T12:12:49.740Z"
   },
   {
    "duration": 18,
    "start_time": "2022-04-03T12:12:49.757Z"
   },
   {
    "duration": 17,
    "start_time": "2022-04-03T12:12:49.777Z"
   },
   {
    "duration": 49,
    "start_time": "2022-04-03T12:12:49.795Z"
   },
   {
    "duration": 49,
    "start_time": "2022-04-03T12:12:49.845Z"
   },
   {
    "duration": 37,
    "start_time": "2022-04-03T12:12:49.896Z"
   },
   {
    "duration": 10,
    "start_time": "2022-04-03T12:12:49.935Z"
   },
   {
    "duration": 5,
    "start_time": "2022-04-03T12:12:49.947Z"
   },
   {
    "duration": 10,
    "start_time": "2022-04-03T12:12:49.953Z"
   },
   {
    "duration": 8,
    "start_time": "2022-04-03T12:12:49.965Z"
   },
   {
    "duration": 9,
    "start_time": "2022-04-03T12:12:49.975Z"
   },
   {
    "duration": 8,
    "start_time": "2022-04-03T12:12:49.985Z"
   },
   {
    "duration": 64,
    "start_time": "2022-04-03T12:12:49.995Z"
   },
   {
    "duration": 24,
    "start_time": "2022-04-03T12:12:50.062Z"
   },
   {
    "duration": 22,
    "start_time": "2022-04-03T12:12:50.088Z"
   },
   {
    "duration": 35,
    "start_time": "2022-04-03T12:12:50.132Z"
   },
   {
    "duration": 14,
    "start_time": "2022-04-03T12:12:50.169Z"
   },
   {
    "duration": 9,
    "start_time": "2022-04-03T12:12:50.185Z"
   },
   {
    "duration": 4,
    "start_time": "2022-04-03T12:12:50.196Z"
   },
   {
    "duration": 20,
    "start_time": "2022-04-03T12:12:50.234Z"
   },
   {
    "duration": 5,
    "start_time": "2022-04-03T12:12:50.256Z"
   },
   {
    "duration": 120,
    "start_time": "2022-04-03T12:12:50.263Z"
   },
   {
    "duration": 6,
    "start_time": "2022-04-03T12:12:50.385Z"
   },
   {
    "duration": 20,
    "start_time": "2022-04-03T12:12:50.393Z"
   },
   {
    "duration": 224,
    "start_time": "2022-04-03T12:12:50.414Z"
   },
   {
    "duration": 20,
    "start_time": "2022-04-03T12:12:50.640Z"
   },
   {
    "duration": 206,
    "start_time": "2022-04-03T12:12:50.662Z"
   },
   {
    "duration": 21,
    "start_time": "2022-04-03T12:12:50.870Z"
   },
   {
    "duration": 210,
    "start_time": "2022-04-03T12:12:50.894Z"
   },
   {
    "duration": 6,
    "start_time": "2022-04-03T12:12:51.106Z"
   },
   {
    "duration": 38,
    "start_time": "2022-04-03T12:12:51.114Z"
   },
   {
    "duration": 9,
    "start_time": "2022-04-03T12:12:51.154Z"
   },
   {
    "duration": 22,
    "start_time": "2022-04-03T12:12:51.165Z"
   },
   {
    "duration": 5,
    "start_time": "2022-04-03T12:15:06.381Z"
   },
   {
    "duration": 112,
    "start_time": "2022-04-03T12:15:09.291Z"
   },
   {
    "duration": 1157,
    "start_time": "2022-04-03T12:16:04.071Z"
   },
   {
    "duration": 151,
    "start_time": "2022-04-03T12:16:05.230Z"
   },
   {
    "duration": 27,
    "start_time": "2022-04-03T12:16:05.382Z"
   },
   {
    "duration": 148,
    "start_time": "2022-04-03T12:16:05.411Z"
   },
   {
    "duration": 22,
    "start_time": "2022-04-03T12:16:05.561Z"
   },
   {
    "duration": 101,
    "start_time": "2022-04-03T12:16:05.585Z"
   },
   {
    "duration": 19,
    "start_time": "2022-04-03T12:16:05.687Z"
   },
   {
    "duration": 27,
    "start_time": "2022-04-03T12:16:05.707Z"
   },
   {
    "duration": 11,
    "start_time": "2022-04-03T12:16:05.735Z"
   },
   {
    "duration": 26,
    "start_time": "2022-04-03T12:16:05.749Z"
   },
   {
    "duration": 11,
    "start_time": "2022-04-03T12:16:05.777Z"
   },
   {
    "duration": 8,
    "start_time": "2022-04-03T12:16:05.789Z"
   },
   {
    "duration": 55,
    "start_time": "2022-04-03T12:16:05.799Z"
   },
   {
    "duration": 25,
    "start_time": "2022-04-03T12:16:05.855Z"
   },
   {
    "duration": 29,
    "start_time": "2022-04-03T12:16:05.882Z"
   },
   {
    "duration": 15,
    "start_time": "2022-04-03T12:16:05.932Z"
   },
   {
    "duration": 117,
    "start_time": "2022-04-03T12:16:05.948Z"
   },
   {
    "duration": 19,
    "start_time": "2022-04-03T12:16:06.067Z"
   },
   {
    "duration": 7,
    "start_time": "2022-04-03T12:16:06.088Z"
   },
   {
    "duration": 11,
    "start_time": "2022-04-03T12:16:06.096Z"
   },
   {
    "duration": 31,
    "start_time": "2022-04-03T12:16:06.109Z"
   },
   {
    "duration": 32,
    "start_time": "2022-04-03T12:16:06.142Z"
   },
   {
    "duration": 21,
    "start_time": "2022-04-03T12:16:06.176Z"
   },
   {
    "duration": 41,
    "start_time": "2022-04-03T12:16:06.198Z"
   },
   {
    "duration": 10,
    "start_time": "2022-04-03T12:16:06.241Z"
   },
   {
    "duration": 13,
    "start_time": "2022-04-03T12:16:06.252Z"
   },
   {
    "duration": 67,
    "start_time": "2022-04-03T12:16:06.267Z"
   },
   {
    "duration": 16,
    "start_time": "2022-04-03T12:16:06.337Z"
   },
   {
    "duration": 18,
    "start_time": "2022-04-03T12:16:06.355Z"
   },
   {
    "duration": 16,
    "start_time": "2022-04-03T12:16:06.375Z"
   },
   {
    "duration": 48,
    "start_time": "2022-04-03T12:16:06.393Z"
   },
   {
    "duration": 47,
    "start_time": "2022-04-03T12:16:06.443Z"
   },
   {
    "duration": 14,
    "start_time": "2022-04-03T12:16:06.492Z"
   },
   {
    "duration": 27,
    "start_time": "2022-04-03T12:16:06.508Z"
   },
   {
    "duration": 7,
    "start_time": "2022-04-03T12:16:06.537Z"
   },
   {
    "duration": 8,
    "start_time": "2022-04-03T12:16:06.545Z"
   },
   {
    "duration": 10,
    "start_time": "2022-04-03T12:16:06.554Z"
   },
   {
    "duration": 7,
    "start_time": "2022-04-03T12:16:06.566Z"
   },
   {
    "duration": 8,
    "start_time": "2022-04-03T12:16:06.575Z"
   },
   {
    "duration": 56,
    "start_time": "2022-04-03T12:16:06.585Z"
   },
   {
    "duration": 21,
    "start_time": "2022-04-03T12:16:06.643Z"
   },
   {
    "duration": 19,
    "start_time": "2022-04-03T12:16:06.666Z"
   },
   {
    "duration": 53,
    "start_time": "2022-04-03T12:16:06.687Z"
   },
   {
    "duration": 13,
    "start_time": "2022-04-03T12:16:06.742Z"
   },
   {
    "duration": 7,
    "start_time": "2022-04-03T12:16:06.756Z"
   },
   {
    "duration": 4,
    "start_time": "2022-04-03T12:16:06.765Z"
   },
   {
    "duration": 19,
    "start_time": "2022-04-03T12:16:06.770Z"
   },
   {
    "duration": 5,
    "start_time": "2022-04-03T12:16:06.791Z"
   },
   {
    "duration": 139,
    "start_time": "2022-04-03T12:16:06.797Z"
   },
   {
    "duration": 6,
    "start_time": "2022-04-03T12:16:06.937Z"
   },
   {
    "duration": 19,
    "start_time": "2022-04-03T12:16:06.945Z"
   },
   {
    "duration": 231,
    "start_time": "2022-04-03T12:16:06.966Z"
   },
   {
    "duration": 36,
    "start_time": "2022-04-03T12:16:07.198Z"
   },
   {
    "duration": 206,
    "start_time": "2022-04-03T12:16:07.235Z"
   },
   {
    "duration": 21,
    "start_time": "2022-04-03T12:16:07.442Z"
   },
   {
    "duration": 208,
    "start_time": "2022-04-03T12:16:07.465Z"
   },
   {
    "duration": 5,
    "start_time": "2022-04-03T12:16:07.675Z"
   },
   {
    "duration": 23,
    "start_time": "2022-04-03T12:16:07.682Z"
   },
   {
    "duration": 8,
    "start_time": "2022-04-03T12:16:07.706Z"
   },
   {
    "duration": 22,
    "start_time": "2022-04-03T12:16:07.734Z"
   },
   {
    "duration": 24,
    "start_time": "2022-04-03T12:17:20.781Z"
   },
   {
    "duration": 24,
    "start_time": "2022-04-03T12:18:07.172Z"
   },
   {
    "duration": 22,
    "start_time": "2022-04-03T12:18:45.596Z"
   },
   {
    "duration": 1209,
    "start_time": "2022-04-03T12:26:35.505Z"
   },
   {
    "duration": 157,
    "start_time": "2022-04-03T12:26:36.716Z"
   },
   {
    "duration": 25,
    "start_time": "2022-04-03T12:26:36.875Z"
   },
   {
    "duration": 148,
    "start_time": "2022-04-03T12:26:36.902Z"
   },
   {
    "duration": 22,
    "start_time": "2022-04-03T12:26:37.052Z"
   },
   {
    "duration": 106,
    "start_time": "2022-04-03T12:26:37.075Z"
   },
   {
    "duration": 19,
    "start_time": "2022-04-03T12:26:37.183Z"
   },
   {
    "duration": 16,
    "start_time": "2022-04-03T12:26:37.204Z"
   },
   {
    "duration": 15,
    "start_time": "2022-04-03T12:26:37.233Z"
   },
   {
    "duration": 35,
    "start_time": "2022-04-03T12:26:37.253Z"
   },
   {
    "duration": 14,
    "start_time": "2022-04-03T12:26:37.289Z"
   },
   {
    "duration": 8,
    "start_time": "2022-04-03T12:26:37.305Z"
   },
   {
    "duration": 35,
    "start_time": "2022-04-03T12:26:37.333Z"
   },
   {
    "duration": 25,
    "start_time": "2022-04-03T12:26:37.370Z"
   },
   {
    "duration": 54,
    "start_time": "2022-04-03T12:26:37.397Z"
   },
   {
    "duration": 14,
    "start_time": "2022-04-03T12:26:37.453Z"
   },
   {
    "duration": 140,
    "start_time": "2022-04-03T12:26:37.468Z"
   },
   {
    "duration": 29,
    "start_time": "2022-04-03T12:26:37.609Z"
   },
   {
    "duration": 7,
    "start_time": "2022-04-03T12:26:37.640Z"
   },
   {
    "duration": 7,
    "start_time": "2022-04-03T12:26:37.649Z"
   },
   {
    "duration": 13,
    "start_time": "2022-04-03T12:26:37.658Z"
   },
   {
    "duration": 10,
    "start_time": "2022-04-03T12:26:37.672Z"
   },
   {
    "duration": 52,
    "start_time": "2022-04-03T12:26:37.684Z"
   },
   {
    "duration": 21,
    "start_time": "2022-04-03T12:26:37.738Z"
   },
   {
    "duration": 26,
    "start_time": "2022-04-03T12:26:37.760Z"
   },
   {
    "duration": 12,
    "start_time": "2022-04-03T12:26:37.787Z"
   },
   {
    "duration": 36,
    "start_time": "2022-04-03T12:26:37.800Z"
   },
   {
    "duration": 58,
    "start_time": "2022-04-03T12:26:37.840Z"
   },
   {
    "duration": 40,
    "start_time": "2022-04-03T12:26:37.900Z"
   },
   {
    "duration": 30,
    "start_time": "2022-04-03T12:26:37.943Z"
   },
   {
    "duration": 18,
    "start_time": "2022-04-03T12:26:37.975Z"
   },
   {
    "duration": 50,
    "start_time": "2022-04-03T12:26:37.995Z"
   },
   {
    "duration": 53,
    "start_time": "2022-04-03T12:26:38.047Z"
   },
   {
    "duration": 39,
    "start_time": "2022-04-03T12:26:38.102Z"
   },
   {
    "duration": 10,
    "start_time": "2022-04-03T12:26:38.143Z"
   },
   {
    "duration": 7,
    "start_time": "2022-04-03T12:26:38.156Z"
   },
   {
    "duration": 8,
    "start_time": "2022-04-03T12:26:38.166Z"
   },
   {
    "duration": 7,
    "start_time": "2022-04-03T12:26:38.177Z"
   },
   {
    "duration": 6,
    "start_time": "2022-04-03T12:26:38.186Z"
   },
   {
    "duration": 42,
    "start_time": "2022-04-03T12:26:38.194Z"
   },
   {
    "duration": 38,
    "start_time": "2022-04-03T12:26:38.238Z"
   },
   {
    "duration": 23,
    "start_time": "2022-04-03T12:26:38.278Z"
   },
   {
    "duration": 45,
    "start_time": "2022-04-03T12:26:38.303Z"
   },
   {
    "duration": 35,
    "start_time": "2022-04-03T12:26:38.350Z"
   },
   {
    "duration": 15,
    "start_time": "2022-04-03T12:26:38.387Z"
   },
   {
    "duration": 32,
    "start_time": "2022-04-03T12:26:38.404Z"
   },
   {
    "duration": 4,
    "start_time": "2022-04-03T12:26:38.438Z"
   },
   {
    "duration": 19,
    "start_time": "2022-04-03T12:26:38.445Z"
   },
   {
    "duration": 5,
    "start_time": "2022-04-03T12:26:38.466Z"
   },
   {
    "duration": 59,
    "start_time": "2022-04-03T12:26:38.474Z"
   },
   {
    "duration": 145,
    "start_time": "2022-04-03T12:26:38.535Z"
   },
   {
    "duration": 5,
    "start_time": "2022-04-03T12:26:38.682Z"
   },
   {
    "duration": 19,
    "start_time": "2022-04-03T12:26:38.689Z"
   },
   {
    "duration": 322,
    "start_time": "2022-04-03T12:26:38.710Z"
   },
   {
    "duration": 22,
    "start_time": "2022-04-03T12:26:39.034Z"
   },
   {
    "duration": 216,
    "start_time": "2022-04-03T12:26:39.058Z"
   },
   {
    "duration": 20,
    "start_time": "2022-04-03T12:26:39.276Z"
   },
   {
    "duration": 218,
    "start_time": "2022-04-03T12:26:39.297Z"
   },
   {
    "duration": 6,
    "start_time": "2022-04-03T12:26:39.517Z"
   },
   {
    "duration": 22,
    "start_time": "2022-04-03T12:26:39.533Z"
   },
   {
    "duration": 9,
    "start_time": "2022-04-03T12:26:39.557Z"
   },
   {
    "duration": 24,
    "start_time": "2022-04-03T12:26:39.568Z"
   },
   {
    "duration": 29,
    "start_time": "2022-04-03T12:31:25.639Z"
   },
   {
    "duration": 105,
    "start_time": "2022-04-03T12:40:58.767Z"
   },
   {
    "duration": 100,
    "start_time": "2022-04-03T12:53:51.753Z"
   },
   {
    "duration": 107,
    "start_time": "2022-04-03T12:56:43.361Z"
   },
   {
    "duration": 108,
    "start_time": "2022-04-03T12:57:51.250Z"
   },
   {
    "duration": 106,
    "start_time": "2022-04-03T12:59:58.442Z"
   },
   {
    "duration": 112,
    "start_time": "2022-04-03T13:08:53.209Z"
   },
   {
    "duration": 1577,
    "start_time": "2022-04-03T13:16:44.554Z"
   },
   {
    "duration": 233,
    "start_time": "2022-04-03T13:16:46.134Z"
   },
   {
    "duration": 42,
    "start_time": "2022-04-03T13:16:46.369Z"
   },
   {
    "duration": 210,
    "start_time": "2022-04-03T13:16:46.414Z"
   },
   {
    "duration": 40,
    "start_time": "2022-04-03T13:16:46.627Z"
   },
   {
    "duration": 137,
    "start_time": "2022-04-03T13:16:46.670Z"
   },
   {
    "duration": 29,
    "start_time": "2022-04-03T13:16:46.808Z"
   },
   {
    "duration": 15,
    "start_time": "2022-04-03T13:16:46.839Z"
   },
   {
    "duration": 10,
    "start_time": "2022-04-03T13:16:46.856Z"
   },
   {
    "duration": 25,
    "start_time": "2022-04-03T13:16:46.868Z"
   },
   {
    "duration": 10,
    "start_time": "2022-04-03T13:16:46.895Z"
   },
   {
    "duration": 7,
    "start_time": "2022-04-03T13:16:46.907Z"
   },
   {
    "duration": 34,
    "start_time": "2022-04-03T13:16:46.933Z"
   },
   {
    "duration": 24,
    "start_time": "2022-04-03T13:16:46.969Z"
   },
   {
    "duration": 48,
    "start_time": "2022-04-03T13:16:46.995Z"
   },
   {
    "duration": 13,
    "start_time": "2022-04-03T13:16:47.045Z"
   },
   {
    "duration": 133,
    "start_time": "2022-04-03T13:16:47.060Z"
   },
   {
    "duration": 18,
    "start_time": "2022-04-03T13:16:47.195Z"
   },
   {
    "duration": 20,
    "start_time": "2022-04-03T13:16:47.214Z"
   },
   {
    "duration": 116,
    "start_time": "2022-04-03T13:16:47.235Z"
   },
   {
    "duration": 0,
    "start_time": "2022-04-03T13:16:47.354Z"
   },
   {
    "duration": 0,
    "start_time": "2022-04-03T13:16:47.355Z"
   },
   {
    "duration": 0,
    "start_time": "2022-04-03T13:16:47.357Z"
   },
   {
    "duration": 0,
    "start_time": "2022-04-03T13:16:47.358Z"
   },
   {
    "duration": 0,
    "start_time": "2022-04-03T13:16:47.359Z"
   },
   {
    "duration": 0,
    "start_time": "2022-04-03T13:16:47.360Z"
   },
   {
    "duration": 0,
    "start_time": "2022-04-03T13:16:47.361Z"
   },
   {
    "duration": 0,
    "start_time": "2022-04-03T13:16:47.362Z"
   },
   {
    "duration": 0,
    "start_time": "2022-04-03T13:16:47.363Z"
   },
   {
    "duration": 0,
    "start_time": "2022-04-03T13:16:47.365Z"
   },
   {
    "duration": 0,
    "start_time": "2022-04-03T13:16:47.366Z"
   },
   {
    "duration": 0,
    "start_time": "2022-04-03T13:16:47.367Z"
   },
   {
    "duration": 0,
    "start_time": "2022-04-03T13:16:47.368Z"
   },
   {
    "duration": 0,
    "start_time": "2022-04-03T13:16:47.369Z"
   },
   {
    "duration": 0,
    "start_time": "2022-04-03T13:16:47.370Z"
   },
   {
    "duration": 0,
    "start_time": "2022-04-03T13:16:47.371Z"
   },
   {
    "duration": 0,
    "start_time": "2022-04-03T13:16:47.372Z"
   },
   {
    "duration": 0,
    "start_time": "2022-04-03T13:16:47.373Z"
   },
   {
    "duration": 0,
    "start_time": "2022-04-03T13:16:47.374Z"
   },
   {
    "duration": 0,
    "start_time": "2022-04-03T13:16:47.375Z"
   },
   {
    "duration": 0,
    "start_time": "2022-04-03T13:16:47.376Z"
   },
   {
    "duration": 0,
    "start_time": "2022-04-03T13:16:47.377Z"
   },
   {
    "duration": 0,
    "start_time": "2022-04-03T13:16:47.378Z"
   },
   {
    "duration": 0,
    "start_time": "2022-04-03T13:16:47.379Z"
   },
   {
    "duration": 0,
    "start_time": "2022-04-03T13:16:47.380Z"
   },
   {
    "duration": 0,
    "start_time": "2022-04-03T13:16:47.382Z"
   },
   {
    "duration": 0,
    "start_time": "2022-04-03T13:16:47.433Z"
   },
   {
    "duration": 0,
    "start_time": "2022-04-03T13:16:47.434Z"
   },
   {
    "duration": 0,
    "start_time": "2022-04-03T13:16:47.435Z"
   },
   {
    "duration": 0,
    "start_time": "2022-04-03T13:16:47.436Z"
   },
   {
    "duration": 0,
    "start_time": "2022-04-03T13:16:47.438Z"
   },
   {
    "duration": 0,
    "start_time": "2022-04-03T13:16:47.439Z"
   },
   {
    "duration": 0,
    "start_time": "2022-04-03T13:16:47.440Z"
   },
   {
    "duration": 0,
    "start_time": "2022-04-03T13:16:47.441Z"
   },
   {
    "duration": 0,
    "start_time": "2022-04-03T13:16:47.442Z"
   },
   {
    "duration": 0,
    "start_time": "2022-04-03T13:16:47.443Z"
   },
   {
    "duration": 0,
    "start_time": "2022-04-03T13:16:47.444Z"
   },
   {
    "duration": 0,
    "start_time": "2022-04-03T13:16:47.445Z"
   },
   {
    "duration": 0,
    "start_time": "2022-04-03T13:16:47.446Z"
   },
   {
    "duration": 0,
    "start_time": "2022-04-03T13:16:47.447Z"
   },
   {
    "duration": 0,
    "start_time": "2022-04-03T13:16:47.448Z"
   },
   {
    "duration": 1175,
    "start_time": "2022-04-03T13:17:37.646Z"
   },
   {
    "duration": 153,
    "start_time": "2022-04-03T13:17:38.823Z"
   },
   {
    "duration": 27,
    "start_time": "2022-04-03T13:17:38.977Z"
   },
   {
    "duration": 149,
    "start_time": "2022-04-03T13:17:39.006Z"
   },
   {
    "duration": 22,
    "start_time": "2022-04-03T13:17:39.157Z"
   },
   {
    "duration": 101,
    "start_time": "2022-04-03T13:17:39.180Z"
   },
   {
    "duration": 19,
    "start_time": "2022-04-03T13:17:39.283Z"
   },
   {
    "duration": 30,
    "start_time": "2022-04-03T13:17:39.303Z"
   },
   {
    "duration": 10,
    "start_time": "2022-04-03T13:17:39.335Z"
   },
   {
    "duration": 24,
    "start_time": "2022-04-03T13:17:39.348Z"
   },
   {
    "duration": 10,
    "start_time": "2022-04-03T13:17:39.373Z"
   },
   {
    "duration": 9,
    "start_time": "2022-04-03T13:17:39.385Z"
   },
   {
    "duration": 67,
    "start_time": "2022-04-03T13:17:39.396Z"
   },
   {
    "duration": 25,
    "start_time": "2022-04-03T13:17:39.465Z"
   },
   {
    "duration": 43,
    "start_time": "2022-04-03T13:17:39.491Z"
   },
   {
    "duration": 19,
    "start_time": "2022-04-03T13:17:39.536Z"
   },
   {
    "duration": 144,
    "start_time": "2022-04-03T13:17:39.557Z"
   },
   {
    "duration": 38,
    "start_time": "2022-04-03T13:17:39.703Z"
   },
   {
    "duration": 9,
    "start_time": "2022-04-03T13:17:39.744Z"
   },
   {
    "duration": 14,
    "start_time": "2022-04-03T13:17:39.755Z"
   },
   {
    "duration": 13,
    "start_time": "2022-04-03T13:17:39.771Z"
   },
   {
    "duration": 67,
    "start_time": "2022-04-03T13:17:39.786Z"
   },
   {
    "duration": 21,
    "start_time": "2022-04-03T13:17:39.856Z"
   },
   {
    "duration": 26,
    "start_time": "2022-04-03T13:17:39.880Z"
   },
   {
    "duration": 34,
    "start_time": "2022-04-03T13:17:39.908Z"
   },
   {
    "duration": 12,
    "start_time": "2022-04-03T13:17:39.944Z"
   },
   {
    "duration": 79,
    "start_time": "2022-04-03T13:17:39.957Z"
   },
   {
    "duration": 18,
    "start_time": "2022-04-03T13:17:40.040Z"
   },
   {
    "duration": 20,
    "start_time": "2022-04-03T13:17:40.060Z"
   },
   {
    "duration": 19,
    "start_time": "2022-04-03T13:17:40.082Z"
   },
   {
    "duration": 21,
    "start_time": "2022-04-03T13:17:40.132Z"
   },
   {
    "duration": 50,
    "start_time": "2022-04-03T13:17:40.155Z"
   },
   {
    "duration": 40,
    "start_time": "2022-04-03T13:17:40.207Z"
   },
   {
    "duration": 14,
    "start_time": "2022-04-03T13:17:40.249Z"
   },
   {
    "duration": 9,
    "start_time": "2022-04-03T13:17:40.265Z"
   },
   {
    "duration": 12,
    "start_time": "2022-04-03T13:17:40.276Z"
   },
   {
    "duration": 15,
    "start_time": "2022-04-03T13:17:40.290Z"
   },
   {
    "duration": 31,
    "start_time": "2022-04-03T13:17:40.307Z"
   },
   {
    "duration": 11,
    "start_time": "2022-04-03T13:17:40.342Z"
   },
   {
    "duration": 36,
    "start_time": "2022-04-03T13:17:40.355Z"
   },
   {
    "duration": 42,
    "start_time": "2022-04-03T13:17:40.392Z"
   },
   {
    "duration": 22,
    "start_time": "2022-04-03T13:17:40.436Z"
   },
   {
    "duration": 34,
    "start_time": "2022-04-03T13:17:40.460Z"
   },
   {
    "duration": 43,
    "start_time": "2022-04-03T13:17:40.496Z"
   },
   {
    "duration": 7,
    "start_time": "2022-04-03T13:17:40.541Z"
   },
   {
    "duration": 6,
    "start_time": "2022-04-03T13:17:40.550Z"
   },
   {
    "duration": 21,
    "start_time": "2022-04-03T13:17:40.558Z"
   },
   {
    "duration": 7,
    "start_time": "2022-04-03T13:17:40.581Z"
   },
   {
    "duration": 144,
    "start_time": "2022-04-03T13:17:40.589Z"
   },
   {
    "duration": 8,
    "start_time": "2022-04-03T13:17:40.735Z"
   },
   {
    "duration": 33,
    "start_time": "2022-04-03T13:17:40.745Z"
   },
   {
    "duration": 248,
    "start_time": "2022-04-03T13:17:40.781Z"
   },
   {
    "duration": 23,
    "start_time": "2022-04-03T13:17:41.030Z"
   },
   {
    "duration": 342,
    "start_time": "2022-04-03T13:17:41.055Z"
   },
   {
    "duration": 41,
    "start_time": "2022-04-03T13:17:41.399Z"
   },
   {
    "duration": 312,
    "start_time": "2022-04-03T13:17:41.442Z"
   },
   {
    "duration": 6,
    "start_time": "2022-04-03T13:17:41.757Z"
   },
   {
    "duration": 32,
    "start_time": "2022-04-03T13:17:41.765Z"
   },
   {
    "duration": 35,
    "start_time": "2022-04-03T13:17:41.799Z"
   },
   {
    "duration": 33,
    "start_time": "2022-04-03T13:17:41.836Z"
   },
   {
    "duration": 1376,
    "start_time": "2022-04-03T17:10:18.492Z"
   },
   {
    "duration": 183,
    "start_time": "2022-04-03T17:10:19.870Z"
   },
   {
    "duration": 27,
    "start_time": "2022-04-03T17:10:20.055Z"
   },
   {
    "duration": 145,
    "start_time": "2022-04-03T17:10:20.084Z"
   },
   {
    "duration": 35,
    "start_time": "2022-04-03T17:10:20.230Z"
   },
   {
    "duration": 101,
    "start_time": "2022-04-03T17:10:20.267Z"
   },
   {
    "duration": 18,
    "start_time": "2022-04-03T17:10:20.370Z"
   },
   {
    "duration": 30,
    "start_time": "2022-04-03T17:10:20.389Z"
   },
   {
    "duration": 18,
    "start_time": "2022-04-03T17:10:20.421Z"
   },
   {
    "duration": 58,
    "start_time": "2022-04-03T17:10:20.443Z"
   },
   {
    "duration": 10,
    "start_time": "2022-04-03T17:10:20.503Z"
   },
   {
    "duration": 29,
    "start_time": "2022-04-03T17:10:20.516Z"
   },
   {
    "duration": 41,
    "start_time": "2022-04-03T17:10:20.547Z"
   },
   {
    "duration": 26,
    "start_time": "2022-04-03T17:10:20.589Z"
   },
   {
    "duration": 37,
    "start_time": "2022-04-03T17:10:20.617Z"
   },
   {
    "duration": 14,
    "start_time": "2022-04-03T17:10:20.656Z"
   },
   {
    "duration": 137,
    "start_time": "2022-04-03T17:10:20.672Z"
   },
   {
    "duration": 18,
    "start_time": "2022-04-03T17:10:20.811Z"
   },
   {
    "duration": 15,
    "start_time": "2022-04-03T17:10:20.838Z"
   },
   {
    "duration": 22,
    "start_time": "2022-04-03T17:10:20.854Z"
   },
   {
    "duration": 36,
    "start_time": "2022-04-03T17:10:20.878Z"
   },
   {
    "duration": 35,
    "start_time": "2022-04-03T17:10:20.916Z"
   },
   {
    "duration": 24,
    "start_time": "2022-04-03T17:10:20.952Z"
   },
   {
    "duration": 1836,
    "start_time": "2022-04-03T17:10:20.977Z"
   },
   {
    "duration": 0,
    "start_time": "2022-04-03T17:10:22.816Z"
   },
   {
    "duration": 0,
    "start_time": "2022-04-03T17:10:22.817Z"
   },
   {
    "duration": 0,
    "start_time": "2022-04-03T17:10:22.818Z"
   },
   {
    "duration": 0,
    "start_time": "2022-04-03T17:10:22.819Z"
   },
   {
    "duration": 0,
    "start_time": "2022-04-03T17:10:22.821Z"
   },
   {
    "duration": 0,
    "start_time": "2022-04-03T17:10:22.822Z"
   },
   {
    "duration": 0,
    "start_time": "2022-04-03T17:10:22.823Z"
   },
   {
    "duration": 0,
    "start_time": "2022-04-03T17:10:22.824Z"
   },
   {
    "duration": 0,
    "start_time": "2022-04-03T17:10:22.824Z"
   },
   {
    "duration": 0,
    "start_time": "2022-04-03T17:10:22.825Z"
   },
   {
    "duration": 0,
    "start_time": "2022-04-03T17:10:22.827Z"
   },
   {
    "duration": 0,
    "start_time": "2022-04-03T17:10:22.828Z"
   },
   {
    "duration": 0,
    "start_time": "2022-04-03T17:10:22.829Z"
   },
   {
    "duration": 0,
    "start_time": "2022-04-03T17:10:22.830Z"
   },
   {
    "duration": 0,
    "start_time": "2022-04-03T17:10:22.831Z"
   },
   {
    "duration": 0,
    "start_time": "2022-04-03T17:10:22.832Z"
   },
   {
    "duration": 0,
    "start_time": "2022-04-03T17:10:22.833Z"
   },
   {
    "duration": 0,
    "start_time": "2022-04-03T17:10:22.834Z"
   },
   {
    "duration": 0,
    "start_time": "2022-04-03T17:10:22.835Z"
   },
   {
    "duration": 0,
    "start_time": "2022-04-03T17:10:22.836Z"
   },
   {
    "duration": 0,
    "start_time": "2022-04-03T17:10:22.837Z"
   },
   {
    "duration": 0,
    "start_time": "2022-04-03T17:10:22.838Z"
   },
   {
    "duration": 0,
    "start_time": "2022-04-03T17:10:22.839Z"
   },
   {
    "duration": 0,
    "start_time": "2022-04-03T17:10:22.840Z"
   },
   {
    "duration": 0,
    "start_time": "2022-04-03T17:10:22.841Z"
   },
   {
    "duration": 0,
    "start_time": "2022-04-03T17:10:22.842Z"
   },
   {
    "duration": 0,
    "start_time": "2022-04-03T17:10:22.843Z"
   },
   {
    "duration": 0,
    "start_time": "2022-04-03T17:10:22.844Z"
   },
   {
    "duration": 0,
    "start_time": "2022-04-03T17:10:22.845Z"
   },
   {
    "duration": 0,
    "start_time": "2022-04-03T17:10:22.846Z"
   },
   {
    "duration": 0,
    "start_time": "2022-04-03T17:10:22.847Z"
   },
   {
    "duration": 0,
    "start_time": "2022-04-03T17:10:22.848Z"
   },
   {
    "duration": 0,
    "start_time": "2022-04-03T17:10:22.849Z"
   },
   {
    "duration": 0,
    "start_time": "2022-04-03T17:10:22.850Z"
   },
   {
    "duration": 0,
    "start_time": "2022-04-03T17:10:22.851Z"
   },
   {
    "duration": 0,
    "start_time": "2022-04-03T17:10:22.852Z"
   },
   {
    "duration": 13,
    "start_time": "2022-04-03T17:11:38.543Z"
   },
   {
    "duration": 18,
    "start_time": "2022-04-03T17:11:57.894Z"
   },
   {
    "duration": 8,
    "start_time": "2022-04-03T17:12:06.501Z"
   },
   {
    "duration": 1242,
    "start_time": "2022-04-03T17:13:00.500Z"
   },
   {
    "duration": 164,
    "start_time": "2022-04-03T17:13:01.744Z"
   },
   {
    "duration": 32,
    "start_time": "2022-04-03T17:13:01.910Z"
   },
   {
    "duration": 152,
    "start_time": "2022-04-03T17:13:01.944Z"
   },
   {
    "duration": 21,
    "start_time": "2022-04-03T17:13:02.098Z"
   },
   {
    "duration": 96,
    "start_time": "2022-04-03T17:13:02.121Z"
   },
   {
    "duration": 27,
    "start_time": "2022-04-03T17:13:02.219Z"
   },
   {
    "duration": 22,
    "start_time": "2022-04-03T17:13:02.248Z"
   },
   {
    "duration": 11,
    "start_time": "2022-04-03T17:13:02.271Z"
   },
   {
    "duration": 32,
    "start_time": "2022-04-03T17:13:02.284Z"
   },
   {
    "duration": 10,
    "start_time": "2022-04-03T17:13:02.318Z"
   },
   {
    "duration": 23,
    "start_time": "2022-04-03T17:13:02.330Z"
   },
   {
    "duration": 35,
    "start_time": "2022-04-03T17:13:02.355Z"
   },
   {
    "duration": 26,
    "start_time": "2022-04-03T17:13:02.392Z"
   },
   {
    "duration": 41,
    "start_time": "2022-04-03T17:13:02.420Z"
   },
   {
    "duration": 15,
    "start_time": "2022-04-03T17:13:02.462Z"
   },
   {
    "duration": 125,
    "start_time": "2022-04-03T17:13:02.479Z"
   },
   {
    "duration": 19,
    "start_time": "2022-04-03T17:13:02.605Z"
   },
   {
    "duration": 20,
    "start_time": "2022-04-03T17:13:02.626Z"
   },
   {
    "duration": 12,
    "start_time": "2022-04-03T17:13:02.648Z"
   },
   {
    "duration": 28,
    "start_time": "2022-04-03T17:13:02.662Z"
   },
   {
    "duration": 19,
    "start_time": "2022-04-03T17:13:02.692Z"
   },
   {
    "duration": 45,
    "start_time": "2022-04-03T17:13:02.713Z"
   },
   {
    "duration": 14,
    "start_time": "2022-04-03T17:13:02.759Z"
   },
   {
    "duration": 16,
    "start_time": "2022-04-03T17:13:02.774Z"
   },
   {
    "duration": 69,
    "start_time": "2022-04-03T17:13:02.792Z"
   },
   {
    "duration": 17,
    "start_time": "2022-04-03T17:13:02.863Z"
   },
   {
    "duration": 18,
    "start_time": "2022-04-03T17:13:02.884Z"
   },
   {
    "duration": 42,
    "start_time": "2022-04-03T17:13:02.904Z"
   },
   {
    "duration": 20,
    "start_time": "2022-04-03T17:13:02.948Z"
   },
   {
    "duration": 69,
    "start_time": "2022-04-03T17:13:02.970Z"
   },
   {
    "duration": 16,
    "start_time": "2022-04-03T17:13:03.041Z"
   },
   {
    "duration": 10,
    "start_time": "2022-04-03T17:13:03.058Z"
   },
   {
    "duration": 11,
    "start_time": "2022-04-03T17:13:03.070Z"
   },
   {
    "duration": 11,
    "start_time": "2022-04-03T17:13:03.083Z"
   },
   {
    "duration": 9,
    "start_time": "2022-04-03T17:13:03.096Z"
   },
   {
    "duration": 12,
    "start_time": "2022-04-03T17:13:03.106Z"
   },
   {
    "duration": 9,
    "start_time": "2022-04-03T17:13:03.137Z"
   },
   {
    "duration": 40,
    "start_time": "2022-04-03T17:13:03.148Z"
   },
   {
    "duration": 25,
    "start_time": "2022-04-03T17:13:03.190Z"
   },
   {
    "duration": 22,
    "start_time": "2022-04-03T17:13:03.239Z"
   },
   {
    "duration": 1837,
    "start_time": "2022-04-03T17:13:03.263Z"
   },
   {
    "duration": 0,
    "start_time": "2022-04-03T17:13:05.101Z"
   },
   {
    "duration": 0,
    "start_time": "2022-04-03T17:13:05.103Z"
   },
   {
    "duration": 0,
    "start_time": "2022-04-03T17:13:05.104Z"
   },
   {
    "duration": 0,
    "start_time": "2022-04-03T17:13:05.105Z"
   },
   {
    "duration": 0,
    "start_time": "2022-04-03T17:13:05.106Z"
   },
   {
    "duration": 0,
    "start_time": "2022-04-03T17:13:05.108Z"
   },
   {
    "duration": 0,
    "start_time": "2022-04-03T17:13:05.109Z"
   },
   {
    "duration": 0,
    "start_time": "2022-04-03T17:13:05.110Z"
   },
   {
    "duration": 0,
    "start_time": "2022-04-03T17:13:05.111Z"
   },
   {
    "duration": 0,
    "start_time": "2022-04-03T17:13:05.112Z"
   },
   {
    "duration": 0,
    "start_time": "2022-04-03T17:13:05.113Z"
   },
   {
    "duration": 0,
    "start_time": "2022-04-03T17:13:05.115Z"
   },
   {
    "duration": 1,
    "start_time": "2022-04-03T17:13:05.115Z"
   },
   {
    "duration": 0,
    "start_time": "2022-04-03T17:13:05.116Z"
   },
   {
    "duration": 0,
    "start_time": "2022-04-03T17:13:05.118Z"
   },
   {
    "duration": 0,
    "start_time": "2022-04-03T17:13:05.119Z"
   },
   {
    "duration": 0,
    "start_time": "2022-04-03T17:13:05.119Z"
   },
   {
    "duration": 0,
    "start_time": "2022-04-03T17:13:05.121Z"
   },
   {
    "duration": 1713,
    "start_time": "2022-04-03T17:13:50.920Z"
   },
   {
    "duration": 5,
    "start_time": "2022-04-03T17:14:05.885Z"
   },
   {
    "duration": 1168,
    "start_time": "2022-04-03T17:14:19.359Z"
   },
   {
    "duration": 153,
    "start_time": "2022-04-03T17:14:20.528Z"
   },
   {
    "duration": 26,
    "start_time": "2022-04-03T17:14:20.682Z"
   },
   {
    "duration": 142,
    "start_time": "2022-04-03T17:14:20.710Z"
   },
   {
    "duration": 21,
    "start_time": "2022-04-03T17:14:20.853Z"
   },
   {
    "duration": 95,
    "start_time": "2022-04-03T17:14:20.876Z"
   },
   {
    "duration": 17,
    "start_time": "2022-04-03T17:14:20.973Z"
   },
   {
    "duration": 14,
    "start_time": "2022-04-03T17:14:20.992Z"
   },
   {
    "duration": 10,
    "start_time": "2022-04-03T17:14:21.008Z"
   },
   {
    "duration": 25,
    "start_time": "2022-04-03T17:14:21.037Z"
   },
   {
    "duration": 10,
    "start_time": "2022-04-03T17:14:21.063Z"
   },
   {
    "duration": 8,
    "start_time": "2022-04-03T17:14:21.075Z"
   },
   {
    "duration": 36,
    "start_time": "2022-04-03T17:14:21.085Z"
   },
   {
    "duration": 25,
    "start_time": "2022-04-03T17:14:21.137Z"
   },
   {
    "duration": 30,
    "start_time": "2022-04-03T17:14:21.164Z"
   },
   {
    "duration": 15,
    "start_time": "2022-04-03T17:14:21.195Z"
   },
   {
    "duration": 140,
    "start_time": "2022-04-03T17:14:21.212Z"
   },
   {
    "duration": 18,
    "start_time": "2022-04-03T17:14:21.354Z"
   },
   {
    "duration": 29,
    "start_time": "2022-04-03T17:14:21.374Z"
   },
   {
    "duration": 24,
    "start_time": "2022-04-03T17:14:21.405Z"
   },
   {
    "duration": 46,
    "start_time": "2022-04-03T17:14:21.430Z"
   },
   {
    "duration": 21,
    "start_time": "2022-04-03T17:14:21.478Z"
   },
   {
    "duration": 23,
    "start_time": "2022-04-03T17:14:21.501Z"
   },
   {
    "duration": 14,
    "start_time": "2022-04-03T17:14:21.526Z"
   },
   {
    "duration": 13,
    "start_time": "2022-04-03T17:14:21.541Z"
   },
   {
    "duration": 51,
    "start_time": "2022-04-03T17:14:21.555Z"
   },
   {
    "duration": 34,
    "start_time": "2022-04-03T17:14:21.607Z"
   },
   {
    "duration": 18,
    "start_time": "2022-04-03T17:14:21.645Z"
   },
   {
    "duration": 18,
    "start_time": "2022-04-03T17:14:21.665Z"
   },
   {
    "duration": 21,
    "start_time": "2022-04-03T17:14:21.685Z"
   },
   {
    "duration": 76,
    "start_time": "2022-04-03T17:14:21.708Z"
   },
   {
    "duration": 15,
    "start_time": "2022-04-03T17:14:21.786Z"
   },
   {
    "duration": 36,
    "start_time": "2022-04-03T17:14:21.803Z"
   },
   {
    "duration": 8,
    "start_time": "2022-04-03T17:14:21.841Z"
   },
   {
    "duration": 11,
    "start_time": "2022-04-03T17:14:21.851Z"
   },
   {
    "duration": 8,
    "start_time": "2022-04-03T17:14:21.864Z"
   },
   {
    "duration": 5,
    "start_time": "2022-04-03T17:14:21.874Z"
   },
   {
    "duration": 13,
    "start_time": "2022-04-03T17:14:21.881Z"
   },
   {
    "duration": 48,
    "start_time": "2022-04-03T17:14:21.895Z"
   },
   {
    "duration": 21,
    "start_time": "2022-04-03T17:14:21.945Z"
   },
   {
    "duration": 19,
    "start_time": "2022-04-03T17:14:21.968Z"
   },
   {
    "duration": 4,
    "start_time": "2022-04-03T17:14:21.989Z"
   },
   {
    "duration": 61,
    "start_time": "2022-04-03T17:14:21.995Z"
   },
   {
    "duration": 12,
    "start_time": "2022-04-03T17:14:22.058Z"
   },
   {
    "duration": 6,
    "start_time": "2022-04-03T17:14:22.072Z"
   },
   {
    "duration": 5,
    "start_time": "2022-04-03T17:14:22.080Z"
   },
   {
    "duration": 2023,
    "start_time": "2022-04-03T17:14:22.087Z"
   },
   {
    "duration": 0,
    "start_time": "2022-04-03T17:14:24.112Z"
   },
   {
    "duration": 0,
    "start_time": "2022-04-03T17:14:24.113Z"
   },
   {
    "duration": 0,
    "start_time": "2022-04-03T17:14:24.114Z"
   },
   {
    "duration": 0,
    "start_time": "2022-04-03T17:14:24.116Z"
   },
   {
    "duration": 0,
    "start_time": "2022-04-03T17:14:24.117Z"
   },
   {
    "duration": 0,
    "start_time": "2022-04-03T17:14:24.118Z"
   },
   {
    "duration": 0,
    "start_time": "2022-04-03T17:14:24.119Z"
   },
   {
    "duration": 0,
    "start_time": "2022-04-03T17:14:24.120Z"
   },
   {
    "duration": 0,
    "start_time": "2022-04-03T17:14:24.121Z"
   },
   {
    "duration": 0,
    "start_time": "2022-04-03T17:14:24.122Z"
   },
   {
    "duration": 0,
    "start_time": "2022-04-03T17:14:24.123Z"
   },
   {
    "duration": 0,
    "start_time": "2022-04-03T17:14:24.124Z"
   },
   {
    "duration": 0,
    "start_time": "2022-04-03T17:14:24.125Z"
   },
   {
    "duration": 11,
    "start_time": "2022-04-03T17:14:44.601Z"
   },
   {
    "duration": 1172,
    "start_time": "2022-04-03T17:14:53.262Z"
   },
   {
    "duration": 150,
    "start_time": "2022-04-03T17:14:54.436Z"
   },
   {
    "duration": 25,
    "start_time": "2022-04-03T17:14:54.588Z"
   },
   {
    "duration": 141,
    "start_time": "2022-04-03T17:14:54.616Z"
   },
   {
    "duration": 22,
    "start_time": "2022-04-03T17:14:54.758Z"
   },
   {
    "duration": 92,
    "start_time": "2022-04-03T17:14:54.782Z"
   },
   {
    "duration": 18,
    "start_time": "2022-04-03T17:14:54.876Z"
   },
   {
    "duration": 15,
    "start_time": "2022-04-03T17:14:54.895Z"
   },
   {
    "duration": 27,
    "start_time": "2022-04-03T17:14:54.911Z"
   },
   {
    "duration": 24,
    "start_time": "2022-04-03T17:14:54.941Z"
   },
   {
    "duration": 10,
    "start_time": "2022-04-03T17:14:54.966Z"
   },
   {
    "duration": 10,
    "start_time": "2022-04-03T17:14:54.978Z"
   },
   {
    "duration": 48,
    "start_time": "2022-04-03T17:14:54.990Z"
   },
   {
    "duration": 26,
    "start_time": "2022-04-03T17:14:55.039Z"
   },
   {
    "duration": 29,
    "start_time": "2022-04-03T17:14:55.067Z"
   },
   {
    "duration": 13,
    "start_time": "2022-04-03T17:14:55.098Z"
   },
   {
    "duration": 136,
    "start_time": "2022-04-03T17:14:55.113Z"
   },
   {
    "duration": 18,
    "start_time": "2022-04-03T17:14:55.251Z"
   },
   {
    "duration": 10,
    "start_time": "2022-04-03T17:14:55.271Z"
   },
   {
    "duration": 8,
    "start_time": "2022-04-03T17:14:55.282Z"
   },
   {
    "duration": 22,
    "start_time": "2022-04-03T17:14:55.291Z"
   },
   {
    "duration": 20,
    "start_time": "2022-04-03T17:14:55.338Z"
   },
   {
    "duration": 24,
    "start_time": "2022-04-03T17:14:55.359Z"
   },
   {
    "duration": 13,
    "start_time": "2022-04-03T17:14:55.384Z"
   },
   {
    "duration": 31,
    "start_time": "2022-04-03T17:14:55.399Z"
   },
   {
    "duration": 68,
    "start_time": "2022-04-03T17:14:55.437Z"
   },
   {
    "duration": 16,
    "start_time": "2022-04-03T17:14:55.507Z"
   },
   {
    "duration": 36,
    "start_time": "2022-04-03T17:14:55.526Z"
   },
   {
    "duration": 38,
    "start_time": "2022-04-03T17:14:55.563Z"
   },
   {
    "duration": 33,
    "start_time": "2022-04-03T17:14:55.603Z"
   },
   {
    "duration": 67,
    "start_time": "2022-04-03T17:14:55.638Z"
   },
   {
    "duration": 15,
    "start_time": "2022-04-03T17:14:55.707Z"
   },
   {
    "duration": 14,
    "start_time": "2022-04-03T17:14:55.724Z"
   },
   {
    "duration": 28,
    "start_time": "2022-04-03T17:14:55.740Z"
   },
   {
    "duration": 20,
    "start_time": "2022-04-03T17:14:55.770Z"
   },
   {
    "duration": 16,
    "start_time": "2022-04-03T17:14:55.792Z"
   },
   {
    "duration": 15,
    "start_time": "2022-04-03T17:14:55.809Z"
   },
   {
    "duration": 15,
    "start_time": "2022-04-03T17:14:55.826Z"
   },
   {
    "duration": 46,
    "start_time": "2022-04-03T17:14:55.843Z"
   },
   {
    "duration": 23,
    "start_time": "2022-04-03T17:14:55.890Z"
   },
   {
    "duration": 24,
    "start_time": "2022-04-03T17:14:55.914Z"
   },
   {
    "duration": 10,
    "start_time": "2022-04-03T17:14:55.940Z"
   },
   {
    "duration": 44,
    "start_time": "2022-04-03T17:14:55.951Z"
   },
   {
    "duration": 13,
    "start_time": "2022-04-03T17:14:55.997Z"
   },
   {
    "duration": 29,
    "start_time": "2022-04-03T17:14:56.012Z"
   },
   {
    "duration": 7,
    "start_time": "2022-04-03T17:14:56.042Z"
   },
   {
    "duration": 1879,
    "start_time": "2022-04-03T17:14:56.051Z"
   },
   {
    "duration": 0,
    "start_time": "2022-04-03T17:14:57.931Z"
   },
   {
    "duration": 0,
    "start_time": "2022-04-03T17:14:57.933Z"
   },
   {
    "duration": 0,
    "start_time": "2022-04-03T17:14:57.934Z"
   },
   {
    "duration": 0,
    "start_time": "2022-04-03T17:14:57.935Z"
   },
   {
    "duration": 0,
    "start_time": "2022-04-03T17:14:57.936Z"
   },
   {
    "duration": 0,
    "start_time": "2022-04-03T17:14:57.937Z"
   },
   {
    "duration": 0,
    "start_time": "2022-04-03T17:14:57.938Z"
   },
   {
    "duration": 0,
    "start_time": "2022-04-03T17:14:57.939Z"
   },
   {
    "duration": 0,
    "start_time": "2022-04-03T17:14:57.939Z"
   },
   {
    "duration": 0,
    "start_time": "2022-04-03T17:14:57.941Z"
   },
   {
    "duration": 0,
    "start_time": "2022-04-03T17:14:57.941Z"
   },
   {
    "duration": 0,
    "start_time": "2022-04-03T17:14:57.943Z"
   },
   {
    "duration": 0,
    "start_time": "2022-04-03T17:14:57.943Z"
   },
   {
    "duration": 30,
    "start_time": "2022-04-03T17:18:40.660Z"
   },
   {
    "duration": 13,
    "start_time": "2022-04-03T17:19:07.781Z"
   },
   {
    "duration": 1140,
    "start_time": "2022-04-03T17:20:10.019Z"
   },
   {
    "duration": 161,
    "start_time": "2022-04-03T17:20:11.161Z"
   },
   {
    "duration": 27,
    "start_time": "2022-04-03T17:20:11.324Z"
   },
   {
    "duration": 150,
    "start_time": "2022-04-03T17:20:11.353Z"
   },
   {
    "duration": 32,
    "start_time": "2022-04-03T17:20:11.506Z"
   },
   {
    "duration": 87,
    "start_time": "2022-04-03T17:20:11.540Z"
   },
   {
    "duration": 24,
    "start_time": "2022-04-03T17:20:11.629Z"
   },
   {
    "duration": 14,
    "start_time": "2022-04-03T17:20:11.655Z"
   },
   {
    "duration": 8,
    "start_time": "2022-04-03T17:20:11.671Z"
   },
   {
    "duration": 25,
    "start_time": "2022-04-03T17:20:11.682Z"
   },
   {
    "duration": 10,
    "start_time": "2022-04-03T17:20:11.709Z"
   },
   {
    "duration": 21,
    "start_time": "2022-04-03T17:20:11.720Z"
   },
   {
    "duration": 33,
    "start_time": "2022-04-03T17:20:11.743Z"
   },
   {
    "duration": 24,
    "start_time": "2022-04-03T17:20:11.778Z"
   },
   {
    "duration": 44,
    "start_time": "2022-04-03T17:20:11.804Z"
   },
   {
    "duration": 14,
    "start_time": "2022-04-03T17:20:11.850Z"
   },
   {
    "duration": 116,
    "start_time": "2022-04-03T17:20:11.866Z"
   },
   {
    "duration": 20,
    "start_time": "2022-04-03T17:20:11.983Z"
   },
   {
    "duration": 10,
    "start_time": "2022-04-03T17:20:12.004Z"
   },
   {
    "duration": 29,
    "start_time": "2022-04-03T17:20:12.016Z"
   },
   {
    "duration": 23,
    "start_time": "2022-04-03T17:20:12.047Z"
   },
   {
    "duration": 20,
    "start_time": "2022-04-03T17:20:12.072Z"
   },
   {
    "duration": 46,
    "start_time": "2022-04-03T17:20:12.093Z"
   },
   {
    "duration": 15,
    "start_time": "2022-04-03T17:20:12.140Z"
   },
   {
    "duration": 12,
    "start_time": "2022-04-03T17:20:12.156Z"
   },
   {
    "duration": 73,
    "start_time": "2022-04-03T17:20:12.170Z"
   },
   {
    "duration": 16,
    "start_time": "2022-04-03T17:20:12.245Z"
   },
   {
    "duration": 18,
    "start_time": "2022-04-03T17:20:12.265Z"
   },
   {
    "duration": 17,
    "start_time": "2022-04-03T17:20:12.285Z"
   },
   {
    "duration": 45,
    "start_time": "2022-04-03T17:20:12.304Z"
   },
   {
    "duration": 47,
    "start_time": "2022-04-03T17:20:12.350Z"
   },
   {
    "duration": 16,
    "start_time": "2022-04-03T17:20:12.398Z"
   },
   {
    "duration": 10,
    "start_time": "2022-04-03T17:20:12.438Z"
   },
   {
    "duration": 6,
    "start_time": "2022-04-03T17:20:12.450Z"
   },
   {
    "duration": 10,
    "start_time": "2022-04-03T17:20:12.457Z"
   },
   {
    "duration": 8,
    "start_time": "2022-04-03T17:20:12.468Z"
   },
   {
    "duration": 13,
    "start_time": "2022-04-03T17:20:12.478Z"
   },
   {
    "duration": 21,
    "start_time": "2022-04-03T17:20:12.493Z"
   },
   {
    "duration": 43,
    "start_time": "2022-04-03T17:20:12.516Z"
   },
   {
    "duration": 22,
    "start_time": "2022-04-03T17:20:12.561Z"
   },
   {
    "duration": 16,
    "start_time": "2022-04-03T17:20:12.584Z"
   },
   {
    "duration": 10,
    "start_time": "2022-04-03T17:20:12.601Z"
   },
   {
    "duration": 55,
    "start_time": "2022-04-03T17:20:12.612Z"
   },
   {
    "duration": 13,
    "start_time": "2022-04-03T17:20:12.669Z"
   },
   {
    "duration": 6,
    "start_time": "2022-04-03T17:20:12.684Z"
   },
   {
    "duration": 4,
    "start_time": "2022-04-03T17:20:12.691Z"
   },
   {
    "duration": 1972,
    "start_time": "2022-04-03T17:20:12.697Z"
   },
   {
    "duration": 0,
    "start_time": "2022-04-03T17:20:14.671Z"
   },
   {
    "duration": 0,
    "start_time": "2022-04-03T17:20:14.672Z"
   },
   {
    "duration": 0,
    "start_time": "2022-04-03T17:20:14.673Z"
   },
   {
    "duration": 0,
    "start_time": "2022-04-03T17:20:14.674Z"
   },
   {
    "duration": 0,
    "start_time": "2022-04-03T17:20:14.675Z"
   },
   {
    "duration": 0,
    "start_time": "2022-04-03T17:20:14.676Z"
   },
   {
    "duration": 0,
    "start_time": "2022-04-03T17:20:14.677Z"
   },
   {
    "duration": 0,
    "start_time": "2022-04-03T17:20:14.678Z"
   },
   {
    "duration": 0,
    "start_time": "2022-04-03T17:20:14.679Z"
   },
   {
    "duration": 0,
    "start_time": "2022-04-03T17:20:14.680Z"
   },
   {
    "duration": 0,
    "start_time": "2022-04-03T17:20:14.681Z"
   },
   {
    "duration": 0,
    "start_time": "2022-04-03T17:20:14.682Z"
   },
   {
    "duration": 0,
    "start_time": "2022-04-03T17:20:14.683Z"
   },
   {
    "duration": 34,
    "start_time": "2022-04-03T17:21:46.072Z"
   },
   {
    "duration": 14,
    "start_time": "2022-04-03T17:21:52.515Z"
   },
   {
    "duration": 35,
    "start_time": "2022-04-03T17:22:48.595Z"
   },
   {
    "duration": 15,
    "start_time": "2022-04-03T17:22:53.033Z"
   },
   {
    "duration": 20,
    "start_time": "2022-04-03T17:27:11.171Z"
   },
   {
    "duration": 1161,
    "start_time": "2022-04-03T17:28:19.066Z"
   },
   {
    "duration": 147,
    "start_time": "2022-04-03T17:28:20.229Z"
   },
   {
    "duration": 24,
    "start_time": "2022-04-03T17:28:20.378Z"
   },
   {
    "duration": 138,
    "start_time": "2022-04-03T17:28:20.404Z"
   },
   {
    "duration": 20,
    "start_time": "2022-04-03T17:28:20.544Z"
   },
   {
    "duration": 92,
    "start_time": "2022-04-03T17:28:20.566Z"
   },
   {
    "duration": 18,
    "start_time": "2022-04-03T17:28:20.659Z"
   },
   {
    "duration": 14,
    "start_time": "2022-04-03T17:28:20.679Z"
   },
   {
    "duration": 9,
    "start_time": "2022-04-03T17:28:20.694Z"
   },
   {
    "duration": 33,
    "start_time": "2022-04-03T17:28:20.705Z"
   },
   {
    "duration": 10,
    "start_time": "2022-04-03T17:28:20.740Z"
   },
   {
    "duration": 11,
    "start_time": "2022-04-03T17:28:20.751Z"
   },
   {
    "duration": 39,
    "start_time": "2022-04-03T17:28:20.763Z"
   },
   {
    "duration": 42,
    "start_time": "2022-04-03T17:28:20.803Z"
   },
   {
    "duration": 27,
    "start_time": "2022-04-03T17:28:20.847Z"
   },
   {
    "duration": 14,
    "start_time": "2022-04-03T17:28:20.876Z"
   },
   {
    "duration": 130,
    "start_time": "2022-04-03T17:28:20.892Z"
   },
   {
    "duration": 23,
    "start_time": "2022-04-03T17:28:21.024Z"
   },
   {
    "duration": 10,
    "start_time": "2022-04-03T17:28:21.049Z"
   },
   {
    "duration": 9,
    "start_time": "2022-04-03T17:28:21.061Z"
   },
   {
    "duration": 22,
    "start_time": "2022-04-03T17:28:21.071Z"
   },
   {
    "duration": 52,
    "start_time": "2022-04-03T17:28:21.095Z"
   },
   {
    "duration": 24,
    "start_time": "2022-04-03T17:28:21.148Z"
   },
   {
    "duration": 14,
    "start_time": "2022-04-03T17:28:21.173Z"
   },
   {
    "duration": 11,
    "start_time": "2022-04-03T17:28:21.189Z"
   },
   {
    "duration": 75,
    "start_time": "2022-04-03T17:28:21.202Z"
   },
   {
    "duration": 17,
    "start_time": "2022-04-03T17:28:21.279Z"
   },
   {
    "duration": 40,
    "start_time": "2022-04-03T17:28:21.300Z"
   },
   {
    "duration": 17,
    "start_time": "2022-04-03T17:28:21.342Z"
   },
   {
    "duration": 21,
    "start_time": "2022-04-03T17:28:21.361Z"
   },
   {
    "duration": 72,
    "start_time": "2022-04-03T17:28:21.383Z"
   },
   {
    "duration": 16,
    "start_time": "2022-04-03T17:28:21.457Z"
   },
   {
    "duration": 9,
    "start_time": "2022-04-03T17:28:21.475Z"
   },
   {
    "duration": 4,
    "start_time": "2022-04-03T17:28:21.486Z"
   },
   {
    "duration": 11,
    "start_time": "2022-04-03T17:28:21.492Z"
   },
   {
    "duration": 15,
    "start_time": "2022-04-03T17:28:21.505Z"
   },
   {
    "duration": 20,
    "start_time": "2022-04-03T17:28:21.521Z"
   },
   {
    "duration": 10,
    "start_time": "2022-04-03T17:28:21.543Z"
   },
   {
    "duration": 34,
    "start_time": "2022-04-03T17:28:21.555Z"
   },
   {
    "duration": 47,
    "start_time": "2022-04-03T17:28:21.591Z"
   },
   {
    "duration": 16,
    "start_time": "2022-04-03T17:28:21.639Z"
   },
   {
    "duration": 10,
    "start_time": "2022-04-03T17:28:21.657Z"
   },
   {
    "duration": 47,
    "start_time": "2022-04-03T17:28:21.668Z"
   },
   {
    "duration": 29,
    "start_time": "2022-04-03T17:28:21.716Z"
   },
   {
    "duration": 19,
    "start_time": "2022-04-03T17:28:21.747Z"
   },
   {
    "duration": 6,
    "start_time": "2022-04-03T17:28:21.767Z"
   },
   {
    "duration": 114,
    "start_time": "2022-04-03T17:28:21.774Z"
   },
   {
    "duration": 6,
    "start_time": "2022-04-03T17:28:21.889Z"
   },
   {
    "duration": 21,
    "start_time": "2022-04-03T17:28:21.897Z"
   },
   {
    "duration": 226,
    "start_time": "2022-04-03T17:28:21.920Z"
   },
   {
    "duration": 20,
    "start_time": "2022-04-03T17:28:22.148Z"
   },
   {
    "duration": 216,
    "start_time": "2022-04-03T17:28:22.170Z"
   },
   {
    "duration": 109,
    "start_time": "2022-04-03T17:28:22.388Z"
   },
   {
    "duration": 0,
    "start_time": "2022-04-03T17:28:22.499Z"
   },
   {
    "duration": 0,
    "start_time": "2022-04-03T17:28:22.501Z"
   },
   {
    "duration": 0,
    "start_time": "2022-04-03T17:28:22.502Z"
   },
   {
    "duration": 0,
    "start_time": "2022-04-03T17:28:22.503Z"
   },
   {
    "duration": 0,
    "start_time": "2022-04-03T17:28:22.505Z"
   },
   {
    "duration": 125,
    "start_time": "2022-04-03T17:32:38.676Z"
   },
   {
    "duration": 33,
    "start_time": "2022-04-03T17:32:46.339Z"
   },
   {
    "duration": 12,
    "start_time": "2022-04-03T17:33:19.438Z"
   },
   {
    "duration": 1178,
    "start_time": "2022-04-03T17:33:45.973Z"
   },
   {
    "duration": 154,
    "start_time": "2022-04-03T17:33:47.153Z"
   },
   {
    "duration": 29,
    "start_time": "2022-04-03T17:33:47.309Z"
   },
   {
    "duration": 140,
    "start_time": "2022-04-03T17:33:47.341Z"
   },
   {
    "duration": 20,
    "start_time": "2022-04-03T17:33:47.483Z"
   },
   {
    "duration": 100,
    "start_time": "2022-04-03T17:33:47.505Z"
   },
   {
    "duration": 18,
    "start_time": "2022-04-03T17:33:47.607Z"
   },
   {
    "duration": 24,
    "start_time": "2022-04-03T17:33:47.627Z"
   },
   {
    "duration": 10,
    "start_time": "2022-04-03T17:33:47.653Z"
   },
   {
    "duration": 28,
    "start_time": "2022-04-03T17:33:47.665Z"
   },
   {
    "duration": 11,
    "start_time": "2022-04-03T17:33:47.695Z"
   },
   {
    "duration": 9,
    "start_time": "2022-04-03T17:33:47.708Z"
   },
   {
    "duration": 53,
    "start_time": "2022-04-03T17:33:47.719Z"
   },
   {
    "duration": 27,
    "start_time": "2022-04-03T17:33:47.773Z"
   },
   {
    "duration": 46,
    "start_time": "2022-04-03T17:33:47.801Z"
   },
   {
    "duration": 15,
    "start_time": "2022-04-03T17:33:47.849Z"
   },
   {
    "duration": 133,
    "start_time": "2022-04-03T17:33:47.866Z"
   },
   {
    "duration": 20,
    "start_time": "2022-04-03T17:33:48.001Z"
   },
   {
    "duration": 24,
    "start_time": "2022-04-03T17:33:48.023Z"
   },
   {
    "duration": 10,
    "start_time": "2022-04-03T17:33:48.048Z"
   },
   {
    "duration": 27,
    "start_time": "2022-04-03T17:33:48.060Z"
   },
   {
    "duration": 21,
    "start_time": "2022-04-03T17:33:48.089Z"
   },
   {
    "duration": 50,
    "start_time": "2022-04-03T17:33:48.112Z"
   },
   {
    "duration": 15,
    "start_time": "2022-04-03T17:33:48.164Z"
   },
   {
    "duration": 14,
    "start_time": "2022-04-03T17:33:48.181Z"
   },
   {
    "duration": 74,
    "start_time": "2022-04-03T17:33:48.197Z"
   },
   {
    "duration": 17,
    "start_time": "2022-04-03T17:33:48.273Z"
   },
   {
    "duration": 20,
    "start_time": "2022-04-03T17:33:48.293Z"
   },
   {
    "duration": 18,
    "start_time": "2022-04-03T17:33:48.338Z"
   },
   {
    "duration": 21,
    "start_time": "2022-04-03T17:33:48.358Z"
   },
   {
    "duration": 76,
    "start_time": "2022-04-03T17:33:48.380Z"
   },
   {
    "duration": 16,
    "start_time": "2022-04-03T17:33:48.458Z"
   },
   {
    "duration": 10,
    "start_time": "2022-04-03T17:33:48.476Z"
   },
   {
    "duration": 7,
    "start_time": "2022-04-03T17:33:48.487Z"
   },
   {
    "duration": 9,
    "start_time": "2022-04-03T17:33:48.495Z"
   },
   {
    "duration": 8,
    "start_time": "2022-04-03T17:33:48.505Z"
   },
   {
    "duration": 5,
    "start_time": "2022-04-03T17:33:48.538Z"
   },
   {
    "duration": 10,
    "start_time": "2022-04-03T17:33:48.544Z"
   },
   {
    "duration": 36,
    "start_time": "2022-04-03T17:33:48.556Z"
   },
   {
    "duration": 44,
    "start_time": "2022-04-03T17:33:48.594Z"
   },
   {
    "duration": 16,
    "start_time": "2022-04-03T17:33:48.640Z"
   },
   {
    "duration": 10,
    "start_time": "2022-04-03T17:33:48.657Z"
   },
   {
    "duration": 35,
    "start_time": "2022-04-03T17:33:48.669Z"
   },
   {
    "duration": 33,
    "start_time": "2022-04-03T17:33:48.705Z"
   },
   {
    "duration": 20,
    "start_time": "2022-04-03T17:33:48.739Z"
   },
   {
    "duration": 13,
    "start_time": "2022-04-03T17:33:48.761Z"
   },
   {
    "duration": 100,
    "start_time": "2022-04-03T17:33:48.776Z"
   },
   {
    "duration": 7,
    "start_time": "2022-04-03T17:33:48.877Z"
   },
   {
    "duration": 24,
    "start_time": "2022-04-03T17:33:48.886Z"
   },
   {
    "duration": 226,
    "start_time": "2022-04-03T17:33:48.912Z"
   },
   {
    "duration": 21,
    "start_time": "2022-04-03T17:33:49.139Z"
   },
   {
    "duration": 221,
    "start_time": "2022-04-03T17:33:49.162Z"
   },
   {
    "duration": 106,
    "start_time": "2022-04-03T17:33:49.385Z"
   },
   {
    "duration": 0,
    "start_time": "2022-04-03T17:33:49.493Z"
   },
   {
    "duration": 0,
    "start_time": "2022-04-03T17:33:49.494Z"
   },
   {
    "duration": 0,
    "start_time": "2022-04-03T17:33:49.495Z"
   },
   {
    "duration": 0,
    "start_time": "2022-04-03T17:33:49.496Z"
   },
   {
    "duration": 0,
    "start_time": "2022-04-03T17:33:49.497Z"
   },
   {
    "duration": 85,
    "start_time": "2022-04-03T17:35:16.814Z"
   },
   {
    "duration": 20,
    "start_time": "2022-04-03T17:39:44.784Z"
   },
   {
    "duration": 1718,
    "start_time": "2022-04-03T17:39:47.164Z"
   },
   {
    "duration": 196,
    "start_time": "2022-04-03T17:39:58.144Z"
   },
   {
    "duration": 5,
    "start_time": "2022-04-03T17:44:13.669Z"
   },
   {
    "duration": 20,
    "start_time": "2022-04-03T17:44:30.906Z"
   },
   {
    "duration": 8,
    "start_time": "2022-04-03T17:48:04.908Z"
   },
   {
    "duration": 24,
    "start_time": "2022-04-03T17:49:09.549Z"
   },
   {
    "duration": 1219,
    "start_time": "2022-04-03T17:51:58.117Z"
   },
   {
    "duration": 154,
    "start_time": "2022-04-03T17:51:59.338Z"
   },
   {
    "duration": 27,
    "start_time": "2022-04-03T17:51:59.494Z"
   },
   {
    "duration": 147,
    "start_time": "2022-04-03T17:51:59.524Z"
   },
   {
    "duration": 22,
    "start_time": "2022-04-03T17:51:59.673Z"
   },
   {
    "duration": 98,
    "start_time": "2022-04-03T17:51:59.697Z"
   },
   {
    "duration": 20,
    "start_time": "2022-04-03T17:51:59.797Z"
   },
   {
    "duration": 24,
    "start_time": "2022-04-03T17:51:59.819Z"
   },
   {
    "duration": 11,
    "start_time": "2022-04-03T17:51:59.846Z"
   },
   {
    "duration": 27,
    "start_time": "2022-04-03T17:51:59.859Z"
   },
   {
    "duration": 10,
    "start_time": "2022-04-03T17:51:59.888Z"
   },
   {
    "duration": 11,
    "start_time": "2022-04-03T17:51:59.900Z"
   },
   {
    "duration": 49,
    "start_time": "2022-04-03T17:51:59.912Z"
   },
   {
    "duration": 25,
    "start_time": "2022-04-03T17:51:59.963Z"
   },
   {
    "duration": 30,
    "start_time": "2022-04-03T17:51:59.990Z"
   },
   {
    "duration": 15,
    "start_time": "2022-04-03T17:52:00.039Z"
   },
   {
    "duration": 129,
    "start_time": "2022-04-03T17:52:00.056Z"
   },
   {
    "duration": 19,
    "start_time": "2022-04-03T17:52:00.187Z"
   },
   {
    "duration": 23,
    "start_time": "2022-04-03T17:52:00.208Z"
   },
   {
    "duration": 19,
    "start_time": "2022-04-03T17:52:00.238Z"
   },
   {
    "duration": 40,
    "start_time": "2022-04-03T17:52:00.259Z"
   },
   {
    "duration": 29,
    "start_time": "2022-04-03T17:52:00.301Z"
   },
   {
    "duration": 25,
    "start_time": "2022-04-03T17:52:00.332Z"
   },
   {
    "duration": 14,
    "start_time": "2022-04-03T17:52:00.358Z"
   },
   {
    "duration": 24,
    "start_time": "2022-04-03T17:52:00.374Z"
   },
   {
    "duration": 63,
    "start_time": "2022-04-03T17:52:00.400Z"
   },
   {
    "duration": 16,
    "start_time": "2022-04-03T17:52:00.465Z"
   },
   {
    "duration": 20,
    "start_time": "2022-04-03T17:52:00.485Z"
   },
   {
    "duration": 33,
    "start_time": "2022-04-03T17:52:00.506Z"
   },
   {
    "duration": 31,
    "start_time": "2022-04-03T17:52:00.540Z"
   },
   {
    "duration": 54,
    "start_time": "2022-04-03T17:52:00.573Z"
   },
   {
    "duration": 21,
    "start_time": "2022-04-03T17:52:00.629Z"
   },
   {
    "duration": 10,
    "start_time": "2022-04-03T17:52:00.651Z"
   },
   {
    "duration": 11,
    "start_time": "2022-04-03T17:52:00.663Z"
   },
   {
    "duration": 17,
    "start_time": "2022-04-03T17:52:00.676Z"
   },
   {
    "duration": 18,
    "start_time": "2022-04-03T17:52:00.694Z"
   },
   {
    "duration": 25,
    "start_time": "2022-04-03T17:52:00.713Z"
   },
   {
    "duration": 21,
    "start_time": "2022-04-03T17:52:00.740Z"
   },
   {
    "duration": 50,
    "start_time": "2022-04-03T17:52:00.763Z"
   },
   {
    "duration": 23,
    "start_time": "2022-04-03T17:52:00.815Z"
   },
   {
    "duration": 19,
    "start_time": "2022-04-03T17:52:00.839Z"
   },
   {
    "duration": 10,
    "start_time": "2022-04-03T17:52:00.860Z"
   },
   {
    "duration": 37,
    "start_time": "2022-04-03T17:52:00.871Z"
   },
   {
    "duration": 12,
    "start_time": "2022-04-03T17:52:00.910Z"
   },
   {
    "duration": 19,
    "start_time": "2022-04-03T17:52:00.938Z"
   },
   {
    "duration": 4,
    "start_time": "2022-04-03T17:52:00.960Z"
   },
   {
    "duration": 113,
    "start_time": "2022-04-03T17:52:00.966Z"
   },
   {
    "duration": 6,
    "start_time": "2022-04-03T17:52:01.081Z"
   },
   {
    "duration": 32,
    "start_time": "2022-04-03T17:52:01.088Z"
   },
   {
    "duration": 229,
    "start_time": "2022-04-03T17:52:01.122Z"
   },
   {
    "duration": 21,
    "start_time": "2022-04-03T17:52:01.352Z"
   },
   {
    "duration": 225,
    "start_time": "2022-04-03T17:52:01.375Z"
   },
   {
    "duration": 24,
    "start_time": "2022-04-03T17:52:01.602Z"
   },
   {
    "duration": 225,
    "start_time": "2022-04-03T17:52:01.639Z"
   },
   {
    "duration": 6,
    "start_time": "2022-04-03T17:52:01.867Z"
   },
   {
    "duration": 42,
    "start_time": "2022-04-03T17:52:01.875Z"
   },
   {
    "duration": 20,
    "start_time": "2022-04-03T17:52:01.919Z"
   },
   {
    "duration": 27,
    "start_time": "2022-04-03T17:52:01.941Z"
   },
   {
    "duration": 1493,
    "start_time": "2022-04-03T20:52:12.407Z"
   },
   {
    "duration": 219,
    "start_time": "2022-04-03T20:52:13.903Z"
   },
   {
    "duration": 34,
    "start_time": "2022-04-03T20:52:14.125Z"
   },
   {
    "duration": 185,
    "start_time": "2022-04-03T20:52:14.183Z"
   },
   {
    "duration": 35,
    "start_time": "2022-04-03T20:52:14.374Z"
   },
   {
    "duration": 132,
    "start_time": "2022-04-03T20:52:14.412Z"
   },
   {
    "duration": 39,
    "start_time": "2022-04-03T20:52:14.546Z"
   },
   {
    "duration": 21,
    "start_time": "2022-04-03T20:52:14.588Z"
   },
   {
    "duration": 14,
    "start_time": "2022-04-03T20:52:14.611Z"
   },
   {
    "duration": 46,
    "start_time": "2022-04-03T20:52:14.629Z"
   },
   {
    "duration": 17,
    "start_time": "2022-04-03T20:52:14.677Z"
   },
   {
    "duration": 9,
    "start_time": "2022-04-03T20:52:14.696Z"
   },
   {
    "duration": 83,
    "start_time": "2022-04-03T20:52:14.707Z"
   },
   {
    "duration": 36,
    "start_time": "2022-04-03T20:52:14.792Z"
   },
   {
    "duration": 65,
    "start_time": "2022-04-03T20:52:14.830Z"
   },
   {
    "duration": 18,
    "start_time": "2022-04-03T20:52:14.897Z"
   },
   {
    "duration": 170,
    "start_time": "2022-04-03T20:52:14.917Z"
   },
   {
    "duration": 26,
    "start_time": "2022-04-03T20:52:15.090Z"
   },
   {
    "duration": 15,
    "start_time": "2022-04-03T20:52:15.118Z"
   },
   {
    "duration": 41,
    "start_time": "2022-04-03T20:52:15.135Z"
   },
   {
    "duration": 51,
    "start_time": "2022-04-03T20:52:15.178Z"
   },
   {
    "duration": 29,
    "start_time": "2022-04-03T20:52:15.231Z"
   },
   {
    "duration": 46,
    "start_time": "2022-04-03T20:52:15.262Z"
   },
   {
    "duration": 18,
    "start_time": "2022-04-03T20:52:15.310Z"
   },
   {
    "duration": 52,
    "start_time": "2022-04-03T20:52:15.330Z"
   },
   {
    "duration": 72,
    "start_time": "2022-04-03T20:52:15.387Z"
   },
   {
    "duration": 40,
    "start_time": "2022-04-03T20:52:15.461Z"
   },
   {
    "duration": 30,
    "start_time": "2022-04-03T20:52:15.508Z"
   },
   {
    "duration": 54,
    "start_time": "2022-04-03T20:52:15.540Z"
   },
   {
    "duration": 31,
    "start_time": "2022-04-03T20:52:15.597Z"
   },
   {
    "duration": 101,
    "start_time": "2022-04-03T20:52:15.631Z"
   },
   {
    "duration": 43,
    "start_time": "2022-04-03T20:52:15.734Z"
   },
   {
    "duration": 17,
    "start_time": "2022-04-03T20:52:15.780Z"
   },
   {
    "duration": 15,
    "start_time": "2022-04-03T20:52:15.799Z"
   },
   {
    "duration": 23,
    "start_time": "2022-04-03T20:52:15.816Z"
   },
   {
    "duration": 16,
    "start_time": "2022-04-03T20:52:15.841Z"
   },
   {
    "duration": 14,
    "start_time": "2022-04-03T20:52:15.860Z"
   },
   {
    "duration": 25,
    "start_time": "2022-04-03T20:52:15.878Z"
   },
   {
    "duration": 58,
    "start_time": "2022-04-03T20:52:15.905Z"
   },
   {
    "duration": 38,
    "start_time": "2022-04-03T20:52:15.965Z"
   },
   {
    "duration": 22,
    "start_time": "2022-04-03T20:52:16.005Z"
   },
   {
    "duration": 14,
    "start_time": "2022-04-03T20:52:16.030Z"
   },
   {
    "duration": 82,
    "start_time": "2022-04-03T20:52:16.046Z"
   },
   {
    "duration": 18,
    "start_time": "2022-04-03T20:52:16.130Z"
   },
   {
    "duration": 31,
    "start_time": "2022-04-03T20:52:16.179Z"
   },
   {
    "duration": 9,
    "start_time": "2022-04-03T20:52:16.213Z"
   },
   {
    "duration": 184,
    "start_time": "2022-04-03T20:52:16.224Z"
   },
   {
    "duration": 7,
    "start_time": "2022-04-03T20:52:16.410Z"
   },
   {
    "duration": 31,
    "start_time": "2022-04-03T20:52:16.419Z"
   },
   {
    "duration": 394,
    "start_time": "2022-04-03T20:52:16.452Z"
   },
   {
    "duration": 45,
    "start_time": "2022-04-03T20:52:16.848Z"
   },
   {
    "duration": 379,
    "start_time": "2022-04-03T20:52:16.895Z"
   },
   {
    "duration": 36,
    "start_time": "2022-04-03T20:52:17.277Z"
   },
   {
    "duration": 532,
    "start_time": "2022-04-03T20:52:17.315Z"
   },
   {
    "duration": 9,
    "start_time": "2022-04-03T20:52:17.850Z"
   },
   {
    "duration": 52,
    "start_time": "2022-04-03T20:52:17.862Z"
   },
   {
    "duration": 12,
    "start_time": "2022-04-03T20:52:17.917Z"
   },
   {
    "duration": 73,
    "start_time": "2022-04-03T20:52:17.932Z"
   },
   {
    "duration": 12,
    "start_time": "2022-04-03T20:53:51.452Z"
   },
   {
    "duration": 18,
    "start_time": "2022-04-03T20:59:05.003Z"
   },
   {
    "duration": 25,
    "start_time": "2022-04-03T21:01:29.218Z"
   },
   {
    "duration": 8,
    "start_time": "2022-04-03T21:04:07.771Z"
   },
   {
    "duration": 8,
    "start_time": "2022-04-03T21:04:18.484Z"
   },
   {
    "duration": 7,
    "start_time": "2022-04-03T21:04:33.130Z"
   },
   {
    "duration": 8,
    "start_time": "2022-04-03T21:05:52.163Z"
   },
   {
    "duration": 8,
    "start_time": "2022-04-03T21:06:01.594Z"
   },
   {
    "duration": 9,
    "start_time": "2022-04-03T21:06:25.522Z"
   },
   {
    "duration": 1492,
    "start_time": "2022-04-03T21:07:48.207Z"
   },
   {
    "duration": 218,
    "start_time": "2022-04-03T21:07:49.702Z"
   },
   {
    "duration": 36,
    "start_time": "2022-04-03T21:07:49.922Z"
   },
   {
    "duration": 188,
    "start_time": "2022-04-03T21:07:49.977Z"
   },
   {
    "duration": 42,
    "start_time": "2022-04-03T21:07:50.168Z"
   },
   {
    "duration": 124,
    "start_time": "2022-04-03T21:07:50.212Z"
   },
   {
    "duration": 46,
    "start_time": "2022-04-03T21:07:50.339Z"
   },
   {
    "duration": 21,
    "start_time": "2022-04-03T21:07:50.388Z"
   },
   {
    "duration": 15,
    "start_time": "2022-04-03T21:07:50.412Z"
   },
   {
    "duration": 55,
    "start_time": "2022-04-03T21:07:50.433Z"
   },
   {
    "duration": 16,
    "start_time": "2022-04-03T21:07:50.491Z"
   },
   {
    "duration": 9,
    "start_time": "2022-04-03T21:07:50.509Z"
   },
   {
    "duration": 86,
    "start_time": "2022-04-03T21:07:50.520Z"
   },
   {
    "duration": 36,
    "start_time": "2022-04-03T21:07:50.608Z"
   },
   {
    "duration": 60,
    "start_time": "2022-04-03T21:07:50.646Z"
   },
   {
    "duration": 17,
    "start_time": "2022-04-03T21:07:50.708Z"
   },
   {
    "duration": 164,
    "start_time": "2022-04-03T21:07:50.727Z"
   },
   {
    "duration": 27,
    "start_time": "2022-04-03T21:07:50.894Z"
   },
   {
    "duration": 15,
    "start_time": "2022-04-03T21:07:50.923Z"
   },
   {
    "duration": 50,
    "start_time": "2022-04-03T21:07:50.940Z"
   },
   {
    "duration": 35,
    "start_time": "2022-04-03T21:07:50.993Z"
   },
   {
    "duration": 57,
    "start_time": "2022-04-03T21:07:51.030Z"
   },
   {
    "duration": 36,
    "start_time": "2022-04-03T21:07:51.089Z"
   },
   {
    "duration": 17,
    "start_time": "2022-04-03T21:07:51.128Z"
   },
   {
    "duration": 23,
    "start_time": "2022-04-03T21:07:51.174Z"
   },
   {
    "duration": 90,
    "start_time": "2022-04-03T21:07:51.200Z"
   },
   {
    "duration": 23,
    "start_time": "2022-04-03T21:07:51.292Z"
   },
   {
    "duration": 28,
    "start_time": "2022-04-03T21:07:51.321Z"
   },
   {
    "duration": 28,
    "start_time": "2022-04-03T21:07:51.373Z"
   },
   {
    "duration": 29,
    "start_time": "2022-04-03T21:07:51.403Z"
   },
   {
    "duration": 94,
    "start_time": "2022-04-03T21:07:51.435Z"
   },
   {
    "duration": 21,
    "start_time": "2022-04-03T21:07:51.531Z"
   },
   {
    "duration": 32,
    "start_time": "2022-04-03T21:07:51.555Z"
   },
   {
    "duration": 9,
    "start_time": "2022-04-03T21:07:51.589Z"
   },
   {
    "duration": 10,
    "start_time": "2022-04-03T21:07:51.600Z"
   },
   {
    "duration": 10,
    "start_time": "2022-04-03T21:07:51.612Z"
   },
   {
    "duration": 6,
    "start_time": "2022-04-03T21:07:51.624Z"
   },
   {
    "duration": 51,
    "start_time": "2022-04-03T21:07:51.632Z"
   },
   {
    "duration": 62,
    "start_time": "2022-04-03T21:07:51.686Z"
   },
   {
    "duration": 45,
    "start_time": "2022-04-03T21:07:51.750Z"
   },
   {
    "duration": 20,
    "start_time": "2022-04-03T21:07:51.797Z"
   },
   {
    "duration": 13,
    "start_time": "2022-04-03T21:07:51.820Z"
   },
   {
    "duration": 76,
    "start_time": "2022-04-03T21:07:51.836Z"
   },
   {
    "duration": 17,
    "start_time": "2022-04-03T21:07:51.914Z"
   },
   {
    "duration": 52,
    "start_time": "2022-04-03T21:07:51.933Z"
   },
   {
    "duration": 9,
    "start_time": "2022-04-03T21:07:51.989Z"
   },
   {
    "duration": 165,
    "start_time": "2022-04-03T21:07:52.001Z"
   },
   {
    "duration": 13,
    "start_time": "2022-04-03T21:07:52.168Z"
   },
   {
    "duration": 37,
    "start_time": "2022-04-03T21:07:52.183Z"
   },
   {
    "duration": 381,
    "start_time": "2022-04-03T21:07:52.222Z"
   },
   {
    "duration": 30,
    "start_time": "2022-04-03T21:07:52.606Z"
   },
   {
    "duration": 380,
    "start_time": "2022-04-03T21:07:52.638Z"
   },
   {
    "duration": 31,
    "start_time": "2022-04-03T21:07:53.021Z"
   },
   {
    "duration": 371,
    "start_time": "2022-04-03T21:07:53.055Z"
   },
   {
    "duration": 9,
    "start_time": "2022-04-03T21:07:53.429Z"
   },
   {
    "duration": 22,
    "start_time": "2022-04-03T21:07:53.440Z"
   },
   {
    "duration": 38,
    "start_time": "2022-04-03T21:07:53.473Z"
   },
   {
    "duration": 11,
    "start_time": "2022-04-03T21:07:53.513Z"
   },
   {
    "duration": 63,
    "start_time": "2022-04-03T21:07:53.526Z"
   },
   {
    "duration": 1515,
    "start_time": "2022-04-03T21:09:17.081Z"
   },
   {
    "duration": 211,
    "start_time": "2022-04-03T21:09:18.599Z"
   },
   {
    "duration": 33,
    "start_time": "2022-04-03T21:09:18.813Z"
   },
   {
    "duration": 194,
    "start_time": "2022-04-03T21:09:18.850Z"
   },
   {
    "duration": 33,
    "start_time": "2022-04-03T21:09:19.046Z"
   },
   {
    "duration": 126,
    "start_time": "2022-04-03T21:09:19.081Z"
   },
   {
    "duration": 26,
    "start_time": "2022-04-03T21:09:19.209Z"
   },
   {
    "duration": 36,
    "start_time": "2022-04-03T21:09:19.237Z"
   },
   {
    "duration": 15,
    "start_time": "2022-04-03T21:09:19.275Z"
   },
   {
    "duration": 33,
    "start_time": "2022-04-03T21:09:19.294Z"
   },
   {
    "duration": 15,
    "start_time": "2022-04-03T21:09:19.329Z"
   },
   {
    "duration": 30,
    "start_time": "2022-04-03T21:09:19.346Z"
   },
   {
    "duration": 48,
    "start_time": "2022-04-03T21:09:19.379Z"
   },
   {
    "duration": 56,
    "start_time": "2022-04-03T21:09:19.429Z"
   },
   {
    "duration": 39,
    "start_time": "2022-04-03T21:09:19.488Z"
   },
   {
    "duration": 17,
    "start_time": "2022-04-03T21:09:19.530Z"
   },
   {
    "duration": 145,
    "start_time": "2022-04-03T21:09:19.574Z"
   },
   {
    "duration": 26,
    "start_time": "2022-04-03T21:09:19.721Z"
   },
   {
    "duration": 36,
    "start_time": "2022-04-03T21:09:19.749Z"
   },
   {
    "duration": 12,
    "start_time": "2022-04-03T21:09:19.788Z"
   },
   {
    "duration": 36,
    "start_time": "2022-04-03T21:09:19.803Z"
   },
   {
    "duration": 49,
    "start_time": "2022-04-03T21:09:19.842Z"
   },
   {
    "duration": 33,
    "start_time": "2022-04-03T21:09:19.894Z"
   },
   {
    "duration": 45,
    "start_time": "2022-04-03T21:09:19.930Z"
   },
   {
    "duration": 17,
    "start_time": "2022-04-03T21:09:19.977Z"
   },
   {
    "duration": 89,
    "start_time": "2022-04-03T21:09:19.997Z"
   },
   {
    "duration": 23,
    "start_time": "2022-04-03T21:09:20.088Z"
   },
   {
    "duration": 27,
    "start_time": "2022-04-03T21:09:20.116Z"
   },
   {
    "duration": 48,
    "start_time": "2022-04-03T21:09:20.146Z"
   },
   {
    "duration": 28,
    "start_time": "2022-04-03T21:09:20.196Z"
   },
   {
    "duration": 96,
    "start_time": "2022-04-03T21:09:20.227Z"
   },
   {
    "duration": 21,
    "start_time": "2022-04-03T21:09:20.325Z"
   },
   {
    "duration": 31,
    "start_time": "2022-04-03T21:09:20.348Z"
   },
   {
    "duration": 7,
    "start_time": "2022-04-03T21:09:20.382Z"
   },
   {
    "duration": 9,
    "start_time": "2022-04-03T21:09:20.391Z"
   },
   {
    "duration": 9,
    "start_time": "2022-04-03T21:09:20.403Z"
   },
   {
    "duration": 7,
    "start_time": "2022-04-03T21:09:20.414Z"
   },
   {
    "duration": 55,
    "start_time": "2022-04-03T21:09:20.423Z"
   },
   {
    "duration": 49,
    "start_time": "2022-04-03T21:09:20.480Z"
   },
   {
    "duration": 55,
    "start_time": "2022-04-03T21:09:20.531Z"
   },
   {
    "duration": 22,
    "start_time": "2022-04-03T21:09:20.588Z"
   },
   {
    "duration": 14,
    "start_time": "2022-04-03T21:09:20.612Z"
   },
   {
    "duration": 79,
    "start_time": "2022-04-03T21:09:20.628Z"
   },
   {
    "duration": 17,
    "start_time": "2022-04-03T21:09:20.709Z"
   },
   {
    "duration": 53,
    "start_time": "2022-04-03T21:09:20.728Z"
   },
   {
    "duration": 7,
    "start_time": "2022-04-03T21:09:20.783Z"
   },
   {
    "duration": 166,
    "start_time": "2022-04-03T21:09:20.792Z"
   },
   {
    "duration": 16,
    "start_time": "2022-04-03T21:09:20.960Z"
   },
   {
    "duration": 31,
    "start_time": "2022-04-03T21:09:20.978Z"
   },
   {
    "duration": 372,
    "start_time": "2022-04-03T21:09:21.012Z"
   },
   {
    "duration": 33,
    "start_time": "2022-04-03T21:09:21.386Z"
   },
   {
    "duration": 375,
    "start_time": "2022-04-03T21:09:21.421Z"
   },
   {
    "duration": 34,
    "start_time": "2022-04-03T21:09:21.799Z"
   },
   {
    "duration": 375,
    "start_time": "2022-04-03T21:09:21.835Z"
   },
   {
    "duration": 8,
    "start_time": "2022-04-03T21:09:22.212Z"
   },
   {
    "duration": 18,
    "start_time": "2022-04-03T21:09:22.222Z"
   },
   {
    "duration": 51,
    "start_time": "2022-04-03T21:09:22.241Z"
   },
   {
    "duration": 11,
    "start_time": "2022-04-03T21:09:22.294Z"
   },
   {
    "duration": 39,
    "start_time": "2022-04-03T21:09:22.307Z"
   },
   {
    "duration": 1167,
    "start_time": "2022-04-04T15:05:43.982Z"
   },
   {
    "duration": 151,
    "start_time": "2022-04-04T15:05:45.152Z"
   },
   {
    "duration": 26,
    "start_time": "2022-04-04T15:05:45.305Z"
   },
   {
    "duration": 137,
    "start_time": "2022-04-04T15:05:45.333Z"
   },
   {
    "duration": 22,
    "start_time": "2022-04-04T15:05:45.471Z"
   },
   {
    "duration": 91,
    "start_time": "2022-04-04T15:05:45.495Z"
   },
   {
    "duration": 19,
    "start_time": "2022-04-04T15:05:45.588Z"
   },
   {
    "duration": 15,
    "start_time": "2022-04-04T15:05:45.609Z"
   },
   {
    "duration": 10,
    "start_time": "2022-04-04T15:05:45.625Z"
   },
   {
    "duration": 35,
    "start_time": "2022-04-04T15:05:45.638Z"
   },
   {
    "duration": 10,
    "start_time": "2022-04-04T15:05:45.675Z"
   },
   {
    "duration": 11,
    "start_time": "2022-04-04T15:05:45.686Z"
   },
   {
    "duration": 35,
    "start_time": "2022-04-04T15:05:45.699Z"
   },
   {
    "duration": 41,
    "start_time": "2022-04-04T15:05:45.736Z"
   },
   {
    "duration": 27,
    "start_time": "2022-04-04T15:05:45.779Z"
   },
   {
    "duration": 12,
    "start_time": "2022-04-04T15:05:45.808Z"
   },
   {
    "duration": 138,
    "start_time": "2022-04-04T15:05:45.822Z"
   },
   {
    "duration": 20,
    "start_time": "2022-04-04T15:05:45.963Z"
   },
   {
    "duration": 10,
    "start_time": "2022-04-04T15:05:45.985Z"
   },
   {
    "duration": 10,
    "start_time": "2022-04-04T15:05:45.997Z"
   },
   {
    "duration": 26,
    "start_time": "2022-04-04T15:05:46.009Z"
   },
   {
    "duration": 46,
    "start_time": "2022-04-04T15:05:46.037Z"
   },
   {
    "duration": 24,
    "start_time": "2022-04-04T15:05:46.084Z"
   },
   {
    "duration": 12,
    "start_time": "2022-04-04T15:05:46.110Z"
   },
   {
    "duration": 40,
    "start_time": "2022-04-04T15:05:46.123Z"
   },
   {
    "duration": 45,
    "start_time": "2022-04-04T15:05:46.165Z"
   },
   {
    "duration": 15,
    "start_time": "2022-04-04T15:05:46.212Z"
   },
   {
    "duration": 44,
    "start_time": "2022-04-04T15:05:46.230Z"
   },
   {
    "duration": 16,
    "start_time": "2022-04-04T15:05:46.276Z"
   },
   {
    "duration": 20,
    "start_time": "2022-04-04T15:05:46.294Z"
   },
   {
    "duration": 63,
    "start_time": "2022-04-04T15:05:46.315Z"
   },
   {
    "duration": 16,
    "start_time": "2022-04-04T15:05:46.379Z"
   },
   {
    "duration": 10,
    "start_time": "2022-04-04T15:05:46.396Z"
   },
   {
    "duration": 7,
    "start_time": "2022-04-04T15:05:46.407Z"
   },
   {
    "duration": 8,
    "start_time": "2022-04-04T15:05:46.416Z"
   },
   {
    "duration": 8,
    "start_time": "2022-04-04T15:05:46.425Z"
   },
   {
    "duration": 29,
    "start_time": "2022-04-04T15:05:46.435Z"
   },
   {
    "duration": 7,
    "start_time": "2022-04-04T15:05:46.465Z"
   },
   {
    "duration": 36,
    "start_time": "2022-04-04T15:05:46.473Z"
   },
   {
    "duration": 21,
    "start_time": "2022-04-04T15:05:46.510Z"
   },
   {
    "duration": 39,
    "start_time": "2022-04-04T15:05:46.533Z"
   },
   {
    "duration": 10,
    "start_time": "2022-04-04T15:05:46.574Z"
   },
   {
    "duration": 36,
    "start_time": "2022-04-04T15:05:46.585Z"
   },
   {
    "duration": 12,
    "start_time": "2022-04-04T15:05:46.623Z"
   },
   {
    "duration": 39,
    "start_time": "2022-04-04T15:05:46.637Z"
   },
   {
    "duration": 6,
    "start_time": "2022-04-04T15:05:46.678Z"
   },
   {
    "duration": 100,
    "start_time": "2022-04-04T15:05:46.686Z"
   },
   {
    "duration": 6,
    "start_time": "2022-04-04T15:05:46.788Z"
   },
   {
    "duration": 26,
    "start_time": "2022-04-04T15:05:46.796Z"
   },
   {
    "duration": 215,
    "start_time": "2022-04-04T15:05:46.824Z"
   },
   {
    "duration": 29,
    "start_time": "2022-04-04T15:05:47.041Z"
   },
   {
    "duration": 201,
    "start_time": "2022-04-04T15:05:47.072Z"
   },
   {
    "duration": 19,
    "start_time": "2022-04-04T15:05:47.276Z"
   },
   {
    "duration": 209,
    "start_time": "2022-04-04T15:05:47.297Z"
   },
   {
    "duration": 7,
    "start_time": "2022-04-04T15:05:47.508Z"
   },
   {
    "duration": 8,
    "start_time": "2022-04-04T15:05:47.517Z"
   },
   {
    "duration": 40,
    "start_time": "2022-04-04T15:05:47.527Z"
   },
   {
    "duration": 8,
    "start_time": "2022-04-04T15:05:47.569Z"
   },
   {
    "duration": 28,
    "start_time": "2022-04-04T15:05:47.579Z"
   },
   {
    "duration": 6,
    "start_time": "2022-04-04T15:06:39.055Z"
   },
   {
    "duration": 5,
    "start_time": "2022-04-04T15:06:47.581Z"
   },
   {
    "duration": 4,
    "start_time": "2022-04-04T15:07:31.891Z"
   },
   {
    "duration": 4,
    "start_time": "2022-04-04T15:08:06.266Z"
   },
   {
    "duration": 1138,
    "start_time": "2022-04-04T15:15:20.011Z"
   },
   {
    "duration": 153,
    "start_time": "2022-04-04T15:15:21.151Z"
   },
   {
    "duration": 25,
    "start_time": "2022-04-04T15:15:21.305Z"
   },
   {
    "duration": 135,
    "start_time": "2022-04-04T15:15:21.332Z"
   },
   {
    "duration": 20,
    "start_time": "2022-04-04T15:15:21.469Z"
   },
   {
    "duration": 92,
    "start_time": "2022-04-04T15:15:21.491Z"
   },
   {
    "duration": 17,
    "start_time": "2022-04-04T15:15:21.585Z"
   },
   {
    "duration": 14,
    "start_time": "2022-04-04T15:15:21.604Z"
   },
   {
    "duration": 9,
    "start_time": "2022-04-04T15:15:21.619Z"
   },
   {
    "duration": 33,
    "start_time": "2022-04-04T15:15:21.630Z"
   },
   {
    "duration": 10,
    "start_time": "2022-04-04T15:15:21.665Z"
   },
   {
    "duration": 9,
    "start_time": "2022-04-04T15:15:21.676Z"
   },
   {
    "duration": 34,
    "start_time": "2022-04-04T15:15:21.686Z"
   },
   {
    "duration": 42,
    "start_time": "2022-04-04T15:15:21.721Z"
   },
   {
    "duration": 27,
    "start_time": "2022-04-04T15:15:21.765Z"
   },
   {
    "duration": 12,
    "start_time": "2022-04-04T15:15:21.794Z"
   },
   {
    "duration": 121,
    "start_time": "2022-04-04T15:15:21.807Z"
   },
   {
    "duration": 18,
    "start_time": "2022-04-04T15:15:21.929Z"
   },
   {
    "duration": 18,
    "start_time": "2022-04-04T15:15:21.948Z"
   },
   {
    "duration": 9,
    "start_time": "2022-04-04T15:15:21.968Z"
   },
   {
    "duration": 25,
    "start_time": "2022-04-04T15:15:21.979Z"
   },
   {
    "duration": 19,
    "start_time": "2022-04-04T15:15:22.006Z"
   },
   {
    "duration": 48,
    "start_time": "2022-04-04T15:15:22.027Z"
   },
   {
    "duration": 12,
    "start_time": "2022-04-04T15:15:22.076Z"
   },
   {
    "duration": 15,
    "start_time": "2022-04-04T15:15:22.090Z"
   },
   {
    "duration": 62,
    "start_time": "2022-04-04T15:15:22.106Z"
   },
   {
    "duration": 16,
    "start_time": "2022-04-04T15:15:22.170Z"
   },
   {
    "duration": 18,
    "start_time": "2022-04-04T15:15:22.190Z"
   },
   {
    "duration": 16,
    "start_time": "2022-04-04T15:15:22.210Z"
   },
   {
    "duration": 44,
    "start_time": "2022-04-04T15:15:22.228Z"
   },
   {
    "duration": 48,
    "start_time": "2022-04-04T15:15:22.274Z"
   },
   {
    "duration": 14,
    "start_time": "2022-04-04T15:15:22.324Z"
   },
   {
    "duration": 30,
    "start_time": "2022-04-04T15:15:22.339Z"
   },
   {
    "duration": 11,
    "start_time": "2022-04-04T15:15:22.371Z"
   },
   {
    "duration": 10,
    "start_time": "2022-04-04T15:15:22.384Z"
   },
   {
    "duration": 9,
    "start_time": "2022-04-04T15:15:22.395Z"
   },
   {
    "duration": 10,
    "start_time": "2022-04-04T15:15:22.405Z"
   },
   {
    "duration": 9,
    "start_time": "2022-04-04T15:15:22.416Z"
   },
   {
    "duration": 49,
    "start_time": "2022-04-04T15:15:22.426Z"
   },
   {
    "duration": 24,
    "start_time": "2022-04-04T15:15:22.476Z"
   },
   {
    "duration": 15,
    "start_time": "2022-04-04T15:15:22.501Z"
   },
   {
    "duration": 9,
    "start_time": "2022-04-04T15:15:22.517Z"
   },
   {
    "duration": 50,
    "start_time": "2022-04-04T15:15:22.528Z"
   },
   {
    "duration": 11,
    "start_time": "2022-04-04T15:15:22.580Z"
   },
   {
    "duration": 25,
    "start_time": "2022-04-04T15:15:22.593Z"
   },
   {
    "duration": 5,
    "start_time": "2022-04-04T15:15:22.620Z"
   },
   {
    "duration": 102,
    "start_time": "2022-04-04T15:15:22.626Z"
   },
   {
    "duration": 4,
    "start_time": "2022-04-04T15:15:22.730Z"
   },
   {
    "duration": 9,
    "start_time": "2022-04-04T15:15:22.736Z"
   },
   {
    "duration": 27,
    "start_time": "2022-04-04T15:15:22.746Z"
   },
   {
    "duration": 204,
    "start_time": "2022-04-04T15:15:22.775Z"
   },
   {
    "duration": 20,
    "start_time": "2022-04-04T15:15:22.980Z"
   },
   {
    "duration": 201,
    "start_time": "2022-04-04T15:15:23.001Z"
   },
   {
    "duration": 18,
    "start_time": "2022-04-04T15:15:23.204Z"
   },
   {
    "duration": 205,
    "start_time": "2022-04-04T15:15:23.224Z"
   },
   {
    "duration": 5,
    "start_time": "2022-04-04T15:15:23.431Z"
   },
   {
    "duration": 9,
    "start_time": "2022-04-04T15:15:23.438Z"
   },
   {
    "duration": 32,
    "start_time": "2022-04-04T15:15:23.448Z"
   },
   {
    "duration": 7,
    "start_time": "2022-04-04T15:15:23.481Z"
   },
   {
    "duration": 21,
    "start_time": "2022-04-04T15:15:23.490Z"
   },
   {
    "duration": 7,
    "start_time": "2022-04-04T15:17:31.614Z"
   },
   {
    "duration": 10,
    "start_time": "2022-04-04T15:18:02.630Z"
   },
   {
    "duration": 4,
    "start_time": "2022-04-04T15:20:25.141Z"
   },
   {
    "duration": 1244,
    "start_time": "2022-04-04T15:20:31.822Z"
   },
   {
    "duration": 172,
    "start_time": "2022-04-04T15:20:33.068Z"
   },
   {
    "duration": 25,
    "start_time": "2022-04-04T15:20:33.242Z"
   },
   {
    "duration": 155,
    "start_time": "2022-04-04T15:20:33.269Z"
   },
   {
    "duration": 21,
    "start_time": "2022-04-04T15:20:33.426Z"
   },
   {
    "duration": 88,
    "start_time": "2022-04-04T15:20:33.462Z"
   },
   {
    "duration": 23,
    "start_time": "2022-04-04T15:20:33.552Z"
   },
   {
    "duration": 22,
    "start_time": "2022-04-04T15:20:33.577Z"
   },
   {
    "duration": 10,
    "start_time": "2022-04-04T15:20:33.600Z"
   },
   {
    "duration": 28,
    "start_time": "2022-04-04T15:20:33.613Z"
   },
   {
    "duration": 11,
    "start_time": "2022-04-04T15:20:33.642Z"
   },
   {
    "duration": 13,
    "start_time": "2022-04-04T15:20:33.654Z"
   },
   {
    "duration": 34,
    "start_time": "2022-04-04T15:20:33.669Z"
   },
   {
    "duration": 25,
    "start_time": "2022-04-04T15:20:33.704Z"
   },
   {
    "duration": 49,
    "start_time": "2022-04-04T15:20:33.731Z"
   },
   {
    "duration": 14,
    "start_time": "2022-04-04T15:20:33.782Z"
   },
   {
    "duration": 130,
    "start_time": "2022-04-04T15:20:33.798Z"
   },
   {
    "duration": 20,
    "start_time": "2022-04-04T15:20:33.930Z"
   },
   {
    "duration": 22,
    "start_time": "2022-04-04T15:20:33.951Z"
   },
   {
    "duration": 12,
    "start_time": "2022-04-04T15:20:33.975Z"
   },
   {
    "duration": 36,
    "start_time": "2022-04-04T15:20:33.989Z"
   },
   {
    "duration": 49,
    "start_time": "2022-04-04T15:20:34.027Z"
   },
   {
    "duration": 24,
    "start_time": "2022-04-04T15:20:34.078Z"
   },
   {
    "duration": 13,
    "start_time": "2022-04-04T15:20:34.103Z"
   },
   {
    "duration": 13,
    "start_time": "2022-04-04T15:20:34.118Z"
   },
   {
    "duration": 68,
    "start_time": "2022-04-04T15:20:34.133Z"
   },
   {
    "duration": 16,
    "start_time": "2022-04-04T15:20:34.203Z"
   },
   {
    "duration": 18,
    "start_time": "2022-04-04T15:20:34.223Z"
   },
   {
    "duration": 17,
    "start_time": "2022-04-04T15:20:34.262Z"
   },
   {
    "duration": 20,
    "start_time": "2022-04-04T15:20:34.281Z"
   },
   {
    "duration": 72,
    "start_time": "2022-04-04T15:20:34.303Z"
   },
   {
    "duration": 16,
    "start_time": "2022-04-04T15:20:34.376Z"
   },
   {
    "duration": 9,
    "start_time": "2022-04-04T15:20:34.393Z"
   },
   {
    "duration": 8,
    "start_time": "2022-04-04T15:20:34.404Z"
   },
   {
    "duration": 9,
    "start_time": "2022-04-04T15:20:34.413Z"
   },
   {
    "duration": 8,
    "start_time": "2022-04-04T15:20:34.423Z"
   },
   {
    "duration": 9,
    "start_time": "2022-04-04T15:20:34.432Z"
   },
   {
    "duration": 6,
    "start_time": "2022-04-04T15:20:34.464Z"
   },
   {
    "duration": 35,
    "start_time": "2022-04-04T15:20:34.471Z"
   },
   {
    "duration": 22,
    "start_time": "2022-04-04T15:20:34.507Z"
   },
   {
    "duration": 39,
    "start_time": "2022-04-04T15:20:34.531Z"
   },
   {
    "duration": 10,
    "start_time": "2022-04-04T15:20:34.572Z"
   },
   {
    "duration": 30,
    "start_time": "2022-04-04T15:20:34.583Z"
   },
   {
    "duration": 12,
    "start_time": "2022-04-04T15:20:34.615Z"
   },
   {
    "duration": 44,
    "start_time": "2022-04-04T15:20:34.628Z"
   },
   {
    "duration": 8,
    "start_time": "2022-04-04T15:20:34.673Z"
   },
   {
    "duration": 89,
    "start_time": "2022-04-04T15:20:34.682Z"
   },
   {
    "duration": 4,
    "start_time": "2022-04-04T15:20:34.772Z"
   },
   {
    "duration": 10,
    "start_time": "2022-04-04T15:20:34.778Z"
   },
   {
    "duration": 21,
    "start_time": "2022-04-04T15:20:34.789Z"
   },
   {
    "duration": 211,
    "start_time": "2022-04-04T15:20:34.811Z"
   },
   {
    "duration": 20,
    "start_time": "2022-04-04T15:20:35.024Z"
   },
   {
    "duration": 197,
    "start_time": "2022-04-04T15:20:35.046Z"
   },
   {
    "duration": 27,
    "start_time": "2022-04-04T15:20:35.244Z"
   },
   {
    "duration": 183,
    "start_time": "2022-04-04T15:20:35.273Z"
   },
   {
    "duration": 5,
    "start_time": "2022-04-04T15:20:35.462Z"
   },
   {
    "duration": 16,
    "start_time": "2022-04-04T15:20:35.469Z"
   },
   {
    "duration": 24,
    "start_time": "2022-04-04T15:20:35.487Z"
   },
   {
    "duration": 7,
    "start_time": "2022-04-04T15:20:35.512Z"
   },
   {
    "duration": 30,
    "start_time": "2022-04-04T15:20:35.521Z"
   },
   {
    "duration": 1143,
    "start_time": "2022-04-04T15:22:25.737Z"
   },
   {
    "duration": 152,
    "start_time": "2022-04-04T15:22:26.882Z"
   },
   {
    "duration": 35,
    "start_time": "2022-04-04T15:22:27.036Z"
   },
   {
    "duration": 133,
    "start_time": "2022-04-04T15:22:27.073Z"
   },
   {
    "duration": 21,
    "start_time": "2022-04-04T15:22:27.208Z"
   },
   {
    "duration": 91,
    "start_time": "2022-04-04T15:22:27.230Z"
   },
   {
    "duration": 19,
    "start_time": "2022-04-04T15:22:27.323Z"
   },
   {
    "duration": 24,
    "start_time": "2022-04-04T15:22:27.344Z"
   },
   {
    "duration": 11,
    "start_time": "2022-04-04T15:22:27.370Z"
   },
   {
    "duration": 26,
    "start_time": "2022-04-04T15:22:27.385Z"
   },
   {
    "duration": 9,
    "start_time": "2022-04-04T15:22:27.413Z"
   },
   {
    "duration": 13,
    "start_time": "2022-04-04T15:22:27.424Z"
   },
   {
    "duration": 45,
    "start_time": "2022-04-04T15:22:27.439Z"
   },
   {
    "duration": 25,
    "start_time": "2022-04-04T15:22:27.486Z"
   },
   {
    "duration": 28,
    "start_time": "2022-04-04T15:22:27.512Z"
   },
   {
    "duration": 33,
    "start_time": "2022-04-04T15:22:27.541Z"
   },
   {
    "duration": 112,
    "start_time": "2022-04-04T15:22:27.575Z"
   },
   {
    "duration": 18,
    "start_time": "2022-04-04T15:22:27.688Z"
   },
   {
    "duration": 11,
    "start_time": "2022-04-04T15:22:27.707Z"
   },
   {
    "duration": 10,
    "start_time": "2022-04-04T15:22:27.719Z"
   },
   {
    "duration": 43,
    "start_time": "2022-04-04T15:22:27.730Z"
   },
   {
    "duration": 19,
    "start_time": "2022-04-04T15:22:27.775Z"
   },
   {
    "duration": 22,
    "start_time": "2022-04-04T15:22:27.796Z"
   },
   {
    "duration": 13,
    "start_time": "2022-04-04T15:22:27.819Z"
   },
   {
    "duration": 38,
    "start_time": "2022-04-04T15:22:27.833Z"
   },
   {
    "duration": 43,
    "start_time": "2022-04-04T15:22:27.873Z"
   },
   {
    "duration": 16,
    "start_time": "2022-04-04T15:22:27.917Z"
   },
   {
    "duration": 39,
    "start_time": "2022-04-04T15:22:27.936Z"
   },
   {
    "duration": 15,
    "start_time": "2022-04-04T15:22:27.977Z"
   },
   {
    "duration": 19,
    "start_time": "2022-04-04T15:22:27.993Z"
   },
   {
    "duration": 64,
    "start_time": "2022-04-04T15:22:28.014Z"
   },
   {
    "duration": 15,
    "start_time": "2022-04-04T15:22:28.080Z"
   },
   {
    "duration": 9,
    "start_time": "2022-04-04T15:22:28.096Z"
   },
   {
    "duration": 12,
    "start_time": "2022-04-04T15:22:28.107Z"
   },
   {
    "duration": 13,
    "start_time": "2022-04-04T15:22:28.121Z"
   },
   {
    "duration": 15,
    "start_time": "2022-04-04T15:22:28.136Z"
   },
   {
    "duration": 10,
    "start_time": "2022-04-04T15:22:28.153Z"
   },
   {
    "duration": 14,
    "start_time": "2022-04-04T15:22:28.165Z"
   },
   {
    "duration": 41,
    "start_time": "2022-04-04T15:22:28.181Z"
   },
   {
    "duration": 21,
    "start_time": "2022-04-04T15:22:28.224Z"
   },
   {
    "duration": 27,
    "start_time": "2022-04-04T15:22:28.247Z"
   },
   {
    "duration": 9,
    "start_time": "2022-04-04T15:22:28.276Z"
   },
   {
    "duration": 51,
    "start_time": "2022-04-04T15:22:28.286Z"
   },
   {
    "duration": 11,
    "start_time": "2022-04-04T15:22:28.339Z"
   },
   {
    "duration": 33,
    "start_time": "2022-04-04T15:22:28.351Z"
   },
   {
    "duration": 7,
    "start_time": "2022-04-04T15:22:28.386Z"
   },
   {
    "duration": 94,
    "start_time": "2022-04-04T15:22:28.394Z"
   },
   {
    "duration": 5,
    "start_time": "2022-04-04T15:22:28.490Z"
   },
   {
    "duration": 23,
    "start_time": "2022-04-04T15:22:28.497Z"
   },
   {
    "duration": 197,
    "start_time": "2022-04-04T15:22:28.521Z"
   },
   {
    "duration": 19,
    "start_time": "2022-04-04T15:22:28.719Z"
   },
   {
    "duration": 194,
    "start_time": "2022-04-04T15:22:28.740Z"
   },
   {
    "duration": 28,
    "start_time": "2022-04-04T15:22:28.936Z"
   },
   {
    "duration": 177,
    "start_time": "2022-04-04T15:22:28.965Z"
   },
   {
    "duration": 4,
    "start_time": "2022-04-04T15:22:29.144Z"
   },
   {
    "duration": 16,
    "start_time": "2022-04-04T15:22:29.150Z"
   },
   {
    "duration": 18,
    "start_time": "2022-04-04T15:22:29.167Z"
   },
   {
    "duration": 6,
    "start_time": "2022-04-04T15:22:29.187Z"
   },
   {
    "duration": 21,
    "start_time": "2022-04-04T15:22:29.195Z"
   },
   {
    "duration": 4,
    "start_time": "2022-04-04T15:26:54.002Z"
   },
   {
    "duration": 8,
    "start_time": "2022-04-04T15:27:26.531Z"
   },
   {
    "duration": 8,
    "start_time": "2022-04-04T15:27:37.771Z"
   },
   {
    "duration": 18,
    "start_time": "2022-04-04T15:27:41.851Z"
   },
   {
    "duration": 17,
    "start_time": "2022-04-04T15:28:17.351Z"
   },
   {
    "duration": 8,
    "start_time": "2022-04-04T15:28:24.534Z"
   },
   {
    "duration": 19,
    "start_time": "2022-04-04T15:28:29.206Z"
   },
   {
    "duration": 5,
    "start_time": "2022-04-04T15:28:47.520Z"
   },
   {
    "duration": 7,
    "start_time": "2022-04-04T15:30:24.830Z"
   },
   {
    "duration": 7,
    "start_time": "2022-04-04T15:39:53.049Z"
   },
   {
    "duration": 3,
    "start_time": "2022-04-04T15:40:21.092Z"
   },
   {
    "duration": 84,
    "start_time": "2022-04-04T15:40:31.712Z"
   },
   {
    "duration": 109,
    "start_time": "2022-04-04T15:40:45.712Z"
   },
   {
    "duration": 4,
    "start_time": "2022-04-04T15:43:31.821Z"
   },
   {
    "duration": 155,
    "start_time": "2022-04-04T15:43:32.684Z"
   },
   {
    "duration": 165,
    "start_time": "2022-04-04T15:43:38.751Z"
   },
   {
    "duration": 4,
    "start_time": "2022-04-04T15:43:53.669Z"
   },
   {
    "duration": 5,
    "start_time": "2022-04-04T15:47:15.925Z"
   },
   {
    "duration": 17,
    "start_time": "2022-04-04T15:49:37.666Z"
   },
   {
    "duration": 18,
    "start_time": "2022-04-04T15:50:34.577Z"
   },
   {
    "duration": 5,
    "start_time": "2022-04-04T15:51:22.666Z"
   },
   {
    "duration": 94,
    "start_time": "2022-04-04T15:51:25.002Z"
   },
   {
    "duration": 4,
    "start_time": "2022-04-04T15:51:27.605Z"
   },
   {
    "duration": 189,
    "start_time": "2022-04-04T15:59:59.621Z"
   },
   {
    "duration": 6,
    "start_time": "2022-04-04T16:00:24.608Z"
   },
   {
    "duration": 4,
    "start_time": "2022-04-04T16:00:48.465Z"
   },
   {
    "duration": 4,
    "start_time": "2022-04-04T16:00:51.698Z"
   },
   {
    "duration": 83,
    "start_time": "2022-04-04T16:00:53.279Z"
   },
   {
    "duration": 5,
    "start_time": "2022-04-04T16:00:54.006Z"
   },
   {
    "duration": 5,
    "start_time": "2022-04-04T16:00:56.342Z"
   },
   {
    "duration": 167,
    "start_time": "2022-04-04T16:01:15.176Z"
   },
   {
    "duration": 6,
    "start_time": "2022-04-04T16:01:55.448Z"
   },
   {
    "duration": 88,
    "start_time": "2022-04-04T16:01:58.692Z"
   },
   {
    "duration": 5,
    "start_time": "2022-04-04T16:01:59.612Z"
   },
   {
    "duration": 4,
    "start_time": "2022-04-04T16:02:00.274Z"
   },
   {
    "duration": 184,
    "start_time": "2022-04-04T16:02:01.016Z"
   },
   {
    "duration": 169,
    "start_time": "2022-04-04T16:02:07.178Z"
   },
   {
    "duration": 4,
    "start_time": "2022-04-04T16:04:55.307Z"
   },
   {
    "duration": 82,
    "start_time": "2022-04-04T16:04:57.080Z"
   },
   {
    "duration": 5,
    "start_time": "2022-04-04T16:05:00.637Z"
   },
   {
    "duration": 4,
    "start_time": "2022-04-04T16:05:02.999Z"
   },
   {
    "duration": 167,
    "start_time": "2022-04-04T16:05:04.108Z"
   },
   {
    "duration": 1141,
    "start_time": "2022-04-04T16:09:31.509Z"
   },
   {
    "duration": 152,
    "start_time": "2022-04-04T16:09:32.652Z"
   },
   {
    "duration": 26,
    "start_time": "2022-04-04T16:09:32.806Z"
   },
   {
    "duration": 140,
    "start_time": "2022-04-04T16:09:32.834Z"
   },
   {
    "duration": 21,
    "start_time": "2022-04-04T16:09:32.976Z"
   },
   {
    "duration": 92,
    "start_time": "2022-04-04T16:09:32.998Z"
   },
   {
    "duration": 18,
    "start_time": "2022-04-04T16:09:33.092Z"
   },
   {
    "duration": 15,
    "start_time": "2022-04-04T16:09:33.112Z"
   },
   {
    "duration": 10,
    "start_time": "2022-04-04T16:09:33.128Z"
   },
   {
    "duration": 45,
    "start_time": "2022-04-04T16:09:33.141Z"
   },
   {
    "duration": 11,
    "start_time": "2022-04-04T16:09:33.187Z"
   },
   {
    "duration": 9,
    "start_time": "2022-04-04T16:09:33.199Z"
   },
   {
    "duration": 34,
    "start_time": "2022-04-04T16:09:33.209Z"
   },
   {
    "duration": 32,
    "start_time": "2022-04-04T16:09:33.244Z"
   },
   {
    "duration": 26,
    "start_time": "2022-04-04T16:09:33.278Z"
   },
   {
    "duration": 12,
    "start_time": "2022-04-04T16:09:33.306Z"
   },
   {
    "duration": 120,
    "start_time": "2022-04-04T16:09:33.320Z"
   },
   {
    "duration": 28,
    "start_time": "2022-04-04T16:09:33.441Z"
   },
   {
    "duration": 10,
    "start_time": "2022-04-04T16:09:33.470Z"
   },
   {
    "duration": 8,
    "start_time": "2022-04-04T16:09:33.481Z"
   },
   {
    "duration": 26,
    "start_time": "2022-04-04T16:09:33.491Z"
   },
   {
    "duration": 19,
    "start_time": "2022-04-04T16:09:33.519Z"
   },
   {
    "duration": 43,
    "start_time": "2022-04-04T16:09:33.539Z"
   },
   {
    "duration": 13,
    "start_time": "2022-04-04T16:09:33.584Z"
   },
   {
    "duration": 12,
    "start_time": "2022-04-04T16:09:33.599Z"
   },
   {
    "duration": 75,
    "start_time": "2022-04-04T16:09:33.613Z"
   },
   {
    "duration": 17,
    "start_time": "2022-04-04T16:09:33.690Z"
   },
   {
    "duration": 19,
    "start_time": "2022-04-04T16:09:33.712Z"
   },
   {
    "duration": 41,
    "start_time": "2022-04-04T16:09:33.733Z"
   },
   {
    "duration": 21,
    "start_time": "2022-04-04T16:09:33.776Z"
   },
   {
    "duration": 45,
    "start_time": "2022-04-04T16:09:33.799Z"
   },
   {
    "duration": 16,
    "start_time": "2022-04-04T16:09:33.862Z"
   },
   {
    "duration": 9,
    "start_time": "2022-04-04T16:09:33.880Z"
   },
   {
    "duration": 4,
    "start_time": "2022-04-04T16:09:33.892Z"
   },
   {
    "duration": 8,
    "start_time": "2022-04-04T16:09:33.898Z"
   },
   {
    "duration": 7,
    "start_time": "2022-04-04T16:09:33.907Z"
   },
   {
    "duration": 8,
    "start_time": "2022-04-04T16:09:33.916Z"
   },
   {
    "duration": 38,
    "start_time": "2022-04-04T16:09:33.925Z"
   },
   {
    "duration": 34,
    "start_time": "2022-04-04T16:09:33.965Z"
   },
   {
    "duration": 21,
    "start_time": "2022-04-04T16:09:34.001Z"
   },
   {
    "duration": 14,
    "start_time": "2022-04-04T16:09:34.023Z"
   },
   {
    "duration": 31,
    "start_time": "2022-04-04T16:09:34.039Z"
   },
   {
    "duration": 31,
    "start_time": "2022-04-04T16:09:34.072Z"
   },
   {
    "duration": 10,
    "start_time": "2022-04-04T16:09:34.105Z"
   },
   {
    "duration": 20,
    "start_time": "2022-04-04T16:09:34.116Z"
   },
   {
    "duration": 5,
    "start_time": "2022-04-04T16:09:34.137Z"
   },
   {
    "duration": 78,
    "start_time": "2022-04-04T16:09:34.163Z"
   },
   {
    "duration": 4,
    "start_time": "2022-04-04T16:09:34.242Z"
   },
   {
    "duration": 4,
    "start_time": "2022-04-04T16:09:34.263Z"
   },
   {
    "duration": 171,
    "start_time": "2022-04-04T16:09:34.268Z"
   },
   {
    "duration": 23,
    "start_time": "2022-04-04T16:09:34.441Z"
   },
   {
    "duration": 5,
    "start_time": "2022-04-04T16:09:34.465Z"
   },
   {
    "duration": 21,
    "start_time": "2022-04-04T16:09:34.471Z"
   },
   {
    "duration": 201,
    "start_time": "2022-04-04T16:09:34.493Z"
   },
   {
    "duration": 19,
    "start_time": "2022-04-04T16:09:34.695Z"
   },
   {
    "duration": 194,
    "start_time": "2022-04-04T16:09:34.715Z"
   },
   {
    "duration": 20,
    "start_time": "2022-04-04T16:09:34.910Z"
   },
   {
    "duration": 202,
    "start_time": "2022-04-04T16:09:34.932Z"
   },
   {
    "duration": 6,
    "start_time": "2022-04-04T16:09:35.136Z"
   },
   {
    "duration": 19,
    "start_time": "2022-04-04T16:09:35.144Z"
   },
   {
    "duration": 18,
    "start_time": "2022-04-04T16:09:35.165Z"
   },
   {
    "duration": 7,
    "start_time": "2022-04-04T16:09:35.184Z"
   },
   {
    "duration": 24,
    "start_time": "2022-04-04T16:09:35.192Z"
   },
   {
    "duration": 1177,
    "start_time": "2022-04-04T16:36:27.360Z"
   },
   {
    "duration": 149,
    "start_time": "2022-04-04T16:36:28.539Z"
   },
   {
    "duration": 25,
    "start_time": "2022-04-04T16:36:28.689Z"
   },
   {
    "duration": 144,
    "start_time": "2022-04-04T16:36:28.716Z"
   },
   {
    "duration": 22,
    "start_time": "2022-04-04T16:36:28.863Z"
   },
   {
    "duration": 92,
    "start_time": "2022-04-04T16:36:28.887Z"
   },
   {
    "duration": 19,
    "start_time": "2022-04-04T16:36:28.981Z"
   },
   {
    "duration": 17,
    "start_time": "2022-04-04T16:36:29.001Z"
   },
   {
    "duration": 12,
    "start_time": "2022-04-04T16:36:29.020Z"
   },
   {
    "duration": 49,
    "start_time": "2022-04-04T16:36:29.036Z"
   },
   {
    "duration": 9,
    "start_time": "2022-04-04T16:36:29.087Z"
   },
   {
    "duration": 7,
    "start_time": "2022-04-04T16:36:29.097Z"
   },
   {
    "duration": 36,
    "start_time": "2022-04-04T16:36:29.105Z"
   },
   {
    "duration": 32,
    "start_time": "2022-04-04T16:36:29.143Z"
   },
   {
    "duration": 27,
    "start_time": "2022-04-04T16:36:29.177Z"
   },
   {
    "duration": 14,
    "start_time": "2022-04-04T16:36:29.205Z"
   },
   {
    "duration": 127,
    "start_time": "2022-04-04T16:36:29.221Z"
   },
   {
    "duration": 23,
    "start_time": "2022-04-04T16:36:29.350Z"
   },
   {
    "duration": 10,
    "start_time": "2022-04-04T16:36:29.375Z"
   },
   {
    "duration": 9,
    "start_time": "2022-04-04T16:36:29.387Z"
   },
   {
    "duration": 22,
    "start_time": "2022-04-04T16:36:29.398Z"
   },
   {
    "duration": 49,
    "start_time": "2022-04-04T16:36:29.422Z"
   },
   {
    "duration": 23,
    "start_time": "2022-04-04T16:36:29.473Z"
   },
   {
    "duration": 13,
    "start_time": "2022-04-04T16:36:29.498Z"
   },
   {
    "duration": 12,
    "start_time": "2022-04-04T16:36:29.513Z"
   },
   {
    "duration": 77,
    "start_time": "2022-04-04T16:36:29.527Z"
   },
   {
    "duration": 16,
    "start_time": "2022-04-04T16:36:29.606Z"
   },
   {
    "duration": 19,
    "start_time": "2022-04-04T16:36:29.625Z"
   },
   {
    "duration": 16,
    "start_time": "2022-04-04T16:36:29.663Z"
   },
   {
    "duration": 19,
    "start_time": "2022-04-04T16:36:29.680Z"
   },
   {
    "duration": 65,
    "start_time": "2022-04-04T16:36:29.700Z"
   },
   {
    "duration": 15,
    "start_time": "2022-04-04T16:36:29.767Z"
   },
   {
    "duration": 10,
    "start_time": "2022-04-04T16:36:29.784Z"
   },
   {
    "duration": 9,
    "start_time": "2022-04-04T16:36:29.795Z"
   },
   {
    "duration": 8,
    "start_time": "2022-04-04T16:36:29.806Z"
   },
   {
    "duration": 9,
    "start_time": "2022-04-04T16:36:29.816Z"
   },
   {
    "duration": 8,
    "start_time": "2022-04-04T16:36:29.826Z"
   },
   {
    "duration": 32,
    "start_time": "2022-04-04T16:36:29.835Z"
   },
   {
    "duration": 34,
    "start_time": "2022-04-04T16:36:29.868Z"
   },
   {
    "duration": 22,
    "start_time": "2022-04-04T16:36:29.903Z"
   },
   {
    "duration": 36,
    "start_time": "2022-04-04T16:36:29.927Z"
   },
   {
    "duration": 11,
    "start_time": "2022-04-04T16:36:29.965Z"
   },
   {
    "duration": 36,
    "start_time": "2022-04-04T16:36:29.978Z"
   },
   {
    "duration": 14,
    "start_time": "2022-04-04T16:36:30.017Z"
   },
   {
    "duration": 48,
    "start_time": "2022-04-04T16:36:30.033Z"
   },
   {
    "duration": 7,
    "start_time": "2022-04-04T16:36:30.083Z"
   },
   {
    "duration": 96,
    "start_time": "2022-04-04T16:36:30.091Z"
   },
   {
    "duration": 6,
    "start_time": "2022-04-04T16:36:30.189Z"
   },
   {
    "duration": 58,
    "start_time": "2022-04-04T16:36:30.196Z"
   },
   {
    "duration": 202,
    "start_time": "2022-04-04T16:36:30.256Z"
   },
   {
    "duration": 19,
    "start_time": "2022-04-04T16:36:30.460Z"
   },
   {
    "duration": 201,
    "start_time": "2022-04-04T16:36:30.481Z"
   },
   {
    "duration": 21,
    "start_time": "2022-04-04T16:36:30.683Z"
   },
   {
    "duration": 214,
    "start_time": "2022-04-04T16:36:30.705Z"
   },
   {
    "duration": 6,
    "start_time": "2022-04-04T16:36:30.921Z"
   },
   {
    "duration": 11,
    "start_time": "2022-04-04T16:36:30.928Z"
   },
   {
    "duration": 33,
    "start_time": "2022-04-04T16:36:30.940Z"
   },
   {
    "duration": 8,
    "start_time": "2022-04-04T16:36:30.975Z"
   },
   {
    "duration": 26,
    "start_time": "2022-04-04T16:36:30.984Z"
   },
   {
    "duration": 15,
    "start_time": "2022-04-04T17:41:10.531Z"
   },
   {
    "duration": 106,
    "start_time": "2022-04-04T17:41:14.418Z"
   },
   {
    "duration": 2013,
    "start_time": "2022-04-04T17:41:25.023Z"
   },
   {
    "duration": 236,
    "start_time": "2022-04-04T17:41:27.042Z"
   },
   {
    "duration": 39,
    "start_time": "2022-04-04T17:41:27.280Z"
   },
   {
    "duration": 212,
    "start_time": "2022-04-04T17:41:27.324Z"
   },
   {
    "duration": 52,
    "start_time": "2022-04-04T17:41:27.539Z"
   },
   {
    "duration": 138,
    "start_time": "2022-04-04T17:41:27.594Z"
   },
   {
    "duration": 44,
    "start_time": "2022-04-04T17:41:27.735Z"
   },
   {
    "duration": 23,
    "start_time": "2022-04-04T17:41:27.782Z"
   },
   {
    "duration": 15,
    "start_time": "2022-04-04T17:41:27.807Z"
   },
   {
    "duration": 56,
    "start_time": "2022-04-04T17:41:27.827Z"
   },
   {
    "duration": 22,
    "start_time": "2022-04-04T17:41:27.886Z"
   },
   {
    "duration": 16,
    "start_time": "2022-04-04T17:41:27.911Z"
   },
   {
    "duration": 73,
    "start_time": "2022-04-04T17:41:27.929Z"
   },
   {
    "duration": 39,
    "start_time": "2022-04-04T17:41:28.005Z"
   },
   {
    "duration": 68,
    "start_time": "2022-04-04T17:41:28.047Z"
   },
   {
    "duration": 19,
    "start_time": "2022-04-04T17:41:28.118Z"
   },
   {
    "duration": 191,
    "start_time": "2022-04-04T17:41:28.140Z"
   },
   {
    "duration": 41,
    "start_time": "2022-04-04T17:41:28.334Z"
   },
   {
    "duration": 19,
    "start_time": "2022-04-04T17:41:28.378Z"
   },
   {
    "duration": 14,
    "start_time": "2022-04-04T17:41:28.400Z"
   },
   {
    "duration": 71,
    "start_time": "2022-04-04T17:41:28.417Z"
   },
   {
    "duration": 36,
    "start_time": "2022-04-04T17:41:28.491Z"
   },
   {
    "duration": 69,
    "start_time": "2022-04-04T17:41:28.530Z"
   },
   {
    "duration": 22,
    "start_time": "2022-04-04T17:41:28.602Z"
   },
   {
    "duration": 28,
    "start_time": "2022-04-04T17:41:28.626Z"
   },
   {
    "duration": 71,
    "start_time": "2022-04-04T17:41:28.673Z"
   },
   {
    "duration": 47,
    "start_time": "2022-04-04T17:41:28.746Z"
   },
   {
    "duration": 35,
    "start_time": "2022-04-04T17:41:28.799Z"
   },
   {
    "duration": 47,
    "start_time": "2022-04-04T17:41:28.836Z"
   },
   {
    "duration": 29,
    "start_time": "2022-04-04T17:41:28.886Z"
   },
   {
    "duration": 87,
    "start_time": "2022-04-04T17:41:28.917Z"
   },
   {
    "duration": 21,
    "start_time": "2022-04-04T17:41:29.006Z"
   },
   {
    "duration": 14,
    "start_time": "2022-04-04T17:41:29.031Z"
   },
   {
    "duration": 5,
    "start_time": "2022-04-04T17:41:29.073Z"
   },
   {
    "duration": 16,
    "start_time": "2022-04-04T17:41:29.081Z"
   },
   {
    "duration": 11,
    "start_time": "2022-04-04T17:41:29.099Z"
   },
   {
    "duration": 7,
    "start_time": "2022-04-04T17:41:29.113Z"
   },
   {
    "duration": 11,
    "start_time": "2022-04-04T17:41:29.122Z"
   },
   {
    "duration": 91,
    "start_time": "2022-04-04T17:41:29.136Z"
   },
   {
    "duration": 48,
    "start_time": "2022-04-04T17:41:29.229Z"
   },
   {
    "duration": 21,
    "start_time": "2022-04-04T17:41:29.279Z"
   },
   {
    "duration": 16,
    "start_time": "2022-04-04T17:41:29.302Z"
   },
   {
    "duration": 82,
    "start_time": "2022-04-04T17:41:29.321Z"
   },
   {
    "duration": 19,
    "start_time": "2022-04-04T17:41:29.406Z"
   },
   {
    "duration": 54,
    "start_time": "2022-04-04T17:41:29.428Z"
   },
   {
    "duration": 9,
    "start_time": "2022-04-04T17:41:29.485Z"
   },
   {
    "duration": 325,
    "start_time": "2022-04-04T17:41:29.497Z"
   },
   {
    "duration": 7,
    "start_time": "2022-04-04T17:41:29.825Z"
   },
   {
    "duration": 46,
    "start_time": "2022-04-04T17:41:29.834Z"
   },
   {
    "duration": 425,
    "start_time": "2022-04-04T17:41:29.883Z"
   },
   {
    "duration": 30,
    "start_time": "2022-04-04T17:41:30.310Z"
   },
   {
    "duration": 591,
    "start_time": "2022-04-04T17:41:30.343Z"
   },
   {
    "duration": 55,
    "start_time": "2022-04-04T17:41:30.937Z"
   },
   {
    "duration": 351,
    "start_time": "2022-04-04T17:41:30.995Z"
   },
   {
    "duration": 7,
    "start_time": "2022-04-04T17:41:31.349Z"
   },
   {
    "duration": 62,
    "start_time": "2022-04-04T17:41:31.359Z"
   },
   {
    "duration": 57,
    "start_time": "2022-04-04T17:41:31.424Z"
   },
   {
    "duration": 11,
    "start_time": "2022-04-04T17:41:31.483Z"
   },
   {
    "duration": 43,
    "start_time": "2022-04-04T17:41:31.496Z"
   },
   {
    "duration": 1356,
    "start_time": "2022-04-04T20:11:58.799Z"
   },
   {
    "duration": 2072,
    "start_time": "2022-04-04T20:12:00.157Z"
   },
   {
    "duration": 29,
    "start_time": "2022-04-04T20:12:02.231Z"
   },
   {
    "duration": 144,
    "start_time": "2022-04-04T20:12:02.262Z"
   },
   {
    "duration": 20,
    "start_time": "2022-04-04T20:12:02.407Z"
   },
   {
    "duration": 90,
    "start_time": "2022-04-04T20:12:02.429Z"
   },
   {
    "duration": 18,
    "start_time": "2022-04-04T20:12:02.521Z"
   },
   {
    "duration": 19,
    "start_time": "2022-04-04T20:12:02.541Z"
   },
   {
    "duration": 9,
    "start_time": "2022-04-04T20:12:02.562Z"
   },
   {
    "duration": 206,
    "start_time": "2022-04-04T20:12:02.581Z"
   },
   {
    "duration": 9,
    "start_time": "2022-04-04T20:12:02.789Z"
   },
   {
    "duration": 14,
    "start_time": "2022-04-04T20:12:02.799Z"
   },
   {
    "duration": 34,
    "start_time": "2022-04-04T20:12:02.815Z"
   },
   {
    "duration": 38,
    "start_time": "2022-04-04T20:12:02.850Z"
   },
   {
    "duration": 28,
    "start_time": "2022-04-04T20:12:02.889Z"
   },
   {
    "duration": 13,
    "start_time": "2022-04-04T20:12:02.918Z"
   },
   {
    "duration": 113,
    "start_time": "2022-04-04T20:12:02.932Z"
   },
   {
    "duration": 17,
    "start_time": "2022-04-04T20:12:03.047Z"
   },
   {
    "duration": 21,
    "start_time": "2022-04-04T20:12:03.066Z"
   },
   {
    "duration": 7,
    "start_time": "2022-04-04T20:12:03.089Z"
   },
   {
    "duration": 28,
    "start_time": "2022-04-04T20:12:03.098Z"
   },
   {
    "duration": 18,
    "start_time": "2022-04-04T20:12:03.128Z"
   },
   {
    "duration": 34,
    "start_time": "2022-04-04T20:12:03.148Z"
   },
   {
    "duration": 14,
    "start_time": "2022-04-04T20:12:03.183Z"
   },
   {
    "duration": 13,
    "start_time": "2022-04-04T20:12:03.198Z"
   },
   {
    "duration": 51,
    "start_time": "2022-04-04T20:12:03.213Z"
   },
   {
    "duration": 29,
    "start_time": "2022-04-04T20:12:03.265Z"
   },
   {
    "duration": 19,
    "start_time": "2022-04-04T20:12:03.298Z"
   },
   {
    "duration": 17,
    "start_time": "2022-04-04T20:12:03.318Z"
   },
   {
    "duration": 46,
    "start_time": "2022-04-04T20:12:03.336Z"
   },
   {
    "duration": 42,
    "start_time": "2022-04-04T20:12:03.383Z"
   },
   {
    "duration": 15,
    "start_time": "2022-04-04T20:12:03.426Z"
   },
   {
    "duration": 9,
    "start_time": "2022-04-04T20:12:03.442Z"
   },
   {
    "duration": 5,
    "start_time": "2022-04-04T20:12:03.452Z"
   },
   {
    "duration": 25,
    "start_time": "2022-04-04T20:12:03.459Z"
   },
   {
    "duration": 7,
    "start_time": "2022-04-04T20:12:03.486Z"
   },
   {
    "duration": 6,
    "start_time": "2022-04-04T20:12:03.494Z"
   },
   {
    "duration": 14,
    "start_time": "2022-04-04T20:12:03.501Z"
   },
   {
    "duration": 35,
    "start_time": "2022-04-04T20:12:03.517Z"
   },
   {
    "duration": 42,
    "start_time": "2022-04-04T20:12:03.554Z"
   },
   {
    "duration": 17,
    "start_time": "2022-04-04T20:12:03.598Z"
   },
   {
    "duration": 11,
    "start_time": "2022-04-04T20:12:03.618Z"
   },
   {
    "duration": 55,
    "start_time": "2022-04-04T20:12:03.630Z"
   },
   {
    "duration": 11,
    "start_time": "2022-04-04T20:12:03.687Z"
   },
   {
    "duration": 22,
    "start_time": "2022-04-04T20:12:03.699Z"
   },
   {
    "duration": 40,
    "start_time": "2022-04-04T20:12:03.723Z"
   },
   {
    "duration": 113,
    "start_time": "2022-04-04T20:12:03.765Z"
   },
   {
    "duration": 6,
    "start_time": "2022-04-04T20:12:03.879Z"
   },
   {
    "duration": 118,
    "start_time": "2022-04-04T20:12:03.886Z"
   },
   {
    "duration": 215,
    "start_time": "2022-04-04T20:12:04.005Z"
   },
   {
    "duration": 19,
    "start_time": "2022-04-04T20:12:04.221Z"
   },
   {
    "duration": 206,
    "start_time": "2022-04-04T20:12:04.242Z"
   },
   {
    "duration": 20,
    "start_time": "2022-04-04T20:12:04.449Z"
   },
   {
    "duration": 202,
    "start_time": "2022-04-04T20:12:04.481Z"
   },
   {
    "duration": 5,
    "start_time": "2022-04-04T20:12:04.684Z"
   },
   {
    "duration": 10,
    "start_time": "2022-04-04T20:12:04.690Z"
   },
   {
    "duration": 19,
    "start_time": "2022-04-04T20:12:04.702Z"
   },
   {
    "duration": 8,
    "start_time": "2022-04-04T20:12:04.723Z"
   },
   {
    "duration": 21,
    "start_time": "2022-04-04T20:12:04.732Z"
   },
   {
    "duration": 4,
    "start_time": "2022-04-04T20:12:23.393Z"
   },
   {
    "duration": 1290,
    "start_time": "2022-04-04T20:12:57.256Z"
   },
   {
    "duration": 143,
    "start_time": "2022-04-04T20:12:58.548Z"
   },
   {
    "duration": 23,
    "start_time": "2022-04-04T20:12:58.692Z"
   },
   {
    "duration": 138,
    "start_time": "2022-04-04T20:12:58.717Z"
   },
   {
    "duration": 32,
    "start_time": "2022-04-04T20:12:58.856Z"
   },
   {
    "duration": 86,
    "start_time": "2022-04-04T20:12:58.893Z"
   },
   {
    "duration": 24,
    "start_time": "2022-04-04T20:12:58.982Z"
   },
   {
    "duration": 21,
    "start_time": "2022-04-04T20:12:59.007Z"
   },
   {
    "duration": 8,
    "start_time": "2022-04-04T20:12:59.029Z"
   },
   {
    "duration": 79,
    "start_time": "2022-04-04T20:12:59.039Z"
   },
   {
    "duration": 9,
    "start_time": "2022-04-04T20:12:59.120Z"
   },
   {
    "duration": 8,
    "start_time": "2022-04-04T20:12:59.130Z"
   },
   {
    "duration": 32,
    "start_time": "2022-04-04T20:12:59.139Z"
   },
   {
    "duration": 29,
    "start_time": "2022-04-04T20:12:59.173Z"
   },
   {
    "duration": 26,
    "start_time": "2022-04-04T20:12:59.203Z"
   },
   {
    "duration": 11,
    "start_time": "2022-04-04T20:12:59.231Z"
   },
   {
    "duration": 107,
    "start_time": "2022-04-04T20:12:59.243Z"
   },
   {
    "duration": 17,
    "start_time": "2022-04-04T20:12:59.352Z"
   },
   {
    "duration": 25,
    "start_time": "2022-04-04T20:12:59.370Z"
   },
   {
    "duration": 8,
    "start_time": "2022-04-04T20:12:59.397Z"
   },
   {
    "duration": 22,
    "start_time": "2022-04-04T20:12:59.406Z"
   },
   {
    "duration": 18,
    "start_time": "2022-04-04T20:12:59.429Z"
   },
   {
    "duration": 42,
    "start_time": "2022-04-04T20:12:59.448Z"
   },
   {
    "duration": 12,
    "start_time": "2022-04-04T20:12:59.491Z"
   },
   {
    "duration": 11,
    "start_time": "2022-04-04T20:12:59.504Z"
   },
   {
    "duration": 38,
    "start_time": "2022-04-04T20:12:59.516Z"
   },
   {
    "duration": 37,
    "start_time": "2022-04-04T20:12:59.556Z"
   },
   {
    "duration": 18,
    "start_time": "2022-04-04T20:12:59.596Z"
   },
   {
    "duration": 15,
    "start_time": "2022-04-04T20:12:59.616Z"
   },
   {
    "duration": 18,
    "start_time": "2022-04-04T20:12:59.632Z"
   },
   {
    "duration": 42,
    "start_time": "2022-04-04T20:12:59.680Z"
   },
   {
    "duration": 14,
    "start_time": "2022-04-04T20:12:59.724Z"
   },
   {
    "duration": 8,
    "start_time": "2022-04-04T20:12:59.740Z"
   },
   {
    "duration": 31,
    "start_time": "2022-04-04T20:12:59.750Z"
   },
   {
    "duration": 8,
    "start_time": "2022-04-04T20:12:59.783Z"
   },
   {
    "duration": 7,
    "start_time": "2022-04-04T20:12:59.792Z"
   },
   {
    "duration": 5,
    "start_time": "2022-04-04T20:12:59.800Z"
   },
   {
    "duration": 7,
    "start_time": "2022-04-04T20:12:59.806Z"
   },
   {
    "duration": 33,
    "start_time": "2022-04-04T20:12:59.814Z"
   },
   {
    "duration": 50,
    "start_time": "2022-04-04T20:12:59.849Z"
   },
   {
    "duration": 13,
    "start_time": "2022-04-04T20:12:59.901Z"
   },
   {
    "duration": 9,
    "start_time": "2022-04-04T20:12:59.916Z"
   },
   {
    "duration": 30,
    "start_time": "2022-04-04T20:12:59.927Z"
   },
   {
    "duration": 31,
    "start_time": "2022-04-04T20:12:59.959Z"
   },
   {
    "duration": 17,
    "start_time": "2022-04-04T20:12:59.991Z"
   },
   {
    "duration": 6,
    "start_time": "2022-04-04T20:13:00.009Z"
   },
   {
    "duration": 119,
    "start_time": "2022-04-04T20:13:00.016Z"
   },
   {
    "duration": 6,
    "start_time": "2022-04-04T20:13:00.137Z"
   },
   {
    "duration": 37,
    "start_time": "2022-04-04T20:13:00.145Z"
   },
   {
    "duration": 197,
    "start_time": "2022-04-04T20:13:00.183Z"
   },
   {
    "duration": 17,
    "start_time": "2022-04-04T20:13:00.382Z"
   },
   {
    "duration": 194,
    "start_time": "2022-04-04T20:13:00.401Z"
   },
   {
    "duration": 18,
    "start_time": "2022-04-04T20:13:00.597Z"
   },
   {
    "duration": 200,
    "start_time": "2022-04-04T20:13:00.616Z"
   },
   {
    "duration": 5,
    "start_time": "2022-04-04T20:13:00.818Z"
   },
   {
    "duration": 9,
    "start_time": "2022-04-04T20:13:00.824Z"
   },
   {
    "duration": 22,
    "start_time": "2022-04-04T20:13:00.834Z"
   },
   {
    "duration": 25,
    "start_time": "2022-04-04T20:13:00.858Z"
   },
   {
    "duration": 29,
    "start_time": "2022-04-04T20:13:00.885Z"
   },
   {
    "duration": 4,
    "start_time": "2022-04-04T20:15:56.510Z"
   },
   {
    "duration": 1173,
    "start_time": "2022-04-04T20:41:35.880Z"
   },
   {
    "duration": 151,
    "start_time": "2022-04-04T20:41:37.054Z"
   },
   {
    "duration": 22,
    "start_time": "2022-04-04T20:41:37.206Z"
   },
   {
    "duration": 133,
    "start_time": "2022-04-04T20:41:37.230Z"
   },
   {
    "duration": 23,
    "start_time": "2022-04-04T20:41:37.365Z"
   },
   {
    "duration": 90,
    "start_time": "2022-04-04T20:41:37.389Z"
   },
   {
    "duration": 17,
    "start_time": "2022-04-04T20:41:37.480Z"
   },
   {
    "duration": 21,
    "start_time": "2022-04-04T20:41:37.498Z"
   },
   {
    "duration": 9,
    "start_time": "2022-04-04T20:41:37.520Z"
   },
   {
    "duration": 60,
    "start_time": "2022-04-04T20:41:37.531Z"
   },
   {
    "duration": 8,
    "start_time": "2022-04-04T20:41:37.593Z"
   },
   {
    "duration": 7,
    "start_time": "2022-04-04T20:41:37.603Z"
   },
   {
    "duration": 32,
    "start_time": "2022-04-04T20:41:37.611Z"
   },
   {
    "duration": 43,
    "start_time": "2022-04-04T20:41:37.645Z"
   },
   {
    "duration": 26,
    "start_time": "2022-04-04T20:41:37.690Z"
   },
   {
    "duration": 12,
    "start_time": "2022-04-04T20:41:37.718Z"
   },
   {
    "duration": 121,
    "start_time": "2022-04-04T20:41:37.731Z"
   },
   {
    "duration": 27,
    "start_time": "2022-04-04T20:41:37.854Z"
   },
   {
    "duration": 9,
    "start_time": "2022-04-04T20:41:37.883Z"
   },
   {
    "duration": 8,
    "start_time": "2022-04-04T20:41:37.893Z"
   },
   {
    "duration": 23,
    "start_time": "2022-04-04T20:41:37.903Z"
   },
   {
    "duration": 19,
    "start_time": "2022-04-04T20:41:37.927Z"
   },
   {
    "duration": 50,
    "start_time": "2022-04-04T20:41:37.948Z"
   },
   {
    "duration": 12,
    "start_time": "2022-04-04T20:41:37.999Z"
   },
   {
    "duration": 13,
    "start_time": "2022-04-04T20:41:38.013Z"
   },
   {
    "duration": 67,
    "start_time": "2022-04-04T20:41:38.027Z"
   },
   {
    "duration": 14,
    "start_time": "2022-04-04T20:41:38.096Z"
   },
   {
    "duration": 17,
    "start_time": "2022-04-04T20:41:38.114Z"
   },
   {
    "duration": 15,
    "start_time": "2022-04-04T20:41:38.133Z"
   },
   {
    "duration": 43,
    "start_time": "2022-04-04T20:41:38.150Z"
   },
   {
    "duration": 48,
    "start_time": "2022-04-04T20:41:38.194Z"
   },
   {
    "duration": 14,
    "start_time": "2022-04-04T20:41:38.244Z"
   },
   {
    "duration": 28,
    "start_time": "2022-04-04T20:41:38.259Z"
   },
   {
    "duration": 7,
    "start_time": "2022-04-04T20:41:38.288Z"
   },
   {
    "duration": 7,
    "start_time": "2022-04-04T20:41:38.296Z"
   },
   {
    "duration": 6,
    "start_time": "2022-04-04T20:41:38.304Z"
   },
   {
    "duration": 5,
    "start_time": "2022-04-04T20:41:38.312Z"
   },
   {
    "duration": 7,
    "start_time": "2022-04-04T20:41:38.319Z"
   },
   {
    "duration": 53,
    "start_time": "2022-04-04T20:41:38.328Z"
   },
   {
    "duration": 22,
    "start_time": "2022-04-04T20:41:38.382Z"
   },
   {
    "duration": 14,
    "start_time": "2022-04-04T20:41:38.406Z"
   },
   {
    "duration": 9,
    "start_time": "2022-04-04T20:41:38.421Z"
   },
   {
    "duration": 50,
    "start_time": "2022-04-04T20:41:38.432Z"
   },
   {
    "duration": 11,
    "start_time": "2022-04-04T20:41:38.483Z"
   },
   {
    "duration": 17,
    "start_time": "2022-04-04T20:41:38.495Z"
   },
   {
    "duration": 4,
    "start_time": "2022-04-04T20:41:38.514Z"
   },
   {
    "duration": 120,
    "start_time": "2022-04-04T20:41:38.520Z"
   },
   {
    "duration": 5,
    "start_time": "2022-04-04T20:41:38.642Z"
   },
   {
    "duration": 23,
    "start_time": "2022-04-04T20:41:38.648Z"
   },
   {
    "duration": 190,
    "start_time": "2022-04-04T20:41:38.681Z"
   },
   {
    "duration": 26,
    "start_time": "2022-04-04T20:41:38.872Z"
   },
   {
    "duration": 190,
    "start_time": "2022-04-04T20:41:38.899Z"
   },
   {
    "duration": 20,
    "start_time": "2022-04-04T20:41:39.090Z"
   },
   {
    "duration": 192,
    "start_time": "2022-04-04T20:41:39.111Z"
   },
   {
    "duration": 4,
    "start_time": "2022-04-04T20:41:39.305Z"
   },
   {
    "duration": 22,
    "start_time": "2022-04-04T20:41:39.310Z"
   },
   {
    "duration": 7,
    "start_time": "2022-04-04T20:41:39.333Z"
   },
   {
    "duration": 46,
    "start_time": "2022-04-04T20:41:39.341Z"
   },
   {
    "duration": 69,
    "start_time": "2022-04-05T05:12:18.786Z"
   },
   {
    "duration": 1762,
    "start_time": "2022-04-05T05:12:42.054Z"
   },
   {
    "duration": 206,
    "start_time": "2022-04-05T05:12:43.819Z"
   },
   {
    "duration": 33,
    "start_time": "2022-04-05T05:12:44.027Z"
   },
   {
    "duration": 176,
    "start_time": "2022-04-05T05:12:44.082Z"
   },
   {
    "duration": 35,
    "start_time": "2022-04-05T05:12:44.261Z"
   },
   {
    "duration": 121,
    "start_time": "2022-04-05T05:12:44.299Z"
   },
   {
    "duration": 24,
    "start_time": "2022-04-05T05:12:44.422Z"
   },
   {
    "duration": 38,
    "start_time": "2022-04-05T05:12:44.447Z"
   },
   {
    "duration": 16,
    "start_time": "2022-04-05T05:12:44.487Z"
   },
   {
    "duration": 28,
    "start_time": "2022-04-05T05:12:44.507Z"
   },
   {
    "duration": 16,
    "start_time": "2022-04-05T05:12:44.537Z"
   },
   {
    "duration": 12,
    "start_time": "2022-04-05T05:12:44.581Z"
   },
   {
    "duration": 49,
    "start_time": "2022-04-05T05:12:44.597Z"
   },
   {
    "duration": 54,
    "start_time": "2022-04-05T05:12:44.648Z"
   },
   {
    "duration": 36,
    "start_time": "2022-04-05T05:12:44.705Z"
   },
   {
    "duration": 17,
    "start_time": "2022-04-05T05:12:44.743Z"
   },
   {
    "duration": 131,
    "start_time": "2022-04-05T05:12:44.795Z"
   },
   {
    "duration": 25,
    "start_time": "2022-04-05T05:12:44.928Z"
   },
   {
    "duration": 42,
    "start_time": "2022-04-05T05:12:44.955Z"
   },
   {
    "duration": 18,
    "start_time": "2022-04-05T05:12:44.999Z"
   },
   {
    "duration": 47,
    "start_time": "2022-04-05T05:12:45.019Z"
   },
   {
    "duration": 36,
    "start_time": "2022-04-05T05:12:45.068Z"
   },
   {
    "duration": 32,
    "start_time": "2022-04-05T05:12:45.106Z"
   },
   {
    "duration": 50,
    "start_time": "2022-04-05T05:12:45.140Z"
   },
   {
    "duration": 17,
    "start_time": "2022-04-05T05:12:45.193Z"
   },
   {
    "duration": 84,
    "start_time": "2022-04-05T05:12:45.213Z"
   },
   {
    "duration": 22,
    "start_time": "2022-04-05T05:12:45.299Z"
   },
   {
    "duration": 26,
    "start_time": "2022-04-05T05:12:45.327Z"
   },
   {
    "duration": 44,
    "start_time": "2022-04-05T05:12:45.355Z"
   },
   {
    "duration": 29,
    "start_time": "2022-04-05T05:12:45.401Z"
   },
   {
    "duration": 93,
    "start_time": "2022-04-05T05:12:45.432Z"
   },
   {
    "duration": 22,
    "start_time": "2022-04-05T05:12:45.528Z"
   },
   {
    "duration": 41,
    "start_time": "2022-04-05T05:12:45.552Z"
   },
   {
    "duration": 5,
    "start_time": "2022-04-05T05:12:45.599Z"
   },
   {
    "duration": 9,
    "start_time": "2022-04-05T05:12:45.606Z"
   },
   {
    "duration": 9,
    "start_time": "2022-04-05T05:12:45.617Z"
   },
   {
    "duration": 6,
    "start_time": "2022-04-05T05:12:45.628Z"
   },
   {
    "duration": 13,
    "start_time": "2022-04-05T05:12:45.636Z"
   },
   {
    "duration": 45,
    "start_time": "2022-04-05T05:12:45.692Z"
   },
   {
    "duration": 29,
    "start_time": "2022-04-05T05:12:45.740Z"
   },
   {
    "duration": 23,
    "start_time": "2022-04-05T05:12:45.783Z"
   },
   {
    "duration": 14,
    "start_time": "2022-04-05T05:12:45.808Z"
   },
   {
    "duration": 74,
    "start_time": "2022-04-05T05:12:45.824Z"
   },
   {
    "duration": 17,
    "start_time": "2022-04-05T05:12:45.901Z"
   },
   {
    "duration": 25,
    "start_time": "2022-04-05T05:12:45.920Z"
   },
   {
    "duration": 39,
    "start_time": "2022-04-05T05:12:45.947Z"
   },
   {
    "duration": 174,
    "start_time": "2022-04-05T05:12:45.989Z"
   },
   {
    "duration": 17,
    "start_time": "2022-04-05T05:12:46.166Z"
   },
   {
    "duration": 35,
    "start_time": "2022-04-05T05:12:46.185Z"
   },
   {
    "duration": 357,
    "start_time": "2022-04-05T05:12:46.222Z"
   },
   {
    "duration": 33,
    "start_time": "2022-04-05T05:12:46.582Z"
   },
   {
    "duration": 335,
    "start_time": "2022-04-05T05:12:46.617Z"
   },
   {
    "duration": 45,
    "start_time": "2022-04-05T05:12:46.954Z"
   },
   {
    "duration": 324,
    "start_time": "2022-04-05T05:12:47.002Z"
   },
   {
    "duration": 7,
    "start_time": "2022-04-05T05:12:47.328Z"
   },
   {
    "duration": 56,
    "start_time": "2022-04-05T05:12:47.337Z"
   },
   {
    "duration": 10,
    "start_time": "2022-04-05T05:12:47.396Z"
   },
   {
    "duration": 30,
    "start_time": "2022-04-05T05:12:47.408Z"
   },
   {
    "duration": 1789,
    "start_time": "2022-04-05T06:41:17.470Z"
   },
   {
    "duration": 192,
    "start_time": "2022-04-05T06:41:19.263Z"
   },
   {
    "duration": 43,
    "start_time": "2022-04-05T06:41:19.458Z"
   },
   {
    "duration": 177,
    "start_time": "2022-04-05T06:41:19.505Z"
   },
   {
    "duration": 30,
    "start_time": "2022-04-05T06:41:19.684Z"
   },
   {
    "duration": 129,
    "start_time": "2022-04-05T06:41:19.717Z"
   },
   {
    "duration": 37,
    "start_time": "2022-04-05T06:41:19.848Z"
   },
   {
    "duration": 19,
    "start_time": "2022-04-05T06:41:19.887Z"
   },
   {
    "duration": 18,
    "start_time": "2022-04-05T06:41:19.908Z"
   },
   {
    "duration": 38,
    "start_time": "2022-04-05T06:41:19.932Z"
   },
   {
    "duration": 22,
    "start_time": "2022-04-05T06:41:19.972Z"
   },
   {
    "duration": 28,
    "start_time": "2022-04-05T06:41:19.996Z"
   },
   {
    "duration": 49,
    "start_time": "2022-04-05T06:41:20.027Z"
   },
   {
    "duration": 33,
    "start_time": "2022-04-05T06:41:20.079Z"
   },
   {
    "duration": 38,
    "start_time": "2022-04-05T06:41:20.115Z"
   },
   {
    "duration": 38,
    "start_time": "2022-04-05T06:41:20.155Z"
   },
   {
    "duration": 146,
    "start_time": "2022-04-05T06:41:20.195Z"
   },
   {
    "duration": 26,
    "start_time": "2022-04-05T06:41:20.343Z"
   },
   {
    "duration": 15,
    "start_time": "2022-04-05T06:41:20.383Z"
   },
   {
    "duration": 12,
    "start_time": "2022-04-05T06:41:20.400Z"
   },
   {
    "duration": 32,
    "start_time": "2022-04-05T06:41:20.414Z"
   },
   {
    "duration": 51,
    "start_time": "2022-04-05T06:41:20.449Z"
   },
   {
    "duration": 32,
    "start_time": "2022-04-05T06:41:20.502Z"
   },
   {
    "duration": 47,
    "start_time": "2022-04-05T06:41:20.536Z"
   },
   {
    "duration": 18,
    "start_time": "2022-04-05T06:41:20.585Z"
   },
   {
    "duration": 84,
    "start_time": "2022-04-05T06:41:20.605Z"
   },
   {
    "duration": 23,
    "start_time": "2022-04-05T06:41:20.692Z"
   },
   {
    "duration": 26,
    "start_time": "2022-04-05T06:41:20.721Z"
   },
   {
    "duration": 51,
    "start_time": "2022-04-05T06:41:20.749Z"
   },
   {
    "duration": 27,
    "start_time": "2022-04-05T06:41:20.802Z"
   },
   {
    "duration": 80,
    "start_time": "2022-04-05T06:41:20.831Z"
   },
   {
    "duration": 20,
    "start_time": "2022-04-05T06:41:20.914Z"
   },
   {
    "duration": 14,
    "start_time": "2022-04-05T06:41:20.936Z"
   },
   {
    "duration": 30,
    "start_time": "2022-04-05T06:41:20.952Z"
   },
   {
    "duration": 13,
    "start_time": "2022-04-05T06:41:20.984Z"
   },
   {
    "duration": 11,
    "start_time": "2022-04-05T06:41:21.000Z"
   },
   {
    "duration": 6,
    "start_time": "2022-04-05T06:41:21.013Z"
   },
   {
    "duration": 10,
    "start_time": "2022-04-05T06:41:21.021Z"
   },
   {
    "duration": 82,
    "start_time": "2022-04-05T06:41:21.033Z"
   },
   {
    "duration": 30,
    "start_time": "2022-04-05T06:41:21.117Z"
   },
   {
    "duration": 41,
    "start_time": "2022-04-05T06:41:21.149Z"
   },
   {
    "duration": 14,
    "start_time": "2022-04-05T06:41:21.192Z"
   },
   {
    "duration": 47,
    "start_time": "2022-04-05T06:41:21.208Z"
   },
   {
    "duration": 18,
    "start_time": "2022-04-05T06:41:21.281Z"
   },
   {
    "duration": 33,
    "start_time": "2022-04-05T06:41:21.302Z"
   },
   {
    "duration": 7,
    "start_time": "2022-04-05T06:41:21.338Z"
   },
   {
    "duration": 195,
    "start_time": "2022-04-05T06:41:21.348Z"
   },
   {
    "duration": 9,
    "start_time": "2022-04-05T06:41:21.546Z"
   },
   {
    "duration": 46,
    "start_time": "2022-04-05T06:41:21.557Z"
   },
   {
    "duration": 343,
    "start_time": "2022-04-05T06:41:21.605Z"
   },
   {
    "duration": 41,
    "start_time": "2022-04-05T06:41:21.950Z"
   },
   {
    "duration": 331,
    "start_time": "2022-04-05T06:41:21.993Z"
   },
   {
    "duration": 31,
    "start_time": "2022-04-05T06:41:22.327Z"
   },
   {
    "duration": 331,
    "start_time": "2022-04-05T06:41:22.361Z"
   },
   {
    "duration": 7,
    "start_time": "2022-04-05T06:41:22.694Z"
   },
   {
    "duration": 31,
    "start_time": "2022-04-05T06:41:22.703Z"
   },
   {
    "duration": 10,
    "start_time": "2022-04-05T06:41:22.737Z"
   },
   {
    "duration": 33,
    "start_time": "2022-04-05T06:41:22.782Z"
   },
   {
    "duration": 169,
    "start_time": "2022-04-05T06:47:50.591Z"
   }
  ],
  "kernelspec": {
   "display_name": "Python 3 (ipykernel)",
   "language": "python",
   "name": "python3"
  },
  "language_info": {
   "codemirror_mode": {
    "name": "ipython",
    "version": 3
   },
   "file_extension": ".py",
   "mimetype": "text/x-python",
   "name": "python",
   "nbconvert_exporter": "python",
   "pygments_lexer": "ipython3",
   "version": "3.9.12"
  },
  "toc": {
   "base_numbering": 1,
   "nav_menu": {},
   "number_sections": true,
   "sideBar": true,
   "skip_h1_title": true,
   "title_cell": "Table of Contents",
   "title_sidebar": "Contents",
   "toc_cell": false,
   "toc_position": {
    "height": "calc(100% - 180px)",
    "left": "10px",
    "top": "150px",
    "width": "165px"
   },
   "toc_section_display": true,
   "toc_window_display": true
  }
 },
 "nbformat": 4,
 "nbformat_minor": 5
}
