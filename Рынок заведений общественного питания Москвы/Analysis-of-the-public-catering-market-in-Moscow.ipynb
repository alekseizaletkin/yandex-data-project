{
 "cells": [
  {
   "cell_type": "markdown",
   "metadata": {},
   "source": [
    "# Рынок заведений общественного питания Москвы"
   ]
  },
  {
   "cell_type": "markdown",
   "metadata": {},
   "source": [
    "***Цель исследования*** - произвести исследования рынка общественного питания Москвы, чтобы принять решение об оптимальном местоположении для открытия нового ресторана\n",
    "\n",
    "***Описание исследования***\n",
    "\n",
    "Было принято решение открыть небольшое кафе в Москве. Оно оригинальное — гостей должны обслуживать роботы. Проект многообещающий, но дорогой. Для открытия кафе обратились к инвесторам. Их интересует текущее положение дел на рынке.\n",
    "\n",
    "***Ход исследования***\n",
    "\n",
    "Необходимо произвести обзор данных, предобработку, после чего произвести исследования рынка и составить презентацию для инвесторов. "
   ]
  },
  {
   "cell_type": "markdown",
   "metadata": {},
   "source": [
    "### Обзор данных и предобработка"
   ]
  },
  {
   "cell_type": "markdown",
   "metadata": {},
   "source": [
    "Импортируем библиотеки необходые для работы:"
   ]
  },
  {
   "cell_type": "code",
   "execution_count": 2,
   "metadata": {},
   "outputs": [],
   "source": [
    "# импортируем необходимые для работы библиотеки\n",
    "import pandas as pd\n",
    "import numpy as np\n",
    "from matplotlib import pyplot as plt\n",
    "from termcolor import colored\n",
    "import seaborn as sns"
   ]
  },
  {
   "cell_type": "markdown",
   "metadata": {},
   "source": [
    "Добавляем функцию для обзора данных:"
   ]
  },
  {
   "cell_type": "code",
   "execution_count": 3,
   "metadata": {},
   "outputs": [],
   "source": [
    "# функция для обзора данных в таблице\n",
    "def view(data, name):\n",
    "    print(colored('Обзор данных таблицы', 'blue'), name)\n",
    "    print()\n",
    "    print('Первые 5 строк данных')\n",
    "    display(data.head()) # Выводим первые 5 строк\n",
    "    print()\n",
    "    print('Информация по таблице')\n",
    "    display(data.info()) # Выводим инфо по датасету\n",
    "    print()\n",
    "    print('Пропуски')\n",
    "    display(data.isna().sum())\n",
    "    print()\n",
    "    print('Количество явных дубликатов:', data.duplicated().sum())\n",
    "    print()"
   ]
  },
  {
   "cell_type": "markdown",
   "metadata": {},
   "source": [
    "Открываем файл и подключае функцию по его обзору:"
   ]
  },
  {
   "cell_type": "code",
   "execution_count": 4,
   "metadata": {},
   "outputs": [
    {
     "name": "stdout",
     "output_type": "stream",
     "text": [
      "\u001b[34mОбзор данных таблицы\u001b[0m \u001b[34mо ресторанах Москвы\u001b[0m\n",
      "\n",
      "Первые 5 строк данных\n"
     ]
    },
    {
     "data": {
      "text/html": [
       "<div>\n",
       "<style scoped>\n",
       "    .dataframe tbody tr th:only-of-type {\n",
       "        vertical-align: middle;\n",
       "    }\n",
       "\n",
       "    .dataframe tbody tr th {\n",
       "        vertical-align: top;\n",
       "    }\n",
       "\n",
       "    .dataframe thead th {\n",
       "        text-align: right;\n",
       "    }\n",
       "</style>\n",
       "<table border=\"1\" class=\"dataframe\">\n",
       "  <thead>\n",
       "    <tr style=\"text-align: right;\">\n",
       "      <th></th>\n",
       "      <th>id</th>\n",
       "      <th>object_name</th>\n",
       "      <th>chain</th>\n",
       "      <th>object_type</th>\n",
       "      <th>address</th>\n",
       "      <th>number</th>\n",
       "    </tr>\n",
       "  </thead>\n",
       "  <tbody>\n",
       "    <tr>\n",
       "      <th>0</th>\n",
       "      <td>151635</td>\n",
       "      <td>СМЕТАНА</td>\n",
       "      <td>нет</td>\n",
       "      <td>кафе</td>\n",
       "      <td>город Москва, улица Егора Абакумова, дом 9</td>\n",
       "      <td>48</td>\n",
       "    </tr>\n",
       "    <tr>\n",
       "      <th>1</th>\n",
       "      <td>77874</td>\n",
       "      <td>Родник</td>\n",
       "      <td>нет</td>\n",
       "      <td>кафе</td>\n",
       "      <td>город Москва, улица Талалихина, дом 2/1, корпус 1</td>\n",
       "      <td>35</td>\n",
       "    </tr>\n",
       "    <tr>\n",
       "      <th>2</th>\n",
       "      <td>24309</td>\n",
       "      <td>Кафе «Академия»</td>\n",
       "      <td>нет</td>\n",
       "      <td>кафе</td>\n",
       "      <td>город Москва, Абельмановская улица, дом 6</td>\n",
       "      <td>95</td>\n",
       "    </tr>\n",
       "    <tr>\n",
       "      <th>3</th>\n",
       "      <td>21894</td>\n",
       "      <td>ПИЦЦЕТОРИЯ</td>\n",
       "      <td>да</td>\n",
       "      <td>кафе</td>\n",
       "      <td>город Москва, Абрамцевская улица, дом 1</td>\n",
       "      <td>40</td>\n",
       "    </tr>\n",
       "    <tr>\n",
       "      <th>4</th>\n",
       "      <td>119365</td>\n",
       "      <td>Кафе «Вишневая метель»</td>\n",
       "      <td>нет</td>\n",
       "      <td>кафе</td>\n",
       "      <td>город Москва, Абрамцевская улица, дом 9, корпус 1</td>\n",
       "      <td>50</td>\n",
       "    </tr>\n",
       "  </tbody>\n",
       "</table>\n",
       "</div>"
      ],
      "text/plain": [
       "       id             object_name chain object_type  \\\n",
       "0  151635                 СМЕТАНА   нет        кафе   \n",
       "1   77874                  Родник   нет        кафе   \n",
       "2   24309         Кафе «Академия»   нет        кафе   \n",
       "3   21894              ПИЦЦЕТОРИЯ    да        кафе   \n",
       "4  119365  Кафе «Вишневая метель»   нет        кафе   \n",
       "\n",
       "                                             address  number  \n",
       "0         город Москва, улица Егора Абакумова, дом 9      48  \n",
       "1  город Москва, улица Талалихина, дом 2/1, корпус 1      35  \n",
       "2          город Москва, Абельмановская улица, дом 6      95  \n",
       "3            город Москва, Абрамцевская улица, дом 1      40  \n",
       "4  город Москва, Абрамцевская улица, дом 9, корпус 1      50  "
      ]
     },
     "metadata": {},
     "output_type": "display_data"
    },
    {
     "name": "stdout",
     "output_type": "stream",
     "text": [
      "\n",
      "Информация по таблице\n",
      "<class 'pandas.core.frame.DataFrame'>\n",
      "RangeIndex: 15366 entries, 0 to 15365\n",
      "Data columns (total 6 columns):\n",
      " #   Column       Non-Null Count  Dtype \n",
      "---  ------       --------------  ----- \n",
      " 0   id           15366 non-null  int64 \n",
      " 1   object_name  15366 non-null  object\n",
      " 2   chain        15366 non-null  object\n",
      " 3   object_type  15366 non-null  object\n",
      " 4   address      15366 non-null  object\n",
      " 5   number       15366 non-null  int64 \n",
      "dtypes: int64(2), object(4)\n",
      "memory usage: 720.4+ KB\n"
     ]
    },
    {
     "data": {
      "text/plain": [
       "None"
      ]
     },
     "metadata": {},
     "output_type": "display_data"
    },
    {
     "name": "stdout",
     "output_type": "stream",
     "text": [
      "\n",
      "Пропуски\n"
     ]
    },
    {
     "data": {
      "text/plain": [
       "id             0\n",
       "object_name    0\n",
       "chain          0\n",
       "object_type    0\n",
       "address        0\n",
       "number         0\n",
       "dtype: int64"
      ]
     },
     "metadata": {},
     "output_type": "display_data"
    },
    {
     "name": "stdout",
     "output_type": "stream",
     "text": [
      "\n",
      "Количество явных дубликатов: 0\n",
      "\n"
     ]
    }
   ],
   "source": [
    "# открываем файл, выводим с помощью функции\n",
    "data = pd.read_csv('/datasets/rest_data.csv')\n",
    "view(data, colored('о ресторанах Москвы', 'blue'))"
   ]
  },
  {
   "cell_type": "markdown",
   "metadata": {},
   "source": [
    "Описание данных:\n",
    "\n",
    "- id — идентификатор объекта;\n",
    "- object_name — название объекта общественного питания;\n",
    "- chain — сетевой ресторан;\n",
    "- object_type — тип объекта общественного питания;\n",
    "- address — адрес;\n",
    "- number — количество посадочных мест\n",
    "\n",
    "Явных дубликатов нет, пропусков нет, типы данных корректны. \n",
    "\n",
    "В столбце с названиями заведений использованы скобки, скачет регистр букв, упоминается тип заведения перед названием. Так как у нас нет документации к этим данным, то можно предположить, что названия заведений вносят в единый реестр их владельцы. Нам не известны юр. форма заведений, франшизные ли эти точки, входит ли слово \"кафе\" в официальное название или его можно убрать. \n",
    "\n",
    "Также далее мы будем исследовать именно типы заведений, поэтому имеет смысл не обрабатывать названия заведений. Доверится данным, которые вносили владельцы. \n",
    "\n",
    "Проверим какое минимальное/максимальное количество посадочных мест есть в заведениях:"
   ]
  },
  {
   "cell_type": "code",
   "execution_count": 5,
   "metadata": {},
   "outputs": [
    {
     "data": {
      "text/plain": [
       "0"
      ]
     },
     "execution_count": 5,
     "metadata": {},
     "output_type": "execute_result"
    }
   ],
   "source": [
    "# проверяем минимальное количество посадочных мест в заведениях\n",
    "data['number'].min()"
   ]
  },
  {
   "cell_type": "code",
   "execution_count": 6,
   "metadata": {},
   "outputs": [
    {
     "data": {
      "text/plain": [
       "1700"
      ]
     },
     "execution_count": 6,
     "metadata": {},
     "output_type": "execute_result"
    }
   ],
   "source": [
    "# проверяем максимальное количество посадочных мест в заведениях\n",
    "data['number'].max()"
   ]
  },
  {
   "cell_type": "markdown",
   "metadata": {},
   "source": [
    "Минимальное количество посадочных мест - 0, максимальное - 1700. Будем иметь ввиду эти данные при дальнейшем анализе. Однако в целом такое возможно. Например, во всяких МакАвто или небольших вагончиках может продаваться еда на вынос. Причем даже если это крупный ресторан он может иметь такую маленькую точку. В свою очередь в датасете есть столовые и крупные рестораны, посмотрим, что это за места с количеством посадочных мест более 1000:"
   ]
  },
  {
   "cell_type": "code",
   "execution_count": 7,
   "metadata": {},
   "outputs": [
    {
     "data": {
      "text/html": [
       "<div>\n",
       "<style scoped>\n",
       "    .dataframe tbody tr th:only-of-type {\n",
       "        vertical-align: middle;\n",
       "    }\n",
       "\n",
       "    .dataframe tbody tr th {\n",
       "        vertical-align: top;\n",
       "    }\n",
       "\n",
       "    .dataframe thead th {\n",
       "        text-align: right;\n",
       "    }\n",
       "</style>\n",
       "<table border=\"1\" class=\"dataframe\">\n",
       "  <thead>\n",
       "    <tr style=\"text-align: right;\">\n",
       "      <th></th>\n",
       "      <th>id</th>\n",
       "      <th>object_name</th>\n",
       "      <th>chain</th>\n",
       "      <th>object_type</th>\n",
       "      <th>address</th>\n",
       "      <th>number</th>\n",
       "    </tr>\n",
       "  </thead>\n",
       "  <tbody>\n",
       "    <tr>\n",
       "      <th>2313</th>\n",
       "      <td>26560</td>\n",
       "      <td>Ресторан «АЛЬФА»</td>\n",
       "      <td>нет</td>\n",
       "      <td>ресторан</td>\n",
       "      <td>город Москва, Измайловское шоссе, дом 71, корп...</td>\n",
       "      <td>1040</td>\n",
       "    </tr>\n",
       "    <tr>\n",
       "      <th>3686</th>\n",
       "      <td>27026</td>\n",
       "      <td>РУМ СЕРВИС</td>\n",
       "      <td>нет</td>\n",
       "      <td>ресторан</td>\n",
       "      <td>город Москва, площадь Европы, дом 2</td>\n",
       "      <td>1200</td>\n",
       "    </tr>\n",
       "    <tr>\n",
       "      <th>4480</th>\n",
       "      <td>27024</td>\n",
       "      <td>РУМ СЕРВИС</td>\n",
       "      <td>нет</td>\n",
       "      <td>ресторан</td>\n",
       "      <td>город Москва, Кутузовский проспект, дом 2/1, с...</td>\n",
       "      <td>1200</td>\n",
       "    </tr>\n",
       "    <tr>\n",
       "      <th>8148</th>\n",
       "      <td>80291</td>\n",
       "      <td>Банкетный зал Шелк</td>\n",
       "      <td>нет</td>\n",
       "      <td>ресторан</td>\n",
       "      <td>город Москва, Большой Саввинский переулок, дом...</td>\n",
       "      <td>1500</td>\n",
       "    </tr>\n",
       "    <tr>\n",
       "      <th>8345</th>\n",
       "      <td>27750</td>\n",
       "      <td>СТОЛОВАЯ-БУФЕТ</td>\n",
       "      <td>нет</td>\n",
       "      <td>столовая</td>\n",
       "      <td>город Москва, улица Волхонка, дом 15</td>\n",
       "      <td>1400</td>\n",
       "    </tr>\n",
       "    <tr>\n",
       "      <th>9064</th>\n",
       "      <td>19719</td>\n",
       "      <td>КОМБИНАТ ПИТАНИЯ «УПРАВЛЕНИЕ АКАДЕМСЕРВИС»</td>\n",
       "      <td>нет</td>\n",
       "      <td>столовая</td>\n",
       "      <td>город Москва, проспект Вернадского, дом 84, ст...</td>\n",
       "      <td>1288</td>\n",
       "    </tr>\n",
       "    <tr>\n",
       "      <th>12723</th>\n",
       "      <td>199696</td>\n",
       "      <td>Arena by Soho Family</td>\n",
       "      <td>нет</td>\n",
       "      <td>бар</td>\n",
       "      <td>город Москва, Кутузовский проспект, дом 36, ст...</td>\n",
       "      <td>1700</td>\n",
       "    </tr>\n",
       "  </tbody>\n",
       "</table>\n",
       "</div>"
      ],
      "text/plain": [
       "           id                                 object_name chain object_type  \\\n",
       "2313    26560                            Ресторан «АЛЬФА»   нет    ресторан   \n",
       "3686    27026                                  РУМ СЕРВИС   нет    ресторан   \n",
       "4480    27024                                  РУМ СЕРВИС   нет    ресторан   \n",
       "8148    80291                          Банкетный зал Шелк   нет    ресторан   \n",
       "8345    27750                              СТОЛОВАЯ-БУФЕТ   нет    столовая   \n",
       "9064    19719  КОМБИНАТ ПИТАНИЯ «УПРАВЛЕНИЕ АКАДЕМСЕРВИС»   нет    столовая   \n",
       "12723  199696                        Arena by Soho Family   нет         бар   \n",
       "\n",
       "                                                 address  number  \n",
       "2313   город Москва, Измайловское шоссе, дом 71, корп...    1040  \n",
       "3686                 город Москва, площадь Европы, дом 2    1200  \n",
       "4480   город Москва, Кутузовский проспект, дом 2/1, с...    1200  \n",
       "8148   город Москва, Большой Саввинский переулок, дом...    1500  \n",
       "8345                город Москва, улица Волхонка, дом 15    1400  \n",
       "9064   город Москва, проспект Вернадского, дом 84, ст...    1288  \n",
       "12723  город Москва, Кутузовский проспект, дом 36, ст...    1700  "
      ]
     },
     "execution_count": 7,
     "metadata": {},
     "output_type": "execute_result"
    }
   ],
   "source": [
    "# выделяем места с количеством посадочных мест более 1000\n",
    "max_number = data[data['number'] > 1000]\n",
    "max_number"
   ]
  },
  {
   "cell_type": "markdown",
   "metadata": {},
   "source": [
    "В дата сете присутствуют большие рестораны. Также за заведения общественного питания Москвы приняты, например, room serves в крупных гостиницах и бар на большом стадионе. \n",
    "\n",
    "Столовая буфет с аномально огромным количеством мест - это совокупное количество мест во всех трапезных Храма Христа Спасителя. \n",
    "\n",
    "Не стоит это править, так как, по сути, информация корректна. Попробуем все названия привести к одному регистру и проверить наличие не явных дубликатов:"
   ]
  },
  {
   "cell_type": "code",
   "execution_count": 8,
   "metadata": {},
   "outputs": [
    {
     "name": "stdout",
     "output_type": "stream",
     "text": [
      "<class 'pandas.core.frame.DataFrame'>\n",
      "Int64Index: 15281 entries, 0 to 15365\n",
      "Data columns (total 6 columns):\n",
      " #   Column       Non-Null Count  Dtype \n",
      "---  ------       --------------  ----- \n",
      " 0   id           15281 non-null  int64 \n",
      " 1   object_name  15281 non-null  object\n",
      " 2   chain        15281 non-null  object\n",
      " 3   object_type  15281 non-null  object\n",
      " 4   address      15281 non-null  object\n",
      " 5   number       15281 non-null  int64 \n",
      "dtypes: int64(2), object(4)\n",
      "memory usage: 835.7+ KB\n"
     ]
    }
   ],
   "source": [
    "# делаем единый регистр\n",
    "data['object_name'] = data['object_name'].str.lower()\n",
    "# удаляем возможные не явные дубликаты\n",
    "data = data.drop_duplicates(subset = ['object_name', 'chain', 'object_type', 'address', 'number'])\n",
    "\n",
    "# приверяем информацию\n",
    "data.info()"
   ]
  },
  {
   "cell_type": "markdown",
   "metadata": {},
   "source": [
    "Супер! У нас было некоторое количество не явных дубликатов, они успешно удалены. "
   ]
  },
  {
   "cell_type": "markdown",
   "metadata": {},
   "source": [
    "#### Вывод"
   ]
  },
  {
   "cell_type": "markdown",
   "metadata": {},
   "source": [
    "В целом данные у нас не идеальные. \n",
    "\n",
    "Однако явных дубликатов и пропусков в данных нет. Типы данных в целом соответствуют необходимым для исследования. \n",
    "В названиях точек видим разницу в регистре букв, упоминается \"кафе\" в названиях заведений. Однако вероятно, что это не ошибка. Нам не известно как именно и кем данные вносились в реестр заведений, возможно это сделали владельцы. В этом случае в официальных документах название заведения может быть прописано как \"Кафе «Академия»\". В связи с этим обработку названий производить смысла не имеет. \n",
    "\n",
    "Для проверки на не явные дубликаты мы привели все названия к единому регистру и удалили все строки для информация по всех столбцах кроме id повторялась."
   ]
  },
  {
   "cell_type": "markdown",
   "metadata": {},
   "source": [
    "### Анализ данных"
   ]
  },
  {
   "cell_type": "markdown",
   "metadata": {},
   "source": [
    "#### Исследование соотношения видов объектов по их количеству"
   ]
  },
  {
   "cell_type": "markdown",
   "metadata": {},
   "source": [
    "Проверим какое количество объектов разных типов находится в нашем городе:"
   ]
  },
  {
   "cell_type": "code",
   "execution_count": 9,
   "metadata": {},
   "outputs": [
    {
     "data": {
      "image/png": "[encoded data removed]",
      "text/plain": [
       "<Figure size 1080x360 with 1 Axes>"
      ]
     },
     "metadata": {
      "needs_background": "light"
     },
     "output_type": "display_data"
    }
   ],
   "source": [
    "# группируем данные по видам объектов\n",
    "type_of_object_count = data.groupby('object_type')['id'].count().reset_index(name='counts').sort_values(by='counts')\n",
    "\n",
    "# строим диаграмму\n",
    "plt.figure(figsize=(15,5))\n",
    "plt.barh(type_of_object_count['object_type'], type_of_object_count['counts'], color='green')\n",
    "plt.grid(which='major')\n",
    "plt.title(\"Количество заведений разных типов\", fontsize=15)\n",
    "plt.xlabel('Количество заведений')\n",
    "plt.ylabel('Типы заведений')\n",
    "plt.show()"
   ]
  },
  {
   "cell_type": "markdown",
   "metadata": {},
   "source": [
    "С большим отрывом лидируют кафе - их более 6 тыс. На втором месте, но сильно отстают столовые (~2,5 тыс) и на третьем месте рестораны (~2,3 тыс). "
   ]
  },
  {
   "cell_type": "markdown",
   "metadata": {},
   "source": [
    "#### Исследуем соотношение сетевых и несетевых заведений"
   ]
  },
  {
   "cell_type": "markdown",
   "metadata": {},
   "source": [
    "Проверим в нашем городе больше сетевых или не сетевых заведений:"
   ]
  },
  {
   "cell_type": "code",
   "execution_count": 10,
   "metadata": {},
   "outputs": [
    {
     "data": {
      "image/png": "[encoded data removed]",
      "text/plain": [
       "<Figure size 1080x360 with 1 Axes>"
      ]
     },
     "metadata": {
      "needs_background": "light"
     },
     "output_type": "display_data"
    }
   ],
   "source": [
    "# группируем данные по видам объектов\n",
    "chain_of_object_count = data.groupby('chain')['id'].count().reset_index(name='counts').sort_values(by='counts')\n",
    "\n",
    "# строим диаграмму\n",
    "plt.figure(figsize=(15,5))\n",
    "plt.bar(chain_of_object_count['chain'], chain_of_object_count['counts'], color='green')\n",
    "plt.grid(which='major')\n",
    "plt.title(\"Количество сетевых и не сетевых заведений в городе\", fontsize=13)\n",
    "plt.ylabel('Количество заведений')\n",
    "plt.xlabel('Тип заведений')\n",
    "plt.show()"
   ]
  },
  {
   "cell_type": "markdown",
   "metadata": {},
   "source": [
    "Большая часть заведений Москвы не являются сетевыми. Таковых более 12 тыс. Лишь примерно 3 тыс. заведений будут являться сетевыми. Отметим, что в нашем реестре заведений есть столовые или отделы кулинарии, которые изначально сетевыми быть могут вряд ли. Рассмотрим соотношение сетевых и не сетевых заведений по типу заведения:"
   ]
  },
  {
   "cell_type": "code",
   "execution_count": 11,
   "metadata": {},
   "outputs": [
    {
     "data": {
      "image/png": "[encoded data removed]",
      "text/plain": [
       "<Figure size 1080x360 with 1 Axes>"
      ]
     },
     "metadata": {
      "needs_background": "light"
     },
     "output_type": "display_data"
    }
   ],
   "source": [
    "# группируем данные по видам объектов\n",
    "type_chain_of_object_count = (data.groupby(['object_type','chain'])['id'].count().reset_index(name='counts')\n",
    "                              .sort_values(by='counts'))\n",
    "\n",
    "# строим диаграмму\n",
    "plt.figure(figsize=(15,5))\n",
    "sns.barplot(y=\"object_type\", x=\"counts\",\n",
    "                hue=\"chain\",\n",
    "                data=type_chain_of_object_count, palette=\"Set2\")\n",
    "\n",
    "plt.grid(which='major')\n",
    "plt.title(\"Количество сетевых и не сетевых заведений в городе\", fontsize=13)\n",
    "plt.xlabel('Количество заведений')\n",
    "plt.ylabel('Тип заведений')\n",
    "plt.legend()\n",
    "\n",
    " \n",
    "plt.show()"
   ]
  },
  {
   "cell_type": "markdown",
   "metadata": {},
   "source": [
    "В основном сетевой формат заведений характерен для кафе, предприятий быстрого обслуживания и ресторанов, меньше всего - для буфетов и столовых. "
   ]
  },
  {
   "cell_type": "markdown",
   "metadata": {},
   "source": [
    "#### Исследование количества посадочных мест в заведениях разных типов"
   ]
  },
  {
   "cell_type": "markdown",
   "metadata": {},
   "source": [
    "Посмотрим какое количество посадочных мест характерно для разных типов заведений. Начнем с сетевых и не сетевых:"
   ]
  },
  {
   "cell_type": "code",
   "execution_count": 12,
   "metadata": {},
   "outputs": [
    {
     "data": {
      "image/png": "[encoded data removed]",
      "text/plain": [
       "<Figure size 1440x360 with 1 Axes>"
      ]
     },
     "metadata": {
      "needs_background": "light"
     },
     "output_type": "display_data"
    }
   ],
   "source": [
    "# строим боксплот количества посадочных мест по типам заведений (сетевые и не сетевые)\n",
    "plt.figure(figsize=(20,5))\n",
    "\n",
    "sns.boxplot(x='number', y='chain', data=data, palette=\"Set3\") \n",
    "\n",
    "plt.grid(which='major')\n",
    "plt.title(\"Количество посадочных мест в сетевых и не сетевых заведениях\", fontsize=13)\n",
    "plt.xlabel('Количество посадочных мест')\n",
    "plt.ylabel('Тип заведений')\n",
    "\n",
    " \n",
    "plt.show()"
   ]
  },
  {
   "cell_type": "markdown",
   "metadata": {},
   "source": [
    "Для сетей в отличии от не сетевых заведений характерен меньший разброс значений количества посадочных мест. У не сетевых заведений есть существенные выбросы по этому значению. Так данные с максимальным количеством мест, которые мы видели при первичной обработке данных соответствуют как раз не сетевому заведению. \n",
    "\n",
    "Обрежем выбросы, чтобы лучше увидеть сами боксплоты:"
   ]
  },
  {
   "cell_type": "code",
   "execution_count": 13,
   "metadata": {},
   "outputs": [
    {
     "data": {
      "image/png": "[encoded data removed]",
      "text/plain": [
       "<Figure size 1440x360 with 1 Axes>"
      ]
     },
     "metadata": {
      "needs_background": "light"
     },
     "output_type": "display_data"
    }
   ],
   "source": [
    "# строим боксплот количества посадочных мест по типам заведений с обрезанными данными по выбросам\n",
    "plt.figure(figsize=(20,5))\n",
    "\n",
    "sns.boxplot(x='number', y='chain', data=data, palette=\"Set3\") \n",
    "\n",
    "plt.grid(which='major')\n",
    "plt.title(\"Количество посадочных мест в сетевых и не сетевых заведениях\", fontsize=13)\n",
    "plt.xlabel('Количество посадочных мест')\n",
    "plt.ylabel('Тип заведений')\n",
    "plt.xlim(0,250)\n",
    " \n",
    "plt.show()"
   ]
  },
  {
   "cell_type": "markdown",
   "metadata": {},
   "source": [
    "Медианные значения количества посадочных мест у сетевых и не сетевых заведений, как ни странно, оказались одинаковыми. \n",
    "\n",
    "Для сетевых заведений в основном характерно не слишком большое количество посадочных мест (до 70). Однако есть отдельные выбросы, это заведения с большим количеством посадочных. \n",
    "\n",
    "Посмотрим какое количество посадочных мест имеют заведения по типам:"
   ]
  },
  {
   "cell_type": "code",
   "execution_count": 14,
   "metadata": {},
   "outputs": [
    {
     "data": {
      "image/png": "[encoded data removed]",
      "text/plain": [
       "<Figure size 1080x720 with 1 Axes>"
      ]
     },
     "metadata": {
      "needs_background": "light"
     },
     "output_type": "display_data"
    }
   ],
   "source": [
    "# строим боксплот количества посадочных мест по типам заведений\n",
    "plt.figure(figsize=(15,10))\n",
    "\n",
    "sns.boxplot(y='object_type', x='number', data=data, palette=\"Set3\") \n",
    "\n",
    "plt.grid(which='major')\n",
    "plt.title(\"Количество посадочных мест по типам заведений\", fontsize=13)\n",
    "plt.xlabel('Количество посадочных мест')\n",
    "plt.ylabel('Тип заведений')\n",
    " \n",
    "plt.show()"
   ]
  },
  {
   "cell_type": "markdown",
   "metadata": {},
   "source": [
    "А вот и наш бар на 1700 мест :)\n",
    "\n",
    "Большие выбросы имеют рестораны и столовые. В остальных заведениях разброс данных в целом меньше. Уберем выбросы, чтобы боксплоты были видны лучше:"
   ]
  },
  {
   "cell_type": "code",
   "execution_count": 15,
   "metadata": {},
   "outputs": [
    {
     "data": {
      "image/png": "[encoded data removed]",
      "text/plain": [
       "<Figure size 1080x720 with 1 Axes>"
      ]
     },
     "metadata": {
      "needs_background": "light"
     },
     "output_type": "display_data"
    }
   ],
   "source": [
    "# строим боксплот количества посадочных мест по типам заведений (обрезаем выбросы для лучшего отображения)\n",
    "plt.figure(figsize=(15,10))\n",
    "\n",
    "sns.boxplot(y='object_type', x='number', data=data, palette=\"Set3\") \n",
    "\n",
    "plt.grid(which='major')\n",
    "plt.title(\"Количество посадочных мест по типам заведений\", fontsize=13)\n",
    "plt.xlabel('Количество посадочных мест')\n",
    "plt.ylabel('Тип заведений')\n",
    "plt.xlim(0,500) \n",
    "    \n",
    "plt.show()"
   ]
  },
  {
   "cell_type": "markdown",
   "metadata": {},
   "source": [
    "У отделов кулинарии, закусочных и кафетериев часто не бывает посадочных мест, что нормально. По количеству мест выделяются ранее упомянутые рестораны и столовые, они в целом имеют больше посадочных мест, чем иные заведения, еще и имеют довольно много заведений с большим количеством мест, чем обычно. \n",
    "На вторых строчках держатся бары, буфеты и кафе. В них посадочных мест обычно меньше, но и нельзя сказать, что их совсем нет. "
   ]
  },
  {
   "cell_type": "markdown",
   "metadata": {},
   "source": [
    "Проверим какое соотношение количества точек и посадочных мест характерно для сетевых заведений:"
   ]
  },
  {
   "cell_type": "code",
   "execution_count": 44,
   "metadata": {},
   "outputs": [
    {
     "data": {
      "image/png": "[encoded data removed]",
      "text/plain": [
       "<Figure size 720x360 with 1 Axes>"
      ]
     },
     "metadata": {
      "needs_background": "light"
     },
     "output_type": "display_data"
    }
   ],
   "source": [
    "# выделяем только сетевые заведения\n",
    "chain_group = data[data['chain'] == 'да']\n",
    "\n",
    "# группируем данные, считаем количество точек и медианное количество посадочных мест\n",
    "chain_group = (chain_group.groupby('object_name').agg({'id': 'count', 'number': 'median'}).reset_index()\n",
    "               .sort_values(by='id'))\n",
    "\n",
    "# рисуем диаграмму\n",
    "plt.figure(figsize=(10,5))\n",
    "\n",
    "sns.scatterplot(y='id', x='number', data=chain_group, color = 'green') \n",
    "\n",
    "plt.grid(which='major')\n",
    "plt.title(\"Соотношение количество точек сетевых заведений к количеству посадочных мест\", fontsize=13)\n",
    "plt.xlabel('Количество посадочных мест')\n",
    "plt.ylabel('Количество заведений в сети')\n",
    "    \n",
    "plt.show()"
   ]
  },
  {
   "cell_type": "markdown",
   "metadata": {},
   "source": [
    "Вероятно, для сетей не очень характерно иметь много заведений или по крайней мере много заведений с одним названием (этот момент мы помним, но не стали править, так как нам не известно относятся ли заведения с немного иным названием именно к этим сетям или нет). В тоже время разброс данных по количеству мест весьма большой. \n",
    "\n",
    "В исследовании мы взяли именно медианное значение по количеству мест, чтобы избежать влияние выбросов на расчет среднего. "
   ]
  },
  {
   "cell_type": "markdown",
   "metadata": {},
   "source": [
    "#### Исследование геолокации заведений разных видов"
   ]
  },
  {
   "cell_type": "markdown",
   "metadata": {},
   "source": [
    "Отделим улицы в отдельный датасет, посчитаем количество объектов, которые расположены на данных улицах:"
   ]
  },
  {
   "cell_type": "code",
   "execution_count": 16,
   "metadata": {},
   "outputs": [
    {
     "name": "stdout",
     "output_type": "stream",
     "text": [
      "<class 'pandas.core.frame.DataFrame'>\n",
      "Int64Index: 15281 entries, 0 to 15365\n",
      "Data columns (total 7 columns):\n",
      " #   Column       Non-Null Count  Dtype \n",
      "---  ------       --------------  ----- \n",
      " 0   id           15281 non-null  int64 \n",
      " 1   object_name  15281 non-null  object\n",
      " 2   chain        15281 non-null  object\n",
      " 3   object_type  15281 non-null  object\n",
      " 4   address      15281 non-null  object\n",
      " 5   number       15281 non-null  int64 \n",
      " 6   street       14844 non-null  object\n",
      "dtypes: int64(2), object(5)\n",
      "memory usage: 1.4+ MB\n"
     ]
    }
   ],
   "source": [
    "# выделяем улицы из адреса\n",
    "street = ['улица','ул','переулок','шоссе','проспект','площадь','проезд',\n",
    "         'село','аллея','бульвар','набережная','тупик','линия', 'квартал']\n",
    "\n",
    "str_street = r\".*,\\s*\\b([^,]*?(?:{})\\b[^,]*)[,$]+\".format(\"|\".join(street))\n",
    "\n",
    "\n",
    "data['street'] = data['address'].str.extract(str_street)\n",
    "\n",
    "data.info()"
   ]
  },
  {
   "cell_type": "markdown",
   "metadata": {},
   "source": [
    "У нас получилась некоторое количество не заполненных данных, посмотрим, что это за данные, в основном это город Зеленоград, где нет улиц или же поселки. Посчитаем долю таких не заполненных строк:"
   ]
  },
  {
   "cell_type": "code",
   "execution_count": 17,
   "metadata": {},
   "outputs": [
    {
     "name": "stdout",
     "output_type": "stream",
     "text": [
      "2.86%\n"
     ]
    }
   ],
   "source": [
    "# рассчитываем долю строк, у которых не получилось вывести улицу\n",
    "share_street_nan = len(data[data['street'].isna()])/len(data['address'])\n",
    "print(f'{share_street_nan:.2%}')"
   ]
  },
  {
   "cell_type": "markdown",
   "metadata": {},
   "source": [
    "Процент таких данных не очень большой. Будем иметь ввиду, что у нас есть не заполненные данные по улицам в некоторых строках. \n",
    "Сгруппируем данные и посмотрим топ улиц по количеству заведений:"
   ]
  },
  {
   "cell_type": "code",
   "execution_count": 18,
   "metadata": {},
   "outputs": [
    {
     "data": {
      "text/html": [
       "<div>\n",
       "<style scoped>\n",
       "    .dataframe tbody tr th:only-of-type {\n",
       "        vertical-align: middle;\n",
       "    }\n",
       "\n",
       "    .dataframe tbody tr th {\n",
       "        vertical-align: top;\n",
       "    }\n",
       "\n",
       "    .dataframe thead th {\n",
       "        text-align: right;\n",
       "    }\n",
       "</style>\n",
       "<table border=\"1\" class=\"dataframe\">\n",
       "  <thead>\n",
       "    <tr style=\"text-align: right;\">\n",
       "      <th></th>\n",
       "      <th>street</th>\n",
       "      <th>counts</th>\n",
       "    </tr>\n",
       "  </thead>\n",
       "  <tbody>\n",
       "    <tr>\n",
       "      <th>1421</th>\n",
       "      <td>проспект Мира</td>\n",
       "      <td>203</td>\n",
       "    </tr>\n",
       "    <tr>\n",
       "      <th>1010</th>\n",
       "      <td>Профсоюзная улица</td>\n",
       "      <td>181</td>\n",
       "    </tr>\n",
       "    <tr>\n",
       "      <th>685</th>\n",
       "      <td>Ленинградский проспект</td>\n",
       "      <td>170</td>\n",
       "    </tr>\n",
       "    <tr>\n",
       "      <th>995</th>\n",
       "      <td>Пресненская набережная</td>\n",
       "      <td>167</td>\n",
       "    </tr>\n",
       "    <tr>\n",
       "      <th>399</th>\n",
       "      <td>Варшавское шоссе</td>\n",
       "      <td>164</td>\n",
       "    </tr>\n",
       "    <tr>\n",
       "      <th>688</th>\n",
       "      <td>Ленинский проспект</td>\n",
       "      <td>147</td>\n",
       "    </tr>\n",
       "    <tr>\n",
       "      <th>1417</th>\n",
       "      <td>проспект Вернадского</td>\n",
       "      <td>128</td>\n",
       "    </tr>\n",
       "    <tr>\n",
       "      <th>675</th>\n",
       "      <td>Кутузовский проспект</td>\n",
       "      <td>114</td>\n",
       "    </tr>\n",
       "    <tr>\n",
       "      <th>598</th>\n",
       "      <td>Каширское шоссе</td>\n",
       "      <td>111</td>\n",
       "    </tr>\n",
       "    <tr>\n",
       "      <th>605</th>\n",
       "      <td>Кировоградская улица</td>\n",
       "      <td>108</td>\n",
       "    </tr>\n",
       "  </tbody>\n",
       "</table>\n",
       "</div>"
      ],
      "text/plain": [
       "                      street  counts\n",
       "1421           проспект Мира     203\n",
       "1010       Профсоюзная улица     181\n",
       "685   Ленинградский проспект     170\n",
       "995   Пресненская набережная     167\n",
       "399         Варшавское шоссе     164\n",
       "688       Ленинский проспект     147\n",
       "1417    проспект Вернадского     128\n",
       "675     Кутузовский проспект     114\n",
       "598          Каширское шоссе     111\n",
       "605     Кировоградская улица     108"
      ]
     },
     "execution_count": 18,
     "metadata": {},
     "output_type": "execute_result"
    }
   ],
   "source": [
    "# группируем данные по количеству улице и считаем количество заведений на ней\n",
    "data_street = data.groupby('street')['id'].count().reset_index(name='counts').sort_values(by='counts', ascending = False)\n",
    "top_data_street = data_street.head(10)\n",
    "\n",
    "# выводим топ 10 улиц\n",
    "top_data_street"
   ]
  },
  {
   "cell_type": "markdown",
   "metadata": {},
   "source": [
    "Посмотрим на данные в виде диаграммы:"
   ]
  },
  {
   "cell_type": "code",
   "execution_count": 19,
   "metadata": {},
   "outputs": [
    {
     "data": {
      "image/png": "[encoded data removed]",
      "text/plain": [
       "<Figure size 1080x360 with 1 Axes>"
      ]
     },
     "metadata": {
      "needs_background": "light"
     },
     "output_type": "display_data"
    }
   ],
   "source": [
    "# выводим данные в виде диаграммы\n",
    "plt.figure(figsize=(15,5))\n",
    "sns.barplot(y=\"street\", x=\"counts\",\n",
    "                data=top_data_street, palette=\"Set2\")\n",
    "\n",
    "plt.grid(which='major')\n",
    "plt.title(\"Количество сетевых и не сетевых заведений в городе\", fontsize=13)\n",
    "plt.xlabel('Количество заведений')\n",
    "plt.ylabel('Улица')\n",
    " \n",
    "plt.show()"
   ]
  },
  {
   "cell_type": "markdown",
   "metadata": {},
   "source": [
    "Больше всего заведений на проспекте Мира. Также в топ входят Профсоюзная улица и Ленинградский проспект. В топе на всех улицах находится более сотни заведений. \n",
    "\n",
    "Посмотрим в каких районах проходят данные улицы. Для этого выгрузим информацию из открытых данных https://opengovdata.ru/:"
   ]
  },
  {
   "cell_type": "code",
   "execution_count": 20,
   "metadata": {},
   "outputs": [
    {
     "data": {
      "text/html": [
       "<div>\n",
       "<style scoped>\n",
       "    .dataframe tbody tr th:only-of-type {\n",
       "        vertical-align: middle;\n",
       "    }\n",
       "\n",
       "    .dataframe tbody tr th {\n",
       "        vertical-align: top;\n",
       "    }\n",
       "\n",
       "    .dataframe thead th {\n",
       "        text-align: right;\n",
       "    }\n",
       "</style>\n",
       "<table border=\"1\" class=\"dataframe\">\n",
       "  <thead>\n",
       "    <tr style=\"text-align: right;\">\n",
       "      <th></th>\n",
       "      <th>street</th>\n",
       "      <th>areaid</th>\n",
       "      <th>okrug</th>\n",
       "      <th>area</th>\n",
       "    </tr>\n",
       "  </thead>\n",
       "  <tbody>\n",
       "    <tr>\n",
       "      <th>0</th>\n",
       "      <td>Выставочный переулок</td>\n",
       "      <td>17</td>\n",
       "      <td>ЦАО</td>\n",
       "      <td>Пресненский район</td>\n",
       "    </tr>\n",
       "    <tr>\n",
       "      <th>1</th>\n",
       "      <td>улица Гашека</td>\n",
       "      <td>17</td>\n",
       "      <td>ЦАО</td>\n",
       "      <td>Пресненский район</td>\n",
       "    </tr>\n",
       "    <tr>\n",
       "      <th>2</th>\n",
       "      <td>Большая Никитская улица</td>\n",
       "      <td>17</td>\n",
       "      <td>ЦАО</td>\n",
       "      <td>Пресненский район</td>\n",
       "    </tr>\n",
       "    <tr>\n",
       "      <th>3</th>\n",
       "      <td>Глубокий переулок</td>\n",
       "      <td>17</td>\n",
       "      <td>ЦАО</td>\n",
       "      <td>Пресненский район</td>\n",
       "    </tr>\n",
       "    <tr>\n",
       "      <th>4</th>\n",
       "      <td>Большой Гнездниковский переулок</td>\n",
       "      <td>17</td>\n",
       "      <td>ЦАО</td>\n",
       "      <td>Пресненский район</td>\n",
       "    </tr>\n",
       "  </tbody>\n",
       "</table>\n",
       "</div>"
      ],
      "text/plain": [
       "                            street  areaid okrug               area\n",
       "0             Выставочный переулок      17   ЦАО  Пресненский район\n",
       "1                     улица Гашека      17   ЦАО  Пресненский район\n",
       "2          Большая Никитская улица      17   ЦАО  Пресненский район\n",
       "3                Глубокий переулок      17   ЦАО  Пресненский район\n",
       "4  Большой Гнездниковский переулок      17   ЦАО  Пресненский район"
      ]
     },
     "execution_count": 20,
     "metadata": {},
     "output_type": "execute_result"
    }
   ],
   "source": [
    "# загружаем датасет с улицами, районами и округами\n",
    "url = 'https://drive.google.com/file/d/1ftsRrmFaS8dQrY-ZtcSpEUVmlfMwDq34/view?usp=sharing'\n",
    "path = 'https://drive.google.com/uc?export=download&id='+url.split('/')[-2]\n",
    "district = pd.read_csv(path, index_col=0)\n",
    "district.columns=['street','areaid', 'okrug', 'area']\n",
    "district.head()"
   ]
  },
  {
   "cell_type": "markdown",
   "metadata": {},
   "source": [
    "Объединим таблицы:"
   ]
  },
  {
   "cell_type": "code",
   "execution_count": 21,
   "metadata": {},
   "outputs": [
    {
     "data": {
      "text/html": [
       "<div>\n",
       "<style scoped>\n",
       "    .dataframe tbody tr th:only-of-type {\n",
       "        vertical-align: middle;\n",
       "    }\n",
       "\n",
       "    .dataframe tbody tr th {\n",
       "        vertical-align: top;\n",
       "    }\n",
       "\n",
       "    .dataframe thead th {\n",
       "        text-align: right;\n",
       "    }\n",
       "</style>\n",
       "<table border=\"1\" class=\"dataframe\">\n",
       "  <thead>\n",
       "    <tr style=\"text-align: right;\">\n",
       "      <th></th>\n",
       "      <th>street</th>\n",
       "      <th>counts</th>\n",
       "      <th>areaid</th>\n",
       "      <th>okrug</th>\n",
       "      <th>area</th>\n",
       "    </tr>\n",
       "  </thead>\n",
       "  <tbody>\n",
       "    <tr>\n",
       "      <th>0</th>\n",
       "      <td>проспект Мира</td>\n",
       "      <td>203</td>\n",
       "      <td>70</td>\n",
       "      <td>СВАО</td>\n",
       "      <td>Алексеевский район</td>\n",
       "    </tr>\n",
       "    <tr>\n",
       "      <th>1</th>\n",
       "      <td>проспект Мира</td>\n",
       "      <td>203</td>\n",
       "      <td>86</td>\n",
       "      <td>СВАО</td>\n",
       "      <td>Ярославский Район</td>\n",
       "    </tr>\n",
       "    <tr>\n",
       "      <th>2</th>\n",
       "      <td>проспект Мира</td>\n",
       "      <td>203</td>\n",
       "      <td>78</td>\n",
       "      <td>СВАО</td>\n",
       "      <td>Район Марьина роща</td>\n",
       "    </tr>\n",
       "    <tr>\n",
       "      <th>3</th>\n",
       "      <td>проспект Мира</td>\n",
       "      <td>203</td>\n",
       "      <td>79</td>\n",
       "      <td>СВАО</td>\n",
       "      <td>Останкинский район</td>\n",
       "    </tr>\n",
       "    <tr>\n",
       "      <th>4</th>\n",
       "      <td>проспект Мира</td>\n",
       "      <td>203</td>\n",
       "      <td>81</td>\n",
       "      <td>СВАО</td>\n",
       "      <td>Район Ростокино</td>\n",
       "    </tr>\n",
       "    <tr>\n",
       "      <th>5</th>\n",
       "      <td>проспект Мира</td>\n",
       "      <td>203</td>\n",
       "      <td>82</td>\n",
       "      <td>СВАО</td>\n",
       "      <td>Район Свиблово</td>\n",
       "    </tr>\n",
       "    <tr>\n",
       "      <th>6</th>\n",
       "      <td>проспект Мира</td>\n",
       "      <td>203</td>\n",
       "      <td>16</td>\n",
       "      <td>ЦАО</td>\n",
       "      <td>Мещанский район</td>\n",
       "    </tr>\n",
       "    <tr>\n",
       "      <th>7</th>\n",
       "      <td>Профсоюзная улица</td>\n",
       "      <td>181</td>\n",
       "      <td>123</td>\n",
       "      <td>ЮЗАО</td>\n",
       "      <td>Академический район</td>\n",
       "    </tr>\n",
       "    <tr>\n",
       "      <th>8</th>\n",
       "      <td>Профсоюзная улица</td>\n",
       "      <td>181</td>\n",
       "      <td>132</td>\n",
       "      <td>ЮЗАО</td>\n",
       "      <td>Район Черемушки</td>\n",
       "    </tr>\n",
       "    <tr>\n",
       "      <th>9</th>\n",
       "      <td>Профсоюзная улица</td>\n",
       "      <td>181</td>\n",
       "      <td>134</td>\n",
       "      <td>ЮЗАО</td>\n",
       "      <td>Район Ясенево</td>\n",
       "    </tr>\n",
       "    <tr>\n",
       "      <th>10</th>\n",
       "      <td>Профсоюзная улица</td>\n",
       "      <td>181</td>\n",
       "      <td>126</td>\n",
       "      <td>ЮЗАО</td>\n",
       "      <td>Район Коньково</td>\n",
       "    </tr>\n",
       "    <tr>\n",
       "      <th>11</th>\n",
       "      <td>Профсоюзная улица</td>\n",
       "      <td>181</td>\n",
       "      <td>129</td>\n",
       "      <td>ЮЗАО</td>\n",
       "      <td>Обручевский район</td>\n",
       "    </tr>\n",
       "    <tr>\n",
       "      <th>12</th>\n",
       "      <td>Профсоюзная улица</td>\n",
       "      <td>181</td>\n",
       "      <td>131</td>\n",
       "      <td>ЮЗАО</td>\n",
       "      <td>Район Теплый Стан</td>\n",
       "    </tr>\n",
       "    <tr>\n",
       "      <th>13</th>\n",
       "      <td>Ленинградский проспект</td>\n",
       "      <td>170</td>\n",
       "      <td>54</td>\n",
       "      <td>САО</td>\n",
       "      <td>Район Аэропорт</td>\n",
       "    </tr>\n",
       "    <tr>\n",
       "      <th>14</th>\n",
       "      <td>Ленинградский проспект</td>\n",
       "      <td>170</td>\n",
       "      <td>55</td>\n",
       "      <td>САО</td>\n",
       "      <td>Район Беговой</td>\n",
       "    </tr>\n",
       "    <tr>\n",
       "      <th>15</th>\n",
       "      <td>Ленинградский проспект</td>\n",
       "      <td>170</td>\n",
       "      <td>69</td>\n",
       "      <td>САО</td>\n",
       "      <td>Хорошевский район</td>\n",
       "    </tr>\n",
       "    <tr>\n",
       "      <th>16</th>\n",
       "      <td>Ленинградский проспект</td>\n",
       "      <td>170</td>\n",
       "      <td>66</td>\n",
       "      <td>САО</td>\n",
       "      <td>Район Сокол</td>\n",
       "    </tr>\n",
       "    <tr>\n",
       "      <th>17</th>\n",
       "      <td>Пресненская набережная</td>\n",
       "      <td>167</td>\n",
       "      <td>17</td>\n",
       "      <td>ЦАО</td>\n",
       "      <td>Пресненский район</td>\n",
       "    </tr>\n",
       "    <tr>\n",
       "      <th>18</th>\n",
       "      <td>Варшавское шоссе</td>\n",
       "      <td>164</td>\n",
       "      <td>109</td>\n",
       "      <td>ЮАО</td>\n",
       "      <td>Район Чертаново Центральное</td>\n",
       "    </tr>\n",
       "    <tr>\n",
       "      <th>19</th>\n",
       "      <td>Варшавское шоссе</td>\n",
       "      <td>164</td>\n",
       "      <td>108</td>\n",
       "      <td>ЮАО</td>\n",
       "      <td>Район Чертаново Северное</td>\n",
       "    </tr>\n",
       "    <tr>\n",
       "      <th>20</th>\n",
       "      <td>Варшавское шоссе</td>\n",
       "      <td>164</td>\n",
       "      <td>110</td>\n",
       "      <td>ЮАО</td>\n",
       "      <td>Район Чертаново Южное</td>\n",
       "    </tr>\n",
       "    <tr>\n",
       "      <th>21</th>\n",
       "      <td>Варшавское шоссе</td>\n",
       "      <td>164</td>\n",
       "      <td>99</td>\n",
       "      <td>ЮАО</td>\n",
       "      <td>Донской район</td>\n",
       "    </tr>\n",
       "    <tr>\n",
       "      <th>22</th>\n",
       "      <td>Варшавское шоссе</td>\n",
       "      <td>164</td>\n",
       "      <td>102</td>\n",
       "      <td>ЮАО</td>\n",
       "      <td>Район Нагатино-Садовники</td>\n",
       "    </tr>\n",
       "    <tr>\n",
       "      <th>23</th>\n",
       "      <td>Варшавское шоссе</td>\n",
       "      <td>164</td>\n",
       "      <td>104</td>\n",
       "      <td>ЮАО</td>\n",
       "      <td>Нагорный район</td>\n",
       "    </tr>\n",
       "    <tr>\n",
       "      <th>24</th>\n",
       "      <td>Варшавское шоссе</td>\n",
       "      <td>164</td>\n",
       "      <td>130</td>\n",
       "      <td>ЮЗАО</td>\n",
       "      <td>Район Северное Бутово</td>\n",
       "    </tr>\n",
       "    <tr>\n",
       "      <th>25</th>\n",
       "      <td>Варшавское шоссе</td>\n",
       "      <td>164</td>\n",
       "      <td>133</td>\n",
       "      <td>ЮЗАО</td>\n",
       "      <td>Район Южное Бутово</td>\n",
       "    </tr>\n",
       "    <tr>\n",
       "      <th>26</th>\n",
       "      <td>Ленинский проспект</td>\n",
       "      <td>147</td>\n",
       "      <td>44</td>\n",
       "      <td>ЗАО</td>\n",
       "      <td>Район Проспект Вернадского</td>\n",
       "    </tr>\n",
       "    <tr>\n",
       "      <th>27</th>\n",
       "      <td>Ленинский проспект</td>\n",
       "      <td>147</td>\n",
       "      <td>47</td>\n",
       "      <td>ЗАО</td>\n",
       "      <td>Район Тропарево-Никулино</td>\n",
       "    </tr>\n",
       "    <tr>\n",
       "      <th>28</th>\n",
       "      <td>Ленинский проспект</td>\n",
       "      <td>147</td>\n",
       "      <td>99</td>\n",
       "      <td>ЮАО</td>\n",
       "      <td>Донской район</td>\n",
       "    </tr>\n",
       "    <tr>\n",
       "      <th>29</th>\n",
       "      <td>Ленинский проспект</td>\n",
       "      <td>147</td>\n",
       "      <td>124</td>\n",
       "      <td>ЮЗАО</td>\n",
       "      <td>Район Гагаринский</td>\n",
       "    </tr>\n",
       "    <tr>\n",
       "      <th>30</th>\n",
       "      <td>Ленинский проспект</td>\n",
       "      <td>147</td>\n",
       "      <td>128</td>\n",
       "      <td>ЮЗАО</td>\n",
       "      <td>Ломоносовский район</td>\n",
       "    </tr>\n",
       "    <tr>\n",
       "      <th>31</th>\n",
       "      <td>Ленинский проспект</td>\n",
       "      <td>147</td>\n",
       "      <td>129</td>\n",
       "      <td>ЮЗАО</td>\n",
       "      <td>Обручевский район</td>\n",
       "    </tr>\n",
       "    <tr>\n",
       "      <th>32</th>\n",
       "      <td>Ленинский проспект</td>\n",
       "      <td>147</td>\n",
       "      <td>131</td>\n",
       "      <td>ЮЗАО</td>\n",
       "      <td>Район Теплый Стан</td>\n",
       "    </tr>\n",
       "    <tr>\n",
       "      <th>33</th>\n",
       "      <td>Ленинский проспект</td>\n",
       "      <td>147</td>\n",
       "      <td>21</td>\n",
       "      <td>ЦАО</td>\n",
       "      <td>Район Якиманка</td>\n",
       "    </tr>\n",
       "    <tr>\n",
       "      <th>34</th>\n",
       "      <td>проспект Вернадского</td>\n",
       "      <td>128</td>\n",
       "      <td>44</td>\n",
       "      <td>ЗАО</td>\n",
       "      <td>Район Проспект Вернадского</td>\n",
       "    </tr>\n",
       "    <tr>\n",
       "      <th>35</th>\n",
       "      <td>проспект Вернадского</td>\n",
       "      <td>128</td>\n",
       "      <td>45</td>\n",
       "      <td>ЗАО</td>\n",
       "      <td>Район Раменки</td>\n",
       "    </tr>\n",
       "    <tr>\n",
       "      <th>36</th>\n",
       "      <td>проспект Вернадского</td>\n",
       "      <td>128</td>\n",
       "      <td>47</td>\n",
       "      <td>ЗАО</td>\n",
       "      <td>Район Тропарево-Никулино</td>\n",
       "    </tr>\n",
       "    <tr>\n",
       "      <th>37</th>\n",
       "      <td>проспект Вернадского</td>\n",
       "      <td>128</td>\n",
       "      <td>124</td>\n",
       "      <td>ЮЗАО</td>\n",
       "      <td>Район Гагаринский</td>\n",
       "    </tr>\n",
       "    <tr>\n",
       "      <th>38</th>\n",
       "      <td>проспект Вернадского</td>\n",
       "      <td>128</td>\n",
       "      <td>128</td>\n",
       "      <td>ЮЗАО</td>\n",
       "      <td>Ломоносовский район</td>\n",
       "    </tr>\n",
       "    <tr>\n",
       "      <th>39</th>\n",
       "      <td>Кутузовский проспект</td>\n",
       "      <td>114</td>\n",
       "      <td>38</td>\n",
       "      <td>ЗАО</td>\n",
       "      <td>Район Дорогомилово</td>\n",
       "    </tr>\n",
       "    <tr>\n",
       "      <th>40</th>\n",
       "      <td>Кутузовский проспект</td>\n",
       "      <td>114</td>\n",
       "      <td>49</td>\n",
       "      <td>ЗАО</td>\n",
       "      <td>Район Фили-Давыдково</td>\n",
       "    </tr>\n",
       "    <tr>\n",
       "      <th>41</th>\n",
       "      <td>Каширское шоссе</td>\n",
       "      <td>111</td>\n",
       "      <td>101</td>\n",
       "      <td>ЮАО</td>\n",
       "      <td>Район Москворечье-Сабурово</td>\n",
       "    </tr>\n",
       "    <tr>\n",
       "      <th>42</th>\n",
       "      <td>Каширское шоссе</td>\n",
       "      <td>111</td>\n",
       "      <td>102</td>\n",
       "      <td>ЮАО</td>\n",
       "      <td>Район Нагатино-Садовники</td>\n",
       "    </tr>\n",
       "    <tr>\n",
       "      <th>43</th>\n",
       "      <td>Каширское шоссе</td>\n",
       "      <td>111</td>\n",
       "      <td>106</td>\n",
       "      <td>ЮАО</td>\n",
       "      <td>Район Орехово-Борисово Южное</td>\n",
       "    </tr>\n",
       "    <tr>\n",
       "      <th>44</th>\n",
       "      <td>Каширское шоссе</td>\n",
       "      <td>111</td>\n",
       "      <td>105</td>\n",
       "      <td>ЮАО</td>\n",
       "      <td>Район Орехово-Борисово Северное</td>\n",
       "    </tr>\n",
       "    <tr>\n",
       "      <th>45</th>\n",
       "      <td>Кировоградская улица</td>\n",
       "      <td>108</td>\n",
       "      <td>109</td>\n",
       "      <td>ЮАО</td>\n",
       "      <td>Район Чертаново Центральное</td>\n",
       "    </tr>\n",
       "    <tr>\n",
       "      <th>46</th>\n",
       "      <td>Кировоградская улица</td>\n",
       "      <td>108</td>\n",
       "      <td>108</td>\n",
       "      <td>ЮАО</td>\n",
       "      <td>Район Чертаново Северное</td>\n",
       "    </tr>\n",
       "    <tr>\n",
       "      <th>47</th>\n",
       "      <td>Кировоградская улица</td>\n",
       "      <td>108</td>\n",
       "      <td>110</td>\n",
       "      <td>ЮАО</td>\n",
       "      <td>Район Чертаново Южное</td>\n",
       "    </tr>\n",
       "  </tbody>\n",
       "</table>\n",
       "</div>"
      ],
      "text/plain": [
       "                    street  counts  areaid okrug  \\\n",
       "0            проспект Мира     203      70  СВАО   \n",
       "1            проспект Мира     203      86  СВАО   \n",
       "2            проспект Мира     203      78  СВАО   \n",
       "3            проспект Мира     203      79  СВАО   \n",
       "4            проспект Мира     203      81  СВАО   \n",
       "5            проспект Мира     203      82  СВАО   \n",
       "6            проспект Мира     203      16   ЦАО   \n",
       "7        Профсоюзная улица     181     123  ЮЗАО   \n",
       "8        Профсоюзная улица     181     132  ЮЗАО   \n",
       "9        Профсоюзная улица     181     134  ЮЗАО   \n",
       "10       Профсоюзная улица     181     126  ЮЗАО   \n",
       "11       Профсоюзная улица     181     129  ЮЗАО   \n",
       "12       Профсоюзная улица     181     131  ЮЗАО   \n",
       "13  Ленинградский проспект     170      54   САО   \n",
       "14  Ленинградский проспект     170      55   САО   \n",
       "15  Ленинградский проспект     170      69   САО   \n",
       "16  Ленинградский проспект     170      66   САО   \n",
       "17  Пресненская набережная     167      17   ЦАО   \n",
       "18        Варшавское шоссе     164     109   ЮАО   \n",
       "19        Варшавское шоссе     164     108   ЮАО   \n",
       "20        Варшавское шоссе     164     110   ЮАО   \n",
       "21        Варшавское шоссе     164      99   ЮАО   \n",
       "22        Варшавское шоссе     164     102   ЮАО   \n",
       "23        Варшавское шоссе     164     104   ЮАО   \n",
       "24        Варшавское шоссе     164     130  ЮЗАО   \n",
       "25        Варшавское шоссе     164     133  ЮЗАО   \n",
       "26      Ленинский проспект     147      44   ЗАО   \n",
       "27      Ленинский проспект     147      47   ЗАО   \n",
       "28      Ленинский проспект     147      99   ЮАО   \n",
       "29      Ленинский проспект     147     124  ЮЗАО   \n",
       "30      Ленинский проспект     147     128  ЮЗАО   \n",
       "31      Ленинский проспект     147     129  ЮЗАО   \n",
       "32      Ленинский проспект     147     131  ЮЗАО   \n",
       "33      Ленинский проспект     147      21   ЦАО   \n",
       "34    проспект Вернадского     128      44   ЗАО   \n",
       "35    проспект Вернадского     128      45   ЗАО   \n",
       "36    проспект Вернадского     128      47   ЗАО   \n",
       "37    проспект Вернадского     128     124  ЮЗАО   \n",
       "38    проспект Вернадского     128     128  ЮЗАО   \n",
       "39    Кутузовский проспект     114      38   ЗАО   \n",
       "40    Кутузовский проспект     114      49   ЗАО   \n",
       "41         Каширское шоссе     111     101   ЮАО   \n",
       "42         Каширское шоссе     111     102   ЮАО   \n",
       "43         Каширское шоссе     111     106   ЮАО   \n",
       "44         Каширское шоссе     111     105   ЮАО   \n",
       "45    Кировоградская улица     108     109   ЮАО   \n",
       "46    Кировоградская улица     108     108   ЮАО   \n",
       "47    Кировоградская улица     108     110   ЮАО   \n",
       "\n",
       "                               area  \n",
       "0                Алексеевский район  \n",
       "1                 Ярославский Район  \n",
       "2                Район Марьина роща  \n",
       "3                Останкинский район  \n",
       "4                   Район Ростокино  \n",
       "5                    Район Свиблово  \n",
       "6                   Мещанский район  \n",
       "7               Академический район  \n",
       "8                   Район Черемушки  \n",
       "9                     Район Ясенево  \n",
       "10                   Район Коньково  \n",
       "11                Обручевский район  \n",
       "12                Район Теплый Стан  \n",
       "13                   Район Аэропорт  \n",
       "14                    Район Беговой  \n",
       "15                Хорошевский район  \n",
       "16                      Район Сокол  \n",
       "17                Пресненский район  \n",
       "18      Район Чертаново Центральное  \n",
       "19         Район Чертаново Северное  \n",
       "20            Район Чертаново Южное  \n",
       "21                    Донской район  \n",
       "22         Район Нагатино-Садовники  \n",
       "23                   Нагорный район  \n",
       "24            Район Северное Бутово  \n",
       "25               Район Южное Бутово  \n",
       "26       Район Проспект Вернадского  \n",
       "27         Район Тропарево-Никулино  \n",
       "28                    Донской район  \n",
       "29                Район Гагаринский  \n",
       "30              Ломоносовский район  \n",
       "31                Обручевский район  \n",
       "32                Район Теплый Стан  \n",
       "33                   Район Якиманка  \n",
       "34       Район Проспект Вернадского  \n",
       "35                    Район Раменки  \n",
       "36         Район Тропарево-Никулино  \n",
       "37                Район Гагаринский  \n",
       "38              Ломоносовский район  \n",
       "39               Район Дорогомилово  \n",
       "40             Район Фили-Давыдково  \n",
       "41       Район Москворечье-Сабурово  \n",
       "42         Район Нагатино-Садовники  \n",
       "43     Район Орехово-Борисово Южное  \n",
       "44  Район Орехово-Борисово Северное  \n",
       "45      Район Чертаново Центральное  \n",
       "46         Район Чертаново Северное  \n",
       "47            Район Чертаново Южное  "
      ]
     },
     "execution_count": 21,
     "metadata": {},
     "output_type": "execute_result"
    }
   ],
   "source": [
    "# объединяем таблицы, чтобы понять в каких районах проходят наши топовые улицы\n",
    "top_data_street_and_area = top_data_street.merge(district, how='left', on= 'street')\n",
    "top_data_street_and_area"
   ]
  },
  {
   "cell_type": "markdown",
   "metadata": {},
   "source": [
    "Практически все улицы проходят через несколько районов города. Похоже, что они весьма длинные, поэтому такое большое количество заведений имеет адрес, содержащий название именно такой улицы. Проверим через какие округа чаще всего проходят топовые улицы:"
   ]
  },
  {
   "cell_type": "code",
   "execution_count": 22,
   "metadata": {},
   "outputs": [
    {
     "data": {
      "text/html": [
       "<div>\n",
       "<style scoped>\n",
       "    .dataframe tbody tr th:only-of-type {\n",
       "        vertical-align: middle;\n",
       "    }\n",
       "\n",
       "    .dataframe tbody tr th {\n",
       "        vertical-align: top;\n",
       "    }\n",
       "\n",
       "    .dataframe thead th {\n",
       "        text-align: right;\n",
       "    }\n",
       "</style>\n",
       "<table border=\"1\" class=\"dataframe\">\n",
       "  <thead>\n",
       "    <tr style=\"text-align: right;\">\n",
       "      <th></th>\n",
       "      <th>okrug</th>\n",
       "      <th>counts</th>\n",
       "    </tr>\n",
       "  </thead>\n",
       "  <tbody>\n",
       "    <tr>\n",
       "      <th>4</th>\n",
       "      <td>ЮАО</td>\n",
       "      <td>14</td>\n",
       "    </tr>\n",
       "    <tr>\n",
       "      <th>5</th>\n",
       "      <td>ЮЗАО</td>\n",
       "      <td>14</td>\n",
       "    </tr>\n",
       "    <tr>\n",
       "      <th>0</th>\n",
       "      <td>ЗАО</td>\n",
       "      <td>7</td>\n",
       "    </tr>\n",
       "    <tr>\n",
       "      <th>2</th>\n",
       "      <td>СВАО</td>\n",
       "      <td>6</td>\n",
       "    </tr>\n",
       "    <tr>\n",
       "      <th>1</th>\n",
       "      <td>САО</td>\n",
       "      <td>4</td>\n",
       "    </tr>\n",
       "    <tr>\n",
       "      <th>3</th>\n",
       "      <td>ЦАО</td>\n",
       "      <td>3</td>\n",
       "    </tr>\n",
       "  </tbody>\n",
       "</table>\n",
       "</div>"
      ],
      "text/plain": [
       "  okrug  counts\n",
       "4   ЮАО      14\n",
       "5  ЮЗАО      14\n",
       "0   ЗАО       7\n",
       "2  СВАО       6\n",
       "1   САО       4\n",
       "3   ЦАО       3"
      ]
     },
     "execution_count": 22,
     "metadata": {},
     "output_type": "execute_result"
    }
   ],
   "source": [
    "# проверяем в каких округах находятся топовые улицы\n",
    "okrug_top = (top_data_street_and_area.groupby('okrug')['street'].count().reset_index(name='counts')\n",
    "             .sort_values(by='counts', ascending = False))\n",
    "okrug_top"
   ]
  },
  {
   "cell_type": "markdown",
   "metadata": {},
   "source": [
    "В основном улицы с большим количеством заведений проходят через южный и юго-западный административные округа Москвы. Можно предположить, что эти округа находятся весьма близко к центру Москвы. И в целом в этих округах могут быть просто самые протяженные улицы. \n",
    "\n",
    "Посмотрим на каком количестве улиц располагается лишь одно заведение:"
   ]
  },
  {
   "cell_type": "code",
   "execution_count": 23,
   "metadata": {},
   "outputs": [
    {
     "data": {
      "text/plain": [
       "553"
      ]
     },
     "execution_count": 23,
     "metadata": {},
     "output_type": "execute_result"
    }
   ],
   "source": [
    "# считаем количество улиц с одним заведением\n",
    "one_place_data_street = data_street[data_street['counts']==1]\n",
    "one_place_data_street['street'].count()"
   ]
  },
  {
   "cell_type": "markdown",
   "metadata": {},
   "source": [
    "Таких улиц 553, посмотрим в каких районах они чаще всего располагаются и каких округах:"
   ]
  },
  {
   "cell_type": "code",
   "execution_count": 24,
   "metadata": {},
   "outputs": [
    {
     "name": "stdout",
     "output_type": "stream",
     "text": [
      "\u001b[34mВсего районов с одним заведением на улице\u001b[0m\n",
      "100\n",
      "\n",
      "\u001b[34mТоп 10 районов с одним заведением на улице\u001b[0m\n"
     ]
    },
    {
     "data": {
      "text/html": [
       "<div>\n",
       "<style scoped>\n",
       "    .dataframe tbody tr th:only-of-type {\n",
       "        vertical-align: middle;\n",
       "    }\n",
       "\n",
       "    .dataframe tbody tr th {\n",
       "        vertical-align: top;\n",
       "    }\n",
       "\n",
       "    .dataframe thead th {\n",
       "        text-align: right;\n",
       "    }\n",
       "</style>\n",
       "<table border=\"1\" class=\"dataframe\">\n",
       "  <thead>\n",
       "    <tr style=\"text-align: right;\">\n",
       "      <th></th>\n",
       "      <th>area</th>\n",
       "      <th>counts</th>\n",
       "    </tr>\n",
       "  </thead>\n",
       "  <tbody>\n",
       "    <tr>\n",
       "      <th>94</th>\n",
       "      <td>Таганский район</td>\n",
       "      <td>27</td>\n",
       "    </tr>\n",
       "    <tr>\n",
       "      <th>80</th>\n",
       "      <td>Район Хамовники</td>\n",
       "      <td>26</td>\n",
       "    </tr>\n",
       "    <tr>\n",
       "      <th>3</th>\n",
       "      <td>Басманный район</td>\n",
       "      <td>25</td>\n",
       "    </tr>\n",
       "    <tr>\n",
       "      <th>95</th>\n",
       "      <td>Тверской район</td>\n",
       "      <td>20</td>\n",
       "    </tr>\n",
       "    <tr>\n",
       "      <th>21</th>\n",
       "      <td>Пресненский район</td>\n",
       "      <td>19</td>\n",
       "    </tr>\n",
       "    <tr>\n",
       "      <th>51</th>\n",
       "      <td>Район Марьина роща</td>\n",
       "      <td>18</td>\n",
       "    </tr>\n",
       "    <tr>\n",
       "      <th>13</th>\n",
       "      <td>Мещанский район</td>\n",
       "      <td>17</td>\n",
       "    </tr>\n",
       "    <tr>\n",
       "      <th>22</th>\n",
       "      <td>Район Арбат</td>\n",
       "      <td>17</td>\n",
       "    </tr>\n",
       "    <tr>\n",
       "      <th>34</th>\n",
       "      <td>Район Замоскворечье</td>\n",
       "      <td>14</td>\n",
       "    </tr>\n",
       "    <tr>\n",
       "      <th>48</th>\n",
       "      <td>Район Лефортово</td>\n",
       "      <td>12</td>\n",
       "    </tr>\n",
       "  </tbody>\n",
       "</table>\n",
       "</div>"
      ],
      "text/plain": [
       "                   area  counts\n",
       "94      Таганский район      27\n",
       "80      Район Хамовники      26\n",
       "3       Басманный район      25\n",
       "95       Тверской район      20\n",
       "21    Пресненский район      19\n",
       "51   Район Марьина роща      18\n",
       "13      Мещанский район      17\n",
       "22          Район Арбат      17\n",
       "34  Район Замоскворечье      14\n",
       "48      Район Лефортово      12"
      ]
     },
     "metadata": {},
     "output_type": "display_data"
    }
   ],
   "source": [
    "# объединяем данные улиц с районами\n",
    "# группируем данные по району и количеству улиц в районе\n",
    "one_data_street_and_area = one_place_data_street.merge(district, how='left', on= 'street')\n",
    "one_street_area = (one_data_street_and_area.groupby('area')['street'].count().reset_index(name='counts')\n",
    "             .sort_values(by='counts', ascending = False))\n",
    "\n",
    "print(colored('Всего районов с одним заведением на улице', 'blue'))\n",
    "print(one_street_area['area'].count())\n",
    "print('')\n",
    "print(colored('Топ 10 районов с одним заведением на улице', 'blue'))\n",
    "display(one_street_area.head(10))"
   ]
  },
  {
   "cell_type": "markdown",
   "metadata": {},
   "source": [
    "Всего получилось 100 районов, где встречается такая ситуация, когда на улице находится только одно заведение. Самое большое количество таких улиц в Таганском районе. \n",
    "\n",
    "Посмотрим распределение таких улиц по округам:"
   ]
  },
  {
   "cell_type": "code",
   "execution_count": 25,
   "metadata": {},
   "outputs": [
    {
     "name": "stdout",
     "output_type": "stream",
     "text": [
      "\u001b[34mВсего округов с одним заведением на улице\u001b[0m\n",
      "10\n",
      "\n",
      "\u001b[34mОкруга с одним заведением на улице\u001b[0m\n"
     ]
    },
    {
     "data": {
      "text/html": [
       "<div>\n",
       "<style scoped>\n",
       "    .dataframe tbody tr th:only-of-type {\n",
       "        vertical-align: middle;\n",
       "    }\n",
       "\n",
       "    .dataframe tbody tr th {\n",
       "        vertical-align: top;\n",
       "    }\n",
       "\n",
       "    .dataframe thead th {\n",
       "        text-align: right;\n",
       "    }\n",
       "</style>\n",
       "<table border=\"1\" class=\"dataframe\">\n",
       "  <thead>\n",
       "    <tr style=\"text-align: right;\">\n",
       "      <th></th>\n",
       "      <th>okrug</th>\n",
       "      <th>counts</th>\n",
       "    </tr>\n",
       "  </thead>\n",
       "  <tbody>\n",
       "    <tr>\n",
       "      <th>6</th>\n",
       "      <td>ЦАО</td>\n",
       "      <td>186</td>\n",
       "    </tr>\n",
       "    <tr>\n",
       "      <th>0</th>\n",
       "      <td>ВАО</td>\n",
       "      <td>67</td>\n",
       "    </tr>\n",
       "    <tr>\n",
       "      <th>4</th>\n",
       "      <td>СВАО</td>\n",
       "      <td>66</td>\n",
       "    </tr>\n",
       "    <tr>\n",
       "      <th>3</th>\n",
       "      <td>САО</td>\n",
       "      <td>55</td>\n",
       "    </tr>\n",
       "    <tr>\n",
       "      <th>8</th>\n",
       "      <td>ЮВАО</td>\n",
       "      <td>55</td>\n",
       "    </tr>\n",
       "    <tr>\n",
       "      <th>1</th>\n",
       "      <td>ЗАО</td>\n",
       "      <td>45</td>\n",
       "    </tr>\n",
       "    <tr>\n",
       "      <th>7</th>\n",
       "      <td>ЮАО</td>\n",
       "      <td>29</td>\n",
       "    </tr>\n",
       "    <tr>\n",
       "      <th>9</th>\n",
       "      <td>ЮЗАО</td>\n",
       "      <td>28</td>\n",
       "    </tr>\n",
       "    <tr>\n",
       "      <th>5</th>\n",
       "      <td>СЗАО</td>\n",
       "      <td>27</td>\n",
       "    </tr>\n",
       "    <tr>\n",
       "      <th>2</th>\n",
       "      <td>Зеленоград</td>\n",
       "      <td>6</td>\n",
       "    </tr>\n",
       "  </tbody>\n",
       "</table>\n",
       "</div>"
      ],
      "text/plain": [
       "        okrug  counts\n",
       "6         ЦАО     186\n",
       "0         ВАО      67\n",
       "4        СВАО      66\n",
       "3         САО      55\n",
       "8        ЮВАО      55\n",
       "1         ЗАО      45\n",
       "7         ЮАО      29\n",
       "9        ЮЗАО      28\n",
       "5        СЗАО      27\n",
       "2  Зеленоград       6"
      ]
     },
     "metadata": {},
     "output_type": "display_data"
    }
   ],
   "source": [
    "# группируем данные по округам\n",
    "one_street_okrug = (one_data_street_and_area.groupby('okrug')['street'].count().reset_index(name='counts')\n",
    "             .sort_values(by='counts', ascending = False))\n",
    "\n",
    "print(colored('Всего округов с одним заведением на улице', 'blue'))\n",
    "print(one_street_okrug['okrug'].count())\n",
    "print('')\n",
    "print(colored('Округа с одним заведением на улице', 'blue'))\n",
    "display(one_street_okrug)"
   ]
  },
  {
   "cell_type": "markdown",
   "metadata": {},
   "source": [
    "С большим отрывом победил Центральный административный округ. Вероятно, это связано с тем, что в центре как правило много небольших улочек, поэтому и количество заведений на каждой из улиц не велико. "
   ]
  },
  {
   "cell_type": "markdown",
   "metadata": {},
   "source": [
    "#### Исследование количества посадочных мест на улицах с большим количеством заведений"
   ]
  },
  {
   "cell_type": "markdown",
   "metadata": {},
   "source": [
    "Выделим в основном датасете все заведения, которые находятся на улицах из топа:"
   ]
  },
  {
   "cell_type": "code",
   "execution_count": 26,
   "metadata": {},
   "outputs": [
    {
     "data": {
      "text/html": [
       "<div>\n",
       "<style scoped>\n",
       "    .dataframe tbody tr th:only-of-type {\n",
       "        vertical-align: middle;\n",
       "    }\n",
       "\n",
       "    .dataframe tbody tr th {\n",
       "        vertical-align: top;\n",
       "    }\n",
       "\n",
       "    .dataframe thead th {\n",
       "        text-align: right;\n",
       "    }\n",
       "</style>\n",
       "<table border=\"1\" class=\"dataframe\">\n",
       "  <thead>\n",
       "    <tr style=\"text-align: right;\">\n",
       "      <th></th>\n",
       "      <th>id</th>\n",
       "      <th>object_name</th>\n",
       "      <th>chain</th>\n",
       "      <th>object_type</th>\n",
       "      <th>address</th>\n",
       "      <th>number</th>\n",
       "      <th>street</th>\n",
       "    </tr>\n",
       "  </thead>\n",
       "  <tbody>\n",
       "    <tr>\n",
       "      <th>151</th>\n",
       "      <td>155973</td>\n",
       "      <td>кафе «андерсон»</td>\n",
       "      <td>да</td>\n",
       "      <td>кафе</td>\n",
       "      <td>город Москва, Варшавское шоссе, дом 2</td>\n",
       "      <td>150</td>\n",
       "      <td>Варшавское шоссе</td>\n",
       "    </tr>\n",
       "    <tr>\n",
       "      <th>152</th>\n",
       "      <td>23618</td>\n",
       "      <td>кафе «subway»</td>\n",
       "      <td>да</td>\n",
       "      <td>кафе</td>\n",
       "      <td>город Москва, Варшавское шоссе, дом 7, корпус 1</td>\n",
       "      <td>36</td>\n",
       "      <td>Варшавское шоссе</td>\n",
       "    </tr>\n",
       "    <tr>\n",
       "      <th>153</th>\n",
       "      <td>155852</td>\n",
       "      <td>кафе «ламаджо»</td>\n",
       "      <td>нет</td>\n",
       "      <td>кафе</td>\n",
       "      <td>город Москва, Варшавское шоссе, дом 29</td>\n",
       "      <td>30</td>\n",
       "      <td>Варшавское шоссе</td>\n",
       "    </tr>\n",
       "    <tr>\n",
       "      <th>154</th>\n",
       "      <td>152556</td>\n",
       "      <td>шаурма в пите</td>\n",
       "      <td>нет</td>\n",
       "      <td>предприятие быстрого обслуживания</td>\n",
       "      <td>город Москва, Варшавское шоссе, дом 72, корпус 2</td>\n",
       "      <td>0</td>\n",
       "      <td>Варшавское шоссе</td>\n",
       "    </tr>\n",
       "    <tr>\n",
       "      <th>155</th>\n",
       "      <td>120658</td>\n",
       "      <td>выпечка</td>\n",
       "      <td>нет</td>\n",
       "      <td>кафетерий</td>\n",
       "      <td>город Москва, Варшавское шоссе, дом 100</td>\n",
       "      <td>2</td>\n",
       "      <td>Варшавское шоссе</td>\n",
       "    </tr>\n",
       "  </tbody>\n",
       "</table>\n",
       "</div>"
      ],
      "text/plain": [
       "         id      object_name chain                        object_type  \\\n",
       "151  155973  кафе «андерсон»    да                               кафе   \n",
       "152   23618    кафе «subway»    да                               кафе   \n",
       "153  155852   кафе «ламаджо»   нет                               кафе   \n",
       "154  152556    шаурма в пите   нет  предприятие быстрого обслуживания   \n",
       "155  120658          выпечка   нет                          кафетерий   \n",
       "\n",
       "                                              address  number  \\\n",
       "151             город Москва, Варшавское шоссе, дом 2     150   \n",
       "152   город Москва, Варшавское шоссе, дом 7, корпус 1      36   \n",
       "153            город Москва, Варшавское шоссе, дом 29      30   \n",
       "154  город Москва, Варшавское шоссе, дом 72, корпус 2       0   \n",
       "155           город Москва, Варшавское шоссе, дом 100       2   \n",
       "\n",
       "               street  \n",
       "151  Варшавское шоссе  \n",
       "152  Варшавское шоссе  \n",
       "153  Варшавское шоссе  \n",
       "154  Варшавское шоссе  \n",
       "155  Варшавское шоссе  "
      ]
     },
     "execution_count": 26,
     "metadata": {},
     "output_type": "execute_result"
    }
   ],
   "source": [
    "# выделяем данные по заведениям, которые находятся на улицах из топа\n",
    "top_data_street = top_data_street['street']\n",
    "top_street_num = data.query('street in @top_data_street')\n",
    "top_street_num.head()"
   ]
  },
  {
   "cell_type": "markdown",
   "metadata": {},
   "source": [
    "Построим диаграммы распределения количества посадочных мест на топовых улицах:"
   ]
  },
  {
   "cell_type": "code",
   "execution_count": 27,
   "metadata": {
    "scrolled": false
   },
   "outputs": [
    {
     "name": "stdout",
     "output_type": "stream",
     "text": [
      "\n",
      "Варшавское шоссе\n"
     ]
    },
    {
     "data": {
      "image/png": "[encoded data removed]",
      "text/plain": [
       "<Figure size 720x360 with 1 Axes>"
      ]
     },
     "metadata": {
      "needs_background": "light"
     },
     "output_type": "display_data"
    },
    {
     "name": "stdout",
     "output_type": "stream",
     "text": [
      "\n",
      "Каширское шоссе\n"
     ]
    },
    {
     "data": {
      "image/png": "[encoded data removed]",
      "text/plain": [
       "<Figure size 720x360 with 1 Axes>"
      ]
     },
     "metadata": {
      "needs_background": "light"
     },
     "output_type": "display_data"
    },
    {
     "name": "stdout",
     "output_type": "stream",
     "text": [
      "\n",
      "Кировоградская улица\n"
     ]
    },
    {
     "data": {
      "image/png": "[encoded data removed]",
      "text/plain": [
       "<Figure size 720x360 with 1 Axes>"
      ]
     },
     "metadata": {
      "needs_background": "light"
     },
     "output_type": "display_data"
    },
    {
     "name": "stdout",
     "output_type": "stream",
     "text": [
      "\n",
      "Кутузовский проспект\n"
     ]
    },
    {
     "data": {
      "image/png": "[encoded data removed]",
      "text/plain": [
       "<Figure size 720x360 with 1 Axes>"
      ]
     },
     "metadata": {
      "needs_background": "light"
     },
     "output_type": "display_data"
    },
    {
     "name": "stdout",
     "output_type": "stream",
     "text": [
      "\n",
      "Ленинградский проспект\n"
     ]
    },
    {
     "data": {
      "image/png": "[encoded data removed]",
      "text/plain": [
       "<Figure size 720x360 with 1 Axes>"
      ]
     },
     "metadata": {
      "needs_background": "light"
     },
     "output_type": "display_data"
    },
    {
     "name": "stdout",
     "output_type": "stream",
     "text": [
      "\n",
      "Ленинский проспект\n"
     ]
    },
    {
     "data": {
      "image/png": "[encoded data removed]",
      "text/plain": [
       "<Figure size 720x360 with 1 Axes>"
      ]
     },
     "metadata": {
      "needs_background": "light"
     },
     "output_type": "display_data"
    },
    {
     "name": "stdout",
     "output_type": "stream",
     "text": [
      "\n",
      "Пресненская набережная\n"
     ]
    },
    {
     "data": {
      "image/png": "[encoded data removed]",
      "text/plain": [
       "<Figure size 720x360 with 1 Axes>"
      ]
     },
     "metadata": {
      "needs_background": "light"
     },
     "output_type": "display_data"
    },
    {
     "name": "stdout",
     "output_type": "stream",
     "text": [
      "\n",
      "Профсоюзная улица\n"
     ]
    },
    {
     "data": {
      "image/png": "[encoded data removed]",
      "text/plain": [
       "<Figure size 720x360 with 1 Axes>"
      ]
     },
     "metadata": {
      "needs_background": "light"
     },
     "output_type": "display_data"
    },
    {
     "name": "stdout",
     "output_type": "stream",
     "text": [
      "\n",
      "проспект Вернадского\n"
     ]
    },
    {
     "data": {
      "image/png": "[encoded data removed]",
      "text/plain": [
       "<Figure size 720x360 with 1 Axes>"
      ]
     },
     "metadata": {
      "needs_background": "light"
     },
     "output_type": "display_data"
    },
    {
     "name": "stdout",
     "output_type": "stream",
     "text": [
      "\n",
      "проспект Мира\n"
     ]
    },
    {
     "data": {
      "image/png": "[encoded data removed]",
      "text/plain": [
       "<Figure size 720x360 with 1 Axes>"
      ]
     },
     "metadata": {
      "needs_background": "light"
     },
     "output_type": "display_data"
    }
   ],
   "source": [
    "# строим боксплоты по количеству заведений на улицах из топа\n",
    "for street, street_in_top in top_street_num.groupby('street'):\n",
    "    print()\n",
    "    print(street)\n",
    "    plt.figure(figsize=(10,5))\n",
    "    sns.boxplot(y='object_type', x='number', data=street_in_top, palette=\"Set3\") \n",
    "    plt.grid(which='major')\n",
    "    plt.title(\"Количество посадочных мест в заведениях на улицах с большим количеством заведений\", fontsize=13)\n",
    "    plt.xlabel('Количество посадочных мест')\n",
    "    plt.ylabel('Тип заведения')\n",
    "    plt.show()"
   ]
  },
  {
   "cell_type": "markdown",
   "metadata": {},
   "source": [
    "На улицах из топа лидируют столовые по количеству мест. Вероятно, это связано с тем, что в этих районах есть достаточное количество университетов, где обучаются студенты. \n",
    "\n",
    "Также большое количество посадочных мест в ресторанах практически на всех топовых улицах.\n",
    "\n",
    "Посмотрим на какой из улиц больше всего посадочных мест в заведениях, будем смотреть по медианному значению, так как есть выбросы - заведения, где посадочных мест аномально много (стадион на Кутузовском, например):"
   ]
  },
  {
   "cell_type": "code",
   "execution_count": 28,
   "metadata": {},
   "outputs": [
    {
     "data": {
      "text/html": [
       "<div>\n",
       "<style scoped>\n",
       "    .dataframe tbody tr th:only-of-type {\n",
       "        vertical-align: middle;\n",
       "    }\n",
       "\n",
       "    .dataframe tbody tr th {\n",
       "        vertical-align: top;\n",
       "    }\n",
       "\n",
       "    .dataframe thead th {\n",
       "        text-align: right;\n",
       "    }\n",
       "</style>\n",
       "<table border=\"1\" class=\"dataframe\">\n",
       "  <thead>\n",
       "    <tr style=\"text-align: right;\">\n",
       "      <th></th>\n",
       "      <th>street</th>\n",
       "      <th>counts</th>\n",
       "    </tr>\n",
       "  </thead>\n",
       "  <tbody>\n",
       "    <tr>\n",
       "      <th>9</th>\n",
       "      <td>проспект Мира</td>\n",
       "      <td>48</td>\n",
       "    </tr>\n",
       "    <tr>\n",
       "      <th>5</th>\n",
       "      <td>Ленинский проспект</td>\n",
       "      <td>45</td>\n",
       "    </tr>\n",
       "    <tr>\n",
       "      <th>3</th>\n",
       "      <td>Кутузовский проспект</td>\n",
       "      <td>40</td>\n",
       "    </tr>\n",
       "    <tr>\n",
       "      <th>4</th>\n",
       "      <td>Ленинградский проспект</td>\n",
       "      <td>40</td>\n",
       "    </tr>\n",
       "    <tr>\n",
       "      <th>8</th>\n",
       "      <td>проспект Вернадского</td>\n",
       "      <td>40</td>\n",
       "    </tr>\n",
       "    <tr>\n",
       "      <th>0</th>\n",
       "      <td>Варшавское шоссе</td>\n",
       "      <td>30</td>\n",
       "    </tr>\n",
       "    <tr>\n",
       "      <th>2</th>\n",
       "      <td>Кировоградская улица</td>\n",
       "      <td>30</td>\n",
       "    </tr>\n",
       "    <tr>\n",
       "      <th>6</th>\n",
       "      <td>Пресненская набережная</td>\n",
       "      <td>30</td>\n",
       "    </tr>\n",
       "    <tr>\n",
       "      <th>1</th>\n",
       "      <td>Каширское шоссе</td>\n",
       "      <td>25</td>\n",
       "    </tr>\n",
       "    <tr>\n",
       "      <th>7</th>\n",
       "      <td>Профсоюзная улица</td>\n",
       "      <td>24</td>\n",
       "    </tr>\n",
       "  </tbody>\n",
       "</table>\n",
       "</div>"
      ],
      "text/plain": [
       "                   street  counts\n",
       "9           проспект Мира      48\n",
       "5      Ленинский проспект      45\n",
       "3    Кутузовский проспект      40\n",
       "4  Ленинградский проспект      40\n",
       "8    проспект Вернадского      40\n",
       "0        Варшавское шоссе      30\n",
       "2    Кировоградская улица      30\n",
       "6  Пресненская набережная      30\n",
       "1         Каширское шоссе      25\n",
       "7       Профсоюзная улица      24"
      ]
     },
     "execution_count": 28,
     "metadata": {},
     "output_type": "execute_result"
    }
   ],
   "source": [
    "# группируем данные по названию улицы, считаем среднее количество посадочных мест\n",
    "top_street_num_gr = (top_street_num.groupby('street')['number'].median().reset_index(name='counts')\n",
    "                     .sort_values(by='counts', ascending = False))\n",
    "\n",
    "top_street_num_gr"
   ]
  },
  {
   "cell_type": "markdown",
   "metadata": {},
   "source": [
    "Проспект Мира вновь в топе, там самое большое медианное значение количества посадочных мест по всем заведениям. Далее идет Ленинский проспект, остальные улицы содержат меньшее медианное количество мест по всем заведениям сети. "
   ]
  },
  {
   "cell_type": "markdown",
   "metadata": {},
   "source": [
    "### Вывод"
   ]
  },
  {
   "cell_type": "markdown",
   "metadata": {},
   "source": [
    "Данные, которые были нам предоставлены для работы, не идеальные. Присутствует разный регистр, названия ресторанов прописаны с использованием \"кафе\" и без. Было принято решение не менять названия, так как мы не знаем юридической формы этих организаций и их особенностей. \n",
    "Нами были удалены только явные дубликаты, которые мы обнаружили при проверке всех столбцов, кроме столбца id. \n",
    "\n",
    "При анализе данных мы выяснили, что большая часть заведений общественного питания Москвы - это кафе, как то что мы планируем открыть. Это может говорить о прибыльности такого варианта открытия заведения. \n",
    "Причем большинство кафе не являются сетевыми. И в целом в основном в Москве больше именно не сетевых заведений. Можем предположить, что такой формат весьма выгоден. \n",
    "\n",
    "\n",
    "При проверке количества посадочных мест видим, что посадочных мест больше в не сетевых заведениях. Однако медианное значение посадочных мест в сетевых и не сетевых заведениях совпадает  ~ 40 мест. \n",
    "Больше всего посадочных мест, если смотреть по всем заведениям, в столовых, буфетах и ресторанах (они же лидируют если смотреть на улицы с самым большим количеством заведений). В кафе мест обычно меньше, как раз они очень влияют на медианное значение количество мест в сетевых и не сетевых заведениях. \n",
    "\n",
    "Улица с самым большим количеством заведений - проспект Мира, там же самое большое медианное значение посадочных мест по всем типам заведений. \n",
    "Из округов больше всего улиц с большим количеством заведений из всех проходят по ЮАО и ЮЗАО. Вероятно, влияет протяженность улиц (улицы с самым большим количеством заведений проходят сразу по нескольким районам) и то, что в данных округах находятся такие объекты как парк Царицыно и Воробьевы горы, которые часто посещают туристы. \n",
    "\n",
    "\n",
    "553 улицы имеют только одно заведение общественного питания. Большинство таких улиц находится в Таганский районе и в целом в округе ЦАО (он лидирует с большим отрывом по числу таких улиц). Такая тенденция для этого округа может быть связана с тем, что в исторической части города часто много небольших коротких улочек, чем может располагаться одно заведение на протяжении всей улицы. \n",
    "\n",
    "Если мы не предполагаем большую конкуренцию из-за новаторской идее кафе имеет смысл выбирать для открытия ЦАО, ЮАО и ЮЗАО, так как там большое количество заведений и вероятно выше поток клиентов."
   ]
  },
  {
   "cell_type": "markdown",
   "metadata": {},
   "source": [
    "Презентация: <https://drive.google.com/file/d/1quJmSrAVZVSIhwqMETSTyxvC-0IqIPxu/view?usp=sharing>"
   ]
  }
 ],
 "metadata": {
  "ExecuteTimeLog": [
   {
    "duration": 1549,
    "start_time": "2022-06-02T12:23:25.988Z"
   },
   {
    "duration": 4,
    "start_time": "2022-06-02T12:23:49.922Z"
   },
   {
    "duration": 242,
    "start_time": "2022-06-02T12:29:42.980Z"
   },
   {
    "duration": 105,
    "start_time": "2022-06-02T12:30:39.799Z"
   },
   {
    "duration": 116,
    "start_time": "2022-06-02T12:33:27.489Z"
   },
   {
    "duration": 6,
    "start_time": "2022-06-02T12:44:28.599Z"
   },
   {
    "duration": 103,
    "start_time": "2022-06-02T12:44:55.273Z"
   },
   {
    "duration": 17,
    "start_time": "2022-06-02T12:45:05.186Z"
   },
   {
    "duration": 6,
    "start_time": "2022-06-02T12:46:10.002Z"
   },
   {
    "duration": 5,
    "start_time": "2022-06-02T12:47:22.673Z"
   },
   {
    "duration": 5,
    "start_time": "2022-06-02T12:47:45.583Z"
   },
   {
    "duration": 8,
    "start_time": "2022-06-02T12:48:34.195Z"
   },
   {
    "duration": 15,
    "start_time": "2022-06-02T13:37:02.608Z"
   },
   {
    "duration": 5,
    "start_time": "2022-06-02T13:37:48.815Z"
   },
   {
    "duration": 27,
    "start_time": "2022-06-02T13:59:08.337Z"
   },
   {
    "duration": 36,
    "start_time": "2022-06-02T13:59:16.082Z"
   },
   {
    "duration": 25,
    "start_time": "2022-06-02T13:59:34.742Z"
   },
   {
    "duration": 12,
    "start_time": "2022-06-02T13:59:48.222Z"
   },
   {
    "duration": 16,
    "start_time": "2022-06-02T13:59:53.898Z"
   },
   {
    "duration": 17,
    "start_time": "2022-06-02T14:16:57.138Z"
   },
   {
    "duration": 1053,
    "start_time": "2022-06-02T14:17:06.260Z"
   },
   {
    "duration": 4,
    "start_time": "2022-06-02T14:17:07.315Z"
   },
   {
    "duration": 104,
    "start_time": "2022-06-02T14:17:07.320Z"
   },
   {
    "duration": 12,
    "start_time": "2022-06-02T14:17:07.426Z"
   },
   {
    "duration": 15,
    "start_time": "2022-06-02T14:17:50.161Z"
   },
   {
    "duration": 15,
    "start_time": "2022-06-02T14:18:57.399Z"
   },
   {
    "duration": 20,
    "start_time": "2022-06-02T14:22:03.816Z"
   },
   {
    "duration": 22,
    "start_time": "2022-06-02T14:23:47.847Z"
   },
   {
    "duration": 1050,
    "start_time": "2022-06-02T14:23:56.666Z"
   },
   {
    "duration": 4,
    "start_time": "2022-06-02T14:23:57.718Z"
   },
   {
    "duration": 110,
    "start_time": "2022-06-02T14:23:57.724Z"
   },
   {
    "duration": 79,
    "start_time": "2022-06-02T14:23:57.837Z"
   },
   {
    "duration": 70,
    "start_time": "2022-06-02T14:24:16.638Z"
   },
   {
    "duration": 66,
    "start_time": "2022-06-02T14:24:22.694Z"
   },
   {
    "duration": 1057,
    "start_time": "2022-06-02T14:24:27.755Z"
   },
   {
    "duration": 3,
    "start_time": "2022-06-02T14:24:28.814Z"
   },
   {
    "duration": 106,
    "start_time": "2022-06-02T14:24:28.819Z"
   },
   {
    "duration": 77,
    "start_time": "2022-06-02T14:24:28.927Z"
   },
   {
    "duration": 59,
    "start_time": "2022-06-02T14:26:47.642Z"
   },
   {
    "duration": 62,
    "start_time": "2022-06-02T14:26:54.814Z"
   },
   {
    "duration": 112,
    "start_time": "2022-06-02T14:27:57.325Z"
   },
   {
    "duration": 130,
    "start_time": "2022-06-02T14:28:39.498Z"
   },
   {
    "duration": 127,
    "start_time": "2022-06-02T14:29:12.995Z"
   },
   {
    "duration": 124,
    "start_time": "2022-06-02T14:29:47.120Z"
   },
   {
    "duration": 122,
    "start_time": "2022-06-02T14:38:16.262Z"
   },
   {
    "duration": 163,
    "start_time": "2022-06-02T14:38:25.839Z"
   },
   {
    "duration": 125,
    "start_time": "2022-06-02T14:40:12.945Z"
   },
   {
    "duration": 120,
    "start_time": "2022-06-02T14:40:29.190Z"
   },
   {
    "duration": 1068,
    "start_time": "2022-06-02T14:40:38.053Z"
   },
   {
    "duration": 3,
    "start_time": "2022-06-02T14:40:39.123Z"
   },
   {
    "duration": 105,
    "start_time": "2022-06-02T14:40:39.128Z"
   },
   {
    "duration": 134,
    "start_time": "2022-06-02T14:40:39.235Z"
   },
   {
    "duration": 1044,
    "start_time": "2022-06-02T14:41:03.570Z"
   },
   {
    "duration": 3,
    "start_time": "2022-06-02T14:41:04.616Z"
   },
   {
    "duration": 105,
    "start_time": "2022-06-02T14:41:04.621Z"
   },
   {
    "duration": 118,
    "start_time": "2022-06-02T14:41:04.728Z"
   },
   {
    "duration": 102,
    "start_time": "2022-06-02T15:38:43.642Z"
   },
   {
    "duration": 1060,
    "start_time": "2022-06-02T15:38:53.260Z"
   },
   {
    "duration": 3,
    "start_time": "2022-06-02T15:38:54.322Z"
   },
   {
    "duration": 104,
    "start_time": "2022-06-02T15:38:54.327Z"
   },
   {
    "duration": 118,
    "start_time": "2022-06-02T15:38:54.433Z"
   },
   {
    "duration": 102,
    "start_time": "2022-06-02T15:59:21.438Z"
   },
   {
    "duration": 1338,
    "start_time": "2022-06-05T12:18:54.750Z"
   },
   {
    "duration": 4,
    "start_time": "2022-06-05T12:18:56.091Z"
   },
   {
    "duration": 421,
    "start_time": "2022-06-05T12:18:56.096Z"
   },
   {
    "duration": 156,
    "start_time": "2022-06-05T12:18:56.520Z"
   },
   {
    "duration": 6,
    "start_time": "2022-06-05T12:19:41.387Z"
   },
   {
    "duration": 6,
    "start_time": "2022-06-05T12:20:04.585Z"
   },
   {
    "duration": 5,
    "start_time": "2022-06-05T12:20:26.580Z"
   },
   {
    "duration": 5,
    "start_time": "2022-06-05T12:20:50.156Z"
   },
   {
    "duration": 4,
    "start_time": "2022-06-05T12:21:09.488Z"
   },
   {
    "duration": 105,
    "start_time": "2022-06-05T12:21:26.889Z"
   },
   {
    "duration": 11,
    "start_time": "2022-06-05T12:21:43.150Z"
   },
   {
    "duration": 4,
    "start_time": "2022-06-05T12:21:51.190Z"
   },
   {
    "duration": 5,
    "start_time": "2022-06-05T12:35:25.491Z"
   },
   {
    "duration": 12,
    "start_time": "2022-06-05T12:35:38.649Z"
   },
   {
    "duration": 4,
    "start_time": "2022-06-05T12:37:04.088Z"
   },
   {
    "duration": 349,
    "start_time": "2022-06-05T12:38:38.418Z"
   },
   {
    "duration": 4,
    "start_time": "2022-06-05T12:39:06.823Z"
   },
   {
    "duration": 15,
    "start_time": "2022-06-05T13:00:51.657Z"
   },
   {
    "duration": 531,
    "start_time": "2022-06-05T13:01:22.878Z"
   },
   {
    "duration": 13,
    "start_time": "2022-06-05T13:01:51.899Z"
   },
   {
    "duration": 215,
    "start_time": "2022-06-05T13:02:39.291Z"
   },
   {
    "duration": 227,
    "start_time": "2022-06-05T13:03:13.545Z"
   },
   {
    "duration": 15,
    "start_time": "2022-06-05T13:03:29.795Z"
   },
   {
    "duration": 25,
    "start_time": "2022-06-05T13:04:28.075Z"
   },
   {
    "duration": 23,
    "start_time": "2022-06-05T13:04:49.429Z"
   },
   {
    "duration": 168,
    "start_time": "2022-06-05T13:05:17.651Z"
   },
   {
    "duration": 24,
    "start_time": "2022-06-05T13:07:09.922Z"
   },
   {
    "duration": 178,
    "start_time": "2022-06-05T13:07:46.974Z"
   },
   {
    "duration": 181,
    "start_time": "2022-06-05T13:07:59.673Z"
   },
   {
    "duration": 158,
    "start_time": "2022-06-05T13:08:51.827Z"
   },
   {
    "duration": 173,
    "start_time": "2022-06-05T13:08:58.745Z"
   },
   {
    "duration": 187,
    "start_time": "2022-06-05T13:09:16.998Z"
   },
   {
    "duration": 92,
    "start_time": "2022-06-05T13:12:33.377Z"
   },
   {
    "duration": 1140,
    "start_time": "2022-06-05T13:15:54.127Z"
   },
   {
    "duration": 4,
    "start_time": "2022-06-05T13:15:55.269Z"
   },
   {
    "duration": 236,
    "start_time": "2022-06-05T13:15:55.275Z"
   },
   {
    "duration": 4,
    "start_time": "2022-06-05T13:15:55.513Z"
   },
   {
    "duration": 13,
    "start_time": "2022-06-05T13:15:55.518Z"
   },
   {
    "duration": 182,
    "start_time": "2022-06-05T13:15:55.532Z"
   },
   {
    "duration": 282,
    "start_time": "2022-06-05T13:17:23.749Z"
   },
   {
    "duration": 177,
    "start_time": "2022-06-05T13:17:42.409Z"
   },
   {
    "duration": 191,
    "start_time": "2022-06-05T13:21:32.985Z"
   },
   {
    "duration": 183,
    "start_time": "2022-06-05T13:21:43.910Z"
   },
   {
    "duration": 188,
    "start_time": "2022-06-05T13:21:57.171Z"
   },
   {
    "duration": 176,
    "start_time": "2022-06-05T13:22:46.119Z"
   },
   {
    "duration": 204,
    "start_time": "2022-06-05T13:23:08.390Z"
   },
   {
    "duration": 186,
    "start_time": "2022-06-05T13:23:26.876Z"
   },
   {
    "duration": 165,
    "start_time": "2022-06-05T13:32:16.751Z"
   },
   {
    "duration": 164,
    "start_time": "2022-06-05T13:32:26.719Z"
   },
   {
    "duration": 157,
    "start_time": "2022-06-05T13:32:40.701Z"
   },
   {
    "duration": 510,
    "start_time": "2022-06-05T13:38:52.975Z"
   },
   {
    "duration": 208,
    "start_time": "2022-06-05T13:39:08.023Z"
   },
   {
    "duration": 115,
    "start_time": "2022-06-05T13:39:59.082Z"
   },
   {
    "duration": 122,
    "start_time": "2022-06-05T13:40:28.873Z"
   },
   {
    "duration": 169,
    "start_time": "2022-06-05T13:53:05.685Z"
   },
   {
    "duration": 199,
    "start_time": "2022-06-05T13:53:43.857Z"
   },
   {
    "duration": 14,
    "start_time": "2022-06-05T13:54:16.253Z"
   },
   {
    "duration": 426,
    "start_time": "2022-06-05T13:57:08.275Z"
   },
   {
    "duration": 418,
    "start_time": "2022-06-05T13:57:33.386Z"
   },
   {
    "duration": 432,
    "start_time": "2022-06-05T13:57:42.385Z"
   },
   {
    "duration": 408,
    "start_time": "2022-06-05T13:57:52.999Z"
   },
   {
    "duration": 257,
    "start_time": "2022-06-05T13:58:24.823Z"
   },
   {
    "duration": 504,
    "start_time": "2022-06-05T13:58:32.183Z"
   },
   {
    "duration": 19,
    "start_time": "2022-06-05T13:58:46.549Z"
   },
   {
    "duration": 456,
    "start_time": "2022-06-05T13:59:01.690Z"
   },
   {
    "duration": 427,
    "start_time": "2022-06-05T13:59:28.338Z"
   },
   {
    "duration": 486,
    "start_time": "2022-06-05T14:01:57.889Z"
   },
   {
    "duration": 632,
    "start_time": "2022-06-05T14:02:26.043Z"
   },
   {
    "duration": 608,
    "start_time": "2022-06-05T14:02:41.954Z"
   },
   {
    "duration": 433,
    "start_time": "2022-06-05T14:02:51.708Z"
   },
   {
    "duration": 476,
    "start_time": "2022-06-05T14:04:03.041Z"
   },
   {
    "duration": 552,
    "start_time": "2022-06-05T14:04:41.318Z"
   },
   {
    "duration": 296,
    "start_time": "2022-06-05T14:07:51.603Z"
   },
   {
    "duration": 297,
    "start_time": "2022-06-05T14:08:01.380Z"
   },
   {
    "duration": 283,
    "start_time": "2022-06-05T14:08:12.824Z"
   },
   {
    "duration": 266,
    "start_time": "2022-06-05T14:08:43.071Z"
   },
   {
    "duration": 150,
    "start_time": "2022-06-05T14:09:06.287Z"
   },
   {
    "duration": 122,
    "start_time": "2022-06-05T14:09:18.979Z"
   },
   {
    "duration": 118,
    "start_time": "2022-06-05T14:09:22.071Z"
   },
   {
    "duration": 1084,
    "start_time": "2022-06-05T14:09:26.275Z"
   },
   {
    "duration": 4,
    "start_time": "2022-06-05T14:09:27.360Z"
   },
   {
    "duration": 117,
    "start_time": "2022-06-05T14:09:27.365Z"
   },
   {
    "duration": 4,
    "start_time": "2022-06-05T14:09:27.484Z"
   },
   {
    "duration": 10,
    "start_time": "2022-06-05T14:09:27.489Z"
   },
   {
    "duration": 183,
    "start_time": "2022-06-05T14:09:27.500Z"
   },
   {
    "duration": 189,
    "start_time": "2022-06-05T14:09:27.685Z"
   },
   {
    "duration": 278,
    "start_time": "2022-06-05T14:09:27.875Z"
   },
   {
    "duration": 282,
    "start_time": "2022-06-05T14:10:24.284Z"
   },
   {
    "duration": 193,
    "start_time": "2022-06-05T14:10:45.189Z"
   },
   {
    "duration": 1083,
    "start_time": "2022-06-05T14:10:52.891Z"
   },
   {
    "duration": 4,
    "start_time": "2022-06-05T14:10:53.976Z"
   },
   {
    "duration": 127,
    "start_time": "2022-06-05T14:10:53.982Z"
   },
   {
    "duration": 16,
    "start_time": "2022-06-05T14:10:54.111Z"
   },
   {
    "duration": 5,
    "start_time": "2022-06-05T14:10:54.129Z"
   },
   {
    "duration": 191,
    "start_time": "2022-06-05T14:10:54.136Z"
   },
   {
    "duration": 193,
    "start_time": "2022-06-05T14:10:54.328Z"
   },
   {
    "duration": 291,
    "start_time": "2022-06-05T14:10:54.523Z"
   },
   {
    "duration": 1221,
    "start_time": "2022-06-05T14:11:17.012Z"
   },
   {
    "duration": 3,
    "start_time": "2022-06-05T14:11:18.235Z"
   },
   {
    "duration": 136,
    "start_time": "2022-06-05T14:11:18.240Z"
   },
   {
    "duration": 4,
    "start_time": "2022-06-05T14:11:18.378Z"
   },
   {
    "duration": 14,
    "start_time": "2022-06-05T14:11:18.383Z"
   },
   {
    "duration": 200,
    "start_time": "2022-06-05T14:11:18.399Z"
   },
   {
    "duration": 214,
    "start_time": "2022-06-05T14:11:18.601Z"
   },
   {
    "duration": 266,
    "start_time": "2022-06-05T14:11:18.817Z"
   },
   {
    "duration": 1102,
    "start_time": "2022-06-05T14:11:41.849Z"
   },
   {
    "duration": 4,
    "start_time": "2022-06-05T14:11:42.953Z"
   },
   {
    "duration": 120,
    "start_time": "2022-06-05T14:11:42.958Z"
   },
   {
    "duration": 4,
    "start_time": "2022-06-05T14:11:43.080Z"
   },
   {
    "duration": 16,
    "start_time": "2022-06-05T14:11:43.085Z"
   },
   {
    "duration": 208,
    "start_time": "2022-06-05T14:11:43.103Z"
   },
   {
    "duration": 192,
    "start_time": "2022-06-05T14:11:43.313Z"
   },
   {
    "duration": 232,
    "start_time": "2022-06-05T14:11:43.507Z"
   },
   {
    "duration": 240,
    "start_time": "2022-06-05T14:12:01.393Z"
   },
   {
    "duration": 238,
    "start_time": "2022-06-05T14:13:38.548Z"
   },
   {
    "duration": 247,
    "start_time": "2022-06-05T14:13:45.491Z"
   },
   {
    "duration": 139,
    "start_time": "2022-06-05T14:15:55.517Z"
   },
   {
    "duration": 231,
    "start_time": "2022-06-05T14:16:04.189Z"
   },
   {
    "duration": 223,
    "start_time": "2022-06-05T14:16:38.551Z"
   },
   {
    "duration": 8,
    "start_time": "2022-06-05T14:31:05.904Z"
   },
   {
    "duration": 10,
    "start_time": "2022-06-05T14:31:16.563Z"
   },
   {
    "duration": 175,
    "start_time": "2022-06-05T14:38:13.593Z"
   },
   {
    "duration": 20,
    "start_time": "2022-06-05T14:44:23.656Z"
   },
   {
    "duration": 14,
    "start_time": "2022-06-05T14:44:32.714Z"
   },
   {
    "duration": 801,
    "start_time": "2022-06-05T14:56:40.098Z"
   },
   {
    "duration": 112,
    "start_time": "2022-06-05T14:57:00.396Z"
   },
   {
    "duration": 130,
    "start_time": "2022-06-05T14:57:43.853Z"
   },
   {
    "duration": 132,
    "start_time": "2022-06-05T14:58:01.601Z"
   },
   {
    "duration": 154,
    "start_time": "2022-06-05T14:58:23.009Z"
   },
   {
    "duration": 150,
    "start_time": "2022-06-05T14:58:28.998Z"
   },
   {
    "duration": 174,
    "start_time": "2022-06-05T14:59:30.066Z"
   },
   {
    "duration": 144,
    "start_time": "2022-06-05T15:00:25.333Z"
   },
   {
    "duration": 175,
    "start_time": "2022-06-05T15:05:12.022Z"
   },
   {
    "duration": 243,
    "start_time": "2022-06-05T15:05:21.813Z"
   },
   {
    "duration": 238,
    "start_time": "2022-06-05T15:05:32.008Z"
   },
   {
    "duration": 225,
    "start_time": "2022-06-05T15:05:41.516Z"
   },
   {
    "duration": 54,
    "start_time": "2022-06-05T18:01:29.684Z"
   },
   {
    "duration": 3,
    "start_time": "2022-06-05T18:04:07.891Z"
   },
   {
    "duration": 7,
    "start_time": "2022-06-05T18:04:07.895Z"
   },
   {
    "duration": 129,
    "start_time": "2022-06-05T18:04:07.903Z"
   },
   {
    "duration": 4,
    "start_time": "2022-06-05T18:04:08.034Z"
   },
   {
    "duration": 7,
    "start_time": "2022-06-05T18:04:08.040Z"
   },
   {
    "duration": 275,
    "start_time": "2022-06-05T18:04:08.049Z"
   },
   {
    "duration": 130,
    "start_time": "2022-06-05T18:04:08.326Z"
   },
   {
    "duration": 242,
    "start_time": "2022-06-05T18:04:08.457Z"
   },
   {
    "duration": 175,
    "start_time": "2022-06-05T18:04:08.700Z"
   },
   {
    "duration": 151,
    "start_time": "2022-06-05T18:04:08.878Z"
   },
   {
    "duration": 15,
    "start_time": "2022-06-05T18:04:09.031Z"
   },
   {
    "duration": 181,
    "start_time": "2022-06-05T18:08:18.949Z"
   },
   {
    "duration": 101,
    "start_time": "2022-06-05T18:08:41.085Z"
   },
   {
    "duration": 106,
    "start_time": "2022-06-05T18:09:06.783Z"
   },
   {
    "duration": 16631,
    "start_time": "2022-06-05T18:09:47.276Z"
   },
   {
    "duration": 236,
    "start_time": "2022-06-05T18:17:16.695Z"
   },
   {
    "duration": 240,
    "start_time": "2022-06-05T18:17:32.644Z"
   },
   {
    "duration": 338,
    "start_time": "2022-06-05T18:17:45.010Z"
   },
   {
    "duration": 336,
    "start_time": "2022-06-05T18:18:16.549Z"
   },
   {
    "duration": 326,
    "start_time": "2022-06-05T18:18:30.149Z"
   },
   {
    "duration": 276,
    "start_time": "2022-06-05T18:18:41.152Z"
   },
   {
    "duration": 254,
    "start_time": "2022-06-05T18:18:55.518Z"
   },
   {
    "duration": 258,
    "start_time": "2022-06-05T18:19:30.666Z"
   },
   {
    "duration": 257,
    "start_time": "2022-06-05T18:19:59.258Z"
   },
   {
    "duration": 258,
    "start_time": "2022-06-05T18:20:15.066Z"
   },
   {
    "duration": 266,
    "start_time": "2022-06-05T18:20:26.778Z"
   },
   {
    "duration": 282,
    "start_time": "2022-06-05T18:21:52.696Z"
   },
   {
    "duration": 520,
    "start_time": "2022-06-05T18:21:59.677Z"
   },
   {
    "duration": 279,
    "start_time": "2022-06-05T18:23:17.115Z"
   },
   {
    "duration": 294,
    "start_time": "2022-06-05T18:23:26.075Z"
   },
   {
    "duration": 252,
    "start_time": "2022-06-05T18:25:59.493Z"
   },
   {
    "duration": 265,
    "start_time": "2022-06-05T18:26:12.808Z"
   },
   {
    "duration": 1452,
    "start_time": "2022-06-06T15:29:25.059Z"
   },
   {
    "duration": 5,
    "start_time": "2022-06-06T15:29:26.514Z"
   },
   {
    "duration": 863,
    "start_time": "2022-06-06T15:29:26.524Z"
   },
   {
    "duration": 5,
    "start_time": "2022-06-06T15:29:27.389Z"
   },
   {
    "duration": 14,
    "start_time": "2022-06-06T15:29:27.397Z"
   },
   {
    "duration": 255,
    "start_time": "2022-06-06T15:29:27.412Z"
   },
   {
    "duration": 225,
    "start_time": "2022-06-06T15:29:27.669Z"
   },
   {
    "duration": 311,
    "start_time": "2022-06-06T15:29:27.896Z"
   },
   {
    "duration": 236,
    "start_time": "2022-06-06T15:29:28.209Z"
   },
   {
    "duration": 168,
    "start_time": "2022-06-06T15:29:28.451Z"
   },
   {
    "duration": 419,
    "start_time": "2022-06-06T15:29:28.621Z"
   },
   {
    "duration": 378,
    "start_time": "2022-06-06T15:29:29.042Z"
   },
   {
    "duration": 1187,
    "start_time": "2022-06-06T15:30:14.757Z"
   },
   {
    "duration": 230,
    "start_time": "2022-06-06T17:40:50.006Z"
   },
   {
    "duration": 139,
    "start_time": "2022-06-06T17:40:59.704Z"
   },
   {
    "duration": 192,
    "start_time": "2022-06-06T17:41:06.855Z"
   },
   {
    "duration": 140,
    "start_time": "2022-06-06T17:46:03.092Z"
   },
   {
    "duration": 58,
    "start_time": "2022-06-07T06:20:21.968Z"
   },
   {
    "duration": 1199,
    "start_time": "2022-06-07T06:20:37.180Z"
   },
   {
    "duration": 4,
    "start_time": "2022-06-07T06:20:38.381Z"
   },
   {
    "duration": 274,
    "start_time": "2022-06-07T06:20:38.386Z"
   },
   {
    "duration": 4,
    "start_time": "2022-06-07T06:20:38.662Z"
   },
   {
    "duration": 7,
    "start_time": "2022-06-07T06:20:38.667Z"
   },
   {
    "duration": 196,
    "start_time": "2022-06-07T06:20:38.675Z"
   },
   {
    "duration": 215,
    "start_time": "2022-06-07T06:20:38.873Z"
   },
   {
    "duration": 263,
    "start_time": "2022-06-07T06:20:39.089Z"
   },
   {
    "duration": 168,
    "start_time": "2022-06-07T06:20:39.353Z"
   },
   {
    "duration": 152,
    "start_time": "2022-06-07T06:20:39.523Z"
   },
   {
    "duration": 282,
    "start_time": "2022-06-07T06:20:39.677Z"
   },
   {
    "duration": 276,
    "start_time": "2022-06-07T06:20:39.961Z"
   },
   {
    "duration": 34,
    "start_time": "2022-06-07T06:20:40.239Z"
   },
   {
    "duration": 173,
    "start_time": "2022-06-07T06:20:40.275Z"
   },
   {
    "duration": 46,
    "start_time": "2022-06-07T06:20:55.454Z"
   },
   {
    "duration": 49,
    "start_time": "2022-06-07T06:21:44.126Z"
   },
   {
    "duration": 27,
    "start_time": "2022-06-07T06:24:00.486Z"
   },
   {
    "duration": 52,
    "start_time": "2022-06-07T06:24:09.643Z"
   },
   {
    "duration": 53,
    "start_time": "2022-06-07T06:27:12.439Z"
   },
   {
    "duration": 53,
    "start_time": "2022-06-07T06:27:24.564Z"
   },
   {
    "duration": 453,
    "start_time": "2022-06-07T06:34:26.690Z"
   },
   {
    "duration": 28,
    "start_time": "2022-06-07T06:34:41.196Z"
   },
   {
    "duration": 10,
    "start_time": "2022-06-07T06:34:51.468Z"
   },
   {
    "duration": 10,
    "start_time": "2022-06-07T06:35:57.778Z"
   },
   {
    "duration": 20,
    "start_time": "2022-06-07T06:44:12.757Z"
   },
   {
    "duration": 20,
    "start_time": "2022-06-07T06:45:48.728Z"
   },
   {
    "duration": 21,
    "start_time": "2022-06-07T06:45:55.857Z"
   },
   {
    "duration": 20,
    "start_time": "2022-06-07T06:46:43.991Z"
   },
   {
    "duration": 1129,
    "start_time": "2022-06-07T06:46:52.026Z"
   },
   {
    "duration": 5,
    "start_time": "2022-06-07T06:46:53.157Z"
   },
   {
    "duration": 121,
    "start_time": "2022-06-07T06:46:53.163Z"
   },
   {
    "duration": 5,
    "start_time": "2022-06-07T06:46:53.286Z"
   },
   {
    "duration": 6,
    "start_time": "2022-06-07T06:46:53.292Z"
   },
   {
    "duration": 29,
    "start_time": "2022-06-07T06:46:53.300Z"
   },
   {
    "duration": 116,
    "start_time": "2022-06-07T06:46:53.330Z"
   },
   {
    "duration": 0,
    "start_time": "2022-06-07T06:46:53.448Z"
   },
   {
    "duration": 0,
    "start_time": "2022-06-07T06:46:53.449Z"
   },
   {
    "duration": 0,
    "start_time": "2022-06-07T06:46:53.450Z"
   },
   {
    "duration": 0,
    "start_time": "2022-06-07T06:46:53.451Z"
   },
   {
    "duration": 0,
    "start_time": "2022-06-07T06:46:53.452Z"
   },
   {
    "duration": 0,
    "start_time": "2022-06-07T06:46:53.453Z"
   },
   {
    "duration": 0,
    "start_time": "2022-06-07T06:46:53.454Z"
   },
   {
    "duration": 0,
    "start_time": "2022-06-07T06:46:53.456Z"
   },
   {
    "duration": 0,
    "start_time": "2022-06-07T06:46:53.457Z"
   },
   {
    "duration": 24,
    "start_time": "2022-06-07T06:47:18.756Z"
   },
   {
    "duration": 25,
    "start_time": "2022-06-07T06:48:35.779Z"
   },
   {
    "duration": 23,
    "start_time": "2022-06-07T06:48:46.422Z"
   },
   {
    "duration": 1154,
    "start_time": "2022-06-07T06:49:17.108Z"
   },
   {
    "duration": 4,
    "start_time": "2022-06-07T06:49:18.263Z"
   },
   {
    "duration": 112,
    "start_time": "2022-06-07T06:49:18.268Z"
   },
   {
    "duration": 4,
    "start_time": "2022-06-07T06:49:18.383Z"
   },
   {
    "duration": 7,
    "start_time": "2022-06-07T06:49:18.389Z"
   },
   {
    "duration": 34,
    "start_time": "2022-06-07T06:49:18.397Z"
   },
   {
    "duration": 22,
    "start_time": "2022-06-07T06:49:18.432Z"
   },
   {
    "duration": 191,
    "start_time": "2022-06-07T06:49:18.455Z"
   },
   {
    "duration": 203,
    "start_time": "2022-06-07T06:49:18.647Z"
   },
   {
    "duration": 253,
    "start_time": "2022-06-07T06:49:18.852Z"
   },
   {
    "duration": 179,
    "start_time": "2022-06-07T06:49:19.106Z"
   },
   {
    "duration": 169,
    "start_time": "2022-06-07T06:49:19.287Z"
   },
   {
    "duration": 283,
    "start_time": "2022-06-07T06:49:19.458Z"
   },
   {
    "duration": 274,
    "start_time": "2022-06-07T06:49:19.743Z"
   },
   {
    "duration": 47,
    "start_time": "2022-06-07T06:49:20.022Z"
   },
   {
    "duration": 182,
    "start_time": "2022-06-07T06:49:20.070Z"
   },
   {
    "duration": 11,
    "start_time": "2022-06-07T06:49:52.061Z"
   },
   {
    "duration": 17,
    "start_time": "2022-06-07T06:50:02.163Z"
   },
   {
    "duration": 1085,
    "start_time": "2022-06-07T06:50:09.977Z"
   },
   {
    "duration": 4,
    "start_time": "2022-06-07T06:50:11.063Z"
   },
   {
    "duration": 111,
    "start_time": "2022-06-07T06:50:11.068Z"
   },
   {
    "duration": 4,
    "start_time": "2022-06-07T06:50:11.180Z"
   },
   {
    "duration": 7,
    "start_time": "2022-06-07T06:50:11.186Z"
   },
   {
    "duration": 31,
    "start_time": "2022-06-07T06:50:11.195Z"
   },
   {
    "duration": 10,
    "start_time": "2022-06-07T06:50:11.228Z"
   },
   {
    "duration": 23,
    "start_time": "2022-06-07T06:50:11.239Z"
   },
   {
    "duration": 200,
    "start_time": "2022-06-07T06:50:11.264Z"
   },
   {
    "duration": 211,
    "start_time": "2022-06-07T06:50:11.466Z"
   },
   {
    "duration": 290,
    "start_time": "2022-06-07T06:50:11.679Z"
   },
   {
    "duration": 188,
    "start_time": "2022-06-07T06:50:11.972Z"
   },
   {
    "duration": 195,
    "start_time": "2022-06-07T06:50:12.161Z"
   },
   {
    "duration": 402,
    "start_time": "2022-06-07T06:50:12.359Z"
   },
   {
    "duration": 595,
    "start_time": "2022-06-07T06:50:12.762Z"
   },
   {
    "duration": 171,
    "start_time": "2022-06-07T06:50:13.359Z"
   },
   {
    "duration": 330,
    "start_time": "2022-06-07T06:50:13.532Z"
   },
   {
    "duration": 28,
    "start_time": "2022-06-07T06:50:58.975Z"
   },
   {
    "duration": 23,
    "start_time": "2022-06-07T06:51:20.461Z"
   },
   {
    "duration": 33,
    "start_time": "2022-06-07T06:51:34.447Z"
   },
   {
    "duration": 1139,
    "start_time": "2022-06-07T06:51:43.807Z"
   },
   {
    "duration": 4,
    "start_time": "2022-06-07T06:51:44.947Z"
   },
   {
    "duration": 114,
    "start_time": "2022-06-07T06:51:44.953Z"
   },
   {
    "duration": 5,
    "start_time": "2022-06-07T06:51:45.070Z"
   },
   {
    "duration": 7,
    "start_time": "2022-06-07T06:51:45.076Z"
   },
   {
    "duration": 15,
    "start_time": "2022-06-07T06:51:45.084Z"
   },
   {
    "duration": 59,
    "start_time": "2022-06-07T06:51:45.101Z"
   },
   {
    "duration": 237,
    "start_time": "2022-06-07T06:51:45.162Z"
   },
   {
    "duration": 223,
    "start_time": "2022-06-07T06:51:45.401Z"
   },
   {
    "duration": 246,
    "start_time": "2022-06-07T06:51:45.626Z"
   },
   {
    "duration": 175,
    "start_time": "2022-06-07T06:51:45.873Z"
   },
   {
    "duration": 160,
    "start_time": "2022-06-07T06:51:46.050Z"
   },
   {
    "duration": 290,
    "start_time": "2022-06-07T06:51:46.212Z"
   },
   {
    "duration": 264,
    "start_time": "2022-06-07T06:51:46.504Z"
   },
   {
    "duration": 55,
    "start_time": "2022-06-07T06:51:46.769Z"
   },
   {
    "duration": 165,
    "start_time": "2022-06-07T06:51:46.825Z"
   },
   {
    "duration": 5,
    "start_time": "2022-06-07T06:58:11.260Z"
   },
   {
    "duration": 10,
    "start_time": "2022-06-07T06:58:40.258Z"
   },
   {
    "duration": 9,
    "start_time": "2022-06-07T06:58:48.251Z"
   },
   {
    "duration": 109,
    "start_time": "2022-06-07T06:59:01.877Z"
   },
   {
    "duration": 12,
    "start_time": "2022-06-07T06:59:43.399Z"
   },
   {
    "duration": 1117,
    "start_time": "2022-06-07T07:08:50.350Z"
   },
   {
    "duration": 4,
    "start_time": "2022-06-07T07:08:51.469Z"
   },
   {
    "duration": 114,
    "start_time": "2022-06-07T07:08:51.474Z"
   },
   {
    "duration": 5,
    "start_time": "2022-06-07T07:08:51.589Z"
   },
   {
    "duration": 8,
    "start_time": "2022-06-07T07:08:51.596Z"
   },
   {
    "duration": 27,
    "start_time": "2022-06-07T07:08:51.605Z"
   },
   {
    "duration": 31,
    "start_time": "2022-06-07T07:08:51.633Z"
   },
   {
    "duration": 198,
    "start_time": "2022-06-07T07:08:51.665Z"
   },
   {
    "duration": 207,
    "start_time": "2022-06-07T07:08:51.865Z"
   },
   {
    "duration": 269,
    "start_time": "2022-06-07T07:08:52.074Z"
   },
   {
    "duration": 181,
    "start_time": "2022-06-07T07:08:52.345Z"
   },
   {
    "duration": 227,
    "start_time": "2022-06-07T07:08:52.528Z"
   },
   {
    "duration": 305,
    "start_time": "2022-06-07T07:08:52.757Z"
   },
   {
    "duration": 279,
    "start_time": "2022-06-07T07:08:53.064Z"
   },
   {
    "duration": 54,
    "start_time": "2022-06-07T07:08:53.344Z"
   },
   {
    "duration": 26,
    "start_time": "2022-06-07T07:08:53.400Z"
   },
   {
    "duration": 161,
    "start_time": "2022-06-07T07:08:53.427Z"
   },
   {
    "duration": 1308,
    "start_time": "2022-06-07T11:02:54.555Z"
   },
   {
    "duration": 4,
    "start_time": "2022-06-07T11:02:55.865Z"
   },
   {
    "duration": 320,
    "start_time": "2022-06-07T11:02:55.870Z"
   },
   {
    "duration": 6,
    "start_time": "2022-06-07T11:02:56.192Z"
   },
   {
    "duration": 17,
    "start_time": "2022-06-07T11:02:56.201Z"
   },
   {
    "duration": 14,
    "start_time": "2022-06-07T11:02:56.219Z"
   },
   {
    "duration": 33,
    "start_time": "2022-06-07T11:02:56.234Z"
   },
   {
    "duration": 215,
    "start_time": "2022-06-07T11:02:56.269Z"
   },
   {
    "duration": 218,
    "start_time": "2022-06-07T11:02:56.486Z"
   },
   {
    "duration": 262,
    "start_time": "2022-06-07T11:02:56.707Z"
   },
   {
    "duration": 184,
    "start_time": "2022-06-07T11:02:56.971Z"
   },
   {
    "duration": 173,
    "start_time": "2022-06-07T11:02:57.156Z"
   },
   {
    "duration": 320,
    "start_time": "2022-06-07T11:02:57.330Z"
   },
   {
    "duration": 301,
    "start_time": "2022-06-07T11:02:57.652Z"
   },
   {
    "duration": 84,
    "start_time": "2022-06-07T11:02:57.955Z"
   },
   {
    "duration": 13,
    "start_time": "2022-06-07T11:02:58.041Z"
   },
   {
    "duration": 184,
    "start_time": "2022-06-07T11:02:58.055Z"
   },
   {
    "duration": 43,
    "start_time": "2022-06-07T11:16:54.950Z"
   },
   {
    "duration": 87,
    "start_time": "2022-06-07T11:17:04.143Z"
   },
   {
    "duration": 22,
    "start_time": "2022-06-07T11:19:38.915Z"
   },
   {
    "duration": 90,
    "start_time": "2022-06-07T11:19:52.639Z"
   },
   {
    "duration": 7,
    "start_time": "2022-06-07T11:21:44.924Z"
   },
   {
    "duration": 17,
    "start_time": "2022-06-07T11:21:53.869Z"
   },
   {
    "duration": 14,
    "start_time": "2022-06-07T11:23:14.814Z"
   },
   {
    "duration": 18,
    "start_time": "2022-06-07T11:23:34.159Z"
   },
   {
    "duration": 9,
    "start_time": "2022-06-07T11:25:45.155Z"
   },
   {
    "duration": 100,
    "start_time": "2022-06-07T11:27:54.065Z"
   },
   {
    "duration": 17,
    "start_time": "2022-06-07T11:27:56.039Z"
   },
   {
    "duration": 95,
    "start_time": "2022-06-07T11:28:58.213Z"
   },
   {
    "duration": 20,
    "start_time": "2022-06-07T11:28:58.967Z"
   },
   {
    "duration": 87,
    "start_time": "2022-06-07T11:29:07.806Z"
   },
   {
    "duration": 15,
    "start_time": "2022-06-07T11:29:09.476Z"
   },
   {
    "duration": 15,
    "start_time": "2022-06-07T11:44:33.991Z"
   },
   {
    "duration": 144,
    "start_time": "2022-06-07T11:47:23.726Z"
   },
   {
    "duration": 5,
    "start_time": "2022-06-07T11:47:36.638Z"
   },
   {
    "duration": 11,
    "start_time": "2022-06-07T11:48:40.070Z"
   },
   {
    "duration": 17,
    "start_time": "2022-06-07T11:48:52.715Z"
   },
   {
    "duration": 1072,
    "start_time": "2022-06-07T12:32:55.742Z"
   },
   {
    "duration": 949,
    "start_time": "2022-06-07T12:33:54.142Z"
   },
   {
    "duration": 1041,
    "start_time": "2022-06-07T12:34:26.107Z"
   },
   {
    "duration": 1130,
    "start_time": "2022-06-07T12:39:14.026Z"
   },
   {
    "duration": 1061,
    "start_time": "2022-06-07T12:40:40.759Z"
   },
   {
    "duration": 29,
    "start_time": "2022-06-07T12:41:18.057Z"
   },
   {
    "duration": 12,
    "start_time": "2022-06-07T12:51:10.477Z"
   },
   {
    "duration": 11,
    "start_time": "2022-06-07T12:51:25.390Z"
   },
   {
    "duration": 7,
    "start_time": "2022-06-07T12:52:07.628Z"
   },
   {
    "duration": 29,
    "start_time": "2022-06-07T12:53:45.177Z"
   },
   {
    "duration": 2824,
    "start_time": "2022-06-07T13:28:04.532Z"
   },
   {
    "duration": 1115,
    "start_time": "2022-06-07T13:28:22.846Z"
   },
   {
    "duration": 832,
    "start_time": "2022-06-07T13:28:31.272Z"
   },
   {
    "duration": 3122,
    "start_time": "2022-06-07T13:28:38.242Z"
   },
   {
    "duration": 5930,
    "start_time": "2022-06-07T13:31:13.943Z"
   },
   {
    "duration": 27,
    "start_time": "2022-06-07T13:31:31.236Z"
   },
   {
    "duration": 812,
    "start_time": "2022-06-07T13:35:52.436Z"
   },
   {
    "duration": 1248,
    "start_time": "2022-06-07T13:36:01.090Z"
   },
   {
    "duration": 2947,
    "start_time": "2022-06-07T13:37:59.288Z"
   },
   {
    "duration": 2805,
    "start_time": "2022-06-07T14:02:51.472Z"
   },
   {
    "duration": 37,
    "start_time": "2022-06-07T14:04:15.736Z"
   },
   {
    "duration": 1668,
    "start_time": "2022-06-07T14:04:22.138Z"
   },
   {
    "duration": 1757,
    "start_time": "2022-06-07T14:04:37.280Z"
   },
   {
    "duration": 1663,
    "start_time": "2022-06-07T14:04:46.728Z"
   },
   {
    "duration": 2010,
    "start_time": "2022-06-07T14:05:03.411Z"
   },
   {
    "duration": 967,
    "start_time": "2022-06-07T14:10:45.834Z"
   },
   {
    "duration": 25,
    "start_time": "2022-06-07T14:10:46.808Z"
   },
   {
    "duration": 921,
    "start_time": "2022-06-07T14:12:57.175Z"
   },
   {
    "duration": 25,
    "start_time": "2022-06-07T14:12:59.025Z"
   },
   {
    "duration": 1856,
    "start_time": "2022-06-07T14:26:22.186Z"
   },
   {
    "duration": 1671,
    "start_time": "2022-06-07T14:27:27.805Z"
   },
   {
    "duration": 1720,
    "start_time": "2022-06-07T14:27:48.494Z"
   },
   {
    "duration": 1674,
    "start_time": "2022-06-07T14:33:00.510Z"
   },
   {
    "duration": 1745,
    "start_time": "2022-06-07T14:33:09.991Z"
   },
   {
    "duration": 1393,
    "start_time": "2022-06-07T14:34:24.991Z"
   },
   {
    "duration": 1391,
    "start_time": "2022-06-07T14:36:27.318Z"
   },
   {
    "duration": 1282,
    "start_time": "2022-06-07T14:36:40.279Z"
   },
   {
    "duration": 3164,
    "start_time": "2022-06-07T15:17:50.258Z"
   },
   {
    "duration": 1840,
    "start_time": "2022-06-07T15:18:13.192Z"
   },
   {
    "duration": 12,
    "start_time": "2022-06-07T17:33:12.200Z"
   },
   {
    "duration": 64,
    "start_time": "2022-06-07T17:42:05.714Z"
   },
   {
    "duration": 333,
    "start_time": "2022-06-07T17:42:20.747Z"
   },
   {
    "duration": 222,
    "start_time": "2022-06-07T17:42:30.818Z"
   },
   {
    "duration": 218,
    "start_time": "2022-06-07T17:43:36.355Z"
   },
   {
    "duration": 4,
    "start_time": "2022-06-07T17:51:01.476Z"
   },
   {
    "duration": 6,
    "start_time": "2022-06-07T17:51:12.063Z"
   },
   {
    "duration": 12,
    "start_time": "2022-06-07T17:51:58.107Z"
   },
   {
    "duration": 11,
    "start_time": "2022-06-07T17:52:21.805Z"
   },
   {
    "duration": 10,
    "start_time": "2022-06-07T17:52:36.810Z"
   },
   {
    "duration": 11,
    "start_time": "2022-06-07T18:02:37.037Z"
   },
   {
    "duration": 9,
    "start_time": "2022-06-07T18:02:48.682Z"
   },
   {
    "duration": 10,
    "start_time": "2022-06-07T18:03:10.750Z"
   },
   {
    "duration": 17,
    "start_time": "2022-06-07T18:03:35.866Z"
   },
   {
    "duration": 17,
    "start_time": "2022-06-07T18:44:56.009Z"
   },
   {
    "duration": 16,
    "start_time": "2022-06-07T18:45:10.946Z"
   },
   {
    "duration": 15,
    "start_time": "2022-06-07T18:46:53.398Z"
   },
   {
    "duration": 15,
    "start_time": "2022-06-07T18:47:17.576Z"
   },
   {
    "duration": 15,
    "start_time": "2022-06-07T18:47:23.869Z"
   },
   {
    "duration": 13,
    "start_time": "2022-06-07T18:47:32.383Z"
   },
   {
    "duration": 15,
    "start_time": "2022-06-07T18:47:44.697Z"
   },
   {
    "duration": 15,
    "start_time": "2022-06-07T18:48:58.366Z"
   },
   {
    "duration": 17,
    "start_time": "2022-06-07T18:49:48.558Z"
   },
   {
    "duration": 11,
    "start_time": "2022-06-07T18:52:42.152Z"
   },
   {
    "duration": 12,
    "start_time": "2022-06-07T18:53:23.804Z"
   },
   {
    "duration": 8,
    "start_time": "2022-06-07T19:16:20.901Z"
   },
   {
    "duration": 13,
    "start_time": "2022-06-07T19:16:29.124Z"
   },
   {
    "duration": 9,
    "start_time": "2022-06-07T19:20:27.940Z"
   },
   {
    "duration": 1144,
    "start_time": "2022-06-07T19:20:32.516Z"
   },
   {
    "duration": 4,
    "start_time": "2022-06-07T19:20:33.662Z"
   },
   {
    "duration": 304,
    "start_time": "2022-06-07T19:20:33.668Z"
   },
   {
    "duration": 4,
    "start_time": "2022-06-07T19:20:33.975Z"
   },
   {
    "duration": 16,
    "start_time": "2022-06-07T19:20:33.980Z"
   },
   {
    "duration": 12,
    "start_time": "2022-06-07T19:20:33.997Z"
   },
   {
    "duration": 38,
    "start_time": "2022-06-07T19:20:34.011Z"
   },
   {
    "duration": 219,
    "start_time": "2022-06-07T19:20:34.051Z"
   },
   {
    "duration": 205,
    "start_time": "2022-06-07T19:20:34.272Z"
   },
   {
    "duration": 246,
    "start_time": "2022-06-07T19:20:34.480Z"
   },
   {
    "duration": 173,
    "start_time": "2022-06-07T19:20:34.727Z"
   },
   {
    "duration": 158,
    "start_time": "2022-06-07T19:20:34.902Z"
   },
   {
    "duration": 307,
    "start_time": "2022-06-07T19:20:35.062Z"
   },
   {
    "duration": 295,
    "start_time": "2022-06-07T19:20:35.370Z"
   },
   {
    "duration": 95,
    "start_time": "2022-06-07T19:20:35.667Z"
   },
   {
    "duration": 7,
    "start_time": "2022-06-07T19:20:35.764Z"
   },
   {
    "duration": 41,
    "start_time": "2022-06-07T19:20:35.773Z"
   },
   {
    "duration": 343,
    "start_time": "2022-06-07T19:20:35.816Z"
   },
   {
    "duration": 1133,
    "start_time": "2022-06-07T19:20:36.161Z"
   },
   {
    "duration": 15,
    "start_time": "2022-06-07T19:20:37.296Z"
   },
   {
    "duration": 10,
    "start_time": "2022-06-07T19:20:37.313Z"
   },
   {
    "duration": 8,
    "start_time": "2022-06-07T19:20:37.324Z"
   },
   {
    "duration": 129,
    "start_time": "2022-06-07T19:20:37.334Z"
   },
   {
    "duration": 0,
    "start_time": "2022-06-07T19:20:37.465Z"
   },
   {
    "duration": 0,
    "start_time": "2022-06-07T19:20:37.466Z"
   },
   {
    "duration": 10,
    "start_time": "2022-06-07T19:21:21.765Z"
   },
   {
    "duration": 1154,
    "start_time": "2022-06-07T19:22:13.380Z"
   },
   {
    "duration": 4,
    "start_time": "2022-06-07T19:22:14.535Z"
   },
   {
    "duration": 113,
    "start_time": "2022-06-07T19:22:14.540Z"
   },
   {
    "duration": 4,
    "start_time": "2022-06-07T19:22:14.655Z"
   },
   {
    "duration": 7,
    "start_time": "2022-06-07T19:22:14.661Z"
   },
   {
    "duration": 31,
    "start_time": "2022-06-07T19:22:14.670Z"
   },
   {
    "duration": 31,
    "start_time": "2022-06-07T19:22:14.703Z"
   },
   {
    "duration": 198,
    "start_time": "2022-06-07T19:22:14.736Z"
   },
   {
    "duration": 208,
    "start_time": "2022-06-07T19:22:14.936Z"
   },
   {
    "duration": 248,
    "start_time": "2022-06-07T19:22:15.146Z"
   },
   {
    "duration": 170,
    "start_time": "2022-06-07T19:22:15.396Z"
   },
   {
    "duration": 162,
    "start_time": "2022-06-07T19:22:15.568Z"
   },
   {
    "duration": 312,
    "start_time": "2022-06-07T19:22:15.732Z"
   },
   {
    "duration": 294,
    "start_time": "2022-06-07T19:22:16.045Z"
   },
   {
    "duration": 99,
    "start_time": "2022-06-07T19:22:16.341Z"
   },
   {
    "duration": 6,
    "start_time": "2022-06-07T19:22:16.442Z"
   },
   {
    "duration": 15,
    "start_time": "2022-06-07T19:22:16.450Z"
   },
   {
    "duration": 324,
    "start_time": "2022-06-07T19:22:16.467Z"
   },
   {
    "duration": 847,
    "start_time": "2022-06-07T19:22:16.795Z"
   },
   {
    "duration": 23,
    "start_time": "2022-06-07T19:22:17.644Z"
   },
   {
    "duration": 11,
    "start_time": "2022-06-07T19:22:17.669Z"
   },
   {
    "duration": 15,
    "start_time": "2022-06-07T19:22:17.682Z"
   },
   {
    "duration": 23,
    "start_time": "2022-06-07T19:22:17.699Z"
   },
   {
    "duration": 14,
    "start_time": "2022-06-07T19:22:17.723Z"
   },
   {
    "duration": 14,
    "start_time": "2022-06-07T19:22:17.739Z"
   },
   {
    "duration": 14,
    "start_time": "2022-06-07T19:24:00.503Z"
   },
   {
    "duration": 16,
    "start_time": "2022-06-07T19:26:02.122Z"
   },
   {
    "duration": 367,
    "start_time": "2022-06-07T19:26:34.870Z"
   },
   {
    "duration": 1147,
    "start_time": "2022-06-07T19:26:51.155Z"
   },
   {
    "duration": 3,
    "start_time": "2022-06-07T19:26:52.304Z"
   },
   {
    "duration": 115,
    "start_time": "2022-06-07T19:26:52.309Z"
   },
   {
    "duration": 4,
    "start_time": "2022-06-07T19:26:52.426Z"
   },
   {
    "duration": 7,
    "start_time": "2022-06-07T19:26:52.433Z"
   },
   {
    "duration": 28,
    "start_time": "2022-06-07T19:26:52.441Z"
   },
   {
    "duration": 54,
    "start_time": "2022-06-07T19:26:52.471Z"
   },
   {
    "duration": 210,
    "start_time": "2022-06-07T19:26:52.527Z"
   },
   {
    "duration": 228,
    "start_time": "2022-06-07T19:26:52.738Z"
   },
   {
    "duration": 291,
    "start_time": "2022-06-07T19:26:52.970Z"
   },
   {
    "duration": 182,
    "start_time": "2022-06-07T19:26:53.264Z"
   },
   {
    "duration": 171,
    "start_time": "2022-06-07T19:26:53.448Z"
   },
   {
    "duration": 500,
    "start_time": "2022-06-07T19:26:53.621Z"
   },
   {
    "duration": 310,
    "start_time": "2022-06-07T19:26:54.125Z"
   },
   {
    "duration": 101,
    "start_time": "2022-06-07T19:26:54.437Z"
   },
   {
    "duration": 7,
    "start_time": "2022-06-07T19:26:54.539Z"
   },
   {
    "duration": 15,
    "start_time": "2022-06-07T19:26:54.549Z"
   },
   {
    "duration": 240,
    "start_time": "2022-06-07T19:26:54.566Z"
   },
   {
    "duration": 1256,
    "start_time": "2022-06-07T19:26:54.807Z"
   },
   {
    "duration": 16,
    "start_time": "2022-06-07T19:26:56.064Z"
   },
   {
    "duration": 106,
    "start_time": "2022-06-07T19:26:56.082Z"
   },
   {
    "duration": 8,
    "start_time": "2022-06-07T19:26:56.195Z"
   },
   {
    "duration": 18,
    "start_time": "2022-06-07T19:26:56.204Z"
   },
   {
    "duration": 13,
    "start_time": "2022-06-07T19:26:56.224Z"
   },
   {
    "duration": 14,
    "start_time": "2022-06-07T19:26:56.239Z"
   },
   {
    "duration": 109,
    "start_time": "2022-06-07T19:29:36.075Z"
   },
   {
    "duration": 1667,
    "start_time": "2022-06-07T19:29:49.859Z"
   },
   {
    "duration": 25569,
    "start_time": "2022-06-07T19:30:06.921Z"
   },
   {
    "duration": 1875,
    "start_time": "2022-06-07T19:30:51.579Z"
   },
   {
    "duration": 1873,
    "start_time": "2022-06-07T19:31:05.664Z"
   },
   {
    "duration": 17,
    "start_time": "2022-06-07T19:31:31.721Z"
   },
   {
    "duration": 1857,
    "start_time": "2022-06-07T19:31:42.127Z"
   },
   {
    "duration": 2420,
    "start_time": "2022-06-07T19:33:35.452Z"
   },
   {
    "duration": 3017,
    "start_time": "2022-06-07T19:34:53.520Z"
   },
   {
    "duration": 2574,
    "start_time": "2022-06-07T19:35:18.960Z"
   },
   {
    "duration": 213,
    "start_time": "2022-06-07T19:49:19.069Z"
   },
   {
    "duration": 87,
    "start_time": "2022-06-07T19:49:27.907Z"
   },
   {
    "duration": 248,
    "start_time": "2022-06-07T19:49:43.723Z"
   },
   {
    "duration": 197,
    "start_time": "2022-06-07T19:49:50.856Z"
   },
   {
    "duration": 96,
    "start_time": "2022-06-07T20:04:18.072Z"
   },
   {
    "duration": 94,
    "start_time": "2022-06-07T20:04:32.973Z"
   },
   {
    "duration": 91,
    "start_time": "2022-06-07T20:04:38.996Z"
   },
   {
    "duration": 1150,
    "start_time": "2022-06-07T20:04:59.518Z"
   },
   {
    "duration": 4,
    "start_time": "2022-06-07T20:05:00.670Z"
   },
   {
    "duration": 124,
    "start_time": "2022-06-07T20:05:00.675Z"
   },
   {
    "duration": 5,
    "start_time": "2022-06-07T20:05:00.802Z"
   },
   {
    "duration": 8,
    "start_time": "2022-06-07T20:05:00.808Z"
   },
   {
    "duration": 22,
    "start_time": "2022-06-07T20:05:00.818Z"
   },
   {
    "duration": 53,
    "start_time": "2022-06-07T20:05:00.842Z"
   },
   {
    "duration": 223,
    "start_time": "2022-06-07T20:05:00.897Z"
   },
   {
    "duration": 406,
    "start_time": "2022-06-07T20:05:01.122Z"
   },
   {
    "duration": 571,
    "start_time": "2022-06-07T20:05:01.531Z"
   },
   {
    "duration": 331,
    "start_time": "2022-06-07T20:05:02.104Z"
   },
   {
    "duration": 384,
    "start_time": "2022-06-07T20:05:02.437Z"
   },
   {
    "duration": 451,
    "start_time": "2022-06-07T20:05:02.822Z"
   },
   {
    "duration": 331,
    "start_time": "2022-06-07T20:05:03.275Z"
   },
   {
    "duration": 106,
    "start_time": "2022-06-07T20:05:03.608Z"
   },
   {
    "duration": 8,
    "start_time": "2022-06-07T20:05:03.715Z"
   },
   {
    "duration": 19,
    "start_time": "2022-06-07T20:05:03.725Z"
   },
   {
    "duration": 350,
    "start_time": "2022-06-07T20:05:03.746Z"
   },
   {
    "duration": 969,
    "start_time": "2022-06-07T20:05:04.097Z"
   },
   {
    "duration": 19,
    "start_time": "2022-06-07T20:05:05.068Z"
   },
   {
    "duration": 17,
    "start_time": "2022-06-07T20:05:05.089Z"
   },
   {
    "duration": 26,
    "start_time": "2022-06-07T20:05:05.108Z"
   },
   {
    "duration": 37,
    "start_time": "2022-06-07T20:05:05.136Z"
   },
   {
    "duration": 14,
    "start_time": "2022-06-07T20:05:05.175Z"
   },
   {
    "duration": 52,
    "start_time": "2022-06-07T20:05:05.190Z"
   },
   {
    "duration": 2666,
    "start_time": "2022-06-07T20:05:05.243Z"
   },
   {
    "duration": 55,
    "start_time": "2022-06-08T11:14:32.423Z"
   },
   {
    "duration": 1258,
    "start_time": "2022-06-08T11:14:40.223Z"
   },
   {
    "duration": 4,
    "start_time": "2022-06-08T11:14:41.484Z"
   },
   {
    "duration": 319,
    "start_time": "2022-06-08T11:14:41.490Z"
   },
   {
    "duration": 5,
    "start_time": "2022-06-08T11:14:41.811Z"
   },
   {
    "duration": 18,
    "start_time": "2022-06-08T11:14:41.827Z"
   },
   {
    "duration": 25,
    "start_time": "2022-06-08T11:14:41.847Z"
   },
   {
    "duration": 50,
    "start_time": "2022-06-08T11:14:41.874Z"
   },
   {
    "duration": 191,
    "start_time": "2022-06-08T11:14:41.926Z"
   },
   {
    "duration": 200,
    "start_time": "2022-06-08T11:14:42.120Z"
   },
   {
    "duration": 279,
    "start_time": "2022-06-08T11:14:42.322Z"
   },
   {
    "duration": 177,
    "start_time": "2022-06-08T11:14:42.603Z"
   },
   {
    "duration": 160,
    "start_time": "2022-06-08T11:14:42.782Z"
   },
   {
    "duration": 302,
    "start_time": "2022-06-08T11:14:42.944Z"
   },
   {
    "duration": 392,
    "start_time": "2022-06-08T11:14:43.249Z"
   },
   {
    "duration": 143,
    "start_time": "2022-06-08T11:14:43.643Z"
   },
   {
    "duration": 43,
    "start_time": "2022-06-08T11:14:43.788Z"
   },
   {
    "duration": 47,
    "start_time": "2022-06-08T11:14:43.834Z"
   },
   {
    "duration": 234,
    "start_time": "2022-06-08T11:14:43.883Z"
   },
   {
    "duration": 1332,
    "start_time": "2022-06-08T11:14:44.118Z"
   },
   {
    "duration": 16,
    "start_time": "2022-06-08T11:14:45.452Z"
   },
   {
    "duration": 107,
    "start_time": "2022-06-08T11:14:45.470Z"
   },
   {
    "duration": 19,
    "start_time": "2022-06-08T11:14:45.579Z"
   },
   {
    "duration": 34,
    "start_time": "2022-06-08T11:14:45.599Z"
   },
   {
    "duration": 23,
    "start_time": "2022-06-08T11:14:45.635Z"
   },
   {
    "duration": 44,
    "start_time": "2022-06-08T11:14:45.660Z"
   },
   {
    "duration": 2704,
    "start_time": "2022-06-08T11:14:45.705Z"
   },
   {
    "duration": 16,
    "start_time": "2022-06-08T11:14:48.411Z"
   },
   {
    "duration": 12,
    "start_time": "2022-06-08T11:15:00.255Z"
   },
   {
    "duration": 11,
    "start_time": "2022-06-08T11:46:38.702Z"
   },
   {
    "duration": 15,
    "start_time": "2022-06-08T18:14:39.174Z"
   },
   {
    "duration": 22,
    "start_time": "2022-06-08T18:18:14.783Z"
   },
   {
    "duration": 1289,
    "start_time": "2022-06-08T18:18:14.814Z"
   },
   {
    "duration": 7,
    "start_time": "2022-06-08T18:18:16.110Z"
   },
   {
    "duration": 229,
    "start_time": "2022-06-08T18:18:16.119Z"
   },
   {
    "duration": 4,
    "start_time": "2022-06-08T18:18:16.350Z"
   },
   {
    "duration": 14,
    "start_time": "2022-06-08T18:18:16.357Z"
   },
   {
    "duration": 47,
    "start_time": "2022-06-08T18:18:16.373Z"
   },
   {
    "duration": 37,
    "start_time": "2022-06-08T18:18:16.421Z"
   },
   {
    "duration": 233,
    "start_time": "2022-06-08T18:18:16.460Z"
   },
   {
    "duration": 134,
    "start_time": "2022-06-08T18:18:16.694Z"
   },
   {
    "duration": 257,
    "start_time": "2022-06-08T18:18:16.829Z"
   },
   {
    "duration": 161,
    "start_time": "2022-06-08T18:18:17.092Z"
   },
   {
    "duration": 182,
    "start_time": "2022-06-08T18:18:17.255Z"
   },
   {
    "duration": 313,
    "start_time": "2022-06-08T18:18:17.439Z"
   },
   {
    "duration": 407,
    "start_time": "2022-06-08T18:18:17.754Z"
   },
   {
    "duration": 114,
    "start_time": "2022-06-08T18:18:18.164Z"
   },
   {
    "duration": 8,
    "start_time": "2022-06-08T18:18:18.282Z"
   },
   {
    "duration": 76,
    "start_time": "2022-06-08T18:18:18.292Z"
   },
   {
    "duration": 304,
    "start_time": "2022-06-08T18:18:18.370Z"
   },
   {
    "duration": 1248,
    "start_time": "2022-06-08T18:18:18.677Z"
   },
   {
    "duration": 15,
    "start_time": "2022-06-08T18:18:19.927Z"
   },
   {
    "duration": 8,
    "start_time": "2022-06-08T18:18:19.944Z"
   },
   {
    "duration": 10,
    "start_time": "2022-06-08T18:18:19.953Z"
   },
   {
    "duration": 33,
    "start_time": "2022-06-08T18:18:19.964Z"
   },
   {
    "duration": 30,
    "start_time": "2022-06-08T18:18:19.998Z"
   },
   {
    "duration": 19,
    "start_time": "2022-06-08T18:18:20.029Z"
   },
   {
    "duration": 2772,
    "start_time": "2022-06-08T18:18:20.049Z"
   },
   {
    "duration": 13,
    "start_time": "2022-06-08T18:18:22.825Z"
   },
   {
    "duration": 45,
    "start_time": "2022-06-08T22:24:27.490Z"
   },
   {
    "duration": 13,
    "start_time": "2022-06-08T22:39:52.111Z"
   },
   {
    "duration": 1849,
    "start_time": "2022-06-08T22:39:52.128Z"
   },
   {
    "duration": 5,
    "start_time": "2022-06-08T22:39:53.979Z"
   },
   {
    "duration": 129,
    "start_time": "2022-06-08T22:39:53.988Z"
   },
   {
    "duration": 13,
    "start_time": "2022-06-08T22:39:54.129Z"
   },
   {
    "duration": 23,
    "start_time": "2022-06-08T22:39:54.143Z"
   },
   {
    "duration": 17,
    "start_time": "2022-06-08T22:39:54.168Z"
   },
   {
    "duration": 51,
    "start_time": "2022-06-08T22:39:54.187Z"
   },
   {
    "duration": 194,
    "start_time": "2022-06-08T22:39:54.247Z"
   },
   {
    "duration": 148,
    "start_time": "2022-06-08T22:39:54.443Z"
   },
   {
    "duration": 370,
    "start_time": "2022-06-08T22:39:54.593Z"
   },
   {
    "duration": 239,
    "start_time": "2022-06-08T22:39:54.969Z"
   },
   {
    "duration": 233,
    "start_time": "2022-06-08T22:39:55.210Z"
   },
   {
    "duration": 347,
    "start_time": "2022-06-08T22:39:55.445Z"
   },
   {
    "duration": 682,
    "start_time": "2022-06-08T22:39:55.794Z"
   },
   {
    "duration": 152,
    "start_time": "2022-06-08T22:39:56.484Z"
   },
   {
    "duration": 11,
    "start_time": "2022-06-08T22:39:56.644Z"
   },
   {
    "duration": 48,
    "start_time": "2022-06-08T22:39:56.666Z"
   },
   {
    "duration": 276,
    "start_time": "2022-06-08T22:39:56.716Z"
   },
   {
    "duration": 1440,
    "start_time": "2022-06-08T22:39:56.993Z"
   },
   {
    "duration": 39,
    "start_time": "2022-06-08T22:39:58.434Z"
   },
   {
    "duration": 10,
    "start_time": "2022-06-08T22:39:58.476Z"
   },
   {
    "duration": 19,
    "start_time": "2022-06-08T22:39:58.488Z"
   },
   {
    "duration": 19,
    "start_time": "2022-06-08T22:39:58.513Z"
   },
   {
    "duration": 30,
    "start_time": "2022-06-08T22:39:58.534Z"
   },
   {
    "duration": 22,
    "start_time": "2022-06-08T22:39:58.567Z"
   },
   {
    "duration": 3309,
    "start_time": "2022-06-08T22:39:58.592Z"
   },
   {
    "duration": 25,
    "start_time": "2022-06-08T22:40:01.902Z"
   },
   {
    "duration": 247,
    "start_time": "2022-06-08T22:40:12.918Z"
   },
   {
    "duration": 19,
    "start_time": "2022-06-08T22:41:05.699Z"
   },
   {
    "duration": 101,
    "start_time": "2022-06-08T22:52:53.470Z"
   },
   {
    "duration": 42,
    "start_time": "2022-06-08T22:53:21.805Z"
   },
   {
    "duration": 128,
    "start_time": "2022-06-08T22:53:36.726Z"
   },
   {
    "duration": 9,
    "start_time": "2022-06-08T22:56:55.215Z"
   },
   {
    "duration": 133,
    "start_time": "2022-06-08T22:57:06.479Z"
   },
   {
    "duration": 136,
    "start_time": "2022-06-08T22:58:00.675Z"
   },
   {
    "duration": 5,
    "start_time": "2022-06-08T22:59:51.504Z"
   },
   {
    "duration": 6,
    "start_time": "2022-06-08T23:00:07.507Z"
   },
   {
    "duration": 96,
    "start_time": "2022-06-08T23:00:19.816Z"
   },
   {
    "duration": 16,
    "start_time": "2022-06-08T23:02:34.295Z"
   },
   {
    "duration": 8,
    "start_time": "2022-06-08T23:02:43.988Z"
   },
   {
    "duration": 8,
    "start_time": "2022-06-08T23:02:53.047Z"
   },
   {
    "duration": 14,
    "start_time": "2022-06-08T23:11:18.453Z"
   },
   {
    "duration": 5,
    "start_time": "2022-06-08T23:12:07.386Z"
   },
   {
    "duration": 4,
    "start_time": "2022-06-08T23:12:36.785Z"
   },
   {
    "duration": 42,
    "start_time": "2022-06-08T23:12:41.017Z"
   },
   {
    "duration": 15,
    "start_time": "2022-06-08T23:12:54.317Z"
   },
   {
    "duration": 19,
    "start_time": "2022-06-08T23:13:50.325Z"
   },
   {
    "duration": 17,
    "start_time": "2022-06-08T23:14:26.776Z"
   },
   {
    "duration": 102,
    "start_time": "2022-06-08T23:20:32.759Z"
   },
   {
    "duration": 102,
    "start_time": "2022-06-08T23:28:25.192Z"
   },
   {
    "duration": 13,
    "start_time": "2022-06-08T23:28:37.943Z"
   },
   {
    "duration": 14,
    "start_time": "2022-06-09T00:06:19.704Z"
   },
   {
    "duration": 17,
    "start_time": "2022-06-09T00:06:38.492Z"
   },
   {
    "duration": 22,
    "start_time": "2022-06-09T00:06:54.419Z"
   },
   {
    "duration": 19,
    "start_time": "2022-06-09T00:07:00.793Z"
   },
   {
    "duration": 21,
    "start_time": "2022-06-09T00:07:08.769Z"
   },
   {
    "duration": 15,
    "start_time": "2022-06-09T00:10:05.004Z"
   },
   {
    "duration": 29,
    "start_time": "2022-06-09T00:10:54.291Z"
   },
   {
    "duration": 13,
    "start_time": "2022-06-09T00:11:01.396Z"
   },
   {
    "duration": 14,
    "start_time": "2022-06-09T00:12:03.752Z"
   },
   {
    "duration": 17,
    "start_time": "2022-06-09T00:14:15.084Z"
   },
   {
    "duration": 18,
    "start_time": "2022-06-09T00:14:22.284Z"
   },
   {
    "duration": 103,
    "start_time": "2022-06-09T00:14:31.282Z"
   },
   {
    "duration": 159,
    "start_time": "2022-06-09T00:14:51.008Z"
   },
   {
    "duration": 109,
    "start_time": "2022-06-09T00:15:15.247Z"
   },
   {
    "duration": 14,
    "start_time": "2022-06-09T00:15:32.753Z"
   },
   {
    "duration": 13,
    "start_time": "2022-06-09T07:50:05.279Z"
   },
   {
    "duration": 1125,
    "start_time": "2022-06-09T07:50:05.294Z"
   },
   {
    "duration": 4,
    "start_time": "2022-06-09T07:50:06.420Z"
   },
   {
    "duration": 156,
    "start_time": "2022-06-09T07:50:06.426Z"
   },
   {
    "duration": 4,
    "start_time": "2022-06-09T07:50:06.585Z"
   },
   {
    "duration": 12,
    "start_time": "2022-06-09T07:50:06.590Z"
   },
   {
    "duration": 14,
    "start_time": "2022-06-09T07:50:06.605Z"
   },
   {
    "duration": 30,
    "start_time": "2022-06-09T07:50:06.621Z"
   },
   {
    "duration": 190,
    "start_time": "2022-06-09T07:50:06.653Z"
   },
   {
    "duration": 139,
    "start_time": "2022-06-09T07:50:06.844Z"
   },
   {
    "duration": 246,
    "start_time": "2022-06-09T07:50:06.985Z"
   },
   {
    "duration": 162,
    "start_time": "2022-06-09T07:50:07.232Z"
   },
   {
    "duration": 140,
    "start_time": "2022-06-09T07:50:07.395Z"
   },
   {
    "duration": 327,
    "start_time": "2022-06-09T07:50:07.537Z"
   },
   {
    "duration": 317,
    "start_time": "2022-06-09T07:50:07.865Z"
   },
   {
    "duration": 99,
    "start_time": "2022-06-09T07:50:08.184Z"
   },
   {
    "duration": 11,
    "start_time": "2022-06-09T07:50:08.285Z"
   },
   {
    "duration": 17,
    "start_time": "2022-06-09T07:50:08.298Z"
   },
   {
    "duration": 206,
    "start_time": "2022-06-09T07:50:08.316Z"
   },
   {
    "duration": 1210,
    "start_time": "2022-06-09T07:50:08.524Z"
   },
   {
    "duration": 15,
    "start_time": "2022-06-09T07:50:09.736Z"
   },
   {
    "duration": 11,
    "start_time": "2022-06-09T07:50:09.753Z"
   },
   {
    "duration": 8,
    "start_time": "2022-06-09T07:50:09.766Z"
   },
   {
    "duration": 22,
    "start_time": "2022-06-09T07:50:09.776Z"
   },
   {
    "duration": 12,
    "start_time": "2022-06-09T07:50:09.800Z"
   },
   {
    "duration": 12,
    "start_time": "2022-06-09T07:50:09.814Z"
   },
   {
    "duration": 2107,
    "start_time": "2022-06-09T07:50:09.829Z"
   },
   {
    "duration": 9,
    "start_time": "2022-06-09T07:50:11.937Z"
   },
   {
    "duration": 18,
    "start_time": "2022-06-09T07:52:17.215Z"
   },
   {
    "duration": 25,
    "start_time": "2022-06-09T07:52:23.458Z"
   },
   {
    "duration": 14,
    "start_time": "2022-06-09T09:25:41.743Z"
   },
   {
    "duration": 16,
    "start_time": "2022-06-09T09:26:10.278Z"
   },
   {
    "duration": 103,
    "start_time": "2022-06-09T09:29:38.364Z"
   },
   {
    "duration": 303,
    "start_time": "2022-06-09T09:48:56.075Z"
   },
   {
    "duration": 161,
    "start_time": "2022-06-09T09:49:12.784Z"
   },
   {
    "duration": 243,
    "start_time": "2022-06-09T09:50:44.808Z"
   },
   {
    "duration": 284,
    "start_time": "2022-06-09T09:51:01.109Z"
   },
   {
    "duration": 1400,
    "start_time": "2022-06-09T09:57:10.413Z"
   },
   {
    "duration": 183,
    "start_time": "2022-06-09T09:57:49.066Z"
   },
   {
    "duration": 184,
    "start_time": "2022-06-09T09:58:06.264Z"
   },
   {
    "duration": 174,
    "start_time": "2022-06-09T09:58:21.020Z"
   },
   {
    "duration": 160,
    "start_time": "2022-06-09T09:58:38.855Z"
   },
   {
    "duration": 254,
    "start_time": "2022-06-09T10:41:23.452Z"
   },
   {
    "duration": 180,
    "start_time": "2022-06-09T10:43:23.413Z"
   },
   {
    "duration": 25,
    "start_time": "2022-06-09T11:11:35.909Z"
   }
  ],
  "kernelspec": {
   "display_name": "Python 3 (ipykernel)",
   "language": "python",
   "name": "python3"
  },
  "language_info": {
   "codemirror_mode": {
    "name": "ipython",
    "version": 3
   },
   "file_extension": ".py",
   "mimetype": "text/x-python",
   "name": "python",
   "nbconvert_exporter": "python",
   "pygments_lexer": "ipython3",
   "version": "3.9.12"
  },
  "toc": {
   "base_numbering": 1,
   "nav_menu": {},
   "number_sections": true,
   "sideBar": true,
   "skip_h1_title": true,
   "title_cell": "Table of Contents",
   "title_sidebar": "Contents",
   "toc_cell": false,
   "toc_position": {
    "height": "calc(100% - 180px)",
    "left": "10px",
    "top": "150px",
    "width": "165px"
   },
   "toc_section_display": true,
   "toc_window_display": true
  }
 },
 "nbformat": 4,
 "nbformat_minor": 2
}
