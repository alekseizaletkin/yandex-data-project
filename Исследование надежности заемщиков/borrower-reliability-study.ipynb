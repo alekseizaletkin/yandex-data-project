{
 "cells": [
  {
   "cell_type": "markdown",
   "id": "46dc7455",
   "metadata": {},
   "source": [
    "# Исследование надежности заемщиков"
   ]
  },
  {
   "cell_type": "markdown",
   "id": "63c82a26",
   "metadata": {},
   "source": [
    "***Цель исследования*** - проверить как влияет наличие детей, семейное положение, доход и цель получения кредита заемщика на факт погашения кредита в срок\n"
   ]
  },
  {
   "cell_type": "markdown",
   "id": "ad2a20de",
   "metadata": {},
   "source": [
    "***Описание исследования***\n",
    "\n",
    "Входные данные от банка — статистика о платёжеспособности клиентов.\n",
    "\n",
    "Результаты исследования будут учтены при построении модели *кредитного скоринга* — специальной системы, которая оценивает способность потенциального заёмщика вернуть кредит банку."
   ]
  },
  {
   "cell_type": "markdown",
   "id": "af565cbe",
   "metadata": {},
   "source": [
    "***Ход исследования***\n",
    "\n",
    "Мы проверим данные на ошибки. Затем, на этапе предобработки поищем возможность исправить самые критичные ошибки данных.\n",
    "\n",
    "Таким образом, исследование пройдёт в три этапа:\n",
    "\n",
    "Обзор данных.\n",
    "Предобработка данных.\n",
    "Проверка гипотез.\n",
    "\n",
    "В ходе проверки гипотез ответим на вопросы:\n",
    "- Есть ли зависимость между количеством детей и возвратом кредита в срок?\n",
    "- Есть ли зависимость между семейным положением и возвратом кредита в срок?\n",
    "- Есть ли зависимость между уровнем дохода и возвратом кредита в срок?\n",
    "- Как разные цели кредита влияют на его возврат в срок?"
   ]
  },
  {
   "cell_type": "markdown",
   "id": "cfb838fc",
   "metadata": {},
   "source": [
    "### Шаг 1. Обзор данных"
   ]
  },
  {
   "cell_type": "markdown",
   "id": "bcf3d080",
   "metadata": {},
   "source": [
    "Импортируем данную библиотеку pandas для работы с таблицей:"
   ]
  },
  {
   "cell_type": "code",
   "execution_count": 1,
   "id": "55fe6071",
   "metadata": {},
   "outputs": [],
   "source": [
    "# импорт библиотеки pandas\n",
    "import pandas as pd"
   ]
  },
  {
   "cell_type": "markdown",
   "id": "82c01974",
   "metadata": {},
   "source": [
    "Прочитаем файл data.csv из папки /datasets и сохраним его в переменной data"
   ]
  },
  {
   "cell_type": "code",
   "execution_count": 2,
   "id": "69ae3ee2",
   "metadata": {},
   "outputs": [],
   "source": [
    "# чтение файла с данными и сохранение в переменной data\n",
    "data = pd.read_csv('/datasets/data.csv')"
   ]
  },
  {
   "cell_type": "markdown",
   "id": "c70631b7",
   "metadata": {},
   "source": [
    "Ознакомимся с данными. Выведем на экран первые 10 строк таблицы:"
   ]
  },
  {
   "cell_type": "code",
   "execution_count": 3,
   "id": "7afd1850",
   "metadata": {},
   "outputs": [
    {
     "data": {
      "text/html": [
       "<div>\n",
       "<style scoped>\n",
       "    .dataframe tbody tr th:only-of-type {\n",
       "        vertical-align: middle;\n",
       "    }\n",
       "\n",
       "    .dataframe tbody tr th {\n",
       "        vertical-align: top;\n",
       "    }\n",
       "\n",
       "    .dataframe thead th {\n",
       "        text-align: right;\n",
       "    }\n",
       "</style>\n",
       "<table border=\"1\" class=\"dataframe\">\n",
       "  <thead>\n",
       "    <tr style=\"text-align: right;\">\n",
       "      <th></th>\n",
       "      <th>children</th>\n",
       "      <th>days_employed</th>\n",
       "      <th>dob_years</th>\n",
       "      <th>education</th>\n",
       "      <th>education_id</th>\n",
       "      <th>family_status</th>\n",
       "      <th>family_status_id</th>\n",
       "      <th>gender</th>\n",
       "      <th>income_type</th>\n",
       "      <th>debt</th>\n",
       "      <th>total_income</th>\n",
       "      <th>purpose</th>\n",
       "    </tr>\n",
       "  </thead>\n",
       "  <tbody>\n",
       "    <tr>\n",
       "      <td>0</td>\n",
       "      <td>1</td>\n",
       "      <td>-8437.673028</td>\n",
       "      <td>42</td>\n",
       "      <td>высшее</td>\n",
       "      <td>0</td>\n",
       "      <td>женат / замужем</td>\n",
       "      <td>0</td>\n",
       "      <td>F</td>\n",
       "      <td>сотрудник</td>\n",
       "      <td>0</td>\n",
       "      <td>253875.639453</td>\n",
       "      <td>покупка жилья</td>\n",
       "    </tr>\n",
       "    <tr>\n",
       "      <td>1</td>\n",
       "      <td>1</td>\n",
       "      <td>-4024.803754</td>\n",
       "      <td>36</td>\n",
       "      <td>среднее</td>\n",
       "      <td>1</td>\n",
       "      <td>женат / замужем</td>\n",
       "      <td>0</td>\n",
       "      <td>F</td>\n",
       "      <td>сотрудник</td>\n",
       "      <td>0</td>\n",
       "      <td>112080.014102</td>\n",
       "      <td>приобретение автомобиля</td>\n",
       "    </tr>\n",
       "    <tr>\n",
       "      <td>2</td>\n",
       "      <td>0</td>\n",
       "      <td>-5623.422610</td>\n",
       "      <td>33</td>\n",
       "      <td>Среднее</td>\n",
       "      <td>1</td>\n",
       "      <td>женат / замужем</td>\n",
       "      <td>0</td>\n",
       "      <td>M</td>\n",
       "      <td>сотрудник</td>\n",
       "      <td>0</td>\n",
       "      <td>145885.952297</td>\n",
       "      <td>покупка жилья</td>\n",
       "    </tr>\n",
       "    <tr>\n",
       "      <td>3</td>\n",
       "      <td>3</td>\n",
       "      <td>-4124.747207</td>\n",
       "      <td>32</td>\n",
       "      <td>среднее</td>\n",
       "      <td>1</td>\n",
       "      <td>женат / замужем</td>\n",
       "      <td>0</td>\n",
       "      <td>M</td>\n",
       "      <td>сотрудник</td>\n",
       "      <td>0</td>\n",
       "      <td>267628.550329</td>\n",
       "      <td>дополнительное образование</td>\n",
       "    </tr>\n",
       "    <tr>\n",
       "      <td>4</td>\n",
       "      <td>0</td>\n",
       "      <td>340266.072047</td>\n",
       "      <td>53</td>\n",
       "      <td>среднее</td>\n",
       "      <td>1</td>\n",
       "      <td>гражданский брак</td>\n",
       "      <td>1</td>\n",
       "      <td>F</td>\n",
       "      <td>пенсионер</td>\n",
       "      <td>0</td>\n",
       "      <td>158616.077870</td>\n",
       "      <td>сыграть свадьбу</td>\n",
       "    </tr>\n",
       "    <tr>\n",
       "      <td>5</td>\n",
       "      <td>0</td>\n",
       "      <td>-926.185831</td>\n",
       "      <td>27</td>\n",
       "      <td>высшее</td>\n",
       "      <td>0</td>\n",
       "      <td>гражданский брак</td>\n",
       "      <td>1</td>\n",
       "      <td>M</td>\n",
       "      <td>компаньон</td>\n",
       "      <td>0</td>\n",
       "      <td>255763.565419</td>\n",
       "      <td>покупка жилья</td>\n",
       "    </tr>\n",
       "    <tr>\n",
       "      <td>6</td>\n",
       "      <td>0</td>\n",
       "      <td>-2879.202052</td>\n",
       "      <td>43</td>\n",
       "      <td>высшее</td>\n",
       "      <td>0</td>\n",
       "      <td>женат / замужем</td>\n",
       "      <td>0</td>\n",
       "      <td>F</td>\n",
       "      <td>компаньон</td>\n",
       "      <td>0</td>\n",
       "      <td>240525.971920</td>\n",
       "      <td>операции с жильем</td>\n",
       "    </tr>\n",
       "    <tr>\n",
       "      <td>7</td>\n",
       "      <td>0</td>\n",
       "      <td>-152.779569</td>\n",
       "      <td>50</td>\n",
       "      <td>СРЕДНЕЕ</td>\n",
       "      <td>1</td>\n",
       "      <td>женат / замужем</td>\n",
       "      <td>0</td>\n",
       "      <td>M</td>\n",
       "      <td>сотрудник</td>\n",
       "      <td>0</td>\n",
       "      <td>135823.934197</td>\n",
       "      <td>образование</td>\n",
       "    </tr>\n",
       "    <tr>\n",
       "      <td>8</td>\n",
       "      <td>2</td>\n",
       "      <td>-6929.865299</td>\n",
       "      <td>35</td>\n",
       "      <td>ВЫСШЕЕ</td>\n",
       "      <td>0</td>\n",
       "      <td>гражданский брак</td>\n",
       "      <td>1</td>\n",
       "      <td>F</td>\n",
       "      <td>сотрудник</td>\n",
       "      <td>0</td>\n",
       "      <td>95856.832424</td>\n",
       "      <td>на проведение свадьбы</td>\n",
       "    </tr>\n",
       "    <tr>\n",
       "      <td>9</td>\n",
       "      <td>0</td>\n",
       "      <td>-2188.756445</td>\n",
       "      <td>41</td>\n",
       "      <td>среднее</td>\n",
       "      <td>1</td>\n",
       "      <td>женат / замужем</td>\n",
       "      <td>0</td>\n",
       "      <td>M</td>\n",
       "      <td>сотрудник</td>\n",
       "      <td>0</td>\n",
       "      <td>144425.938277</td>\n",
       "      <td>покупка жилья для семьи</td>\n",
       "    </tr>\n",
       "  </tbody>\n",
       "</table>\n",
       "</div>"
      ],
      "text/plain": [
       "   children  days_employed  dob_years education  education_id  \\\n",
       "0         1   -8437.673028         42    высшее             0   \n",
       "1         1   -4024.803754         36   среднее             1   \n",
       "2         0   -5623.422610         33   Среднее             1   \n",
       "3         3   -4124.747207         32   среднее             1   \n",
       "4         0  340266.072047         53   среднее             1   \n",
       "5         0    -926.185831         27    высшее             0   \n",
       "6         0   -2879.202052         43    высшее             0   \n",
       "7         0    -152.779569         50   СРЕДНЕЕ             1   \n",
       "8         2   -6929.865299         35    ВЫСШЕЕ             0   \n",
       "9         0   -2188.756445         41   среднее             1   \n",
       "\n",
       "      family_status  family_status_id gender income_type  debt   total_income  \\\n",
       "0   женат / замужем                 0      F   сотрудник     0  253875.639453   \n",
       "1   женат / замужем                 0      F   сотрудник     0  112080.014102   \n",
       "2   женат / замужем                 0      M   сотрудник     0  145885.952297   \n",
       "3   женат / замужем                 0      M   сотрудник     0  267628.550329   \n",
       "4  гражданский брак                 1      F   пенсионер     0  158616.077870   \n",
       "5  гражданский брак                 1      M   компаньон     0  255763.565419   \n",
       "6   женат / замужем                 0      F   компаньон     0  240525.971920   \n",
       "7   женат / замужем                 0      M   сотрудник     0  135823.934197   \n",
       "8  гражданский брак                 1      F   сотрудник     0   95856.832424   \n",
       "9   женат / замужем                 0      M   сотрудник     0  144425.938277   \n",
       "\n",
       "                      purpose  \n",
       "0               покупка жилья  \n",
       "1     приобретение автомобиля  \n",
       "2               покупка жилья  \n",
       "3  дополнительное образование  \n",
       "4             сыграть свадьбу  \n",
       "5               покупка жилья  \n",
       "6           операции с жильем  \n",
       "7                 образование  \n",
       "8       на проведение свадьбы  \n",
       "9     покупка жилья для семьи  "
      ]
     },
     "execution_count": 3,
     "metadata": {},
     "output_type": "execute_result"
    }
   ],
   "source": [
    "# получение первых 10 строк таблицы data\n",
    "data.head(10)"
   ]
  },
  {
   "cell_type": "markdown",
   "id": "95439e11",
   "metadata": {},
   "source": [
    "Получим общую информацию о таблице:"
   ]
  },
  {
   "cell_type": "code",
   "execution_count": 4,
   "id": "727548b0",
   "metadata": {},
   "outputs": [
    {
     "name": "stdout",
     "output_type": "stream",
     "text": [
      "<class 'pandas.core.frame.DataFrame'>\n",
      "RangeIndex: 21525 entries, 0 to 21524\n",
      "Data columns (total 12 columns):\n",
      "children            21525 non-null int64\n",
      "days_employed       19351 non-null float64\n",
      "dob_years           21525 non-null int64\n",
      "education           21525 non-null object\n",
      "education_id        21525 non-null int64\n",
      "family_status       21525 non-null object\n",
      "family_status_id    21525 non-null int64\n",
      "gender              21525 non-null object\n",
      "income_type         21525 non-null object\n",
      "debt                21525 non-null int64\n",
      "total_income        19351 non-null float64\n",
      "purpose             21525 non-null object\n",
      "dtypes: float64(2), int64(5), object(5)\n",
      "memory usage: 2.0+ MB\n"
     ]
    }
   ],
   "source": [
    "# получение общей информации о данных в таблице data\n",
    "data.info()"
   ]
  },
  {
   "cell_type": "markdown",
   "id": "aa2b11da",
   "metadata": {},
   "source": [
    "В таблице 12 столбцов. Типы данных - object, int и float. \n",
    "\n",
    "Согласно документации к данным:\n",
    "- `children` — количество детей в семье\n",
    "- `days_employed` — общий трудовой стаж в днях\n",
    "- `dob_years` — возраст клиента в годах\n",
    "- `education` — уровень образования клиента\n",
    "- `education_id` — идентификатор уровня образования\n",
    "- `family_status` — семейное положение\n",
    "- `family_status_id` — идентификатор семейного положения\n",
    "- `gender` — пол клиента\n",
    "- `income_type` — тип занятости\n",
    "- `debt` — имел ли задолженность по возврату кредитов\n",
    "- `total_income` — ежемесячный доход\n",
    "- `purpose` — цель получения кредита\n",
    "\n",
    "В названиях колонок нарушений не вижу. \n",
    "\n",
    "Исходя из выведенных данных заметны:\n",
    "- аномалии в количестве дней трудового стажа (отрицательные данные)\n",
    "- разный регистр букв в столбце образования\n",
    "- цели получения кредита написаны по-разному хотя по сути одинаковые. Например, \"сыграть свадьбу\" и \"на проведение свадьбы\"\n",
    "\n",
    "Количество значений в столбцах days_employed (общий трудовой стаж) и total_income (ежемесячный доход) отличаются от остальных. Можно предположить, что данные кредиты выданы не работающим гражданам. Это необходимо проверить дополнительно поняв какой income_type у таких граждан. \n",
    "\n",
    "***Вывод***\n",
    "\n",
    "В таблице представлены данные о заемщиках банка - причины взятия кредита, их статус, наличие детей, данные об образовании, поле и т.д. А также есть информация по наличию задолженности по возврату кредита. \n",
    "Предварительно этих данных должно быть достаточно для ответа на вопросы выше - о связи семейного статуса и наличия детей с задолженностью. \n",
    "В данных есть аномалии, также их требуется привести к хорошему стилю для проверки гипотез. \n",
    "Возможно наличие дубликатов, есть пропуски. "
   ]
  },
  {
   "cell_type": "markdown",
   "id": "b096bcba",
   "metadata": {},
   "source": [
    "### Шаг 2.1 Заполнение пропусков"
   ]
  },
  {
   "cell_type": "markdown",
   "id": "31fa9979",
   "metadata": {},
   "source": [
    "Начинаем предобработку данных с пропущенных значений. \n",
    "\n",
    "Пропущенные значения находятся в столбцах days_employed и total_income. \n",
    "Есть несколько версий причин пропусков значений:\n",
    "- человеческий фактор (случайные пропуски значений при заполнении)\n",
    "- для заполнения этих данных требовалась справка с места работы, например, и ее не было на руках в момент подачи заявки и заполнения данных\n",
    "- данные граждане принадлежат к категориям не работающих граждан\n",
    "- данные граждане не трудоустроены официально, поэтому данных об их стаже и ежемесячном доходе нет в базе"
   ]
  },
  {
   "cell_type": "markdown",
   "id": "89beb6ed",
   "metadata": {},
   "source": [
    "Посчитаем общее количество пропущенных значений в столбцах days_employed и total_income:"
   ]
  },
  {
   "cell_type": "code",
   "execution_count": 5,
   "id": "20eb6261",
   "metadata": {},
   "outputs": [
    {
     "data": {
      "text/plain": [
       "2174"
      ]
     },
     "execution_count": 5,
     "metadata": {},
     "output_type": "execute_result"
    }
   ],
   "source": [
    "# подсчет пропущенных значений в столбце days_employed\n",
    "len(data[data['days_employed'].isna()])"
   ]
  },
  {
   "cell_type": "code",
   "execution_count": 6,
   "id": "b3f518aa",
   "metadata": {},
   "outputs": [
    {
     "data": {
      "text/plain": [
       "2174"
      ]
     },
     "execution_count": 6,
     "metadata": {},
     "output_type": "execute_result"
    }
   ],
   "source": [
    "# подсчет пропущенных значений в столбце total_income\n",
    "len(data[data['total_income'].isna()])"
   ]
  },
  {
   "cell_type": "markdown",
   "id": "bc0c8cb6",
   "metadata": {},
   "source": [
    "Количество пропущенных значений в столбцах одинаковое. Посчитаем долю пропущенных значений от общего числа значений в столбце.\n",
    "Поскольку ранее при вызове функции info() было видно, что общее количество значений во всех столбцах одинаковое сделаем это на примере одного из столбцов с пропусками."
   ]
  },
  {
   "cell_type": "code",
   "execution_count": 7,
   "id": "5354b0be",
   "metadata": {},
   "outputs": [
    {
     "name": "stdout",
     "output_type": "stream",
     "text": [
      "10%\n"
     ]
    }
   ],
   "source": [
    "# расчитываем долю пропущенных значений от общего количества значений в столбце, на примере столбца total_income\n",
    "share_total_income = len(data[data['total_income'].isna()])/len(data['total_income'])\n",
    "print(f'{share_total_income:.0%}')"
   ]
  },
  {
   "cell_type": "markdown",
   "id": "2383b94d",
   "metadata": {},
   "source": [
    "Количество пропусков в обоих столбцах равно 10% от общего количества значений."
   ]
  },
  {
   "cell_type": "markdown",
   "id": "20ef9340",
   "metadata": {},
   "source": [
    "Попробуем сгруппировать данные по столбцу income_type (тип занятости), чтобы проверить гипотезу о том, что кредиты были выданы неработающим гражданам, в связи с чем есть отсутствующие значения."
   ]
  },
  {
   "cell_type": "code",
   "execution_count": 8,
   "id": "30f2097f",
   "metadata": {},
   "outputs": [
    {
     "data": {
      "text/html": [
       "<div>\n",
       "<style scoped>\n",
       "    .dataframe tbody tr th:only-of-type {\n",
       "        vertical-align: middle;\n",
       "    }\n",
       "\n",
       "    .dataframe tbody tr th {\n",
       "        vertical-align: top;\n",
       "    }\n",
       "\n",
       "    .dataframe thead th {\n",
       "        text-align: right;\n",
       "    }\n",
       "</style>\n",
       "<table border=\"1\" class=\"dataframe\">\n",
       "  <thead>\n",
       "    <tr style=\"text-align: right;\">\n",
       "      <th></th>\n",
       "      <th>children</th>\n",
       "      <th>days_employed</th>\n",
       "      <th>dob_years</th>\n",
       "      <th>education</th>\n",
       "      <th>education_id</th>\n",
       "      <th>family_status</th>\n",
       "      <th>family_status_id</th>\n",
       "      <th>gender</th>\n",
       "      <th>debt</th>\n",
       "      <th>total_income</th>\n",
       "      <th>purpose</th>\n",
       "    </tr>\n",
       "    <tr>\n",
       "      <th>income_type</th>\n",
       "      <th></th>\n",
       "      <th></th>\n",
       "      <th></th>\n",
       "      <th></th>\n",
       "      <th></th>\n",
       "      <th></th>\n",
       "      <th></th>\n",
       "      <th></th>\n",
       "      <th></th>\n",
       "      <th></th>\n",
       "      <th></th>\n",
       "    </tr>\n",
       "  </thead>\n",
       "  <tbody>\n",
       "    <tr>\n",
       "      <td>безработный</td>\n",
       "      <td>2</td>\n",
       "      <td>2</td>\n",
       "      <td>2</td>\n",
       "      <td>2</td>\n",
       "      <td>2</td>\n",
       "      <td>2</td>\n",
       "      <td>2</td>\n",
       "      <td>2</td>\n",
       "      <td>2</td>\n",
       "      <td>2</td>\n",
       "      <td>2</td>\n",
       "    </tr>\n",
       "    <tr>\n",
       "      <td>в декрете</td>\n",
       "      <td>1</td>\n",
       "      <td>1</td>\n",
       "      <td>1</td>\n",
       "      <td>1</td>\n",
       "      <td>1</td>\n",
       "      <td>1</td>\n",
       "      <td>1</td>\n",
       "      <td>1</td>\n",
       "      <td>1</td>\n",
       "      <td>1</td>\n",
       "      <td>1</td>\n",
       "    </tr>\n",
       "    <tr>\n",
       "      <td>госслужащий</td>\n",
       "      <td>1459</td>\n",
       "      <td>1312</td>\n",
       "      <td>1459</td>\n",
       "      <td>1459</td>\n",
       "      <td>1459</td>\n",
       "      <td>1459</td>\n",
       "      <td>1459</td>\n",
       "      <td>1459</td>\n",
       "      <td>1459</td>\n",
       "      <td>1312</td>\n",
       "      <td>1459</td>\n",
       "    </tr>\n",
       "    <tr>\n",
       "      <td>компаньон</td>\n",
       "      <td>5085</td>\n",
       "      <td>4577</td>\n",
       "      <td>5085</td>\n",
       "      <td>5085</td>\n",
       "      <td>5085</td>\n",
       "      <td>5085</td>\n",
       "      <td>5085</td>\n",
       "      <td>5085</td>\n",
       "      <td>5085</td>\n",
       "      <td>4577</td>\n",
       "      <td>5085</td>\n",
       "    </tr>\n",
       "    <tr>\n",
       "      <td>пенсионер</td>\n",
       "      <td>3856</td>\n",
       "      <td>3443</td>\n",
       "      <td>3856</td>\n",
       "      <td>3856</td>\n",
       "      <td>3856</td>\n",
       "      <td>3856</td>\n",
       "      <td>3856</td>\n",
       "      <td>3856</td>\n",
       "      <td>3856</td>\n",
       "      <td>3443</td>\n",
       "      <td>3856</td>\n",
       "    </tr>\n",
       "    <tr>\n",
       "      <td>предприниматель</td>\n",
       "      <td>2</td>\n",
       "      <td>1</td>\n",
       "      <td>2</td>\n",
       "      <td>2</td>\n",
       "      <td>2</td>\n",
       "      <td>2</td>\n",
       "      <td>2</td>\n",
       "      <td>2</td>\n",
       "      <td>2</td>\n",
       "      <td>1</td>\n",
       "      <td>2</td>\n",
       "    </tr>\n",
       "    <tr>\n",
       "      <td>сотрудник</td>\n",
       "      <td>11119</td>\n",
       "      <td>10014</td>\n",
       "      <td>11119</td>\n",
       "      <td>11119</td>\n",
       "      <td>11119</td>\n",
       "      <td>11119</td>\n",
       "      <td>11119</td>\n",
       "      <td>11119</td>\n",
       "      <td>11119</td>\n",
       "      <td>10014</td>\n",
       "      <td>11119</td>\n",
       "    </tr>\n",
       "    <tr>\n",
       "      <td>студент</td>\n",
       "      <td>1</td>\n",
       "      <td>1</td>\n",
       "      <td>1</td>\n",
       "      <td>1</td>\n",
       "      <td>1</td>\n",
       "      <td>1</td>\n",
       "      <td>1</td>\n",
       "      <td>1</td>\n",
       "      <td>1</td>\n",
       "      <td>1</td>\n",
       "      <td>1</td>\n",
       "    </tr>\n",
       "  </tbody>\n",
       "</table>\n",
       "</div>"
      ],
      "text/plain": [
       "                 children  days_employed  dob_years  education  education_id  \\\n",
       "income_type                                                                    \n",
       "безработный             2              2          2          2             2   \n",
       "в декрете               1              1          1          1             1   \n",
       "госслужащий          1459           1312       1459       1459          1459   \n",
       "компаньон            5085           4577       5085       5085          5085   \n",
       "пенсионер            3856           3443       3856       3856          3856   \n",
       "предприниматель         2              1          2          2             2   \n",
       "сотрудник           11119          10014      11119      11119         11119   \n",
       "студент                 1              1          1          1             1   \n",
       "\n",
       "                 family_status  family_status_id  gender   debt  total_income  \\\n",
       "income_type                                                                     \n",
       "безработный                  2                 2       2      2             2   \n",
       "в декрете                    1                 1       1      1             1   \n",
       "госслужащий               1459              1459    1459   1459          1312   \n",
       "компаньон                 5085              5085    5085   5085          4577   \n",
       "пенсионер                 3856              3856    3856   3856          3443   \n",
       "предприниматель              2                 2       2      2             1   \n",
       "сотрудник                11119             11119   11119  11119         10014   \n",
       "студент                      1                 1       1      1             1   \n",
       "\n",
       "                 purpose  \n",
       "income_type               \n",
       "безработный            2  \n",
       "в декрете              1  \n",
       "госслужащий         1459  \n",
       "компаньон           5085  \n",
       "пенсионер           3856  \n",
       "предприниматель        2  \n",
       "сотрудник          11119  \n",
       "студент                1  "
      ]
     },
     "metadata": {},
     "output_type": "display_data"
    }
   ],
   "source": [
    "# группируем данные по столбцу income_type\n",
    "income_type_group = data.groupby('income_type')\n",
    "display(income_type_group.count())"
   ]
  },
  {
   "cell_type": "markdown",
   "id": "32aa72d6",
   "metadata": {},
   "source": [
    "Гипотеза не подтвердилась - большинство данных пропущены у таких групп как госслужащий, компаньон, сотрудник. \n",
    "В тоже время у безработных граждан, граждан в декрете, студентов данные присутствуют. \n",
    "\n",
    "Соответственно большая вероятность, что пропуски значений связаны с человеческим факторов или отсутствием официальной занятости у указанных заемщиков. Для продолжения исследования необходимо устранить пропуски. \n",
    "\n",
    "Для устранения пропусков можно использовать средние и медианные значения. \n",
    "В случае количественных данных медианные значения предпочтительнее, так как среднее значение может быть не показательным из-за сильно разброса данных. "
   ]
  },
  {
   "cell_type": "markdown",
   "id": "711058a9",
   "metadata": {},
   "source": [
    "Заменим пропущенные значения в столбцах медианным значением и проверим результат замены:"
   ]
  },
  {
   "cell_type": "code",
   "execution_count": 9,
   "id": "d5a2d190",
   "metadata": {},
   "outputs": [
    {
     "name": "stdout",
     "output_type": "stream",
     "text": [
      "<class 'pandas.core.frame.DataFrame'>\n",
      "RangeIndex: 21525 entries, 0 to 21524\n",
      "Data columns (total 12 columns):\n",
      "children            21525 non-null int64\n",
      "days_employed       21525 non-null float64\n",
      "dob_years           21525 non-null int64\n",
      "education           21525 non-null object\n",
      "education_id        21525 non-null int64\n",
      "family_status       21525 non-null object\n",
      "family_status_id    21525 non-null int64\n",
      "gender              21525 non-null object\n",
      "income_type         21525 non-null object\n",
      "debt                21525 non-null int64\n",
      "total_income        19351 non-null float64\n",
      "purpose             21525 non-null object\n",
      "dtypes: float64(2), int64(5), object(5)\n",
      "memory usage: 2.0+ MB\n"
     ]
    }
   ],
   "source": [
    "# ищем медианное значение столбца days_employed\n",
    "days_employed_madian = data['days_employed'].median()\n",
    "# заменяем пропущенные значения в столбце медианным\n",
    "data['days_employed'] = data['days_employed'].fillna(days_employed_madian)\n",
    "# проверяем результат замены\n",
    "data.info()"
   ]
  },
  {
   "cell_type": "code",
   "execution_count": 10,
   "id": "f7d76c03",
   "metadata": {},
   "outputs": [
    {
     "name": "stdout",
     "output_type": "stream",
     "text": [
      "<class 'pandas.core.frame.DataFrame'>\n",
      "RangeIndex: 21525 entries, 0 to 21524\n",
      "Data columns (total 12 columns):\n",
      "children            21525 non-null int64\n",
      "days_employed       21525 non-null float64\n",
      "dob_years           21525 non-null int64\n",
      "education           21525 non-null object\n",
      "education_id        21525 non-null int64\n",
      "family_status       21525 non-null object\n",
      "family_status_id    21525 non-null int64\n",
      "gender              21525 non-null object\n",
      "income_type         21525 non-null object\n",
      "debt                21525 non-null int64\n",
      "total_income        21525 non-null float64\n",
      "purpose             21525 non-null object\n",
      "dtypes: float64(2), int64(5), object(5)\n",
      "memory usage: 2.0+ MB\n"
     ]
    }
   ],
   "source": [
    "# ищем медианное значение столбца total_income\n",
    "total_income_madian = data['total_income'].median()\n",
    "# заменяем пропущенные значения в столбце медианным\n",
    "data['total_income'] = data['total_income'].fillna(total_income_madian)\n",
    "# проверяем результат замены\n",
    "data.info()"
   ]
  },
  {
   "cell_type": "markdown",
   "id": "72f52cfb",
   "metadata": {},
   "source": [
    "***Вывод***\n",
    "\n",
    "В столбцах days_employed и total_income были пропущены примерно 10% от всех значений. \n",
    "Мы предположили, что указанные значения были пропущены, так как эти заемщики относились к категориям неработающих граждан. Данная гипотеза не подтвердилась. \n",
    "\n",
    "Скорее всего значения пропущены случайно или у данных граждан нет официального места работы, возможно они не предоставили подтверждающих документов. \n",
    "\n",
    "Поскольку у нас нет возможности уточнить эти данные мы можем заменить пропущенные значения либо средними, либо медианными. \n",
    "Медианные значения подходят для количественных данных лучше, так как дают более точную картину данных в условиях большого их разброса. \n",
    "\n",
    "Мы произвели замену пустых значений, и готовы к дальнейшей обработке. "
   ]
  },
  {
   "cell_type": "markdown",
   "id": "49f9a168",
   "metadata": {},
   "source": [
    "### Шаг 2.2 Проверка данных на аномалии и исправления."
   ]
  },
  {
   "cell_type": "markdown",
   "id": "a4a54780",
   "metadata": {},
   "source": [
    "В данных могут присутствовать аномалии, которые необходимо поправить для корректной проверки гипотез. В данной таблице аномальные данные представлены, например, в столбце days_employed в виде отрицательных значений дней стажа. \n",
    "\n",
    "В целом отрицательные значений скорее ошибка в виде человеческого фактора. Действительно, при расчете количества дней трудового стажа могут появляться отрицательные значения при вычитании дат поступления на работу и увольнения. Вероятно, при переводе в дни не были убраны данные отрицательные значения. \n",
    "\n",
    "Приведем все значения к положительным:"
   ]
  },
  {
   "cell_type": "code",
   "execution_count": 11,
   "id": "57877915",
   "metadata": {},
   "outputs": [],
   "source": [
    "# приводим все значения столбца days_employed к абсолютным и \n",
    "data['days_employed'] = data['days_employed'].abs()"
   ]
  },
  {
   "cell_type": "markdown",
   "id": "ca07ce29",
   "metadata": {},
   "source": [
    "Проверим наличие отрицательных значений в столбце data_employed после обработки данных:"
   ]
  },
  {
   "cell_type": "code",
   "execution_count": 12,
   "id": "fb3c2692",
   "metadata": {},
   "outputs": [
    {
     "data": {
      "text/html": [
       "<div>\n",
       "<style scoped>\n",
       "    .dataframe tbody tr th:only-of-type {\n",
       "        vertical-align: middle;\n",
       "    }\n",
       "\n",
       "    .dataframe tbody tr th {\n",
       "        vertical-align: top;\n",
       "    }\n",
       "\n",
       "    .dataframe thead th {\n",
       "        text-align: right;\n",
       "    }\n",
       "</style>\n",
       "<table border=\"1\" class=\"dataframe\">\n",
       "  <thead>\n",
       "    <tr style=\"text-align: right;\">\n",
       "      <th></th>\n",
       "      <th>children</th>\n",
       "      <th>days_employed</th>\n",
       "      <th>dob_years</th>\n",
       "      <th>education</th>\n",
       "      <th>education_id</th>\n",
       "      <th>family_status</th>\n",
       "      <th>family_status_id</th>\n",
       "      <th>gender</th>\n",
       "      <th>income_type</th>\n",
       "      <th>debt</th>\n",
       "      <th>total_income</th>\n",
       "      <th>purpose</th>\n",
       "    </tr>\n",
       "  </thead>\n",
       "  <tbody>\n",
       "    <tr>\n",
       "      <td>0</td>\n",
       "      <td>1</td>\n",
       "      <td>8437.673028</td>\n",
       "      <td>42</td>\n",
       "      <td>высшее</td>\n",
       "      <td>0</td>\n",
       "      <td>женат / замужем</td>\n",
       "      <td>0</td>\n",
       "      <td>F</td>\n",
       "      <td>сотрудник</td>\n",
       "      <td>0</td>\n",
       "      <td>253875.639453</td>\n",
       "      <td>покупка жилья</td>\n",
       "    </tr>\n",
       "    <tr>\n",
       "      <td>1</td>\n",
       "      <td>1</td>\n",
       "      <td>4024.803754</td>\n",
       "      <td>36</td>\n",
       "      <td>среднее</td>\n",
       "      <td>1</td>\n",
       "      <td>женат / замужем</td>\n",
       "      <td>0</td>\n",
       "      <td>F</td>\n",
       "      <td>сотрудник</td>\n",
       "      <td>0</td>\n",
       "      <td>112080.014102</td>\n",
       "      <td>приобретение автомобиля</td>\n",
       "    </tr>\n",
       "    <tr>\n",
       "      <td>2</td>\n",
       "      <td>0</td>\n",
       "      <td>5623.422610</td>\n",
       "      <td>33</td>\n",
       "      <td>Среднее</td>\n",
       "      <td>1</td>\n",
       "      <td>женат / замужем</td>\n",
       "      <td>0</td>\n",
       "      <td>M</td>\n",
       "      <td>сотрудник</td>\n",
       "      <td>0</td>\n",
       "      <td>145885.952297</td>\n",
       "      <td>покупка жилья</td>\n",
       "    </tr>\n",
       "    <tr>\n",
       "      <td>3</td>\n",
       "      <td>3</td>\n",
       "      <td>4124.747207</td>\n",
       "      <td>32</td>\n",
       "      <td>среднее</td>\n",
       "      <td>1</td>\n",
       "      <td>женат / замужем</td>\n",
       "      <td>0</td>\n",
       "      <td>M</td>\n",
       "      <td>сотрудник</td>\n",
       "      <td>0</td>\n",
       "      <td>267628.550329</td>\n",
       "      <td>дополнительное образование</td>\n",
       "    </tr>\n",
       "    <tr>\n",
       "      <td>4</td>\n",
       "      <td>0</td>\n",
       "      <td>340266.072047</td>\n",
       "      <td>53</td>\n",
       "      <td>среднее</td>\n",
       "      <td>1</td>\n",
       "      <td>гражданский брак</td>\n",
       "      <td>1</td>\n",
       "      <td>F</td>\n",
       "      <td>пенсионер</td>\n",
       "      <td>0</td>\n",
       "      <td>158616.077870</td>\n",
       "      <td>сыграть свадьбу</td>\n",
       "    </tr>\n",
       "    <tr>\n",
       "      <td>5</td>\n",
       "      <td>0</td>\n",
       "      <td>926.185831</td>\n",
       "      <td>27</td>\n",
       "      <td>высшее</td>\n",
       "      <td>0</td>\n",
       "      <td>гражданский брак</td>\n",
       "      <td>1</td>\n",
       "      <td>M</td>\n",
       "      <td>компаньон</td>\n",
       "      <td>0</td>\n",
       "      <td>255763.565419</td>\n",
       "      <td>покупка жилья</td>\n",
       "    </tr>\n",
       "    <tr>\n",
       "      <td>6</td>\n",
       "      <td>0</td>\n",
       "      <td>2879.202052</td>\n",
       "      <td>43</td>\n",
       "      <td>высшее</td>\n",
       "      <td>0</td>\n",
       "      <td>женат / замужем</td>\n",
       "      <td>0</td>\n",
       "      <td>F</td>\n",
       "      <td>компаньон</td>\n",
       "      <td>0</td>\n",
       "      <td>240525.971920</td>\n",
       "      <td>операции с жильем</td>\n",
       "    </tr>\n",
       "    <tr>\n",
       "      <td>7</td>\n",
       "      <td>0</td>\n",
       "      <td>152.779569</td>\n",
       "      <td>50</td>\n",
       "      <td>СРЕДНЕЕ</td>\n",
       "      <td>1</td>\n",
       "      <td>женат / замужем</td>\n",
       "      <td>0</td>\n",
       "      <td>M</td>\n",
       "      <td>сотрудник</td>\n",
       "      <td>0</td>\n",
       "      <td>135823.934197</td>\n",
       "      <td>образование</td>\n",
       "    </tr>\n",
       "    <tr>\n",
       "      <td>8</td>\n",
       "      <td>2</td>\n",
       "      <td>6929.865299</td>\n",
       "      <td>35</td>\n",
       "      <td>ВЫСШЕЕ</td>\n",
       "      <td>0</td>\n",
       "      <td>гражданский брак</td>\n",
       "      <td>1</td>\n",
       "      <td>F</td>\n",
       "      <td>сотрудник</td>\n",
       "      <td>0</td>\n",
       "      <td>95856.832424</td>\n",
       "      <td>на проведение свадьбы</td>\n",
       "    </tr>\n",
       "    <tr>\n",
       "      <td>9</td>\n",
       "      <td>0</td>\n",
       "      <td>2188.756445</td>\n",
       "      <td>41</td>\n",
       "      <td>среднее</td>\n",
       "      <td>1</td>\n",
       "      <td>женат / замужем</td>\n",
       "      <td>0</td>\n",
       "      <td>M</td>\n",
       "      <td>сотрудник</td>\n",
       "      <td>0</td>\n",
       "      <td>144425.938277</td>\n",
       "      <td>покупка жилья для семьи</td>\n",
       "    </tr>\n",
       "  </tbody>\n",
       "</table>\n",
       "</div>"
      ],
      "text/plain": [
       "   children  days_employed  dob_years education  education_id  \\\n",
       "0         1    8437.673028         42    высшее             0   \n",
       "1         1    4024.803754         36   среднее             1   \n",
       "2         0    5623.422610         33   Среднее             1   \n",
       "3         3    4124.747207         32   среднее             1   \n",
       "4         0  340266.072047         53   среднее             1   \n",
       "5         0     926.185831         27    высшее             0   \n",
       "6         0    2879.202052         43    высшее             0   \n",
       "7         0     152.779569         50   СРЕДНЕЕ             1   \n",
       "8         2    6929.865299         35    ВЫСШЕЕ             0   \n",
       "9         0    2188.756445         41   среднее             1   \n",
       "\n",
       "      family_status  family_status_id gender income_type  debt   total_income  \\\n",
       "0   женат / замужем                 0      F   сотрудник     0  253875.639453   \n",
       "1   женат / замужем                 0      F   сотрудник     0  112080.014102   \n",
       "2   женат / замужем                 0      M   сотрудник     0  145885.952297   \n",
       "3   женат / замужем                 0      M   сотрудник     0  267628.550329   \n",
       "4  гражданский брак                 1      F   пенсионер     0  158616.077870   \n",
       "5  гражданский брак                 1      M   компаньон     0  255763.565419   \n",
       "6   женат / замужем                 0      F   компаньон     0  240525.971920   \n",
       "7   женат / замужем                 0      M   сотрудник     0  135823.934197   \n",
       "8  гражданский брак                 1      F   сотрудник     0   95856.832424   \n",
       "9   женат / замужем                 0      M   сотрудник     0  144425.938277   \n",
       "\n",
       "                      purpose  \n",
       "0               покупка жилья  \n",
       "1     приобретение автомобиля  \n",
       "2               покупка жилья  \n",
       "3  дополнительное образование  \n",
       "4             сыграть свадьбу  \n",
       "5               покупка жилья  \n",
       "6           операции с жильем  \n",
       "7                 образование  \n",
       "8       на проведение свадьбы  \n",
       "9     покупка жилья для семьи  "
      ]
     },
     "execution_count": 12,
     "metadata": {},
     "output_type": "execute_result"
    }
   ],
   "source": [
    "# выводим первые 10 строк таблицы data\n",
    "data.head(10)"
   ]
  },
  {
   "cell_type": "markdown",
   "id": "68551ee0",
   "metadata": {},
   "source": [
    "Отлично. Значения в столбце стали абсолютными. Проверим какие значения выпадают из общих данных. Проверим, какие есть минимальные значения в столбцах таблицы:"
   ]
  },
  {
   "cell_type": "code",
   "execution_count": 13,
   "id": "d9925183",
   "metadata": {},
   "outputs": [
    {
     "data": {
      "text/plain": [
       "children                               -1\n",
       "days_employed                     24.1416\n",
       "dob_years                               0\n",
       "education                          ВЫСШЕЕ\n",
       "education_id                            0\n",
       "family_status       Не женат / не замужем\n",
       "family_status_id                        0\n",
       "gender                                  F\n",
       "income_type                   безработный\n",
       "debt                                    0\n",
       "total_income                      20667.3\n",
       "purpose                        автомобили\n",
       "dtype: object"
      ]
     },
     "execution_count": 13,
     "metadata": {},
     "output_type": "execute_result"
    }
   ],
   "source": [
    "# ищем минимальные значения в столбцах таблицы data\n",
    "data.min()"
   ]
  },
  {
   "cell_type": "markdown",
   "id": "5008ce9e",
   "metadata": {},
   "source": [
    "Исходя из данных видно, что иногда встречается отрицательное количество детей, что некорректно. Вероятно, это является также ошибкой при заполнении данных. Приведем все значения столбца children к абсолютным:"
   ]
  },
  {
   "cell_type": "code",
   "execution_count": 14,
   "id": "18f14576",
   "metadata": {},
   "outputs": [],
   "source": [
    "# приводим значения столбца children к абсолютным\n",
    "data['children'] = data['children'].abs()"
   ]
  },
  {
   "cell_type": "markdown",
   "id": "0a779e35",
   "metadata": {},
   "source": [
    "Проверим значения столбца children после внесения правок:"
   ]
  },
  {
   "cell_type": "code",
   "execution_count": 15,
   "id": "24f6ed52",
   "metadata": {},
   "outputs": [
    {
     "data": {
      "text/plain": [
       "array([ 1,  0,  3,  2,  4, 20,  5])"
      ]
     },
     "execution_count": 15,
     "metadata": {},
     "output_type": "execute_result"
    }
   ],
   "source": [
    "# выводим все уникальные значения столбца children\n",
    "data['children'].unique()"
   ]
  },
  {
   "cell_type": "markdown",
   "id": "974a5a84",
   "metadata": {},
   "source": [
    "Отрицательные значения количества детей поправили. Проверим еще раз минимальные значения в таблице:"
   ]
  },
  {
   "cell_type": "code",
   "execution_count": 16,
   "id": "b598e909",
   "metadata": {},
   "outputs": [
    {
     "data": {
      "text/plain": [
       "children                                0\n",
       "days_employed                     24.1416\n",
       "dob_years                               0\n",
       "education                          ВЫСШЕЕ\n",
       "education_id                            0\n",
       "family_status       Не женат / не замужем\n",
       "family_status_id                        0\n",
       "gender                                  F\n",
       "income_type                   безработный\n",
       "debt                                    0\n",
       "total_income                      20667.3\n",
       "purpose                        автомобили\n",
       "dtype: object"
      ]
     },
     "execution_count": 16,
     "metadata": {},
     "output_type": "execute_result"
    }
   ],
   "source": [
    "# повторная проверка минимальных значений\n",
    "data.min()"
   ]
  },
  {
   "cell_type": "markdown",
   "id": "7e1fa363",
   "metadata": {},
   "source": [
    "Минимальное значение похоже теперь на реальные данные. Обработка прошла успешно. Проверим теперь максимальные данные в таблице:"
   ]
  },
  {
   "cell_type": "code",
   "execution_count": 17,
   "id": "6f79c3e0",
   "metadata": {},
   "outputs": [
    {
     "data": {
      "text/plain": [
       "children                         20\n",
       "days_employed                401755\n",
       "dob_years                        75\n",
       "education            ученая степень\n",
       "education_id                      4\n",
       "family_status       женат / замужем\n",
       "family_status_id                  4\n",
       "gender                          XNA\n",
       "income_type                 студент\n",
       "debt                              1\n",
       "total_income             2.2656e+06\n",
       "purpose             сыграть свадьбу\n",
       "dtype: object"
      ]
     },
     "execution_count": 17,
     "metadata": {},
     "output_type": "execute_result"
    }
   ],
   "source": [
    "# выводим максимальные данные из таблицы data\n",
    "data.max()"
   ]
  },
  {
   "cell_type": "markdown",
   "id": "ba593d59",
   "metadata": {},
   "source": [
    "При выборе максимального значения есть странное значение столбца gender - XNA. Необходимо проверить сколько строк имеет странное значение данного столбца.  "
   ]
  },
  {
   "cell_type": "code",
   "execution_count": 18,
   "id": "ecce7782",
   "metadata": {},
   "outputs": [
    {
     "data": {
      "text/plain": [
       "F      14236\n",
       "M       7288\n",
       "XNA        1\n",
       "Name: gender, dtype: int64"
      ]
     },
     "execution_count": 18,
     "metadata": {},
     "output_type": "execute_result"
    }
   ],
   "source": [
    "# проверяем уникальные значение в столбце и их количество\n",
    "data['gender'].value_counts()"
   ]
  },
  {
   "cell_type": "markdown",
   "id": "f0ec0f0b",
   "metadata": {},
   "source": [
    "Такое значение только одно. Для дальнейшей работы с данными его можно удалить, так как вероятно это какие-то ошибочно внесенные данные. "
   ]
  },
  {
   "cell_type": "code",
   "execution_count": 19,
   "id": "aada2bc9",
   "metadata": {},
   "outputs": [
    {
     "data": {
      "text/plain": [
       "F    14236\n",
       "M     7288\n",
       "Name: gender, dtype: int64"
      ]
     },
     "execution_count": 19,
     "metadata": {},
     "output_type": "execute_result"
    }
   ],
   "source": [
    "# удаляем из таблицы строку, в которой есть указанный пол, проверяем значения повторно\n",
    "data = data.loc[data['gender'] !='XNA']\n",
    "data['gender'].value_counts()"
   ]
  },
  {
   "cell_type": "code",
   "execution_count": 20,
   "id": "3bd589f9",
   "metadata": {},
   "outputs": [
    {
     "data": {
      "text/plain": [
       "children                         20\n",
       "days_employed                401755\n",
       "dob_years                        75\n",
       "education            ученая степень\n",
       "education_id                      4\n",
       "family_status       женат / замужем\n",
       "family_status_id                  4\n",
       "gender                            M\n",
       "income_type                 студент\n",
       "debt                              1\n",
       "total_income             2.2656e+06\n",
       "purpose             сыграть свадьбу\n",
       "dtype: object"
      ]
     },
     "execution_count": 20,
     "metadata": {},
     "output_type": "execute_result"
    }
   ],
   "source": [
    "# повторно проверяем максимальное значение в таблице\n",
    "data.max()"
   ]
  },
  {
   "cell_type": "markdown",
   "id": "fae146a0",
   "metadata": {},
   "source": [
    "***Вывод***\n",
    "\n",
    "Проверка на аномалии показала их наличие в трех столбцах - days_employed, gender и children. Большинство ошибок в данных вероятно связано с человеческим фактором. \n",
    "Отрицательные данные в столбце days_employed возможны в связи со спецификой расчета трудового стажа. \n",
    "\n",
    "Выявленные аномалии устранены."
   ]
  },
  {
   "cell_type": "markdown",
   "id": "34677ef0",
   "metadata": {},
   "source": [
    "### Шаг 2.3. Изменение типов данных."
   ]
  },
  {
   "cell_type": "markdown",
   "id": "502e7262",
   "metadata": {},
   "source": [
    "Для удобства дальнейшей работы с данными необходимо преобразовать данные в столбцах days_employed и total_income в целочисленные."
   ]
  },
  {
   "cell_type": "code",
   "execution_count": 21,
   "id": "c4a090dd",
   "metadata": {},
   "outputs": [
    {
     "name": "stderr",
     "output_type": "stream",
     "text": [
      "/opt/conda/lib/python3.7/site-packages/ipykernel_launcher.py:1: SettingWithCopyWarning: \n",
      "A value is trying to be set on a copy of a slice from a DataFrame.\n",
      "Try using .loc[row_indexer,col_indexer] = value instead\n",
      "\n",
      "See the caveats in the documentation: http://pandas.pydata.org/pandas-docs/stable/user_guide/indexing.html#returning-a-view-versus-a-copy\n",
      "  \"\"\"Entry point for launching an IPython kernel.\n",
      "/opt/conda/lib/python3.7/site-packages/ipykernel_launcher.py:2: SettingWithCopyWarning: \n",
      "A value is trying to be set on a copy of a slice from a DataFrame.\n",
      "Try using .loc[row_indexer,col_indexer] = value instead\n",
      "\n",
      "See the caveats in the documentation: http://pandas.pydata.org/pandas-docs/stable/user_guide/indexing.html#returning-a-view-versus-a-copy\n",
      "  \n"
     ]
    },
    {
     "data": {
      "text/html": [
       "<div>\n",
       "<style scoped>\n",
       "    .dataframe tbody tr th:only-of-type {\n",
       "        vertical-align: middle;\n",
       "    }\n",
       "\n",
       "    .dataframe tbody tr th {\n",
       "        vertical-align: top;\n",
       "    }\n",
       "\n",
       "    .dataframe thead th {\n",
       "        text-align: right;\n",
       "    }\n",
       "</style>\n",
       "<table border=\"1\" class=\"dataframe\">\n",
       "  <thead>\n",
       "    <tr style=\"text-align: right;\">\n",
       "      <th></th>\n",
       "      <th>children</th>\n",
       "      <th>days_employed</th>\n",
       "      <th>dob_years</th>\n",
       "      <th>education</th>\n",
       "      <th>education_id</th>\n",
       "      <th>family_status</th>\n",
       "      <th>family_status_id</th>\n",
       "      <th>gender</th>\n",
       "      <th>income_type</th>\n",
       "      <th>debt</th>\n",
       "      <th>total_income</th>\n",
       "      <th>purpose</th>\n",
       "    </tr>\n",
       "  </thead>\n",
       "  <tbody>\n",
       "    <tr>\n",
       "      <td>0</td>\n",
       "      <td>1</td>\n",
       "      <td>8437</td>\n",
       "      <td>42</td>\n",
       "      <td>высшее</td>\n",
       "      <td>0</td>\n",
       "      <td>женат / замужем</td>\n",
       "      <td>0</td>\n",
       "      <td>F</td>\n",
       "      <td>сотрудник</td>\n",
       "      <td>0</td>\n",
       "      <td>253875</td>\n",
       "      <td>покупка жилья</td>\n",
       "    </tr>\n",
       "    <tr>\n",
       "      <td>1</td>\n",
       "      <td>1</td>\n",
       "      <td>4024</td>\n",
       "      <td>36</td>\n",
       "      <td>среднее</td>\n",
       "      <td>1</td>\n",
       "      <td>женат / замужем</td>\n",
       "      <td>0</td>\n",
       "      <td>F</td>\n",
       "      <td>сотрудник</td>\n",
       "      <td>0</td>\n",
       "      <td>112080</td>\n",
       "      <td>приобретение автомобиля</td>\n",
       "    </tr>\n",
       "    <tr>\n",
       "      <td>2</td>\n",
       "      <td>0</td>\n",
       "      <td>5623</td>\n",
       "      <td>33</td>\n",
       "      <td>Среднее</td>\n",
       "      <td>1</td>\n",
       "      <td>женат / замужем</td>\n",
       "      <td>0</td>\n",
       "      <td>M</td>\n",
       "      <td>сотрудник</td>\n",
       "      <td>0</td>\n",
       "      <td>145885</td>\n",
       "      <td>покупка жилья</td>\n",
       "    </tr>\n",
       "    <tr>\n",
       "      <td>3</td>\n",
       "      <td>3</td>\n",
       "      <td>4124</td>\n",
       "      <td>32</td>\n",
       "      <td>среднее</td>\n",
       "      <td>1</td>\n",
       "      <td>женат / замужем</td>\n",
       "      <td>0</td>\n",
       "      <td>M</td>\n",
       "      <td>сотрудник</td>\n",
       "      <td>0</td>\n",
       "      <td>267628</td>\n",
       "      <td>дополнительное образование</td>\n",
       "    </tr>\n",
       "    <tr>\n",
       "      <td>4</td>\n",
       "      <td>0</td>\n",
       "      <td>340266</td>\n",
       "      <td>53</td>\n",
       "      <td>среднее</td>\n",
       "      <td>1</td>\n",
       "      <td>гражданский брак</td>\n",
       "      <td>1</td>\n",
       "      <td>F</td>\n",
       "      <td>пенсионер</td>\n",
       "      <td>0</td>\n",
       "      <td>158616</td>\n",
       "      <td>сыграть свадьбу</td>\n",
       "    </tr>\n",
       "    <tr>\n",
       "      <td>5</td>\n",
       "      <td>0</td>\n",
       "      <td>926</td>\n",
       "      <td>27</td>\n",
       "      <td>высшее</td>\n",
       "      <td>0</td>\n",
       "      <td>гражданский брак</td>\n",
       "      <td>1</td>\n",
       "      <td>M</td>\n",
       "      <td>компаньон</td>\n",
       "      <td>0</td>\n",
       "      <td>255763</td>\n",
       "      <td>покупка жилья</td>\n",
       "    </tr>\n",
       "    <tr>\n",
       "      <td>6</td>\n",
       "      <td>0</td>\n",
       "      <td>2879</td>\n",
       "      <td>43</td>\n",
       "      <td>высшее</td>\n",
       "      <td>0</td>\n",
       "      <td>женат / замужем</td>\n",
       "      <td>0</td>\n",
       "      <td>F</td>\n",
       "      <td>компаньон</td>\n",
       "      <td>0</td>\n",
       "      <td>240525</td>\n",
       "      <td>операции с жильем</td>\n",
       "    </tr>\n",
       "    <tr>\n",
       "      <td>7</td>\n",
       "      <td>0</td>\n",
       "      <td>152</td>\n",
       "      <td>50</td>\n",
       "      <td>СРЕДНЕЕ</td>\n",
       "      <td>1</td>\n",
       "      <td>женат / замужем</td>\n",
       "      <td>0</td>\n",
       "      <td>M</td>\n",
       "      <td>сотрудник</td>\n",
       "      <td>0</td>\n",
       "      <td>135823</td>\n",
       "      <td>образование</td>\n",
       "    </tr>\n",
       "    <tr>\n",
       "      <td>8</td>\n",
       "      <td>2</td>\n",
       "      <td>6929</td>\n",
       "      <td>35</td>\n",
       "      <td>ВЫСШЕЕ</td>\n",
       "      <td>0</td>\n",
       "      <td>гражданский брак</td>\n",
       "      <td>1</td>\n",
       "      <td>F</td>\n",
       "      <td>сотрудник</td>\n",
       "      <td>0</td>\n",
       "      <td>95856</td>\n",
       "      <td>на проведение свадьбы</td>\n",
       "    </tr>\n",
       "    <tr>\n",
       "      <td>9</td>\n",
       "      <td>0</td>\n",
       "      <td>2188</td>\n",
       "      <td>41</td>\n",
       "      <td>среднее</td>\n",
       "      <td>1</td>\n",
       "      <td>женат / замужем</td>\n",
       "      <td>0</td>\n",
       "      <td>M</td>\n",
       "      <td>сотрудник</td>\n",
       "      <td>0</td>\n",
       "      <td>144425</td>\n",
       "      <td>покупка жилья для семьи</td>\n",
       "    </tr>\n",
       "  </tbody>\n",
       "</table>\n",
       "</div>"
      ],
      "text/plain": [
       "   children  days_employed  dob_years education  education_id  \\\n",
       "0         1           8437         42    высшее             0   \n",
       "1         1           4024         36   среднее             1   \n",
       "2         0           5623         33   Среднее             1   \n",
       "3         3           4124         32   среднее             1   \n",
       "4         0         340266         53   среднее             1   \n",
       "5         0            926         27    высшее             0   \n",
       "6         0           2879         43    высшее             0   \n",
       "7         0            152         50   СРЕДНЕЕ             1   \n",
       "8         2           6929         35    ВЫСШЕЕ             0   \n",
       "9         0           2188         41   среднее             1   \n",
       "\n",
       "      family_status  family_status_id gender income_type  debt  total_income  \\\n",
       "0   женат / замужем                 0      F   сотрудник     0        253875   \n",
       "1   женат / замужем                 0      F   сотрудник     0        112080   \n",
       "2   женат / замужем                 0      M   сотрудник     0        145885   \n",
       "3   женат / замужем                 0      M   сотрудник     0        267628   \n",
       "4  гражданский брак                 1      F   пенсионер     0        158616   \n",
       "5  гражданский брак                 1      M   компаньон     0        255763   \n",
       "6   женат / замужем                 0      F   компаньон     0        240525   \n",
       "7   женат / замужем                 0      M   сотрудник     0        135823   \n",
       "8  гражданский брак                 1      F   сотрудник     0         95856   \n",
       "9   женат / замужем                 0      M   сотрудник     0        144425   \n",
       "\n",
       "                      purpose  \n",
       "0               покупка жилья  \n",
       "1     приобретение автомобиля  \n",
       "2               покупка жилья  \n",
       "3  дополнительное образование  \n",
       "4             сыграть свадьбу  \n",
       "5               покупка жилья  \n",
       "6           операции с жильем  \n",
       "7                 образование  \n",
       "8       на проведение свадьбы  \n",
       "9     покупка жилья для семьи  "
      ]
     },
     "metadata": {},
     "output_type": "display_data"
    }
   ],
   "source": [
    "data['total_income'] = data['total_income'].astype(int)\n",
    "data['days_employed'] = data['days_employed'].astype(int)\n",
    "display(data.head(10))"
   ]
  },
  {
   "cell_type": "markdown",
   "id": "1fed8bc0",
   "metadata": {},
   "source": [
    "### Шаг 2.4. Удаление дубликатов."
   ]
  },
  {
   "cell_type": "markdown",
   "id": "fd45a9b9",
   "metadata": {},
   "source": [
    "После обзора данных, работы с пропусками, аномалиями и приведения данных к общему виду необходимо проверить данные на наличие дубликатов. Исходя из первых 10 строк видно, что в столбце education присутствуют данные с неявными дубликатами. Необходимо привести их к общему значению перед началом обработки всей таблицы.\n",
    "\n"
   ]
  },
  {
   "cell_type": "markdown",
   "id": "00d63aba",
   "metadata": {},
   "source": [
    "Для начала в столбце education сделаем все буквы строчными. Вероятно, при заполнении анкет данные указывались в той форме, в которой было удобно пользователю их внесшему и их не привели к единому формату."
   ]
  },
  {
   "cell_type": "code",
   "execution_count": 22,
   "id": "f63f20a6",
   "metadata": {},
   "outputs": [
    {
     "name": "stderr",
     "output_type": "stream",
     "text": [
      "/opt/conda/lib/python3.7/site-packages/ipykernel_launcher.py:2: SettingWithCopyWarning: \n",
      "A value is trying to be set on a copy of a slice from a DataFrame.\n",
      "Try using .loc[row_indexer,col_indexer] = value instead\n",
      "\n",
      "See the caveats in the documentation: http://pandas.pydata.org/pandas-docs/stable/user_guide/indexing.html#returning-a-view-versus-a-copy\n",
      "  \n"
     ]
    },
    {
     "data": {
      "text/html": [
       "<div>\n",
       "<style scoped>\n",
       "    .dataframe tbody tr th:only-of-type {\n",
       "        vertical-align: middle;\n",
       "    }\n",
       "\n",
       "    .dataframe tbody tr th {\n",
       "        vertical-align: top;\n",
       "    }\n",
       "\n",
       "    .dataframe thead th {\n",
       "        text-align: right;\n",
       "    }\n",
       "</style>\n",
       "<table border=\"1\" class=\"dataframe\">\n",
       "  <thead>\n",
       "    <tr style=\"text-align: right;\">\n",
       "      <th></th>\n",
       "      <th>children</th>\n",
       "      <th>days_employed</th>\n",
       "      <th>dob_years</th>\n",
       "      <th>education</th>\n",
       "      <th>education_id</th>\n",
       "      <th>family_status</th>\n",
       "      <th>family_status_id</th>\n",
       "      <th>gender</th>\n",
       "      <th>income_type</th>\n",
       "      <th>debt</th>\n",
       "      <th>total_income</th>\n",
       "      <th>purpose</th>\n",
       "    </tr>\n",
       "  </thead>\n",
       "  <tbody>\n",
       "    <tr>\n",
       "      <td>0</td>\n",
       "      <td>1</td>\n",
       "      <td>8437</td>\n",
       "      <td>42</td>\n",
       "      <td>высшее</td>\n",
       "      <td>0</td>\n",
       "      <td>женат / замужем</td>\n",
       "      <td>0</td>\n",
       "      <td>F</td>\n",
       "      <td>сотрудник</td>\n",
       "      <td>0</td>\n",
       "      <td>253875</td>\n",
       "      <td>покупка жилья</td>\n",
       "    </tr>\n",
       "    <tr>\n",
       "      <td>1</td>\n",
       "      <td>1</td>\n",
       "      <td>4024</td>\n",
       "      <td>36</td>\n",
       "      <td>среднее</td>\n",
       "      <td>1</td>\n",
       "      <td>женат / замужем</td>\n",
       "      <td>0</td>\n",
       "      <td>F</td>\n",
       "      <td>сотрудник</td>\n",
       "      <td>0</td>\n",
       "      <td>112080</td>\n",
       "      <td>приобретение автомобиля</td>\n",
       "    </tr>\n",
       "    <tr>\n",
       "      <td>2</td>\n",
       "      <td>0</td>\n",
       "      <td>5623</td>\n",
       "      <td>33</td>\n",
       "      <td>среднее</td>\n",
       "      <td>1</td>\n",
       "      <td>женат / замужем</td>\n",
       "      <td>0</td>\n",
       "      <td>M</td>\n",
       "      <td>сотрудник</td>\n",
       "      <td>0</td>\n",
       "      <td>145885</td>\n",
       "      <td>покупка жилья</td>\n",
       "    </tr>\n",
       "    <tr>\n",
       "      <td>3</td>\n",
       "      <td>3</td>\n",
       "      <td>4124</td>\n",
       "      <td>32</td>\n",
       "      <td>среднее</td>\n",
       "      <td>1</td>\n",
       "      <td>женат / замужем</td>\n",
       "      <td>0</td>\n",
       "      <td>M</td>\n",
       "      <td>сотрудник</td>\n",
       "      <td>0</td>\n",
       "      <td>267628</td>\n",
       "      <td>дополнительное образование</td>\n",
       "    </tr>\n",
       "    <tr>\n",
       "      <td>4</td>\n",
       "      <td>0</td>\n",
       "      <td>340266</td>\n",
       "      <td>53</td>\n",
       "      <td>среднее</td>\n",
       "      <td>1</td>\n",
       "      <td>гражданский брак</td>\n",
       "      <td>1</td>\n",
       "      <td>F</td>\n",
       "      <td>пенсионер</td>\n",
       "      <td>0</td>\n",
       "      <td>158616</td>\n",
       "      <td>сыграть свадьбу</td>\n",
       "    </tr>\n",
       "    <tr>\n",
       "      <td>5</td>\n",
       "      <td>0</td>\n",
       "      <td>926</td>\n",
       "      <td>27</td>\n",
       "      <td>высшее</td>\n",
       "      <td>0</td>\n",
       "      <td>гражданский брак</td>\n",
       "      <td>1</td>\n",
       "      <td>M</td>\n",
       "      <td>компаньон</td>\n",
       "      <td>0</td>\n",
       "      <td>255763</td>\n",
       "      <td>покупка жилья</td>\n",
       "    </tr>\n",
       "    <tr>\n",
       "      <td>6</td>\n",
       "      <td>0</td>\n",
       "      <td>2879</td>\n",
       "      <td>43</td>\n",
       "      <td>высшее</td>\n",
       "      <td>0</td>\n",
       "      <td>женат / замужем</td>\n",
       "      <td>0</td>\n",
       "      <td>F</td>\n",
       "      <td>компаньон</td>\n",
       "      <td>0</td>\n",
       "      <td>240525</td>\n",
       "      <td>операции с жильем</td>\n",
       "    </tr>\n",
       "    <tr>\n",
       "      <td>7</td>\n",
       "      <td>0</td>\n",
       "      <td>152</td>\n",
       "      <td>50</td>\n",
       "      <td>среднее</td>\n",
       "      <td>1</td>\n",
       "      <td>женат / замужем</td>\n",
       "      <td>0</td>\n",
       "      <td>M</td>\n",
       "      <td>сотрудник</td>\n",
       "      <td>0</td>\n",
       "      <td>135823</td>\n",
       "      <td>образование</td>\n",
       "    </tr>\n",
       "    <tr>\n",
       "      <td>8</td>\n",
       "      <td>2</td>\n",
       "      <td>6929</td>\n",
       "      <td>35</td>\n",
       "      <td>высшее</td>\n",
       "      <td>0</td>\n",
       "      <td>гражданский брак</td>\n",
       "      <td>1</td>\n",
       "      <td>F</td>\n",
       "      <td>сотрудник</td>\n",
       "      <td>0</td>\n",
       "      <td>95856</td>\n",
       "      <td>на проведение свадьбы</td>\n",
       "    </tr>\n",
       "    <tr>\n",
       "      <td>9</td>\n",
       "      <td>0</td>\n",
       "      <td>2188</td>\n",
       "      <td>41</td>\n",
       "      <td>среднее</td>\n",
       "      <td>1</td>\n",
       "      <td>женат / замужем</td>\n",
       "      <td>0</td>\n",
       "      <td>M</td>\n",
       "      <td>сотрудник</td>\n",
       "      <td>0</td>\n",
       "      <td>144425</td>\n",
       "      <td>покупка жилья для семьи</td>\n",
       "    </tr>\n",
       "  </tbody>\n",
       "</table>\n",
       "</div>"
      ],
      "text/plain": [
       "   children  days_employed  dob_years education  education_id  \\\n",
       "0         1           8437         42    высшее             0   \n",
       "1         1           4024         36   среднее             1   \n",
       "2         0           5623         33   среднее             1   \n",
       "3         3           4124         32   среднее             1   \n",
       "4         0         340266         53   среднее             1   \n",
       "5         0            926         27    высшее             0   \n",
       "6         0           2879         43    высшее             0   \n",
       "7         0            152         50   среднее             1   \n",
       "8         2           6929         35    высшее             0   \n",
       "9         0           2188         41   среднее             1   \n",
       "\n",
       "      family_status  family_status_id gender income_type  debt  total_income  \\\n",
       "0   женат / замужем                 0      F   сотрудник     0        253875   \n",
       "1   женат / замужем                 0      F   сотрудник     0        112080   \n",
       "2   женат / замужем                 0      M   сотрудник     0        145885   \n",
       "3   женат / замужем                 0      M   сотрудник     0        267628   \n",
       "4  гражданский брак                 1      F   пенсионер     0        158616   \n",
       "5  гражданский брак                 1      M   компаньон     0        255763   \n",
       "6   женат / замужем                 0      F   компаньон     0        240525   \n",
       "7   женат / замужем                 0      M   сотрудник     0        135823   \n",
       "8  гражданский брак                 1      F   сотрудник     0         95856   \n",
       "9   женат / замужем                 0      M   сотрудник     0        144425   \n",
       "\n",
       "                      purpose  \n",
       "0               покупка жилья  \n",
       "1     приобретение автомобиля  \n",
       "2               покупка жилья  \n",
       "3  дополнительное образование  \n",
       "4             сыграть свадьбу  \n",
       "5               покупка жилья  \n",
       "6           операции с жильем  \n",
       "7                 образование  \n",
       "8       на проведение свадьбы  \n",
       "9     покупка жилья для семьи  "
      ]
     },
     "metadata": {},
     "output_type": "display_data"
    }
   ],
   "source": [
    "# делаем все буквы строчными в столбце education и выводим таблицу data\n",
    "data['education'] = data['education'].str.lower()\n",
    "display(data.head(10))"
   ]
  },
  {
   "cell_type": "markdown",
   "id": "04f3db7f",
   "metadata": {},
   "source": [
    "Отлично. Все значения приведены к одному формату. Проверим дополнительно уникальные значения данного столбца, чтобы быть уверенным, что там нет ничего неожиданного. "
   ]
  },
  {
   "cell_type": "code",
   "execution_count": 23,
   "id": "81ddcd78",
   "metadata": {},
   "outputs": [
    {
     "data": {
      "text/plain": [
       "array(['высшее', 'среднее', 'неоконченное высшее', 'начальное',\n",
       "       'ученая степень'], dtype=object)"
      ]
     },
     "execution_count": 23,
     "metadata": {},
     "output_type": "execute_result"
    }
   ],
   "source": [
    "# проверяем уникальные значения столбца education\n",
    "data['education'].unique()"
   ]
  },
  {
   "cell_type": "markdown",
   "id": "a69598ca",
   "metadata": {},
   "source": [
    "Со значениями столбца education все в порядке."
   ]
  },
  {
   "cell_type": "code",
   "execution_count": 24,
   "id": "346016a5",
   "metadata": {},
   "outputs": [
    {
     "data": {
      "text/plain": [
       "71"
      ]
     },
     "execution_count": 24,
     "metadata": {},
     "output_type": "execute_result"
    }
   ],
   "source": [
    "# проверяем наличие дубликатов\n",
    "data.duplicated().sum()"
   ]
  },
  {
   "cell_type": "markdown",
   "id": "23ed09a0",
   "metadata": {},
   "source": [
    "Действительно есть достаточное количество дубликатов. Их необходимо удалить, так как они будут мешать в процессе дальнейшей проверки гипотез:"
   ]
  },
  {
   "cell_type": "code",
   "execution_count": 25,
   "id": "c04dc21a",
   "metadata": {},
   "outputs": [],
   "source": [
    "# удаление явных дубликатов\n",
    "data = data.drop_duplicates().reset_index(drop=True)"
   ]
  },
  {
   "cell_type": "markdown",
   "id": "dedd19d0",
   "metadata": {},
   "source": [
    "Проверяем, что дубликатов более нет:"
   ]
  },
  {
   "cell_type": "code",
   "execution_count": 26,
   "id": "f2e7ff17",
   "metadata": {},
   "outputs": [
    {
     "data": {
      "text/plain": [
       "0"
      ]
     },
     "execution_count": 26,
     "metadata": {},
     "output_type": "execute_result"
    }
   ],
   "source": [
    "# проверяем наличие дубликатов\n",
    "data.duplicated().sum()"
   ]
  },
  {
   "cell_type": "markdown",
   "id": "7894f61e",
   "metadata": {},
   "source": [
    "Дубликаты успешно удалены. \n",
    "\n",
    "***Вывод***\n",
    "\n",
    "В прошлом пункте мы привели значения к целочисленным для удобства анализа. \n",
    "В рамках проверки на дубликаты мы:\n",
    "- привели к единому регистру данные столбца education, проверили на возможное наличие не явных дубликатов\n",
    "- после приведения данных к единым параметрам удалили явные дубликаты\n",
    "\n",
    "Из причин появления дубликатов могу выделить прежде всего отсутствие конкретного формата заполнения данных - в итоге каждый человек при подаче анкеты на кредит заполняет данных по-своему. \n",
    "Явные дубли могли появиться в случае, если, например, один и тот же пользователь подал заявку несколько раз. "
   ]
  },
  {
   "cell_type": "markdown",
   "id": "da5507c2",
   "metadata": {},
   "source": [
    "### Шаг 2.5. Формирование дополнительных датафреймов словарей, декомпозиция исходного датафрейма."
   ]
  },
  {
   "cell_type": "markdown",
   "id": "5f2d5feb",
   "metadata": {},
   "source": [
    "Для удобства работы выделим данные по образованию и семейному положению в отдельные словари. Удалим значения из основной таблицы, чтобы она стала более простой и легкой по объему для анализа."
   ]
  },
  {
   "cell_type": "code",
   "execution_count": 27,
   "id": "cb6d8248",
   "metadata": {},
   "outputs": [
    {
     "data": {
      "text/html": [
       "<div>\n",
       "<style scoped>\n",
       "    .dataframe tbody tr th:only-of-type {\n",
       "        vertical-align: middle;\n",
       "    }\n",
       "\n",
       "    .dataframe tbody tr th {\n",
       "        vertical-align: top;\n",
       "    }\n",
       "\n",
       "    .dataframe thead th {\n",
       "        text-align: right;\n",
       "    }\n",
       "</style>\n",
       "<table border=\"1\" class=\"dataframe\">\n",
       "  <thead>\n",
       "    <tr style=\"text-align: right;\">\n",
       "      <th></th>\n",
       "      <th>education_id</th>\n",
       "      <th>education</th>\n",
       "    </tr>\n",
       "  </thead>\n",
       "  <tbody>\n",
       "    <tr>\n",
       "      <td>0</td>\n",
       "      <td>0</td>\n",
       "      <td>высшее</td>\n",
       "    </tr>\n",
       "    <tr>\n",
       "      <td>1</td>\n",
       "      <td>1</td>\n",
       "      <td>среднее</td>\n",
       "    </tr>\n",
       "    <tr>\n",
       "      <td>2</td>\n",
       "      <td>2</td>\n",
       "      <td>неоконченное высшее</td>\n",
       "    </tr>\n",
       "    <tr>\n",
       "      <td>3</td>\n",
       "      <td>3</td>\n",
       "      <td>начальное</td>\n",
       "    </tr>\n",
       "    <tr>\n",
       "      <td>4</td>\n",
       "      <td>4</td>\n",
       "      <td>ученая степень</td>\n",
       "    </tr>\n",
       "  </tbody>\n",
       "</table>\n",
       "</div>"
      ],
      "text/plain": [
       "   education_id            education\n",
       "0             0               высшее\n",
       "1             1              среднее\n",
       "2             2  неоконченное высшее\n",
       "3             3            начальное\n",
       "4             4       ученая степень"
      ]
     },
     "metadata": {},
     "output_type": "display_data"
    }
   ],
   "source": [
    "# создаем отдельную таблицу data_education со столбцами education_id и education\n",
    "data_education = data[['education_id', 'education']]\n",
    "# удаляем дубликаты из данной таблицы\n",
    "data_education = data_education.drop_duplicates().reset_index(drop=True)\n",
    "# выводим новую таблицу\n",
    "display(data_education)"
   ]
  },
  {
   "cell_type": "code",
   "execution_count": 28,
   "id": "ebc51120",
   "metadata": {},
   "outputs": [
    {
     "data": {
      "text/html": [
       "<div>\n",
       "<style scoped>\n",
       "    .dataframe tbody tr th:only-of-type {\n",
       "        vertical-align: middle;\n",
       "    }\n",
       "\n",
       "    .dataframe tbody tr th {\n",
       "        vertical-align: top;\n",
       "    }\n",
       "\n",
       "    .dataframe thead th {\n",
       "        text-align: right;\n",
       "    }\n",
       "</style>\n",
       "<table border=\"1\" class=\"dataframe\">\n",
       "  <thead>\n",
       "    <tr style=\"text-align: right;\">\n",
       "      <th></th>\n",
       "      <th>family_status_id</th>\n",
       "      <th>family_status</th>\n",
       "    </tr>\n",
       "  </thead>\n",
       "  <tbody>\n",
       "    <tr>\n",
       "      <td>0</td>\n",
       "      <td>0</td>\n",
       "      <td>женат / замужем</td>\n",
       "    </tr>\n",
       "    <tr>\n",
       "      <td>1</td>\n",
       "      <td>1</td>\n",
       "      <td>гражданский брак</td>\n",
       "    </tr>\n",
       "    <tr>\n",
       "      <td>2</td>\n",
       "      <td>2</td>\n",
       "      <td>вдовец / вдова</td>\n",
       "    </tr>\n",
       "    <tr>\n",
       "      <td>3</td>\n",
       "      <td>3</td>\n",
       "      <td>в разводе</td>\n",
       "    </tr>\n",
       "    <tr>\n",
       "      <td>4</td>\n",
       "      <td>4</td>\n",
       "      <td>Не женат / не замужем</td>\n",
       "    </tr>\n",
       "  </tbody>\n",
       "</table>\n",
       "</div>"
      ],
      "text/plain": [
       "   family_status_id          family_status\n",
       "0                 0        женат / замужем\n",
       "1                 1       гражданский брак\n",
       "2                 2         вдовец / вдова\n",
       "3                 3              в разводе\n",
       "4                 4  Не женат / не замужем"
      ]
     },
     "metadata": {},
     "output_type": "display_data"
    }
   ],
   "source": [
    "# создаем отдельную таблицу data_family_status со столбцами family_status и family_status_id\n",
    "data_family_status = data[['family_status_id', 'family_status']]\n",
    "# удаляем дубликаты из данной таблицы\n",
    "data_family_status = data_family_status.drop_duplicates().reset_index(drop=True)\n",
    "# выводим новую таблицу \n",
    "display(data_family_status)"
   ]
  },
  {
   "cell_type": "markdown",
   "id": "50ea5568",
   "metadata": {},
   "source": [
    "Таблицы с данными успешно созданны. Производим удаление столбцов family_status и education:"
   ]
  },
  {
   "cell_type": "code",
   "execution_count": 29,
   "id": "d297bd30",
   "metadata": {},
   "outputs": [
    {
     "data": {
      "text/html": [
       "<div>\n",
       "<style scoped>\n",
       "    .dataframe tbody tr th:only-of-type {\n",
       "        vertical-align: middle;\n",
       "    }\n",
       "\n",
       "    .dataframe tbody tr th {\n",
       "        vertical-align: top;\n",
       "    }\n",
       "\n",
       "    .dataframe thead th {\n",
       "        text-align: right;\n",
       "    }\n",
       "</style>\n",
       "<table border=\"1\" class=\"dataframe\">\n",
       "  <thead>\n",
       "    <tr style=\"text-align: right;\">\n",
       "      <th></th>\n",
       "      <th>children</th>\n",
       "      <th>days_employed</th>\n",
       "      <th>dob_years</th>\n",
       "      <th>education_id</th>\n",
       "      <th>family_status_id</th>\n",
       "      <th>gender</th>\n",
       "      <th>income_type</th>\n",
       "      <th>debt</th>\n",
       "      <th>total_income</th>\n",
       "      <th>purpose</th>\n",
       "    </tr>\n",
       "  </thead>\n",
       "  <tbody>\n",
       "    <tr>\n",
       "      <td>0</td>\n",
       "      <td>1</td>\n",
       "      <td>8437</td>\n",
       "      <td>42</td>\n",
       "      <td>0</td>\n",
       "      <td>0</td>\n",
       "      <td>F</td>\n",
       "      <td>сотрудник</td>\n",
       "      <td>0</td>\n",
       "      <td>253875</td>\n",
       "      <td>покупка жилья</td>\n",
       "    </tr>\n",
       "    <tr>\n",
       "      <td>1</td>\n",
       "      <td>1</td>\n",
       "      <td>4024</td>\n",
       "      <td>36</td>\n",
       "      <td>1</td>\n",
       "      <td>0</td>\n",
       "      <td>F</td>\n",
       "      <td>сотрудник</td>\n",
       "      <td>0</td>\n",
       "      <td>112080</td>\n",
       "      <td>приобретение автомобиля</td>\n",
       "    </tr>\n",
       "    <tr>\n",
       "      <td>2</td>\n",
       "      <td>0</td>\n",
       "      <td>5623</td>\n",
       "      <td>33</td>\n",
       "      <td>1</td>\n",
       "      <td>0</td>\n",
       "      <td>M</td>\n",
       "      <td>сотрудник</td>\n",
       "      <td>0</td>\n",
       "      <td>145885</td>\n",
       "      <td>покупка жилья</td>\n",
       "    </tr>\n",
       "    <tr>\n",
       "      <td>3</td>\n",
       "      <td>3</td>\n",
       "      <td>4124</td>\n",
       "      <td>32</td>\n",
       "      <td>1</td>\n",
       "      <td>0</td>\n",
       "      <td>M</td>\n",
       "      <td>сотрудник</td>\n",
       "      <td>0</td>\n",
       "      <td>267628</td>\n",
       "      <td>дополнительное образование</td>\n",
       "    </tr>\n",
       "    <tr>\n",
       "      <td>4</td>\n",
       "      <td>0</td>\n",
       "      <td>340266</td>\n",
       "      <td>53</td>\n",
       "      <td>1</td>\n",
       "      <td>1</td>\n",
       "      <td>F</td>\n",
       "      <td>пенсионер</td>\n",
       "      <td>0</td>\n",
       "      <td>158616</td>\n",
       "      <td>сыграть свадьбу</td>\n",
       "    </tr>\n",
       "    <tr>\n",
       "      <td>5</td>\n",
       "      <td>0</td>\n",
       "      <td>926</td>\n",
       "      <td>27</td>\n",
       "      <td>0</td>\n",
       "      <td>1</td>\n",
       "      <td>M</td>\n",
       "      <td>компаньон</td>\n",
       "      <td>0</td>\n",
       "      <td>255763</td>\n",
       "      <td>покупка жилья</td>\n",
       "    </tr>\n",
       "    <tr>\n",
       "      <td>6</td>\n",
       "      <td>0</td>\n",
       "      <td>2879</td>\n",
       "      <td>43</td>\n",
       "      <td>0</td>\n",
       "      <td>0</td>\n",
       "      <td>F</td>\n",
       "      <td>компаньон</td>\n",
       "      <td>0</td>\n",
       "      <td>240525</td>\n",
       "      <td>операции с жильем</td>\n",
       "    </tr>\n",
       "    <tr>\n",
       "      <td>7</td>\n",
       "      <td>0</td>\n",
       "      <td>152</td>\n",
       "      <td>50</td>\n",
       "      <td>1</td>\n",
       "      <td>0</td>\n",
       "      <td>M</td>\n",
       "      <td>сотрудник</td>\n",
       "      <td>0</td>\n",
       "      <td>135823</td>\n",
       "      <td>образование</td>\n",
       "    </tr>\n",
       "    <tr>\n",
       "      <td>8</td>\n",
       "      <td>2</td>\n",
       "      <td>6929</td>\n",
       "      <td>35</td>\n",
       "      <td>0</td>\n",
       "      <td>1</td>\n",
       "      <td>F</td>\n",
       "      <td>сотрудник</td>\n",
       "      <td>0</td>\n",
       "      <td>95856</td>\n",
       "      <td>на проведение свадьбы</td>\n",
       "    </tr>\n",
       "    <tr>\n",
       "      <td>9</td>\n",
       "      <td>0</td>\n",
       "      <td>2188</td>\n",
       "      <td>41</td>\n",
       "      <td>1</td>\n",
       "      <td>0</td>\n",
       "      <td>M</td>\n",
       "      <td>сотрудник</td>\n",
       "      <td>0</td>\n",
       "      <td>144425</td>\n",
       "      <td>покупка жилья для семьи</td>\n",
       "    </tr>\n",
       "  </tbody>\n",
       "</table>\n",
       "</div>"
      ],
      "text/plain": [
       "   children  days_employed  dob_years  education_id  family_status_id gender  \\\n",
       "0         1           8437         42             0                 0      F   \n",
       "1         1           4024         36             1                 0      F   \n",
       "2         0           5623         33             1                 0      M   \n",
       "3         3           4124         32             1                 0      M   \n",
       "4         0         340266         53             1                 1      F   \n",
       "5         0            926         27             0                 1      M   \n",
       "6         0           2879         43             0                 0      F   \n",
       "7         0            152         50             1                 0      M   \n",
       "8         2           6929         35             0                 1      F   \n",
       "9         0           2188         41             1                 0      M   \n",
       "\n",
       "  income_type  debt  total_income                     purpose  \n",
       "0   сотрудник     0        253875               покупка жилья  \n",
       "1   сотрудник     0        112080     приобретение автомобиля  \n",
       "2   сотрудник     0        145885               покупка жилья  \n",
       "3   сотрудник     0        267628  дополнительное образование  \n",
       "4   пенсионер     0        158616             сыграть свадьбу  \n",
       "5   компаньон     0        255763               покупка жилья  \n",
       "6   компаньон     0        240525           операции с жильем  \n",
       "7   сотрудник     0        135823                 образование  \n",
       "8   сотрудник     0         95856       на проведение свадьбы  \n",
       "9   сотрудник     0        144425     покупка жилья для семьи  "
      ]
     },
     "metadata": {},
     "output_type": "display_data"
    }
   ],
   "source": [
    "# сохраняем в таблице дата все столбцы кроме family_status и education\n",
    "data = data[['children', 'days_employed', 'dob_years',\n",
    "             'education_id', 'family_status_id','gender', \n",
    "             'income_type', 'debt', 'total_income', 'purpose']]\n",
    "\n",
    "# выводим полученную таблицу на экран\n",
    "display(data.head(10))"
   ]
  },
  {
   "cell_type": "markdown",
   "id": "6ccad4a4",
   "metadata": {},
   "source": [
    "***Вывод***\n",
    "\n",
    "Для удобства дальнейшей работы сформированы два словаря. Уменьшена основная таблица. "
   ]
  },
  {
   "cell_type": "markdown",
   "id": "5e6b0e87",
   "metadata": {},
   "source": [
    "### Шаг 2.6. Категоризация дохода."
   ]
  },
  {
   "cell_type": "markdown",
   "id": "bb917157",
   "metadata": {},
   "source": [
    "Для удобства анализа данных разделим всех граждан на категории в зависимости от уровня дохода:\n",
    "\n",
    "    - 0–30000 — `'E'`;\n",
    "    - 30001–50000 — `'D'`;\n",
    "    - 50001–200000 — `'C'`;\n",
    "    - 200001–1000000 — `'B'`;\n",
    "    - 1000001 и выше — `'A'`.   "
   ]
  },
  {
   "cell_type": "code",
   "execution_count": 30,
   "id": "818a95c2",
   "metadata": {},
   "outputs": [],
   "source": [
    "def total_group(total_income):\n",
    "    \n",
    "    '''\n",
    "    Функция возвращает категорию граждан в зависимости от уровня дохода:\n",
    "    Категория Е - пользователи с доходом меньше или равным 30 000\n",
    "    Категория D - пользователи с доходом от 30 001 до 50 000 (включая эти значения)\n",
    "    Категория C - пользователи с доходом от 50 001 до 200 000 (включая эти значения)\n",
    "    Категория B - пользователи с доходом от 200 001 до 1 000 000 (включая эти значения)\n",
    "    Категория А - пользователи с доходом больше или равным 1 000 001\n",
    "    \n",
    "    '''\n",
    "    \n",
    "    if total_income <= 30000:\n",
    "        return 'E'\n",
    "    if 30001 <= total_income <= 50000:\n",
    "        return 'D'\n",
    "    if 50001 <= total_income <= 200000:\n",
    "        return 'C'\n",
    "    if 200001 <= total_income <= 1000000:\n",
    "        return 'B'\n",
    "    if total_income >= 1000001:\n",
    "        return 'A'"
   ]
  },
  {
   "cell_type": "markdown",
   "id": "f776dcc4",
   "metadata": {},
   "source": [
    "Добавим дополнительный столбец в таблицу data и внесем в него данные по категориям:"
   ]
  },
  {
   "cell_type": "code",
   "execution_count": 31,
   "id": "9cfda373",
   "metadata": {},
   "outputs": [
    {
     "data": {
      "text/html": [
       "<div>\n",
       "<style scoped>\n",
       "    .dataframe tbody tr th:only-of-type {\n",
       "        vertical-align: middle;\n",
       "    }\n",
       "\n",
       "    .dataframe tbody tr th {\n",
       "        vertical-align: top;\n",
       "    }\n",
       "\n",
       "    .dataframe thead th {\n",
       "        text-align: right;\n",
       "    }\n",
       "</style>\n",
       "<table border=\"1\" class=\"dataframe\">\n",
       "  <thead>\n",
       "    <tr style=\"text-align: right;\">\n",
       "      <th></th>\n",
       "      <th>children</th>\n",
       "      <th>days_employed</th>\n",
       "      <th>dob_years</th>\n",
       "      <th>education_id</th>\n",
       "      <th>family_status_id</th>\n",
       "      <th>gender</th>\n",
       "      <th>income_type</th>\n",
       "      <th>debt</th>\n",
       "      <th>total_income</th>\n",
       "      <th>purpose</th>\n",
       "      <th>total_income_category</th>\n",
       "    </tr>\n",
       "  </thead>\n",
       "  <tbody>\n",
       "    <tr>\n",
       "      <td>0</td>\n",
       "      <td>1</td>\n",
       "      <td>8437</td>\n",
       "      <td>42</td>\n",
       "      <td>0</td>\n",
       "      <td>0</td>\n",
       "      <td>F</td>\n",
       "      <td>сотрудник</td>\n",
       "      <td>0</td>\n",
       "      <td>253875</td>\n",
       "      <td>покупка жилья</td>\n",
       "      <td>B</td>\n",
       "    </tr>\n",
       "    <tr>\n",
       "      <td>1</td>\n",
       "      <td>1</td>\n",
       "      <td>4024</td>\n",
       "      <td>36</td>\n",
       "      <td>1</td>\n",
       "      <td>0</td>\n",
       "      <td>F</td>\n",
       "      <td>сотрудник</td>\n",
       "      <td>0</td>\n",
       "      <td>112080</td>\n",
       "      <td>приобретение автомобиля</td>\n",
       "      <td>C</td>\n",
       "    </tr>\n",
       "    <tr>\n",
       "      <td>2</td>\n",
       "      <td>0</td>\n",
       "      <td>5623</td>\n",
       "      <td>33</td>\n",
       "      <td>1</td>\n",
       "      <td>0</td>\n",
       "      <td>M</td>\n",
       "      <td>сотрудник</td>\n",
       "      <td>0</td>\n",
       "      <td>145885</td>\n",
       "      <td>покупка жилья</td>\n",
       "      <td>C</td>\n",
       "    </tr>\n",
       "    <tr>\n",
       "      <td>3</td>\n",
       "      <td>3</td>\n",
       "      <td>4124</td>\n",
       "      <td>32</td>\n",
       "      <td>1</td>\n",
       "      <td>0</td>\n",
       "      <td>M</td>\n",
       "      <td>сотрудник</td>\n",
       "      <td>0</td>\n",
       "      <td>267628</td>\n",
       "      <td>дополнительное образование</td>\n",
       "      <td>B</td>\n",
       "    </tr>\n",
       "    <tr>\n",
       "      <td>4</td>\n",
       "      <td>0</td>\n",
       "      <td>340266</td>\n",
       "      <td>53</td>\n",
       "      <td>1</td>\n",
       "      <td>1</td>\n",
       "      <td>F</td>\n",
       "      <td>пенсионер</td>\n",
       "      <td>0</td>\n",
       "      <td>158616</td>\n",
       "      <td>сыграть свадьбу</td>\n",
       "      <td>C</td>\n",
       "    </tr>\n",
       "    <tr>\n",
       "      <td>5</td>\n",
       "      <td>0</td>\n",
       "      <td>926</td>\n",
       "      <td>27</td>\n",
       "      <td>0</td>\n",
       "      <td>1</td>\n",
       "      <td>M</td>\n",
       "      <td>компаньон</td>\n",
       "      <td>0</td>\n",
       "      <td>255763</td>\n",
       "      <td>покупка жилья</td>\n",
       "      <td>B</td>\n",
       "    </tr>\n",
       "    <tr>\n",
       "      <td>6</td>\n",
       "      <td>0</td>\n",
       "      <td>2879</td>\n",
       "      <td>43</td>\n",
       "      <td>0</td>\n",
       "      <td>0</td>\n",
       "      <td>F</td>\n",
       "      <td>компаньон</td>\n",
       "      <td>0</td>\n",
       "      <td>240525</td>\n",
       "      <td>операции с жильем</td>\n",
       "      <td>B</td>\n",
       "    </tr>\n",
       "    <tr>\n",
       "      <td>7</td>\n",
       "      <td>0</td>\n",
       "      <td>152</td>\n",
       "      <td>50</td>\n",
       "      <td>1</td>\n",
       "      <td>0</td>\n",
       "      <td>M</td>\n",
       "      <td>сотрудник</td>\n",
       "      <td>0</td>\n",
       "      <td>135823</td>\n",
       "      <td>образование</td>\n",
       "      <td>C</td>\n",
       "    </tr>\n",
       "    <tr>\n",
       "      <td>8</td>\n",
       "      <td>2</td>\n",
       "      <td>6929</td>\n",
       "      <td>35</td>\n",
       "      <td>0</td>\n",
       "      <td>1</td>\n",
       "      <td>F</td>\n",
       "      <td>сотрудник</td>\n",
       "      <td>0</td>\n",
       "      <td>95856</td>\n",
       "      <td>на проведение свадьбы</td>\n",
       "      <td>C</td>\n",
       "    </tr>\n",
       "    <tr>\n",
       "      <td>9</td>\n",
       "      <td>0</td>\n",
       "      <td>2188</td>\n",
       "      <td>41</td>\n",
       "      <td>1</td>\n",
       "      <td>0</td>\n",
       "      <td>M</td>\n",
       "      <td>сотрудник</td>\n",
       "      <td>0</td>\n",
       "      <td>144425</td>\n",
       "      <td>покупка жилья для семьи</td>\n",
       "      <td>C</td>\n",
       "    </tr>\n",
       "  </tbody>\n",
       "</table>\n",
       "</div>"
      ],
      "text/plain": [
       "   children  days_employed  dob_years  education_id  family_status_id gender  \\\n",
       "0         1           8437         42             0                 0      F   \n",
       "1         1           4024         36             1                 0      F   \n",
       "2         0           5623         33             1                 0      M   \n",
       "3         3           4124         32             1                 0      M   \n",
       "4         0         340266         53             1                 1      F   \n",
       "5         0            926         27             0                 1      M   \n",
       "6         0           2879         43             0                 0      F   \n",
       "7         0            152         50             1                 0      M   \n",
       "8         2           6929         35             0                 1      F   \n",
       "9         0           2188         41             1                 0      M   \n",
       "\n",
       "  income_type  debt  total_income                     purpose  \\\n",
       "0   сотрудник     0        253875               покупка жилья   \n",
       "1   сотрудник     0        112080     приобретение автомобиля   \n",
       "2   сотрудник     0        145885               покупка жилья   \n",
       "3   сотрудник     0        267628  дополнительное образование   \n",
       "4   пенсионер     0        158616             сыграть свадьбу   \n",
       "5   компаньон     0        255763               покупка жилья   \n",
       "6   компаньон     0        240525           операции с жильем   \n",
       "7   сотрудник     0        135823                 образование   \n",
       "8   сотрудник     0         95856       на проведение свадьбы   \n",
       "9   сотрудник     0        144425     покупка жилья для семьи   \n",
       "\n",
       "  total_income_category  \n",
       "0                     B  \n",
       "1                     C  \n",
       "2                     C  \n",
       "3                     B  \n",
       "4                     C  \n",
       "5                     B  \n",
       "6                     B  \n",
       "7                     C  \n",
       "8                     C  \n",
       "9                     C  "
      ]
     },
     "metadata": {},
     "output_type": "display_data"
    }
   ],
   "source": [
    "# добавляем в таблицу data столбец total_income_category \n",
    "# в него вносим значения из столбца total_income,к которым применим функцию\n",
    "data['total_income_category'] = data['total_income'].apply(total_group)\n",
    "\n",
    "# выведем таблицу с новым столбцом на экран\n",
    "display(data.head(10))"
   ]
  },
  {
   "cell_type": "markdown",
   "id": "02973764",
   "metadata": {},
   "source": [
    "***Выводы***\n",
    "\n",
    "Наиболее удобно для ответа на поставленные вопросы разделить граждан на категории в зависимости от уровня дохода. \n",
    "С помощью этого мы сможем в дальнейшем сгруппировать данные в зависимости от категории, и дать окончательные рекомендации на этом основании."
   ]
  },
  {
   "cell_type": "markdown",
   "id": "194e10e3",
   "metadata": {},
   "source": [
    "### Шаг 2.7. Категоризация целей кредита."
   ]
  },
  {
   "cell_type": "markdown",
   "id": "d8b3df10",
   "metadata": {},
   "source": [
    "Еще на этапе удаления дубликатов мы отметили, что в столбце purpose есть неявные дубликаты. Вероятно, при заполнении анкет нет единой формы уточнения причин взятия кредита. Соответственно каждый заполняющий ее формулирует причину по-своему. \n",
    "Проверим какие есть уникальные значения в данных о цели взятия кредита:"
   ]
  },
  {
   "cell_type": "code",
   "execution_count": 32,
   "id": "5358d3e6",
   "metadata": {},
   "outputs": [
    {
     "data": {
      "text/plain": [
       "array(['покупка жилья', 'приобретение автомобиля',\n",
       "       'дополнительное образование', 'сыграть свадьбу',\n",
       "       'операции с жильем', 'образование', 'на проведение свадьбы',\n",
       "       'покупка жилья для семьи', 'покупка недвижимости',\n",
       "       'покупка коммерческой недвижимости', 'покупка жилой недвижимости',\n",
       "       'строительство собственной недвижимости', 'недвижимость',\n",
       "       'строительство недвижимости', 'на покупку подержанного автомобиля',\n",
       "       'на покупку своего автомобиля',\n",
       "       'операции с коммерческой недвижимостью',\n",
       "       'строительство жилой недвижимости', 'жилье',\n",
       "       'операции со своей недвижимостью', 'автомобили',\n",
       "       'заняться образованием', 'сделка с подержанным автомобилем',\n",
       "       'получение образования', 'автомобиль', 'свадьба',\n",
       "       'получение дополнительного образования', 'покупка своего жилья',\n",
       "       'операции с недвижимостью', 'получение высшего образования',\n",
       "       'свой автомобиль', 'сделка с автомобилем',\n",
       "       'профильное образование', 'высшее образование',\n",
       "       'покупка жилья для сдачи', 'на покупку автомобиля', 'ремонт жилью',\n",
       "       'заняться высшим образованием'], dtype=object)"
      ]
     },
     "execution_count": 32,
     "metadata": {},
     "output_type": "execute_result"
    }
   ],
   "source": [
    "# проверка уникальных значений столбца purpose\n",
    "data['purpose'].unique()"
   ]
  },
  {
   "cell_type": "markdown",
   "id": "0bab6d3d",
   "metadata": {},
   "source": [
    "Все значения столбца с причинами взятия кредита можно объединить в три категории:\n",
    "\n",
    "Образование: дополнительное образование, заняться образованием, получение образования, получение дополнительного образования, получение высшего образования, профильное образование, высшее образование, заняться высшим образованием\n",
    "\n",
    "Недвижимость: покупка жилья, операции с жильем, покупка жилья для семьи, покупка недвижимости, покупка коммерческой недвижимости, покупка жилой недвижимости, строительство собственной недвижимости, строительство недвижимости, операции с коммерческой недвижимостью, строительство жилой недвижимости, жилье, операции со своей недвижимостью, покупка своего жилья, операции с недвижимостью, покупка жилья для сдачи, ремонт жилью\n",
    "\n",
    "Автомобиль: приобретение автомобиля, на покупку подержанного автомобиля, на покупку своего автомобиля, автомобили, сделка с подержанным автомобилем, свой автомобиль, сделка с автомобилем, на покупку автомобиля\n",
    "\n",
    "Свадьба: сыграть свадьбу, на проведение свадьбы\n",
    "\n",
    "Создадим функцию, чтобы привести разные формулировки причин взятия кредита к единому значению в зависимости от категории:"
   ]
  },
  {
   "cell_type": "code",
   "execution_count": 33,
   "id": "045b25a3",
   "metadata": {},
   "outputs": [],
   "source": [
    "def purpose_categorizer(purpose):\n",
    "    '''\n",
    "    Функция возвращает новое более обобщенное название категории в зависимости от данных в столбце purpose:\n",
    "    - если в столбце purpose есть слово 'автомобил' - 'операции с автомобилем'\n",
    "    - если в столбце purpose есть слово 'свадьб' - 'проведение свадьбы'\n",
    "    - если в столбце purpose есть слово 'образован' - 'получение образования'\n",
    "    - если в столбце purpose нет ранее указанных значений - 'операции с недвижимостью'\n",
    "    \n",
    "    '''\n",
    "    for row in data['purpose']:\n",
    "            if 'автомобил' in purpose:\n",
    "                return 'операции с автомобилем'\n",
    "            if 'свадьб' in purpose:\n",
    "                return 'проведение свадьбы'\n",
    "            if 'образован' in purpose:\n",
    "                return 'получение образования'\n",
    "            return 'операции с недвижимостью'"
   ]
  },
  {
   "cell_type": "markdown",
   "id": "1a162597",
   "metadata": {},
   "source": [
    "Добавим в таблицу дополнительный столбец purpose_category и внесем в него обобщенную формулировку причины взятия кредита:"
   ]
  },
  {
   "cell_type": "code",
   "execution_count": 34,
   "id": "df710ea9",
   "metadata": {},
   "outputs": [
    {
     "data": {
      "text/html": [
       "<div>\n",
       "<style scoped>\n",
       "    .dataframe tbody tr th:only-of-type {\n",
       "        vertical-align: middle;\n",
       "    }\n",
       "\n",
       "    .dataframe tbody tr th {\n",
       "        vertical-align: top;\n",
       "    }\n",
       "\n",
       "    .dataframe thead th {\n",
       "        text-align: right;\n",
       "    }\n",
       "</style>\n",
       "<table border=\"1\" class=\"dataframe\">\n",
       "  <thead>\n",
       "    <tr style=\"text-align: right;\">\n",
       "      <th></th>\n",
       "      <th>children</th>\n",
       "      <th>days_employed</th>\n",
       "      <th>dob_years</th>\n",
       "      <th>education_id</th>\n",
       "      <th>family_status_id</th>\n",
       "      <th>gender</th>\n",
       "      <th>income_type</th>\n",
       "      <th>debt</th>\n",
       "      <th>total_income</th>\n",
       "      <th>purpose</th>\n",
       "      <th>total_income_category</th>\n",
       "      <th>purpose_category</th>\n",
       "    </tr>\n",
       "  </thead>\n",
       "  <tbody>\n",
       "    <tr>\n",
       "      <td>0</td>\n",
       "      <td>1</td>\n",
       "      <td>8437</td>\n",
       "      <td>42</td>\n",
       "      <td>0</td>\n",
       "      <td>0</td>\n",
       "      <td>F</td>\n",
       "      <td>сотрудник</td>\n",
       "      <td>0</td>\n",
       "      <td>253875</td>\n",
       "      <td>покупка жилья</td>\n",
       "      <td>B</td>\n",
       "      <td>операции с недвижимостью</td>\n",
       "    </tr>\n",
       "    <tr>\n",
       "      <td>1</td>\n",
       "      <td>1</td>\n",
       "      <td>4024</td>\n",
       "      <td>36</td>\n",
       "      <td>1</td>\n",
       "      <td>0</td>\n",
       "      <td>F</td>\n",
       "      <td>сотрудник</td>\n",
       "      <td>0</td>\n",
       "      <td>112080</td>\n",
       "      <td>приобретение автомобиля</td>\n",
       "      <td>C</td>\n",
       "      <td>операции с автомобилем</td>\n",
       "    </tr>\n",
       "    <tr>\n",
       "      <td>2</td>\n",
       "      <td>0</td>\n",
       "      <td>5623</td>\n",
       "      <td>33</td>\n",
       "      <td>1</td>\n",
       "      <td>0</td>\n",
       "      <td>M</td>\n",
       "      <td>сотрудник</td>\n",
       "      <td>0</td>\n",
       "      <td>145885</td>\n",
       "      <td>покупка жилья</td>\n",
       "      <td>C</td>\n",
       "      <td>операции с недвижимостью</td>\n",
       "    </tr>\n",
       "    <tr>\n",
       "      <td>3</td>\n",
       "      <td>3</td>\n",
       "      <td>4124</td>\n",
       "      <td>32</td>\n",
       "      <td>1</td>\n",
       "      <td>0</td>\n",
       "      <td>M</td>\n",
       "      <td>сотрудник</td>\n",
       "      <td>0</td>\n",
       "      <td>267628</td>\n",
       "      <td>дополнительное образование</td>\n",
       "      <td>B</td>\n",
       "      <td>получение образования</td>\n",
       "    </tr>\n",
       "    <tr>\n",
       "      <td>4</td>\n",
       "      <td>0</td>\n",
       "      <td>340266</td>\n",
       "      <td>53</td>\n",
       "      <td>1</td>\n",
       "      <td>1</td>\n",
       "      <td>F</td>\n",
       "      <td>пенсионер</td>\n",
       "      <td>0</td>\n",
       "      <td>158616</td>\n",
       "      <td>сыграть свадьбу</td>\n",
       "      <td>C</td>\n",
       "      <td>проведение свадьбы</td>\n",
       "    </tr>\n",
       "  </tbody>\n",
       "</table>\n",
       "</div>"
      ],
      "text/plain": [
       "   children  days_employed  dob_years  education_id  family_status_id gender  \\\n",
       "0         1           8437         42             0                 0      F   \n",
       "1         1           4024         36             1                 0      F   \n",
       "2         0           5623         33             1                 0      M   \n",
       "3         3           4124         32             1                 0      M   \n",
       "4         0         340266         53             1                 1      F   \n",
       "\n",
       "  income_type  debt  total_income                     purpose  \\\n",
       "0   сотрудник     0        253875               покупка жилья   \n",
       "1   сотрудник     0        112080     приобретение автомобиля   \n",
       "2   сотрудник     0        145885               покупка жилья   \n",
       "3   сотрудник     0        267628  дополнительное образование   \n",
       "4   пенсионер     0        158616             сыграть свадьбу   \n",
       "\n",
       "  total_income_category          purpose_category  \n",
       "0                     B  операции с недвижимостью  \n",
       "1                     C    операции с автомобилем  \n",
       "2                     C  операции с недвижимостью  \n",
       "3                     B     получение образования  \n",
       "4                     C        проведение свадьбы  "
      ]
     },
     "metadata": {},
     "output_type": "display_data"
    }
   ],
   "source": [
    "# создаем столбец purpose_category\n",
    "# в него вносим значения столбца purpose, к которым применили функцию для категоризации причин взятия кредита\n",
    "data['purpose_category'] = data['purpose'].apply(purpose_categorizer)\n",
    "\n",
    "# выведем первые 5 строк таблицы, с новым столбцом\n",
    "display(data.head())"
   ]
  },
  {
   "cell_type": "markdown",
   "id": "a312b01c",
   "metadata": {},
   "source": [
    "Проверим, что все строки в новом столбце заполнены:"
   ]
  },
  {
   "cell_type": "code",
   "execution_count": 35,
   "id": "7228c8d7",
   "metadata": {},
   "outputs": [
    {
     "name": "stdout",
     "output_type": "stream",
     "text": [
      "<class 'pandas.core.frame.DataFrame'>\n",
      "RangeIndex: 21453 entries, 0 to 21452\n",
      "Data columns (total 12 columns):\n",
      "children                 21453 non-null int64\n",
      "days_employed            21453 non-null int64\n",
      "dob_years                21453 non-null int64\n",
      "education_id             21453 non-null int64\n",
      "family_status_id         21453 non-null int64\n",
      "gender                   21453 non-null object\n",
      "income_type              21453 non-null object\n",
      "debt                     21453 non-null int64\n",
      "total_income             21453 non-null int64\n",
      "purpose                  21453 non-null object\n",
      "total_income_category    21453 non-null object\n",
      "purpose_category         21453 non-null object\n",
      "dtypes: int64(7), object(5)\n",
      "memory usage: 2.0+ MB\n"
     ]
    }
   ],
   "source": [
    "# выводим информацию о таблице data\n",
    "data.info()"
   ]
  },
  {
   "cell_type": "markdown",
   "id": "d980e5e1",
   "metadata": {},
   "source": [
    "***Вывод***\n",
    "\n",
    "Для дальнейшего корректного ответа на вопросы мы распределили всех граждан на 4 категории в зависимости от указанных ими причин взятия кредита. Это поможет нам при выводе данных. "
   ]
  },
  {
   "cell_type": "markdown",
   "id": "6393ca56",
   "metadata": {},
   "source": [
    "### Ответы на вопросы."
   ]
  },
  {
   "cell_type": "markdown",
   "id": "f1f6a520",
   "metadata": {},
   "source": [
    "##### Вопрос 1: Есть ли зависимость между количеством детей и возвратом кредита в срок?"
   ]
  },
  {
   "cell_type": "markdown",
   "id": "4fa489b4",
   "metadata": {},
   "source": [
    "Для ответа на вопрос сформируем таблицу. Выведем данные о количестве заемщиков в зависимости от количества детей в их семье. Также разделим заемщиков на тех кто вернул кредит в срок (0) и на те кто не вернул (1). \n",
    "\n",
    "Добавим дополнительный столбец, чтобы увидеть долю тех, кто не вернул кредит вовремя, от общего числа заемщиков. \n",
    "\n",
    "Выведем данные на экран:"
   ]
  },
  {
   "cell_type": "code",
   "execution_count": 36,
   "id": "96a47494",
   "metadata": {},
   "outputs": [
    {
     "data": {
      "text/html": [
       "<div>\n",
       "<style scoped>\n",
       "    .dataframe tbody tr th:only-of-type {\n",
       "        vertical-align: middle;\n",
       "    }\n",
       "\n",
       "    .dataframe tbody tr th {\n",
       "        vertical-align: top;\n",
       "    }\n",
       "\n",
       "    .dataframe thead th {\n",
       "        text-align: right;\n",
       "    }\n",
       "</style>\n",
       "<table border=\"1\" class=\"dataframe\">\n",
       "  <thead>\n",
       "    <tr style=\"text-align: right;\">\n",
       "      <th>debt</th>\n",
       "      <th>0</th>\n",
       "      <th>1</th>\n",
       "      <th>share_debtors</th>\n",
       "    </tr>\n",
       "    <tr>\n",
       "      <th>children</th>\n",
       "      <th></th>\n",
       "      <th></th>\n",
       "      <th></th>\n",
       "    </tr>\n",
       "  </thead>\n",
       "  <tbody>\n",
       "    <tr>\n",
       "      <td>0</td>\n",
       "      <td>13027.0</td>\n",
       "      <td>1063.0</td>\n",
       "      <td>0.075444</td>\n",
       "    </tr>\n",
       "    <tr>\n",
       "      <td>1</td>\n",
       "      <td>4410.0</td>\n",
       "      <td>445.0</td>\n",
       "      <td>0.091658</td>\n",
       "    </tr>\n",
       "    <tr>\n",
       "      <td>2</td>\n",
       "      <td>1858.0</td>\n",
       "      <td>194.0</td>\n",
       "      <td>0.094542</td>\n",
       "    </tr>\n",
       "    <tr>\n",
       "      <td>3</td>\n",
       "      <td>303.0</td>\n",
       "      <td>27.0</td>\n",
       "      <td>0.081818</td>\n",
       "    </tr>\n",
       "    <tr>\n",
       "      <td>4</td>\n",
       "      <td>37.0</td>\n",
       "      <td>4.0</td>\n",
       "      <td>0.097561</td>\n",
       "    </tr>\n",
       "    <tr>\n",
       "      <td>5</td>\n",
       "      <td>9.0</td>\n",
       "      <td>NaN</td>\n",
       "      <td>NaN</td>\n",
       "    </tr>\n",
       "    <tr>\n",
       "      <td>20</td>\n",
       "      <td>68.0</td>\n",
       "      <td>8.0</td>\n",
       "      <td>0.105263</td>\n",
       "    </tr>\n",
       "  </tbody>\n",
       "</table>\n",
       "</div>"
      ],
      "text/plain": [
       "debt            0       1  share_debtors\n",
       "children                                \n",
       "0         13027.0  1063.0       0.075444\n",
       "1          4410.0   445.0       0.091658\n",
       "2          1858.0   194.0       0.094542\n",
       "3           303.0    27.0       0.081818\n",
       "4            37.0     4.0       0.097561\n",
       "5             9.0     NaN            NaN\n",
       "20           68.0     8.0       0.105263"
      ]
     },
     "metadata": {},
     "output_type": "display_data"
    }
   ],
   "source": [
    "# создаем таблицу data_pivot_children\n",
    "# в таблице отображаем количество заемщиков в зависимости от количества детей\n",
    "data_pivot_children = data.pivot_table(index=['children'], columns='debt', values='education_id', aggfunc='count')\n",
    "# добавляем столбец share_debtors, который показывает долю тех кто не вернул кредит в срок от общего числа заемщиков\n",
    "data_pivot_children['share_debtors'] = data_pivot_children[1]/(data_pivot_children[1]+data_pivot_children[0])\n",
    "# выводим таблицу\n",
    "display(data_pivot_children)"
   ]
  },
  {
   "cell_type": "markdown",
   "id": "fbee8e8e",
   "metadata": {},
   "source": [
    "Исходя из данных мы видим, что количество детей не слишком влияет на срок возврата кредита:\n",
    "- В категориях граждан, у которых есть один или двое детей, доля не вернувших кредит в срок 9%\n",
    "- В категориях граждан, у которых четверо или двадцать детей, доля невозврата - 10%\n",
    "- В категории граждан с тремя детьми доля невозврата - 8%\n",
    "- В категории граждан, у которых нет детей, доля тех, кто не вернул средства в срок - 7%\n",
    "\n",
    "В категории с 5ю детьми данных по невозвратам кредита нет, поэтому посчитать долю нельзя. Можем лишь предположить, что доля невозвратов в их категории также будет на уровне 10%. "
   ]
  },
  {
   "cell_type": "markdown",
   "id": "ea9f786c",
   "metadata": {},
   "source": [
    "##### Вывод 2: Есть ли зависимость между семейным положением и возвратом кредита в срок?"
   ]
  },
  {
   "cell_type": "markdown",
   "id": "b07cc244",
   "metadata": {},
   "source": [
    "Сформируем таблицу с количеством заемщиков с разным семейным положением. Отдельно посчитаем тех, кто вернул средства в срок (0), и тех кто задержал выплаты (1). \n",
    "Добавим данные о доли заемщиков с разным семейным положением, не вернувших кредит вовремя, от общего числа заемщиков той же категории. \n",
    "\n",
    "Выведем данные:"
   ]
  },
  {
   "cell_type": "code",
   "execution_count": 37,
   "id": "a29c9eac",
   "metadata": {},
   "outputs": [
    {
     "data": {
      "text/html": [
       "<div>\n",
       "<style scoped>\n",
       "    .dataframe tbody tr th:only-of-type {\n",
       "        vertical-align: middle;\n",
       "    }\n",
       "\n",
       "    .dataframe tbody tr th {\n",
       "        vertical-align: top;\n",
       "    }\n",
       "\n",
       "    .dataframe thead th {\n",
       "        text-align: right;\n",
       "    }\n",
       "</style>\n",
       "<table border=\"1\" class=\"dataframe\">\n",
       "  <thead>\n",
       "    <tr style=\"text-align: right;\">\n",
       "      <th></th>\n",
       "      <th>0</th>\n",
       "      <th>1</th>\n",
       "      <th>share_debtors</th>\n",
       "      <th>family_status</th>\n",
       "    </tr>\n",
       "  </thead>\n",
       "  <tbody>\n",
       "    <tr>\n",
       "      <td>0</td>\n",
       "      <td>11408</td>\n",
       "      <td>931</td>\n",
       "      <td>0.075452</td>\n",
       "      <td>женат / замужем</td>\n",
       "    </tr>\n",
       "    <tr>\n",
       "      <td>1</td>\n",
       "      <td>3762</td>\n",
       "      <td>388</td>\n",
       "      <td>0.093494</td>\n",
       "      <td>гражданский брак</td>\n",
       "    </tr>\n",
       "    <tr>\n",
       "      <td>2</td>\n",
       "      <td>896</td>\n",
       "      <td>63</td>\n",
       "      <td>0.065693</td>\n",
       "      <td>вдовец / вдова</td>\n",
       "    </tr>\n",
       "    <tr>\n",
       "      <td>3</td>\n",
       "      <td>1110</td>\n",
       "      <td>85</td>\n",
       "      <td>0.071130</td>\n",
       "      <td>в разводе</td>\n",
       "    </tr>\n",
       "    <tr>\n",
       "      <td>4</td>\n",
       "      <td>2536</td>\n",
       "      <td>274</td>\n",
       "      <td>0.097509</td>\n",
       "      <td>Не женат / не замужем</td>\n",
       "    </tr>\n",
       "  </tbody>\n",
       "</table>\n",
       "</div>"
      ],
      "text/plain": [
       "       0    1  share_debtors          family_status\n",
       "0  11408  931       0.075452        женат / замужем\n",
       "1   3762  388       0.093494       гражданский брак\n",
       "2    896   63       0.065693         вдовец / вдова\n",
       "3   1110   85       0.071130              в разводе\n",
       "4   2536  274       0.097509  Не женат / не замужем"
      ]
     },
     "metadata": {},
     "output_type": "display_data"
    }
   ],
   "source": [
    "# создаем таблицу data_pivot_family_status\n",
    "# в таблице отображаем количество заемщиков в зависимости от id семейного статуса\n",
    "data_pivot_family_status = data.pivot_table(index=['family_status_id'], columns='debt', values='education_id', aggfunc='count')\n",
    "# добавляем столбец share_debtors с долей заемщиков, которые не вернули кредит в срок, от общего количества заемщиков в категории\n",
    "data_pivot_family_status['share_debtors'] = data_pivot_family_status[1]/(data_pivot_family_status[1]+data_pivot_family_status[0])\n",
    "# объединяем таблицу data_pivot_family_status с таблицей data_family_status\n",
    "data_pivot_family_status = data_pivot_family_status.merge(data_family_status, on='family_status_id', how='left')\n",
    "# для красоты визуализации удаляем столбец с family_status_id\n",
    "data_pivot_family_status = data_pivot_family_status.drop('family_status_id',axis=1)\n",
    "# выводим таблицу\n",
    "display(data_pivot_family_status)"
   ]
  },
  {
   "cell_type": "markdown",
   "id": "e72c4427",
   "metadata": {},
   "source": [
    "Большой разницы в возврате кредита в зависимости от семейного положения нет. \n",
    "\n",
    "Заемщики, которые ранее не были женаты\\замужем, и заемщики, находящиеся в гражданском браке, немного чаще не выплачивают кредит в срок (9% не вернувших вовремя в каждой из категорий). \n",
    "\n",
    "Замужние\\женатые заемщики, вдовцы\\вдовы и те, кто в разводе возвращают кредит в срок совсем немного чаще (7% не вернувших вовремя в этих категориях)"
   ]
  },
  {
   "cell_type": "markdown",
   "id": "9600b8f1",
   "metadata": {},
   "source": [
    "##### Вопрос 3: Есть ли зависимость между уровнем дохода и возвратом кредита в срок?"
   ]
  },
  {
   "cell_type": "markdown",
   "id": "6f17ebad",
   "metadata": {},
   "source": [
    "Для проверки данной гипотезы создадим таблицу data_pivot_income. \n",
    "Выведем данные о количестве заемщиков в зависимости от дохода. Также разделим заемщиков на тех, кто вернул кредит в срок (0) и на те кто не вернул (1).\n",
    "\n",
    "Добавим дополнительный столбец, чтобы увидеть долю тех, кто не вернул кредит вовремя от общего числа заемщиков.\n",
    "\n",
    "Выведем данные:"
   ]
  },
  {
   "cell_type": "code",
   "execution_count": 38,
   "id": "594c5d06",
   "metadata": {},
   "outputs": [
    {
     "data": {
      "text/html": [
       "<div>\n",
       "<style scoped>\n",
       "    .dataframe tbody tr th:only-of-type {\n",
       "        vertical-align: middle;\n",
       "    }\n",
       "\n",
       "    .dataframe tbody tr th {\n",
       "        vertical-align: top;\n",
       "    }\n",
       "\n",
       "    .dataframe thead th {\n",
       "        text-align: right;\n",
       "    }\n",
       "</style>\n",
       "<table border=\"1\" class=\"dataframe\">\n",
       "  <thead>\n",
       "    <tr style=\"text-align: right;\">\n",
       "      <th>debt</th>\n",
       "      <th>0</th>\n",
       "      <th>1</th>\n",
       "      <th>share_debtors</th>\n",
       "    </tr>\n",
       "    <tr>\n",
       "      <th>total_income_category</th>\n",
       "      <th></th>\n",
       "      <th></th>\n",
       "      <th></th>\n",
       "    </tr>\n",
       "  </thead>\n",
       "  <tbody>\n",
       "    <tr>\n",
       "      <td>A</td>\n",
       "      <td>23</td>\n",
       "      <td>2</td>\n",
       "      <td>0.080000</td>\n",
       "    </tr>\n",
       "    <tr>\n",
       "      <td>B</td>\n",
       "      <td>4684</td>\n",
       "      <td>356</td>\n",
       "      <td>0.070635</td>\n",
       "    </tr>\n",
       "    <tr>\n",
       "      <td>C</td>\n",
       "      <td>14656</td>\n",
       "      <td>1360</td>\n",
       "      <td>0.084915</td>\n",
       "    </tr>\n",
       "    <tr>\n",
       "      <td>D</td>\n",
       "      <td>329</td>\n",
       "      <td>21</td>\n",
       "      <td>0.060000</td>\n",
       "    </tr>\n",
       "    <tr>\n",
       "      <td>E</td>\n",
       "      <td>20</td>\n",
       "      <td>2</td>\n",
       "      <td>0.090909</td>\n",
       "    </tr>\n",
       "  </tbody>\n",
       "</table>\n",
       "</div>"
      ],
      "text/plain": [
       "debt                       0     1  share_debtors\n",
       "total_income_category                            \n",
       "A                         23     2       0.080000\n",
       "B                       4684   356       0.070635\n",
       "C                      14656  1360       0.084915\n",
       "D                        329    21       0.060000\n",
       "E                         20     2       0.090909"
      ]
     },
     "metadata": {},
     "output_type": "display_data"
    }
   ],
   "source": [
    "# создаем таблицу data_pivot_income\n",
    "# в таблице отображаем количество заемщиков в зависимости от категории дохода\n",
    "data_pivot_income = data.pivot_table(index=['total_income_category'], columns='debt', values='education_id', aggfunc='count')\n",
    "# добавляем столбец share_debtors с долей заемщиков, которые не вернули кредит в срок, от общего количества заемщиков в категории\n",
    "data_pivot_income['share_debtors'] = data_pivot_income[1]/(data_pivot_income[1]+data_pivot_income[0])\n",
    "# выведем данные на экран\n",
    "display(data_pivot_income)"
   ]
  },
  {
   "cell_type": "markdown",
   "id": "9dc63519",
   "metadata": {},
   "source": [
    "Сильной разницы в том, какая именно категория хуже возвращает кредит нет. Разрыв совсем небольшой.\n",
    "\n",
    "Из текущих данных видно, что хуже всего возвращают кредиты заемщики с доходом менее или равным 30 000, и заемщики с доходами от 50 001 до 200 00 (9% не вернули в срок). \n",
    "Лучше остальных категорий возвращают средства в срок заемщики с доходом от 30 001 до 50 000 (6% не вернули в срок)"
   ]
  },
  {
   "cell_type": "markdown",
   "id": "f3f7846d",
   "metadata": {},
   "source": [
    "##### Вопрос 4: Как разные цели кредита влияют на его возврат в срок?"
   ]
  },
  {
   "cell_type": "markdown",
   "id": "02e7fcb8",
   "metadata": {},
   "source": [
    "Сформируем таблицу с количеством заемщиков с разными целями кредита. Отдельно посчитаем тех, кто вернул средства в срок (0), и тех кто задержал выплаты (1). Добавим данные о доли заемщиков с разными целями кредита, не вернувших кредит вовремя от общего числа заемщиков той же категории.\n",
    "\n",
    "Выведем данные:"
   ]
  },
  {
   "cell_type": "code",
   "execution_count": 39,
   "id": "d68e9262",
   "metadata": {},
   "outputs": [
    {
     "data": {
      "text/html": [
       "<div>\n",
       "<style scoped>\n",
       "    .dataframe tbody tr th:only-of-type {\n",
       "        vertical-align: middle;\n",
       "    }\n",
       "\n",
       "    .dataframe tbody tr th {\n",
       "        vertical-align: top;\n",
       "    }\n",
       "\n",
       "    .dataframe thead th {\n",
       "        text-align: right;\n",
       "    }\n",
       "</style>\n",
       "<table border=\"1\" class=\"dataframe\">\n",
       "  <thead>\n",
       "    <tr style=\"text-align: right;\">\n",
       "      <th>debt</th>\n",
       "      <th>0</th>\n",
       "      <th>1</th>\n",
       "      <th>share_debtors</th>\n",
       "    </tr>\n",
       "    <tr>\n",
       "      <th>purpose_category</th>\n",
       "      <th></th>\n",
       "      <th></th>\n",
       "      <th></th>\n",
       "    </tr>\n",
       "  </thead>\n",
       "  <tbody>\n",
       "    <tr>\n",
       "      <td>операции с автомобилем</td>\n",
       "      <td>3903</td>\n",
       "      <td>403</td>\n",
       "      <td>0.093590</td>\n",
       "    </tr>\n",
       "    <tr>\n",
       "      <td>операции с недвижимостью</td>\n",
       "      <td>10028</td>\n",
       "      <td>782</td>\n",
       "      <td>0.072340</td>\n",
       "    </tr>\n",
       "    <tr>\n",
       "      <td>получение образования</td>\n",
       "      <td>3643</td>\n",
       "      <td>370</td>\n",
       "      <td>0.092200</td>\n",
       "    </tr>\n",
       "    <tr>\n",
       "      <td>проведение свадьбы</td>\n",
       "      <td>2138</td>\n",
       "      <td>186</td>\n",
       "      <td>0.080034</td>\n",
       "    </tr>\n",
       "  </tbody>\n",
       "</table>\n",
       "</div>"
      ],
      "text/plain": [
       "debt                          0    1  share_debtors\n",
       "purpose_category                                   \n",
       "операции с автомобилем     3903  403       0.093590\n",
       "операции с недвижимостью  10028  782       0.072340\n",
       "получение образования      3643  370       0.092200\n",
       "проведение свадьбы         2138  186       0.080034"
      ]
     },
     "metadata": {},
     "output_type": "display_data"
    }
   ],
   "source": [
    "# создаем таблицу data_pivot_purpose\n",
    "# в таблице отображаем количество заемщиков в зависимости от цели получения кредита\n",
    "data_pivot_purpose = data.pivot_table(index=['purpose_category'], columns='debt', values='education_id', aggfunc='count')\n",
    "# добавляем столбец share_debtors с долей заемщиков, которые не вернули кредит в срок, от общего количества заемщиков в категории\n",
    "data_pivot_purpose['share_debtors'] = data_pivot_purpose[1]/(data_pivot_purpose[1]+data_pivot_purpose[0])\n",
    "# выведем таблицу\n",
    "display(data_pivot_purpose)"
   ]
  },
  {
   "cell_type": "markdown",
   "id": "f2296bd5",
   "metadata": {},
   "source": [
    "В целом тут также нет большого разброса данных. Хуже возвращают кредиты те кто взял их на операции с автомобилем и на получение образования (9% не возвращают в срок).\n",
    "Лучше остальных кредит в срок возвращают те, кто его брал на операции с недвижимостью (7% не возвращают в срок)"
   ]
  },
  {
   "cell_type": "markdown",
   "id": "37fd7a9d",
   "metadata": {},
   "source": [
    "## Общий вывод:"
   ]
  },
  {
   "cell_type": "markdown",
   "id": "04edb6f1",
   "metadata": {},
   "source": [
    "Большая часть заемщиков возвращает кредиты в срок, поэтому разрывы между значениями крайне малы. \n",
    "\n",
    "***Наличие детей:***\n",
    "\n",
    "Лучше всех возвращают кредиты в срок заемщики без детей (7,5% имеет просрочки по кредитам). \n",
    "Однако заемщики с тремя детьми также хорошо соблюдают сроки погашения (8% имеет просрочку по кредитам). \n",
    "Наибольший процент просрочек по кредитам (10%) имеют категории заемщиков, имеющие одного или двоих детей. \n",
    "\n",
    "***Семейное положение:***\n",
    "\n",
    "Заемщики, которые ранее не были женаты\\замужем, и заемщики, находящиеся в гражданском браке, немного чаще не выплачивают кредит в срок (9% не вернувших вовремя в каждой из категорий).\n",
    "Замужние\\женатые заемщики, вдовцы\\вдовы и те, кто в разводе возвращают кредит в срок совсем немного чаще (7% не вернувших вовремя в этих категориях)\n",
    "\n",
    "В целом те кто в браке или ранее был женат\\замужем платят лучше, чем те кто не был. \n",
    "\n",
    "***Доход:***\n",
    "\n",
    "Хуже всего возвращают средства в срок заемщики с заработком до 30 000 и те, кто получает от 50 001 до 200 000 (9% имеют просрочки по кредиту). Заемщики с доходом от 30 001 до 50 000 возвращают кредит в срок лучше остальных (6% не вернули в срок). \n",
    "\n",
    "***Цели кредита:***\n",
    "\n",
    "Хуже возвращают кредиты те кто взял их на операции с автомобилем и на получение образования (9% не возвращают в срок). Лучше остальных кредит в срок возвращают те, кто его брал на операции с недвижимостью (7% не возвращают в срок)\n"
   ]
  },
  {
   "cell_type": "code",
   "execution_count": null,
   "id": "25c7e07a",
   "metadata": {},
   "outputs": [],
   "source": []
  }
 ],
 "metadata": {
  "ExecuteTimeLog": [
   {
    "duration": 715,
    "start_time": "2022-02-24T06:34:21.112Z"
   },
   {
    "duration": 54,
    "start_time": "2022-02-24T06:38:00.210Z"
   },
   {
    "duration": 22,
    "start_time": "2022-02-24T06:40:00.175Z"
   },
   {
    "duration": 13,
    "start_time": "2022-02-24T06:49:04.262Z"
   },
   {
    "duration": 332,
    "start_time": "2022-02-27T10:01:37.901Z"
   },
   {
    "duration": 636,
    "start_time": "2022-02-27T10:02:00.919Z"
   },
   {
    "duration": 45,
    "start_time": "2022-02-27T10:02:01.557Z"
   },
   {
    "duration": 18,
    "start_time": "2022-02-27T10:02:01.604Z"
   },
   {
    "duration": 19,
    "start_time": "2022-02-27T10:02:01.624Z"
   },
   {
    "duration": 16,
    "start_time": "2022-02-27T10:02:01.645Z"
   },
   {
    "duration": 365,
    "start_time": "2022-02-27T10:02:54.408Z"
   },
   {
    "duration": 17,
    "start_time": "2022-02-27T10:03:11.038Z"
   },
   {
    "duration": 6,
    "start_time": "2022-02-27T10:20:41.652Z"
   },
   {
    "duration": 21,
    "start_time": "2022-02-27T10:21:25.942Z"
   },
   {
    "duration": 15,
    "start_time": "2022-02-27T10:21:43.071Z"
   },
   {
    "duration": 6,
    "start_time": "2022-02-27T10:26:26.625Z"
   },
   {
    "duration": 8,
    "start_time": "2022-02-27T10:27:26.572Z"
   },
   {
    "duration": 6,
    "start_time": "2022-02-27T10:27:46.059Z"
   },
   {
    "duration": 600,
    "start_time": "2022-02-27T10:30:37.249Z"
   },
   {
    "duration": 50,
    "start_time": "2022-02-27T10:30:37.851Z"
   },
   {
    "duration": 19,
    "start_time": "2022-02-27T10:30:37.903Z"
   },
   {
    "duration": 19,
    "start_time": "2022-02-27T10:30:37.924Z"
   },
   {
    "duration": 16,
    "start_time": "2022-02-27T10:30:37.945Z"
   },
   {
    "duration": 5,
    "start_time": "2022-02-27T10:30:37.963Z"
   },
   {
    "duration": 10,
    "start_time": "2022-02-27T10:30:37.969Z"
   },
   {
    "duration": 538,
    "start_time": "2022-02-27T10:45:30.386Z"
   },
   {
    "duration": 52,
    "start_time": "2022-02-27T10:45:30.926Z"
   },
   {
    "duration": 19,
    "start_time": "2022-02-27T10:45:30.980Z"
   },
   {
    "duration": 21,
    "start_time": "2022-02-27T10:45:31.001Z"
   },
   {
    "duration": 15,
    "start_time": "2022-02-27T10:45:31.024Z"
   },
   {
    "duration": 7,
    "start_time": "2022-02-27T10:45:31.041Z"
   },
   {
    "duration": 30,
    "start_time": "2022-02-27T10:45:31.049Z"
   },
   {
    "duration": 64,
    "start_time": "2022-02-27T10:45:31.082Z"
   },
   {
    "duration": 7,
    "start_time": "2022-02-27T10:50:59.360Z"
   },
   {
    "duration": 58,
    "start_time": "2022-02-27T10:54:19.888Z"
   },
   {
    "duration": 63,
    "start_time": "2022-02-27T10:56:50.523Z"
   },
   {
    "duration": 63,
    "start_time": "2022-02-27T10:57:15.027Z"
   },
   {
    "duration": 83,
    "start_time": "2022-02-27T10:58:36.523Z"
   },
   {
    "duration": 60,
    "start_time": "2022-02-27T11:01:30.703Z"
   },
   {
    "duration": 63,
    "start_time": "2022-02-27T11:01:51.531Z"
   },
   {
    "duration": 272,
    "start_time": "2022-02-27T11:02:22.063Z"
   },
   {
    "duration": 7,
    "start_time": "2022-02-27T11:02:33.887Z"
   },
   {
    "duration": 60,
    "start_time": "2022-02-27T11:03:57.719Z"
   },
   {
    "duration": 541,
    "start_time": "2022-02-27T11:04:09.261Z"
   },
   {
    "duration": 45,
    "start_time": "2022-02-27T11:04:09.803Z"
   },
   {
    "duration": 19,
    "start_time": "2022-02-27T11:04:09.850Z"
   },
   {
    "duration": 13,
    "start_time": "2022-02-27T11:04:09.871Z"
   },
   {
    "duration": 5,
    "start_time": "2022-02-27T11:04:09.886Z"
   },
   {
    "duration": 6,
    "start_time": "2022-02-27T11:04:09.893Z"
   },
   {
    "duration": 56,
    "start_time": "2022-02-27T11:04:09.900Z"
   },
   {
    "duration": 319,
    "start_time": "2022-02-27T11:04:09.639Z"
   },
   {
    "duration": 315,
    "start_time": "2022-02-27T11:04:09.644Z"
   },
   {
    "duration": 6,
    "start_time": "2022-02-27T11:07:13.822Z"
   },
   {
    "duration": 58,
    "start_time": "2022-02-27T11:08:27.927Z"
   },
   {
    "duration": 74,
    "start_time": "2022-02-27T11:08:52.338Z"
   },
   {
    "duration": 482,
    "start_time": "2022-02-27T11:15:03.838Z"
   },
   {
    "duration": 508,
    "start_time": "2022-02-27T11:15:47.092Z"
   },
   {
    "duration": 78,
    "start_time": "2022-02-27T11:16:05.418Z"
   },
   {
    "duration": 86,
    "start_time": "2022-02-27T11:17:49.452Z"
   },
   {
    "duration": 76,
    "start_time": "2022-02-27T11:18:47.399Z"
   },
   {
    "duration": 62,
    "start_time": "2022-02-27T11:18:58.854Z"
   },
   {
    "duration": 5,
    "start_time": "2022-02-27T11:19:14.871Z"
   },
   {
    "duration": 6,
    "start_time": "2022-02-27T11:20:19.793Z"
   },
   {
    "duration": 556,
    "start_time": "2022-02-27T11:26:20.763Z"
   },
   {
    "duration": 47,
    "start_time": "2022-02-27T11:26:21.321Z"
   },
   {
    "duration": 19,
    "start_time": "2022-02-27T11:26:21.370Z"
   },
   {
    "duration": 12,
    "start_time": "2022-02-27T11:26:21.390Z"
   },
   {
    "duration": 5,
    "start_time": "2022-02-27T11:26:21.404Z"
   },
   {
    "duration": 7,
    "start_time": "2022-02-27T11:26:21.411Z"
   },
   {
    "duration": 8,
    "start_time": "2022-02-27T11:26:21.438Z"
   },
   {
    "duration": 22,
    "start_time": "2022-02-27T11:26:21.448Z"
   },
   {
    "duration": 55,
    "start_time": "2022-02-27T11:26:21.472Z"
   },
   {
    "duration": 4,
    "start_time": "2022-02-27T11:42:37.514Z"
   },
   {
    "duration": 13,
    "start_time": "2022-02-27T11:44:38.822Z"
   },
   {
    "duration": 12,
    "start_time": "2022-02-27T11:49:17.703Z"
   },
   {
    "duration": 400,
    "start_time": "2022-02-27T16:59:45.463Z"
   },
   {
    "duration": 9,
    "start_time": "2022-02-27T17:03:43.762Z"
   },
   {
    "duration": 11,
    "start_time": "2022-02-27T17:04:14.128Z"
   },
   {
    "duration": 348,
    "start_time": "2022-02-27T17:09:56.022Z"
   },
   {
    "duration": 398,
    "start_time": "2022-02-27T17:11:18.061Z"
   },
   {
    "duration": 345,
    "start_time": "2022-02-27T17:11:43.118Z"
   },
   {
    "duration": 10,
    "start_time": "2022-02-27T17:21:55.903Z"
   },
   {
    "duration": 360,
    "start_time": "2022-02-27T17:22:29.809Z"
   },
   {
    "duration": 345,
    "start_time": "2022-02-27T17:24:40.908Z"
   },
   {
    "duration": 335,
    "start_time": "2022-02-27T17:24:55.301Z"
   },
   {
    "duration": 358,
    "start_time": "2022-02-27T17:54:24.184Z"
   },
   {
    "duration": 419,
    "start_time": "2022-02-27T17:57:00.646Z"
   },
   {
    "duration": 57,
    "start_time": "2022-02-27T18:00:32.130Z"
   },
   {
    "duration": 363,
    "start_time": "2022-02-27T18:01:00.040Z"
   },
   {
    "duration": 211,
    "start_time": "2022-02-27T18:01:51.580Z"
   },
   {
    "duration": 235,
    "start_time": "2022-02-27T18:02:10.050Z"
   },
   {
    "duration": 10,
    "start_time": "2022-02-27T18:09:45.356Z"
   },
   {
    "duration": 570,
    "start_time": "2022-02-28T06:30:31.303Z"
   },
   {
    "duration": 57,
    "start_time": "2022-02-28T06:30:31.874Z"
   },
   {
    "duration": 16,
    "start_time": "2022-02-28T06:30:31.933Z"
   },
   {
    "duration": 9,
    "start_time": "2022-02-28T06:30:31.951Z"
   },
   {
    "duration": 4,
    "start_time": "2022-02-28T06:30:31.962Z"
   },
   {
    "duration": 6,
    "start_time": "2022-02-28T06:30:31.967Z"
   },
   {
    "duration": 8,
    "start_time": "2022-02-28T06:30:31.974Z"
   },
   {
    "duration": 36,
    "start_time": "2022-02-28T06:30:31.983Z"
   },
   {
    "duration": 11,
    "start_time": "2022-02-28T06:30:32.020Z"
   },
   {
    "duration": 12,
    "start_time": "2022-02-28T06:30:32.033Z"
   },
   {
    "duration": 29,
    "start_time": "2022-02-28T06:30:32.046Z"
   },
   {
    "duration": 29,
    "start_time": "2022-02-28T06:30:32.077Z"
   },
   {
    "duration": 599,
    "start_time": "2022-02-28T06:32:00.182Z"
   },
   {
    "duration": 48,
    "start_time": "2022-02-28T06:32:00.782Z"
   },
   {
    "duration": 16,
    "start_time": "2022-02-28T06:32:00.832Z"
   },
   {
    "duration": 18,
    "start_time": "2022-02-28T06:32:00.849Z"
   },
   {
    "duration": 4,
    "start_time": "2022-02-28T06:32:00.869Z"
   },
   {
    "duration": 6,
    "start_time": "2022-02-28T06:32:00.874Z"
   },
   {
    "duration": 6,
    "start_time": "2022-02-28T06:32:00.881Z"
   },
   {
    "duration": 15,
    "start_time": "2022-02-28T06:32:00.905Z"
   },
   {
    "duration": 10,
    "start_time": "2022-02-28T06:32:00.922Z"
   },
   {
    "duration": 11,
    "start_time": "2022-02-28T06:32:00.934Z"
   },
   {
    "duration": 30,
    "start_time": "2022-02-28T06:32:00.947Z"
   },
   {
    "duration": 51,
    "start_time": "2022-02-28T06:32:00.978Z"
   },
   {
    "duration": 8,
    "start_time": "2022-02-28T06:32:01.030Z"
   },
   {
    "duration": 547,
    "start_time": "2022-02-28T06:41:54.715Z"
   },
   {
    "duration": 47,
    "start_time": "2022-02-28T06:41:55.264Z"
   },
   {
    "duration": 17,
    "start_time": "2022-02-28T06:41:55.313Z"
   },
   {
    "duration": 11,
    "start_time": "2022-02-28T06:41:55.332Z"
   },
   {
    "duration": 5,
    "start_time": "2022-02-28T06:41:55.345Z"
   },
   {
    "duration": 6,
    "start_time": "2022-02-28T06:41:55.352Z"
   },
   {
    "duration": 4,
    "start_time": "2022-02-28T06:41:55.360Z"
   },
   {
    "duration": 45,
    "start_time": "2022-02-28T06:41:55.366Z"
   },
   {
    "duration": 10,
    "start_time": "2022-02-28T06:41:55.413Z"
   },
   {
    "duration": 10,
    "start_time": "2022-02-28T06:41:55.424Z"
   },
   {
    "duration": 28,
    "start_time": "2022-02-28T06:41:55.435Z"
   },
   {
    "duration": 2,
    "start_time": "2022-02-28T06:41:55.464Z"
   },
   {
    "duration": 52,
    "start_time": "2022-02-28T06:41:55.467Z"
   },
   {
    "duration": 3,
    "start_time": "2022-02-28T06:42:13.222Z"
   },
   {
    "duration": 39,
    "start_time": "2022-02-28T06:42:13.449Z"
   },
   {
    "duration": 513,
    "start_time": "2022-02-28T06:42:33.957Z"
   },
   {
    "duration": 45,
    "start_time": "2022-02-28T06:42:34.472Z"
   },
   {
    "duration": 16,
    "start_time": "2022-02-28T06:42:34.519Z"
   },
   {
    "duration": 11,
    "start_time": "2022-02-28T06:42:34.536Z"
   },
   {
    "duration": 5,
    "start_time": "2022-02-28T06:42:34.548Z"
   },
   {
    "duration": 5,
    "start_time": "2022-02-28T06:42:34.554Z"
   },
   {
    "duration": 6,
    "start_time": "2022-02-28T06:42:34.560Z"
   },
   {
    "duration": 45,
    "start_time": "2022-02-28T06:42:34.568Z"
   },
   {
    "duration": 11,
    "start_time": "2022-02-28T06:42:34.614Z"
   },
   {
    "duration": 9,
    "start_time": "2022-02-28T06:42:34.627Z"
   },
   {
    "duration": 26,
    "start_time": "2022-02-28T06:42:34.638Z"
   },
   {
    "duration": 3,
    "start_time": "2022-02-28T06:42:34.665Z"
   },
   {
    "duration": 47,
    "start_time": "2022-02-28T06:42:34.669Z"
   },
   {
    "duration": 13,
    "start_time": "2022-02-28T06:42:51.589Z"
   },
   {
    "duration": 9,
    "start_time": "2022-02-28T06:44:14.631Z"
   },
   {
    "duration": 5,
    "start_time": "2022-02-28T06:44:36.133Z"
   },
   {
    "duration": 4,
    "start_time": "2022-02-28T06:45:57.092Z"
   },
   {
    "duration": 5,
    "start_time": "2022-02-28T06:46:10.001Z"
   },
   {
    "duration": 569,
    "start_time": "2022-02-28T06:47:14.218Z"
   },
   {
    "duration": 58,
    "start_time": "2022-02-28T06:47:14.789Z"
   },
   {
    "duration": 17,
    "start_time": "2022-02-28T06:47:14.849Z"
   },
   {
    "duration": 13,
    "start_time": "2022-02-28T06:47:14.868Z"
   },
   {
    "duration": 11,
    "start_time": "2022-02-28T06:47:14.882Z"
   },
   {
    "duration": 14,
    "start_time": "2022-02-28T06:47:14.895Z"
   },
   {
    "duration": 11,
    "start_time": "2022-02-28T06:47:14.910Z"
   },
   {
    "duration": 15,
    "start_time": "2022-02-28T06:47:14.923Z"
   },
   {
    "duration": 11,
    "start_time": "2022-02-28T06:47:14.939Z"
   },
   {
    "duration": 10,
    "start_time": "2022-02-28T06:47:14.951Z"
   },
   {
    "duration": 3,
    "start_time": "2022-02-28T06:47:14.963Z"
   },
   {
    "duration": 51,
    "start_time": "2022-02-28T06:47:14.968Z"
   },
   {
    "duration": 12,
    "start_time": "2022-02-28T06:47:15.021Z"
   },
   {
    "duration": 18,
    "start_time": "2022-02-28T06:47:15.035Z"
   },
   {
    "duration": 27,
    "start_time": "2022-02-28T06:47:15.055Z"
   },
   {
    "duration": 4,
    "start_time": "2022-02-28T06:53:36.190Z"
   },
   {
    "duration": 3,
    "start_time": "2022-02-28T06:54:05.121Z"
   },
   {
    "duration": 4,
    "start_time": "2022-02-28T06:54:29.366Z"
   },
   {
    "duration": 25,
    "start_time": "2022-02-28T06:54:47.854Z"
   },
   {
    "duration": 3,
    "start_time": "2022-02-28T07:40:25.106Z"
   },
   {
    "duration": 11,
    "start_time": "2022-02-28T07:40:27.232Z"
   },
   {
    "duration": 359,
    "start_time": "2022-02-28T07:42:13.091Z"
   },
   {
    "duration": 293,
    "start_time": "2022-02-28T07:42:57.658Z"
   },
   {
    "duration": 418,
    "start_time": "2022-02-28T07:45:16.084Z"
   },
   {
    "duration": 398,
    "start_time": "2022-02-28T07:45:27.226Z"
   },
   {
    "duration": 3,
    "start_time": "2022-02-28T07:45:53.316Z"
   },
   {
    "duration": 814,
    "start_time": "2022-02-28T07:46:21.235Z"
   },
   {
    "duration": 300,
    "start_time": "2022-02-28T07:46:37.615Z"
   },
   {
    "duration": 266,
    "start_time": "2022-02-28T07:47:49.165Z"
   },
   {
    "duration": 11,
    "start_time": "2022-02-28T07:47:53.593Z"
   },
   {
    "duration": 3,
    "start_time": "2022-02-28T07:48:25.191Z"
   },
   {
    "duration": 11,
    "start_time": "2022-02-28T07:48:27.026Z"
   },
   {
    "duration": 543,
    "start_time": "2022-02-28T07:55:49.462Z"
   },
   {
    "duration": 58,
    "start_time": "2022-02-28T07:55:50.007Z"
   },
   {
    "duration": 17,
    "start_time": "2022-02-28T07:55:50.067Z"
   },
   {
    "duration": 9,
    "start_time": "2022-02-28T07:55:50.086Z"
   },
   {
    "duration": 6,
    "start_time": "2022-02-28T07:55:50.096Z"
   },
   {
    "duration": 8,
    "start_time": "2022-02-28T07:55:50.103Z"
   },
   {
    "duration": 8,
    "start_time": "2022-02-28T07:55:50.112Z"
   },
   {
    "duration": 17,
    "start_time": "2022-02-28T07:55:50.121Z"
   },
   {
    "duration": 10,
    "start_time": "2022-02-28T07:55:50.140Z"
   },
   {
    "duration": 10,
    "start_time": "2022-02-28T07:55:50.151Z"
   },
   {
    "duration": 3,
    "start_time": "2022-02-28T07:55:50.162Z"
   },
   {
    "duration": 17,
    "start_time": "2022-02-28T07:55:50.166Z"
   },
   {
    "duration": 27,
    "start_time": "2022-02-28T07:55:50.205Z"
   },
   {
    "duration": 2,
    "start_time": "2022-02-28T07:55:50.234Z"
   },
   {
    "duration": 9,
    "start_time": "2022-02-28T07:55:50.238Z"
   },
   {
    "duration": 25,
    "start_time": "2022-02-28T07:55:50.248Z"
   },
   {
    "duration": 5,
    "start_time": "2022-02-28T07:55:50.275Z"
   },
   {
    "duration": 43,
    "start_time": "2022-02-28T07:55:50.281Z"
   },
   {
    "duration": 5,
    "start_time": "2022-02-28T08:07:59.801Z"
   },
   {
    "duration": 14,
    "start_time": "2022-02-28T08:08:34.486Z"
   },
   {
    "duration": 6,
    "start_time": "2022-02-28T08:22:22.533Z"
   },
   {
    "duration": 391,
    "start_time": "2022-02-28T08:32:14.815Z"
   },
   {
    "duration": 18,
    "start_time": "2022-02-28T08:33:07.988Z"
   },
   {
    "duration": 396,
    "start_time": "2022-02-28T08:38:06.550Z"
   },
   {
    "duration": 16,
    "start_time": "2022-02-28T08:38:32.814Z"
   },
   {
    "duration": 361,
    "start_time": "2022-02-28T08:38:37.576Z"
   },
   {
    "duration": 752,
    "start_time": "2022-02-28T08:40:35.325Z"
   },
   {
    "duration": 48,
    "start_time": "2022-02-28T08:40:36.079Z"
   },
   {
    "duration": 17,
    "start_time": "2022-02-28T08:40:36.129Z"
   },
   {
    "duration": 13,
    "start_time": "2022-02-28T08:40:36.147Z"
   },
   {
    "duration": 4,
    "start_time": "2022-02-28T08:40:36.162Z"
   },
   {
    "duration": 8,
    "start_time": "2022-02-28T08:40:36.168Z"
   },
   {
    "duration": 9,
    "start_time": "2022-02-28T08:40:36.177Z"
   },
   {
    "duration": 29,
    "start_time": "2022-02-28T08:40:36.188Z"
   },
   {
    "duration": 10,
    "start_time": "2022-02-28T08:40:36.218Z"
   },
   {
    "duration": 9,
    "start_time": "2022-02-28T08:40:36.230Z"
   },
   {
    "duration": 2,
    "start_time": "2022-02-28T08:40:36.241Z"
   },
   {
    "duration": 13,
    "start_time": "2022-02-28T08:40:36.244Z"
   },
   {
    "duration": 49,
    "start_time": "2022-02-28T08:40:36.259Z"
   },
   {
    "duration": 3,
    "start_time": "2022-02-28T08:40:36.309Z"
   },
   {
    "duration": 6,
    "start_time": "2022-02-28T08:40:36.314Z"
   },
   {
    "duration": 28,
    "start_time": "2022-02-28T08:40:36.321Z"
   },
   {
    "duration": 24,
    "start_time": "2022-02-28T08:40:36.351Z"
   },
   {
    "duration": 30,
    "start_time": "2022-02-28T08:40:36.376Z"
   },
   {
    "duration": 5,
    "start_time": "2022-02-28T08:40:36.408Z"
   },
   {
    "duration": 1270,
    "start_time": "2022-02-28T08:40:36.414Z"
   },
   {
    "duration": 14,
    "start_time": "2022-02-28T08:40:56.445Z"
   },
   {
    "duration": 6,
    "start_time": "2022-02-28T08:41:11.878Z"
   },
   {
    "duration": 306,
    "start_time": "2022-02-28T08:41:14.052Z"
   },
   {
    "duration": 505,
    "start_time": "2022-02-28T08:41:46.963Z"
   },
   {
    "duration": 47,
    "start_time": "2022-02-28T08:41:47.469Z"
   },
   {
    "duration": 16,
    "start_time": "2022-02-28T08:41:47.518Z"
   },
   {
    "duration": 11,
    "start_time": "2022-02-28T08:41:47.536Z"
   },
   {
    "duration": 8,
    "start_time": "2022-02-28T08:41:47.549Z"
   },
   {
    "duration": 8,
    "start_time": "2022-02-28T08:41:47.558Z"
   },
   {
    "duration": 5,
    "start_time": "2022-02-28T08:41:47.567Z"
   },
   {
    "duration": 22,
    "start_time": "2022-02-28T08:41:47.574Z"
   },
   {
    "duration": 11,
    "start_time": "2022-02-28T08:41:47.605Z"
   },
   {
    "duration": 10,
    "start_time": "2022-02-28T08:41:47.617Z"
   },
   {
    "duration": 3,
    "start_time": "2022-02-28T08:41:47.628Z"
   },
   {
    "duration": 16,
    "start_time": "2022-02-28T08:41:47.632Z"
   },
   {
    "duration": 29,
    "start_time": "2022-02-28T08:41:47.650Z"
   },
   {
    "duration": 3,
    "start_time": "2022-02-28T08:41:47.680Z"
   },
   {
    "duration": 23,
    "start_time": "2022-02-28T08:41:47.684Z"
   },
   {
    "duration": 26,
    "start_time": "2022-02-28T08:41:47.709Z"
   },
   {
    "duration": 24,
    "start_time": "2022-02-28T08:41:47.736Z"
   },
   {
    "duration": 14,
    "start_time": "2022-02-28T08:41:47.761Z"
   },
   {
    "duration": 29,
    "start_time": "2022-02-28T08:41:47.776Z"
   },
   {
    "duration": 348,
    "start_time": "2022-02-28T08:41:47.807Z"
   },
   {
    "duration": 7,
    "start_time": "2022-02-28T08:48:50.214Z"
   },
   {
    "duration": 17,
    "start_time": "2022-02-28T08:49:33.489Z"
   },
   {
    "duration": 21,
    "start_time": "2022-02-28T08:49:48.865Z"
   },
   {
    "duration": 22,
    "start_time": "2022-02-28T08:49:58.151Z"
   },
   {
    "duration": 546,
    "start_time": "2022-02-28T08:50:07.733Z"
   },
   {
    "duration": 58,
    "start_time": "2022-02-28T08:50:08.281Z"
   },
   {
    "duration": 16,
    "start_time": "2022-02-28T08:50:08.341Z"
   },
   {
    "duration": 11,
    "start_time": "2022-02-28T08:50:08.359Z"
   },
   {
    "duration": 5,
    "start_time": "2022-02-28T08:50:08.371Z"
   },
   {
    "duration": 6,
    "start_time": "2022-02-28T08:50:08.377Z"
   },
   {
    "duration": 23,
    "start_time": "2022-02-28T08:50:08.384Z"
   },
   {
    "duration": 15,
    "start_time": "2022-02-28T08:50:08.409Z"
   },
   {
    "duration": 10,
    "start_time": "2022-02-28T08:50:08.426Z"
   },
   {
    "duration": 10,
    "start_time": "2022-02-28T08:50:08.437Z"
   },
   {
    "duration": 3,
    "start_time": "2022-02-28T08:50:08.448Z"
   },
   {
    "duration": 13,
    "start_time": "2022-02-28T08:50:08.452Z"
   },
   {
    "duration": 56,
    "start_time": "2022-02-28T08:50:08.466Z"
   },
   {
    "duration": 3,
    "start_time": "2022-02-28T08:50:08.524Z"
   },
   {
    "duration": 14,
    "start_time": "2022-02-28T08:50:08.528Z"
   },
   {
    "duration": 33,
    "start_time": "2022-02-28T08:50:08.544Z"
   },
   {
    "duration": 27,
    "start_time": "2022-02-28T08:50:08.578Z"
   },
   {
    "duration": 15,
    "start_time": "2022-02-28T08:50:08.606Z"
   },
   {
    "duration": 22,
    "start_time": "2022-02-28T08:50:08.622Z"
   },
   {
    "duration": 22,
    "start_time": "2022-02-28T08:52:10.588Z"
   },
   {
    "duration": 22,
    "start_time": "2022-02-28T08:52:19.375Z"
   },
   {
    "duration": 11,
    "start_time": "2022-02-28T08:52:37.335Z"
   },
   {
    "duration": 14,
    "start_time": "2022-02-28T08:52:41.506Z"
   },
   {
    "duration": 6,
    "start_time": "2022-02-28T10:07:47.931Z"
   },
   {
    "duration": 15,
    "start_time": "2022-02-28T10:07:48.908Z"
   },
   {
    "duration": 11,
    "start_time": "2022-02-28T10:08:37.244Z"
   },
   {
    "duration": 15,
    "start_time": "2022-02-28T10:08:38.060Z"
   },
   {
    "duration": 642,
    "start_time": "2022-02-28T10:25:47.892Z"
   },
   {
    "duration": 50,
    "start_time": "2022-02-28T10:25:48.536Z"
   },
   {
    "duration": 18,
    "start_time": "2022-02-28T10:25:48.588Z"
   },
   {
    "duration": 13,
    "start_time": "2022-02-28T10:25:48.608Z"
   },
   {
    "duration": 6,
    "start_time": "2022-02-28T10:25:48.622Z"
   },
   {
    "duration": 6,
    "start_time": "2022-02-28T10:25:48.629Z"
   },
   {
    "duration": 6,
    "start_time": "2022-02-28T10:25:48.636Z"
   },
   {
    "duration": 21,
    "start_time": "2022-02-28T10:25:48.644Z"
   },
   {
    "duration": 43,
    "start_time": "2022-02-28T10:25:48.667Z"
   },
   {
    "duration": 11,
    "start_time": "2022-02-28T10:25:48.711Z"
   },
   {
    "duration": 3,
    "start_time": "2022-02-28T10:25:48.723Z"
   },
   {
    "duration": 16,
    "start_time": "2022-02-28T10:25:48.727Z"
   },
   {
    "duration": 32,
    "start_time": "2022-02-28T10:25:48.745Z"
   },
   {
    "duration": 3,
    "start_time": "2022-02-28T10:25:48.778Z"
   },
   {
    "duration": 24,
    "start_time": "2022-02-28T10:25:48.782Z"
   },
   {
    "duration": 24,
    "start_time": "2022-02-28T10:25:48.807Z"
   },
   {
    "duration": 25,
    "start_time": "2022-02-28T10:25:48.832Z"
   },
   {
    "duration": 15,
    "start_time": "2022-02-28T10:25:48.859Z"
   },
   {
    "duration": 5,
    "start_time": "2022-02-28T10:25:48.875Z"
   },
   {
    "duration": 37,
    "start_time": "2022-02-28T10:25:48.882Z"
   },
   {
    "duration": 18,
    "start_time": "2022-02-28T10:26:26.581Z"
   },
   {
    "duration": 7,
    "start_time": "2022-02-28T11:06:19.992Z"
   },
   {
    "duration": 548,
    "start_time": "2022-02-28T11:06:38.034Z"
   },
   {
    "duration": 48,
    "start_time": "2022-02-28T11:06:38.583Z"
   },
   {
    "duration": 17,
    "start_time": "2022-02-28T11:06:38.632Z"
   },
   {
    "duration": 12,
    "start_time": "2022-02-28T11:06:38.651Z"
   },
   {
    "duration": 5,
    "start_time": "2022-02-28T11:06:38.665Z"
   },
   {
    "duration": 5,
    "start_time": "2022-02-28T11:06:38.671Z"
   },
   {
    "duration": 4,
    "start_time": "2022-02-28T11:06:38.678Z"
   },
   {
    "duration": 33,
    "start_time": "2022-02-28T11:06:38.684Z"
   },
   {
    "duration": 12,
    "start_time": "2022-02-28T11:06:38.719Z"
   },
   {
    "duration": 10,
    "start_time": "2022-02-28T11:06:38.733Z"
   },
   {
    "duration": 7,
    "start_time": "2022-02-28T11:06:38.745Z"
   },
   {
    "duration": 20,
    "start_time": "2022-02-28T11:06:38.753Z"
   },
   {
    "duration": 44,
    "start_time": "2022-02-28T11:06:38.775Z"
   },
   {
    "duration": 4,
    "start_time": "2022-02-28T11:06:38.821Z"
   },
   {
    "duration": 10,
    "start_time": "2022-02-28T11:06:38.826Z"
   },
   {
    "duration": 26,
    "start_time": "2022-02-28T11:06:38.838Z"
   },
   {
    "duration": 40,
    "start_time": "2022-02-28T11:06:38.866Z"
   },
   {
    "duration": 6,
    "start_time": "2022-02-28T11:06:38.908Z"
   },
   {
    "duration": 18,
    "start_time": "2022-02-28T11:06:38.915Z"
   },
   {
    "duration": 26,
    "start_time": "2022-02-28T11:18:30.380Z"
   },
   {
    "duration": 6,
    "start_time": "2022-02-28T11:24:32.013Z"
   },
   {
    "duration": 348,
    "start_time": "2022-02-28T12:22:38.902Z"
   },
   {
    "duration": 366,
    "start_time": "2022-02-28T12:29:33.762Z"
   },
   {
    "duration": 20,
    "start_time": "2022-02-28T12:34:19.994Z"
   },
   {
    "duration": 14,
    "start_time": "2022-02-28T12:34:42.156Z"
   },
   {
    "duration": 930,
    "start_time": "2022-02-28T12:40:24.747Z"
   },
   {
    "duration": 48,
    "start_time": "2022-02-28T12:40:25.679Z"
   },
   {
    "duration": 16,
    "start_time": "2022-02-28T12:40:25.729Z"
   },
   {
    "duration": 11,
    "start_time": "2022-02-28T12:40:25.747Z"
   },
   {
    "duration": 6,
    "start_time": "2022-02-28T12:40:25.759Z"
   },
   {
    "duration": 6,
    "start_time": "2022-02-28T12:40:25.766Z"
   },
   {
    "duration": 4,
    "start_time": "2022-02-28T12:40:25.773Z"
   },
   {
    "duration": 16,
    "start_time": "2022-02-28T12:40:25.806Z"
   },
   {
    "duration": 11,
    "start_time": "2022-02-28T12:40:25.823Z"
   },
   {
    "duration": 10,
    "start_time": "2022-02-28T12:40:25.835Z"
   },
   {
    "duration": 2,
    "start_time": "2022-02-28T12:40:25.846Z"
   },
   {
    "duration": 13,
    "start_time": "2022-02-28T12:40:25.850Z"
   },
   {
    "duration": 57,
    "start_time": "2022-02-28T12:40:25.864Z"
   },
   {
    "duration": 3,
    "start_time": "2022-02-28T12:40:25.922Z"
   },
   {
    "duration": 7,
    "start_time": "2022-02-28T12:40:25.926Z"
   },
   {
    "duration": 31,
    "start_time": "2022-02-28T12:40:25.934Z"
   },
   {
    "duration": 24,
    "start_time": "2022-02-28T12:40:25.967Z"
   },
   {
    "duration": 16,
    "start_time": "2022-02-28T12:40:25.992Z"
   },
   {
    "duration": 13,
    "start_time": "2022-02-28T12:40:26.009Z"
   },
   {
    "duration": 25,
    "start_time": "2022-02-28T12:40:26.024Z"
   },
   {
    "duration": 12,
    "start_time": "2022-02-28T12:40:26.050Z"
   },
   {
    "duration": 13,
    "start_time": "2022-02-28T12:51:00.668Z"
   },
   {
    "duration": 292,
    "start_time": "2022-03-01T06:07:40.213Z"
   },
   {
    "duration": 731,
    "start_time": "2022-03-01T06:07:49.801Z"
   },
   {
    "duration": 63,
    "start_time": "2022-03-01T06:07:50.535Z"
   },
   {
    "duration": 29,
    "start_time": "2022-03-01T06:07:50.601Z"
   },
   {
    "duration": 16,
    "start_time": "2022-03-01T06:07:50.633Z"
   },
   {
    "duration": 26,
    "start_time": "2022-03-01T06:07:50.652Z"
   },
   {
    "duration": 7,
    "start_time": "2022-03-01T06:07:50.681Z"
   },
   {
    "duration": 15,
    "start_time": "2022-03-01T06:07:50.690Z"
   },
   {
    "duration": 35,
    "start_time": "2022-03-01T06:07:50.709Z"
   },
   {
    "duration": 42,
    "start_time": "2022-03-01T06:07:50.747Z"
   },
   {
    "duration": 16,
    "start_time": "2022-03-01T06:07:50.791Z"
   },
   {
    "duration": 4,
    "start_time": "2022-03-01T06:07:50.809Z"
   },
   {
    "duration": 27,
    "start_time": "2022-03-01T06:07:50.815Z"
   },
   {
    "duration": 71,
    "start_time": "2022-03-01T06:07:50.844Z"
   },
   {
    "duration": 5,
    "start_time": "2022-03-01T06:07:50.917Z"
   },
   {
    "duration": 9,
    "start_time": "2022-03-01T06:07:50.924Z"
   },
   {
    "duration": 71,
    "start_time": "2022-03-01T06:07:50.935Z"
   },
   {
    "duration": 42,
    "start_time": "2022-03-01T06:07:51.008Z"
   },
   {
    "duration": 25,
    "start_time": "2022-03-01T06:07:51.052Z"
   },
   {
    "duration": 18,
    "start_time": "2022-03-01T06:07:51.081Z"
   },
   {
    "duration": 79,
    "start_time": "2022-03-01T06:07:51.102Z"
   },
   {
    "duration": 24,
    "start_time": "2022-03-01T06:07:51.184Z"
   },
   {
    "duration": 319,
    "start_time": "2022-03-01T06:07:51.211Z"
   },
   {
    "duration": 267,
    "start_time": "2022-03-01T06:08:43.919Z"
   },
   {
    "duration": 16,
    "start_time": "2022-03-01T06:10:31.251Z"
   },
   {
    "duration": 34,
    "start_time": "2022-03-01T06:10:57.481Z"
   },
   {
    "duration": 9,
    "start_time": "2022-03-01T06:13:03.322Z"
   },
   {
    "duration": 8,
    "start_time": "2022-03-01T06:13:59.358Z"
   },
   {
    "duration": 4,
    "start_time": "2022-03-01T06:42:09.823Z"
   },
   {
    "duration": 468,
    "start_time": "2022-03-01T06:42:11.159Z"
   },
   {
    "duration": 60,
    "start_time": "2022-03-01T06:43:38.123Z"
   },
   {
    "duration": 7,
    "start_time": "2022-03-01T06:44:10.027Z"
   },
   {
    "duration": 61,
    "start_time": "2022-03-01T06:44:47.191Z"
   },
   {
    "duration": 7,
    "start_time": "2022-03-01T06:44:49.057Z"
   },
   {
    "duration": 785,
    "start_time": "2022-03-01T06:44:58.647Z"
   },
   {
    "duration": 64,
    "start_time": "2022-03-01T06:44:59.435Z"
   },
   {
    "duration": 28,
    "start_time": "2022-03-01T06:44:59.502Z"
   },
   {
    "duration": 39,
    "start_time": "2022-03-01T06:44:59.534Z"
   },
   {
    "duration": 7,
    "start_time": "2022-03-01T06:44:59.576Z"
   },
   {
    "duration": 8,
    "start_time": "2022-03-01T06:44:59.585Z"
   },
   {
    "duration": 7,
    "start_time": "2022-03-01T06:44:59.595Z"
   },
   {
    "duration": 26,
    "start_time": "2022-03-01T06:44:59.606Z"
   },
   {
    "duration": 17,
    "start_time": "2022-03-01T06:44:59.675Z"
   },
   {
    "duration": 17,
    "start_time": "2022-03-01T06:44:59.694Z"
   },
   {
    "duration": 4,
    "start_time": "2022-03-01T06:44:59.713Z"
   },
   {
    "duration": 58,
    "start_time": "2022-03-01T06:44:59.719Z"
   },
   {
    "duration": 44,
    "start_time": "2022-03-01T06:44:59.779Z"
   },
   {
    "duration": 4,
    "start_time": "2022-03-01T06:44:59.825Z"
   },
   {
    "duration": 8,
    "start_time": "2022-03-01T06:44:59.832Z"
   },
   {
    "duration": 65,
    "start_time": "2022-03-01T06:44:59.842Z"
   },
   {
    "duration": 41,
    "start_time": "2022-03-01T06:44:59.909Z"
   },
   {
    "duration": 27,
    "start_time": "2022-03-01T06:44:59.952Z"
   },
   {
    "duration": 18,
    "start_time": "2022-03-01T06:44:59.982Z"
   },
   {
    "duration": 84,
    "start_time": "2022-03-01T06:45:00.003Z"
   },
   {
    "duration": 24,
    "start_time": "2022-03-01T06:45:00.090Z"
   },
   {
    "duration": 63,
    "start_time": "2022-03-01T06:45:00.117Z"
   },
   {
    "duration": 10,
    "start_time": "2022-03-01T06:45:00.186Z"
   },
   {
    "duration": 9,
    "start_time": "2022-03-01T06:45:00.200Z"
   },
   {
    "duration": 6,
    "start_time": "2022-03-01T06:45:00.211Z"
   },
   {
    "duration": 109,
    "start_time": "2022-03-01T06:45:00.220Z"
   },
   {
    "duration": 7,
    "start_time": "2022-03-01T06:45:00.331Z"
   },
   {
    "duration": 25,
    "start_time": "2022-03-01T06:46:39.102Z"
   },
   {
    "duration": 26,
    "start_time": "2022-03-01T06:48:03.372Z"
   },
   {
    "duration": 22,
    "start_time": "2022-03-01T06:48:14.665Z"
   },
   {
    "duration": 333,
    "start_time": "2022-03-01T07:48:56.897Z"
   },
   {
    "duration": 6,
    "start_time": "2022-03-01T07:49:19.510Z"
   },
   {
    "duration": 25,
    "start_time": "2022-03-01T07:49:28.790Z"
   },
   {
    "duration": 27,
    "start_time": "2022-03-01T07:50:05.786Z"
   },
   {
    "duration": 745,
    "start_time": "2022-03-01T08:19:47.782Z"
   },
   {
    "duration": 66,
    "start_time": "2022-03-01T08:19:48.530Z"
   },
   {
    "duration": 29,
    "start_time": "2022-03-01T08:19:48.599Z"
   },
   {
    "duration": 37,
    "start_time": "2022-03-01T08:19:48.631Z"
   },
   {
    "duration": 12,
    "start_time": "2022-03-01T08:19:48.670Z"
   },
   {
    "duration": 19,
    "start_time": "2022-03-01T08:19:48.684Z"
   },
   {
    "duration": 23,
    "start_time": "2022-03-01T08:19:48.705Z"
   },
   {
    "duration": 46,
    "start_time": "2022-03-01T08:19:48.731Z"
   },
   {
    "duration": 18,
    "start_time": "2022-03-01T08:19:48.779Z"
   },
   {
    "duration": 20,
    "start_time": "2022-03-01T08:19:48.799Z"
   },
   {
    "duration": 4,
    "start_time": "2022-03-01T08:19:48.822Z"
   },
   {
    "duration": 53,
    "start_time": "2022-03-01T08:19:48.829Z"
   },
   {
    "duration": 48,
    "start_time": "2022-03-01T08:19:48.885Z"
   },
   {
    "duration": 4,
    "start_time": "2022-03-01T08:19:48.936Z"
   },
   {
    "duration": 31,
    "start_time": "2022-03-01T08:19:48.942Z"
   },
   {
    "duration": 43,
    "start_time": "2022-03-01T08:19:48.975Z"
   },
   {
    "duration": 59,
    "start_time": "2022-03-01T08:19:49.020Z"
   },
   {
    "duration": 9,
    "start_time": "2022-03-01T08:19:49.082Z"
   },
   {
    "duration": 25,
    "start_time": "2022-03-01T08:19:49.093Z"
   },
   {
    "duration": 66,
    "start_time": "2022-03-01T08:19:49.120Z"
   },
   {
    "duration": 23,
    "start_time": "2022-03-01T08:19:49.189Z"
   },
   {
    "duration": 61,
    "start_time": "2022-03-01T08:19:49.215Z"
   },
   {
    "duration": 20,
    "start_time": "2022-03-01T08:19:49.283Z"
   },
   {
    "duration": 15,
    "start_time": "2022-03-01T08:19:49.306Z"
   },
   {
    "duration": 14,
    "start_time": "2022-03-01T08:19:49.324Z"
   },
   {
    "duration": 99,
    "start_time": "2022-03-01T08:19:49.341Z"
   },
   {
    "duration": 24,
    "start_time": "2022-03-01T08:19:49.442Z"
   },
   {
    "duration": 37,
    "start_time": "2022-03-01T08:19:49.469Z"
   },
   {
    "duration": 26,
    "start_time": "2022-03-01T08:19:49.508Z"
   },
   {
    "duration": 22,
    "start_time": "2022-03-01T08:19:49.536Z"
   },
   {
    "duration": 6,
    "start_time": "2022-03-01T14:17:41.627Z"
   },
   {
    "duration": 16,
    "start_time": "2022-03-01T14:18:11.921Z"
   },
   {
    "duration": 362,
    "start_time": "2022-03-01T14:19:22.418Z"
   },
   {
    "duration": 8,
    "start_time": "2022-03-01T14:20:31.210Z"
   },
   {
    "duration": 16,
    "start_time": "2022-03-01T14:20:43.240Z"
   },
   {
    "duration": 6,
    "start_time": "2022-03-01T14:41:39.754Z"
   },
   {
    "duration": 16,
    "start_time": "2022-03-01T15:13:33.837Z"
   },
   {
    "duration": 17,
    "start_time": "2022-03-01T15:30:38.646Z"
   },
   {
    "duration": 324,
    "start_time": "2022-03-02T06:22:22.808Z"
   },
   {
    "duration": 607,
    "start_time": "2022-03-02T06:22:38.643Z"
   },
   {
    "duration": 64,
    "start_time": "2022-03-02T06:22:39.252Z"
   },
   {
    "duration": 21,
    "start_time": "2022-03-02T06:22:39.318Z"
   },
   {
    "duration": 23,
    "start_time": "2022-03-02T06:22:39.341Z"
   },
   {
    "duration": 21,
    "start_time": "2022-03-02T06:22:39.366Z"
   },
   {
    "duration": 22,
    "start_time": "2022-03-02T06:22:39.388Z"
   },
   {
    "duration": 32,
    "start_time": "2022-03-02T06:22:39.412Z"
   },
   {
    "duration": 41,
    "start_time": "2022-03-02T06:22:39.447Z"
   },
   {
    "duration": 21,
    "start_time": "2022-03-02T06:22:39.490Z"
   },
   {
    "duration": 26,
    "start_time": "2022-03-02T06:22:39.513Z"
   },
   {
    "duration": 22,
    "start_time": "2022-03-02T06:22:39.541Z"
   },
   {
    "duration": 28,
    "start_time": "2022-03-02T06:22:39.565Z"
   },
   {
    "duration": 46,
    "start_time": "2022-03-02T06:22:39.594Z"
   },
   {
    "duration": 3,
    "start_time": "2022-03-02T06:22:39.642Z"
   },
   {
    "duration": 17,
    "start_time": "2022-03-02T06:22:39.647Z"
   },
   {
    "duration": 40,
    "start_time": "2022-03-02T06:22:39.666Z"
   },
   {
    "duration": 30,
    "start_time": "2022-03-02T06:22:39.708Z"
   },
   {
    "duration": 8,
    "start_time": "2022-03-02T06:22:39.739Z"
   },
   {
    "duration": 33,
    "start_time": "2022-03-02T06:22:39.749Z"
   },
   {
    "duration": 33,
    "start_time": "2022-03-02T06:22:39.784Z"
   },
   {
    "duration": 17,
    "start_time": "2022-03-02T06:22:39.819Z"
   },
   {
    "duration": 50,
    "start_time": "2022-03-02T06:22:39.838Z"
   },
   {
    "duration": 27,
    "start_time": "2022-03-02T06:22:39.892Z"
   },
   {
    "duration": 14,
    "start_time": "2022-03-02T06:22:39.922Z"
   },
   {
    "duration": 16,
    "start_time": "2022-03-02T06:22:39.938Z"
   },
   {
    "duration": 51,
    "start_time": "2022-03-02T06:22:39.956Z"
   },
   {
    "duration": 6,
    "start_time": "2022-03-02T06:22:40.009Z"
   },
   {
    "duration": 30,
    "start_time": "2022-03-02T06:22:40.017Z"
   },
   {
    "duration": 30,
    "start_time": "2022-03-02T06:22:40.050Z"
   },
   {
    "duration": 16,
    "start_time": "2022-03-02T06:22:40.082Z"
   },
   {
    "duration": 15,
    "start_time": "2022-03-02T06:22:40.099Z"
   },
   {
    "duration": 21,
    "start_time": "2022-03-02T06:22:40.116Z"
   },
   {
    "duration": 22,
    "start_time": "2022-03-02T06:22:40.139Z"
   },
   {
    "duration": 14,
    "start_time": "2022-03-02T06:22:52.735Z"
   },
   {
    "duration": 87,
    "start_time": "2022-03-02T06:41:46.401Z"
   },
   {
    "duration": 3,
    "start_time": "2022-03-02T06:42:30.939Z"
   },
   {
    "duration": 10,
    "start_time": "2022-03-02T06:44:43.686Z"
   },
   {
    "duration": 18,
    "start_time": "2022-03-02T06:45:03.506Z"
   },
   {
    "duration": 39,
    "start_time": "2022-03-02T07:45:23.012Z"
   },
   {
    "duration": 610,
    "start_time": "2022-03-02T07:46:18.992Z"
   },
   {
    "duration": 65,
    "start_time": "2022-03-02T07:46:19.607Z"
   },
   {
    "duration": 21,
    "start_time": "2022-03-02T07:46:19.674Z"
   },
   {
    "duration": 25,
    "start_time": "2022-03-02T07:46:19.697Z"
   },
   {
    "duration": 15,
    "start_time": "2022-03-02T07:46:19.723Z"
   },
   {
    "duration": 15,
    "start_time": "2022-03-02T07:46:19.740Z"
   },
   {
    "duration": 21,
    "start_time": "2022-03-02T07:46:19.757Z"
   },
   {
    "duration": 20,
    "start_time": "2022-03-02T07:46:19.781Z"
   },
   {
    "duration": 13,
    "start_time": "2022-03-02T07:46:19.804Z"
   },
   {
    "duration": 25,
    "start_time": "2022-03-02T07:46:19.819Z"
   },
   {
    "duration": 19,
    "start_time": "2022-03-02T07:46:19.846Z"
   },
   {
    "duration": 26,
    "start_time": "2022-03-02T07:46:19.867Z"
   },
   {
    "duration": 48,
    "start_time": "2022-03-02T07:46:19.895Z"
   },
   {
    "duration": 4,
    "start_time": "2022-03-02T07:46:19.945Z"
   },
   {
    "duration": 18,
    "start_time": "2022-03-02T07:46:19.951Z"
   },
   {
    "duration": 40,
    "start_time": "2022-03-02T07:46:19.971Z"
   },
   {
    "duration": 32,
    "start_time": "2022-03-02T07:46:20.013Z"
   },
   {
    "duration": 8,
    "start_time": "2022-03-02T07:46:20.048Z"
   },
   {
    "duration": 31,
    "start_time": "2022-03-02T07:46:20.058Z"
   },
   {
    "duration": 49,
    "start_time": "2022-03-02T07:46:20.091Z"
   },
   {
    "duration": 26,
    "start_time": "2022-03-02T07:46:20.143Z"
   },
   {
    "duration": 21,
    "start_time": "2022-03-02T07:46:20.170Z"
   },
   {
    "duration": 17,
    "start_time": "2022-03-02T07:46:20.193Z"
   },
   {
    "duration": 30,
    "start_time": "2022-03-02T07:46:20.211Z"
   },
   {
    "duration": 19,
    "start_time": "2022-03-02T07:46:20.242Z"
   },
   {
    "duration": 21,
    "start_time": "2022-03-02T07:46:20.264Z"
   },
   {
    "duration": 11,
    "start_time": "2022-03-02T07:46:20.287Z"
   },
   {
    "duration": 30,
    "start_time": "2022-03-02T07:46:20.300Z"
   },
   {
    "duration": 25,
    "start_time": "2022-03-02T07:46:20.332Z"
   },
   {
    "duration": 30,
    "start_time": "2022-03-02T07:46:20.358Z"
   },
   {
    "duration": 34,
    "start_time": "2022-03-02T07:46:20.389Z"
   },
   {
    "duration": 11,
    "start_time": "2022-03-02T07:46:20.425Z"
   },
   {
    "duration": 28,
    "start_time": "2022-03-02T07:46:20.437Z"
   },
   {
    "duration": 74,
    "start_time": "2022-03-02T07:46:20.467Z"
   },
   {
    "duration": 325,
    "start_time": "2022-03-02T07:47:49.749Z"
   },
   {
    "duration": 13,
    "start_time": "2022-03-02T07:47:59.033Z"
   },
   {
    "duration": 3,
    "start_time": "2022-03-02T07:49:20.223Z"
   },
   {
    "duration": 39,
    "start_time": "2022-03-02T07:49:21.300Z"
   },
   {
    "duration": 13,
    "start_time": "2022-03-02T07:49:22.102Z"
   },
   {
    "duration": 684,
    "start_time": "2022-03-02T07:49:56.713Z"
   },
   {
    "duration": 66,
    "start_time": "2022-03-02T07:49:57.398Z"
   },
   {
    "duration": 21,
    "start_time": "2022-03-02T07:49:57.466Z"
   },
   {
    "duration": 17,
    "start_time": "2022-03-02T07:49:57.489Z"
   },
   {
    "duration": 5,
    "start_time": "2022-03-02T07:49:57.508Z"
   },
   {
    "duration": 8,
    "start_time": "2022-03-02T07:49:57.515Z"
   },
   {
    "duration": 7,
    "start_time": "2022-03-02T07:49:57.525Z"
   },
   {
    "duration": 21,
    "start_time": "2022-03-02T07:49:57.534Z"
   },
   {
    "duration": 13,
    "start_time": "2022-03-02T07:49:57.578Z"
   },
   {
    "duration": 12,
    "start_time": "2022-03-02T07:49:57.592Z"
   },
   {
    "duration": 3,
    "start_time": "2022-03-02T07:49:57.605Z"
   },
   {
    "duration": 16,
    "start_time": "2022-03-02T07:49:57.610Z"
   },
   {
    "duration": 60,
    "start_time": "2022-03-02T07:49:57.627Z"
   },
   {
    "duration": 3,
    "start_time": "2022-03-02T07:49:57.689Z"
   },
   {
    "duration": 13,
    "start_time": "2022-03-02T07:49:57.694Z"
   },
   {
    "duration": 35,
    "start_time": "2022-03-02T07:49:57.709Z"
   },
   {
    "duration": 44,
    "start_time": "2022-03-02T07:49:57.745Z"
   },
   {
    "duration": 8,
    "start_time": "2022-03-02T07:49:57.791Z"
   },
   {
    "duration": 13,
    "start_time": "2022-03-02T07:49:57.802Z"
   },
   {
    "duration": 33,
    "start_time": "2022-03-02T07:49:57.817Z"
   },
   {
    "duration": 15,
    "start_time": "2022-03-02T07:49:57.878Z"
   },
   {
    "duration": 22,
    "start_time": "2022-03-02T07:49:57.895Z"
   },
   {
    "duration": 7,
    "start_time": "2022-03-02T07:49:57.920Z"
   },
   {
    "duration": 52,
    "start_time": "2022-03-02T07:49:57.929Z"
   },
   {
    "duration": 19,
    "start_time": "2022-03-02T07:49:57.982Z"
   },
   {
    "duration": 16,
    "start_time": "2022-03-02T07:49:58.003Z"
   },
   {
    "duration": 11,
    "start_time": "2022-03-02T07:49:58.021Z"
   },
   {
    "duration": 11,
    "start_time": "2022-03-02T07:49:58.034Z"
   },
   {
    "duration": 42,
    "start_time": "2022-03-02T07:49:58.047Z"
   },
   {
    "duration": 4,
    "start_time": "2022-03-02T07:49:58.091Z"
   },
   {
    "duration": 22,
    "start_time": "2022-03-02T07:49:58.097Z"
   },
   {
    "duration": 7,
    "start_time": "2022-03-02T07:49:58.121Z"
   },
   {
    "duration": 3,
    "start_time": "2022-03-02T07:49:58.130Z"
   },
   {
    "duration": 71,
    "start_time": "2022-03-02T07:49:58.135Z"
   },
   {
    "duration": 13,
    "start_time": "2022-03-02T07:49:58.207Z"
   },
   {
    "duration": 3,
    "start_time": "2022-03-02T08:07:26.266Z"
   },
   {
    "duration": 630,
    "start_time": "2022-03-02T08:07:34.007Z"
   },
   {
    "duration": 54,
    "start_time": "2022-03-02T08:07:34.639Z"
   },
   {
    "duration": 21,
    "start_time": "2022-03-02T08:07:34.695Z"
   },
   {
    "duration": 13,
    "start_time": "2022-03-02T08:07:34.719Z"
   },
   {
    "duration": 10,
    "start_time": "2022-03-02T08:07:34.734Z"
   },
   {
    "duration": 33,
    "start_time": "2022-03-02T08:07:34.745Z"
   },
   {
    "duration": 7,
    "start_time": "2022-03-02T08:07:34.780Z"
   },
   {
    "duration": 18,
    "start_time": "2022-03-02T08:07:34.791Z"
   },
   {
    "duration": 12,
    "start_time": "2022-03-02T08:07:34.811Z"
   },
   {
    "duration": 13,
    "start_time": "2022-03-02T08:07:34.825Z"
   },
   {
    "duration": 38,
    "start_time": "2022-03-02T08:07:34.839Z"
   },
   {
    "duration": 20,
    "start_time": "2022-03-02T08:07:34.879Z"
   },
   {
    "duration": 37,
    "start_time": "2022-03-02T08:07:34.900Z"
   },
   {
    "duration": 3,
    "start_time": "2022-03-02T08:07:34.939Z"
   },
   {
    "duration": 7,
    "start_time": "2022-03-02T08:07:34.944Z"
   },
   {
    "duration": 58,
    "start_time": "2022-03-02T08:07:34.953Z"
   },
   {
    "duration": 36,
    "start_time": "2022-03-02T08:07:35.013Z"
   },
   {
    "duration": 26,
    "start_time": "2022-03-02T08:07:35.051Z"
   },
   {
    "duration": 13,
    "start_time": "2022-03-02T08:07:35.079Z"
   },
   {
    "duration": 33,
    "start_time": "2022-03-02T08:07:35.094Z"
   },
   {
    "duration": 16,
    "start_time": "2022-03-02T08:07:35.129Z"
   },
   {
    "duration": 53,
    "start_time": "2022-03-02T08:07:35.146Z"
   },
   {
    "duration": 7,
    "start_time": "2022-03-02T08:07:35.203Z"
   },
   {
    "duration": 20,
    "start_time": "2022-03-02T08:07:35.212Z"
   },
   {
    "duration": 53,
    "start_time": "2022-03-02T08:07:35.234Z"
   },
   {
    "duration": 15,
    "start_time": "2022-03-02T08:07:35.289Z"
   },
   {
    "duration": 11,
    "start_time": "2022-03-02T08:07:35.306Z"
   },
   {
    "duration": 11,
    "start_time": "2022-03-02T08:07:35.319Z"
   },
   {
    "duration": 47,
    "start_time": "2022-03-02T08:07:35.332Z"
   },
   {
    "duration": 9,
    "start_time": "2022-03-02T08:07:35.380Z"
   },
   {
    "duration": 23,
    "start_time": "2022-03-02T08:07:35.391Z"
   },
   {
    "duration": 7,
    "start_time": "2022-03-02T08:07:35.415Z"
   },
   {
    "duration": 7,
    "start_time": "2022-03-02T08:07:35.424Z"
   },
   {
    "duration": 5,
    "start_time": "2022-03-02T08:07:35.433Z"
   },
   {
    "duration": 65,
    "start_time": "2022-03-02T08:07:35.439Z"
   },
   {
    "duration": 13,
    "start_time": "2022-03-02T08:07:35.505Z"
   },
   {
    "duration": 237,
    "start_time": "2022-03-02T08:08:29.665Z"
   },
   {
    "duration": 3,
    "start_time": "2022-03-02T08:12:59.317Z"
   },
   {
    "duration": 1422,
    "start_time": "2022-03-02T08:13:00.556Z"
   },
   {
    "duration": 4,
    "start_time": "2022-03-02T08:14:30.351Z"
   },
   {
    "duration": 239,
    "start_time": "2022-03-02T08:14:32.017Z"
   },
   {
    "duration": 3,
    "start_time": "2022-03-02T08:17:42.106Z"
   },
   {
    "duration": 235,
    "start_time": "2022-03-02T08:17:42.869Z"
   },
   {
    "duration": 3,
    "start_time": "2022-03-02T08:22:08.948Z"
   },
   {
    "duration": 220,
    "start_time": "2022-03-02T08:22:09.698Z"
   },
   {
    "duration": 3,
    "start_time": "2022-03-02T08:35:57.442Z"
   },
   {
    "duration": 1730,
    "start_time": "2022-03-02T08:35:58.596Z"
   },
   {
    "duration": 3,
    "start_time": "2022-03-02T08:36:28.122Z"
   },
   {
    "duration": 229,
    "start_time": "2022-03-02T08:36:29.034Z"
   },
   {
    "duration": 16,
    "start_time": "2022-03-02T08:37:03.269Z"
   },
   {
    "duration": 578,
    "start_time": "2022-03-02T08:40:09.520Z"
   },
   {
    "duration": 69,
    "start_time": "2022-03-02T08:40:10.100Z"
   },
   {
    "duration": 20,
    "start_time": "2022-03-02T08:40:10.171Z"
   },
   {
    "duration": 15,
    "start_time": "2022-03-02T08:40:10.193Z"
   },
   {
    "duration": 12,
    "start_time": "2022-03-02T08:40:10.209Z"
   },
   {
    "duration": 7,
    "start_time": "2022-03-02T08:40:10.223Z"
   },
   {
    "duration": 8,
    "start_time": "2022-03-02T08:40:10.232Z"
   },
   {
    "duration": 21,
    "start_time": "2022-03-02T08:40:10.244Z"
   },
   {
    "duration": 22,
    "start_time": "2022-03-02T08:40:10.267Z"
   },
   {
    "duration": 13,
    "start_time": "2022-03-02T08:40:10.290Z"
   },
   {
    "duration": 3,
    "start_time": "2022-03-02T08:40:10.305Z"
   },
   {
    "duration": 16,
    "start_time": "2022-03-02T08:40:10.310Z"
   },
   {
    "duration": 66,
    "start_time": "2022-03-02T08:40:10.328Z"
   },
   {
    "duration": 4,
    "start_time": "2022-03-02T08:40:10.396Z"
   },
   {
    "duration": 8,
    "start_time": "2022-03-02T08:40:10.401Z"
   },
   {
    "duration": 31,
    "start_time": "2022-03-02T08:40:10.411Z"
   },
   {
    "duration": 58,
    "start_time": "2022-03-02T08:40:10.444Z"
   },
   {
    "duration": 8,
    "start_time": "2022-03-02T08:40:10.503Z"
   },
   {
    "duration": 16,
    "start_time": "2022-03-02T08:40:10.513Z"
   },
   {
    "duration": 49,
    "start_time": "2022-03-02T08:40:10.530Z"
   },
   {
    "duration": 16,
    "start_time": "2022-03-02T08:40:10.581Z"
   },
   {
    "duration": 21,
    "start_time": "2022-03-02T08:40:10.599Z"
   },
   {
    "duration": 6,
    "start_time": "2022-03-02T08:40:10.623Z"
   },
   {
    "duration": 52,
    "start_time": "2022-03-02T08:40:10.631Z"
   },
   {
    "duration": 18,
    "start_time": "2022-03-02T08:40:10.685Z"
   },
   {
    "duration": 15,
    "start_time": "2022-03-02T08:40:10.705Z"
   },
   {
    "duration": 11,
    "start_time": "2022-03-02T08:40:10.722Z"
   },
   {
    "duration": 11,
    "start_time": "2022-03-02T08:40:10.734Z"
   },
   {
    "duration": 14,
    "start_time": "2022-03-02T08:40:10.778Z"
   },
   {
    "duration": 5,
    "start_time": "2022-03-02T08:40:10.793Z"
   },
   {
    "duration": 29,
    "start_time": "2022-03-02T08:40:10.800Z"
   },
   {
    "duration": 8,
    "start_time": "2022-03-02T08:40:10.831Z"
   },
   {
    "duration": 4,
    "start_time": "2022-03-02T08:40:10.840Z"
   },
   {
    "duration": 263,
    "start_time": "2022-03-02T08:40:10.845Z"
   },
   {
    "duration": 13,
    "start_time": "2022-03-02T08:40:11.110Z"
   },
   {
    "duration": 13,
    "start_time": "2022-03-02T11:36:29.967Z"
   },
   {
    "duration": 18,
    "start_time": "2022-03-02T11:36:56.359Z"
   },
   {
    "duration": 620,
    "start_time": "2022-03-02T11:39:26.296Z"
   },
   {
    "duration": 52,
    "start_time": "2022-03-02T11:39:26.918Z"
   },
   {
    "duration": 20,
    "start_time": "2022-03-02T11:39:26.972Z"
   },
   {
    "duration": 15,
    "start_time": "2022-03-02T11:39:26.994Z"
   },
   {
    "duration": 7,
    "start_time": "2022-03-02T11:39:27.011Z"
   },
   {
    "duration": 6,
    "start_time": "2022-03-02T11:39:27.020Z"
   },
   {
    "duration": 7,
    "start_time": "2022-03-02T11:39:27.028Z"
   },
   {
    "duration": 45,
    "start_time": "2022-03-02T11:39:27.037Z"
   },
   {
    "duration": 13,
    "start_time": "2022-03-02T11:39:27.085Z"
   },
   {
    "duration": 12,
    "start_time": "2022-03-02T11:39:27.100Z"
   },
   {
    "duration": 3,
    "start_time": "2022-03-02T11:39:27.114Z"
   },
   {
    "duration": 16,
    "start_time": "2022-03-02T11:39:27.118Z"
   },
   {
    "duration": 70,
    "start_time": "2022-03-02T11:39:27.136Z"
   },
   {
    "duration": 4,
    "start_time": "2022-03-02T11:39:27.208Z"
   },
   {
    "duration": 12,
    "start_time": "2022-03-02T11:39:27.214Z"
   },
   {
    "duration": 32,
    "start_time": "2022-03-02T11:39:27.229Z"
   },
   {
    "duration": 34,
    "start_time": "2022-03-02T11:39:27.276Z"
   },
   {
    "duration": 8,
    "start_time": "2022-03-02T11:39:27.312Z"
   },
   {
    "duration": 14,
    "start_time": "2022-03-02T11:39:27.322Z"
   },
   {
    "duration": 67,
    "start_time": "2022-03-02T11:39:27.338Z"
   },
   {
    "duration": 17,
    "start_time": "2022-03-02T11:39:27.407Z"
   },
   {
    "duration": 24,
    "start_time": "2022-03-02T11:39:27.426Z"
   },
   {
    "duration": 7,
    "start_time": "2022-03-02T11:39:27.480Z"
   },
   {
    "duration": 20,
    "start_time": "2022-03-02T11:39:27.490Z"
   },
   {
    "duration": 20,
    "start_time": "2022-03-02T11:39:27.512Z"
   },
   {
    "duration": 56,
    "start_time": "2022-03-02T11:39:27.534Z"
   },
   {
    "duration": 13,
    "start_time": "2022-03-02T11:39:27.593Z"
   },
   {
    "duration": 12,
    "start_time": "2022-03-02T11:39:27.609Z"
   },
   {
    "duration": 15,
    "start_time": "2022-03-02T11:39:27.624Z"
   },
   {
    "duration": 37,
    "start_time": "2022-03-02T11:39:27.642Z"
   },
   {
    "duration": 28,
    "start_time": "2022-03-02T11:39:27.681Z"
   },
   {
    "duration": 8,
    "start_time": "2022-03-02T11:39:27.711Z"
   },
   {
    "duration": 4,
    "start_time": "2022-03-02T11:39:27.721Z"
   },
   {
    "duration": 267,
    "start_time": "2022-03-02T11:39:27.727Z"
   },
   {
    "duration": 13,
    "start_time": "2022-03-02T11:39:27.996Z"
   },
   {
    "duration": 20,
    "start_time": "2022-03-02T11:39:28.012Z"
   },
   {
    "duration": 21,
    "start_time": "2022-03-02T11:43:19.852Z"
   },
   {
    "duration": 133,
    "start_time": "2022-03-02T11:45:24.284Z"
   },
   {
    "duration": 96,
    "start_time": "2022-03-02T11:45:43.749Z"
   },
   {
    "duration": 86,
    "start_time": "2022-03-02T11:46:20.864Z"
   },
   {
    "duration": 86,
    "start_time": "2022-03-02T11:47:04.839Z"
   },
   {
    "duration": 21,
    "start_time": "2022-03-02T11:47:10.576Z"
   },
   {
    "duration": 91,
    "start_time": "2022-03-02T11:47:48.547Z"
   },
   {
    "duration": 357,
    "start_time": "2022-03-02T11:47:58.242Z"
   },
   {
    "duration": 22,
    "start_time": "2022-03-02T11:49:42.148Z"
   },
   {
    "duration": 20,
    "start_time": "2022-03-02T11:52:27.728Z"
   },
   {
    "duration": 12,
    "start_time": "2022-03-02T11:52:40.377Z"
   },
   {
    "duration": 630,
    "start_time": "2022-03-02T11:52:48.363Z"
   },
   {
    "duration": 65,
    "start_time": "2022-03-02T11:52:48.995Z"
   },
   {
    "duration": 21,
    "start_time": "2022-03-02T11:52:49.065Z"
   },
   {
    "duration": 12,
    "start_time": "2022-03-02T11:52:49.088Z"
   },
   {
    "duration": 6,
    "start_time": "2022-03-02T11:52:49.102Z"
   },
   {
    "duration": 7,
    "start_time": "2022-03-02T11:52:49.109Z"
   },
   {
    "duration": 5,
    "start_time": "2022-03-02T11:52:49.119Z"
   },
   {
    "duration": 50,
    "start_time": "2022-03-02T11:52:49.126Z"
   },
   {
    "duration": 13,
    "start_time": "2022-03-02T11:52:49.179Z"
   },
   {
    "duration": 12,
    "start_time": "2022-03-02T11:52:49.194Z"
   },
   {
    "duration": 10,
    "start_time": "2022-03-02T11:52:49.208Z"
   },
   {
    "duration": 4,
    "start_time": "2022-03-02T11:52:49.220Z"
   },
   {
    "duration": 19,
    "start_time": "2022-03-02T11:52:49.226Z"
   },
   {
    "duration": 68,
    "start_time": "2022-03-02T11:52:49.247Z"
   },
   {
    "duration": 4,
    "start_time": "2022-03-02T11:52:49.316Z"
   },
   {
    "duration": 8,
    "start_time": "2022-03-02T11:52:49.321Z"
   },
   {
    "duration": 33,
    "start_time": "2022-03-02T11:52:49.330Z"
   },
   {
    "duration": 32,
    "start_time": "2022-03-02T11:52:49.377Z"
   },
   {
    "duration": 7,
    "start_time": "2022-03-02T11:52:49.411Z"
   },
   {
    "duration": 14,
    "start_time": "2022-03-02T11:52:49.420Z"
   },
   {
    "duration": 60,
    "start_time": "2022-03-02T11:52:49.436Z"
   },
   {
    "duration": 15,
    "start_time": "2022-03-02T11:52:49.500Z"
   },
   {
    "duration": 23,
    "start_time": "2022-03-02T11:52:49.517Z"
   },
   {
    "duration": 24,
    "start_time": "2022-03-02T11:52:49.541Z"
   },
   {
    "duration": 27,
    "start_time": "2022-03-02T11:52:49.567Z"
   },
   {
    "duration": 18,
    "start_time": "2022-03-02T11:52:49.596Z"
   },
   {
    "duration": 16,
    "start_time": "2022-03-02T11:52:49.616Z"
   },
   {
    "duration": 12,
    "start_time": "2022-03-02T11:52:49.633Z"
   },
   {
    "duration": 42,
    "start_time": "2022-03-02T11:52:49.646Z"
   },
   {
    "duration": 12,
    "start_time": "2022-03-02T11:52:49.690Z"
   },
   {
    "duration": 5,
    "start_time": "2022-03-02T11:52:49.704Z"
   },
   {
    "duration": 22,
    "start_time": "2022-03-02T11:52:49.711Z"
   },
   {
    "duration": 10,
    "start_time": "2022-03-02T11:52:49.735Z"
   },
   {
    "duration": 31,
    "start_time": "2022-03-02T11:52:49.746Z"
   },
   {
    "duration": 246,
    "start_time": "2022-03-02T11:52:49.779Z"
   },
   {
    "duration": 13,
    "start_time": "2022-03-02T11:52:50.027Z"
   },
   {
    "duration": 36,
    "start_time": "2022-03-02T11:52:50.042Z"
   },
   {
    "duration": 5,
    "start_time": "2022-03-02T11:54:37.376Z"
   },
   {
    "duration": 6,
    "start_time": "2022-03-02T11:54:52.692Z"
   },
   {
    "duration": 6,
    "start_time": "2022-03-02T11:55:54.116Z"
   },
   {
    "duration": 6,
    "start_time": "2022-03-02T11:57:26.136Z"
   },
   {
    "duration": 6,
    "start_time": "2022-03-02T11:57:36.019Z"
   },
   {
    "duration": 322,
    "start_time": "2022-03-02T12:17:47.934Z"
   },
   {
    "duration": 95,
    "start_time": "2022-03-02T12:19:29.871Z"
   },
   {
    "duration": 97,
    "start_time": "2022-03-02T12:19:46.429Z"
   },
   {
    "duration": 92,
    "start_time": "2022-03-02T12:21:48.170Z"
   },
   {
    "duration": 20,
    "start_time": "2022-03-02T12:29:23.208Z"
   },
   {
    "duration": 275,
    "start_time": "2022-03-02T12:30:30.457Z"
   },
   {
    "duration": 93,
    "start_time": "2022-03-02T12:32:01.087Z"
   },
   {
    "duration": 21,
    "start_time": "2022-03-02T12:32:11.254Z"
   },
   {
    "duration": 28,
    "start_time": "2022-03-02T12:40:24.901Z"
   },
   {
    "duration": 112,
    "start_time": "2022-03-02T17:45:37.237Z"
   },
   {
    "duration": 383,
    "start_time": "2022-03-02T17:47:03.269Z"
   },
   {
    "duration": 614,
    "start_time": "2022-03-02T17:47:10.962Z"
   },
   {
    "duration": 48,
    "start_time": "2022-03-02T17:47:11.578Z"
   },
   {
    "duration": 17,
    "start_time": "2022-03-02T17:47:11.628Z"
   },
   {
    "duration": 11,
    "start_time": "2022-03-02T17:47:11.646Z"
   },
   {
    "duration": 7,
    "start_time": "2022-03-02T17:47:11.658Z"
   },
   {
    "duration": 9,
    "start_time": "2022-03-02T17:47:11.667Z"
   },
   {
    "duration": 6,
    "start_time": "2022-03-02T17:47:11.677Z"
   },
   {
    "duration": 36,
    "start_time": "2022-03-02T17:47:11.685Z"
   },
   {
    "duration": 10,
    "start_time": "2022-03-02T17:47:11.723Z"
   },
   {
    "duration": 10,
    "start_time": "2022-03-02T17:47:11.735Z"
   },
   {
    "duration": 7,
    "start_time": "2022-03-02T17:47:11.747Z"
   },
   {
    "duration": 6,
    "start_time": "2022-03-02T17:47:11.756Z"
   },
   {
    "duration": 42,
    "start_time": "2022-03-02T17:47:11.764Z"
   },
   {
    "duration": 29,
    "start_time": "2022-03-02T17:47:11.808Z"
   },
   {
    "duration": 3,
    "start_time": "2022-03-02T17:47:11.839Z"
   },
   {
    "duration": 8,
    "start_time": "2022-03-02T17:47:11.843Z"
   },
   {
    "duration": 26,
    "start_time": "2022-03-02T17:47:11.853Z"
   },
   {
    "duration": 46,
    "start_time": "2022-03-02T17:47:11.880Z"
   },
   {
    "duration": 6,
    "start_time": "2022-03-02T17:47:11.928Z"
   },
   {
    "duration": 13,
    "start_time": "2022-03-02T17:47:11.935Z"
   },
   {
    "duration": 33,
    "start_time": "2022-03-02T17:47:11.949Z"
   },
   {
    "duration": 31,
    "start_time": "2022-03-02T17:47:11.984Z"
   },
   {
    "duration": 18,
    "start_time": "2022-03-02T17:47:12.017Z"
   },
   {
    "duration": 8,
    "start_time": "2022-03-02T17:47:12.036Z"
   },
   {
    "duration": 24,
    "start_time": "2022-03-02T17:47:12.046Z"
   },
   {
    "duration": 46,
    "start_time": "2022-03-02T17:47:12.072Z"
   },
   {
    "duration": 19,
    "start_time": "2022-03-02T17:47:12.120Z"
   },
   {
    "duration": 10,
    "start_time": "2022-03-02T17:47:12.140Z"
   },
   {
    "duration": 10,
    "start_time": "2022-03-02T17:47:12.151Z"
   },
   {
    "duration": 11,
    "start_time": "2022-03-02T17:47:12.163Z"
   },
   {
    "duration": 32,
    "start_time": "2022-03-02T17:47:12.176Z"
   },
   {
    "duration": 18,
    "start_time": "2022-03-02T17:47:12.210Z"
   },
   {
    "duration": 5,
    "start_time": "2022-03-02T17:47:12.230Z"
   },
   {
    "duration": 3,
    "start_time": "2022-03-02T17:47:12.236Z"
   },
   {
    "duration": 257,
    "start_time": "2022-03-02T17:47:12.241Z"
   },
   {
    "duration": 20,
    "start_time": "2022-03-02T17:47:12.500Z"
   },
   {
    "duration": 29,
    "start_time": "2022-03-02T17:47:12.522Z"
   },
   {
    "duration": 18,
    "start_time": "2022-03-02T17:47:39.533Z"
   },
   {
    "duration": 113,
    "start_time": "2022-03-02T17:51:32.468Z"
   },
   {
    "duration": 352,
    "start_time": "2022-03-02T17:51:38.845Z"
   },
   {
    "duration": 17,
    "start_time": "2022-03-02T17:53:54.592Z"
   },
   {
    "duration": 266,
    "start_time": "2022-03-03T06:40:17.466Z"
   },
   {
    "duration": 577,
    "start_time": "2022-03-03T06:40:24.246Z"
   },
   {
    "duration": 52,
    "start_time": "2022-03-03T06:40:24.825Z"
   },
   {
    "duration": 23,
    "start_time": "2022-03-03T06:40:24.879Z"
   },
   {
    "duration": 15,
    "start_time": "2022-03-03T06:40:24.905Z"
   },
   {
    "duration": 7,
    "start_time": "2022-03-03T06:40:24.922Z"
   },
   {
    "duration": 7,
    "start_time": "2022-03-03T06:40:24.931Z"
   },
   {
    "duration": 6,
    "start_time": "2022-03-03T06:40:24.941Z"
   },
   {
    "duration": 60,
    "start_time": "2022-03-03T06:40:24.951Z"
   },
   {
    "duration": 14,
    "start_time": "2022-03-03T06:40:25.014Z"
   },
   {
    "duration": 15,
    "start_time": "2022-03-03T06:40:25.030Z"
   },
   {
    "duration": 8,
    "start_time": "2022-03-03T06:40:25.047Z"
   },
   {
    "duration": 44,
    "start_time": "2022-03-03T06:40:25.057Z"
   },
   {
    "duration": 15,
    "start_time": "2022-03-03T06:40:25.103Z"
   },
   {
    "duration": 39,
    "start_time": "2022-03-03T06:40:25.120Z"
   },
   {
    "duration": 4,
    "start_time": "2022-03-03T06:40:25.161Z"
   },
   {
    "duration": 8,
    "start_time": "2022-03-03T06:40:25.167Z"
   },
   {
    "duration": 53,
    "start_time": "2022-03-03T06:40:25.177Z"
   },
   {
    "duration": 31,
    "start_time": "2022-03-03T06:40:25.231Z"
   },
   {
    "duration": 8,
    "start_time": "2022-03-03T06:40:25.263Z"
   },
   {
    "duration": 36,
    "start_time": "2022-03-03T06:40:25.273Z"
   },
   {
    "duration": 29,
    "start_time": "2022-03-03T06:40:25.311Z"
   },
   {
    "duration": 16,
    "start_time": "2022-03-03T06:40:25.342Z"
   },
   {
    "duration": 52,
    "start_time": "2022-03-03T06:40:25.363Z"
   },
   {
    "duration": 9,
    "start_time": "2022-03-03T06:40:25.417Z"
   },
   {
    "duration": 20,
    "start_time": "2022-03-03T06:40:25.428Z"
   },
   {
    "duration": 52,
    "start_time": "2022-03-03T06:40:25.451Z"
   },
   {
    "duration": 18,
    "start_time": "2022-03-03T06:40:25.505Z"
   },
   {
    "duration": 13,
    "start_time": "2022-03-03T06:40:25.525Z"
   },
   {
    "duration": 13,
    "start_time": "2022-03-03T06:40:25.539Z"
   },
   {
    "duration": 16,
    "start_time": "2022-03-03T06:40:25.553Z"
   },
   {
    "duration": 32,
    "start_time": "2022-03-03T06:40:25.571Z"
   },
   {
    "duration": 22,
    "start_time": "2022-03-03T06:40:25.605Z"
   },
   {
    "duration": 9,
    "start_time": "2022-03-03T06:40:25.629Z"
   },
   {
    "duration": 8,
    "start_time": "2022-03-03T06:40:25.640Z"
   },
   {
    "duration": 273,
    "start_time": "2022-03-03T06:40:25.650Z"
   },
   {
    "duration": 15,
    "start_time": "2022-03-03T06:40:25.925Z"
   },
   {
    "duration": 29,
    "start_time": "2022-03-03T06:40:25.942Z"
   },
   {
    "duration": 34,
    "start_time": "2022-03-03T06:40:25.973Z"
   },
   {
    "duration": 23,
    "start_time": "2022-03-03T06:42:55.854Z"
   },
   {
    "duration": 23,
    "start_time": "2022-03-03T06:43:06.915Z"
   },
   {
    "duration": 25,
    "start_time": "2022-03-03T06:43:11.581Z"
   },
   {
    "duration": 23,
    "start_time": "2022-03-03T06:45:49.162Z"
   },
   {
    "duration": 294,
    "start_time": "2022-03-03T06:47:37.012Z"
   },
   {
    "duration": 28,
    "start_time": "2022-03-03T06:48:01.254Z"
   },
   {
    "duration": 244,
    "start_time": "2022-03-03T06:50:12.480Z"
   },
   {
    "duration": 229,
    "start_time": "2022-03-03T06:50:47.009Z"
   },
   {
    "duration": 223,
    "start_time": "2022-03-03T06:51:08.232Z"
   },
   {
    "duration": 25,
    "start_time": "2022-03-03T06:51:14.816Z"
   },
   {
    "duration": 19,
    "start_time": "2022-03-03T06:54:36.385Z"
   },
   {
    "duration": 251,
    "start_time": "2022-03-03T07:49:07.990Z"
   },
   {
    "duration": 232,
    "start_time": "2022-03-03T07:49:27.413Z"
   },
   {
    "duration": 25,
    "start_time": "2022-03-03T07:49:53.755Z"
   },
   {
    "duration": 21,
    "start_time": "2022-03-03T07:54:14.389Z"
   },
   {
    "duration": -35,
    "start_time": "2022-03-03T09:47:02.936Z"
   },
   {
    "duration": 574,
    "start_time": "2022-03-03T09:47:19.429Z"
   },
   {
    "duration": 57,
    "start_time": "2022-03-03T09:47:20.006Z"
   },
   {
    "duration": 23,
    "start_time": "2022-03-03T09:47:20.065Z"
   },
   {
    "duration": 13,
    "start_time": "2022-03-03T09:47:20.102Z"
   },
   {
    "duration": 23,
    "start_time": "2022-03-03T09:47:20.117Z"
   },
   {
    "duration": 17,
    "start_time": "2022-03-03T09:47:20.142Z"
   },
   {
    "duration": 33,
    "start_time": "2022-03-03T09:47:20.161Z"
   },
   {
    "duration": 26,
    "start_time": "2022-03-03T09:47:20.197Z"
   },
   {
    "duration": 19,
    "start_time": "2022-03-03T09:47:20.226Z"
   },
   {
    "duration": 52,
    "start_time": "2022-03-03T09:47:20.248Z"
   },
   {
    "duration": 5,
    "start_time": "2022-03-03T09:47:20.302Z"
   },
   {
    "duration": 26,
    "start_time": "2022-03-03T09:47:20.309Z"
   },
   {
    "duration": 48,
    "start_time": "2022-03-03T09:47:20.337Z"
   },
   {
    "duration": 4,
    "start_time": "2022-03-03T09:47:20.387Z"
   },
   {
    "duration": 39,
    "start_time": "2022-03-03T09:47:20.393Z"
   },
   {
    "duration": 45,
    "start_time": "2022-03-03T09:47:20.434Z"
   },
   {
    "duration": 34,
    "start_time": "2022-03-03T09:47:20.480Z"
   },
   {
    "duration": 8,
    "start_time": "2022-03-03T09:47:20.516Z"
   },
   {
    "duration": 32,
    "start_time": "2022-03-03T09:47:20.525Z"
   },
   {
    "duration": 35,
    "start_time": "2022-03-03T09:47:20.559Z"
   },
   {
    "duration": 20,
    "start_time": "2022-03-03T09:47:20.595Z"
   },
   {
    "duration": 25,
    "start_time": "2022-03-03T09:47:20.617Z"
   },
   {
    "duration": 8,
    "start_time": "2022-03-03T09:47:20.645Z"
   },
   {
    "duration": 47,
    "start_time": "2022-03-03T09:47:20.655Z"
   },
   {
    "duration": 20,
    "start_time": "2022-03-03T09:47:20.704Z"
   },
   {
    "duration": 17,
    "start_time": "2022-03-03T09:47:20.726Z"
   },
   {
    "duration": 12,
    "start_time": "2022-03-03T09:47:20.744Z"
   },
   {
    "duration": 44,
    "start_time": "2022-03-03T09:47:20.758Z"
   },
   {
    "duration": 15,
    "start_time": "2022-03-03T09:47:20.804Z"
   },
   {
    "duration": 16,
    "start_time": "2022-03-03T09:47:20.822Z"
   },
   {
    "duration": 26,
    "start_time": "2022-03-03T09:47:20.840Z"
   },
   {
    "duration": 10,
    "start_time": "2022-03-03T09:47:20.868Z"
   },
   {
    "duration": 21,
    "start_time": "2022-03-03T09:47:20.880Z"
   },
   {
    "duration": 255,
    "start_time": "2022-03-03T09:47:20.903Z"
   },
   {
    "duration": 14,
    "start_time": "2022-03-03T09:47:21.160Z"
   },
   {
    "duration": 40,
    "start_time": "2022-03-03T09:47:21.176Z"
   },
   {
    "duration": 25,
    "start_time": "2022-03-03T09:47:21.217Z"
   },
   {
    "duration": 20,
    "start_time": "2022-03-03T09:47:21.243Z"
   },
   {
    "duration": 43,
    "start_time": "2022-03-03T09:47:21.265Z"
   },
   {
    "duration": 5738,
    "start_time": "2022-03-03T09:49:33.945Z"
   },
   {
    "duration": 610,
    "start_time": "2022-03-03T09:49:52.308Z"
   },
   {
    "duration": 59,
    "start_time": "2022-03-03T09:49:52.920Z"
   },
   {
    "duration": 21,
    "start_time": "2022-03-03T09:49:52.981Z"
   },
   {
    "duration": 23,
    "start_time": "2022-03-03T09:49:53.005Z"
   },
   {
    "duration": 11,
    "start_time": "2022-03-03T09:49:53.030Z"
   },
   {
    "duration": 9,
    "start_time": "2022-03-03T09:49:53.043Z"
   },
   {
    "duration": 9,
    "start_time": "2022-03-03T09:49:53.054Z"
   },
   {
    "duration": 37,
    "start_time": "2022-03-03T09:49:53.065Z"
   },
   {
    "duration": 13,
    "start_time": "2022-03-03T09:49:53.105Z"
   },
   {
    "duration": 22,
    "start_time": "2022-03-03T09:49:53.120Z"
   },
   {
    "duration": 4,
    "start_time": "2022-03-03T09:49:53.144Z"
   },
   {
    "duration": 18,
    "start_time": "2022-03-03T09:49:53.150Z"
   },
   {
    "duration": 51,
    "start_time": "2022-03-03T09:49:53.170Z"
   },
   {
    "duration": 3,
    "start_time": "2022-03-03T09:49:53.223Z"
   },
   {
    "duration": 16,
    "start_time": "2022-03-03T09:49:53.228Z"
   },
   {
    "duration": 35,
    "start_time": "2022-03-03T09:49:53.246Z"
   },
   {
    "duration": 45,
    "start_time": "2022-03-03T09:49:53.283Z"
   },
   {
    "duration": 7,
    "start_time": "2022-03-03T09:49:53.330Z"
   },
   {
    "duration": 22,
    "start_time": "2022-03-03T09:49:53.339Z"
   },
   {
    "duration": 51,
    "start_time": "2022-03-03T09:49:53.363Z"
   },
   {
    "duration": 18,
    "start_time": "2022-03-03T09:49:53.416Z"
   },
   {
    "duration": 25,
    "start_time": "2022-03-03T09:49:53.436Z"
   },
   {
    "duration": 37,
    "start_time": "2022-03-03T09:49:53.466Z"
   },
   {
    "duration": 21,
    "start_time": "2022-03-03T09:49:53.506Z"
   },
   {
    "duration": 20,
    "start_time": "2022-03-03T09:49:53.529Z"
   },
   {
    "duration": 16,
    "start_time": "2022-03-03T09:49:53.551Z"
   },
   {
    "duration": 13,
    "start_time": "2022-03-03T09:49:53.602Z"
   },
   {
    "duration": 12,
    "start_time": "2022-03-03T09:49:53.617Z"
   },
   {
    "duration": 15,
    "start_time": "2022-03-03T09:49:53.631Z"
   },
   {
    "duration": 13,
    "start_time": "2022-03-03T09:49:53.648Z"
   },
   {
    "duration": 53,
    "start_time": "2022-03-03T09:49:53.663Z"
   },
   {
    "duration": 5,
    "start_time": "2022-03-03T09:49:53.719Z"
   },
   {
    "duration": 8,
    "start_time": "2022-03-03T09:49:53.726Z"
   },
   {
    "duration": 245,
    "start_time": "2022-03-03T09:49:53.736Z"
   },
   {
    "duration": 23,
    "start_time": "2022-03-03T09:49:53.982Z"
   },
   {
    "duration": 24,
    "start_time": "2022-03-03T09:49:54.007Z"
   },
   {
    "duration": 24,
    "start_time": "2022-03-03T09:49:54.033Z"
   },
   {
    "duration": 45,
    "start_time": "2022-03-03T09:49:54.059Z"
   },
   {
    "duration": 21,
    "start_time": "2022-03-03T09:49:54.107Z"
   },
   {
    "duration": 316,
    "start_time": "2022-03-03T10:00:00.283Z"
   },
   {
    "duration": 214,
    "start_time": "2022-03-03T10:00:07.764Z"
   },
   {
    "duration": 679,
    "start_time": "2022-03-03T10:00:13.674Z"
   },
   {
    "duration": 53,
    "start_time": "2022-03-03T10:00:14.355Z"
   },
   {
    "duration": 22,
    "start_time": "2022-03-03T10:00:14.410Z"
   },
   {
    "duration": 14,
    "start_time": "2022-03-03T10:00:14.435Z"
   },
   {
    "duration": 6,
    "start_time": "2022-03-03T10:00:14.451Z"
   },
   {
    "duration": 11,
    "start_time": "2022-03-03T10:00:14.459Z"
   },
   {
    "duration": 35,
    "start_time": "2022-03-03T10:00:14.473Z"
   },
   {
    "duration": 34,
    "start_time": "2022-03-03T10:00:14.511Z"
   },
   {
    "duration": 15,
    "start_time": "2022-03-03T10:00:14.548Z"
   },
   {
    "duration": 39,
    "start_time": "2022-03-03T10:00:14.566Z"
   },
   {
    "duration": 4,
    "start_time": "2022-03-03T10:00:14.607Z"
   },
   {
    "duration": 20,
    "start_time": "2022-03-03T10:00:14.612Z"
   },
   {
    "duration": 38,
    "start_time": "2022-03-03T10:00:14.634Z"
   },
   {
    "duration": 4,
    "start_time": "2022-03-03T10:00:14.674Z"
   },
   {
    "duration": 30,
    "start_time": "2022-03-03T10:00:14.680Z"
   },
   {
    "duration": 37,
    "start_time": "2022-03-03T10:00:14.712Z"
   },
   {
    "duration": 53,
    "start_time": "2022-03-03T10:00:14.751Z"
   },
   {
    "duration": 8,
    "start_time": "2022-03-03T10:00:14.805Z"
   },
   {
    "duration": 22,
    "start_time": "2022-03-03T10:00:14.815Z"
   },
   {
    "duration": 42,
    "start_time": "2022-03-03T10:00:14.840Z"
   },
   {
    "duration": 17,
    "start_time": "2022-03-03T10:00:14.902Z"
   },
   {
    "duration": 22,
    "start_time": "2022-03-03T10:00:14.921Z"
   },
   {
    "duration": 16,
    "start_time": "2022-03-03T10:00:14.945Z"
   },
   {
    "duration": 47,
    "start_time": "2022-03-03T10:00:14.962Z"
   },
   {
    "duration": 21,
    "start_time": "2022-03-03T10:00:15.012Z"
   },
   {
    "duration": 18,
    "start_time": "2022-03-03T10:00:15.035Z"
   },
   {
    "duration": 12,
    "start_time": "2022-03-03T10:00:15.057Z"
   },
   {
    "duration": 39,
    "start_time": "2022-03-03T10:00:15.071Z"
   },
   {
    "duration": 15,
    "start_time": "2022-03-03T10:00:15.111Z"
   },
   {
    "duration": 8,
    "start_time": "2022-03-03T10:00:15.128Z"
   },
   {
    "duration": 23,
    "start_time": "2022-03-03T10:00:15.138Z"
   },
   {
    "duration": 20,
    "start_time": "2022-03-03T10:00:15.163Z"
   },
   {
    "duration": 4,
    "start_time": "2022-03-03T10:00:15.202Z"
   },
   {
    "duration": 268,
    "start_time": "2022-03-03T10:00:15.208Z"
   },
   {
    "duration": 27,
    "start_time": "2022-03-03T10:00:15.478Z"
   },
   {
    "duration": 25,
    "start_time": "2022-03-03T10:00:15.508Z"
   },
   {
    "duration": 26,
    "start_time": "2022-03-03T10:00:15.536Z"
   },
   {
    "duration": 51,
    "start_time": "2022-03-03T10:00:15.565Z"
   },
   {
    "duration": 22,
    "start_time": "2022-03-03T10:00:15.619Z"
   },
   {
    "duration": 608,
    "start_time": "2022-03-03T15:48:35.530Z"
   },
   {
    "duration": 50,
    "start_time": "2022-03-03T15:48:36.141Z"
   },
   {
    "duration": 22,
    "start_time": "2022-03-03T15:48:36.193Z"
   },
   {
    "duration": 12,
    "start_time": "2022-03-03T15:48:36.217Z"
   },
   {
    "duration": 8,
    "start_time": "2022-03-03T15:48:36.231Z"
   },
   {
    "duration": 10,
    "start_time": "2022-03-03T15:48:36.241Z"
   },
   {
    "duration": 8,
    "start_time": "2022-03-03T15:48:36.253Z"
   },
   {
    "duration": 52,
    "start_time": "2022-03-03T15:48:36.265Z"
   },
   {
    "duration": 26,
    "start_time": "2022-03-03T15:48:36.319Z"
   },
   {
    "duration": 17,
    "start_time": "2022-03-03T15:48:36.347Z"
   },
   {
    "duration": 4,
    "start_time": "2022-03-03T15:48:36.366Z"
   },
   {
    "duration": 34,
    "start_time": "2022-03-03T15:48:36.371Z"
   },
   {
    "duration": 46,
    "start_time": "2022-03-03T15:48:36.406Z"
   },
   {
    "duration": 5,
    "start_time": "2022-03-03T15:48:36.454Z"
   },
   {
    "duration": 15,
    "start_time": "2022-03-03T15:48:36.461Z"
   },
   {
    "duration": 42,
    "start_time": "2022-03-03T15:48:36.478Z"
   },
   {
    "duration": 32,
    "start_time": "2022-03-03T15:48:36.522Z"
   },
   {
    "duration": 8,
    "start_time": "2022-03-03T15:48:36.556Z"
   },
   {
    "duration": 38,
    "start_time": "2022-03-03T15:48:36.566Z"
   },
   {
    "duration": 42,
    "start_time": "2022-03-03T15:48:36.606Z"
   },
   {
    "duration": 18,
    "start_time": "2022-03-03T15:48:36.650Z"
   },
   {
    "duration": 45,
    "start_time": "2022-03-03T15:48:36.671Z"
   },
   {
    "duration": 17,
    "start_time": "2022-03-03T15:48:36.721Z"
   },
   {
    "duration": 32,
    "start_time": "2022-03-03T15:48:36.741Z"
   },
   {
    "duration": 35,
    "start_time": "2022-03-03T15:48:36.776Z"
   },
   {
    "duration": 19,
    "start_time": "2022-03-03T15:48:36.814Z"
   },
   {
    "duration": 15,
    "start_time": "2022-03-03T15:48:36.835Z"
   },
   {
    "duration": 18,
    "start_time": "2022-03-03T15:48:36.852Z"
   },
   {
    "duration": 18,
    "start_time": "2022-03-03T15:48:36.902Z"
   },
   {
    "duration": 24,
    "start_time": "2022-03-03T15:48:36.923Z"
   },
   {
    "duration": 23,
    "start_time": "2022-03-03T15:48:36.949Z"
   },
   {
    "duration": 16,
    "start_time": "2022-03-03T15:48:36.974Z"
   },
   {
    "duration": 11,
    "start_time": "2022-03-03T15:48:36.992Z"
   },
   {
    "duration": 246,
    "start_time": "2022-03-03T15:48:37.005Z"
   },
   {
    "duration": 14,
    "start_time": "2022-03-03T15:48:37.254Z"
   },
   {
    "duration": 47,
    "start_time": "2022-03-03T15:48:37.270Z"
   },
   {
    "duration": 25,
    "start_time": "2022-03-03T15:48:37.319Z"
   },
   {
    "duration": 23,
    "start_time": "2022-03-03T15:48:37.346Z"
   },
   {
    "duration": 42,
    "start_time": "2022-03-03T15:48:37.371Z"
   },
   {
    "duration": 610,
    "start_time": "2022-03-03T17:05:38.404Z"
   },
   {
    "duration": 50,
    "start_time": "2022-03-03T17:05:39.016Z"
   },
   {
    "duration": 21,
    "start_time": "2022-03-03T17:05:39.068Z"
   },
   {
    "duration": 18,
    "start_time": "2022-03-03T17:05:39.091Z"
   },
   {
    "duration": 6,
    "start_time": "2022-03-03T17:05:39.110Z"
   },
   {
    "duration": 15,
    "start_time": "2022-03-03T17:05:39.118Z"
   },
   {
    "duration": 24,
    "start_time": "2022-03-03T17:05:39.135Z"
   },
   {
    "duration": 28,
    "start_time": "2022-03-03T17:05:39.161Z"
   },
   {
    "duration": 24,
    "start_time": "2022-03-03T17:05:39.191Z"
   },
   {
    "duration": 14,
    "start_time": "2022-03-03T17:05:39.217Z"
   },
   {
    "duration": 3,
    "start_time": "2022-03-03T17:05:39.233Z"
   },
   {
    "duration": 44,
    "start_time": "2022-03-03T17:05:39.238Z"
   },
   {
    "duration": 38,
    "start_time": "2022-03-03T17:05:39.284Z"
   },
   {
    "duration": 3,
    "start_time": "2022-03-03T17:05:39.324Z"
   },
   {
    "duration": 8,
    "start_time": "2022-03-03T17:05:39.329Z"
   },
   {
    "duration": 34,
    "start_time": "2022-03-03T17:05:39.339Z"
   },
   {
    "duration": 61,
    "start_time": "2022-03-03T17:05:39.375Z"
   },
   {
    "duration": 7,
    "start_time": "2022-03-03T17:05:39.438Z"
   },
   {
    "duration": 16,
    "start_time": "2022-03-03T17:05:39.447Z"
   },
   {
    "duration": 57,
    "start_time": "2022-03-03T17:05:39.465Z"
   },
   {
    "duration": 18,
    "start_time": "2022-03-03T17:05:39.524Z"
   },
   {
    "duration": 24,
    "start_time": "2022-03-03T17:05:39.544Z"
   },
   {
    "duration": 33,
    "start_time": "2022-03-03T17:05:39.572Z"
   },
   {
    "duration": 31,
    "start_time": "2022-03-03T17:05:39.607Z"
   },
   {
    "duration": 20,
    "start_time": "2022-03-03T17:05:39.641Z"
   },
   {
    "duration": 41,
    "start_time": "2022-03-03T17:05:39.663Z"
   },
   {
    "duration": 17,
    "start_time": "2022-03-03T17:05:39.706Z"
   },
   {
    "duration": 15,
    "start_time": "2022-03-03T17:05:39.725Z"
   },
   {
    "duration": 17,
    "start_time": "2022-03-03T17:05:39.742Z"
   },
   {
    "duration": 41,
    "start_time": "2022-03-03T17:05:39.762Z"
   },
   {
    "duration": 43,
    "start_time": "2022-03-03T17:05:39.805Z"
   },
   {
    "duration": 15,
    "start_time": "2022-03-03T17:05:39.851Z"
   },
   {
    "duration": 4,
    "start_time": "2022-03-03T17:05:39.867Z"
   },
   {
    "duration": 357,
    "start_time": "2022-03-03T17:05:39.873Z"
   },
   {
    "duration": 14,
    "start_time": "2022-03-03T17:05:40.231Z"
   },
   {
    "duration": 24,
    "start_time": "2022-03-03T17:05:40.247Z"
   },
   {
    "duration": 49,
    "start_time": "2022-03-03T17:05:40.273Z"
   },
   {
    "duration": 22,
    "start_time": "2022-03-03T17:05:40.324Z"
   },
   {
    "duration": 22,
    "start_time": "2022-03-03T17:05:40.348Z"
   }
  ],
  "kernelspec": {
   "display_name": "Python 3 (ipykernel)",
   "language": "python",
   "name": "python3"
  },
  "language_info": {
   "codemirror_mode": {
    "name": "ipython",
    "version": 3
   },
   "file_extension": ".py",
   "mimetype": "text/x-python",
   "name": "python",
   "nbconvert_exporter": "python",
   "pygments_lexer": "ipython3",
   "version": "3.9.12"
  },
  "toc": {
   "base_numbering": 1,
   "nav_menu": {},
   "number_sections": true,
   "sideBar": true,
   "skip_h1_title": true,
   "title_cell": "Table of Contents",
   "title_sidebar": "Contents",
   "toc_cell": false,
   "toc_position": {},
   "toc_section_display": true,
   "toc_window_display": true
  }
 },
 "nbformat": 4,
 "nbformat_minor": 5
}
