{
 "cells": [
  {
   "cell_type": "markdown",
   "metadata": {},
   "source": [
    "# Анализ базы данных сервиса чтения книг по подписке\n",
    "\n",
    "***Цель исследования*** - проанализировать данные в базе данных сервиса, чтобы в дальнейшем выдвинуть ценностное предложение\n",
    "\n",
    "***Описание исследования***\n",
    "\n",
    "После покупки сервиса для чтения книг по подписке первая задача — проанализировать базу данных. Данные помогут сформулировать ценностное предложение для нового продукта.\n",
    "\n",
    "***Ход исследования***\n",
    "\n",
    "Необходимо произвести обзор данных и ответить на вопросы:\n",
    "\n",
    "- Посчитайте, сколько книг вышло после 1 января 2000 года;\n",
    "- Для каждой книги посчитайте количество обзоров и среднюю оценку;\n",
    "- Определите издательство, которое выпустило наибольшее число книг толще 50 страниц — так вы исключите из анализа брошюры;\n",
    "- Определите автора с самой высокой средней оценкой книг — учитывайте только книги с 50 и более оценками;\n",
    "- Посчитайте среднее количество обзоров от пользователей, которые поставили больше 50 оценок."
   ]
  },
  {
   "cell_type": "markdown",
   "metadata": {},
   "source": [
    "## Подключение к базе и обзор данных\n",
    "\n",
    "Импортируем библиотеки, которые потребуются нам для работы:"
   ]
  },
  {
   "cell_type": "code",
   "execution_count": 1,
   "metadata": {},
   "outputs": [],
   "source": [
    "# импортируем библиотеки\n",
    "import pandas as pd\n",
    "from sqlalchemy import create_engine"
   ]
  },
  {
   "cell_type": "markdown",
   "metadata": {},
   "source": [
    "Устанавливаем необходимые параметры:"
   ]
  },
  {
   "cell_type": "code",
   "execution_count": 2,
   "metadata": {},
   "outputs": [],
   "source": [
    "# устанавливаем параметры\n",
    "db_config = {'user': 'praktikum_student', # имя пользователя\n",
    "'pwd': 'Sdf4$2;d-d30pp', # пароль\n",
    "'host': 'rc1b-wcoijxj3yxfsf3fs.mdb.yandexcloud.net',\n",
    "'port': 6432, # порт подключения\n",
    "'db': 'data-analyst-final-project-db'} # название базы данных\n",
    "connection_string = 'postgresql://{}:{}@{}:{}/{}'.format(db_config['user'],\n",
    " db_config['pwd'],\n",
    " db_config['host'],\n",
    " db_config['port'],\n",
    " db_config['db'])"
   ]
  },
  {
   "cell_type": "markdown",
   "metadata": {},
   "source": [
    "Сохраняем коннектор:"
   ]
  },
  {
   "cell_type": "code",
   "execution_count": 3,
   "metadata": {},
   "outputs": [],
   "source": [
    "# сохраняем коннектор\n",
    "engine = create_engine(connection_string, connect_args={'sslmode':'require'}) "
   ]
  },
  {
   "cell_type": "markdown",
   "metadata": {},
   "source": [
    "Добавляем функцию для чления запросов:"
   ]
  },
  {
   "cell_type": "code",
   "execution_count": 4,
   "metadata": {},
   "outputs": [],
   "source": [
    "# функция для чтения sql запроса\n",
    "def select(sql):\n",
    "  return pd.read_sql(sql,engine)"
   ]
  },
  {
   "cell_type": "markdown",
   "metadata": {},
   "source": [
    "Откроем каждую из таблиц и посмотрим ее содержимое:"
   ]
  },
  {
   "cell_type": "code",
   "execution_count": 21,
   "metadata": {},
   "outputs": [
    {
     "name": "stdout",
     "output_type": "stream",
     "text": [
      "<class 'pandas.core.frame.DataFrame'>\n",
      "RangeIndex: 1000 entries, 0 to 999\n",
      "Data columns (total 6 columns):\n",
      " #   Column            Non-Null Count  Dtype \n",
      "---  ------            --------------  ----- \n",
      " 0   book_id           1000 non-null   int64 \n",
      " 1   author_id         1000 non-null   int64 \n",
      " 2   title             1000 non-null   object\n",
      " 3   num_pages         1000 non-null   int64 \n",
      " 4   publication_date  1000 non-null   object\n",
      " 5   publisher_id      1000 non-null   int64 \n",
      "dtypes: int64(4), object(2)\n",
      "memory usage: 47.0+ KB\n"
     ]
    }
   ],
   "source": [
    "# читаем таблицу books\n",
    "books = '''\n",
    "SELECT \n",
    "    *\n",
    "FROM books\n",
    "'''\n",
    "\n",
    "books_tab = select(books)\n",
    "books_tab.info()"
   ]
  },
  {
   "cell_type": "code",
   "execution_count": 23,
   "metadata": {},
   "outputs": [
    {
     "data": {
      "text/html": [
       "<div>\n",
       "<style scoped>\n",
       "    .dataframe tbody tr th:only-of-type {\n",
       "        vertical-align: middle;\n",
       "    }\n",
       "\n",
       "    .dataframe tbody tr th {\n",
       "        vertical-align: top;\n",
       "    }\n",
       "\n",
       "    .dataframe thead th {\n",
       "        text-align: right;\n",
       "    }\n",
       "</style>\n",
       "<table border=\"1\" class=\"dataframe\">\n",
       "  <thead>\n",
       "    <tr style=\"text-align: right;\">\n",
       "      <th></th>\n",
       "      <th>book_id</th>\n",
       "      <th>author_id</th>\n",
       "      <th>title</th>\n",
       "      <th>num_pages</th>\n",
       "      <th>publication_date</th>\n",
       "      <th>publisher_id</th>\n",
       "    </tr>\n",
       "  </thead>\n",
       "  <tbody>\n",
       "    <tr>\n",
       "      <th>0</th>\n",
       "      <td>1</td>\n",
       "      <td>546</td>\n",
       "      <td>'Salem's Lot</td>\n",
       "      <td>594</td>\n",
       "      <td>2005-11-01</td>\n",
       "      <td>93</td>\n",
       "    </tr>\n",
       "    <tr>\n",
       "      <th>1</th>\n",
       "      <td>2</td>\n",
       "      <td>465</td>\n",
       "      <td>1 000 Places to See Before You Die</td>\n",
       "      <td>992</td>\n",
       "      <td>2003-05-22</td>\n",
       "      <td>336</td>\n",
       "    </tr>\n",
       "    <tr>\n",
       "      <th>2</th>\n",
       "      <td>3</td>\n",
       "      <td>407</td>\n",
       "      <td>13 Little Blue Envelopes (Little Blue Envelope...</td>\n",
       "      <td>322</td>\n",
       "      <td>2010-12-21</td>\n",
       "      <td>135</td>\n",
       "    </tr>\n",
       "    <tr>\n",
       "      <th>3</th>\n",
       "      <td>4</td>\n",
       "      <td>82</td>\n",
       "      <td>1491: New Revelations of the Americas Before C...</td>\n",
       "      <td>541</td>\n",
       "      <td>2006-10-10</td>\n",
       "      <td>309</td>\n",
       "    </tr>\n",
       "    <tr>\n",
       "      <th>4</th>\n",
       "      <td>5</td>\n",
       "      <td>125</td>\n",
       "      <td>1776</td>\n",
       "      <td>386</td>\n",
       "      <td>2006-07-04</td>\n",
       "      <td>268</td>\n",
       "    </tr>\n",
       "  </tbody>\n",
       "</table>\n",
       "</div>"
      ],
      "text/plain": [
       "   book_id  author_id                                              title  \\\n",
       "0        1        546                                       'Salem's Lot   \n",
       "1        2        465                 1 000 Places to See Before You Die   \n",
       "2        3        407  13 Little Blue Envelopes (Little Blue Envelope...   \n",
       "3        4         82  1491: New Revelations of the Americas Before C...   \n",
       "4        5        125                                               1776   \n",
       "\n",
       "   num_pages publication_date  publisher_id  \n",
       "0        594       2005-11-01            93  \n",
       "1        992       2003-05-22           336  \n",
       "2        322       2010-12-21           135  \n",
       "3        541       2006-10-10           309  \n",
       "4        386       2006-07-04           268  "
      ]
     },
     "execution_count": 23,
     "metadata": {},
     "output_type": "execute_result"
    }
   ],
   "source": [
    "books_tab.head()"
   ]
  },
  {
   "cell_type": "code",
   "execution_count": 24,
   "metadata": {},
   "outputs": [
    {
     "name": "stdout",
     "output_type": "stream",
     "text": [
      "<class 'pandas.core.frame.DataFrame'>\n",
      "RangeIndex: 636 entries, 0 to 635\n",
      "Data columns (total 2 columns):\n",
      " #   Column     Non-Null Count  Dtype \n",
      "---  ------     --------------  ----- \n",
      " 0   author_id  636 non-null    int64 \n",
      " 1   author     636 non-null    object\n",
      "dtypes: int64(1), object(1)\n",
      "memory usage: 10.1+ KB\n"
     ]
    }
   ],
   "source": [
    "# читаем таблицу authors\n",
    "authors = '''\n",
    "SELECT \n",
    "    *\n",
    "FROM authors\n",
    "'''\n",
    "\n",
    "authors_tab = select(authors)\n",
    "authors_tab.info()"
   ]
  },
  {
   "cell_type": "code",
   "execution_count": 25,
   "metadata": {},
   "outputs": [
    {
     "data": {
      "text/html": [
       "<div>\n",
       "<style scoped>\n",
       "    .dataframe tbody tr th:only-of-type {\n",
       "        vertical-align: middle;\n",
       "    }\n",
       "\n",
       "    .dataframe tbody tr th {\n",
       "        vertical-align: top;\n",
       "    }\n",
       "\n",
       "    .dataframe thead th {\n",
       "        text-align: right;\n",
       "    }\n",
       "</style>\n",
       "<table border=\"1\" class=\"dataframe\">\n",
       "  <thead>\n",
       "    <tr style=\"text-align: right;\">\n",
       "      <th></th>\n",
       "      <th>author_id</th>\n",
       "      <th>author</th>\n",
       "    </tr>\n",
       "  </thead>\n",
       "  <tbody>\n",
       "    <tr>\n",
       "      <th>0</th>\n",
       "      <td>1</td>\n",
       "      <td>A.S. Byatt</td>\n",
       "    </tr>\n",
       "    <tr>\n",
       "      <th>1</th>\n",
       "      <td>2</td>\n",
       "      <td>Aesop/Laura Harris/Laura Gibbs</td>\n",
       "    </tr>\n",
       "    <tr>\n",
       "      <th>2</th>\n",
       "      <td>3</td>\n",
       "      <td>Agatha Christie</td>\n",
       "    </tr>\n",
       "    <tr>\n",
       "      <th>3</th>\n",
       "      <td>4</td>\n",
       "      <td>Alan Brennert</td>\n",
       "    </tr>\n",
       "    <tr>\n",
       "      <th>4</th>\n",
       "      <td>5</td>\n",
       "      <td>Alan Moore/David   Lloyd</td>\n",
       "    </tr>\n",
       "  </tbody>\n",
       "</table>\n",
       "</div>"
      ],
      "text/plain": [
       "   author_id                          author\n",
       "0          1                      A.S. Byatt\n",
       "1          2  Aesop/Laura Harris/Laura Gibbs\n",
       "2          3                 Agatha Christie\n",
       "3          4                   Alan Brennert\n",
       "4          5        Alan Moore/David   Lloyd"
      ]
     },
     "execution_count": 25,
     "metadata": {},
     "output_type": "execute_result"
    }
   ],
   "source": [
    "authors_tab.head()"
   ]
  },
  {
   "cell_type": "code",
   "execution_count": 26,
   "metadata": {},
   "outputs": [
    {
     "name": "stdout",
     "output_type": "stream",
     "text": [
      "<class 'pandas.core.frame.DataFrame'>\n",
      "RangeIndex: 6456 entries, 0 to 6455\n",
      "Data columns (total 4 columns):\n",
      " #   Column     Non-Null Count  Dtype \n",
      "---  ------     --------------  ----- \n",
      " 0   rating_id  6456 non-null   int64 \n",
      " 1   book_id    6456 non-null   int64 \n",
      " 2   username   6456 non-null   object\n",
      " 3   rating     6456 non-null   int64 \n",
      "dtypes: int64(3), object(1)\n",
      "memory usage: 201.9+ KB\n"
     ]
    }
   ],
   "source": [
    "# читаем таблицу ratings\n",
    "ratings = '''\n",
    "SELECT \n",
    "    *\n",
    "FROM ratings\n",
    "'''\n",
    "\n",
    "ratings_tab = select(ratings)\n",
    "ratings_tab.info()"
   ]
  },
  {
   "cell_type": "code",
   "execution_count": 27,
   "metadata": {},
   "outputs": [
    {
     "data": {
      "text/html": [
       "<div>\n",
       "<style scoped>\n",
       "    .dataframe tbody tr th:only-of-type {\n",
       "        vertical-align: middle;\n",
       "    }\n",
       "\n",
       "    .dataframe tbody tr th {\n",
       "        vertical-align: top;\n",
       "    }\n",
       "\n",
       "    .dataframe thead th {\n",
       "        text-align: right;\n",
       "    }\n",
       "</style>\n",
       "<table border=\"1\" class=\"dataframe\">\n",
       "  <thead>\n",
       "    <tr style=\"text-align: right;\">\n",
       "      <th></th>\n",
       "      <th>rating_id</th>\n",
       "      <th>book_id</th>\n",
       "      <th>username</th>\n",
       "      <th>rating</th>\n",
       "    </tr>\n",
       "  </thead>\n",
       "  <tbody>\n",
       "    <tr>\n",
       "      <th>0</th>\n",
       "      <td>1</td>\n",
       "      <td>1</td>\n",
       "      <td>ryanfranco</td>\n",
       "      <td>4</td>\n",
       "    </tr>\n",
       "    <tr>\n",
       "      <th>1</th>\n",
       "      <td>2</td>\n",
       "      <td>1</td>\n",
       "      <td>grantpatricia</td>\n",
       "      <td>2</td>\n",
       "    </tr>\n",
       "    <tr>\n",
       "      <th>2</th>\n",
       "      <td>3</td>\n",
       "      <td>1</td>\n",
       "      <td>brandtandrea</td>\n",
       "      <td>5</td>\n",
       "    </tr>\n",
       "    <tr>\n",
       "      <th>3</th>\n",
       "      <td>4</td>\n",
       "      <td>2</td>\n",
       "      <td>lorichen</td>\n",
       "      <td>3</td>\n",
       "    </tr>\n",
       "    <tr>\n",
       "      <th>4</th>\n",
       "      <td>5</td>\n",
       "      <td>2</td>\n",
       "      <td>mariokeller</td>\n",
       "      <td>2</td>\n",
       "    </tr>\n",
       "  </tbody>\n",
       "</table>\n",
       "</div>"
      ],
      "text/plain": [
       "   rating_id  book_id       username  rating\n",
       "0          1        1     ryanfranco       4\n",
       "1          2        1  grantpatricia       2\n",
       "2          3        1   brandtandrea       5\n",
       "3          4        2       lorichen       3\n",
       "4          5        2    mariokeller       2"
      ]
     },
     "execution_count": 27,
     "metadata": {},
     "output_type": "execute_result"
    }
   ],
   "source": [
    "ratings_tab.head()"
   ]
  },
  {
   "cell_type": "code",
   "execution_count": 29,
   "metadata": {},
   "outputs": [
    {
     "name": "stdout",
     "output_type": "stream",
     "text": [
      "<class 'pandas.core.frame.DataFrame'>\n",
      "RangeIndex: 2793 entries, 0 to 2792\n",
      "Data columns (total 4 columns):\n",
      " #   Column     Non-Null Count  Dtype \n",
      "---  ------     --------------  ----- \n",
      " 0   review_id  2793 non-null   int64 \n",
      " 1   book_id    2793 non-null   int64 \n",
      " 2   username   2793 non-null   object\n",
      " 3   text       2793 non-null   object\n",
      "dtypes: int64(2), object(2)\n",
      "memory usage: 87.4+ KB\n"
     ]
    }
   ],
   "source": [
    "# читаем таблицу reviews\n",
    "reviews = '''\n",
    "SELECT \n",
    "    *\n",
    "FROM reviews\n",
    "'''\n",
    "\n",
    "reviews_tab = select(reviews)\n",
    "reviews_tab.info()"
   ]
  },
  {
   "cell_type": "code",
   "execution_count": 30,
   "metadata": {},
   "outputs": [
    {
     "data": {
      "text/html": [
       "<div>\n",
       "<style scoped>\n",
       "    .dataframe tbody tr th:only-of-type {\n",
       "        vertical-align: middle;\n",
       "    }\n",
       "\n",
       "    .dataframe tbody tr th {\n",
       "        vertical-align: top;\n",
       "    }\n",
       "\n",
       "    .dataframe thead th {\n",
       "        text-align: right;\n",
       "    }\n",
       "</style>\n",
       "<table border=\"1\" class=\"dataframe\">\n",
       "  <thead>\n",
       "    <tr style=\"text-align: right;\">\n",
       "      <th></th>\n",
       "      <th>review_id</th>\n",
       "      <th>book_id</th>\n",
       "      <th>username</th>\n",
       "      <th>text</th>\n",
       "    </tr>\n",
       "  </thead>\n",
       "  <tbody>\n",
       "    <tr>\n",
       "      <th>0</th>\n",
       "      <td>1</td>\n",
       "      <td>1</td>\n",
       "      <td>brandtandrea</td>\n",
       "      <td>Mention society tell send professor analysis. ...</td>\n",
       "    </tr>\n",
       "    <tr>\n",
       "      <th>1</th>\n",
       "      <td>2</td>\n",
       "      <td>1</td>\n",
       "      <td>ryanfranco</td>\n",
       "      <td>Foot glass pretty audience hit themselves. Amo...</td>\n",
       "    </tr>\n",
       "    <tr>\n",
       "      <th>2</th>\n",
       "      <td>3</td>\n",
       "      <td>2</td>\n",
       "      <td>lorichen</td>\n",
       "      <td>Listen treat keep worry. Miss husband tax but ...</td>\n",
       "    </tr>\n",
       "    <tr>\n",
       "      <th>3</th>\n",
       "      <td>4</td>\n",
       "      <td>3</td>\n",
       "      <td>johnsonamanda</td>\n",
       "      <td>Finally month interesting blue could nature cu...</td>\n",
       "    </tr>\n",
       "    <tr>\n",
       "      <th>4</th>\n",
       "      <td>5</td>\n",
       "      <td>3</td>\n",
       "      <td>scotttamara</td>\n",
       "      <td>Nation purpose heavy give wait song will. List...</td>\n",
       "    </tr>\n",
       "  </tbody>\n",
       "</table>\n",
       "</div>"
      ],
      "text/plain": [
       "   review_id  book_id       username  \\\n",
       "0          1        1   brandtandrea   \n",
       "1          2        1     ryanfranco   \n",
       "2          3        2       lorichen   \n",
       "3          4        3  johnsonamanda   \n",
       "4          5        3    scotttamara   \n",
       "\n",
       "                                                text  \n",
       "0  Mention society tell send professor analysis. ...  \n",
       "1  Foot glass pretty audience hit themselves. Amo...  \n",
       "2  Listen treat keep worry. Miss husband tax but ...  \n",
       "3  Finally month interesting blue could nature cu...  \n",
       "4  Nation purpose heavy give wait song will. List...  "
      ]
     },
     "execution_count": 30,
     "metadata": {},
     "output_type": "execute_result"
    }
   ],
   "source": [
    "reviews_tab.head()"
   ]
  },
  {
   "cell_type": "code",
   "execution_count": 31,
   "metadata": {},
   "outputs": [
    {
     "name": "stdout",
     "output_type": "stream",
     "text": [
      "<class 'pandas.core.frame.DataFrame'>\n",
      "RangeIndex: 340 entries, 0 to 339\n",
      "Data columns (total 2 columns):\n",
      " #   Column        Non-Null Count  Dtype \n",
      "---  ------        --------------  ----- \n",
      " 0   publisher_id  340 non-null    int64 \n",
      " 1   publisher     340 non-null    object\n",
      "dtypes: int64(1), object(1)\n",
      "memory usage: 5.4+ KB\n"
     ]
    }
   ],
   "source": [
    "# читаем таблицу publishers\n",
    "publishers = '''\n",
    "SELECT \n",
    "    *\n",
    "FROM publishers\n",
    "'''\n",
    "\n",
    "publishers_tab = select(publishers)\n",
    "publishers_tab.info()"
   ]
  },
  {
   "cell_type": "code",
   "execution_count": 32,
   "metadata": {},
   "outputs": [
    {
     "data": {
      "text/html": [
       "<div>\n",
       "<style scoped>\n",
       "    .dataframe tbody tr th:only-of-type {\n",
       "        vertical-align: middle;\n",
       "    }\n",
       "\n",
       "    .dataframe tbody tr th {\n",
       "        vertical-align: top;\n",
       "    }\n",
       "\n",
       "    .dataframe thead th {\n",
       "        text-align: right;\n",
       "    }\n",
       "</style>\n",
       "<table border=\"1\" class=\"dataframe\">\n",
       "  <thead>\n",
       "    <tr style=\"text-align: right;\">\n",
       "      <th></th>\n",
       "      <th>publisher_id</th>\n",
       "      <th>publisher</th>\n",
       "    </tr>\n",
       "  </thead>\n",
       "  <tbody>\n",
       "    <tr>\n",
       "      <th>0</th>\n",
       "      <td>1</td>\n",
       "      <td>Ace</td>\n",
       "    </tr>\n",
       "    <tr>\n",
       "      <th>1</th>\n",
       "      <td>2</td>\n",
       "      <td>Ace Book</td>\n",
       "    </tr>\n",
       "    <tr>\n",
       "      <th>2</th>\n",
       "      <td>3</td>\n",
       "      <td>Ace Books</td>\n",
       "    </tr>\n",
       "    <tr>\n",
       "      <th>3</th>\n",
       "      <td>4</td>\n",
       "      <td>Ace Hardcover</td>\n",
       "    </tr>\n",
       "    <tr>\n",
       "      <th>4</th>\n",
       "      <td>5</td>\n",
       "      <td>Addison Wesley Publishing Company</td>\n",
       "    </tr>\n",
       "  </tbody>\n",
       "</table>\n",
       "</div>"
      ],
      "text/plain": [
       "   publisher_id                          publisher\n",
       "0             1                                Ace\n",
       "1             2                           Ace Book\n",
       "2             3                          Ace Books\n",
       "3             4                      Ace Hardcover\n",
       "4             5  Addison Wesley Publishing Company"
      ]
     },
     "execution_count": 32,
     "metadata": {},
     "output_type": "execute_result"
    }
   ],
   "source": [
    "publishers_tab.head()"
   ]
  },
  {
   "cell_type": "markdown",
   "metadata": {},
   "source": [
    "Содержание всех таблиц соответствует заявленному. Известно, что поля в таблицах обозначены вот так:\n",
    "\n",
    "Таблица books\n",
    "Содержит данные о книгах:\n",
    "- book_id — идентификатор книги;\n",
    "- author_id — идентификатор автора;\n",
    "- title — название книги;\n",
    "- num_pages — количество страниц;\n",
    "- publication_date — дата публикации книги;\n",
    "- publisher_id — идентификатор издателя.\n",
    "\n",
    "Таблица authors\n",
    "Содержит данные об авторах:\n",
    "- author_id — идентификатор автора;\n",
    "- author — имя автора.\n",
    "\n",
    "Таблица publishers\n",
    "Содержит данные об издательствах:\n",
    "- publisher_id — идентификатор издательства;\n",
    "- publisher — название издательства;\n",
    "\n",
    "Таблица ratings\n",
    "Содержит данные о пользовательских оценках книг:\n",
    "- rating_id — идентификатор оценки;\n",
    "- book_id — идентификатор книги;\n",
    "- username — имя пользователя, оставившего оценку;\n",
    "- rating — оценка книги.\n",
    "\n",
    "Таблица reviews\n",
    "Содержит данные о пользовательских обзорах:\n",
    "- review_id — идентификатор обзора;\n",
    "- book_id — идентификатор книги;\n",
    "- username — имя автора обзора;\n",
    "- text — текст обзора.\n",
    "\n",
    "Схема данных выглядит так:\n",
    "![](https://pictures.s3.yandex.net/resources/scheme_1589269096.png) \n",
    "\n",
    "\n",
    "Приступим к решению задач. "
   ]
  },
  {
   "cell_type": "markdown",
   "metadata": {},
   "source": [
    "## Решение задач\n",
    "\n",
    "### Посчитайте, сколько книг вышло после 1 января 2000 года"
   ]
  },
  {
   "cell_type": "code",
   "execution_count": 10,
   "metadata": {},
   "outputs": [
    {
     "data": {
      "text/html": [
       "<div>\n",
       "<style scoped>\n",
       "    .dataframe tbody tr th:only-of-type {\n",
       "        vertical-align: middle;\n",
       "    }\n",
       "\n",
       "    .dataframe tbody tr th {\n",
       "        vertical-align: top;\n",
       "    }\n",
       "\n",
       "    .dataframe thead th {\n",
       "        text-align: right;\n",
       "    }\n",
       "</style>\n",
       "<table border=\"1\" class=\"dataframe\">\n",
       "  <thead>\n",
       "    <tr style=\"text-align: right;\">\n",
       "      <th></th>\n",
       "      <th>count</th>\n",
       "    </tr>\n",
       "  </thead>\n",
       "  <tbody>\n",
       "    <tr>\n",
       "      <th>0</th>\n",
       "      <td>819</td>\n",
       "    </tr>\n",
       "  </tbody>\n",
       "</table>\n",
       "</div>"
      ],
      "text/plain": [
       "   count\n",
       "0    819"
      ]
     },
     "execution_count": 10,
     "metadata": {},
     "output_type": "execute_result"
    }
   ],
   "source": [
    "books_count = '''\n",
    "SELECT COUNT(book_id)\n",
    "FROM books\n",
    "WHERE publication_date > '2000-01-01'\n",
    "'''\n",
    "\n",
    "select(books_count)"
   ]
  },
  {
   "cell_type": "markdown",
   "metadata": {},
   "source": [
    "Теперь нам известно, что после 1 января 2000 года было выпущено 819 книг. "
   ]
  },
  {
   "cell_type": "markdown",
   "metadata": {},
   "source": [
    "### Для каждой книги посчитайте количество обзоров и среднюю оценку"
   ]
  },
  {
   "cell_type": "code",
   "execution_count": 11,
   "metadata": {},
   "outputs": [
    {
     "data": {
      "text/html": [
       "<div>\n",
       "<style scoped>\n",
       "    .dataframe tbody tr th:only-of-type {\n",
       "        vertical-align: middle;\n",
       "    }\n",
       "\n",
       "    .dataframe tbody tr th {\n",
       "        vertical-align: top;\n",
       "    }\n",
       "\n",
       "    .dataframe thead th {\n",
       "        text-align: right;\n",
       "    }\n",
       "</style>\n",
       "<table border=\"1\" class=\"dataframe\">\n",
       "  <thead>\n",
       "    <tr style=\"text-align: right;\">\n",
       "      <th></th>\n",
       "      <th>book_id</th>\n",
       "      <th>title</th>\n",
       "      <th>c_rev</th>\n",
       "      <th>avg_rat</th>\n",
       "    </tr>\n",
       "  </thead>\n",
       "  <tbody>\n",
       "    <tr>\n",
       "      <th>0</th>\n",
       "      <td>672</td>\n",
       "      <td>The Cat in the Hat and Other Dr. Seuss Favorites</td>\n",
       "      <td>NaN</td>\n",
       "      <td>5.00</td>\n",
       "    </tr>\n",
       "    <tr>\n",
       "      <th>1</th>\n",
       "      <td>17</td>\n",
       "      <td>A Dirty Job (Grim Reaper  #1)</td>\n",
       "      <td>4.0</td>\n",
       "      <td>5.00</td>\n",
       "    </tr>\n",
       "    <tr>\n",
       "      <th>2</th>\n",
       "      <td>553</td>\n",
       "      <td>School's Out—Forever (Maximum Ride  #2)</td>\n",
       "      <td>3.0</td>\n",
       "      <td>5.00</td>\n",
       "    </tr>\n",
       "    <tr>\n",
       "      <th>3</th>\n",
       "      <td>444</td>\n",
       "      <td>Moneyball: The Art of Winning an Unfair Game</td>\n",
       "      <td>3.0</td>\n",
       "      <td>5.00</td>\n",
       "    </tr>\n",
       "    <tr>\n",
       "      <th>4</th>\n",
       "      <td>516</td>\n",
       "      <td>Plum Island (John Corey  #1)</td>\n",
       "      <td>2.0</td>\n",
       "      <td>5.00</td>\n",
       "    </tr>\n",
       "    <tr>\n",
       "      <th>...</th>\n",
       "      <td>...</td>\n",
       "      <td>...</td>\n",
       "      <td>...</td>\n",
       "      <td>...</td>\n",
       "    </tr>\n",
       "    <tr>\n",
       "      <th>995</th>\n",
       "      <td>915</td>\n",
       "      <td>The World Is Flat: A Brief History of the Twen...</td>\n",
       "      <td>3.0</td>\n",
       "      <td>2.25</td>\n",
       "    </tr>\n",
       "    <tr>\n",
       "      <th>996</th>\n",
       "      <td>202</td>\n",
       "      <td>Drowning Ruth</td>\n",
       "      <td>3.0</td>\n",
       "      <td>2.00</td>\n",
       "    </tr>\n",
       "    <tr>\n",
       "      <th>997</th>\n",
       "      <td>371</td>\n",
       "      <td>Junky</td>\n",
       "      <td>2.0</td>\n",
       "      <td>2.00</td>\n",
       "    </tr>\n",
       "    <tr>\n",
       "      <th>998</th>\n",
       "      <td>316</td>\n",
       "      <td>His Excellency: George Washington</td>\n",
       "      <td>2.0</td>\n",
       "      <td>2.00</td>\n",
       "    </tr>\n",
       "    <tr>\n",
       "      <th>999</th>\n",
       "      <td>303</td>\n",
       "      <td>Harvesting the Heart</td>\n",
       "      <td>2.0</td>\n",
       "      <td>1.50</td>\n",
       "    </tr>\n",
       "  </tbody>\n",
       "</table>\n",
       "<p>1000 rows × 4 columns</p>\n",
       "</div>"
      ],
      "text/plain": [
       "     book_id                                              title  c_rev  \\\n",
       "0        672   The Cat in the Hat and Other Dr. Seuss Favorites    NaN   \n",
       "1         17                      A Dirty Job (Grim Reaper  #1)    4.0   \n",
       "2        553            School's Out—Forever (Maximum Ride  #2)    3.0   \n",
       "3        444       Moneyball: The Art of Winning an Unfair Game    3.0   \n",
       "4        516                       Plum Island (John Corey  #1)    2.0   \n",
       "..       ...                                                ...    ...   \n",
       "995      915  The World Is Flat: A Brief History of the Twen...    3.0   \n",
       "996      202                                      Drowning Ruth    3.0   \n",
       "997      371                                              Junky    2.0   \n",
       "998      316                  His Excellency: George Washington    2.0   \n",
       "999      303                               Harvesting the Heart    2.0   \n",
       "\n",
       "     avg_rat  \n",
       "0       5.00  \n",
       "1       5.00  \n",
       "2       5.00  \n",
       "3       5.00  \n",
       "4       5.00  \n",
       "..       ...  \n",
       "995     2.25  \n",
       "996     2.00  \n",
       "997     2.00  \n",
       "998     2.00  \n",
       "999     1.50  \n",
       "\n",
       "[1000 rows x 4 columns]"
      ]
     },
     "execution_count": 11,
     "metadata": {},
     "output_type": "execute_result"
    }
   ],
   "source": [
    "books_details = '''\n",
    "WITH\n",
    "a AS (SELECT book_id, COUNT(review_id) AS c_rev\n",
    "      FROM reviews\n",
    "      GROUP BY book_id),\n",
    "b AS (SELECT book_id, AVG(rating) AS avg_rat\n",
    "      FROM ratings\n",
    "      GROUP BY book_id)      \n",
    "\n",
    "\n",
    "SELECT books.book_id,\n",
    "books.title, \n",
    "c_rev,\n",
    "avg_rat\n",
    "FROM books \n",
    "left JOIN a ON books.book_id = a.book_id\n",
    "left JOIN b ON books.book_id = b.book_id\n",
    "ORDER BY avg_rat DESC, c_rev DESC\n",
    "'''\n",
    "\n",
    "select(books_details)"
   ]
  },
  {
   "cell_type": "markdown",
   "metadata": {},
   "source": [
    "Всего у нас 1000 книг со средними оценками пользователей от 5 до 1,5. При этом общее количество отзывов может быть разным. Например, есть книги имеющие рейтинг 5, но не имеющие отзывов совсем. В тоже время мы видим и обратную историю. "
   ]
  },
  {
   "cell_type": "markdown",
   "metadata": {},
   "source": [
    "### Определите издательство, которое выпустило наибольшее число книг толще 50 страниц — так вы исключите из анализа брошюры"
   ]
  },
  {
   "cell_type": "code",
   "execution_count": 12,
   "metadata": {},
   "outputs": [
    {
     "data": {
      "text/html": [
       "<div>\n",
       "<style scoped>\n",
       "    .dataframe tbody tr th:only-of-type {\n",
       "        vertical-align: middle;\n",
       "    }\n",
       "\n",
       "    .dataframe tbody tr th {\n",
       "        vertical-align: top;\n",
       "    }\n",
       "\n",
       "    .dataframe thead th {\n",
       "        text-align: right;\n",
       "    }\n",
       "</style>\n",
       "<table border=\"1\" class=\"dataframe\">\n",
       "  <thead>\n",
       "    <tr style=\"text-align: right;\">\n",
       "      <th></th>\n",
       "      <th>publisher</th>\n",
       "      <th>coun_b</th>\n",
       "    </tr>\n",
       "  </thead>\n",
       "  <tbody>\n",
       "    <tr>\n",
       "      <th>0</th>\n",
       "      <td>Penguin Books</td>\n",
       "      <td>42</td>\n",
       "    </tr>\n",
       "  </tbody>\n",
       "</table>\n",
       "</div>"
      ],
      "text/plain": [
       "       publisher  coun_b\n",
       "0  Penguin Books      42"
      ]
     },
     "execution_count": 12,
     "metadata": {},
     "output_type": "execute_result"
    }
   ],
   "source": [
    "books_publishers = '''\n",
    "SELECT publisher,\n",
    "COUNT(book_id) AS coun_b\n",
    "FROM books AS b\n",
    "left JOIN publishers AS p ON b.publisher_id = p.publisher_id\n",
    "WHERE num_pages > 50\n",
    "GROUP BY publisher\n",
    "ORDER BY coun_b DESC\n",
    "LIMIT 1\n",
    "'''\n",
    "\n",
    "select(books_publishers)"
   ]
  },
  {
   "cell_type": "markdown",
   "metadata": {},
   "source": [
    "Больше всего книг (42) выпустило издательство Penguin Books. Все книги больше 50 страниц. "
   ]
  },
  {
   "cell_type": "markdown",
   "metadata": {},
   "source": [
    "### Определите автора с самой высокой средней оценкой книг — учитывайте только книги с 50 и более оценками"
   ]
  },
  {
   "cell_type": "code",
   "execution_count": 20,
   "metadata": {},
   "outputs": [
    {
     "data": {
      "text/html": [
       "<div>\n",
       "<style scoped>\n",
       "    .dataframe tbody tr th:only-of-type {\n",
       "        vertical-align: middle;\n",
       "    }\n",
       "\n",
       "    .dataframe tbody tr th {\n",
       "        vertical-align: top;\n",
       "    }\n",
       "\n",
       "    .dataframe thead th {\n",
       "        text-align: right;\n",
       "    }\n",
       "</style>\n",
       "<table border=\"1\" class=\"dataframe\">\n",
       "  <thead>\n",
       "    <tr style=\"text-align: right;\">\n",
       "      <th></th>\n",
       "      <th>author_id</th>\n",
       "      <th>author</th>\n",
       "      <th>avg_rat</th>\n",
       "      <th>count_rat</th>\n",
       "    </tr>\n",
       "  </thead>\n",
       "  <tbody>\n",
       "    <tr>\n",
       "      <th>0</th>\n",
       "      <td>236</td>\n",
       "      <td>J.K. Rowling/Mary GrandPré</td>\n",
       "      <td>4.283844</td>\n",
       "      <td>310.0</td>\n",
       "    </tr>\n",
       "  </tbody>\n",
       "</table>\n",
       "</div>"
      ],
      "text/plain": [
       "   author_id                      author   avg_rat  count_rat\n",
       "0        236  J.K. Rowling/Mary GrandPré  4.283844      310.0"
      ]
     },
     "execution_count": 20,
     "metadata": {},
     "output_type": "execute_result"
    }
   ],
   "source": [
    "books_rating = '''    \n",
    "SELECT au.author_id, au.author, AVG(a.avg_rat) AS avg_rat, SUM(a.count_rat) as count_rat\n",
    "FROM (SELECT book_id, \n",
    "      AVG(rating) as avg_rat,\n",
    "      COUNT(rating) AS count_rat\n",
    "      FROM ratings \n",
    "      GROUP BY book_id\n",
    "      HAVING COUNT(rating) >= 50) AS a\n",
    "left JOIN books AS b ON a.book_id = b.book_id\n",
    "left JOIN authors AS au ON b.author_id = au.author_id\n",
    "GROUP BY au.author_id, au.author\n",
    "ORDER BY avg_rat DESC\n",
    "LIMIT 1\n",
    "'''\n",
    "\n",
    "select(books_rating)"
   ]
  },
  {
   "cell_type": "markdown",
   "metadata": {},
   "source": [
    "При условии, что нам нужно было учитывать только авторов с количеством оценок более 50, то самая высокая оценка книг получилась у Джоан Роулин."
   ]
  },
  {
   "cell_type": "markdown",
   "metadata": {},
   "source": [
    "### Посчитайте среднее количество обзоров от пользователей, которые поставили больше 50 оценок"
   ]
  },
  {
   "cell_type": "code",
   "execution_count": null,
   "metadata": {},
   "outputs": [],
   "source": [
    "books_reviews = '''\n",
    "WITH\n",
    "a AS (SELECT username,\n",
    "COUNT(review_id) AS count_rev\n",
    "FROM reviews\n",
    "WHERE username IN (SELECT username\n",
    "                   FROM (SELECT username, \n",
    "                         COUNT(rating) AS count_rat\n",
    "                         FROM ratings\n",
    "                         GROUP BY username\n",
    "                         HAVING COUNT(rating) > 50) AS b)\n",
    "GROUP BY username)\n",
    "\n",
    "\n",
    "SELECT AVG(count_rev)\n",
    "FROM a\n",
    "'''\n",
    "\n",
    "select(books_reviews)"
   ]
  },
  {
   "cell_type": "markdown",
   "metadata": {},
   "source": [
    "Те пользователи, которые ставят больше всего оценок, показывают и высокие значения по количеству обзоров. В среднем у них получилось 24 обзора - это довольно много. "
   ]
  },
  {
   "cell_type": "markdown",
   "metadata": {},
   "source": [
    "## Вывод\n",
    "\n",
    "Мы произвели необходимые выгрузки данных. У нас получилось:\n",
    "- всего книг выпущенных после 1 января 2000 года у нас 819\n",
    "- всего книг у нас 1000. Книги имеют рейтинг от 1,5 до 5. При этом количество отзывов не всегда зависит от рейтинга: книги с высоким рейтингом могут не иметь отзывов, книги с низким рейтингом могут иметь достаточно большое количество отзывов\n",
    "- больше всего книг выпускает издательство Penguin Books\t\n",
    "- самым популярным автором (по рейтингу и количеству оценок) является J.K. Rowling/Mary GrandPré\t\n",
    "- те пользователи, которые оставляют достаточно много оценок, так же часто пишут обзоры. В среднем те, кто оставил больше 50 оценок, пишут 24 отзыва"
   ]
  },
  {
   "cell_type": "code",
   "execution_count": null,
   "metadata": {},
   "outputs": [],
   "source": []
  }
 ],
 "metadata": {
  "ExecuteTimeLog": [
   {
    "duration": 8958,
    "start_time": "2022-08-12T11:40:42.015Z"
   },
   {
    "duration": 2,
    "start_time": "2022-08-12T11:41:47.730Z"
   },
   {
    "duration": 3,
    "start_time": "2022-08-12T11:41:48.927Z"
   },
   {
    "duration": 4,
    "start_time": "2022-08-12T11:41:49.609Z"
   },
   {
    "duration": 486,
    "start_time": "2022-08-12T11:41:54.463Z"
   },
   {
    "duration": 3,
    "start_time": "2022-08-12T11:41:54.950Z"
   },
   {
    "duration": 11098,
    "start_time": "2022-08-12T11:41:54.955Z"
   },
   {
    "duration": 3,
    "start_time": "2022-08-12T11:48:51.164Z"
   },
   {
    "duration": 3,
    "start_time": "2022-08-12T13:01:49.433Z"
   },
   {
    "duration": 252,
    "start_time": "2022-08-12T13:02:30.247Z"
   },
   {
    "duration": 518,
    "start_time": "2022-08-12T13:02:53.295Z"
   },
   {
    "duration": 3,
    "start_time": "2022-08-12T13:02:53.815Z"
   },
   {
    "duration": 7632,
    "start_time": "2022-08-12T13:02:53.819Z"
   },
   {
    "duration": 3,
    "start_time": "2022-08-12T13:03:01.452Z"
   },
   {
    "duration": 260,
    "start_time": "2022-08-12T13:03:01.458Z"
   },
   {
    "duration": 77,
    "start_time": "2022-08-12T13:03:49.297Z"
   },
   {
    "duration": 72,
    "start_time": "2022-08-12T13:04:14.251Z"
   },
   {
    "duration": 501,
    "start_time": "2022-08-12T13:04:22.842Z"
   },
   {
    "duration": 3,
    "start_time": "2022-08-12T13:04:23.345Z"
   },
   {
    "duration": 7820,
    "start_time": "2022-08-12T13:04:23.350Z"
   },
   {
    "duration": 3,
    "start_time": "2022-08-12T13:04:31.172Z"
   },
   {
    "duration": 277,
    "start_time": "2022-08-12T13:04:31.176Z"
   },
   {
    "duration": 101,
    "start_time": "2022-08-12T13:10:20.726Z"
   },
   {
    "duration": 79,
    "start_time": "2022-08-12T13:10:41.138Z"
   },
   {
    "duration": 86,
    "start_time": "2022-08-12T13:10:59.609Z"
   },
   {
    "duration": 74,
    "start_time": "2022-08-12T13:11:45.241Z"
   },
   {
    "duration": 512,
    "start_time": "2022-08-14T14:28:25.984Z"
   },
   {
    "duration": 5,
    "start_time": "2022-08-14T14:28:26.498Z"
   },
   {
    "duration": 5411,
    "start_time": "2022-08-14T14:28:26.505Z"
   },
   {
    "duration": 3,
    "start_time": "2022-08-14T14:28:31.917Z"
   },
   {
    "duration": 78,
    "start_time": "2022-08-14T14:28:31.921Z"
   },
   {
    "duration": 498,
    "start_time": "2022-08-14T14:28:47.319Z"
   },
   {
    "duration": 10,
    "start_time": "2022-08-14T14:28:47.819Z"
   },
   {
    "duration": 7628,
    "start_time": "2022-08-14T14:28:47.830Z"
   },
   {
    "duration": 3,
    "start_time": "2022-08-14T14:28:55.459Z"
   },
   {
    "duration": 327,
    "start_time": "2022-08-14T14:28:55.463Z"
   },
   {
    "duration": 89,
    "start_time": "2022-08-14T14:30:21.980Z"
   },
   {
    "duration": 101,
    "start_time": "2022-08-14T14:31:11.648Z"
   },
   {
    "duration": 116,
    "start_time": "2022-08-14T14:32:34.360Z"
   },
   {
    "duration": 81,
    "start_time": "2022-08-14T14:33:28.695Z"
   },
   {
    "duration": 80,
    "start_time": "2022-08-14T14:42:11.902Z"
   },
   {
    "duration": 7,
    "start_time": "2022-08-14T14:42:21.925Z"
   },
   {
    "duration": 180,
    "start_time": "2022-08-14T14:48:52.515Z"
   },
   {
    "duration": 79,
    "start_time": "2022-08-14T14:49:10.193Z"
   },
   {
    "duration": 185,
    "start_time": "2022-08-14T14:59:59.453Z"
   },
   {
    "duration": 215,
    "start_time": "2022-08-14T15:00:19.678Z"
   },
   {
    "duration": 218,
    "start_time": "2022-08-14T15:03:39.590Z"
   },
   {
    "duration": 141,
    "start_time": "2022-08-14T15:03:53.149Z"
   },
   {
    "duration": 146,
    "start_time": "2022-08-14T15:04:31.649Z"
   },
   {
    "duration": 149,
    "start_time": "2022-08-14T15:04:47.033Z"
   },
   {
    "duration": 168,
    "start_time": "2022-08-14T15:04:58.325Z"
   },
   {
    "duration": 145,
    "start_time": "2022-08-14T15:05:31.285Z"
   },
   {
    "duration": 294,
    "start_time": "2022-08-14T15:07:45.886Z"
   },
   {
    "duration": 646,
    "start_time": "2022-08-14T15:07:55.917Z"
   },
   {
    "duration": 123,
    "start_time": "2022-08-14T15:12:09.712Z"
   },
   {
    "duration": 117,
    "start_time": "2022-08-14T15:12:56.182Z"
   },
   {
    "duration": 117,
    "start_time": "2022-08-14T15:16:08.346Z"
   },
   {
    "duration": 119,
    "start_time": "2022-08-14T15:17:57.912Z"
   },
   {
    "duration": 492,
    "start_time": "2022-08-14T15:18:11.108Z"
   },
   {
    "duration": 10,
    "start_time": "2022-08-14T15:18:11.602Z"
   },
   {
    "duration": 7793,
    "start_time": "2022-08-14T15:18:11.616Z"
   },
   {
    "duration": 3,
    "start_time": "2022-08-14T15:18:19.413Z"
   },
   {
    "duration": 293,
    "start_time": "2022-08-14T15:18:19.418Z"
   },
   {
    "duration": 79,
    "start_time": "2022-08-14T15:18:19.713Z"
   },
   {
    "duration": 76,
    "start_time": "2022-08-14T15:18:19.793Z"
   },
   {
    "duration": 76,
    "start_time": "2022-08-14T15:18:19.871Z"
   },
   {
    "duration": 76,
    "start_time": "2022-08-14T15:18:19.951Z"
   },
   {
    "duration": 73,
    "start_time": "2022-08-14T15:18:20.028Z"
   },
   {
    "duration": 110,
    "start_time": "2022-08-14T15:18:20.102Z"
   },
   {
    "duration": 242,
    "start_time": "2022-08-14T15:38:00.188Z"
   },
   {
    "duration": 158,
    "start_time": "2022-08-14T15:38:24.306Z"
   },
   {
    "duration": 105,
    "start_time": "2022-08-14T15:38:37.717Z"
   },
   {
    "duration": 107,
    "start_time": "2022-08-14T15:39:25.796Z"
   },
   {
    "duration": 106,
    "start_time": "2022-08-14T15:39:31.159Z"
   },
   {
    "duration": 110,
    "start_time": "2022-08-14T15:39:53.862Z"
   },
   {
    "duration": 460,
    "start_time": "2022-08-14T15:40:32.265Z"
   },
   {
    "duration": 3,
    "start_time": "2022-08-14T15:40:32.727Z"
   },
   {
    "duration": 5465,
    "start_time": "2022-08-14T15:40:32.732Z"
   },
   {
    "duration": 3,
    "start_time": "2022-08-14T15:40:38.199Z"
   },
   {
    "duration": 260,
    "start_time": "2022-08-14T15:40:38.203Z"
   },
   {
    "duration": 74,
    "start_time": "2022-08-14T15:40:38.464Z"
   },
   {
    "duration": 74,
    "start_time": "2022-08-14T15:40:38.540Z"
   },
   {
    "duration": 74,
    "start_time": "2022-08-14T15:40:38.616Z"
   },
   {
    "duration": 73,
    "start_time": "2022-08-14T15:40:38.692Z"
   },
   {
    "duration": 73,
    "start_time": "2022-08-14T15:40:38.768Z"
   },
   {
    "duration": 107,
    "start_time": "2022-08-14T15:40:38.842Z"
   },
   {
    "duration": 108,
    "start_time": "2022-08-14T15:47:00.200Z"
   },
   {
    "duration": 435,
    "start_time": "2022-08-14T15:47:26.847Z"
   },
   {
    "duration": 3,
    "start_time": "2022-08-14T15:47:27.284Z"
   },
   {
    "duration": 6576,
    "start_time": "2022-08-14T15:47:27.288Z"
   },
   {
    "duration": 2,
    "start_time": "2022-08-14T15:47:33.866Z"
   },
   {
    "duration": 261,
    "start_time": "2022-08-14T15:47:33.869Z"
   },
   {
    "duration": 75,
    "start_time": "2022-08-14T15:47:34.132Z"
   },
   {
    "duration": 75,
    "start_time": "2022-08-14T15:47:34.209Z"
   },
   {
    "duration": 75,
    "start_time": "2022-08-14T15:47:34.285Z"
   },
   {
    "duration": 76,
    "start_time": "2022-08-14T15:47:34.362Z"
   },
   {
    "duration": 76,
    "start_time": "2022-08-14T15:47:34.441Z"
   },
   {
    "duration": 109,
    "start_time": "2022-08-14T15:47:34.519Z"
   },
   {
    "duration": 480,
    "start_time": "2022-08-15T06:14:00.699Z"
   },
   {
    "duration": 3,
    "start_time": "2022-08-15T06:14:01.182Z"
   },
   {
    "duration": 8161,
    "start_time": "2022-08-15T06:14:01.186Z"
   },
   {
    "duration": 2,
    "start_time": "2022-08-15T06:14:09.349Z"
   },
   {
    "duration": 268,
    "start_time": "2022-08-15T06:14:09.353Z"
   },
   {
    "duration": 77,
    "start_time": "2022-08-15T06:14:09.623Z"
   },
   {
    "duration": 78,
    "start_time": "2022-08-15T06:14:09.702Z"
   },
   {
    "duration": 79,
    "start_time": "2022-08-15T06:14:09.781Z"
   },
   {
    "duration": 77,
    "start_time": "2022-08-15T06:14:09.861Z"
   },
   {
    "duration": 75,
    "start_time": "2022-08-15T06:14:09.940Z"
   },
   {
    "duration": 113,
    "start_time": "2022-08-15T06:14:10.016Z"
   },
   {
    "duration": 111,
    "start_time": "2022-08-15T06:21:32.244Z"
   },
   {
    "duration": 111,
    "start_time": "2022-08-15T06:21:57.639Z"
   },
   {
    "duration": 110,
    "start_time": "2022-08-15T06:22:15.128Z"
   },
   {
    "duration": 713,
    "start_time": "2022-08-15T06:43:26.618Z"
   },
   {
    "duration": 79,
    "start_time": "2022-08-15T06:44:11.672Z"
   },
   {
    "duration": 144,
    "start_time": "2022-08-15T06:45:35.387Z"
   },
   {
    "duration": 80,
    "start_time": "2022-08-15T06:46:56.656Z"
   },
   {
    "duration": 78,
    "start_time": "2022-08-15T06:48:08.634Z"
   },
   {
    "duration": 76,
    "start_time": "2022-08-15T06:48:22.195Z"
   },
   {
    "duration": 141,
    "start_time": "2022-08-15T06:49:04.080Z"
   },
   {
    "duration": 75,
    "start_time": "2022-08-15T06:49:17.790Z"
   },
   {
    "duration": 80,
    "start_time": "2022-08-15T06:50:18.937Z"
   },
   {
    "duration": 515,
    "start_time": "2022-08-15T06:50:25.709Z"
   },
   {
    "duration": 3,
    "start_time": "2022-08-15T06:50:26.225Z"
   },
   {
    "duration": 6965,
    "start_time": "2022-08-15T06:50:26.230Z"
   },
   {
    "duration": 2,
    "start_time": "2022-08-15T06:50:33.197Z"
   },
   {
    "duration": 266,
    "start_time": "2022-08-15T06:50:33.201Z"
   },
   {
    "duration": 80,
    "start_time": "2022-08-15T06:50:33.468Z"
   },
   {
    "duration": 75,
    "start_time": "2022-08-15T06:50:33.549Z"
   },
   {
    "duration": 75,
    "start_time": "2022-08-15T06:50:33.626Z"
   },
   {
    "duration": 74,
    "start_time": "2022-08-15T06:50:33.702Z"
   },
   {
    "duration": 82,
    "start_time": "2022-08-15T06:50:33.778Z"
   },
   {
    "duration": 111,
    "start_time": "2022-08-15T06:50:33.862Z"
   },
   {
    "duration": 79,
    "start_time": "2022-08-15T06:50:33.974Z"
   },
   {
    "duration": 205,
    "start_time": "2022-08-15T08:29:10.073Z"
   },
   {
    "duration": 137,
    "start_time": "2022-08-15T08:29:33.248Z"
   },
   {
    "duration": 107,
    "start_time": "2022-08-15T08:30:11.937Z"
   },
   {
    "duration": 166,
    "start_time": "2022-08-15T08:37:22.086Z"
   },
   {
    "duration": 172,
    "start_time": "2022-08-15T08:37:28.061Z"
   },
   {
    "duration": 135,
    "start_time": "2022-08-15T08:37:40.378Z"
   },
   {
    "duration": 215,
    "start_time": "2022-08-15T08:37:52.553Z"
   },
   {
    "duration": 110,
    "start_time": "2022-08-15T08:38:09.023Z"
   },
   {
    "duration": 134,
    "start_time": "2022-08-15T08:39:42.301Z"
   },
   {
    "duration": 82,
    "start_time": "2022-08-15T08:39:52.708Z"
   },
   {
    "duration": 134,
    "start_time": "2022-08-15T08:39:59.202Z"
   },
   {
    "duration": 78,
    "start_time": "2022-08-15T08:40:04.497Z"
   },
   {
    "duration": 82,
    "start_time": "2022-08-15T08:50:11.041Z"
   },
   {
    "duration": 80,
    "start_time": "2022-08-15T08:50:38.164Z"
   },
   {
    "duration": 81,
    "start_time": "2022-08-15T08:52:40.605Z"
   },
   {
    "duration": 435,
    "start_time": "2022-08-15T08:52:45.583Z"
   },
   {
    "duration": 4,
    "start_time": "2022-08-15T08:52:46.019Z"
   },
   {
    "duration": 7831,
    "start_time": "2022-08-15T08:52:46.024Z"
   },
   {
    "duration": 2,
    "start_time": "2022-08-15T08:52:53.857Z"
   },
   {
    "duration": 271,
    "start_time": "2022-08-15T08:52:53.861Z"
   },
   {
    "duration": 76,
    "start_time": "2022-08-15T08:52:54.133Z"
   },
   {
    "duration": 76,
    "start_time": "2022-08-15T08:52:54.210Z"
   },
   {
    "duration": 78,
    "start_time": "2022-08-15T08:52:54.288Z"
   },
   {
    "duration": 76,
    "start_time": "2022-08-15T08:52:54.368Z"
   },
   {
    "duration": 74,
    "start_time": "2022-08-15T08:52:54.446Z"
   },
   {
    "duration": 108,
    "start_time": "2022-08-15T08:52:54.522Z"
   },
   {
    "duration": 75,
    "start_time": "2022-08-15T08:52:54.632Z"
   },
   {
    "duration": 77,
    "start_time": "2022-08-15T08:52:54.709Z"
   },
   {
    "duration": 80,
    "start_time": "2022-08-15T09:05:26.579Z"
   },
   {
    "duration": 462,
    "start_time": "2022-08-15T09:13:14.277Z"
   },
   {
    "duration": 183,
    "start_time": "2022-08-15T09:14:37.565Z"
   },
   {
    "duration": 178,
    "start_time": "2022-08-15T09:15:30.923Z"
   },
   {
    "duration": 76,
    "start_time": "2022-08-15T09:16:03.901Z"
   },
   {
    "duration": 132,
    "start_time": "2022-08-15T09:16:17.947Z"
   },
   {
    "duration": 76,
    "start_time": "2022-08-15T09:16:46.423Z"
   },
   {
    "duration": 207,
    "start_time": "2022-08-15T09:17:06.088Z"
   },
   {
    "duration": 74,
    "start_time": "2022-08-15T09:17:33.202Z"
   },
   {
    "duration": 383,
    "start_time": "2022-08-15T09:18:30.526Z"
   },
   {
    "duration": 214,
    "start_time": "2022-08-15T09:21:06.801Z"
   },
   {
    "duration": 146,
    "start_time": "2022-08-15T09:21:32.090Z"
   },
   {
    "duration": 183,
    "start_time": "2022-08-15T09:23:34.086Z"
   },
   {
    "duration": 143,
    "start_time": "2022-08-15T09:24:18.913Z"
   },
   {
    "duration": 135,
    "start_time": "2022-08-15T09:24:25.809Z"
   },
   {
    "duration": 372,
    "start_time": "2022-08-15T09:24:49.732Z"
   },
   {
    "duration": 155,
    "start_time": "2022-08-15T09:24:54.600Z"
   },
   {
    "duration": 139,
    "start_time": "2022-08-15T09:25:29.675Z"
   },
   {
    "duration": 140,
    "start_time": "2022-08-15T09:25:54.595Z"
   },
   {
    "duration": 214,
    "start_time": "2022-08-15T09:26:42.712Z"
   },
   {
    "duration": 142,
    "start_time": "2022-08-15T09:26:54.442Z"
   },
   {
    "duration": 76,
    "start_time": "2022-08-15T09:27:15.325Z"
   },
   {
    "duration": 166,
    "start_time": "2022-08-15T09:27:51.257Z"
   },
   {
    "duration": 151,
    "start_time": "2022-08-15T09:31:35.035Z"
   },
   {
    "duration": 159,
    "start_time": "2022-08-15T09:32:20.802Z"
   },
   {
    "duration": 479,
    "start_time": "2022-08-15T09:32:25.654Z"
   },
   {
    "duration": 4,
    "start_time": "2022-08-15T09:32:26.135Z"
   },
   {
    "duration": 9699,
    "start_time": "2022-08-15T09:32:26.141Z"
   },
   {
    "duration": 3,
    "start_time": "2022-08-15T09:32:35.842Z"
   },
   {
    "duration": 268,
    "start_time": "2022-08-15T09:32:35.847Z"
   },
   {
    "duration": 79,
    "start_time": "2022-08-15T09:32:36.117Z"
   },
   {
    "duration": 74,
    "start_time": "2022-08-15T09:32:36.197Z"
   },
   {
    "duration": 74,
    "start_time": "2022-08-15T09:32:36.273Z"
   },
   {
    "duration": 77,
    "start_time": "2022-08-15T09:32:36.350Z"
   },
   {
    "duration": 76,
    "start_time": "2022-08-15T09:32:36.430Z"
   },
   {
    "duration": 115,
    "start_time": "2022-08-15T09:32:36.508Z"
   },
   {
    "duration": 79,
    "start_time": "2022-08-15T09:32:36.625Z"
   },
   {
    "duration": 82,
    "start_time": "2022-08-15T09:32:36.706Z"
   },
   {
    "duration": 266,
    "start_time": "2022-08-15T09:32:36.790Z"
   },
   {
    "duration": 0,
    "start_time": "2022-08-15T09:32:37.057Z"
   },
   {
    "duration": 139,
    "start_time": "2022-08-15T09:36:12.969Z"
   },
   {
    "duration": 238,
    "start_time": "2022-08-15T09:37:55.666Z"
   },
   {
    "duration": 77,
    "start_time": "2022-08-15T09:38:03.071Z"
   },
   {
    "duration": 77,
    "start_time": "2022-08-15T09:40:12.209Z"
   },
   {
    "duration": 154,
    "start_time": "2022-08-15T09:47:10.193Z"
   },
   {
    "duration": 79,
    "start_time": "2022-08-15T09:48:35.558Z"
   },
   {
    "duration": 76,
    "start_time": "2022-08-15T09:50:20.879Z"
   },
   {
    "duration": 497,
    "start_time": "2022-08-15T17:43:04.734Z"
   },
   {
    "duration": 3,
    "start_time": "2022-08-15T17:43:05.233Z"
   },
   {
    "duration": 12604,
    "start_time": "2022-08-15T17:43:05.238Z"
   },
   {
    "duration": 2,
    "start_time": "2022-08-15T17:43:17.844Z"
   },
   {
    "duration": 70,
    "start_time": "2022-08-15T17:43:17.847Z"
   },
   {
    "duration": 11,
    "start_time": "2022-08-15T17:43:17.919Z"
   },
   {
    "duration": 13,
    "start_time": "2022-08-15T17:43:17.932Z"
   },
   {
    "duration": 14,
    "start_time": "2022-08-15T17:43:17.946Z"
   },
   {
    "duration": 11,
    "start_time": "2022-08-15T17:43:17.962Z"
   },
   {
    "duration": 22,
    "start_time": "2022-08-15T17:43:17.975Z"
   },
   {
    "duration": 26,
    "start_time": "2022-08-15T17:43:17.998Z"
   },
   {
    "duration": 11,
    "start_time": "2022-08-15T17:43:18.026Z"
   },
   {
    "duration": 15,
    "start_time": "2022-08-15T17:43:18.039Z"
   },
   {
    "duration": 13,
    "start_time": "2022-08-15T17:43:18.056Z"
   },
   {
    "duration": 17,
    "start_time": "2022-08-15T17:43:20.774Z"
   },
   {
    "duration": 48,
    "start_time": "2022-08-15T18:00:32.795Z"
   },
   {
    "duration": 511,
    "start_time": "2022-08-15T18:00:38.103Z"
   },
   {
    "duration": 4,
    "start_time": "2022-08-15T18:00:38.617Z"
   },
   {
    "duration": 5920,
    "start_time": "2022-08-15T18:00:38.622Z"
   },
   {
    "duration": 3,
    "start_time": "2022-08-15T18:00:44.544Z"
   },
   {
    "duration": 301,
    "start_time": "2022-08-15T18:00:44.549Z"
   },
   {
    "duration": 91,
    "start_time": "2022-08-15T18:00:44.851Z"
   },
   {
    "duration": 86,
    "start_time": "2022-08-15T18:00:44.944Z"
   },
   {
    "duration": 80,
    "start_time": "2022-08-15T18:00:45.032Z"
   },
   {
    "duration": 82,
    "start_time": "2022-08-15T18:00:45.113Z"
   },
   {
    "duration": 77,
    "start_time": "2022-08-15T18:00:45.197Z"
   },
   {
    "duration": 118,
    "start_time": "2022-08-15T18:00:45.275Z"
   },
   {
    "duration": 79,
    "start_time": "2022-08-15T18:00:45.395Z"
   },
   {
    "duration": 81,
    "start_time": "2022-08-15T18:00:45.476Z"
   },
   {
    "duration": 84,
    "start_time": "2022-08-15T18:00:45.559Z"
   },
   {
    "duration": 78,
    "start_time": "2022-08-15T18:00:45.645Z"
   },
   {
    "duration": 207,
    "start_time": "2022-08-15T18:02:09.691Z"
   },
   {
    "duration": 78,
    "start_time": "2022-08-15T18:02:19.863Z"
   },
   {
    "duration": 2569,
    "start_time": "2022-08-15T18:05:43.753Z"
   },
   {
    "duration": 130,
    "start_time": "2022-08-15T18:06:37.260Z"
   },
   {
    "duration": 148,
    "start_time": "2022-08-15T18:08:22.632Z"
   },
   {
    "duration": 183,
    "start_time": "2022-08-15T18:08:28.978Z"
   },
   {
    "duration": 152,
    "start_time": "2022-08-15T18:10:51.254Z"
   },
   {
    "duration": 179,
    "start_time": "2022-08-15T18:11:18.543Z"
   },
   {
    "duration": 153,
    "start_time": "2022-08-15T18:11:44.604Z"
   },
   {
    "duration": 181,
    "start_time": "2022-08-15T18:12:09.562Z"
   },
   {
    "duration": 538,
    "start_time": "2022-08-16T06:36:53.995Z"
   },
   {
    "duration": 3,
    "start_time": "2022-08-16T06:36:54.541Z"
   },
   {
    "duration": 7932,
    "start_time": "2022-08-16T06:36:54.545Z"
   },
   {
    "duration": 2,
    "start_time": "2022-08-16T06:37:02.479Z"
   },
   {
    "duration": 382,
    "start_time": "2022-08-16T06:37:02.483Z"
   },
   {
    "duration": 96,
    "start_time": "2022-08-16T06:37:02.866Z"
   },
   {
    "duration": 89,
    "start_time": "2022-08-16T06:37:02.963Z"
   },
   {
    "duration": 99,
    "start_time": "2022-08-16T06:37:03.053Z"
   },
   {
    "duration": 98,
    "start_time": "2022-08-16T06:37:03.153Z"
   },
   {
    "duration": 97,
    "start_time": "2022-08-16T06:37:03.253Z"
   },
   {
    "duration": 128,
    "start_time": "2022-08-16T06:37:03.352Z"
   },
   {
    "duration": 96,
    "start_time": "2022-08-16T06:37:03.481Z"
   },
   {
    "duration": 272,
    "start_time": "2022-08-16T06:37:03.579Z"
   },
   {
    "duration": 0,
    "start_time": "2022-08-16T06:37:03.853Z"
   },
   {
    "duration": 0,
    "start_time": "2022-08-16T06:37:03.854Z"
   },
   {
    "duration": 167,
    "start_time": "2022-08-16T06:38:01.385Z"
   },
   {
    "duration": 163,
    "start_time": "2022-08-16T06:38:35.935Z"
   },
   {
    "duration": 175,
    "start_time": "2022-08-16T06:41:49.689Z"
   },
   {
    "duration": 346,
    "start_time": "2022-08-16T06:42:01.587Z"
   },
   {
    "duration": 104,
    "start_time": "2022-08-16T06:42:20.298Z"
   },
   {
    "duration": 104,
    "start_time": "2022-08-16T06:42:49.837Z"
   },
   {
    "duration": 94,
    "start_time": "2022-08-16T06:43:07.859Z"
   },
   {
    "duration": 117,
    "start_time": "2022-08-16T06:43:57.760Z"
   },
   {
    "duration": 7,
    "start_time": "2022-08-16T06:44:24.179Z"
   },
   {
    "duration": 10,
    "start_time": "2022-08-16T06:44:32.233Z"
   },
   {
    "duration": 109,
    "start_time": "2022-08-16T06:45:13.451Z"
   },
   {
    "duration": 7,
    "start_time": "2022-08-16T06:45:33.153Z"
   },
   {
    "duration": 178,
    "start_time": "2022-08-16T07:44:17.475Z"
   },
   {
    "duration": 9,
    "start_time": "2022-08-16T07:44:31.647Z"
   },
   {
    "duration": 126,
    "start_time": "2022-08-16T07:45:01.526Z"
   },
   {
    "duration": 205,
    "start_time": "2022-08-16T07:45:14.108Z"
   },
   {
    "duration": 26,
    "start_time": "2022-08-16T07:45:32.104Z"
   },
   {
    "duration": 101,
    "start_time": "2022-08-16T07:46:10.941Z"
   },
   {
    "duration": 6,
    "start_time": "2022-08-16T07:46:26.649Z"
   }
  ],
  "kernelspec": {
   "display_name": "Python 3 (ipykernel)",
   "language": "python",
   "name": "python3"
  },
  "language_info": {
   "codemirror_mode": {
    "name": "ipython",
    "version": 3
   },
   "file_extension": ".py",
   "mimetype": "text/x-python",
   "name": "python",
   "nbconvert_exporter": "python",
   "pygments_lexer": "ipython3",
   "version": "3.9.12"
  },
  "toc": {
   "base_numbering": 1,
   "nav_menu": {},
   "number_sections": true,
   "sideBar": true,
   "skip_h1_title": true,
   "title_cell": "Table of Contents",
   "title_sidebar": "Contents",
   "toc_cell": false,
   "toc_position": {},
   "toc_section_display": true,
   "toc_window_display": false
  }
 },
 "nbformat": 4,
 "nbformat_minor": 2
}
