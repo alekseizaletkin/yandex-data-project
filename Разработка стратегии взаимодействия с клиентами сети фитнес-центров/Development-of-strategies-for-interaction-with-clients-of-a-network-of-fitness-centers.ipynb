{
 "cells": [
  {
   "cell_type": "markdown",
   "metadata": {},
   "source": [
    "# Разработка стратегии взаимодействия с клиентами сети фитнес-центров "
   ]
  },
  {
   "cell_type": "markdown",
   "metadata": {},
   "source": [
    "***Цель проекта*** - разработать систему выявления и работы с оттоком клиентов с помощью инструментов машинного обучения\n",
    "\n",
    "***Описание проекта***\n",
    "\n",
    "Сеть фитнес-центров разрабатывает стратегию взаимодействия с клиентами на основе аналитических данных.\n",
    "\n",
    "Можно считать, что клиент попал в отток, если за последний месяц ни разу не посетил спортзал.\n",
    "Чтобы бороться с оттоком, было переведено в электронный вид множество клиентских анкет. Необходимо провести анализ:\n",
    "\n",
    "- научиться прогнозировать вероятность оттока (на уровне следующего месяца) для каждого клиента;\n",
    "- сформировать типичные портреты клиентов: выделить несколько наиболее ярких групп и охарактеризовать их основные свойства;\n",
    "- проанализировать основные признаки, наиболее сильно влияющие на отток;\n",
    "- сформулировать основные выводы и разработать рекомендации по повышению качества работы с клиентами: выделить целевые группы клиентов, предложить меры по снижению оттока, определить другие особенности взаимодействия с клиентами.\n",
    "\n",
    "***Ход проекта***\n",
    "\n",
    "Необходимо произвести обзор данных, предобработку, обучить модель и составить прогноз оттока, произвести кластеризацию клиентов, сформулировать выводы и дать рекомендации. "
   ]
  },
  {
   "cell_type": "markdown",
   "metadata": {},
   "source": [
    "## Обзор данных"
   ]
  },
  {
   "cell_type": "markdown",
   "metadata": {},
   "source": [
    "Импортируем необходимые для анализа библиотеки:"
   ]
  },
  {
   "cell_type": "code",
   "execution_count": 1,
   "metadata": {},
   "outputs": [],
   "source": [
    "# импортируем необходимые библиотеки для работы с данными\n",
    "\n",
    "import pandas as pd\n",
    "import numpy as np\n",
    "from matplotlib import pyplot as plt\n",
    "from termcolor import colored\n",
    "import seaborn as sns\n",
    "from sklearn.linear_model import LogisticRegression\n",
    "from sklearn.preprocessing import StandardScaler\n",
    "from sklearn.model_selection import train_test_split\n",
    "from sklearn.ensemble import RandomForestClassifier\n",
    "from sklearn.metrics import accuracy_score, precision_score, recall_score, f1_score\n",
    "from sklearn.cluster import KMeans\n",
    "from scipy.cluster.hierarchy import dendrogram, linkage \n",
    "import itertools\n",
    "\n",
    "import warnings\n",
    "warnings.filterwarnings('ignore')"
   ]
  },
  {
   "cell_type": "markdown",
   "metadata": {},
   "source": [
    "Добавляем функцию для обзора данных:"
   ]
  },
  {
   "cell_type": "code",
   "execution_count": 2,
   "metadata": {},
   "outputs": [],
   "source": [
    "# функция для обзора данных в таблице\n",
    "def view(data, name):\n",
    "    print(colored('Обзор данных таблицы', 'blue'), name)\n",
    "    print()\n",
    "    print('Первые 5 строк данных')\n",
    "    display(data.head()) # Выводим первые 5 строк\n",
    "    print()\n",
    "    print('Информация по таблице')\n",
    "    display(data.info()) # Выводим инфо по датасету\n",
    "    print()\n",
    "    print('Пропуски')\n",
    "    display(data.isna().sum())\n",
    "    print()\n",
    "    print('Количество явных дубликатов:', data.duplicated().sum())\n",
    "    print()"
   ]
  },
  {
   "cell_type": "markdown",
   "metadata": {},
   "source": [
    "Сохраняем датасет в переменную и с помощью функции производим обзор данных датасета:"
   ]
  },
  {
   "cell_type": "code",
   "execution_count": 3,
   "metadata": {},
   "outputs": [
    {
     "name": "stdout",
     "output_type": "stream",
     "text": [
      "\u001b[34mОбзор данных таблицы\u001b[0m \u001b[34mс данными по оттоку\u001b[0m\n",
      "\n",
      "Первые 5 строк данных\n"
     ]
    },
    {
     "data": {
      "text/html": [
       "<div>\n",
       "<style scoped>\n",
       "    .dataframe tbody tr th:only-of-type {\n",
       "        vertical-align: middle;\n",
       "    }\n",
       "\n",
       "    .dataframe tbody tr th {\n",
       "        vertical-align: top;\n",
       "    }\n",
       "\n",
       "    .dataframe thead th {\n",
       "        text-align: right;\n",
       "    }\n",
       "</style>\n",
       "<table border=\"1\" class=\"dataframe\">\n",
       "  <thead>\n",
       "    <tr style=\"text-align: right;\">\n",
       "      <th></th>\n",
       "      <th>gender</th>\n",
       "      <th>Near_Location</th>\n",
       "      <th>Partner</th>\n",
       "      <th>Promo_friends</th>\n",
       "      <th>Phone</th>\n",
       "      <th>Contract_period</th>\n",
       "      <th>Group_visits</th>\n",
       "      <th>Age</th>\n",
       "      <th>Avg_additional_charges_total</th>\n",
       "      <th>Month_to_end_contract</th>\n",
       "      <th>Lifetime</th>\n",
       "      <th>Avg_class_frequency_total</th>\n",
       "      <th>Avg_class_frequency_current_month</th>\n",
       "      <th>Churn</th>\n",
       "    </tr>\n",
       "  </thead>\n",
       "  <tbody>\n",
       "    <tr>\n",
       "      <th>0</th>\n",
       "      <td>1</td>\n",
       "      <td>1</td>\n",
       "      <td>1</td>\n",
       "      <td>1</td>\n",
       "      <td>0</td>\n",
       "      <td>6</td>\n",
       "      <td>1</td>\n",
       "      <td>29</td>\n",
       "      <td>14.227470</td>\n",
       "      <td>5.0</td>\n",
       "      <td>3</td>\n",
       "      <td>0.020398</td>\n",
       "      <td>0.000000</td>\n",
       "      <td>0</td>\n",
       "    </tr>\n",
       "    <tr>\n",
       "      <th>1</th>\n",
       "      <td>0</td>\n",
       "      <td>1</td>\n",
       "      <td>0</td>\n",
       "      <td>0</td>\n",
       "      <td>1</td>\n",
       "      <td>12</td>\n",
       "      <td>1</td>\n",
       "      <td>31</td>\n",
       "      <td>113.202938</td>\n",
       "      <td>12.0</td>\n",
       "      <td>7</td>\n",
       "      <td>1.922936</td>\n",
       "      <td>1.910244</td>\n",
       "      <td>0</td>\n",
       "    </tr>\n",
       "    <tr>\n",
       "      <th>2</th>\n",
       "      <td>0</td>\n",
       "      <td>1</td>\n",
       "      <td>1</td>\n",
       "      <td>0</td>\n",
       "      <td>1</td>\n",
       "      <td>1</td>\n",
       "      <td>0</td>\n",
       "      <td>28</td>\n",
       "      <td>129.448479</td>\n",
       "      <td>1.0</td>\n",
       "      <td>2</td>\n",
       "      <td>1.859098</td>\n",
       "      <td>1.736502</td>\n",
       "      <td>0</td>\n",
       "    </tr>\n",
       "    <tr>\n",
       "      <th>3</th>\n",
       "      <td>0</td>\n",
       "      <td>1</td>\n",
       "      <td>1</td>\n",
       "      <td>1</td>\n",
       "      <td>1</td>\n",
       "      <td>12</td>\n",
       "      <td>1</td>\n",
       "      <td>33</td>\n",
       "      <td>62.669863</td>\n",
       "      <td>12.0</td>\n",
       "      <td>2</td>\n",
       "      <td>3.205633</td>\n",
       "      <td>3.357215</td>\n",
       "      <td>0</td>\n",
       "    </tr>\n",
       "    <tr>\n",
       "      <th>4</th>\n",
       "      <td>1</td>\n",
       "      <td>1</td>\n",
       "      <td>1</td>\n",
       "      <td>1</td>\n",
       "      <td>1</td>\n",
       "      <td>1</td>\n",
       "      <td>0</td>\n",
       "      <td>26</td>\n",
       "      <td>198.362265</td>\n",
       "      <td>1.0</td>\n",
       "      <td>3</td>\n",
       "      <td>1.113884</td>\n",
       "      <td>1.120078</td>\n",
       "      <td>0</td>\n",
       "    </tr>\n",
       "  </tbody>\n",
       "</table>\n",
       "</div>"
      ],
      "text/plain": [
       "   gender  Near_Location  Partner  Promo_friends  Phone  Contract_period  \\\n",
       "0       1              1        1              1      0                6   \n",
       "1       0              1        0              0      1               12   \n",
       "2       0              1        1              0      1                1   \n",
       "3       0              1        1              1      1               12   \n",
       "4       1              1        1              1      1                1   \n",
       "\n",
       "   Group_visits  Age  Avg_additional_charges_total  Month_to_end_contract  \\\n",
       "0             1   29                     14.227470                    5.0   \n",
       "1             1   31                    113.202938                   12.0   \n",
       "2             0   28                    129.448479                    1.0   \n",
       "3             1   33                     62.669863                   12.0   \n",
       "4             0   26                    198.362265                    1.0   \n",
       "\n",
       "   Lifetime  Avg_class_frequency_total  Avg_class_frequency_current_month  \\\n",
       "0         3                   0.020398                           0.000000   \n",
       "1         7                   1.922936                           1.910244   \n",
       "2         2                   1.859098                           1.736502   \n",
       "3         2                   3.205633                           3.357215   \n",
       "4         3                   1.113884                           1.120078   \n",
       "\n",
       "   Churn  \n",
       "0      0  \n",
       "1      0  \n",
       "2      0  \n",
       "3      0  \n",
       "4      0  "
      ]
     },
     "metadata": {},
     "output_type": "display_data"
    },
    {
     "name": "stdout",
     "output_type": "stream",
     "text": [
      "\n",
      "Информация по таблице\n",
      "<class 'pandas.core.frame.DataFrame'>\n",
      "RangeIndex: 4000 entries, 0 to 3999\n",
      "Data columns (total 14 columns):\n",
      " #   Column                             Non-Null Count  Dtype  \n",
      "---  ------                             --------------  -----  \n",
      " 0   gender                             4000 non-null   int64  \n",
      " 1   Near_Location                      4000 non-null   int64  \n",
      " 2   Partner                            4000 non-null   int64  \n",
      " 3   Promo_friends                      4000 non-null   int64  \n",
      " 4   Phone                              4000 non-null   int64  \n",
      " 5   Contract_period                    4000 non-null   int64  \n",
      " 6   Group_visits                       4000 non-null   int64  \n",
      " 7   Age                                4000 non-null   int64  \n",
      " 8   Avg_additional_charges_total       4000 non-null   float64\n",
      " 9   Month_to_end_contract              4000 non-null   float64\n",
      " 10  Lifetime                           4000 non-null   int64  \n",
      " 11  Avg_class_frequency_total          4000 non-null   float64\n",
      " 12  Avg_class_frequency_current_month  4000 non-null   float64\n",
      " 13  Churn                              4000 non-null   int64  \n",
      "dtypes: float64(4), int64(10)\n",
      "memory usage: 437.6 KB\n"
     ]
    },
    {
     "data": {
      "text/plain": [
       "None"
      ]
     },
     "metadata": {},
     "output_type": "display_data"
    },
    {
     "name": "stdout",
     "output_type": "stream",
     "text": [
      "\n",
      "Пропуски\n"
     ]
    },
    {
     "data": {
      "text/plain": [
       "gender                               0\n",
       "Near_Location                        0\n",
       "Partner                              0\n",
       "Promo_friends                        0\n",
       "Phone                                0\n",
       "Contract_period                      0\n",
       "Group_visits                         0\n",
       "Age                                  0\n",
       "Avg_additional_charges_total         0\n",
       "Month_to_end_contract                0\n",
       "Lifetime                             0\n",
       "Avg_class_frequency_total            0\n",
       "Avg_class_frequency_current_month    0\n",
       "Churn                                0\n",
       "dtype: int64"
      ]
     },
     "metadata": {},
     "output_type": "display_data"
    },
    {
     "name": "stdout",
     "output_type": "stream",
     "text": [
      "\n",
      "Количество явных дубликатов: 0\n",
      "\n"
     ]
    }
   ],
   "source": [
    "# сохраняем данные в переменную\n",
    "data = pd.read_csv('/datasets/gym_churn.csv')\n",
    "\n",
    "# открываем его с помощью функции\n",
    "view(data, colored('с данными по оттоку', 'blue'))"
   ]
  },
  {
   "cell_type": "markdown",
   "metadata": {},
   "source": [
    "Данные клиента за предыдущий до проверки факта оттока месяц:\n",
    "- 'gender' — пол;\n",
    "- 'Near_Location' — проживание или работа в районе, где находится фитнес-центр;\n",
    "- 'Partner' — сотрудник компании-партнёра клуба (сотрудничество с компаниями, чьи сотрудники могут получать скидки на абонемент — в таком случае фитнес-центр хранит информацию о работодателе клиента);\n",
    "- 'Promo_friends' — факт первоначальной записи в рамках акции «приведи друга» (использовал промо-код от знакомого при оплате первого абонемента);\n",
    "- 'Phone' — наличие контактного телефона;\n",
    "- 'Age' — возраст;\n",
    "- 'Lifetime' — время с момента первого обращения в фитнес-центр (в месяцах).\n",
    "\n",
    "\n",
    "Информация на основе журнала посещений, покупок и информация о текущем статусе абонемента клиента:\n",
    "- 'Contract_period' — длительность текущего действующего абонемента (месяц, 6 месяцев, год);\n",
    "- 'Month_to_end_contract' — срок до окончания текущего действующего абонемента (в месяцах);\n",
    "- 'Group_visits' — факт посещения групповых занятий;\n",
    "- 'Avg_class_frequency_total' — средняя частота посещений в неделю за все время с начала действия абонемента;\n",
    "- 'Avg_class_frequency_current_month' — средняя частота посещений в неделю за предыдущий месяц;\n",
    "- 'Avg_additional_charges_total' — суммарная выручка от других услуг фитнес-центра: кафе, спорттовары, косметический и массажный салон.\n",
    "- 'Churn' — факт оттока в текущем месяце.\n",
    "\n",
    "\n",
    "Так как у нас нет документации, то в бинарных признаках мы предполагаем, что 1 -это ответ \"да\", 0 - ответ \"нет\". \n",
    "Для факта оттока - это будет выглядеть как 1 \"да, отток\" или 0 \"нет, не отток\". \n",
    "\n",
    "### Вывод\n",
    "\n",
    "Дубликатов и пропусков нет. Название столбцов указаны в верхнем регистре, для удобства работы можно привести к нижнему. Необходимо произвести исследовательский анализ данных, чтобы проверить распределения признаков по группам пользователей, которые ушли в отток и тем, кто остались. При необходимости почистить данные и сделать первичные выводы. "
   ]
  },
  {
   "cell_type": "markdown",
   "metadata": {},
   "source": [
    "## Исследовательский анализ данных"
   ]
  },
  {
   "cell_type": "markdown",
   "metadata": {},
   "source": [
    "Для удоства работы приведем все названия столбцов к нижнему регистру:"
   ]
  },
  {
   "cell_type": "code",
   "execution_count": 4,
   "metadata": {},
   "outputs": [
    {
     "data": {
      "text/plain": [
       "Index(['gender', 'near_location', 'partner', 'promo_friends', 'phone',\n",
       "       'contract_period', 'group_visits', 'age',\n",
       "       'avg_additional_charges_total', 'month_to_end_contract', 'lifetime',\n",
       "       'avg_class_frequency_total', 'avg_class_frequency_current_month',\n",
       "       'churn'],\n",
       "      dtype='object')"
      ]
     },
     "execution_count": 4,
     "metadata": {},
     "output_type": "execute_result"
    }
   ],
   "source": [
    "# приводим названия столбцов к нижнему регистру\n",
    "data.columns = data.columns.str.lower()\n",
    "data.columns"
   ]
  },
  {
   "cell_type": "markdown",
   "metadata": {},
   "source": [
    "Проверим информацию по средним значениям и стандтному отклонению, чтобы определенить различие параметров:"
   ]
  },
  {
   "cell_type": "code",
   "execution_count": 5,
   "metadata": {},
   "outputs": [
    {
     "data": {
      "text/html": [
       "<div>\n",
       "<style scoped>\n",
       "    .dataframe tbody tr th:only-of-type {\n",
       "        vertical-align: middle;\n",
       "    }\n",
       "\n",
       "    .dataframe tbody tr th {\n",
       "        vertical-align: top;\n",
       "    }\n",
       "\n",
       "    .dataframe thead th {\n",
       "        text-align: right;\n",
       "    }\n",
       "</style>\n",
       "<table border=\"1\" class=\"dataframe\">\n",
       "  <thead>\n",
       "    <tr style=\"text-align: right;\">\n",
       "      <th></th>\n",
       "      <th>gender</th>\n",
       "      <th>near_location</th>\n",
       "      <th>partner</th>\n",
       "      <th>promo_friends</th>\n",
       "      <th>phone</th>\n",
       "      <th>contract_period</th>\n",
       "      <th>group_visits</th>\n",
       "      <th>age</th>\n",
       "      <th>avg_additional_charges_total</th>\n",
       "      <th>month_to_end_contract</th>\n",
       "      <th>lifetime</th>\n",
       "      <th>avg_class_frequency_total</th>\n",
       "      <th>avg_class_frequency_current_month</th>\n",
       "      <th>churn</th>\n",
       "    </tr>\n",
       "  </thead>\n",
       "  <tbody>\n",
       "    <tr>\n",
       "      <th>count</th>\n",
       "      <td>4000.000000</td>\n",
       "      <td>4000.000000</td>\n",
       "      <td>4000.000000</td>\n",
       "      <td>4000.000000</td>\n",
       "      <td>4000.000000</td>\n",
       "      <td>4000.000000</td>\n",
       "      <td>4000.000000</td>\n",
       "      <td>4000.000000</td>\n",
       "      <td>4000.000000</td>\n",
       "      <td>4000.000000</td>\n",
       "      <td>4000.000000</td>\n",
       "      <td>4000.000000</td>\n",
       "      <td>4000.000000</td>\n",
       "      <td>4000.000000</td>\n",
       "    </tr>\n",
       "    <tr>\n",
       "      <th>mean</th>\n",
       "      <td>0.510250</td>\n",
       "      <td>0.845250</td>\n",
       "      <td>0.486750</td>\n",
       "      <td>0.308500</td>\n",
       "      <td>0.903500</td>\n",
       "      <td>4.681250</td>\n",
       "      <td>0.412250</td>\n",
       "      <td>29.184250</td>\n",
       "      <td>146.943728</td>\n",
       "      <td>4.322750</td>\n",
       "      <td>3.724750</td>\n",
       "      <td>1.879020</td>\n",
       "      <td>1.767052</td>\n",
       "      <td>0.265250</td>\n",
       "    </tr>\n",
       "    <tr>\n",
       "      <th>std</th>\n",
       "      <td>0.499957</td>\n",
       "      <td>0.361711</td>\n",
       "      <td>0.499887</td>\n",
       "      <td>0.461932</td>\n",
       "      <td>0.295313</td>\n",
       "      <td>4.549706</td>\n",
       "      <td>0.492301</td>\n",
       "      <td>3.258367</td>\n",
       "      <td>96.355602</td>\n",
       "      <td>4.191297</td>\n",
       "      <td>3.749267</td>\n",
       "      <td>0.972245</td>\n",
       "      <td>1.052906</td>\n",
       "      <td>0.441521</td>\n",
       "    </tr>\n",
       "    <tr>\n",
       "      <th>min</th>\n",
       "      <td>0.000000</td>\n",
       "      <td>0.000000</td>\n",
       "      <td>0.000000</td>\n",
       "      <td>0.000000</td>\n",
       "      <td>0.000000</td>\n",
       "      <td>1.000000</td>\n",
       "      <td>0.000000</td>\n",
       "      <td>18.000000</td>\n",
       "      <td>0.148205</td>\n",
       "      <td>1.000000</td>\n",
       "      <td>0.000000</td>\n",
       "      <td>0.000000</td>\n",
       "      <td>0.000000</td>\n",
       "      <td>0.000000</td>\n",
       "    </tr>\n",
       "    <tr>\n",
       "      <th>25%</th>\n",
       "      <td>0.000000</td>\n",
       "      <td>1.000000</td>\n",
       "      <td>0.000000</td>\n",
       "      <td>0.000000</td>\n",
       "      <td>1.000000</td>\n",
       "      <td>1.000000</td>\n",
       "      <td>0.000000</td>\n",
       "      <td>27.000000</td>\n",
       "      <td>68.868830</td>\n",
       "      <td>1.000000</td>\n",
       "      <td>1.000000</td>\n",
       "      <td>1.180875</td>\n",
       "      <td>0.963003</td>\n",
       "      <td>0.000000</td>\n",
       "    </tr>\n",
       "    <tr>\n",
       "      <th>50%</th>\n",
       "      <td>1.000000</td>\n",
       "      <td>1.000000</td>\n",
       "      <td>0.000000</td>\n",
       "      <td>0.000000</td>\n",
       "      <td>1.000000</td>\n",
       "      <td>1.000000</td>\n",
       "      <td>0.000000</td>\n",
       "      <td>29.000000</td>\n",
       "      <td>136.220159</td>\n",
       "      <td>1.000000</td>\n",
       "      <td>3.000000</td>\n",
       "      <td>1.832768</td>\n",
       "      <td>1.719574</td>\n",
       "      <td>0.000000</td>\n",
       "    </tr>\n",
       "    <tr>\n",
       "      <th>75%</th>\n",
       "      <td>1.000000</td>\n",
       "      <td>1.000000</td>\n",
       "      <td>1.000000</td>\n",
       "      <td>1.000000</td>\n",
       "      <td>1.000000</td>\n",
       "      <td>6.000000</td>\n",
       "      <td>1.000000</td>\n",
       "      <td>31.000000</td>\n",
       "      <td>210.949625</td>\n",
       "      <td>6.000000</td>\n",
       "      <td>5.000000</td>\n",
       "      <td>2.536078</td>\n",
       "      <td>2.510336</td>\n",
       "      <td>1.000000</td>\n",
       "    </tr>\n",
       "    <tr>\n",
       "      <th>max</th>\n",
       "      <td>1.000000</td>\n",
       "      <td>1.000000</td>\n",
       "      <td>1.000000</td>\n",
       "      <td>1.000000</td>\n",
       "      <td>1.000000</td>\n",
       "      <td>12.000000</td>\n",
       "      <td>1.000000</td>\n",
       "      <td>41.000000</td>\n",
       "      <td>552.590740</td>\n",
       "      <td>12.000000</td>\n",
       "      <td>31.000000</td>\n",
       "      <td>6.023668</td>\n",
       "      <td>6.146783</td>\n",
       "      <td>1.000000</td>\n",
       "    </tr>\n",
       "  </tbody>\n",
       "</table>\n",
       "</div>"
      ],
      "text/plain": [
       "            gender  near_location      partner  promo_friends        phone  \\\n",
       "count  4000.000000    4000.000000  4000.000000    4000.000000  4000.000000   \n",
       "mean      0.510250       0.845250     0.486750       0.308500     0.903500   \n",
       "std       0.499957       0.361711     0.499887       0.461932     0.295313   \n",
       "min       0.000000       0.000000     0.000000       0.000000     0.000000   \n",
       "25%       0.000000       1.000000     0.000000       0.000000     1.000000   \n",
       "50%       1.000000       1.000000     0.000000       0.000000     1.000000   \n",
       "75%       1.000000       1.000000     1.000000       1.000000     1.000000   \n",
       "max       1.000000       1.000000     1.000000       1.000000     1.000000   \n",
       "\n",
       "       contract_period  group_visits          age  \\\n",
       "count      4000.000000   4000.000000  4000.000000   \n",
       "mean          4.681250      0.412250    29.184250   \n",
       "std           4.549706      0.492301     3.258367   \n",
       "min           1.000000      0.000000    18.000000   \n",
       "25%           1.000000      0.000000    27.000000   \n",
       "50%           1.000000      0.000000    29.000000   \n",
       "75%           6.000000      1.000000    31.000000   \n",
       "max          12.000000      1.000000    41.000000   \n",
       "\n",
       "       avg_additional_charges_total  month_to_end_contract     lifetime  \\\n",
       "count                   4000.000000            4000.000000  4000.000000   \n",
       "mean                     146.943728               4.322750     3.724750   \n",
       "std                       96.355602               4.191297     3.749267   \n",
       "min                        0.148205               1.000000     0.000000   \n",
       "25%                       68.868830               1.000000     1.000000   \n",
       "50%                      136.220159               1.000000     3.000000   \n",
       "75%                      210.949625               6.000000     5.000000   \n",
       "max                      552.590740              12.000000    31.000000   \n",
       "\n",
       "       avg_class_frequency_total  avg_class_frequency_current_month  \\\n",
       "count                4000.000000                        4000.000000   \n",
       "mean                    1.879020                           1.767052   \n",
       "std                     0.972245                           1.052906   \n",
       "min                     0.000000                           0.000000   \n",
       "25%                     1.180875                           0.963003   \n",
       "50%                     1.832768                           1.719574   \n",
       "75%                     2.536078                           2.510336   \n",
       "max                     6.023668                           6.146783   \n",
       "\n",
       "             churn  \n",
       "count  4000.000000  \n",
       "mean      0.265250  \n",
       "std       0.441521  \n",
       "min       0.000000  \n",
       "25%       0.000000  \n",
       "50%       0.000000  \n",
       "75%       1.000000  \n",
       "max       1.000000  "
      ]
     },
     "execution_count": 5,
     "metadata": {},
     "output_type": "execute_result"
    }
   ],
   "source": [
    "# выводим обзор таблицы\n",
    "data.describe()"
   ]
  },
  {
   "cell_type": "markdown",
   "metadata": {},
   "source": [
    "Исходя из этих данных мы можем видеть, что в датасете:\n",
    "- люди по полу распределены равномерно\n",
    "- большинство из них проживает в районе фитнес-центра\n",
    "- примерно половина из них является сотрудниками компаний-партнеров клуба\n",
    "- меньше половины клиентов приходят по программе \"приведи друга\"\n",
    "- практически все клиенты указывают номер телефона\n",
    "- в среднем абонемент берут на 4-5 месяцев, но среднее отклонение от этого значения довольно большое. Максимально абонемент покупают на 12 месяцев\n",
    "- только половина посетителей ходят на групповые программы\n",
    "- средний возраст посетителей 29 лет, минимальный 18 лет, максимальный - 41 год\n",
    "- средняя выручка от других услуг составляет 146. Видим, что минимальное значение 0,14, это значит, что большинство посетителей так или иначе использую дополнительные услуги\n",
    "- в среднем до конца текущего абонемента у посетителей остается 4 месяцев\n",
    "- в среднем посетители ходят в клуб в течении 3х месяцев, максимальный срок составляет 31 месяц\n",
    "- в среднем клуб посещают около 2х раз в неделю\n",
    "- за последний месяц частота посещений в среднем немного снизилась, но не сильно\n",
    "- большая часть клиентов в выгрузке - это клиенты не из оттока\n",
    "\n",
    "Рассмотрим средние данные по разным показателям если сгруппировать клиентов по тем, кто ушел в отток и тем, кто остался:"
   ]
  },
  {
   "cell_type": "code",
   "execution_count": 6,
   "metadata": {},
   "outputs": [
    {
     "data": {
      "text/html": [
       "<div>\n",
       "<style scoped>\n",
       "    .dataframe tbody tr th:only-of-type {\n",
       "        vertical-align: middle;\n",
       "    }\n",
       "\n",
       "    .dataframe tbody tr th {\n",
       "        vertical-align: top;\n",
       "    }\n",
       "\n",
       "    .dataframe thead th {\n",
       "        text-align: right;\n",
       "    }\n",
       "</style>\n",
       "<table border=\"1\" class=\"dataframe\">\n",
       "  <thead>\n",
       "    <tr style=\"text-align: right;\">\n",
       "      <th>churn</th>\n",
       "      <th>0</th>\n",
       "      <th>1</th>\n",
       "    </tr>\n",
       "  </thead>\n",
       "  <tbody>\n",
       "    <tr>\n",
       "      <th>gender</th>\n",
       "      <td>0.510037</td>\n",
       "      <td>0.510839</td>\n",
       "    </tr>\n",
       "    <tr>\n",
       "      <th>near_location</th>\n",
       "      <td>0.873086</td>\n",
       "      <td>0.768143</td>\n",
       "    </tr>\n",
       "    <tr>\n",
       "      <th>partner</th>\n",
       "      <td>0.534195</td>\n",
       "      <td>0.355325</td>\n",
       "    </tr>\n",
       "    <tr>\n",
       "      <th>promo_friends</th>\n",
       "      <td>0.353522</td>\n",
       "      <td>0.183789</td>\n",
       "    </tr>\n",
       "    <tr>\n",
       "      <th>phone</th>\n",
       "      <td>0.903709</td>\n",
       "      <td>0.902922</td>\n",
       "    </tr>\n",
       "    <tr>\n",
       "      <th>contract_period</th>\n",
       "      <td>5.747193</td>\n",
       "      <td>1.728558</td>\n",
       "    </tr>\n",
       "    <tr>\n",
       "      <th>group_visits</th>\n",
       "      <td>0.464103</td>\n",
       "      <td>0.268615</td>\n",
       "    </tr>\n",
       "    <tr>\n",
       "      <th>age</th>\n",
       "      <td>29.976523</td>\n",
       "      <td>26.989632</td>\n",
       "    </tr>\n",
       "    <tr>\n",
       "      <th>avg_additional_charges_total</th>\n",
       "      <td>158.445715</td>\n",
       "      <td>115.082899</td>\n",
       "    </tr>\n",
       "    <tr>\n",
       "      <th>month_to_end_contract</th>\n",
       "      <td>5.283089</td>\n",
       "      <td>1.662582</td>\n",
       "    </tr>\n",
       "    <tr>\n",
       "      <th>lifetime</th>\n",
       "      <td>4.711807</td>\n",
       "      <td>0.990575</td>\n",
       "    </tr>\n",
       "    <tr>\n",
       "      <th>avg_class_frequency_total</th>\n",
       "      <td>2.024876</td>\n",
       "      <td>1.474995</td>\n",
       "    </tr>\n",
       "    <tr>\n",
       "      <th>avg_class_frequency_current_month</th>\n",
       "      <td>2.027882</td>\n",
       "      <td>1.044546</td>\n",
       "    </tr>\n",
       "  </tbody>\n",
       "</table>\n",
       "</div>"
      ],
      "text/plain": [
       "churn                                       0           1\n",
       "gender                               0.510037    0.510839\n",
       "near_location                        0.873086    0.768143\n",
       "partner                              0.534195    0.355325\n",
       "promo_friends                        0.353522    0.183789\n",
       "phone                                0.903709    0.902922\n",
       "contract_period                      5.747193    1.728558\n",
       "group_visits                         0.464103    0.268615\n",
       "age                                 29.976523   26.989632\n",
       "avg_additional_charges_total       158.445715  115.082899\n",
       "month_to_end_contract                5.283089    1.662582\n",
       "lifetime                             4.711807    0.990575\n",
       "avg_class_frequency_total            2.024876    1.474995\n",
       "avg_class_frequency_current_month    2.027882    1.044546"
      ]
     },
     "execution_count": 6,
     "metadata": {},
     "output_type": "execute_result"
    }
   ],
   "source": [
    "# группируем данные по столбцу churn, рассмотрим средние значения по каждому из параметров\n",
    "gr = data.groupby('churn').mean().T\n",
    "gr"
   ]
  },
  {
   "cell_type": "markdown",
   "metadata": {},
   "source": [
    "Видим, что:\n",
    "- по полу клиенты в оттоке и действующие клиенты равномерно распределены\n",
    "- в среднем и те, и другие часто проживают в районе, где расположен в клуб. Однако клиенты в оттоке чуть чаще ходят в клуб из других районов, что может влиять на их лояльность\n",
    "- в среднем действующие клиенты чаще являются сотрудниками компаний-партнеров клуба и приходят по программе \"приведи друга\"\n",
    "- видно, что средний период абонемента у клиентов в оттоке сильно меньше - 2 месяца против 6\n",
    "- клиенты, которые переходят в отток меньше тратят на доп. услуги в среднем, реже ходят на групповые занятия, посещают клуб 1 раз в неделю в среднем, против 2х у действующих клиентов"
   ]
  },
  {
   "cell_type": "code",
   "execution_count": 7,
   "metadata": {
    "scrolled": false
   },
   "outputs": [
    {
     "data": {
      "image/png": "[encoded data removed]",
      "text/plain": [
       "<Figure size 1080x1080 with 15 Axes>"
      ]
     },
     "metadata": {
      "needs_background": "light"
     },
     "output_type": "display_data"
    }
   ],
   "source": [
    "# строим диаграммы\n",
    "fig, ax = plt.subplots(nrows=5, ncols=3, figsize=(15, 15))\n",
    "ax = ax.flatten()\n",
    "    \n",
    "for i in range(len(data.columns)):\n",
    "    sns.histplot(data=data, x=data[data.columns[i]], hue='churn', ax=ax[i], kde=True)\n",
    "    ax[i].set_title(f'{data.columns[i]}')\n",
    "        \n",
    "fig.tight_layout()\n",
    "fig.show()"
   ]
  },
  {
   "cell_type": "markdown",
   "metadata": {},
   "source": [
    "По графикам мы видим примерно тоже, что и по средним значениям. Еще можно заметить, что клиенты в оттоке:\n",
    "- младше по возрасту, исходя из диаграммы возрастных показателей\n",
    "- чаще всего их абонементы короче - срок окончания в течении 1-2 месяцев\n",
    "- они обычно уходят в течении первых 5 месяцев, те клиенты, которые ходят в клуб дольше обычно остаются его клиентами\n",
    "\n",
    "Построим тепловую карту корреляции разных признаков клиента:"
   ]
  },
  {
   "cell_type": "code",
   "execution_count": 8,
   "metadata": {},
   "outputs": [
    {
     "data": {
      "image/png": "[encoded data removed]",
      "text/plain": [
       "<Figure size 1440x720 with 2 Axes>"
      ]
     },
     "metadata": {
      "needs_background": "light"
     },
     "output_type": "display_data"
    }
   ],
   "source": [
    "# считаем корреляцию\n",
    "cm = data.corr()\n",
    "\n",
    "# рисуем тепловую карту\n",
    "plt.figure(figsize=(20,10))\n",
    "sns.heatmap(cm, annot=True, square=True)\n",
    "plt.title(\"Тепловая карта корреляции разных признаков между собой\", fontsize=15)\n",
    "plt.show()"
   ]
  },
  {
   "cell_type": "markdown",
   "metadata": {},
   "source": [
    "Исходя из тепловой карты видно, что две пары признаков имеют коэффициент корреляции больше 0,9, что говорит о весьма сильной зависимости данных признаков друг от друга:\n",
    "- 'Month_to_end_contract' (срок окончания текущего действующего абонемента) и 'Contract_period' (длительность текущего действующего абонемента) - коэф. корр 0,97\n",
    "- 'Avg_class_frequency_total' (средняя частота посещения клуба в неделю) и 'Avg_class_frequency_current_month' (средняя частота посещения клуба в неделю за последний месяц) - коэф. корр. 0,95\n",
    "\n",
    "Из-за высокого показателя корреляции эффект от двух признаков при обучении модели будет такой же, как при использовании одного признака. Если оставим оба признака модель может занулить один из них из-за чего мы не получим корректных данных. \n",
    "\n",
    "Чтобы убрать эффект мультиколлинеарности на последующих шагах удалим два из 4х столбцов имеющих высокие показатели корреляции друг с другом:"
   ]
  },
  {
   "cell_type": "code",
   "execution_count": 9,
   "metadata": {},
   "outputs": [
    {
     "data": {
      "text/html": [
       "<div>\n",
       "<style scoped>\n",
       "    .dataframe tbody tr th:only-of-type {\n",
       "        vertical-align: middle;\n",
       "    }\n",
       "\n",
       "    .dataframe tbody tr th {\n",
       "        vertical-align: top;\n",
       "    }\n",
       "\n",
       "    .dataframe thead th {\n",
       "        text-align: right;\n",
       "    }\n",
       "</style>\n",
       "<table border=\"1\" class=\"dataframe\">\n",
       "  <thead>\n",
       "    <tr style=\"text-align: right;\">\n",
       "      <th></th>\n",
       "      <th>gender</th>\n",
       "      <th>near_location</th>\n",
       "      <th>partner</th>\n",
       "      <th>promo_friends</th>\n",
       "      <th>phone</th>\n",
       "      <th>contract_period</th>\n",
       "      <th>group_visits</th>\n",
       "      <th>age</th>\n",
       "      <th>avg_additional_charges_total</th>\n",
       "      <th>lifetime</th>\n",
       "      <th>avg_class_frequency_total</th>\n",
       "      <th>churn</th>\n",
       "    </tr>\n",
       "  </thead>\n",
       "  <tbody>\n",
       "    <tr>\n",
       "      <th>0</th>\n",
       "      <td>1</td>\n",
       "      <td>1</td>\n",
       "      <td>1</td>\n",
       "      <td>1</td>\n",
       "      <td>0</td>\n",
       "      <td>6</td>\n",
       "      <td>1</td>\n",
       "      <td>29</td>\n",
       "      <td>14.227470</td>\n",
       "      <td>3</td>\n",
       "      <td>0.020398</td>\n",
       "      <td>0</td>\n",
       "    </tr>\n",
       "    <tr>\n",
       "      <th>1</th>\n",
       "      <td>0</td>\n",
       "      <td>1</td>\n",
       "      <td>0</td>\n",
       "      <td>0</td>\n",
       "      <td>1</td>\n",
       "      <td>12</td>\n",
       "      <td>1</td>\n",
       "      <td>31</td>\n",
       "      <td>113.202938</td>\n",
       "      <td>7</td>\n",
       "      <td>1.922936</td>\n",
       "      <td>0</td>\n",
       "    </tr>\n",
       "    <tr>\n",
       "      <th>2</th>\n",
       "      <td>0</td>\n",
       "      <td>1</td>\n",
       "      <td>1</td>\n",
       "      <td>0</td>\n",
       "      <td>1</td>\n",
       "      <td>1</td>\n",
       "      <td>0</td>\n",
       "      <td>28</td>\n",
       "      <td>129.448479</td>\n",
       "      <td>2</td>\n",
       "      <td>1.859098</td>\n",
       "      <td>0</td>\n",
       "    </tr>\n",
       "    <tr>\n",
       "      <th>3</th>\n",
       "      <td>0</td>\n",
       "      <td>1</td>\n",
       "      <td>1</td>\n",
       "      <td>1</td>\n",
       "      <td>1</td>\n",
       "      <td>12</td>\n",
       "      <td>1</td>\n",
       "      <td>33</td>\n",
       "      <td>62.669863</td>\n",
       "      <td>2</td>\n",
       "      <td>3.205633</td>\n",
       "      <td>0</td>\n",
       "    </tr>\n",
       "    <tr>\n",
       "      <th>4</th>\n",
       "      <td>1</td>\n",
       "      <td>1</td>\n",
       "      <td>1</td>\n",
       "      <td>1</td>\n",
       "      <td>1</td>\n",
       "      <td>1</td>\n",
       "      <td>0</td>\n",
       "      <td>26</td>\n",
       "      <td>198.362265</td>\n",
       "      <td>3</td>\n",
       "      <td>1.113884</td>\n",
       "      <td>0</td>\n",
       "    </tr>\n",
       "  </tbody>\n",
       "</table>\n",
       "</div>"
      ],
      "text/plain": [
       "   gender  near_location  partner  promo_friends  phone  contract_period  \\\n",
       "0       1              1        1              1      0                6   \n",
       "1       0              1        0              0      1               12   \n",
       "2       0              1        1              0      1                1   \n",
       "3       0              1        1              1      1               12   \n",
       "4       1              1        1              1      1                1   \n",
       "\n",
       "   group_visits  age  avg_additional_charges_total  lifetime  \\\n",
       "0             1   29                     14.227470         3   \n",
       "1             1   31                    113.202938         7   \n",
       "2             0   28                    129.448479         2   \n",
       "3             1   33                     62.669863         2   \n",
       "4             0   26                    198.362265         3   \n",
       "\n",
       "   avg_class_frequency_total  churn  \n",
       "0                   0.020398      0  \n",
       "1                   1.922936      0  \n",
       "2                   1.859098      0  \n",
       "3                   3.205633      0  \n",
       "4                   1.113884      0  "
      ]
     },
     "execution_count": 9,
     "metadata": {},
     "output_type": "execute_result"
    }
   ],
   "source": [
    "# удаляем два столбца 'month_to_end_contract', 'avg_class_frequency_current_month'\n",
    "data = data.drop(columns=['month_to_end_contract', 'avg_class_frequency_current_month'])\n",
    "data.head()"
   ]
  },
  {
   "cell_type": "markdown",
   "metadata": {},
   "source": [
    "### Вывод\n",
    "\n",
    "Мы сделали предположения относительно признаков тех клиентов, которые переходят в отток, исходя из диаграмм и средних значений. Такие клиенты в среднем чаще:\n",
    "- живут в другой районе, чем тот, где находится клуб\n",
    "- пришли самостоятельно (не являются сотрудниками компаний-партнеров и не пришли по акции \"приведи друга\")\n",
    "- берут абонементы с небольшим периодом - 1-2 месяца\n",
    "- не ходят на групповые занятия и не приобретают доп. услуги\n",
    "- посещают клуб 1 раз в неделю\n",
    "- в среднем младше по возрасту\n",
    "\n",
    "Мы обнаружили, что есть две пары признаков, которые очень сильно коррелируют друг с другом. Это может сказаться в дальнейшем при обучении модели. Поэтому мы произвели удаление двух из четырех столбцов с данными признаками. "
   ]
  },
  {
   "cell_type": "markdown",
   "metadata": {},
   "source": [
    "## Модель прогнозирования оттока клиентов"
   ]
  },
  {
   "cell_type": "markdown",
   "metadata": {},
   "source": [
    "Разделим признаки и целевую переменную, обучающую и валидационную выборки:"
   ]
  },
  {
   "cell_type": "code",
   "execution_count": 10,
   "metadata": {},
   "outputs": [],
   "source": [
    "# разделим наши данные на признаки (матрица X) и целевую переменную (y)\n",
    "X = data.drop(columns=['churn'])\n",
    "y = data['churn']\n",
    "\n",
    "# разделяем модель на обучающую и валидационную выборки\n",
    "X_train, X_test, y_train, y_test = train_test_split(X, y, test_size=0.2, random_state=0)"
   ]
  },
  {
   "cell_type": "markdown",
   "metadata": {},
   "source": [
    "Обучим модель с помощью логистической регрессии и случайного леса, выведем метрики accuracy, precision и recall для оценки эффективности моделей:"
   ]
  },
  {
   "cell_type": "code",
   "execution_count": 11,
   "metadata": {},
   "outputs": [
    {
     "name": "stdout",
     "output_type": "stream",
     "text": [
      "LogisticRegression(solver='liblinear')\n",
      "Accuracy: 0.88 Precision: 0.76 Recall: 0.77\n",
      "RandomForestClassifier()\n",
      "Accuracy: 0.90 Precision: 0.80 Recall: 0.77\n"
     ]
    }
   ],
   "source": [
    "# функция для обучение модели\n",
    "def make_prediction(m, X_train, y_train, X_test, y_test):\n",
    "    m = m\n",
    "    m.fit(X_train, y_train)\n",
    "    predictions = m.predict(X_test)\n",
    "    print('Accuracy: {:.2f} Precision: {:.2f} Recall: {:.2f}'.format(accuracy_score(y_test, predictions), \n",
    "                                                               precision_score(y_test, predictions),\n",
    "                                                               recall_score(y_test, predictions)))\n",
    "# задаем способы, которыми будем обучать модель    \n",
    "models = [LogisticRegression(solver='liblinear'), RandomForestClassifier()]\n",
    "\n",
    "# выводим данные через цикл\n",
    "for i in models:\n",
    "    print(i)\n",
    "    make_prediction(i, X_train, y_train, X_test, y_test) "
   ]
  },
  {
   "cell_type": "markdown",
   "metadata": {},
   "source": [
    "Доля правильных ответов немного больше у случайного леса, при этом он же показывает более высокую точность. Однако полнота у него несколько уступает логистической регрессии. Помним, что мы всегда балансируем между метриками точности и полноты. Улучшая одну, мы можем ухудшать другую. \n",
    "\n",
    "Исходя из данных получается, что случайный лес работает лучше, чем логистическая регрессия. "
   ]
  },
  {
   "cell_type": "markdown",
   "metadata": {},
   "source": [
    "## Кластеризация клиентов"
   ]
  },
  {
   "cell_type": "markdown",
   "metadata": {},
   "source": [
    "Произведем кластеризацию клиентов. Для этого стандартизируем данные:"
   ]
  },
  {
   "cell_type": "code",
   "execution_count": 12,
   "metadata": {},
   "outputs": [],
   "source": [
    "# стандартизируем данные\n",
    "sc = StandardScaler()\n",
    "X_sc = sc.fit_transform(X)"
   ]
  },
  {
   "cell_type": "markdown",
   "metadata": {},
   "source": [
    "Построим дендрограмму для уточнения количества кластеров, на которые будем делить клиентов:"
   ]
  },
  {
   "cell_type": "code",
   "execution_count": 13,
   "metadata": {},
   "outputs": [
    {
     "data": {
      "image/png": "[encoded data removed]",
      "text/plain": [
       "<Figure size 1080x720 with 1 Axes>"
      ]
     },
     "metadata": {
      "needs_background": "light"
     },
     "output_type": "display_data"
    }
   ],
   "source": [
    "# строим дендрограмму\n",
    "linked = linkage(X_sc, method = 'ward') \n",
    "\n",
    "plt.figure(figsize=(15, 10))  \n",
    "dendrogram(linked)\n",
    "plt.title('Дендрограмма кластеров посетителей клуба')\n",
    "plt.xticks([])\n",
    "plt.show() "
   ]
  },
  {
   "cell_type": "markdown",
   "metadata": {},
   "source": [
    "Дендрограмма показывает, что имеет смысл делить на 4 кластера. Однако последний кластер у нас получается очень большой. Поделим клиентов на 5, чтобы получить большую детализацию признаков:"
   ]
  },
  {
   "cell_type": "code",
   "execution_count": 14,
   "metadata": {
    "scrolled": false
   },
   "outputs": [
    {
     "data": {
      "text/html": [
       "<div>\n",
       "<style scoped>\n",
       "    .dataframe tbody tr th:only-of-type {\n",
       "        vertical-align: middle;\n",
       "    }\n",
       "\n",
       "    .dataframe tbody tr th {\n",
       "        vertical-align: top;\n",
       "    }\n",
       "\n",
       "    .dataframe thead th {\n",
       "        text-align: right;\n",
       "    }\n",
       "</style>\n",
       "<table border=\"1\" class=\"dataframe\">\n",
       "  <thead>\n",
       "    <tr style=\"text-align: right;\">\n",
       "      <th>claster</th>\n",
       "      <th>0</th>\n",
       "      <th>1</th>\n",
       "      <th>2</th>\n",
       "      <th>3</th>\n",
       "      <th>4</th>\n",
       "    </tr>\n",
       "  </thead>\n",
       "  <tbody>\n",
       "    <tr>\n",
       "      <th>gender</th>\n",
       "      <td>0.499109</td>\n",
       "      <td>0.488571</td>\n",
       "      <td>0.505300</td>\n",
       "      <td>0.544202</td>\n",
       "      <td>0.523316</td>\n",
       "    </tr>\n",
       "    <tr>\n",
       "      <th>near_location</th>\n",
       "      <td>0.000000</td>\n",
       "      <td>0.995238</td>\n",
       "      <td>1.000000</td>\n",
       "      <td>1.000000</td>\n",
       "      <td>0.862694</td>\n",
       "    </tr>\n",
       "    <tr>\n",
       "      <th>partner</th>\n",
       "      <td>0.488414</td>\n",
       "      <td>0.955238</td>\n",
       "      <td>0.238516</td>\n",
       "      <td>0.250287</td>\n",
       "      <td>0.471503</td>\n",
       "    </tr>\n",
       "    <tr>\n",
       "      <th>promo_friends</th>\n",
       "      <td>0.076649</td>\n",
       "      <td>0.892381</td>\n",
       "      <td>0.059187</td>\n",
       "      <td>0.079219</td>\n",
       "      <td>0.305699</td>\n",
       "    </tr>\n",
       "    <tr>\n",
       "      <th>phone</th>\n",
       "      <td>1.000000</td>\n",
       "      <td>1.000000</td>\n",
       "      <td>1.000000</td>\n",
       "      <td>1.000000</td>\n",
       "      <td>0.000000</td>\n",
       "    </tr>\n",
       "    <tr>\n",
       "      <th>contract_period</th>\n",
       "      <td>3.032086</td>\n",
       "      <td>7.660952</td>\n",
       "      <td>2.819788</td>\n",
       "      <td>4.528129</td>\n",
       "      <td>4.777202</td>\n",
       "    </tr>\n",
       "    <tr>\n",
       "      <th>group_visits</th>\n",
       "      <td>0.235294</td>\n",
       "      <td>0.458095</td>\n",
       "      <td>0.000000</td>\n",
       "      <td>1.000000</td>\n",
       "      <td>0.427461</td>\n",
       "    </tr>\n",
       "    <tr>\n",
       "      <th>age</th>\n",
       "      <td>28.721925</td>\n",
       "      <td>29.543810</td>\n",
       "      <td>28.770318</td>\n",
       "      <td>29.536165</td>\n",
       "      <td>29.297927</td>\n",
       "    </tr>\n",
       "    <tr>\n",
       "      <th>avg_additional_charges_total</th>\n",
       "      <td>137.540009</td>\n",
       "      <td>155.861428</td>\n",
       "      <td>143.383993</td>\n",
       "      <td>148.088897</td>\n",
       "      <td>144.208179</td>\n",
       "    </tr>\n",
       "    <tr>\n",
       "      <th>lifetime</th>\n",
       "      <td>3.060606</td>\n",
       "      <td>4.380952</td>\n",
       "      <td>3.343640</td>\n",
       "      <td>3.761194</td>\n",
       "      <td>3.940415</td>\n",
       "    </tr>\n",
       "    <tr>\n",
       "      <th>avg_class_frequency_total</th>\n",
       "      <td>1.770413</td>\n",
       "      <td>1.978963</td>\n",
       "      <td>1.800647</td>\n",
       "      <td>1.941342</td>\n",
       "      <td>1.854211</td>\n",
       "    </tr>\n",
       "    <tr>\n",
       "      <th>churn</th>\n",
       "      <td>0.399287</td>\n",
       "      <td>0.120952</td>\n",
       "      <td>0.381625</td>\n",
       "      <td>0.200918</td>\n",
       "      <td>0.266839</td>\n",
       "    </tr>\n",
       "  </tbody>\n",
       "</table>\n",
       "</div>"
      ],
      "text/plain": [
       "claster                                0           1           2           3  \\\n",
       "gender                          0.499109    0.488571    0.505300    0.544202   \n",
       "near_location                   0.000000    0.995238    1.000000    1.000000   \n",
       "partner                         0.488414    0.955238    0.238516    0.250287   \n",
       "promo_friends                   0.076649    0.892381    0.059187    0.079219   \n",
       "phone                           1.000000    1.000000    1.000000    1.000000   \n",
       "contract_period                 3.032086    7.660952    2.819788    4.528129   \n",
       "group_visits                    0.235294    0.458095    0.000000    1.000000   \n",
       "age                            28.721925   29.543810   28.770318   29.536165   \n",
       "avg_additional_charges_total  137.540009  155.861428  143.383993  148.088897   \n",
       "lifetime                        3.060606    4.380952    3.343640    3.761194   \n",
       "avg_class_frequency_total       1.770413    1.978963    1.800647    1.941342   \n",
       "churn                           0.399287    0.120952    0.381625    0.200918   \n",
       "\n",
       "claster                                4  \n",
       "gender                          0.523316  \n",
       "near_location                   0.862694  \n",
       "partner                         0.471503  \n",
       "promo_friends                   0.305699  \n",
       "phone                           0.000000  \n",
       "contract_period                 4.777202  \n",
       "group_visits                    0.427461  \n",
       "age                            29.297927  \n",
       "avg_additional_charges_total  144.208179  \n",
       "lifetime                        3.940415  \n",
       "avg_class_frequency_total       1.854211  \n",
       "churn                           0.266839  "
      ]
     },
     "metadata": {},
     "output_type": "display_data"
    }
   ],
   "source": [
    "# задаём модель k_means с числом кластеров 3 и фиксируем значение random_state\n",
    "km = KMeans(n_clusters=5, random_state=0)\n",
    "# прогнозируем кластеры для наблюдений (алгоритм присваивает им номера от 0 до 2)\n",
    "labels = km.fit_predict(X_sc)\n",
    "\n",
    "# сохраняем метки кластера в поле нашего датасета\n",
    "data['claster'] = labels\n",
    "\n",
    "# выводим статистику по средним значениям наших признаков по кластеру\n",
    "display(data.groupby('claster').mean().T)"
   ]
  },
  {
   "cell_type": "markdown",
   "metadata": {},
   "source": [
    "Построим диаграммы распределения признаков в зависимости от целевой переменной:"
   ]
  },
  {
   "cell_type": "code",
   "execution_count": 15,
   "metadata": {
    "scrolled": false
   },
   "outputs": [
    {
     "data": {
      "image/png": "[encoded data removed]",
      "text/plain": [
       "<Figure size 1440x2520 with 12 Axes>"
      ]
     },
     "metadata": {
      "needs_background": "light"
     },
     "output_type": "display_data"
    }
   ],
   "source": [
    "# строим диаграмму\n",
    "fig, ax = plt.subplots(nrows=6, ncols=2, figsize=(20, 35))\n",
    "ax = ax.flatten()\n",
    "    \n",
    "for i in range(len(data.drop('churn', axis=1).columns)):\n",
    "    sns.barplot(data=data, x='churn', y=data[data.columns[i]], hue='claster', ax=ax[i], palette=\"Set2\")\n",
    "    ax[i].set_title(f'{data.columns[i]}')\n",
    "        \n",
    "fig.tight_layout()\n",
    "fig.show()"
   ]
  },
  {
   "cell_type": "markdown",
   "metadata": {},
   "source": [
    "Определим портрет пользователя, который попадает в каждый из кластеров. \n",
    "\n",
    "Кластер 0:\n",
    "- живет в районе клуба\n",
    "- в половине случаев является сотрудником компании-партнера\n",
    "- пришел не по программе \"приведи друга\"\n",
    "- занимался в течении 3х месяцев\n",
    "- практически не ходил на групповые занятия\n",
    "- тратит меньше 140 на дополнительные услуги клуба\n",
    "- ходит в среднем 1,7 раз в неделю\n",
    "\n",
    "Кластер 1:\n",
    "- живет не в районе клуба\n",
    "- является сотрудником компании-партнера\n",
    "- приходит по программе \"приведи друга\"\n",
    "- занимается в течении 7 месяцев\n",
    "- в половине случаев посещают групповые занятия\n",
    "- ходят в среднем клуб 1,9 раз в неделю\n",
    "\n",
    "Кластер 2:\n",
    "- живет не в районе клуба\n",
    "- не работает в кампании-партнере \n",
    "- не пришел по акции \"приведи друга\"\n",
    "- занимается в течении 3х месяцев\n",
    "- совсем не посещает групповые занятия\n",
    "- ходит в среднем в клуб 1,8 раз в неделю\n",
    "\n",
    "Кластер 3:\n",
    "- живет не в районе клуба\n",
    "- не работает в кампании-партнере\n",
    "- не пришел по акции \"приведи друга\"\n",
    "- занимается в течении 4,5 месяцев \n",
    "- постоянно ходит на групповые занятия\n",
    "- ходит в среднем 1,9 раз в неделю\n",
    "\n",
    "Кластер 4:\n",
    "- живет не в районе клуба\n",
    "- либо работает в кампании-партнере, либо пришел по программе \"приведи друга\"\n",
    "- не указал номер телефона\n",
    "- ходит в клуб в течении 5 месяцев\n",
    "- в половине случаев посещает групповые занятия\n",
    "- ходит в клуб в среднем 1,8 раз в неделю\n",
    "\n",
    "У клиентов в оттоке показатели стандартно ниже, чем у тех, кто до сих пор являются клиентами клуба. \n",
    "\n",
    "Посмотрим показатели оттока для каждого отдельного кластера:"
   ]
  },
  {
   "cell_type": "code",
   "execution_count": 16,
   "metadata": {},
   "outputs": [
    {
     "name": "stdout",
     "output_type": "stream",
     "text": [
      "\u001b[34mДоля оттока по каждому кластеру\u001b[0m\n"
     ]
    },
    {
     "data": {
      "text/html": [
       "<div>\n",
       "<style scoped>\n",
       "    .dataframe tbody tr th:only-of-type {\n",
       "        vertical-align: middle;\n",
       "    }\n",
       "\n",
       "    .dataframe tbody tr th {\n",
       "        vertical-align: top;\n",
       "    }\n",
       "\n",
       "    .dataframe thead th {\n",
       "        text-align: right;\n",
       "    }\n",
       "</style>\n",
       "<table border=\"1\" class=\"dataframe\">\n",
       "  <thead>\n",
       "    <tr style=\"text-align: right;\">\n",
       "      <th>claster</th>\n",
       "      <th>0</th>\n",
       "      <th>1</th>\n",
       "      <th>2</th>\n",
       "      <th>3</th>\n",
       "      <th>4</th>\n",
       "    </tr>\n",
       "  </thead>\n",
       "  <tbody>\n",
       "    <tr>\n",
       "      <th>churn</th>\n",
       "      <td>0.399287</td>\n",
       "      <td>0.120952</td>\n",
       "      <td>0.381625</td>\n",
       "      <td>0.200918</td>\n",
       "      <td>0.266839</td>\n",
       "    </tr>\n",
       "  </tbody>\n",
       "</table>\n",
       "</div>"
      ],
      "text/plain": [
       "claster         0         1         2         3         4\n",
       "churn    0.399287  0.120952  0.381625  0.200918  0.266839"
      ]
     },
     "metadata": {},
     "output_type": "display_data"
    },
    {
     "data": {
      "image/png": "[encoded data removed]",
      "text/plain": [
       "<Figure size 432x288 with 2 Axes>"
      ]
     },
     "metadata": {
      "needs_background": "light"
     },
     "output_type": "display_data"
    }
   ],
   "source": [
    "# строим данные оттока по кластеру\n",
    "print(colored('Доля оттока по каждому кластеру', 'blue'))\n",
    "churn = data.groupby('claster').agg({'churn':'mean'}).T\n",
    "display(churn)\n",
    "\n",
    "\n",
    "sns.heatmap(churn, annot=True,\n",
    "            fmt='.1%',)\n",
    "plt.show()"
   ]
  },
  {
   "cell_type": "markdown",
   "metadata": {},
   "source": [
    "Самые отточные кластеры - 0 и 2. Самый надежный - кластер 1. \n",
    "На удивление фактор близости проживания получается влияет не так сильно на отток. Дольше всего посещают клуб те клиенты, которые являются сотрудниками компаний-партнеров, приходят по программе \"приведи друга\" и ходят на групповые занятия. "
   ]
  },
  {
   "cell_type": "markdown",
   "metadata": {},
   "source": [
    "## Вывод \n",
    "\n",
    "Мы произвели первичный обзор данных, предобработку, исследовательский анализ данных. На этапе исследовательского анализа данных выявили первичные признаки того, что клиент уйдет в отток - не является сотрудником компании-партнера, пришел не по программе \"приведи друга\", реже ходит в клуб (1 раз в неделю), меньше платит за дополнительные услуги клуба, в среднем немного младше по возрасту, реже ходит на групповые занятия. \n",
    "Также мы определили признаки, которые сильно коррелируют между собой. Это может сильно повлиять на эффективность построения модели, поэтому мы убрали два из 4х признаков.\n",
    "\n",
    "\n",
    "Мы обучили модель двумя способами:\n",
    "- логистической регрессией\n",
    "- случайным лесом\n",
    "\n",
    "Выявили, что случайный лес показывает более точные результаты на тестовой выборке. Имеет смысл использовать его для построения прогноза оттока клиентов уже на реальных данных. \n",
    "\n",
    "Далее нам необходимо было произвести кластеризацию клиентов. С помощью дендрограммы мы определили, что нам необходимо разделить всех клиентов на 4 кластера, однако 4 кластер получился очень большой. Было принято решение разбить его на 2 для более точного выявления признаков отточных клиентов. \n",
    "\n",
    "С помощью алгоритма K-Means мы произвели обучение модели. Получили 5 кластеров клиентов. \n",
    "В наиболее надежном по оттоку кластере оказались те клиенты, которые являются сотрудниками компаний-партнеров, пришли по программе \"приведи друга\" и в среднем половина из этих клиентов посещает групповые занятия. \n",
    "\n",
    "Самыми ненадежными оказались кластеры 0 и 2. Они отличаются тем, что чаще всего эти клиенты не являются сотрудниками компаний-партнеров, пришли не по программе \"приведи друга\" и редко посещают групповые занятия. \n",
    "\n",
    "Исходя из выявленных особенностей кластеров имеет смысл работать над увеличением числа посетителей, пришедших по программам сотрудничества с компаниями-партнерами и по акции \"приведи друга\". Вероятно, если клиент посещает клуб вместе с сотрудниками или другом, то он в целом дольше будет посещать занятия. \n",
    "\n",
    "Для клиентов, которые пришли не по этим программам, большую роль играет посещение групповых занятий, поэтому имеет смысл мотивировать таких клиентов к их посещению. Мы можем видеть влияние групповых занятий на отток на примере кластера 3, куда попали клиенты, постоянно посещающие их, но при этом пришедшие не по программе \"приведи друга\" и не являющиеся сотрудниками компаний-партнеров. Их процент оттока сильно ниже, чем у кластеров, где посещение групповых занятий минимально. "
   ]
  }
 ],
 "metadata": {
  "ExecuteTimeLog": [
   {
    "duration": 1556,
    "start_time": "2022-07-18T08:42:41.319Z"
   },
   {
    "duration": 5,
    "start_time": "2022-07-18T08:43:29.127Z"
   },
   {
    "duration": 91,
    "start_time": "2022-07-18T08:52:26.946Z"
   },
   {
    "duration": 60,
    "start_time": "2022-07-18T08:52:38.060Z"
   },
   {
    "duration": 1177,
    "start_time": "2022-07-18T09:36:09.021Z"
   },
   {
    "duration": 6,
    "start_time": "2022-07-18T09:36:10.200Z"
   },
   {
    "duration": 95,
    "start_time": "2022-07-18T09:36:10.210Z"
   },
   {
    "duration": 92,
    "start_time": "2022-07-18T09:41:33.252Z"
   },
   {
    "duration": 8,
    "start_time": "2022-07-18T09:42:10.647Z"
   },
   {
    "duration": 8,
    "start_time": "2022-07-18T09:42:30.755Z"
   },
   {
    "duration": 9,
    "start_time": "2022-07-18T09:43:42.871Z"
   },
   {
    "duration": 9,
    "start_time": "2022-07-18T09:44:33.793Z"
   },
   {
    "duration": 1100,
    "start_time": "2022-07-18T09:44:40.107Z"
   },
   {
    "duration": 5,
    "start_time": "2022-07-18T09:44:41.210Z"
   },
   {
    "duration": 70,
    "start_time": "2022-07-18T09:44:41.217Z"
   },
   {
    "duration": 5,
    "start_time": "2022-07-18T09:44:41.289Z"
   },
   {
    "duration": 46,
    "start_time": "2022-07-18T09:45:04.801Z"
   },
   {
    "duration": 7,
    "start_time": "2022-07-18T12:47:30.386Z"
   },
   {
    "duration": 17,
    "start_time": "2022-07-18T12:47:36.426Z"
   },
   {
    "duration": 11,
    "start_time": "2022-07-18T12:52:11.453Z"
   },
   {
    "duration": 14,
    "start_time": "2022-07-18T12:52:22.543Z"
   },
   {
    "duration": 1360,
    "start_time": "2022-07-19T11:55:15.064Z"
   },
   {
    "duration": 5,
    "start_time": "2022-07-19T11:55:16.426Z"
   },
   {
    "duration": 133,
    "start_time": "2022-07-19T11:55:16.433Z"
   },
   {
    "duration": 5,
    "start_time": "2022-07-19T11:55:16.568Z"
   },
   {
    "duration": 45,
    "start_time": "2022-07-19T11:55:16.574Z"
   },
   {
    "duration": 31,
    "start_time": "2022-07-19T11:55:16.621Z"
   },
   {
    "duration": 1207,
    "start_time": "2022-07-19T12:08:06.420Z"
   },
   {
    "duration": 6,
    "start_time": "2022-07-19T12:08:07.629Z"
   },
   {
    "duration": 125,
    "start_time": "2022-07-19T12:08:07.637Z"
   },
   {
    "duration": 6,
    "start_time": "2022-07-19T12:08:07.764Z"
   },
   {
    "duration": 64,
    "start_time": "2022-07-19T12:08:07.772Z"
   },
   {
    "duration": 27,
    "start_time": "2022-07-19T12:08:07.838Z"
   },
   {
    "duration": 1365,
    "start_time": "2022-07-19T12:08:07.868Z"
   },
   {
    "duration": 1220,
    "start_time": "2022-07-19T12:08:30.823Z"
   },
   {
    "duration": 5,
    "start_time": "2022-07-19T12:08:32.048Z"
   },
   {
    "duration": 84,
    "start_time": "2022-07-19T12:08:32.055Z"
   },
   {
    "duration": 11,
    "start_time": "2022-07-19T12:08:32.141Z"
   },
   {
    "duration": 61,
    "start_time": "2022-07-19T12:08:32.157Z"
   },
   {
    "duration": 17,
    "start_time": "2022-07-19T12:08:32.220Z"
   },
   {
    "duration": 1329,
    "start_time": "2022-07-19T12:08:32.239Z"
   },
   {
    "duration": 1154,
    "start_time": "2022-07-19T12:08:50.987Z"
   },
   {
    "duration": 8,
    "start_time": "2022-07-19T12:08:52.144Z"
   },
   {
    "duration": 87,
    "start_time": "2022-07-19T12:08:52.153Z"
   },
   {
    "duration": 16,
    "start_time": "2022-07-19T12:08:52.242Z"
   },
   {
    "duration": 58,
    "start_time": "2022-07-19T12:08:52.260Z"
   },
   {
    "duration": 17,
    "start_time": "2022-07-19T12:08:52.320Z"
   },
   {
    "duration": 3273,
    "start_time": "2022-07-19T12:08:52.339Z"
   },
   {
    "duration": 3462,
    "start_time": "2022-07-19T12:10:00.013Z"
   },
   {
    "duration": 1231,
    "start_time": "2022-07-19T12:10:16.329Z"
   },
   {
    "duration": 7,
    "start_time": "2022-07-19T12:10:17.563Z"
   },
   {
    "duration": 71,
    "start_time": "2022-07-19T12:10:17.572Z"
   },
   {
    "duration": 15,
    "start_time": "2022-07-19T12:10:17.645Z"
   },
   {
    "duration": 49,
    "start_time": "2022-07-19T12:10:17.665Z"
   },
   {
    "duration": 17,
    "start_time": "2022-07-19T12:10:17.716Z"
   },
   {
    "duration": 3545,
    "start_time": "2022-07-19T12:10:17.735Z"
   },
   {
    "duration": 1183,
    "start_time": "2022-07-19T12:10:44.708Z"
   },
   {
    "duration": 5,
    "start_time": "2022-07-19T12:10:45.893Z"
   },
   {
    "duration": 77,
    "start_time": "2022-07-19T12:10:45.900Z"
   },
   {
    "duration": 5,
    "start_time": "2022-07-19T12:10:45.978Z"
   },
   {
    "duration": 62,
    "start_time": "2022-07-19T12:10:45.985Z"
   },
   {
    "duration": 21,
    "start_time": "2022-07-19T12:10:46.049Z"
   },
   {
    "duration": 3583,
    "start_time": "2022-07-19T12:10:46.072Z"
   },
   {
    "duration": 3456,
    "start_time": "2022-07-19T12:11:23.321Z"
   },
   {
    "duration": 1318,
    "start_time": "2022-07-19T12:12:17.145Z"
   },
   {
    "duration": 1101,
    "start_time": "2022-07-19T12:13:12.081Z"
   },
   {
    "duration": 1136,
    "start_time": "2022-07-19T12:13:20.100Z"
   },
   {
    "duration": 5,
    "start_time": "2022-07-19T12:13:21.238Z"
   },
   {
    "duration": 85,
    "start_time": "2022-07-19T12:13:21.245Z"
   },
   {
    "duration": 4,
    "start_time": "2022-07-19T12:13:21.332Z"
   },
   {
    "duration": 60,
    "start_time": "2022-07-19T12:13:21.338Z"
   },
   {
    "duration": 17,
    "start_time": "2022-07-19T12:13:21.400Z"
   },
   {
    "duration": 1200,
    "start_time": "2022-07-19T12:13:21.419Z"
   },
   {
    "duration": 3243,
    "start_time": "2022-07-19T12:13:29.893Z"
   },
   {
    "duration": 1496,
    "start_time": "2022-07-19T12:16:39.297Z"
   },
   {
    "duration": 3590,
    "start_time": "2022-07-19T12:17:57.043Z"
   },
   {
    "duration": 1603,
    "start_time": "2022-07-19T12:22:14.672Z"
   },
   {
    "duration": 1437,
    "start_time": "2022-07-19T12:22:52.391Z"
   },
   {
    "duration": 1560,
    "start_time": "2022-07-19T12:23:06.427Z"
   },
   {
    "duration": 130,
    "start_time": "2022-07-19T12:23:24.672Z"
   },
   {
    "duration": 137,
    "start_time": "2022-07-19T12:23:37.092Z"
   },
   {
    "duration": 181,
    "start_time": "2022-07-19T12:40:11.605Z"
   },
   {
    "duration": 1737,
    "start_time": "2022-07-19T12:40:24.191Z"
   },
   {
    "duration": 1242,
    "start_time": "2022-07-19T17:54:42.258Z"
   },
   {
    "duration": 5,
    "start_time": "2022-07-19T17:54:43.504Z"
   },
   {
    "duration": 83,
    "start_time": "2022-07-19T17:54:43.511Z"
   },
   {
    "duration": 5,
    "start_time": "2022-07-19T17:54:43.597Z"
   },
   {
    "duration": 56,
    "start_time": "2022-07-19T17:54:43.603Z"
   },
   {
    "duration": 19,
    "start_time": "2022-07-19T17:54:43.661Z"
   },
   {
    "duration": 3095,
    "start_time": "2022-07-19T17:54:43.681Z"
   },
   {
    "duration": 1500,
    "start_time": "2022-07-19T17:54:46.778Z"
   },
   {
    "duration": 109,
    "start_time": "2022-07-19T17:54:48.280Z"
   },
   {
    "duration": 23,
    "start_time": "2022-07-19T17:55:03.336Z"
   },
   {
    "duration": 14,
    "start_time": "2022-07-19T17:57:03.315Z"
   },
   {
    "duration": 9,
    "start_time": "2022-07-19T17:57:28.506Z"
   },
   {
    "duration": 19,
    "start_time": "2022-07-19T17:57:50.045Z"
   },
   {
    "duration": 17,
    "start_time": "2022-07-19T17:58:38.163Z"
   },
   {
    "duration": 1134,
    "start_time": "2022-07-19T17:58:47.012Z"
   },
   {
    "duration": 5,
    "start_time": "2022-07-19T17:58:48.148Z"
   },
   {
    "duration": 72,
    "start_time": "2022-07-19T17:58:48.154Z"
   },
   {
    "duration": 4,
    "start_time": "2022-07-19T17:58:48.228Z"
   },
   {
    "duration": 47,
    "start_time": "2022-07-19T17:58:48.235Z"
   },
   {
    "duration": 20,
    "start_time": "2022-07-19T17:58:48.284Z"
   },
   {
    "duration": 3270,
    "start_time": "2022-07-19T17:58:48.306Z"
   },
   {
    "duration": 1534,
    "start_time": "2022-07-19T17:58:51.578Z"
   },
   {
    "duration": 14,
    "start_time": "2022-07-19T17:58:53.114Z"
   },
   {
    "duration": 1251,
    "start_time": "2022-07-20T08:48:04.066Z"
   },
   {
    "duration": 5,
    "start_time": "2022-07-20T08:48:05.319Z"
   },
   {
    "duration": 106,
    "start_time": "2022-07-20T08:48:05.325Z"
   },
   {
    "duration": 4,
    "start_time": "2022-07-20T08:48:05.433Z"
   },
   {
    "duration": 54,
    "start_time": "2022-07-20T08:48:05.439Z"
   },
   {
    "duration": 31,
    "start_time": "2022-07-20T08:48:05.495Z"
   },
   {
    "duration": 3194,
    "start_time": "2022-07-20T08:48:05.528Z"
   },
   {
    "duration": 1632,
    "start_time": "2022-07-20T08:48:08.724Z"
   },
   {
    "duration": 14,
    "start_time": "2022-07-20T08:48:10.358Z"
   },
   {
    "duration": 1047,
    "start_time": "2022-07-20T08:53:16.773Z"
   },
   {
    "duration": 4,
    "start_time": "2022-07-20T08:53:17.822Z"
   },
   {
    "duration": 62,
    "start_time": "2022-07-20T08:53:17.828Z"
   },
   {
    "duration": 4,
    "start_time": "2022-07-20T08:53:17.893Z"
   },
   {
    "duration": 49,
    "start_time": "2022-07-20T08:53:17.898Z"
   },
   {
    "duration": 14,
    "start_time": "2022-07-20T08:53:17.949Z"
   },
   {
    "duration": 3289,
    "start_time": "2022-07-20T08:53:17.965Z"
   },
   {
    "duration": 1462,
    "start_time": "2022-07-20T08:53:21.255Z"
   },
   {
    "duration": 16,
    "start_time": "2022-07-20T08:53:22.718Z"
   },
   {
    "duration": 3230,
    "start_time": "2022-07-20T11:13:21.500Z"
   },
   {
    "duration": 1139,
    "start_time": "2022-07-20T11:14:11.841Z"
   },
   {
    "duration": 5,
    "start_time": "2022-07-20T11:14:12.982Z"
   },
   {
    "duration": 74,
    "start_time": "2022-07-20T11:14:12.988Z"
   },
   {
    "duration": 5,
    "start_time": "2022-07-20T11:14:13.063Z"
   },
   {
    "duration": 73,
    "start_time": "2022-07-20T11:14:13.070Z"
   },
   {
    "duration": 17,
    "start_time": "2022-07-20T11:14:13.145Z"
   },
   {
    "duration": 3250,
    "start_time": "2022-07-20T11:14:13.163Z"
   },
   {
    "duration": 1470,
    "start_time": "2022-07-20T11:14:16.415Z"
   },
   {
    "duration": 12,
    "start_time": "2022-07-20T11:14:17.887Z"
   },
   {
    "duration": 1407,
    "start_time": "2022-07-20T12:08:50.885Z"
   },
   {
    "duration": 4,
    "start_time": "2022-07-20T12:08:52.294Z"
   },
   {
    "duration": 94,
    "start_time": "2022-07-20T12:08:52.299Z"
   },
   {
    "duration": 5,
    "start_time": "2022-07-20T12:08:52.395Z"
   },
   {
    "duration": 74,
    "start_time": "2022-07-20T12:08:52.402Z"
   },
   {
    "duration": 17,
    "start_time": "2022-07-20T12:08:52.477Z"
   },
   {
    "duration": 3307,
    "start_time": "2022-07-20T12:08:52.495Z"
   },
   {
    "duration": 1635,
    "start_time": "2022-07-20T12:08:55.803Z"
   },
   {
    "duration": 12,
    "start_time": "2022-07-20T12:08:57.440Z"
   },
   {
    "duration": 6,
    "start_time": "2022-07-20T12:13:51.542Z"
   },
   {
    "duration": 1565,
    "start_time": "2022-07-20T12:25:53.606Z"
   },
   {
    "duration": 4,
    "start_time": "2022-07-20T12:25:55.173Z"
   },
   {
    "duration": 80,
    "start_time": "2022-07-20T12:25:55.179Z"
   },
   {
    "duration": 5,
    "start_time": "2022-07-20T12:25:55.261Z"
   },
   {
    "duration": 75,
    "start_time": "2022-07-20T12:25:55.267Z"
   },
   {
    "duration": 18,
    "start_time": "2022-07-20T12:25:55.344Z"
   },
   {
    "duration": 3370,
    "start_time": "2022-07-20T12:25:55.363Z"
   },
   {
    "duration": 1669,
    "start_time": "2022-07-20T12:25:58.735Z"
   },
   {
    "duration": 25,
    "start_time": "2022-07-20T12:26:00.406Z"
   },
   {
    "duration": 15,
    "start_time": "2022-07-20T12:26:00.433Z"
   },
   {
    "duration": 15,
    "start_time": "2022-07-20T12:26:00.449Z"
   },
   {
    "duration": 714,
    "start_time": "2022-07-20T12:28:43.056Z"
   },
   {
    "duration": 1453,
    "start_time": "2022-07-20T12:35:34.370Z"
   },
   {
    "duration": 4,
    "start_time": "2022-07-20T12:35:35.825Z"
   },
   {
    "duration": 79,
    "start_time": "2022-07-20T12:35:35.831Z"
   },
   {
    "duration": 5,
    "start_time": "2022-07-20T12:35:35.913Z"
   },
   {
    "duration": 68,
    "start_time": "2022-07-20T12:35:35.920Z"
   },
   {
    "duration": 24,
    "start_time": "2022-07-20T12:35:35.991Z"
   },
   {
    "duration": 3420,
    "start_time": "2022-07-20T12:35:36.022Z"
   },
   {
    "duration": 1663,
    "start_time": "2022-07-20T12:35:39.444Z"
   },
   {
    "duration": 21,
    "start_time": "2022-07-20T12:35:41.109Z"
   },
   {
    "duration": 12,
    "start_time": "2022-07-20T12:35:41.133Z"
   },
   {
    "duration": 177,
    "start_time": "2022-07-20T12:35:41.147Z"
   },
   {
    "duration": 50,
    "start_time": "2022-07-20T12:39:34.842Z"
   },
   {
    "duration": 647,
    "start_time": "2022-07-20T12:40:19.715Z"
   },
   {
    "duration": 46,
    "start_time": "2022-07-20T12:40:29.485Z"
   },
   {
    "duration": 659,
    "start_time": "2022-07-20T12:46:39.626Z"
   },
   {
    "duration": 1438,
    "start_time": "2022-07-20T15:23:51.554Z"
   },
   {
    "duration": 5,
    "start_time": "2022-07-20T15:23:52.994Z"
   },
   {
    "duration": 86,
    "start_time": "2022-07-20T15:23:53.001Z"
   },
   {
    "duration": 5,
    "start_time": "2022-07-20T15:23:53.089Z"
   },
   {
    "duration": 66,
    "start_time": "2022-07-20T15:23:53.096Z"
   },
   {
    "duration": 18,
    "start_time": "2022-07-20T15:23:53.164Z"
   },
   {
    "duration": 3466,
    "start_time": "2022-07-20T15:23:53.183Z"
   },
   {
    "duration": 1714,
    "start_time": "2022-07-20T15:23:56.651Z"
   },
   {
    "duration": 12,
    "start_time": "2022-07-20T15:23:58.366Z"
   },
   {
    "duration": 10,
    "start_time": "2022-07-20T15:23:58.381Z"
   },
   {
    "duration": 142,
    "start_time": "2022-07-20T15:23:58.392Z"
   },
   {
    "duration": 1527,
    "start_time": "2022-07-20T15:24:35.922Z"
   },
   {
    "duration": 4,
    "start_time": "2022-07-20T15:24:37.456Z"
   },
   {
    "duration": 103,
    "start_time": "2022-07-20T15:24:37.461Z"
   },
   {
    "duration": 4,
    "start_time": "2022-07-20T15:24:37.566Z"
   },
   {
    "duration": 77,
    "start_time": "2022-07-20T15:24:37.572Z"
   },
   {
    "duration": 31,
    "start_time": "2022-07-20T15:24:37.651Z"
   },
   {
    "duration": 3952,
    "start_time": "2022-07-20T15:24:37.684Z"
   },
   {
    "duration": 1783,
    "start_time": "2022-07-20T15:24:41.638Z"
   },
   {
    "duration": 25,
    "start_time": "2022-07-20T15:24:43.423Z"
   },
   {
    "duration": 18,
    "start_time": "2022-07-20T15:24:43.451Z"
   },
   {
    "duration": 392,
    "start_time": "2022-07-20T15:24:43.471Z"
   },
   {
    "duration": 1531,
    "start_time": "2022-07-20T17:45:26.231Z"
   },
   {
    "duration": 5,
    "start_time": "2022-07-20T17:45:27.764Z"
   },
   {
    "duration": 120,
    "start_time": "2022-07-20T17:45:27.770Z"
   },
   {
    "duration": 4,
    "start_time": "2022-07-20T17:45:27.892Z"
   },
   {
    "duration": 47,
    "start_time": "2022-07-20T17:45:27.897Z"
   },
   {
    "duration": 17,
    "start_time": "2022-07-20T17:45:27.945Z"
   },
   {
    "duration": 2971,
    "start_time": "2022-07-20T17:45:27.963Z"
   },
   {
    "duration": 1513,
    "start_time": "2022-07-20T17:45:30.936Z"
   },
   {
    "duration": 11,
    "start_time": "2022-07-20T17:45:32.451Z"
   },
   {
    "duration": 13,
    "start_time": "2022-07-20T17:45:32.464Z"
   },
   {
    "duration": 1131,
    "start_time": "2022-07-20T17:45:32.479Z"
   },
   {
    "duration": 1342,
    "start_time": "2022-07-20T17:46:19.220Z"
   },
   {
    "duration": 4,
    "start_time": "2022-07-20T17:46:20.564Z"
   },
   {
    "duration": 66,
    "start_time": "2022-07-20T17:46:20.569Z"
   },
   {
    "duration": 5,
    "start_time": "2022-07-20T17:46:20.637Z"
   },
   {
    "duration": 66,
    "start_time": "2022-07-20T17:46:20.643Z"
   },
   {
    "duration": 15,
    "start_time": "2022-07-20T17:46:20.710Z"
   },
   {
    "duration": 3079,
    "start_time": "2022-07-20T17:46:20.726Z"
   },
   {
    "duration": 1648,
    "start_time": "2022-07-20T17:46:23.807Z"
   },
   {
    "duration": 12,
    "start_time": "2022-07-20T17:46:25.457Z"
   },
   {
    "duration": 9,
    "start_time": "2022-07-20T17:46:25.471Z"
   },
   {
    "duration": 393,
    "start_time": "2022-07-20T17:46:25.482Z"
   },
   {
    "duration": 1324,
    "start_time": "2022-07-20T18:31:36.523Z"
   },
   {
    "duration": 4,
    "start_time": "2022-07-20T18:31:37.849Z"
   },
   {
    "duration": 81,
    "start_time": "2022-07-20T18:31:37.854Z"
   },
   {
    "duration": 4,
    "start_time": "2022-07-20T18:31:37.937Z"
   },
   {
    "duration": 43,
    "start_time": "2022-07-20T18:31:37.943Z"
   },
   {
    "duration": 25,
    "start_time": "2022-07-20T18:31:37.988Z"
   },
   {
    "duration": 2965,
    "start_time": "2022-07-20T18:31:38.015Z"
   },
   {
    "duration": 1541,
    "start_time": "2022-07-20T18:31:40.982Z"
   },
   {
    "duration": 12,
    "start_time": "2022-07-20T18:31:42.525Z"
   },
   {
    "duration": 13,
    "start_time": "2022-07-20T18:31:42.539Z"
   },
   {
    "duration": 365,
    "start_time": "2022-07-20T18:31:42.554Z"
   },
   {
    "duration": 1719,
    "start_time": "2022-07-21T08:16:13.695Z"
   },
   {
    "duration": 6,
    "start_time": "2022-07-21T08:16:15.416Z"
   },
   {
    "duration": 127,
    "start_time": "2022-07-21T08:16:15.423Z"
   },
   {
    "duration": 9,
    "start_time": "2022-07-21T08:16:15.553Z"
   },
   {
    "duration": 55,
    "start_time": "2022-07-21T08:16:15.564Z"
   },
   {
    "duration": 14,
    "start_time": "2022-07-21T08:16:15.621Z"
   },
   {
    "duration": 3103,
    "start_time": "2022-07-21T08:16:15.637Z"
   },
   {
    "duration": 1730,
    "start_time": "2022-07-21T08:16:18.742Z"
   },
   {
    "duration": 17,
    "start_time": "2022-07-21T08:16:20.474Z"
   },
   {
    "duration": 10,
    "start_time": "2022-07-21T08:16:20.494Z"
   },
   {
    "duration": 402,
    "start_time": "2022-07-21T08:16:20.506Z"
   },
   {
    "duration": 1384,
    "start_time": "2022-07-21T08:48:39.714Z"
   },
   {
    "duration": 4,
    "start_time": "2022-07-21T08:48:41.100Z"
   },
   {
    "duration": 80,
    "start_time": "2022-07-21T08:48:41.105Z"
   },
   {
    "duration": 5,
    "start_time": "2022-07-21T08:48:41.187Z"
   },
   {
    "duration": 66,
    "start_time": "2022-07-21T08:48:41.193Z"
   },
   {
    "duration": 15,
    "start_time": "2022-07-21T08:48:41.261Z"
   },
   {
    "duration": 3206,
    "start_time": "2022-07-21T08:48:41.278Z"
   },
   {
    "duration": 1546,
    "start_time": "2022-07-21T08:48:44.486Z"
   },
   {
    "duration": 31,
    "start_time": "2022-07-21T08:48:46.033Z"
   },
   {
    "duration": 7,
    "start_time": "2022-07-21T08:48:46.065Z"
   },
   {
    "duration": 350,
    "start_time": "2022-07-21T08:48:46.073Z"
   },
   {
    "duration": 7,
    "start_time": "2022-07-21T08:51:35.881Z"
   },
   {
    "duration": 1477,
    "start_time": "2022-07-21T08:52:44.734Z"
   },
   {
    "duration": 4,
    "start_time": "2022-07-21T08:52:46.212Z"
   },
   {
    "duration": 71,
    "start_time": "2022-07-21T08:52:46.218Z"
   },
   {
    "duration": 4,
    "start_time": "2022-07-21T08:52:46.291Z"
   },
   {
    "duration": 52,
    "start_time": "2022-07-21T08:52:46.297Z"
   },
   {
    "duration": 15,
    "start_time": "2022-07-21T08:52:46.350Z"
   },
   {
    "duration": 2977,
    "start_time": "2022-07-21T08:52:46.367Z"
   },
   {
    "duration": 1477,
    "start_time": "2022-07-21T08:52:49.346Z"
   },
   {
    "duration": 11,
    "start_time": "2022-07-21T08:52:50.824Z"
   },
   {
    "duration": 7,
    "start_time": "2022-07-21T08:52:50.845Z"
   },
   {
    "duration": 350,
    "start_time": "2022-07-21T08:52:50.854Z"
   },
   {
    "duration": 9,
    "start_time": "2022-07-21T08:52:51.206Z"
   },
   {
    "duration": 105071,
    "start_time": "2022-07-21T08:55:58.085Z"
   },
   {
    "duration": 111992,
    "start_time": "2022-07-21T09:09:43.736Z"
   },
   {
    "duration": 5263,
    "start_time": "2022-07-21T09:33:32.655Z"
   },
   {
    "duration": 1399,
    "start_time": "2022-07-21T09:39:35.997Z"
   },
   {
    "duration": 4,
    "start_time": "2022-07-21T09:39:37.398Z"
   },
   {
    "duration": 67,
    "start_time": "2022-07-21T09:39:37.403Z"
   },
   {
    "duration": 5,
    "start_time": "2022-07-21T09:39:37.472Z"
   },
   {
    "duration": 51,
    "start_time": "2022-07-21T09:39:37.479Z"
   },
   {
    "duration": 25,
    "start_time": "2022-07-21T09:39:37.532Z"
   },
   {
    "duration": 3189,
    "start_time": "2022-07-21T09:39:37.559Z"
   },
   {
    "duration": 1535,
    "start_time": "2022-07-21T09:39:40.750Z"
   },
   {
    "duration": 13,
    "start_time": "2022-07-21T09:39:42.287Z"
   },
   {
    "duration": 10,
    "start_time": "2022-07-21T09:39:42.301Z"
   },
   {
    "duration": 363,
    "start_time": "2022-07-21T09:39:42.312Z"
   },
   {
    "duration": 8,
    "start_time": "2022-07-21T09:39:42.676Z"
   },
   {
    "duration": 5159,
    "start_time": "2022-07-21T09:39:42.686Z"
   },
   {
    "duration": 1309,
    "start_time": "2022-07-21T10:49:40.984Z"
   },
   {
    "duration": 4,
    "start_time": "2022-07-21T10:49:42.295Z"
   },
   {
    "duration": 87,
    "start_time": "2022-07-21T10:49:42.300Z"
   },
   {
    "duration": 4,
    "start_time": "2022-07-21T10:49:42.389Z"
   },
   {
    "duration": 62,
    "start_time": "2022-07-21T10:49:42.395Z"
   },
   {
    "duration": 18,
    "start_time": "2022-07-21T10:49:42.459Z"
   },
   {
    "duration": 2805,
    "start_time": "2022-07-21T10:49:42.479Z"
   },
   {
    "duration": 1463,
    "start_time": "2022-07-21T10:49:45.286Z"
   },
   {
    "duration": 12,
    "start_time": "2022-07-21T10:49:46.751Z"
   },
   {
    "duration": 34,
    "start_time": "2022-07-21T10:49:46.765Z"
   },
   {
    "duration": 341,
    "start_time": "2022-07-21T10:49:46.801Z"
   },
   {
    "duration": 6,
    "start_time": "2022-07-21T10:49:47.145Z"
   },
   {
    "duration": 5171,
    "start_time": "2022-07-21T10:49:47.152Z"
   },
   {
    "duration": 117,
    "start_time": "2022-07-21T10:49:52.325Z"
   },
   {
    "duration": 11,
    "start_time": "2022-07-21T10:54:06.719Z"
   },
   {
    "duration": 1236,
    "start_time": "2022-07-21T10:54:29.425Z"
   },
   {
    "duration": 24083,
    "start_time": "2022-07-21T10:55:16.256Z"
   },
   {
    "duration": 999,
    "start_time": "2022-07-21T11:07:25.692Z"
   },
   {
    "duration": 4277,
    "start_time": "2022-07-21T11:23:46.559Z"
   },
   {
    "duration": 1015,
    "start_time": "2022-07-21T11:41:56.933Z"
   },
   {
    "duration": 4,
    "start_time": "2022-07-21T11:42:11.084Z"
   },
   {
    "duration": 11,
    "start_time": "2022-07-21T11:42:18.812Z"
   },
   {
    "duration": 17,
    "start_time": "2022-07-21T11:42:56.107Z"
   },
   {
    "duration": 61,
    "start_time": "2022-07-21T11:43:18.674Z"
   },
   {
    "duration": 56,
    "start_time": "2022-07-21T11:43:48.426Z"
   },
   {
    "duration": 12,
    "start_time": "2022-07-21T11:44:27.279Z"
   },
   {
    "duration": 262,
    "start_time": "2022-07-21T11:44:51.568Z"
   },
   {
    "duration": 61,
    "start_time": "2022-07-21T11:46:41.409Z"
   },
   {
    "duration": 1366,
    "start_time": "2022-07-21T11:46:46.717Z"
   },
   {
    "duration": 4,
    "start_time": "2022-07-21T11:46:48.085Z"
   },
   {
    "duration": 72,
    "start_time": "2022-07-21T11:46:48.091Z"
   },
   {
    "duration": 4,
    "start_time": "2022-07-21T11:46:48.165Z"
   },
   {
    "duration": 44,
    "start_time": "2022-07-21T11:46:48.171Z"
   },
   {
    "duration": 41,
    "start_time": "2022-07-21T11:46:48.217Z"
   },
   {
    "duration": 2973,
    "start_time": "2022-07-21T11:46:48.260Z"
   },
   {
    "duration": 1518,
    "start_time": "2022-07-21T11:46:51.234Z"
   },
   {
    "duration": 12,
    "start_time": "2022-07-21T11:46:52.753Z"
   },
   {
    "duration": 8,
    "start_time": "2022-07-21T11:46:52.767Z"
   },
   {
    "duration": 361,
    "start_time": "2022-07-21T11:46:52.777Z"
   },
   {
    "duration": 10,
    "start_time": "2022-07-21T11:46:53.140Z"
   },
   {
    "duration": 5369,
    "start_time": "2022-07-21T11:46:53.151Z"
   },
   {
    "duration": 1434,
    "start_time": "2022-07-21T11:46:58.522Z"
   },
   {
    "duration": 4404,
    "start_time": "2022-07-21T11:46:59.958Z"
   },
   {
    "duration": 64,
    "start_time": "2022-07-21T11:47:04.363Z"
   },
   {
    "duration": 1270,
    "start_time": "2022-07-21T11:51:15.712Z"
   },
   {
    "duration": 123,
    "start_time": "2022-07-21T11:55:59.148Z"
   },
   {
    "duration": 14,
    "start_time": "2022-07-21T11:56:45.645Z"
   },
   {
    "duration": 1069,
    "start_time": "2022-07-21T12:04:02.093Z"
   },
   {
    "duration": 16,
    "start_time": "2022-07-21T12:04:10.905Z"
   },
   {
    "duration": 1360,
    "start_time": "2022-07-21T12:04:22.363Z"
   },
   {
    "duration": 4,
    "start_time": "2022-07-21T12:04:23.725Z"
   },
   {
    "duration": 74,
    "start_time": "2022-07-21T12:04:23.731Z"
   },
   {
    "duration": 4,
    "start_time": "2022-07-21T12:04:23.807Z"
   },
   {
    "duration": 53,
    "start_time": "2022-07-21T12:04:23.813Z"
   },
   {
    "duration": 17,
    "start_time": "2022-07-21T12:04:23.868Z"
   },
   {
    "duration": 3117,
    "start_time": "2022-07-21T12:04:23.887Z"
   },
   {
    "duration": 1626,
    "start_time": "2022-07-21T12:04:27.006Z"
   },
   {
    "duration": 25,
    "start_time": "2022-07-21T12:04:28.634Z"
   },
   {
    "duration": 10,
    "start_time": "2022-07-21T12:04:28.661Z"
   },
   {
    "duration": 408,
    "start_time": "2022-07-21T12:04:28.673Z"
   },
   {
    "duration": 10,
    "start_time": "2022-07-21T12:04:29.083Z"
   },
   {
    "duration": 5552,
    "start_time": "2022-07-21T12:04:29.094Z"
   },
   {
    "duration": 1313,
    "start_time": "2022-07-21T12:04:34.658Z"
   },
   {
    "duration": 1077,
    "start_time": "2022-07-21T12:39:53.305Z"
   },
   {
    "duration": 1033,
    "start_time": "2022-07-21T12:40:01.823Z"
   },
   {
    "duration": 995,
    "start_time": "2022-07-21T12:40:27.236Z"
   },
   {
    "duration": 3951,
    "start_time": "2022-07-21T12:40:38.177Z"
   },
   {
    "duration": 4323,
    "start_time": "2022-07-21T12:49:33.612Z"
   },
   {
    "duration": 3741,
    "start_time": "2022-07-21T12:50:03.601Z"
   },
   {
    "duration": 1153,
    "start_time": "2022-07-21T12:52:35.165Z"
   },
   {
    "duration": 1432,
    "start_time": "2022-07-21T12:52:51.304Z"
   },
   {
    "duration": 3114,
    "start_time": "2022-07-21T13:02:45.949Z"
   },
   {
    "duration": 1525,
    "start_time": "2022-07-21T13:03:34.461Z"
   },
   {
    "duration": 5,
    "start_time": "2022-07-21T13:03:35.988Z"
   },
   {
    "duration": 76,
    "start_time": "2022-07-21T13:03:35.994Z"
   },
   {
    "duration": 4,
    "start_time": "2022-07-21T13:03:36.072Z"
   },
   {
    "duration": 56,
    "start_time": "2022-07-21T13:03:36.078Z"
   },
   {
    "duration": 16,
    "start_time": "2022-07-21T13:03:36.146Z"
   },
   {
    "duration": 3492,
    "start_time": "2022-07-21T13:03:36.164Z"
   },
   {
    "duration": 0,
    "start_time": "2022-07-21T13:03:39.685Z"
   },
   {
    "duration": 0,
    "start_time": "2022-07-21T13:03:39.686Z"
   },
   {
    "duration": 0,
    "start_time": "2022-07-21T13:03:39.687Z"
   },
   {
    "duration": 0,
    "start_time": "2022-07-21T13:03:39.689Z"
   },
   {
    "duration": 0,
    "start_time": "2022-07-21T13:03:39.690Z"
   },
   {
    "duration": 0,
    "start_time": "2022-07-21T13:03:39.691Z"
   },
   {
    "duration": 0,
    "start_time": "2022-07-21T13:03:39.692Z"
   },
   {
    "duration": 3072,
    "start_time": "2022-07-21T13:05:36.079Z"
   },
   {
    "duration": 2844,
    "start_time": "2022-07-21T13:11:48.919Z"
   },
   {
    "duration": 2831,
    "start_time": "2022-07-21T13:12:10.509Z"
   },
   {
    "duration": 3470,
    "start_time": "2022-07-21T13:12:20.962Z"
   },
   {
    "duration": 1588,
    "start_time": "2022-07-21T13:12:45.570Z"
   },
   {
    "duration": 4,
    "start_time": "2022-07-21T13:12:47.163Z"
   },
   {
    "duration": 81,
    "start_time": "2022-07-21T13:12:47.169Z"
   },
   {
    "duration": 5,
    "start_time": "2022-07-21T13:12:47.252Z"
   },
   {
    "duration": 58,
    "start_time": "2022-07-21T13:12:47.259Z"
   },
   {
    "duration": 15,
    "start_time": "2022-07-21T13:12:47.319Z"
   },
   {
    "duration": 3184,
    "start_time": "2022-07-21T13:12:47.336Z"
   },
   {
    "duration": 1598,
    "start_time": "2022-07-21T13:12:50.522Z"
   },
   {
    "duration": 15,
    "start_time": "2022-07-21T13:12:52.122Z"
   },
   {
    "duration": 23,
    "start_time": "2022-07-21T13:12:52.148Z"
   },
   {
    "duration": 382,
    "start_time": "2022-07-21T13:12:52.173Z"
   },
   {
    "duration": 7,
    "start_time": "2022-07-21T13:12:52.557Z"
   },
   {
    "duration": 5550,
    "start_time": "2022-07-21T13:12:52.566Z"
   },
   {
    "duration": 1147,
    "start_time": "2022-07-21T13:12:58.118Z"
   },
   {
    "duration": 129,
    "start_time": "2022-07-21T13:15:07.670Z"
   },
   {
    "duration": 27605,
    "start_time": "2022-07-21T13:17:13.090Z"
   },
   {
    "duration": 1515,
    "start_time": "2022-07-21T13:31:07.085Z"
   },
   {
    "duration": 5,
    "start_time": "2022-07-21T13:31:08.603Z"
   },
   {
    "duration": 99,
    "start_time": "2022-07-21T13:31:08.610Z"
   },
   {
    "duration": 5,
    "start_time": "2022-07-21T13:31:08.712Z"
   },
   {
    "duration": 78,
    "start_time": "2022-07-21T13:31:08.719Z"
   },
   {
    "duration": 25,
    "start_time": "2022-07-21T13:31:08.800Z"
   },
   {
    "duration": 3865,
    "start_time": "2022-07-21T13:31:08.827Z"
   },
   {
    "duration": 1923,
    "start_time": "2022-07-21T13:31:12.695Z"
   },
   {
    "duration": 14,
    "start_time": "2022-07-21T13:31:14.621Z"
   },
   {
    "duration": 21,
    "start_time": "2022-07-21T13:31:14.637Z"
   },
   {
    "duration": 452,
    "start_time": "2022-07-21T13:31:14.662Z"
   },
   {
    "duration": 11,
    "start_time": "2022-07-21T13:31:15.116Z"
   },
   {
    "duration": 7387,
    "start_time": "2022-07-21T13:31:15.129Z"
   },
   {
    "duration": 1056,
    "start_time": "2022-07-21T13:31:22.518Z"
   },
   {
    "duration": 1787,
    "start_time": "2022-07-21T13:32:03.511Z"
   },
   {
    "duration": 5,
    "start_time": "2022-07-21T13:32:05.300Z"
   },
   {
    "duration": 96,
    "start_time": "2022-07-21T13:32:05.307Z"
   },
   {
    "duration": 6,
    "start_time": "2022-07-21T13:32:05.405Z"
   },
   {
    "duration": 88,
    "start_time": "2022-07-21T13:32:05.413Z"
   },
   {
    "duration": 22,
    "start_time": "2022-07-21T13:32:05.504Z"
   },
   {
    "duration": 3963,
    "start_time": "2022-07-21T13:32:05.529Z"
   },
   {
    "duration": 1815,
    "start_time": "2022-07-21T13:32:09.494Z"
   },
   {
    "duration": 11,
    "start_time": "2022-07-21T13:32:11.311Z"
   },
   {
    "duration": 8,
    "start_time": "2022-07-21T13:32:11.324Z"
   },
   {
    "duration": 379,
    "start_time": "2022-07-21T13:32:11.348Z"
   },
   {
    "duration": 8,
    "start_time": "2022-07-21T13:32:11.729Z"
   },
   {
    "duration": 6281,
    "start_time": "2022-07-21T13:32:11.746Z"
   },
   {
    "duration": 880,
    "start_time": "2022-07-21T13:32:18.029Z"
   },
   {
    "duration": 1675,
    "start_time": "2022-07-21T13:35:29.024Z"
   },
   {
    "duration": 5,
    "start_time": "2022-07-21T13:35:30.701Z"
   },
   {
    "duration": 128,
    "start_time": "2022-07-21T13:35:30.708Z"
   },
   {
    "duration": 12,
    "start_time": "2022-07-21T13:35:30.838Z"
   },
   {
    "duration": 75,
    "start_time": "2022-07-21T13:35:30.858Z"
   },
   {
    "duration": 31,
    "start_time": "2022-07-21T13:35:30.935Z"
   },
   {
    "duration": 3713,
    "start_time": "2022-07-21T13:35:30.977Z"
   },
   {
    "duration": 1805,
    "start_time": "2022-07-21T13:35:34.693Z"
   },
   {
    "duration": 15,
    "start_time": "2022-07-21T13:35:36.500Z"
   },
   {
    "duration": 23,
    "start_time": "2022-07-21T13:35:36.517Z"
   },
   {
    "duration": 442,
    "start_time": "2022-07-21T13:35:36.541Z"
   },
   {
    "duration": 10,
    "start_time": "2022-07-21T13:35:36.985Z"
   },
   {
    "duration": 6784,
    "start_time": "2022-07-21T13:35:36.997Z"
   },
   {
    "duration": 1012,
    "start_time": "2022-07-21T13:35:43.784Z"
   },
   {
    "duration": 1888,
    "start_time": "2022-07-21T13:50:14.233Z"
   },
   {
    "duration": 6,
    "start_time": "2022-07-21T13:50:16.123Z"
   },
   {
    "duration": 117,
    "start_time": "2022-07-21T13:50:16.131Z"
   },
   {
    "duration": 29,
    "start_time": "2022-07-21T13:50:16.253Z"
   },
   {
    "duration": 85,
    "start_time": "2022-07-21T13:50:16.289Z"
   },
   {
    "duration": 29,
    "start_time": "2022-07-21T13:50:16.376Z"
   },
   {
    "duration": 4454,
    "start_time": "2022-07-21T13:50:16.408Z"
   },
   {
    "duration": 2022,
    "start_time": "2022-07-21T13:50:20.869Z"
   },
   {
    "duration": 37,
    "start_time": "2022-07-21T13:50:22.901Z"
   },
   {
    "duration": 69,
    "start_time": "2022-07-21T13:50:22.943Z"
   },
   {
    "duration": 484,
    "start_time": "2022-07-21T13:50:23.014Z"
   },
   {
    "duration": 14,
    "start_time": "2022-07-21T13:50:23.505Z"
   },
   {
    "duration": 7649,
    "start_time": "2022-07-21T13:50:23.524Z"
   },
   {
    "duration": 1297,
    "start_time": "2022-07-21T13:50:31.176Z"
   },
   {
    "duration": 1943,
    "start_time": "2022-07-21T13:50:32.479Z"
   },
   {
    "duration": 5430,
    "start_time": "2022-07-21T13:50:49.173Z"
   },
   {
    "duration": 4469,
    "start_time": "2022-07-21T13:51:04.439Z"
   },
   {
    "duration": 112,
    "start_time": "2022-07-21T13:53:20.223Z"
   },
   {
    "duration": 106,
    "start_time": "2022-07-21T13:53:29.680Z"
   },
   {
    "duration": 3729,
    "start_time": "2022-07-21T13:53:36.135Z"
   },
   {
    "duration": 4442,
    "start_time": "2022-07-21T13:54:31.473Z"
   },
   {
    "duration": 5891,
    "start_time": "2022-07-21T13:54:57.878Z"
   },
   {
    "duration": 2252,
    "start_time": "2022-07-21T13:55:28.958Z"
   },
   {
    "duration": 7,
    "start_time": "2022-07-21T13:55:31.217Z"
   },
   {
    "duration": 326,
    "start_time": "2022-07-21T13:55:31.229Z"
   },
   {
    "duration": 18,
    "start_time": "2022-07-21T13:55:31.560Z"
   },
   {
    "duration": 285,
    "start_time": "2022-07-21T13:55:31.584Z"
   },
   {
    "duration": 146,
    "start_time": "2022-07-21T13:55:31.876Z"
   },
   {
    "duration": 4556,
    "start_time": "2022-07-21T13:55:32.030Z"
   },
   {
    "duration": 1876,
    "start_time": "2022-07-21T13:55:36.588Z"
   },
   {
    "duration": 17,
    "start_time": "2022-07-21T13:55:38.469Z"
   },
   {
    "duration": 12,
    "start_time": "2022-07-21T13:55:38.493Z"
   },
   {
    "duration": 507,
    "start_time": "2022-07-21T13:55:38.508Z"
   },
   {
    "duration": 14,
    "start_time": "2022-07-21T13:55:39.018Z"
   },
   {
    "duration": 7430,
    "start_time": "2022-07-21T13:55:39.034Z"
   },
   {
    "duration": 1414,
    "start_time": "2022-07-21T13:55:46.467Z"
   },
   {
    "duration": 4586,
    "start_time": "2022-07-21T13:55:47.882Z"
   },
   {
    "duration": 5147,
    "start_time": "2022-07-21T13:56:06.104Z"
   },
   {
    "duration": 1690,
    "start_time": "2022-07-21T13:56:31.870Z"
   },
   {
    "duration": 13,
    "start_time": "2022-07-21T13:56:33.565Z"
   },
   {
    "duration": 147,
    "start_time": "2022-07-21T13:56:33.586Z"
   },
   {
    "duration": 6,
    "start_time": "2022-07-21T13:56:33.734Z"
   },
   {
    "duration": 96,
    "start_time": "2022-07-21T13:56:33.742Z"
   },
   {
    "duration": 34,
    "start_time": "2022-07-21T13:56:33.840Z"
   },
   {
    "duration": 4149,
    "start_time": "2022-07-21T13:56:33.879Z"
   },
   {
    "duration": 2044,
    "start_time": "2022-07-21T13:56:38.030Z"
   },
   {
    "duration": 16,
    "start_time": "2022-07-21T13:56:40.077Z"
   },
   {
    "duration": 22,
    "start_time": "2022-07-21T13:56:40.095Z"
   },
   {
    "duration": 421,
    "start_time": "2022-07-21T13:56:40.119Z"
   },
   {
    "duration": 20,
    "start_time": "2022-07-21T13:56:40.545Z"
   },
   {
    "duration": 6868,
    "start_time": "2022-07-21T13:56:40.567Z"
   },
   {
    "duration": 1612,
    "start_time": "2022-07-21T13:56:47.438Z"
   },
   {
    "duration": 4242,
    "start_time": "2022-07-21T13:56:49.052Z"
   },
   {
    "duration": 4388,
    "start_time": "2022-07-21T13:58:18.121Z"
   },
   {
    "duration": 4099,
    "start_time": "2022-07-21T13:59:06.970Z"
   },
   {
    "duration": 4232,
    "start_time": "2022-07-21T13:59:38.393Z"
   },
   {
    "duration": 4825,
    "start_time": "2022-07-21T14:00:24.887Z"
   },
   {
    "duration": 4869,
    "start_time": "2022-07-21T14:00:35.793Z"
   },
   {
    "duration": 3421,
    "start_time": "2022-07-21T14:02:00.882Z"
   },
   {
    "duration": 4907,
    "start_time": "2022-07-21T14:02:07.506Z"
   },
   {
    "duration": 4798,
    "start_time": "2022-07-21T14:02:31.271Z"
   },
   {
    "duration": 4386,
    "start_time": "2022-07-21T14:02:46.410Z"
   },
   {
    "duration": 5274,
    "start_time": "2022-07-21T14:03:00.801Z"
   },
   {
    "duration": 5148,
    "start_time": "2022-07-21T14:03:12.016Z"
   },
   {
    "duration": 8246,
    "start_time": "2022-07-21T14:06:14.082Z"
   },
   {
    "duration": 1544,
    "start_time": "2022-07-21T14:06:50.642Z"
   },
   {
    "duration": 13,
    "start_time": "2022-07-21T14:06:52.188Z"
   },
   {
    "duration": 122,
    "start_time": "2022-07-21T14:06:52.203Z"
   },
   {
    "duration": 5,
    "start_time": "2022-07-21T14:06:52.327Z"
   },
   {
    "duration": 63,
    "start_time": "2022-07-21T14:06:52.333Z"
   },
   {
    "duration": 18,
    "start_time": "2022-07-21T14:06:52.398Z"
   },
   {
    "duration": 7426,
    "start_time": "2022-07-21T14:06:52.418Z"
   },
   {
    "duration": 1854,
    "start_time": "2022-07-21T14:06:59.846Z"
   },
   {
    "duration": 12,
    "start_time": "2022-07-21T14:07:01.702Z"
   },
   {
    "duration": 23,
    "start_time": "2022-07-21T14:07:01.716Z"
   },
   {
    "duration": 512,
    "start_time": "2022-07-21T14:07:01.741Z"
   },
   {
    "duration": 10,
    "start_time": "2022-07-21T14:07:02.255Z"
   },
   {
    "duration": 6097,
    "start_time": "2022-07-21T14:07:02.267Z"
   },
   {
    "duration": 1432,
    "start_time": "2022-07-21T14:07:08.367Z"
   },
   {
    "duration": 6934,
    "start_time": "2022-07-21T14:07:09.800Z"
   },
   {
    "duration": 1780,
    "start_time": "2022-07-21T14:21:30.739Z"
   },
   {
    "duration": 2983,
    "start_time": "2022-07-21T14:22:15.219Z"
   },
   {
    "duration": 6,
    "start_time": "2022-07-21T14:22:18.204Z"
   },
   {
    "duration": 93,
    "start_time": "2022-07-21T14:22:18.212Z"
   },
   {
    "duration": 5,
    "start_time": "2022-07-21T14:22:18.307Z"
   },
   {
    "duration": 62,
    "start_time": "2022-07-21T14:22:18.313Z"
   },
   {
    "duration": 16,
    "start_time": "2022-07-21T14:22:18.379Z"
   },
   {
    "duration": 6920,
    "start_time": "2022-07-21T14:22:18.396Z"
   },
   {
    "duration": 1610,
    "start_time": "2022-07-21T14:22:25.318Z"
   },
   {
    "duration": 22,
    "start_time": "2022-07-21T14:22:26.929Z"
   },
   {
    "duration": 35,
    "start_time": "2022-07-21T14:22:26.954Z"
   },
   {
    "duration": 366,
    "start_time": "2022-07-21T14:22:26.991Z"
   },
   {
    "duration": 21,
    "start_time": "2022-07-21T14:22:27.363Z"
   },
   {
    "duration": 5727,
    "start_time": "2022-07-21T14:22:27.386Z"
   },
   {
    "duration": 1265,
    "start_time": "2022-07-21T14:22:33.115Z"
   },
   {
    "duration": 1849,
    "start_time": "2022-07-21T14:22:34.381Z"
   },
   {
    "duration": 21,
    "start_time": "2022-07-21T14:23:30.918Z"
   },
   {
    "duration": 2240,
    "start_time": "2022-07-21T14:23:48.544Z"
   },
   {
    "duration": 1801,
    "start_time": "2022-07-21T14:24:20.499Z"
   },
   {
    "duration": 2204,
    "start_time": "2022-07-21T14:27:34.173Z"
   },
   {
    "duration": 21,
    "start_time": "2022-07-21T14:48:35.788Z"
   },
   {
    "duration": 2212,
    "start_time": "2022-07-21T14:49:23.153Z"
   },
   {
    "duration": 203,
    "start_time": "2022-07-21T15:05:11.812Z"
   },
   {
    "duration": 11,
    "start_time": "2022-07-21T15:05:21.403Z"
   },
   {
    "duration": 238,
    "start_time": "2022-07-21T15:05:31.023Z"
   },
   {
    "duration": 126,
    "start_time": "2022-07-21T15:05:48.613Z"
   },
   {
    "duration": 1831,
    "start_time": "2022-07-21T17:27:41.480Z"
   },
   {
    "duration": 4,
    "start_time": "2022-07-21T17:27:43.313Z"
   },
   {
    "duration": 118,
    "start_time": "2022-07-21T17:27:43.319Z"
   },
   {
    "duration": 4,
    "start_time": "2022-07-21T17:27:43.439Z"
   },
   {
    "duration": 47,
    "start_time": "2022-07-21T17:27:43.445Z"
   },
   {
    "duration": 27,
    "start_time": "2022-07-21T17:27:43.494Z"
   },
   {
    "duration": 6469,
    "start_time": "2022-07-21T17:27:43.523Z"
   },
   {
    "duration": 1576,
    "start_time": "2022-07-21T17:27:49.994Z"
   },
   {
    "duration": 11,
    "start_time": "2022-07-21T17:27:51.572Z"
   },
   {
    "duration": 7,
    "start_time": "2022-07-21T17:27:51.586Z"
   },
   {
    "duration": 366,
    "start_time": "2022-07-21T17:27:51.594Z"
   },
   {
    "duration": 7,
    "start_time": "2022-07-21T17:27:51.962Z"
   },
   {
    "duration": 5063,
    "start_time": "2022-07-21T17:27:51.970Z"
   },
   {
    "duration": 1540,
    "start_time": "2022-07-21T17:27:57.035Z"
   },
   {
    "duration": 247,
    "start_time": "2022-07-21T17:27:58.576Z"
   },
   {
    "duration": 128,
    "start_time": "2022-07-21T19:30:05.987Z"
   },
   {
    "duration": 16,
    "start_time": "2022-07-21T19:30:20.804Z"
   },
   {
    "duration": 7,
    "start_time": "2022-07-21T19:31:01.955Z"
   },
   {
    "duration": 147,
    "start_time": "2022-07-21T19:31:53.645Z"
   },
   {
    "duration": 6694,
    "start_time": "2022-07-21T20:03:30.716Z"
   },
   {
    "duration": 6621,
    "start_time": "2022-07-21T20:04:31.573Z"
   },
   {
    "duration": 6638,
    "start_time": "2022-07-21T20:05:19.900Z"
   },
   {
    "duration": 6561,
    "start_time": "2022-07-21T20:05:35.369Z"
   },
   {
    "duration": 6533,
    "start_time": "2022-07-21T20:05:52.242Z"
   },
   {
    "duration": 1254,
    "start_time": "2022-07-21T20:07:33.699Z"
   },
   {
    "duration": 1085,
    "start_time": "2022-07-21T20:07:49.433Z"
   },
   {
    "duration": 1307,
    "start_time": "2022-07-21T20:08:01.519Z"
   },
   {
    "duration": 4,
    "start_time": "2022-07-21T20:08:02.828Z"
   },
   {
    "duration": 77,
    "start_time": "2022-07-21T20:08:02.834Z"
   },
   {
    "duration": 4,
    "start_time": "2022-07-21T20:08:02.913Z"
   },
   {
    "duration": 59,
    "start_time": "2022-07-21T20:08:02.918Z"
   },
   {
    "duration": 15,
    "start_time": "2022-07-21T20:08:02.978Z"
   },
   {
    "duration": 6806,
    "start_time": "2022-07-21T20:08:02.994Z"
   },
   {
    "duration": 1623,
    "start_time": "2022-07-21T20:08:09.802Z"
   },
   {
    "duration": 11,
    "start_time": "2022-07-21T20:08:11.427Z"
   },
   {
    "duration": 13,
    "start_time": "2022-07-21T20:08:11.441Z"
   },
   {
    "duration": 373,
    "start_time": "2022-07-21T20:08:11.463Z"
   },
   {
    "duration": 7,
    "start_time": "2022-07-21T20:08:11.837Z"
   },
   {
    "duration": 5453,
    "start_time": "2022-07-21T20:08:11.845Z"
   },
   {
    "duration": 1190,
    "start_time": "2022-07-21T20:08:17.300Z"
   },
   {
    "duration": 1268,
    "start_time": "2022-07-21T20:08:18.492Z"
   },
   {
    "duration": 6893,
    "start_time": "2022-07-21T20:08:54.638Z"
   },
   {
    "duration": 2220,
    "start_time": "2022-07-21T20:10:03.011Z"
   },
   {
    "duration": 1442,
    "start_time": "2022-07-21T20:10:29.531Z"
   },
   {
    "duration": 1119,
    "start_time": "2022-07-21T20:10:48.590Z"
   },
   {
    "duration": 1280,
    "start_time": "2022-07-21T20:10:55.002Z"
   },
   {
    "duration": 2236,
    "start_time": "2022-07-21T20:11:12.262Z"
   },
   {
    "duration": 6576,
    "start_time": "2022-07-21T20:11:51.264Z"
   },
   {
    "duration": 1545,
    "start_time": "2022-07-22T05:17:52.009Z"
   },
   {
    "duration": 4,
    "start_time": "2022-07-22T05:17:53.556Z"
   },
   {
    "duration": 100,
    "start_time": "2022-07-22T05:17:53.563Z"
   },
   {
    "duration": 5,
    "start_time": "2022-07-22T05:17:53.665Z"
   },
   {
    "duration": 45,
    "start_time": "2022-07-22T05:17:53.671Z"
   },
   {
    "duration": 14,
    "start_time": "2022-07-22T05:17:53.718Z"
   },
   {
    "duration": 6267,
    "start_time": "2022-07-22T05:17:53.733Z"
   },
   {
    "duration": 1598,
    "start_time": "2022-07-22T05:18:00.002Z"
   },
   {
    "duration": 13,
    "start_time": "2022-07-22T05:18:01.602Z"
   },
   {
    "duration": 16,
    "start_time": "2022-07-22T05:18:01.617Z"
   },
   {
    "duration": 361,
    "start_time": "2022-07-22T05:18:01.635Z"
   },
   {
    "duration": 7,
    "start_time": "2022-07-22T05:18:01.998Z"
   },
   {
    "duration": 5136,
    "start_time": "2022-07-22T05:18:02.007Z"
   },
   {
    "duration": 1535,
    "start_time": "2022-07-22T05:18:07.145Z"
   },
   {
    "duration": 6350,
    "start_time": "2022-07-22T05:18:08.682Z"
   },
   {
    "duration": 117,
    "start_time": "2022-07-22T05:19:01.901Z"
   },
   {
    "duration": 111,
    "start_time": "2022-07-22T05:19:44.800Z"
   },
   {
    "duration": 555,
    "start_time": "2022-07-22T05:20:17.287Z"
   },
   {
    "duration": 11,
    "start_time": "2022-07-22T05:24:56.871Z"
   },
   {
    "duration": 9,
    "start_time": "2022-07-22T05:26:35.217Z"
   },
   {
    "duration": 128,
    "start_time": "2022-07-22T05:26:55.514Z"
   },
   {
    "duration": 12,
    "start_time": "2022-07-22T05:29:00.266Z"
   },
   {
    "duration": 1354,
    "start_time": "2022-07-22T05:36:43.717Z"
   },
   {
    "duration": 4,
    "start_time": "2022-07-22T05:36:45.073Z"
   },
   {
    "duration": 70,
    "start_time": "2022-07-22T05:36:45.079Z"
   },
   {
    "duration": 5,
    "start_time": "2022-07-22T05:36:45.151Z"
   },
   {
    "duration": 49,
    "start_time": "2022-07-22T05:36:45.158Z"
   },
   {
    "duration": 25,
    "start_time": "2022-07-22T05:36:45.209Z"
   },
   {
    "duration": 6365,
    "start_time": "2022-07-22T05:36:45.235Z"
   },
   {
    "duration": 1696,
    "start_time": "2022-07-22T05:36:51.601Z"
   },
   {
    "duration": 12,
    "start_time": "2022-07-22T05:36:53.298Z"
   },
   {
    "duration": 7,
    "start_time": "2022-07-22T05:36:53.312Z"
   },
   {
    "duration": 366,
    "start_time": "2022-07-22T05:36:53.320Z"
   },
   {
    "duration": 7,
    "start_time": "2022-07-22T05:36:53.687Z"
   },
   {
    "duration": 5157,
    "start_time": "2022-07-22T05:36:53.695Z"
   },
   {
    "duration": 1423,
    "start_time": "2022-07-22T05:36:58.853Z"
   },
   {
    "duration": 6446,
    "start_time": "2022-07-22T05:37:00.277Z"
   },
   {
    "duration": 100,
    "start_time": "2022-07-22T05:37:06.725Z"
   },
   {
    "duration": 434,
    "start_time": "2022-07-22T05:38:16.108Z"
   },
   {
    "duration": 336,
    "start_time": "2022-07-22T05:38:37.249Z"
   },
   {
    "duration": 357,
    "start_time": "2022-07-22T05:38:47.607Z"
   },
   {
    "duration": 1809,
    "start_time": "2022-07-22T05:40:02.868Z"
   },
   {
    "duration": 14,
    "start_time": "2022-07-22T05:40:22.109Z"
   },
   {
    "duration": 3411,
    "start_time": "2022-07-22T05:41:31.741Z"
   },
   {
    "duration": 2807,
    "start_time": "2022-07-22T05:41:54.059Z"
   },
   {
    "duration": 2267,
    "start_time": "2022-07-22T05:43:25.898Z"
   },
   {
    "duration": 3549,
    "start_time": "2022-07-22T05:43:45.641Z"
   },
   {
    "duration": 1305,
    "start_time": "2022-07-22T05:43:59.140Z"
   },
   {
    "duration": 1321,
    "start_time": "2022-07-22T05:44:09.599Z"
   },
   {
    "duration": 5468,
    "start_time": "2022-07-22T05:44:21.429Z"
   },
   {
    "duration": 1314,
    "start_time": "2022-07-22T05:48:43.513Z"
   },
   {
    "duration": 5,
    "start_time": "2022-07-22T05:48:44.829Z"
   },
   {
    "duration": 103,
    "start_time": "2022-07-22T05:48:44.836Z"
   },
   {
    "duration": 5,
    "start_time": "2022-07-22T05:48:44.941Z"
   },
   {
    "duration": 56,
    "start_time": "2022-07-22T05:48:44.948Z"
   },
   {
    "duration": 12,
    "start_time": "2022-07-22T05:48:45.006Z"
   },
   {
    "duration": 6464,
    "start_time": "2022-07-22T05:48:45.020Z"
   },
   {
    "duration": 1738,
    "start_time": "2022-07-22T05:48:51.485Z"
   },
   {
    "duration": 12,
    "start_time": "2022-07-22T05:48:53.225Z"
   },
   {
    "duration": 10,
    "start_time": "2022-07-22T05:48:53.239Z"
   },
   {
    "duration": 357,
    "start_time": "2022-07-22T05:48:53.250Z"
   },
   {
    "duration": 7,
    "start_time": "2022-07-22T05:48:53.609Z"
   },
   {
    "duration": 5228,
    "start_time": "2022-07-22T05:48:53.617Z"
   },
   {
    "duration": 1445,
    "start_time": "2022-07-22T05:48:58.847Z"
   },
   {
    "duration": 6515,
    "start_time": "2022-07-22T05:49:00.293Z"
   },
   {
    "duration": 373,
    "start_time": "2022-07-22T05:49:06.809Z"
   },
   {
    "duration": 5455,
    "start_time": "2022-07-22T05:49:07.183Z"
   },
   {
    "duration": 4346,
    "start_time": "2022-07-22T05:57:45.895Z"
   },
   {
    "duration": 5474,
    "start_time": "2022-07-22T05:58:17.126Z"
   },
   {
    "duration": 334,
    "start_time": "2022-07-22T06:10:59.354Z"
   },
   {
    "duration": 5844,
    "start_time": "2022-07-22T06:43:11.199Z"
   },
   {
    "duration": 1444,
    "start_time": "2022-07-22T06:43:46.336Z"
   },
   {
    "duration": 4,
    "start_time": "2022-07-22T06:43:47.783Z"
   },
   {
    "duration": 79,
    "start_time": "2022-07-22T06:43:47.789Z"
   },
   {
    "duration": 12,
    "start_time": "2022-07-22T06:43:47.870Z"
   },
   {
    "duration": 51,
    "start_time": "2022-07-22T06:43:47.883Z"
   },
   {
    "duration": 12,
    "start_time": "2022-07-22T06:43:47.936Z"
   },
   {
    "duration": 7438,
    "start_time": "2022-07-22T06:43:47.950Z"
   },
   {
    "duration": 1746,
    "start_time": "2022-07-22T06:43:55.390Z"
   },
   {
    "duration": 12,
    "start_time": "2022-07-22T06:43:57.137Z"
   },
   {
    "duration": 11,
    "start_time": "2022-07-22T06:43:57.163Z"
   },
   {
    "duration": 406,
    "start_time": "2022-07-22T06:43:57.176Z"
   },
   {
    "duration": 9,
    "start_time": "2022-07-22T06:43:57.585Z"
   },
   {
    "duration": 5942,
    "start_time": "2022-07-22T06:43:57.596Z"
   },
   {
    "duration": 1248,
    "start_time": "2022-07-22T06:44:03.539Z"
   },
   {
    "duration": 6098,
    "start_time": "2022-07-22T06:44:04.789Z"
   },
   {
    "duration": 388,
    "start_time": "2022-07-22T06:44:10.890Z"
   },
   {
    "duration": 5430,
    "start_time": "2022-07-22T06:45:18.629Z"
   },
   {
    "duration": 16,
    "start_time": "2022-07-22T07:47:22.613Z"
   },
   {
    "duration": 15,
    "start_time": "2022-07-22T07:48:59.186Z"
   },
   {
    "duration": 435,
    "start_time": "2022-07-22T07:49:51.190Z"
   },
   {
    "duration": 260,
    "start_time": "2022-07-22T07:50:24.887Z"
   },
   {
    "duration": 290,
    "start_time": "2022-07-22T07:50:55.897Z"
   },
   {
    "duration": 6410,
    "start_time": "2022-07-22T07:54:10.828Z"
   },
   {
    "duration": 6244,
    "start_time": "2022-07-22T07:54:30.199Z"
   },
   {
    "duration": 5931,
    "start_time": "2022-07-22T07:54:51.420Z"
   },
   {
    "duration": 5888,
    "start_time": "2022-07-22T07:55:10.683Z"
   },
   {
    "duration": 314,
    "start_time": "2022-07-22T07:55:43.628Z"
   },
   {
    "duration": 1488,
    "start_time": "2022-07-22T08:15:51.951Z"
   },
   {
    "duration": 4,
    "start_time": "2022-07-22T08:15:53.441Z"
   },
   {
    "duration": 87,
    "start_time": "2022-07-22T08:15:53.446Z"
   },
   {
    "duration": 5,
    "start_time": "2022-07-22T08:15:53.535Z"
   },
   {
    "duration": 52,
    "start_time": "2022-07-22T08:15:53.542Z"
   },
   {
    "duration": 13,
    "start_time": "2022-07-22T08:15:53.596Z"
   },
   {
    "duration": 4605,
    "start_time": "2022-07-22T08:15:53.611Z"
   },
   {
    "duration": 2415,
    "start_time": "2022-07-22T08:15:58.218Z"
   },
   {
    "duration": 33,
    "start_time": "2022-07-22T08:16:00.636Z"
   },
   {
    "duration": 33,
    "start_time": "2022-07-22T08:16:00.675Z"
   },
   {
    "duration": 406,
    "start_time": "2022-07-22T08:16:00.710Z"
   },
   {
    "duration": 8,
    "start_time": "2022-07-22T08:16:01.118Z"
   },
   {
    "duration": 5958,
    "start_time": "2022-07-22T08:16:01.128Z"
   },
   {
    "duration": 1099,
    "start_time": "2022-07-22T08:16:07.089Z"
   },
   {
    "duration": 5417,
    "start_time": "2022-07-22T08:16:08.198Z"
   },
   {
    "duration": 308,
    "start_time": "2022-07-22T08:16:13.617Z"
   },
   {
    "duration": 136,
    "start_time": "2022-07-22T09:21:47.819Z"
   }
  ],
  "kernelspec": {
   "display_name": "Python 3 (ipykernel)",
   "language": "python",
   "name": "python3"
  },
  "language_info": {
   "codemirror_mode": {
    "name": "ipython",
    "version": 3
   },
   "file_extension": ".py",
   "mimetype": "text/x-python",
   "name": "python",
   "nbconvert_exporter": "python",
   "pygments_lexer": "ipython3",
   "version": "3.9.12"
  },
  "toc": {
   "base_numbering": 1,
   "nav_menu": {},
   "number_sections": true,
   "sideBar": true,
   "skip_h1_title": true,
   "title_cell": "Table of Contents",
   "title_sidebar": "Contents",
   "toc_cell": false,
   "toc_position": {
    "height": "calc(100% - 180px)",
    "left": "10px",
    "top": "150px",
    "width": "165px"
   },
   "toc_section_display": true,
   "toc_window_display": true
  }
 },
 "nbformat": 4,
 "nbformat_minor": 2
}
